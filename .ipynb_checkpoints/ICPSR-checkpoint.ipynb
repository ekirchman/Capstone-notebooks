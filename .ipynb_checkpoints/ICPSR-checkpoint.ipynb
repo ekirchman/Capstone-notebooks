{
 "cells": [
  {
   "cell_type": "markdown",
   "id": "e0769809-0786-4e14-a454-130eb06e151a",
   "metadata": {},
   "source": [
    "# South Carolina social survey"
   ]
  },
  {
   "cell_type": "code",
   "execution_count": 1,
   "id": "0be5174b-f739-44a1-b5a0-239c4c9c3f5b",
   "metadata": {},
   "outputs": [
    {
     "data": {
      "text/html": [
       "<div>\n",
       "<style scoped>\n",
       "    .dataframe tbody tr th:only-of-type {\n",
       "        vertical-align: middle;\n",
       "    }\n",
       "\n",
       "    .dataframe tbody tr th {\n",
       "        vertical-align: top;\n",
       "    }\n",
       "\n",
       "    .dataframe thead th {\n",
       "        text-align: right;\n",
       "    }\n",
       "</style>\n",
       "<table border=\"1\" class=\"dataframe\">\n",
       "  <thead>\n",
       "    <tr style=\"text-align: right;\">\n",
       "      <th></th>\n",
       "      <th>RESPNUM</th>\n",
       "      <th>Q1</th>\n",
       "      <th>Q2</th>\n",
       "      <th>Q3</th>\n",
       "      <th>Q4</th>\n",
       "      <th>Q5</th>\n",
       "      <th>Q6</th>\n",
       "      <th>Q7</th>\n",
       "      <th>Q8</th>\n",
       "      <th>Q9</th>\n",
       "      <th>...</th>\n",
       "      <th>Q2_W3</th>\n",
       "      <th>Q4_W3</th>\n",
       "      <th>Q6_W3</th>\n",
       "      <th>Q7_W3</th>\n",
       "      <th>Q8A_W3</th>\n",
       "      <th>Q13_W3</th>\n",
       "      <th>Q14_W3</th>\n",
       "      <th>Q17_W3</th>\n",
       "      <th>Q18_W3</th>\n",
       "      <th>DATE_W3</th>\n",
       "    </tr>\n",
       "  </thead>\n",
       "  <tbody>\n",
       "    <tr>\n",
       "      <th>0</th>\n",
       "      <td>230.0</td>\n",
       "      <td>SOMEWHAT FAIR</td>\n",
       "      <td>SOMEWHAT FAIR</td>\n",
       "      <td>SOMEWHAT EFFECTIVE</td>\n",
       "      <td>SOMEWHAT FAIR</td>\n",
       "      <td>SOME RESPECT</td>\n",
       "      <td>SOMEWHAT TRUSTWORTHY</td>\n",
       "      <td>SOMEWHAT KNOWLEDGEABLE</td>\n",
       "      <td>VERY LEGITIMATE</td>\n",
       "      <td>VERY CONCERNED</td>\n",
       "      <td>...</td>\n",
       "      <td>NaN</td>\n",
       "      <td>NaN</td>\n",
       "      <td>NaN</td>\n",
       "      <td>NaN</td>\n",
       "      <td>NaN</td>\n",
       "      <td>NaN</td>\n",
       "      <td>NaN</td>\n",
       "      <td>NaN</td>\n",
       "      <td>NaN</td>\n",
       "      <td>NaN</td>\n",
       "    </tr>\n",
       "    <tr>\n",
       "      <th>1</th>\n",
       "      <td>916.0</td>\n",
       "      <td>DO NOT KNOW</td>\n",
       "      <td>DO NOT KNOW</td>\n",
       "      <td>NOT AT ALL EFFECTIVE</td>\n",
       "      <td>VERY UNFAIR</td>\n",
       "      <td>NOT TOO MUCH RESPECT</td>\n",
       "      <td>NOT TOO TRUSTWORTHY</td>\n",
       "      <td>SOMEWHAT KNOWLEDGEABLE</td>\n",
       "      <td>NOT TOO LEGITIMATE</td>\n",
       "      <td>SOMEWHAT CONCERNED</td>\n",
       "      <td>...</td>\n",
       "      <td>NaN</td>\n",
       "      <td>NaN</td>\n",
       "      <td>NaN</td>\n",
       "      <td>NaN</td>\n",
       "      <td>NaN</td>\n",
       "      <td>NaN</td>\n",
       "      <td>NaN</td>\n",
       "      <td>NaN</td>\n",
       "      <td>NaN</td>\n",
       "      <td>NaN</td>\n",
       "    </tr>\n",
       "    <tr>\n",
       "      <th>2</th>\n",
       "      <td>353.0</td>\n",
       "      <td>SOMEWHAT FAIR</td>\n",
       "      <td>VERY FAIR</td>\n",
       "      <td>NOT TOO EFFECTIVE</td>\n",
       "      <td>SOMEWHAT FAIR</td>\n",
       "      <td>SOME RESPECT</td>\n",
       "      <td>VERY TRUSTWORTHY</td>\n",
       "      <td>VERY KNOWLEDGEABLE</td>\n",
       "      <td>VERY LEGITIMATE</td>\n",
       "      <td>NOT AT ALL CONCERNED</td>\n",
       "      <td>...</td>\n",
       "      <td>NaN</td>\n",
       "      <td>NaN</td>\n",
       "      <td>NaN</td>\n",
       "      <td>NaN</td>\n",
       "      <td>NaN</td>\n",
       "      <td>NaN</td>\n",
       "      <td>NaN</td>\n",
       "      <td>NaN</td>\n",
       "      <td>NaN</td>\n",
       "      <td>NaN</td>\n",
       "    </tr>\n",
       "    <tr>\n",
       "      <th>3</th>\n",
       "      <td>466.0</td>\n",
       "      <td>SOMEWHAT FAIR</td>\n",
       "      <td>VERY FAIR</td>\n",
       "      <td>NOT TOO EFFECTIVE</td>\n",
       "      <td>SOMEWHAT UNFAIR</td>\n",
       "      <td>NOT TOO MUCH RESPECT</td>\n",
       "      <td>NOT TOO TRUSTWORTHY</td>\n",
       "      <td>SOMEWHAT KNOWLEDGEABLE</td>\n",
       "      <td>SOMEWHAT LEGITIMATE</td>\n",
       "      <td>VERY CONCERNED</td>\n",
       "      <td>...</td>\n",
       "      <td>NaN</td>\n",
       "      <td>NaN</td>\n",
       "      <td>NaN</td>\n",
       "      <td>NaN</td>\n",
       "      <td>NaN</td>\n",
       "      <td>NaN</td>\n",
       "      <td>NaN</td>\n",
       "      <td>NaN</td>\n",
       "      <td>NaN</td>\n",
       "      <td>NaN</td>\n",
       "    </tr>\n",
       "    <tr>\n",
       "      <th>4</th>\n",
       "      <td>40.0</td>\n",
       "      <td>SOMEWHAT FAIR</td>\n",
       "      <td>SOMEWHAT FAIR</td>\n",
       "      <td>VERY EFFECTIVE</td>\n",
       "      <td>VERY FAIR</td>\n",
       "      <td>SOME RESPECT</td>\n",
       "      <td>SOMEWHAT TRUSTWORTHY</td>\n",
       "      <td>VERY KNOWLEDGEABLE</td>\n",
       "      <td>SOMEWHAT LEGITIMATE</td>\n",
       "      <td>VERY CONCERNED</td>\n",
       "      <td>...</td>\n",
       "      <td>NaN</td>\n",
       "      <td>NaN</td>\n",
       "      <td>NaN</td>\n",
       "      <td>NaN</td>\n",
       "      <td>NaN</td>\n",
       "      <td>NaN</td>\n",
       "      <td>NaN</td>\n",
       "      <td>NaN</td>\n",
       "      <td>NaN</td>\n",
       "      <td>NaN</td>\n",
       "    </tr>\n",
       "    <tr>\n",
       "      <th>...</th>\n",
       "      <td>...</td>\n",
       "      <td>...</td>\n",
       "      <td>...</td>\n",
       "      <td>...</td>\n",
       "      <td>...</td>\n",
       "      <td>...</td>\n",
       "      <td>...</td>\n",
       "      <td>...</td>\n",
       "      <td>...</td>\n",
       "      <td>...</td>\n",
       "      <td>...</td>\n",
       "      <td>...</td>\n",
       "      <td>...</td>\n",
       "      <td>...</td>\n",
       "      <td>...</td>\n",
       "      <td>...</td>\n",
       "      <td>...</td>\n",
       "      <td>...</td>\n",
       "      <td>...</td>\n",
       "      <td>...</td>\n",
       "      <td>...</td>\n",
       "    </tr>\n",
       "    <tr>\n",
       "      <th>601</th>\n",
       "      <td>909.0</td>\n",
       "      <td>VERY UNFAIR</td>\n",
       "      <td>SOMEWHAT FAIR</td>\n",
       "      <td>NOT TOO EFFECTIVE</td>\n",
       "      <td>VERY UNFAIR</td>\n",
       "      <td>NOT TOO MUCH RESPECT</td>\n",
       "      <td>NOT TOO TRUSTWORTHY</td>\n",
       "      <td>NOT TOO KNOWLEDGEABLE</td>\n",
       "      <td>NOT AT ALL LEGITIMATE</td>\n",
       "      <td>VERY CONCERNED</td>\n",
       "      <td>...</td>\n",
       "      <td>SOMEWHAT FAIR</td>\n",
       "      <td>VERY UNFAIR</td>\n",
       "      <td>NOT TOO TRUSTWORTHY</td>\n",
       "      <td>DO NOT KNOW</td>\n",
       "      <td>NOT TOO LEGITIMATE</td>\n",
       "      <td>SOMEWHAT FAVOR</td>\n",
       "      <td>SOMEWHAT IMPORTANT</td>\n",
       "      <td>NONE</td>\n",
       "      <td>ONE OR TWO</td>\n",
       "      <td>20090228.0</td>\n",
       "    </tr>\n",
       "    <tr>\n",
       "      <th>602</th>\n",
       "      <td>837.0</td>\n",
       "      <td>VERY UNFAIR</td>\n",
       "      <td>VERY FAIR</td>\n",
       "      <td>SOMEWHAT EFFECTIVE</td>\n",
       "      <td>SOMEWHAT UNFAIR</td>\n",
       "      <td>SOME RESPECT</td>\n",
       "      <td>SOMEWHAT TRUSTWORTHY</td>\n",
       "      <td>SOMEWHAT KNOWLEDGEABLE</td>\n",
       "      <td>SOMEWHAT LEGITIMATE</td>\n",
       "      <td>VERY CONCERNED</td>\n",
       "      <td>...</td>\n",
       "      <td>SOMEWHAT FAIR</td>\n",
       "      <td>SOMEWHAT UNFAIR</td>\n",
       "      <td>NOT TOO TRUSTWORTHY</td>\n",
       "      <td>SOMEWHAT DISSATISFIED</td>\n",
       "      <td>NOT TOO LEGITIMATE</td>\n",
       "      <td>SOMEWHAT OPPOSE</td>\n",
       "      <td>SOMEWHAT IMPORTANT</td>\n",
       "      <td>MORE THAN FIVE</td>\n",
       "      <td>ONE OR TWO</td>\n",
       "      <td>20090228.0</td>\n",
       "    </tr>\n",
       "    <tr>\n",
       "      <th>603</th>\n",
       "      <td>373.0</td>\n",
       "      <td>SOMEWHAT UNFAIR</td>\n",
       "      <td>SOMEWHAT UNFAIR</td>\n",
       "      <td>SOMEWHAT EFFECTIVE</td>\n",
       "      <td>SOMEWHAT FAIR</td>\n",
       "      <td>NO RESPECT AT ALL</td>\n",
       "      <td>NOT TOO TRUSTWORTHY</td>\n",
       "      <td>NOT TOO KNOWLEDGEABLE</td>\n",
       "      <td>SOMEWHAT LEGITIMATE</td>\n",
       "      <td>VERY CONCERNED</td>\n",
       "      <td>...</td>\n",
       "      <td>SOMEWHAT UNFAIR</td>\n",
       "      <td>SOMEWHAT UNFAIR</td>\n",
       "      <td>NOT AT ALL TRUSTWORTHY</td>\n",
       "      <td>SOMEWHAT DISSATISFIED</td>\n",
       "      <td>NOT TOO LEGITIMATE</td>\n",
       "      <td>STRONGLY OPPOSE</td>\n",
       "      <td>VERY IMPORTANT ISSUE</td>\n",
       "      <td>ONE OR TWO</td>\n",
       "      <td>ONE OR TWO</td>\n",
       "      <td>20090228.0</td>\n",
       "    </tr>\n",
       "    <tr>\n",
       "      <th>604</th>\n",
       "      <td>475.0</td>\n",
       "      <td>VERY UNFAIR</td>\n",
       "      <td>VERY UNFAIR</td>\n",
       "      <td>NOT AT ALL EFFECTIVE</td>\n",
       "      <td>VERY FAIR</td>\n",
       "      <td>NOT TOO MUCH RESPECT</td>\n",
       "      <td>NOT AT ALL TRUSTWORTHY</td>\n",
       "      <td>NOT TOO KNOWLEDGEABLE</td>\n",
       "      <td>NOT TOO LEGITIMATE</td>\n",
       "      <td>VERY CONCERNED</td>\n",
       "      <td>...</td>\n",
       "      <td>VERY UNFAIR</td>\n",
       "      <td>VERY UNFAIR</td>\n",
       "      <td>NOT TOO TRUSTWORTHY</td>\n",
       "      <td>VERY DISSATISFIED</td>\n",
       "      <td>NOT AT ALL LEGITIMATE</td>\n",
       "      <td>STRONGLY OPPOSE</td>\n",
       "      <td>VERY IMPORTANT ISSUE</td>\n",
       "      <td>THREE TO FIVE</td>\n",
       "      <td>ONE OR TWO</td>\n",
       "      <td>20090228.0</td>\n",
       "    </tr>\n",
       "    <tr>\n",
       "      <th>605</th>\n",
       "      <td>701.0</td>\n",
       "      <td>SOMEWHAT FAIR</td>\n",
       "      <td>DO NOT KNOW</td>\n",
       "      <td>SOMEWHAT EFFECTIVE</td>\n",
       "      <td>SOMEWHAT FAIR</td>\n",
       "      <td>SOME RESPECT</td>\n",
       "      <td>SOMEWHAT TRUSTWORTHY</td>\n",
       "      <td>SOMEWHAT KNOWLEDGEABLE</td>\n",
       "      <td>SOMEWHAT LEGITIMATE</td>\n",
       "      <td>VERY CONCERNED</td>\n",
       "      <td>...</td>\n",
       "      <td>SOMEWHAT FAIR</td>\n",
       "      <td>SOMEWHAT FAIR</td>\n",
       "      <td>DO NOT KNOW</td>\n",
       "      <td>SOMEWHAT SATISFIED</td>\n",
       "      <td>SOMEWHAT LEGITIMATE</td>\n",
       "      <td>DO NOT KNOW</td>\n",
       "      <td>SOMEWHAT IMPORTANT</td>\n",
       "      <td>MORE THAN FIVE</td>\n",
       "      <td>THREE TO FIVE</td>\n",
       "      <td>20090228.0</td>\n",
       "    </tr>\n",
       "  </tbody>\n",
       "</table>\n",
       "<p>606 rows × 68 columns</p>\n",
       "</div>"
      ],
      "text/plain": [
       "     RESPNUM               Q1               Q2                    Q3  \\\n",
       "0      230.0    SOMEWHAT FAIR    SOMEWHAT FAIR    SOMEWHAT EFFECTIVE   \n",
       "1      916.0      DO NOT KNOW      DO NOT KNOW  NOT AT ALL EFFECTIVE   \n",
       "2      353.0    SOMEWHAT FAIR        VERY FAIR     NOT TOO EFFECTIVE   \n",
       "3      466.0    SOMEWHAT FAIR        VERY FAIR     NOT TOO EFFECTIVE   \n",
       "4       40.0    SOMEWHAT FAIR    SOMEWHAT FAIR        VERY EFFECTIVE   \n",
       "..       ...              ...              ...                   ...   \n",
       "601    909.0      VERY UNFAIR    SOMEWHAT FAIR     NOT TOO EFFECTIVE   \n",
       "602    837.0      VERY UNFAIR        VERY FAIR    SOMEWHAT EFFECTIVE   \n",
       "603    373.0  SOMEWHAT UNFAIR  SOMEWHAT UNFAIR    SOMEWHAT EFFECTIVE   \n",
       "604    475.0      VERY UNFAIR      VERY UNFAIR  NOT AT ALL EFFECTIVE   \n",
       "605    701.0    SOMEWHAT FAIR      DO NOT KNOW    SOMEWHAT EFFECTIVE   \n",
       "\n",
       "                  Q4                    Q5                      Q6  \\\n",
       "0      SOMEWHAT FAIR          SOME RESPECT    SOMEWHAT TRUSTWORTHY   \n",
       "1        VERY UNFAIR  NOT TOO MUCH RESPECT     NOT TOO TRUSTWORTHY   \n",
       "2      SOMEWHAT FAIR          SOME RESPECT        VERY TRUSTWORTHY   \n",
       "3    SOMEWHAT UNFAIR  NOT TOO MUCH RESPECT     NOT TOO TRUSTWORTHY   \n",
       "4          VERY FAIR          SOME RESPECT    SOMEWHAT TRUSTWORTHY   \n",
       "..               ...                   ...                     ...   \n",
       "601      VERY UNFAIR  NOT TOO MUCH RESPECT     NOT TOO TRUSTWORTHY   \n",
       "602  SOMEWHAT UNFAIR          SOME RESPECT    SOMEWHAT TRUSTWORTHY   \n",
       "603    SOMEWHAT FAIR     NO RESPECT AT ALL     NOT TOO TRUSTWORTHY   \n",
       "604        VERY FAIR  NOT TOO MUCH RESPECT  NOT AT ALL TRUSTWORTHY   \n",
       "605    SOMEWHAT FAIR          SOME RESPECT    SOMEWHAT TRUSTWORTHY   \n",
       "\n",
       "                         Q7                     Q8                    Q9  ...  \\\n",
       "0    SOMEWHAT KNOWLEDGEABLE        VERY LEGITIMATE        VERY CONCERNED  ...   \n",
       "1    SOMEWHAT KNOWLEDGEABLE     NOT TOO LEGITIMATE    SOMEWHAT CONCERNED  ...   \n",
       "2        VERY KNOWLEDGEABLE        VERY LEGITIMATE  NOT AT ALL CONCERNED  ...   \n",
       "3    SOMEWHAT KNOWLEDGEABLE    SOMEWHAT LEGITIMATE        VERY CONCERNED  ...   \n",
       "4        VERY KNOWLEDGEABLE    SOMEWHAT LEGITIMATE        VERY CONCERNED  ...   \n",
       "..                      ...                    ...                   ...  ...   \n",
       "601   NOT TOO KNOWLEDGEABLE  NOT AT ALL LEGITIMATE        VERY CONCERNED  ...   \n",
       "602  SOMEWHAT KNOWLEDGEABLE    SOMEWHAT LEGITIMATE        VERY CONCERNED  ...   \n",
       "603   NOT TOO KNOWLEDGEABLE    SOMEWHAT LEGITIMATE        VERY CONCERNED  ...   \n",
       "604   NOT TOO KNOWLEDGEABLE     NOT TOO LEGITIMATE        VERY CONCERNED  ...   \n",
       "605  SOMEWHAT KNOWLEDGEABLE    SOMEWHAT LEGITIMATE        VERY CONCERNED  ...   \n",
       "\n",
       "               Q2_W3            Q4_W3                   Q6_W3  \\\n",
       "0                NaN              NaN                     NaN   \n",
       "1                NaN              NaN                     NaN   \n",
       "2                NaN              NaN                     NaN   \n",
       "3                NaN              NaN                     NaN   \n",
       "4                NaN              NaN                     NaN   \n",
       "..               ...              ...                     ...   \n",
       "601    SOMEWHAT FAIR      VERY UNFAIR     NOT TOO TRUSTWORTHY   \n",
       "602    SOMEWHAT FAIR  SOMEWHAT UNFAIR     NOT TOO TRUSTWORTHY   \n",
       "603  SOMEWHAT UNFAIR  SOMEWHAT UNFAIR  NOT AT ALL TRUSTWORTHY   \n",
       "604      VERY UNFAIR      VERY UNFAIR     NOT TOO TRUSTWORTHY   \n",
       "605    SOMEWHAT FAIR    SOMEWHAT FAIR             DO NOT KNOW   \n",
       "\n",
       "                     Q7_W3                 Q8A_W3           Q13_W3  \\\n",
       "0                      NaN                    NaN              NaN   \n",
       "1                      NaN                    NaN              NaN   \n",
       "2                      NaN                    NaN              NaN   \n",
       "3                      NaN                    NaN              NaN   \n",
       "4                      NaN                    NaN              NaN   \n",
       "..                     ...                    ...              ...   \n",
       "601            DO NOT KNOW     NOT TOO LEGITIMATE   SOMEWHAT FAVOR   \n",
       "602  SOMEWHAT DISSATISFIED     NOT TOO LEGITIMATE  SOMEWHAT OPPOSE   \n",
       "603  SOMEWHAT DISSATISFIED     NOT TOO LEGITIMATE  STRONGLY OPPOSE   \n",
       "604      VERY DISSATISFIED  NOT AT ALL LEGITIMATE  STRONGLY OPPOSE   \n",
       "605     SOMEWHAT SATISFIED    SOMEWHAT LEGITIMATE      DO NOT KNOW   \n",
       "\n",
       "                   Q14_W3          Q17_W3         Q18_W3     DATE_W3  \n",
       "0                     NaN             NaN            NaN         NaN  \n",
       "1                     NaN             NaN            NaN         NaN  \n",
       "2                     NaN             NaN            NaN         NaN  \n",
       "3                     NaN             NaN            NaN         NaN  \n",
       "4                     NaN             NaN            NaN         NaN  \n",
       "..                    ...             ...            ...         ...  \n",
       "601    SOMEWHAT IMPORTANT            NONE     ONE OR TWO  20090228.0  \n",
       "602    SOMEWHAT IMPORTANT  MORE THAN FIVE     ONE OR TWO  20090228.0  \n",
       "603  VERY IMPORTANT ISSUE      ONE OR TWO     ONE OR TWO  20090228.0  \n",
       "604  VERY IMPORTANT ISSUE   THREE TO FIVE     ONE OR TWO  20090228.0  \n",
       "605    SOMEWHAT IMPORTANT  MORE THAN FIVE  THREE TO FIVE  20090228.0  \n",
       "\n",
       "[606 rows x 68 columns]"
      ]
     },
     "execution_count": 1,
     "metadata": {},
     "output_type": "execute_result"
    }
   ],
   "source": [
    "import pandas as pd\n",
    "import os\n",
    "import pyreadstat\n",
    "os.chdir(\"/home/eric/Nextcloud/Documents/Honors Capstone/nuclear/datasets/ICPSR_34871/DS0001/\")\n",
    "os.listdir(os.getcwd())\n",
    "df_IC, meta = pyreadstat.read_sav(\"34871-0001-Data.sav\", user_missing=True, apply_value_formats=True)\n",
    "df_IC"
   ]
  },
  {
   "cell_type": "code",
   "execution_count": 1,
   "id": "3e8cce87-da28-4cba-af18-decc01117cda",
   "metadata": {},
   "outputs": [
    {
     "name": "stdout",
     "output_type": "stream",
     "text": [
      "\u001b[?2004h@T480:~/Nextcloud/NIU/CSCI/CSCI 490/Assignments/Capstone\u0007\u001b[?2004h[eric@T480 Capstone]$ ^C\u001b[?2004l\n",
      "\u001b[?2004l\n",
      "\u001b]0;eric@T480:~/Nextcloud/NIU/CSCI/CSCI 490/Assignments/Capstone\u0007\u001b[?2004h[eric@T480 Capstone]$ "
     ]
    }
   ],
   "source": [
    "!bash"
   ]
  },
  {
   "cell_type": "code",
   "execution_count": 17,
   "id": "f634aa49-bca3-4288-9aba-f9608edcd310",
   "metadata": {},
   "outputs": [
    {
     "name": "stdout",
     "output_type": "stream",
     "text": [
      "Q1: SHARE BENEFITS OF NUCLEAR POWER IN SC\n",
      "Q2: SHARE RISKS OF NUCLEAR POWER IN SC\n",
      "Q8: PUBLIC HEARINGS LEGITIMATE FOR DECIDING WHETHER TO EXPAND NUCLEAR POWER PLANTS\n",
      "Q9: HOW CONCERNED ABOUT SAFETY OF NUCLEAR POWER\n",
      "Q12: HOW EXPENSIVE NUCLEAR ENERGY FOR ELECTRICITY\n",
      "Q13: FAVOR OR OPPOSE EXPANDING NUCLEAR PLANT IN THE MIDLANDS OF SC\n",
      "Q14: HOW IMPORTANT IS EXPANDING NUCLEAR POWER PLANTS IN SC\n",
      "Q16: HOW MUCH HEARD ABOUT EXPANDING NUCLEAR POWER IN SC\n",
      "Q1_W2: SHARE BENEFITS OF NUCLEAR POWER IN SC\n",
      "Q2_W2: SHARE RISKS OF NUCLEAR POWER IN SC\n",
      "Q7_W2: SATISIFIED WITH PUBLIC HEARING AS WAY TO DECIDED ABOUT # OF NUCLEAR PLANTS IN SC\n",
      "Q8A_W2: PUBLIC HEARINGS ARE LEGITIMATE FOR DECIDING ABOUT # OF NUCLEAR PLANTS IN SC\n",
      "Q8B_W2: TRUSTWORTHINESS OF ENERGY COMPANIES IN NUCLEAR POWER ISSUE\n",
      "Q9_W2: HOW CONCERNED ABOUT SAFETY OF NUCLEAR POWER\n",
      "Q10_W2: HOW CONCERNED ABOUT ENVIRONMENTAL IMPART OF NUCLEAR POWER\n",
      "Q12_W2: HOW EXPENSIVE NUCLEAR ENERGY FOR ELECTRICITY\n",
      "Q13_W2: FAVOR OR OPPOSE EXPANDING NUCLEAR PLANT IN THE MIDLANDS OF SC\n",
      "Q14_W2: HOW IMPORTANT IS EXPANDING NUCLEAR POWER PLANTS IN SC\n",
      "Q16_W2: PUBLIC SERVICE COMMISSION WILL ACCEPT OR REJECT PROPASAL TO EXPAND NUCLEAR PLANTS IN SC\n",
      "Q18_W2: HOW MANY FAMILY OR FRIENDS HAVE YOU TALKED TO ABOUT EXPANSION OF NUCLEAR PLANTS IN SC\n",
      "Q1_W3: SHARE BENEFITS OF NUCLEAR POWER IN SC\n",
      "Q2_W3: SHARE RISKS OF NUCLEAR POWER IN SC\n",
      "Q7_W3: SATISIFIED WITH PUBLIC HEARING AS WAY TO DECIDED ABOUT # OF NUCLEAR PLANTS IN SC\n",
      "Q8A_W3: PUBLIC HEARINGS ARE LEGITIMATE FOR DECIDING ABOUT # OF NUCLEAR PLANTS IN SC\n",
      "Q13_W3: FAVOR OR OPPOSE EXPANDING NUCLEAR PLANT IN THE MIDLANDS OF SC\n",
      "Q14_W3: HOW IMPORTANT IS EXPANDING NUCLEAR POWER PLANTS IN SC\n",
      "Q18_W3: HOW MANY FAMILY OR FRIENDS HAVE YOU TALKED TO ABOUT EXPANSION OF NUCLEAR PLANTS IN SC\n"
     ]
    }
   ],
   "source": [
    "df_names = pd.read_csv(\"output_file.csv\",  encoding = 'unicode_escape', engine ='python')\n",
    "for col in df_names.columns:\n",
    "    if \"nuclear\" in col.lower():\n",
    "        print(col)"
   ]
  },
  {
   "cell_type": "code",
   "execution_count": 30,
   "id": "5723bd82-558e-440e-be42-b52c3759bc57",
   "metadata": {},
   "outputs": [
    {
     "data": {
      "application/vnd.plotly.v1+json": {
       "config": {
        "plotlyServerURL": "https://plot.ly"
       },
       "data": [
        {
         "alignmentgroup": "True",
         "bingroup": "x",
         "hovertemplate": "Q13=SOMEWHAT FAVOR<br>Q11=%{x}<br>count=%{y}<extra></extra>",
         "legendgroup": "SOMEWHAT FAVOR",
         "marker": {
          "color": "#636efa",
          "pattern": {
           "shape": ""
          }
         },
         "name": "SOMEWHAT FAVOR",
         "offsetgroup": "SOMEWHAT FAVOR",
         "orientation": "v",
         "showlegend": true,
         "type": "histogram",
         "x": [
          "VERY CONCERNED",
          "VERY CONCERNED",
          "VERY CONCERNED",
          "VERY CONCERNED",
          "VERY CONCERNED",
          "SOMEWHAT CONCERNED",
          "VERY CONCERNED",
          "VERY CONCERNED",
          "VERY CONCERNED",
          "SOMEWHAT CONCERNED",
          "SOMEWHAT CONCERNED",
          "VERY CONCERNED",
          "NOT TOO CONCERNED",
          "VERY CONCERNED",
          "VERY CONCERNED",
          "SOMEWHAT CONCERNED",
          "VERY CONCERNED",
          "VERY CONCERNED",
          "VERY CONCERNED",
          "VERY CONCERNED",
          "VERY CONCERNED",
          "SOMEWHAT CONCERNED",
          "VERY CONCERNED",
          "VERY CONCERNED",
          "VERY CONCERNED",
          "NOT TOO CONCERNED",
          "VERY CONCERNED",
          "VERY CONCERNED",
          "VERY CONCERNED",
          "VERY CONCERNED",
          "VERY CONCERNED",
          "VERY CONCERNED",
          "VERY CONCERNED",
          "VERY CONCERNED",
          "VERY CONCERNED",
          "VERY CONCERNED",
          "VERY CONCERNED",
          "VERY CONCERNED",
          "VERY CONCERNED",
          "VERY CONCERNED",
          "VERY CONCERNED",
          "NOT AT ALL CONCERNED",
          "SOMEWHAT CONCERNED",
          "SOMEWHAT CONCERNED",
          "SOMEWHAT CONCERNED",
          "NOT TOO CONCERNED",
          "VERY CONCERNED",
          "SOMEWHAT CONCERNED",
          "VERY CONCERNED",
          "SOMEWHAT CONCERNED",
          "VERY CONCERNED",
          "SOMEWHAT CONCERNED",
          "VERY CONCERNED",
          "SOMEWHAT CONCERNED",
          "VERY CONCERNED",
          "SOMEWHAT CONCERNED",
          "VERY CONCERNED",
          "VERY CONCERNED",
          "VERY CONCERNED",
          "VERY CONCERNED",
          "VERY CONCERNED",
          "SOMEWHAT CONCERNED",
          "SOMEWHAT CONCERNED",
          "VERY CONCERNED",
          "SOMEWHAT CONCERNED",
          "DO NOT KNOW",
          "SOMEWHAT CONCERNED",
          "VERY CONCERNED",
          "VERY CONCERNED",
          "SOMEWHAT CONCERNED",
          "VERY CONCERNED",
          "VERY CONCERNED",
          "VERY CONCERNED",
          "VERY CONCERNED",
          "SOMEWHAT CONCERNED",
          "VERY CONCERNED",
          "SOMEWHAT CONCERNED",
          "SOMEWHAT CONCERNED",
          "VERY CONCERNED",
          "VERY CONCERNED",
          "SOMEWHAT CONCERNED",
          "VERY CONCERNED",
          "VERY CONCERNED",
          "VERY CONCERNED",
          "VERY CONCERNED",
          "VERY CONCERNED",
          "VERY CONCERNED",
          "VERY CONCERNED",
          "SOMEWHAT CONCERNED",
          "VERY CONCERNED",
          "VERY CONCERNED",
          "VERY CONCERNED",
          "VERY CONCERNED",
          "SOMEWHAT CONCERNED",
          "VERY CONCERNED",
          "SOMEWHAT CONCERNED",
          "VERY CONCERNED",
          "VERY CONCERNED",
          "VERY CONCERNED",
          "VERY CONCERNED",
          "VERY CONCERNED",
          "VERY CONCERNED",
          "VERY CONCERNED",
          "VERY CONCERNED",
          "VERY CONCERNED",
          "VERY CONCERNED",
          "NOT TOO CONCERNED",
          "VERY CONCERNED",
          "VERY CONCERNED",
          "SOMEWHAT CONCERNED",
          "VERY CONCERNED",
          "VERY CONCERNED",
          "SOMEWHAT CONCERNED",
          "VERY CONCERNED",
          "SOMEWHAT CONCERNED",
          "VERY CONCERNED",
          "VERY CONCERNED",
          "VERY CONCERNED",
          "SOMEWHAT CONCERNED",
          "VERY CONCERNED",
          "VERY CONCERNED",
          "VERY CONCERNED",
          "SOMEWHAT CONCERNED",
          "VERY CONCERNED",
          "VERY CONCERNED",
          "SOMEWHAT CONCERNED",
          "SOMEWHAT CONCERNED",
          "SOMEWHAT CONCERNED",
          "REFUSED/NOT ASCERTAINED",
          "VERY CONCERNED",
          "VERY CONCERNED",
          "SOMEWHAT CONCERNED",
          "VERY CONCERNED",
          "VERY CONCERNED",
          "NOT TOO CONCERNED",
          "VERY CONCERNED",
          "VERY CONCERNED",
          "VERY CONCERNED",
          "SOMEWHAT CONCERNED",
          "VERY CONCERNED",
          "VERY CONCERNED",
          "SOMEWHAT CONCERNED",
          "VERY CONCERNED",
          "SOMEWHAT CONCERNED",
          "VERY CONCERNED",
          "VERY CONCERNED",
          "VERY CONCERNED",
          "VERY CONCERNED",
          "VERY CONCERNED",
          "VERY CONCERNED",
          "VERY CONCERNED",
          "VERY CONCERNED",
          "VERY CONCERNED",
          "VERY CONCERNED",
          "VERY CONCERNED",
          "NOT TOO CONCERNED",
          "VERY CONCERNED",
          "VERY CONCERNED",
          "VERY CONCERNED",
          "VERY CONCERNED",
          "VERY CONCERNED",
          "VERY CONCERNED",
          "VERY CONCERNED",
          "SOMEWHAT CONCERNED",
          "VERY CONCERNED",
          "NOT TOO CONCERNED",
          "VERY CONCERNED",
          "VERY CONCERNED",
          "VERY CONCERNED",
          "SOMEWHAT CONCERNED",
          "VERY CONCERNED",
          "SOMEWHAT CONCERNED",
          "VERY CONCERNED",
          "VERY CONCERNED",
          "VERY CONCERNED",
          "VERY CONCERNED",
          "VERY CONCERNED",
          "VERY CONCERNED",
          "VERY CONCERNED",
          "VERY CONCERNED",
          "VERY CONCERNED",
          "VERY CONCERNED",
          "VERY CONCERNED",
          "VERY CONCERNED",
          "VERY CONCERNED",
          "NOT TOO CONCERNED",
          "SOMEWHAT CONCERNED",
          "SOMEWHAT CONCERNED",
          "SOMEWHAT CONCERNED",
          "VERY CONCERNED",
          "VERY CONCERNED",
          "VERY CONCERNED",
          "VERY CONCERNED",
          "VERY CONCERNED",
          "VERY CONCERNED",
          "VERY CONCERNED",
          "VERY CONCERNED",
          "VERY CONCERNED",
          "VERY CONCERNED",
          "VERY CONCERNED",
          "VERY CONCERNED",
          "VERY CONCERNED",
          "VERY CONCERNED",
          "VERY CONCERNED",
          "VERY CONCERNED",
          "VERY CONCERNED",
          "VERY CONCERNED",
          "VERY CONCERNED",
          "VERY CONCERNED",
          "VERY CONCERNED",
          "VERY CONCERNED",
          "VERY CONCERNED",
          "SOMEWHAT CONCERNED",
          "VERY CONCERNED",
          "VERY CONCERNED",
          "SOMEWHAT CONCERNED",
          "VERY CONCERNED",
          "VERY CONCERNED",
          "VERY CONCERNED",
          "VERY CONCERNED",
          "VERY CONCERNED",
          "VERY CONCERNED",
          "VERY CONCERNED",
          "VERY CONCERNED",
          "VERY CONCERNED",
          "VERY CONCERNED",
          "VERY CONCERNED",
          "SOMEWHAT CONCERNED",
          "VERY CONCERNED",
          "VERY CONCERNED",
          "VERY CONCERNED",
          "VERY CONCERNED",
          "SOMEWHAT CONCERNED",
          "VERY CONCERNED",
          "VERY CONCERNED",
          "VERY CONCERNED"
         ],
         "xaxis": "x",
         "yaxis": "y"
        },
        {
         "alignmentgroup": "True",
         "bingroup": "x",
         "hovertemplate": "Q13=SOMEWHAT OPPOSE<br>Q11=%{x}<br>count=%{y}<extra></extra>",
         "legendgroup": "SOMEWHAT OPPOSE",
         "marker": {
          "color": "#EF553B",
          "pattern": {
           "shape": ""
          }
         },
         "name": "SOMEWHAT OPPOSE",
         "offsetgroup": "SOMEWHAT OPPOSE",
         "orientation": "v",
         "showlegend": true,
         "type": "histogram",
         "x": [
          "SOMEWHAT CONCERNED",
          "SOMEWHAT CONCERNED",
          "VERY CONCERNED",
          "NOT TOO CONCERNED",
          "VERY CONCERNED",
          "VERY CONCERNED",
          "VERY CONCERNED",
          "VERY CONCERNED",
          "VERY CONCERNED",
          "VERY CONCERNED",
          "VERY CONCERNED",
          "VERY CONCERNED",
          "DO NOT KNOW",
          "SOMEWHAT CONCERNED",
          "VERY CONCERNED",
          "VERY CONCERNED",
          "VERY CONCERNED",
          "VERY CONCERNED",
          "VERY CONCERNED",
          "VERY CONCERNED",
          "VERY CONCERNED",
          "VERY CONCERNED",
          "SOMEWHAT CONCERNED",
          "SOMEWHAT CONCERNED",
          "SOMEWHAT CONCERNED",
          "VERY CONCERNED",
          "NOT AT ALL CONCERNED",
          "SOMEWHAT CONCERNED",
          "NOT AT ALL CONCERNED",
          "VERY CONCERNED",
          "VERY CONCERNED",
          "VERY CONCERNED",
          "VERY CONCERNED",
          "VERY CONCERNED",
          "VERY CONCERNED",
          "VERY CONCERNED",
          "NOT TOO CONCERNED",
          "VERY CONCERNED",
          "VERY CONCERNED",
          "VERY CONCERNED",
          "VERY CONCERNED",
          "VERY CONCERNED",
          "NOT AT ALL CONCERNED",
          "VERY CONCERNED",
          "VERY CONCERNED",
          "VERY CONCERNED",
          "VERY CONCERNED",
          "SOMEWHAT CONCERNED",
          "VERY CONCERNED",
          "SOMEWHAT CONCERNED",
          "VERY CONCERNED",
          "VERY CONCERNED",
          "NOT TOO CONCERNED",
          "VERY CONCERNED",
          "VERY CONCERNED",
          "VERY CONCERNED",
          "VERY CONCERNED",
          "SOMEWHAT CONCERNED",
          "VERY CONCERNED",
          "SOMEWHAT CONCERNED",
          "SOMEWHAT CONCERNED",
          "VERY CONCERNED",
          "SOMEWHAT CONCERNED",
          "SOMEWHAT CONCERNED",
          "SOMEWHAT CONCERNED",
          "VERY CONCERNED",
          "VERY CONCERNED",
          "VERY CONCERNED",
          "VERY CONCERNED",
          "SOMEWHAT CONCERNED",
          "VERY CONCERNED",
          "VERY CONCERNED",
          "VERY CONCERNED",
          "VERY CONCERNED",
          "VERY CONCERNED",
          "NOT AT ALL CONCERNED",
          "SOMEWHAT CONCERNED",
          "SOMEWHAT CONCERNED",
          "VERY CONCERNED",
          "VERY CONCERNED",
          "SOMEWHAT CONCERNED",
          "VERY CONCERNED",
          "VERY CONCERNED",
          "SOMEWHAT CONCERNED",
          "VERY CONCERNED",
          "VERY CONCERNED",
          "VERY CONCERNED",
          "VERY CONCERNED",
          "VERY CONCERNED",
          "VERY CONCERNED",
          "NOT TOO CONCERNED",
          "SOMEWHAT CONCERNED",
          "VERY CONCERNED",
          "VERY CONCERNED",
          "VERY CONCERNED",
          "SOMEWHAT CONCERNED",
          "VERY CONCERNED",
          "VERY CONCERNED",
          "SOMEWHAT CONCERNED",
          "VERY CONCERNED",
          "SOMEWHAT CONCERNED",
          "VERY CONCERNED",
          "SOMEWHAT CONCERNED",
          "VERY CONCERNED",
          "VERY CONCERNED",
          "VERY CONCERNED",
          "VERY CONCERNED",
          "SOMEWHAT CONCERNED",
          "SOMEWHAT CONCERNED",
          "VERY CONCERNED",
          "SOMEWHAT CONCERNED",
          "VERY CONCERNED",
          "VERY CONCERNED",
          "VERY CONCERNED",
          "VERY CONCERNED",
          "VERY CONCERNED"
         ],
         "xaxis": "x",
         "yaxis": "y"
        },
        {
         "alignmentgroup": "True",
         "bingroup": "x",
         "hovertemplate": "Q13=STRONGLY FAVOR<br>Q11=%{x}<br>count=%{y}<extra></extra>",
         "legendgroup": "STRONGLY FAVOR",
         "marker": {
          "color": "#00cc96",
          "pattern": {
           "shape": ""
          }
         },
         "name": "STRONGLY FAVOR",
         "offsetgroup": "STRONGLY FAVOR",
         "orientation": "v",
         "showlegend": true,
         "type": "histogram",
         "x": [
          "VERY CONCERNED",
          "VERY CONCERNED",
          "VERY CONCERNED",
          "VERY CONCERNED",
          "VERY CONCERNED",
          "VERY CONCERNED",
          "SOMEWHAT CONCERNED",
          "VERY CONCERNED",
          "VERY CONCERNED",
          "VERY CONCERNED",
          "VERY CONCERNED",
          "VERY CONCERNED",
          "VERY CONCERNED",
          "VERY CONCERNED",
          "VERY CONCERNED",
          "VERY CONCERNED",
          "VERY CONCERNED",
          "VERY CONCERNED",
          "VERY CONCERNED",
          "VERY CONCERNED",
          "VERY CONCERNED",
          "SOMEWHAT CONCERNED",
          "SOMEWHAT CONCERNED",
          "VERY CONCERNED",
          "SOMEWHAT CONCERNED",
          "VERY CONCERNED",
          "SOMEWHAT CONCERNED",
          "VERY CONCERNED",
          "VERY CONCERNED",
          "VERY CONCERNED",
          "VERY CONCERNED",
          "SOMEWHAT CONCERNED",
          "VERY CONCERNED",
          "VERY CONCERNED",
          "SOMEWHAT CONCERNED",
          "VERY CONCERNED",
          "SOMEWHAT CONCERNED",
          "VERY CONCERNED",
          "VERY CONCERNED",
          "VERY CONCERNED",
          "VERY CONCERNED",
          "VERY CONCERNED",
          "VERY CONCERNED",
          "VERY CONCERNED",
          "VERY CONCERNED",
          "VERY CONCERNED",
          "VERY CONCERNED",
          "SOMEWHAT CONCERNED",
          "VERY CONCERNED",
          "VERY CONCERNED",
          "SOMEWHAT CONCERNED",
          "VERY CONCERNED",
          "VERY CONCERNED",
          "VERY CONCERNED",
          "VERY CONCERNED",
          "VERY CONCERNED",
          "NOT TOO CONCERNED",
          "SOMEWHAT CONCERNED",
          "SOMEWHAT CONCERNED",
          "VERY CONCERNED",
          "VERY CONCERNED",
          "VERY CONCERNED",
          "VERY CONCERNED",
          "VERY CONCERNED",
          "VERY CONCERNED",
          "VERY CONCERNED",
          "VERY CONCERNED",
          "VERY CONCERNED",
          "VERY CONCERNED",
          "SOMEWHAT CONCERNED",
          "VERY CONCERNED",
          "SOMEWHAT CONCERNED",
          "NOT AT ALL CONCERNED",
          "VERY CONCERNED",
          "VERY CONCERNED",
          "VERY CONCERNED",
          "VERY CONCERNED",
          "VERY CONCERNED",
          "VERY CONCERNED",
          "VERY CONCERNED",
          "VERY CONCERNED",
          "VERY CONCERNED",
          "SOMEWHAT CONCERNED",
          "SOMEWHAT CONCERNED",
          "VERY CONCERNED",
          "VERY CONCERNED",
          "VERY CONCERNED",
          "VERY CONCERNED",
          "VERY CONCERNED",
          "VERY CONCERNED",
          "VERY CONCERNED",
          "VERY CONCERNED",
          "VERY CONCERNED",
          "VERY CONCERNED",
          "NOT TOO CONCERNED",
          "SOMEWHAT CONCERNED",
          "VERY CONCERNED",
          "VERY CONCERNED",
          "VERY CONCERNED",
          "VERY CONCERNED",
          "VERY CONCERNED",
          "SOMEWHAT CONCERNED",
          "VERY CONCERNED",
          "VERY CONCERNED",
          "VERY CONCERNED",
          "VERY CONCERNED",
          "VERY CONCERNED",
          "VERY CONCERNED",
          "SOMEWHAT CONCERNED",
          "VERY CONCERNED",
          "VERY CONCERNED",
          "VERY CONCERNED",
          "VERY CONCERNED",
          "VERY CONCERNED",
          "VERY CONCERNED",
          "VERY CONCERNED",
          "VERY CONCERNED",
          "VERY CONCERNED",
          "VERY CONCERNED",
          "VERY CONCERNED",
          "VERY CONCERNED",
          "VERY CONCERNED",
          "SOMEWHAT CONCERNED",
          "VERY CONCERNED",
          "VERY CONCERNED",
          "VERY CONCERNED",
          "VERY CONCERNED",
          "VERY CONCERNED",
          "VERY CONCERNED",
          "VERY CONCERNED",
          "VERY CONCERNED",
          "VERY CONCERNED",
          "VERY CONCERNED",
          "VERY CONCERNED",
          "VERY CONCERNED",
          "VERY CONCERNED",
          "VERY CONCERNED",
          "VERY CONCERNED",
          "VERY CONCERNED",
          "VERY CONCERNED",
          "VERY CONCERNED",
          "VERY CONCERNED",
          "VERY CONCERNED",
          "VERY CONCERNED",
          "VERY CONCERNED",
          "VERY CONCERNED",
          "VERY CONCERNED",
          "VERY CONCERNED",
          "VERY CONCERNED",
          "VERY CONCERNED",
          "VERY CONCERNED",
          "VERY CONCERNED",
          "VERY CONCERNED",
          "VERY CONCERNED",
          "VERY CONCERNED",
          "VERY CONCERNED",
          "VERY CONCERNED",
          "VERY CONCERNED",
          "NOT TOO CONCERNED",
          "VERY CONCERNED",
          "VERY CONCERNED",
          "VERY CONCERNED",
          "VERY CONCERNED",
          "VERY CONCERNED",
          "VERY CONCERNED",
          "VERY CONCERNED",
          "VERY CONCERNED",
          "VERY CONCERNED",
          "VERY CONCERNED",
          "VERY CONCERNED",
          "VERY CONCERNED",
          "VERY CONCERNED",
          "VERY CONCERNED",
          "NOT TOO CONCERNED",
          "VERY CONCERNED",
          "VERY CONCERNED"
         ],
         "xaxis": "x",
         "yaxis": "y"
        },
        {
         "alignmentgroup": "True",
         "bingroup": "x",
         "hovertemplate": "Q13=DO NOT KNOW<br>Q11=%{x}<br>count=%{y}<extra></extra>",
         "legendgroup": "DO NOT KNOW",
         "marker": {
          "color": "#ab63fa",
          "pattern": {
           "shape": ""
          }
         },
         "name": "DO NOT KNOW",
         "offsetgroup": "DO NOT KNOW",
         "orientation": "v",
         "showlegend": true,
         "type": "histogram",
         "x": [
          "VERY CONCERNED",
          "VERY CONCERNED",
          "VERY CONCERNED",
          "VERY CONCERNED",
          "VERY CONCERNED",
          "DO NOT KNOW",
          "VERY CONCERNED",
          "SOMEWHAT CONCERNED",
          "SOMEWHAT CONCERNED",
          "VERY CONCERNED",
          "VERY CONCERNED",
          "VERY CONCERNED",
          "VERY CONCERNED",
          "DO NOT KNOW",
          "SOMEWHAT CONCERNED",
          "VERY CONCERNED",
          "SOMEWHAT CONCERNED"
         ],
         "xaxis": "x",
         "yaxis": "y"
        },
        {
         "alignmentgroup": "True",
         "bingroup": "x",
         "hovertemplate": "Q13=STRONGLY OPPOSE<br>Q11=%{x}<br>count=%{y}<extra></extra>",
         "legendgroup": "STRONGLY OPPOSE",
         "marker": {
          "color": "#FFA15A",
          "pattern": {
           "shape": ""
          }
         },
         "name": "STRONGLY OPPOSE",
         "offsetgroup": "STRONGLY OPPOSE",
         "orientation": "v",
         "showlegend": true,
         "type": "histogram",
         "x": [
          "VERY CONCERNED",
          "VERY CONCERNED",
          "VERY CONCERNED",
          "VERY CONCERNED",
          "SOMEWHAT CONCERNED",
          "VERY CONCERNED",
          "SOMEWHAT CONCERNED",
          "NOT TOO CONCERNED",
          "NOT TOO CONCERNED",
          "VERY CONCERNED",
          "SOMEWHAT CONCERNED",
          "VERY CONCERNED",
          "VERY CONCERNED",
          "SOMEWHAT CONCERNED",
          "NOT AT ALL CONCERNED",
          "SOMEWHAT CONCERNED",
          "VERY CONCERNED",
          "VERY CONCERNED",
          "VERY CONCERNED",
          "VERY CONCERNED",
          "VERY CONCERNED",
          "VERY CONCERNED",
          "VERY CONCERNED",
          "VERY CONCERNED",
          "VERY CONCERNED",
          "VERY CONCERNED",
          "VERY CONCERNED",
          "VERY CONCERNED",
          "VERY CONCERNED",
          "SOMEWHAT CONCERNED",
          "VERY CONCERNED",
          "VERY CONCERNED",
          "VERY CONCERNED",
          "VERY CONCERNED",
          "SOMEWHAT CONCERNED",
          "SOMEWHAT CONCERNED",
          "VERY CONCERNED",
          "VERY CONCERNED",
          "VERY CONCERNED",
          "VERY CONCERNED",
          "VERY CONCERNED",
          "SOMEWHAT CONCERNED",
          "VERY CONCERNED",
          "VERY CONCERNED",
          "VERY CONCERNED",
          "VERY CONCERNED",
          "VERY CONCERNED",
          "VERY CONCERNED",
          "SOMEWHAT CONCERNED",
          "NOT TOO CONCERNED",
          "VERY CONCERNED",
          "VERY CONCERNED",
          "VERY CONCERNED",
          "VERY CONCERNED",
          "VERY CONCERNED",
          "SOMEWHAT CONCERNED",
          "VERY CONCERNED",
          "VERY CONCERNED",
          "VERY CONCERNED",
          "VERY CONCERNED",
          "VERY CONCERNED"
         ],
         "xaxis": "x",
         "yaxis": "y"
        }
       ],
       "layout": {
        "autosize": true,
        "barmode": "group",
        "legend": {
         "title": {
          "text": "FAVOR OR OPPOSE EXPANDING NUCLEAR PLANTS"
         },
         "tracegroupgap": 0
        },
        "margin": {
         "t": 60
        },
        "template": {
         "data": {
          "bar": [
           {
            "error_x": {
             "color": "#f2f5fa"
            },
            "error_y": {
             "color": "#f2f5fa"
            },
            "marker": {
             "line": {
              "color": "rgb(17,17,17)",
              "width": 0.5
             },
             "pattern": {
              "fillmode": "overlay",
              "size": 10,
              "solidity": 0.2
             }
            },
            "type": "bar"
           }
          ],
          "barpolar": [
           {
            "marker": {
             "line": {
              "color": "rgb(17,17,17)",
              "width": 0.5
             },
             "pattern": {
              "fillmode": "overlay",
              "size": 10,
              "solidity": 0.2
             }
            },
            "type": "barpolar"
           }
          ],
          "carpet": [
           {
            "aaxis": {
             "endlinecolor": "#A2B1C6",
             "gridcolor": "#506784",
             "linecolor": "#506784",
             "minorgridcolor": "#506784",
             "startlinecolor": "#A2B1C6"
            },
            "baxis": {
             "endlinecolor": "#A2B1C6",
             "gridcolor": "#506784",
             "linecolor": "#506784",
             "minorgridcolor": "#506784",
             "startlinecolor": "#A2B1C6"
            },
            "type": "carpet"
           }
          ],
          "choropleth": [
           {
            "colorbar": {
             "outlinewidth": 0,
             "ticks": ""
            },
            "type": "choropleth"
           }
          ],
          "contour": [
           {
            "colorbar": {
             "outlinewidth": 0,
             "ticks": ""
            },
            "colorscale": [
             [
              0,
              "#0d0887"
             ],
             [
              0.1111111111111111,
              "#46039f"
             ],
             [
              0.2222222222222222,
              "#7201a8"
             ],
             [
              0.3333333333333333,
              "#9c179e"
             ],
             [
              0.4444444444444444,
              "#bd3786"
             ],
             [
              0.5555555555555556,
              "#d8576b"
             ],
             [
              0.6666666666666666,
              "#ed7953"
             ],
             [
              0.7777777777777778,
              "#fb9f3a"
             ],
             [
              0.8888888888888888,
              "#fdca26"
             ],
             [
              1,
              "#f0f921"
             ]
            ],
            "type": "contour"
           }
          ],
          "contourcarpet": [
           {
            "colorbar": {
             "outlinewidth": 0,
             "ticks": ""
            },
            "type": "contourcarpet"
           }
          ],
          "heatmap": [
           {
            "colorbar": {
             "outlinewidth": 0,
             "ticks": ""
            },
            "colorscale": [
             [
              0,
              "#0d0887"
             ],
             [
              0.1111111111111111,
              "#46039f"
             ],
             [
              0.2222222222222222,
              "#7201a8"
             ],
             [
              0.3333333333333333,
              "#9c179e"
             ],
             [
              0.4444444444444444,
              "#bd3786"
             ],
             [
              0.5555555555555556,
              "#d8576b"
             ],
             [
              0.6666666666666666,
              "#ed7953"
             ],
             [
              0.7777777777777778,
              "#fb9f3a"
             ],
             [
              0.8888888888888888,
              "#fdca26"
             ],
             [
              1,
              "#f0f921"
             ]
            ],
            "type": "heatmap"
           }
          ],
          "heatmapgl": [
           {
            "colorbar": {
             "outlinewidth": 0,
             "ticks": ""
            },
            "colorscale": [
             [
              0,
              "#0d0887"
             ],
             [
              0.1111111111111111,
              "#46039f"
             ],
             [
              0.2222222222222222,
              "#7201a8"
             ],
             [
              0.3333333333333333,
              "#9c179e"
             ],
             [
              0.4444444444444444,
              "#bd3786"
             ],
             [
              0.5555555555555556,
              "#d8576b"
             ],
             [
              0.6666666666666666,
              "#ed7953"
             ],
             [
              0.7777777777777778,
              "#fb9f3a"
             ],
             [
              0.8888888888888888,
              "#fdca26"
             ],
             [
              1,
              "#f0f921"
             ]
            ],
            "type": "heatmapgl"
           }
          ],
          "histogram": [
           {
            "marker": {
             "pattern": {
              "fillmode": "overlay",
              "size": 10,
              "solidity": 0.2
             }
            },
            "type": "histogram"
           }
          ],
          "histogram2d": [
           {
            "colorbar": {
             "outlinewidth": 0,
             "ticks": ""
            },
            "colorscale": [
             [
              0,
              "#0d0887"
             ],
             [
              0.1111111111111111,
              "#46039f"
             ],
             [
              0.2222222222222222,
              "#7201a8"
             ],
             [
              0.3333333333333333,
              "#9c179e"
             ],
             [
              0.4444444444444444,
              "#bd3786"
             ],
             [
              0.5555555555555556,
              "#d8576b"
             ],
             [
              0.6666666666666666,
              "#ed7953"
             ],
             [
              0.7777777777777778,
              "#fb9f3a"
             ],
             [
              0.8888888888888888,
              "#fdca26"
             ],
             [
              1,
              "#f0f921"
             ]
            ],
            "type": "histogram2d"
           }
          ],
          "histogram2dcontour": [
           {
            "colorbar": {
             "outlinewidth": 0,
             "ticks": ""
            },
            "colorscale": [
             [
              0,
              "#0d0887"
             ],
             [
              0.1111111111111111,
              "#46039f"
             ],
             [
              0.2222222222222222,
              "#7201a8"
             ],
             [
              0.3333333333333333,
              "#9c179e"
             ],
             [
              0.4444444444444444,
              "#bd3786"
             ],
             [
              0.5555555555555556,
              "#d8576b"
             ],
             [
              0.6666666666666666,
              "#ed7953"
             ],
             [
              0.7777777777777778,
              "#fb9f3a"
             ],
             [
              0.8888888888888888,
              "#fdca26"
             ],
             [
              1,
              "#f0f921"
             ]
            ],
            "type": "histogram2dcontour"
           }
          ],
          "mesh3d": [
           {
            "colorbar": {
             "outlinewidth": 0,
             "ticks": ""
            },
            "type": "mesh3d"
           }
          ],
          "parcoords": [
           {
            "line": {
             "colorbar": {
              "outlinewidth": 0,
              "ticks": ""
             }
            },
            "type": "parcoords"
           }
          ],
          "pie": [
           {
            "automargin": true,
            "type": "pie"
           }
          ],
          "scatter": [
           {
            "marker": {
             "line": {
              "color": "#283442"
             }
            },
            "type": "scatter"
           }
          ],
          "scatter3d": [
           {
            "line": {
             "colorbar": {
              "outlinewidth": 0,
              "ticks": ""
             }
            },
            "marker": {
             "colorbar": {
              "outlinewidth": 0,
              "ticks": ""
             }
            },
            "type": "scatter3d"
           }
          ],
          "scattercarpet": [
           {
            "marker": {
             "colorbar": {
              "outlinewidth": 0,
              "ticks": ""
             }
            },
            "type": "scattercarpet"
           }
          ],
          "scattergeo": [
           {
            "marker": {
             "colorbar": {
              "outlinewidth": 0,
              "ticks": ""
             }
            },
            "type": "scattergeo"
           }
          ],
          "scattergl": [
           {
            "marker": {
             "line": {
              "color": "#283442"
             }
            },
            "type": "scattergl"
           }
          ],
          "scattermapbox": [
           {
            "marker": {
             "colorbar": {
              "outlinewidth": 0,
              "ticks": ""
             }
            },
            "type": "scattermapbox"
           }
          ],
          "scatterpolar": [
           {
            "marker": {
             "colorbar": {
              "outlinewidth": 0,
              "ticks": ""
             }
            },
            "type": "scatterpolar"
           }
          ],
          "scatterpolargl": [
           {
            "marker": {
             "colorbar": {
              "outlinewidth": 0,
              "ticks": ""
             }
            },
            "type": "scatterpolargl"
           }
          ],
          "scatterternary": [
           {
            "marker": {
             "colorbar": {
              "outlinewidth": 0,
              "ticks": ""
             }
            },
            "type": "scatterternary"
           }
          ],
          "surface": [
           {
            "colorbar": {
             "outlinewidth": 0,
             "ticks": ""
            },
            "colorscale": [
             [
              0,
              "#0d0887"
             ],
             [
              0.1111111111111111,
              "#46039f"
             ],
             [
              0.2222222222222222,
              "#7201a8"
             ],
             [
              0.3333333333333333,
              "#9c179e"
             ],
             [
              0.4444444444444444,
              "#bd3786"
             ],
             [
              0.5555555555555556,
              "#d8576b"
             ],
             [
              0.6666666666666666,
              "#ed7953"
             ],
             [
              0.7777777777777778,
              "#fb9f3a"
             ],
             [
              0.8888888888888888,
              "#fdca26"
             ],
             [
              1,
              "#f0f921"
             ]
            ],
            "type": "surface"
           }
          ],
          "table": [
           {
            "cells": {
             "fill": {
              "color": "#506784"
             },
             "line": {
              "color": "rgb(17,17,17)"
             }
            },
            "header": {
             "fill": {
              "color": "#2a3f5f"
             },
             "line": {
              "color": "rgb(17,17,17)"
             }
            },
            "type": "table"
           }
          ]
         },
         "layout": {
          "annotationdefaults": {
           "arrowcolor": "#f2f5fa",
           "arrowhead": 0,
           "arrowwidth": 1
          },
          "autotypenumbers": "strict",
          "coloraxis": {
           "colorbar": {
            "outlinewidth": 0,
            "ticks": ""
           }
          },
          "colorscale": {
           "diverging": [
            [
             0,
             "#8e0152"
            ],
            [
             0.1,
             "#c51b7d"
            ],
            [
             0.2,
             "#de77ae"
            ],
            [
             0.3,
             "#f1b6da"
            ],
            [
             0.4,
             "#fde0ef"
            ],
            [
             0.5,
             "#f7f7f7"
            ],
            [
             0.6,
             "#e6f5d0"
            ],
            [
             0.7,
             "#b8e186"
            ],
            [
             0.8,
             "#7fbc41"
            ],
            [
             0.9,
             "#4d9221"
            ],
            [
             1,
             "#276419"
            ]
           ],
           "sequential": [
            [
             0,
             "#0d0887"
            ],
            [
             0.1111111111111111,
             "#46039f"
            ],
            [
             0.2222222222222222,
             "#7201a8"
            ],
            [
             0.3333333333333333,
             "#9c179e"
            ],
            [
             0.4444444444444444,
             "#bd3786"
            ],
            [
             0.5555555555555556,
             "#d8576b"
            ],
            [
             0.6666666666666666,
             "#ed7953"
            ],
            [
             0.7777777777777778,
             "#fb9f3a"
            ],
            [
             0.8888888888888888,
             "#fdca26"
            ],
            [
             1,
             "#f0f921"
            ]
           ],
           "sequentialminus": [
            [
             0,
             "#0d0887"
            ],
            [
             0.1111111111111111,
             "#46039f"
            ],
            [
             0.2222222222222222,
             "#7201a8"
            ],
            [
             0.3333333333333333,
             "#9c179e"
            ],
            [
             0.4444444444444444,
             "#bd3786"
            ],
            [
             0.5555555555555556,
             "#d8576b"
            ],
            [
             0.6666666666666666,
             "#ed7953"
            ],
            [
             0.7777777777777778,
             "#fb9f3a"
            ],
            [
             0.8888888888888888,
             "#fdca26"
            ],
            [
             1,
             "#f0f921"
            ]
           ]
          },
          "colorway": [
           "#636efa",
           "#EF553B",
           "#00cc96",
           "#ab63fa",
           "#FFA15A",
           "#19d3f3",
           "#FF6692",
           "#B6E880",
           "#FF97FF",
           "#FECB52"
          ],
          "font": {
           "color": "#f2f5fa"
          },
          "geo": {
           "bgcolor": "rgb(17,17,17)",
           "lakecolor": "rgb(17,17,17)",
           "landcolor": "rgb(17,17,17)",
           "showlakes": true,
           "showland": true,
           "subunitcolor": "#506784"
          },
          "hoverlabel": {
           "align": "left"
          },
          "hovermode": "closest",
          "mapbox": {
           "style": "dark"
          },
          "paper_bgcolor": "rgb(17,17,17)",
          "plot_bgcolor": "rgb(17,17,17)",
          "polar": {
           "angularaxis": {
            "gridcolor": "#506784",
            "linecolor": "#506784",
            "ticks": ""
           },
           "bgcolor": "rgb(17,17,17)",
           "radialaxis": {
            "gridcolor": "#506784",
            "linecolor": "#506784",
            "ticks": ""
           }
          },
          "scene": {
           "xaxis": {
            "backgroundcolor": "rgb(17,17,17)",
            "gridcolor": "#506784",
            "gridwidth": 2,
            "linecolor": "#506784",
            "showbackground": true,
            "ticks": "",
            "zerolinecolor": "#C8D4E3"
           },
           "yaxis": {
            "backgroundcolor": "rgb(17,17,17)",
            "gridcolor": "#506784",
            "gridwidth": 2,
            "linecolor": "#506784",
            "showbackground": true,
            "ticks": "",
            "zerolinecolor": "#C8D4E3"
           },
           "zaxis": {
            "backgroundcolor": "rgb(17,17,17)",
            "gridcolor": "#506784",
            "gridwidth": 2,
            "linecolor": "#506784",
            "showbackground": true,
            "ticks": "",
            "zerolinecolor": "#C8D4E3"
           }
          },
          "shapedefaults": {
           "line": {
            "color": "#f2f5fa"
           }
          },
          "sliderdefaults": {
           "bgcolor": "#C8D4E3",
           "bordercolor": "rgb(17,17,17)",
           "borderwidth": 1,
           "tickwidth": 0
          },
          "ternary": {
           "aaxis": {
            "gridcolor": "#506784",
            "linecolor": "#506784",
            "ticks": ""
           },
           "baxis": {
            "gridcolor": "#506784",
            "linecolor": "#506784",
            "ticks": ""
           },
           "bgcolor": "rgb(17,17,17)",
           "caxis": {
            "gridcolor": "#506784",
            "linecolor": "#506784",
            "ticks": ""
           }
          },
          "title": {
           "x": 0.05
          },
          "updatemenudefaults": {
           "bgcolor": "#506784",
           "borderwidth": 0
          },
          "xaxis": {
           "automargin": true,
           "gridcolor": "#283442",
           "linecolor": "#506784",
           "ticks": "",
           "title": {
            "standoff": 15
           },
           "zerolinecolor": "#283442",
           "zerolinewidth": 2
          },
          "yaxis": {
           "automargin": true,
           "gridcolor": "#283442",
           "linecolor": "#506784",
           "ticks": "",
           "title": {
            "standoff": 15
           },
           "zerolinecolor": "#283442",
           "zerolinewidth": 2
          }
         }
        },
        "xaxis": {
         "anchor": "y",
         "autorange": true,
         "categoryorder": "total ascending",
         "domain": [
          0,
          1
         ],
         "range": [
          -0.5,
          5.5
         ],
         "title": {
          "text": "HOW CONCERNED ABOUT OBTAINING ENERGY INDEPENDENCE"
         },
         "type": "category"
        },
        "yaxis": {
         "anchor": "x",
         "autorange": true,
         "domain": [
          0,
          1
         ],
         "range": [
          0,
          187.3684210526316
         ],
         "title": {
          "text": "NUMBER OF RESPONSES"
         }
        }
       }
      },
      "image/png": "[encoded data removed]",
      "text/html": [
       "<div>                            <div id=\"ed1583c8-52d2-468b-883a-0917cf3a1fa6\" class=\"plotly-graph-div\" style=\"height:525px; width:100%;\"></div>            <script type=\"text/javascript\">                require([\"plotly\"], function(Plotly) {                    window.PLOTLYENV=window.PLOTLYENV || {};                                    if (document.getElementById(\"ed1583c8-52d2-468b-883a-0917cf3a1fa6\")) {                    Plotly.newPlot(                        \"ed1583c8-52d2-468b-883a-0917cf3a1fa6\",                        [{\"alignmentgroup\":\"True\",\"bingroup\":\"x\",\"hovertemplate\":\"Q13=SOMEWHAT FAVOR<br>Q11=%{x}<br>count=%{y}<extra></extra>\",\"legendgroup\":\"SOMEWHAT FAVOR\",\"marker\":{\"color\":\"#636efa\",\"pattern\":{\"shape\":\"\"}},\"name\":\"SOMEWHAT FAVOR\",\"offsetgroup\":\"SOMEWHAT FAVOR\",\"orientation\":\"v\",\"showlegend\":true,\"x\":[\"VERY CONCERNED\",\"VERY CONCERNED\",\"VERY CONCERNED\",\"VERY CONCERNED\",\"VERY CONCERNED\",\"SOMEWHAT CONCERNED\",\"VERY CONCERNED\",\"VERY CONCERNED\",\"VERY CONCERNED\",\"SOMEWHAT CONCERNED\",\"SOMEWHAT CONCERNED\",\"VERY CONCERNED\",\"NOT TOO CONCERNED\",\"VERY CONCERNED\",\"VERY CONCERNED\",\"SOMEWHAT CONCERNED\",\"VERY CONCERNED\",\"VERY CONCERNED\",\"VERY CONCERNED\",\"VERY CONCERNED\",\"VERY CONCERNED\",\"SOMEWHAT CONCERNED\",\"VERY CONCERNED\",\"VERY CONCERNED\",\"VERY CONCERNED\",\"NOT TOO CONCERNED\",\"VERY CONCERNED\",\"VERY CONCERNED\",\"VERY CONCERNED\",\"VERY CONCERNED\",\"VERY CONCERNED\",\"VERY CONCERNED\",\"VERY CONCERNED\",\"VERY CONCERNED\",\"VERY CONCERNED\",\"VERY CONCERNED\",\"VERY CONCERNED\",\"VERY CONCERNED\",\"VERY CONCERNED\",\"VERY CONCERNED\",\"VERY CONCERNED\",\"NOT AT ALL CONCERNED\",\"SOMEWHAT CONCERNED\",\"SOMEWHAT CONCERNED\",\"SOMEWHAT CONCERNED\",\"NOT TOO CONCERNED\",\"VERY CONCERNED\",\"SOMEWHAT CONCERNED\",\"VERY CONCERNED\",\"SOMEWHAT CONCERNED\",\"VERY CONCERNED\",\"SOMEWHAT CONCERNED\",\"VERY CONCERNED\",\"SOMEWHAT CONCERNED\",\"VERY CONCERNED\",\"SOMEWHAT CONCERNED\",\"VERY CONCERNED\",\"VERY CONCERNED\",\"VERY CONCERNED\",\"VERY CONCERNED\",\"VERY CONCERNED\",\"SOMEWHAT CONCERNED\",\"SOMEWHAT CONCERNED\",\"VERY CONCERNED\",\"SOMEWHAT CONCERNED\",\"DO NOT KNOW\",\"SOMEWHAT CONCERNED\",\"VERY CONCERNED\",\"VERY CONCERNED\",\"SOMEWHAT CONCERNED\",\"VERY CONCERNED\",\"VERY CONCERNED\",\"VERY CONCERNED\",\"VERY CONCERNED\",\"SOMEWHAT CONCERNED\",\"VERY CONCERNED\",\"SOMEWHAT CONCERNED\",\"SOMEWHAT CONCERNED\",\"VERY CONCERNED\",\"VERY CONCERNED\",\"SOMEWHAT CONCERNED\",\"VERY CONCERNED\",\"VERY CONCERNED\",\"VERY CONCERNED\",\"VERY CONCERNED\",\"VERY CONCERNED\",\"VERY CONCERNED\",\"VERY CONCERNED\",\"SOMEWHAT CONCERNED\",\"VERY CONCERNED\",\"VERY CONCERNED\",\"VERY CONCERNED\",\"VERY CONCERNED\",\"SOMEWHAT CONCERNED\",\"VERY CONCERNED\",\"SOMEWHAT CONCERNED\",\"VERY CONCERNED\",\"VERY CONCERNED\",\"VERY CONCERNED\",\"VERY CONCERNED\",\"VERY CONCERNED\",\"VERY CONCERNED\",\"VERY CONCERNED\",\"VERY CONCERNED\",\"VERY CONCERNED\",\"VERY CONCERNED\",\"NOT TOO CONCERNED\",\"VERY CONCERNED\",\"VERY CONCERNED\",\"SOMEWHAT CONCERNED\",\"VERY CONCERNED\",\"VERY CONCERNED\",\"SOMEWHAT CONCERNED\",\"VERY CONCERNED\",\"SOMEWHAT CONCERNED\",\"VERY CONCERNED\",\"VERY CONCERNED\",\"VERY CONCERNED\",\"SOMEWHAT CONCERNED\",\"VERY CONCERNED\",\"VERY CONCERNED\",\"VERY CONCERNED\",\"SOMEWHAT CONCERNED\",\"VERY CONCERNED\",\"VERY CONCERNED\",\"SOMEWHAT CONCERNED\",\"SOMEWHAT CONCERNED\",\"SOMEWHAT CONCERNED\",\"REFUSED/NOT ASCERTAINED\",\"VERY CONCERNED\",\"VERY CONCERNED\",\"SOMEWHAT CONCERNED\",\"VERY CONCERNED\",\"VERY CONCERNED\",\"NOT TOO CONCERNED\",\"VERY CONCERNED\",\"VERY CONCERNED\",\"VERY CONCERNED\",\"SOMEWHAT CONCERNED\",\"VERY CONCERNED\",\"VERY CONCERNED\",\"SOMEWHAT CONCERNED\",\"VERY CONCERNED\",\"SOMEWHAT CONCERNED\",\"VERY CONCERNED\",\"VERY CONCERNED\",\"VERY CONCERNED\",\"VERY CONCERNED\",\"VERY CONCERNED\",\"VERY CONCERNED\",\"VERY CONCERNED\",\"VERY CONCERNED\",\"VERY CONCERNED\",\"VERY CONCERNED\",\"VERY CONCERNED\",\"NOT TOO CONCERNED\",\"VERY CONCERNED\",\"VERY CONCERNED\",\"VERY CONCERNED\",\"VERY CONCERNED\",\"VERY CONCERNED\",\"VERY CONCERNED\",\"VERY CONCERNED\",\"SOMEWHAT CONCERNED\",\"VERY CONCERNED\",\"NOT TOO CONCERNED\",\"VERY CONCERNED\",\"VERY CONCERNED\",\"VERY CONCERNED\",\"SOMEWHAT CONCERNED\",\"VERY CONCERNED\",\"SOMEWHAT CONCERNED\",\"VERY CONCERNED\",\"VERY CONCERNED\",\"VERY CONCERNED\",\"VERY CONCERNED\",\"VERY CONCERNED\",\"VERY CONCERNED\",\"VERY CONCERNED\",\"VERY CONCERNED\",\"VERY CONCERNED\",\"VERY CONCERNED\",\"VERY CONCERNED\",\"VERY CONCERNED\",\"VERY CONCERNED\",\"NOT TOO CONCERNED\",\"SOMEWHAT CONCERNED\",\"SOMEWHAT CONCERNED\",\"SOMEWHAT CONCERNED\",\"VERY CONCERNED\",\"VERY CONCERNED\",\"VERY CONCERNED\",\"VERY CONCERNED\",\"VERY CONCERNED\",\"VERY CONCERNED\",\"VERY CONCERNED\",\"VERY CONCERNED\",\"VERY CONCERNED\",\"VERY CONCERNED\",\"VERY CONCERNED\",\"VERY CONCERNED\",\"VERY CONCERNED\",\"VERY CONCERNED\",\"VERY CONCERNED\",\"VERY CONCERNED\",\"VERY CONCERNED\",\"VERY CONCERNED\",\"VERY CONCERNED\",\"VERY CONCERNED\",\"VERY CONCERNED\",\"VERY CONCERNED\",\"VERY CONCERNED\",\"SOMEWHAT CONCERNED\",\"VERY CONCERNED\",\"VERY CONCERNED\",\"SOMEWHAT CONCERNED\",\"VERY CONCERNED\",\"VERY CONCERNED\",\"VERY CONCERNED\",\"VERY CONCERNED\",\"VERY CONCERNED\",\"VERY CONCERNED\",\"VERY CONCERNED\",\"VERY CONCERNED\",\"VERY CONCERNED\",\"VERY CONCERNED\",\"VERY CONCERNED\",\"SOMEWHAT CONCERNED\",\"VERY CONCERNED\",\"VERY CONCERNED\",\"VERY CONCERNED\",\"VERY CONCERNED\",\"SOMEWHAT CONCERNED\",\"VERY CONCERNED\",\"VERY CONCERNED\",\"VERY CONCERNED\"],\"xaxis\":\"x\",\"yaxis\":\"y\",\"type\":\"histogram\"},{\"alignmentgroup\":\"True\",\"bingroup\":\"x\",\"hovertemplate\":\"Q13=SOMEWHAT OPPOSE<br>Q11=%{x}<br>count=%{y}<extra></extra>\",\"legendgroup\":\"SOMEWHAT OPPOSE\",\"marker\":{\"color\":\"#EF553B\",\"pattern\":{\"shape\":\"\"}},\"name\":\"SOMEWHAT OPPOSE\",\"offsetgroup\":\"SOMEWHAT OPPOSE\",\"orientation\":\"v\",\"showlegend\":true,\"x\":[\"SOMEWHAT CONCERNED\",\"SOMEWHAT CONCERNED\",\"VERY CONCERNED\",\"NOT TOO CONCERNED\",\"VERY CONCERNED\",\"VERY CONCERNED\",\"VERY CONCERNED\",\"VERY CONCERNED\",\"VERY CONCERNED\",\"VERY CONCERNED\",\"VERY CONCERNED\",\"VERY CONCERNED\",\"DO NOT KNOW\",\"SOMEWHAT CONCERNED\",\"VERY CONCERNED\",\"VERY CONCERNED\",\"VERY CONCERNED\",\"VERY CONCERNED\",\"VERY CONCERNED\",\"VERY CONCERNED\",\"VERY CONCERNED\",\"VERY CONCERNED\",\"SOMEWHAT CONCERNED\",\"SOMEWHAT CONCERNED\",\"SOMEWHAT CONCERNED\",\"VERY CONCERNED\",\"NOT AT ALL CONCERNED\",\"SOMEWHAT CONCERNED\",\"NOT AT ALL CONCERNED\",\"VERY CONCERNED\",\"VERY CONCERNED\",\"VERY CONCERNED\",\"VERY CONCERNED\",\"VERY CONCERNED\",\"VERY CONCERNED\",\"VERY CONCERNED\",\"NOT TOO CONCERNED\",\"VERY CONCERNED\",\"VERY CONCERNED\",\"VERY CONCERNED\",\"VERY CONCERNED\",\"VERY CONCERNED\",\"NOT AT ALL CONCERNED\",\"VERY CONCERNED\",\"VERY CONCERNED\",\"VERY CONCERNED\",\"VERY CONCERNED\",\"SOMEWHAT CONCERNED\",\"VERY CONCERNED\",\"SOMEWHAT CONCERNED\",\"VERY CONCERNED\",\"VERY CONCERNED\",\"NOT TOO CONCERNED\",\"VERY CONCERNED\",\"VERY CONCERNED\",\"VERY CONCERNED\",\"VERY CONCERNED\",\"SOMEWHAT CONCERNED\",\"VERY CONCERNED\",\"SOMEWHAT CONCERNED\",\"SOMEWHAT CONCERNED\",\"VERY CONCERNED\",\"SOMEWHAT CONCERNED\",\"SOMEWHAT CONCERNED\",\"SOMEWHAT CONCERNED\",\"VERY CONCERNED\",\"VERY CONCERNED\",\"VERY CONCERNED\",\"VERY CONCERNED\",\"SOMEWHAT CONCERNED\",\"VERY CONCERNED\",\"VERY CONCERNED\",\"VERY CONCERNED\",\"VERY CONCERNED\",\"VERY CONCERNED\",\"NOT AT ALL CONCERNED\",\"SOMEWHAT CONCERNED\",\"SOMEWHAT CONCERNED\",\"VERY CONCERNED\",\"VERY CONCERNED\",\"SOMEWHAT CONCERNED\",\"VERY CONCERNED\",\"VERY CONCERNED\",\"SOMEWHAT CONCERNED\",\"VERY CONCERNED\",\"VERY CONCERNED\",\"VERY CONCERNED\",\"VERY CONCERNED\",\"VERY CONCERNED\",\"VERY CONCERNED\",\"NOT TOO CONCERNED\",\"SOMEWHAT CONCERNED\",\"VERY CONCERNED\",\"VERY CONCERNED\",\"VERY CONCERNED\",\"SOMEWHAT CONCERNED\",\"VERY CONCERNED\",\"VERY CONCERNED\",\"SOMEWHAT CONCERNED\",\"VERY CONCERNED\",\"SOMEWHAT CONCERNED\",\"VERY CONCERNED\",\"SOMEWHAT CONCERNED\",\"VERY CONCERNED\",\"VERY CONCERNED\",\"VERY CONCERNED\",\"VERY CONCERNED\",\"SOMEWHAT CONCERNED\",\"SOMEWHAT CONCERNED\",\"VERY CONCERNED\",\"SOMEWHAT CONCERNED\",\"VERY CONCERNED\",\"VERY CONCERNED\",\"VERY CONCERNED\",\"VERY CONCERNED\",\"VERY CONCERNED\"],\"xaxis\":\"x\",\"yaxis\":\"y\",\"type\":\"histogram\"},{\"alignmentgroup\":\"True\",\"bingroup\":\"x\",\"hovertemplate\":\"Q13=STRONGLY FAVOR<br>Q11=%{x}<br>count=%{y}<extra></extra>\",\"legendgroup\":\"STRONGLY FAVOR\",\"marker\":{\"color\":\"#00cc96\",\"pattern\":{\"shape\":\"\"}},\"name\":\"STRONGLY FAVOR\",\"offsetgroup\":\"STRONGLY FAVOR\",\"orientation\":\"v\",\"showlegend\":true,\"x\":[\"VERY CONCERNED\",\"VERY CONCERNED\",\"VERY CONCERNED\",\"VERY CONCERNED\",\"VERY CONCERNED\",\"VERY CONCERNED\",\"SOMEWHAT CONCERNED\",\"VERY CONCERNED\",\"VERY CONCERNED\",\"VERY CONCERNED\",\"VERY CONCERNED\",\"VERY CONCERNED\",\"VERY CONCERNED\",\"VERY CONCERNED\",\"VERY CONCERNED\",\"VERY CONCERNED\",\"VERY CONCERNED\",\"VERY CONCERNED\",\"VERY CONCERNED\",\"VERY CONCERNED\",\"VERY CONCERNED\",\"SOMEWHAT CONCERNED\",\"SOMEWHAT CONCERNED\",\"VERY CONCERNED\",\"SOMEWHAT CONCERNED\",\"VERY CONCERNED\",\"SOMEWHAT CONCERNED\",\"VERY CONCERNED\",\"VERY CONCERNED\",\"VERY CONCERNED\",\"VERY CONCERNED\",\"SOMEWHAT CONCERNED\",\"VERY CONCERNED\",\"VERY CONCERNED\",\"SOMEWHAT CONCERNED\",\"VERY CONCERNED\",\"SOMEWHAT CONCERNED\",\"VERY CONCERNED\",\"VERY CONCERNED\",\"VERY CONCERNED\",\"VERY CONCERNED\",\"VERY CONCERNED\",\"VERY CONCERNED\",\"VERY CONCERNED\",\"VERY CONCERNED\",\"VERY CONCERNED\",\"VERY CONCERNED\",\"SOMEWHAT CONCERNED\",\"VERY CONCERNED\",\"VERY CONCERNED\",\"SOMEWHAT CONCERNED\",\"VERY CONCERNED\",\"VERY CONCERNED\",\"VERY CONCERNED\",\"VERY CONCERNED\",\"VERY CONCERNED\",\"NOT TOO CONCERNED\",\"SOMEWHAT CONCERNED\",\"SOMEWHAT CONCERNED\",\"VERY CONCERNED\",\"VERY CONCERNED\",\"VERY CONCERNED\",\"VERY CONCERNED\",\"VERY CONCERNED\",\"VERY CONCERNED\",\"VERY CONCERNED\",\"VERY CONCERNED\",\"VERY CONCERNED\",\"VERY CONCERNED\",\"SOMEWHAT CONCERNED\",\"VERY CONCERNED\",\"SOMEWHAT CONCERNED\",\"NOT AT ALL CONCERNED\",\"VERY CONCERNED\",\"VERY CONCERNED\",\"VERY CONCERNED\",\"VERY CONCERNED\",\"VERY CONCERNED\",\"VERY CONCERNED\",\"VERY CONCERNED\",\"VERY CONCERNED\",\"VERY CONCERNED\",\"SOMEWHAT CONCERNED\",\"SOMEWHAT CONCERNED\",\"VERY CONCERNED\",\"VERY CONCERNED\",\"VERY CONCERNED\",\"VERY CONCERNED\",\"VERY CONCERNED\",\"VERY CONCERNED\",\"VERY CONCERNED\",\"VERY CONCERNED\",\"VERY CONCERNED\",\"VERY CONCERNED\",\"NOT TOO CONCERNED\",\"SOMEWHAT CONCERNED\",\"VERY CONCERNED\",\"VERY CONCERNED\",\"VERY CONCERNED\",\"VERY CONCERNED\",\"VERY CONCERNED\",\"SOMEWHAT CONCERNED\",\"VERY CONCERNED\",\"VERY CONCERNED\",\"VERY CONCERNED\",\"VERY CONCERNED\",\"VERY CONCERNED\",\"VERY CONCERNED\",\"SOMEWHAT CONCERNED\",\"VERY CONCERNED\",\"VERY CONCERNED\",\"VERY CONCERNED\",\"VERY CONCERNED\",\"VERY CONCERNED\",\"VERY CONCERNED\",\"VERY CONCERNED\",\"VERY CONCERNED\",\"VERY CONCERNED\",\"VERY CONCERNED\",\"VERY CONCERNED\",\"VERY CONCERNED\",\"VERY CONCERNED\",\"SOMEWHAT CONCERNED\",\"VERY CONCERNED\",\"VERY CONCERNED\",\"VERY CONCERNED\",\"VERY CONCERNED\",\"VERY CONCERNED\",\"VERY CONCERNED\",\"VERY CONCERNED\",\"VERY CONCERNED\",\"VERY CONCERNED\",\"VERY CONCERNED\",\"VERY CONCERNED\",\"VERY CONCERNED\",\"VERY CONCERNED\",\"VERY CONCERNED\",\"VERY CONCERNED\",\"VERY CONCERNED\",\"VERY CONCERNED\",\"VERY CONCERNED\",\"VERY CONCERNED\",\"VERY CONCERNED\",\"VERY CONCERNED\",\"VERY CONCERNED\",\"VERY CONCERNED\",\"VERY CONCERNED\",\"VERY CONCERNED\",\"VERY CONCERNED\",\"VERY CONCERNED\",\"VERY CONCERNED\",\"VERY CONCERNED\",\"VERY CONCERNED\",\"VERY CONCERNED\",\"VERY CONCERNED\",\"VERY CONCERNED\",\"VERY CONCERNED\",\"VERY CONCERNED\",\"NOT TOO CONCERNED\",\"VERY CONCERNED\",\"VERY CONCERNED\",\"VERY CONCERNED\",\"VERY CONCERNED\",\"VERY CONCERNED\",\"VERY CONCERNED\",\"VERY CONCERNED\",\"VERY CONCERNED\",\"VERY CONCERNED\",\"VERY CONCERNED\",\"VERY CONCERNED\",\"VERY CONCERNED\",\"VERY CONCERNED\",\"VERY CONCERNED\",\"NOT TOO CONCERNED\",\"VERY CONCERNED\",\"VERY CONCERNED\"],\"xaxis\":\"x\",\"yaxis\":\"y\",\"type\":\"histogram\"},{\"alignmentgroup\":\"True\",\"bingroup\":\"x\",\"hovertemplate\":\"Q13=DO NOT KNOW<br>Q11=%{x}<br>count=%{y}<extra></extra>\",\"legendgroup\":\"DO NOT KNOW\",\"marker\":{\"color\":\"#ab63fa\",\"pattern\":{\"shape\":\"\"}},\"name\":\"DO NOT KNOW\",\"offsetgroup\":\"DO NOT KNOW\",\"orientation\":\"v\",\"showlegend\":true,\"x\":[\"VERY CONCERNED\",\"VERY CONCERNED\",\"VERY CONCERNED\",\"VERY CONCERNED\",\"VERY CONCERNED\",\"DO NOT KNOW\",\"VERY CONCERNED\",\"SOMEWHAT CONCERNED\",\"SOMEWHAT CONCERNED\",\"VERY CONCERNED\",\"VERY CONCERNED\",\"VERY CONCERNED\",\"VERY CONCERNED\",\"DO NOT KNOW\",\"SOMEWHAT CONCERNED\",\"VERY CONCERNED\",\"SOMEWHAT CONCERNED\"],\"xaxis\":\"x\",\"yaxis\":\"y\",\"type\":\"histogram\"},{\"alignmentgroup\":\"True\",\"bingroup\":\"x\",\"hovertemplate\":\"Q13=STRONGLY OPPOSE<br>Q11=%{x}<br>count=%{y}<extra></extra>\",\"legendgroup\":\"STRONGLY OPPOSE\",\"marker\":{\"color\":\"#FFA15A\",\"pattern\":{\"shape\":\"\"}},\"name\":\"STRONGLY OPPOSE\",\"offsetgroup\":\"STRONGLY OPPOSE\",\"orientation\":\"v\",\"showlegend\":true,\"x\":[\"VERY CONCERNED\",\"VERY CONCERNED\",\"VERY CONCERNED\",\"VERY CONCERNED\",\"SOMEWHAT CONCERNED\",\"VERY CONCERNED\",\"SOMEWHAT CONCERNED\",\"NOT TOO CONCERNED\",\"NOT TOO CONCERNED\",\"VERY CONCERNED\",\"SOMEWHAT CONCERNED\",\"VERY CONCERNED\",\"VERY CONCERNED\",\"SOMEWHAT CONCERNED\",\"NOT AT ALL CONCERNED\",\"SOMEWHAT CONCERNED\",\"VERY CONCERNED\",\"VERY CONCERNED\",\"VERY CONCERNED\",\"VERY CONCERNED\",\"VERY CONCERNED\",\"VERY CONCERNED\",\"VERY CONCERNED\",\"VERY CONCERNED\",\"VERY CONCERNED\",\"VERY CONCERNED\",\"VERY CONCERNED\",\"VERY CONCERNED\",\"VERY CONCERNED\",\"SOMEWHAT CONCERNED\",\"VERY CONCERNED\",\"VERY CONCERNED\",\"VERY CONCERNED\",\"VERY CONCERNED\",\"SOMEWHAT CONCERNED\",\"SOMEWHAT CONCERNED\",\"VERY CONCERNED\",\"VERY CONCERNED\",\"VERY CONCERNED\",\"VERY CONCERNED\",\"VERY CONCERNED\",\"SOMEWHAT CONCERNED\",\"VERY CONCERNED\",\"VERY CONCERNED\",\"VERY CONCERNED\",\"VERY CONCERNED\",\"VERY CONCERNED\",\"VERY CONCERNED\",\"SOMEWHAT CONCERNED\",\"NOT TOO CONCERNED\",\"VERY CONCERNED\",\"VERY CONCERNED\",\"VERY CONCERNED\",\"VERY CONCERNED\",\"VERY CONCERNED\",\"SOMEWHAT CONCERNED\",\"VERY CONCERNED\",\"VERY CONCERNED\",\"VERY CONCERNED\",\"VERY CONCERNED\",\"VERY CONCERNED\"],\"xaxis\":\"x\",\"yaxis\":\"y\",\"type\":\"histogram\"}],                        {\"template\":{\"data\":{\"barpolar\":[{\"marker\":{\"line\":{\"color\":\"rgb(17,17,17)\",\"width\":0.5},\"pattern\":{\"fillmode\":\"overlay\",\"size\":10,\"solidity\":0.2}},\"type\":\"barpolar\"}],\"bar\":[{\"error_x\":{\"color\":\"#f2f5fa\"},\"error_y\":{\"color\":\"#f2f5fa\"},\"marker\":{\"line\":{\"color\":\"rgb(17,17,17)\",\"width\":0.5},\"pattern\":{\"fillmode\":\"overlay\",\"size\":10,\"solidity\":0.2}},\"type\":\"bar\"}],\"carpet\":[{\"aaxis\":{\"endlinecolor\":\"#A2B1C6\",\"gridcolor\":\"#506784\",\"linecolor\":\"#506784\",\"minorgridcolor\":\"#506784\",\"startlinecolor\":\"#A2B1C6\"},\"baxis\":{\"endlinecolor\":\"#A2B1C6\",\"gridcolor\":\"#506784\",\"linecolor\":\"#506784\",\"minorgridcolor\":\"#506784\",\"startlinecolor\":\"#A2B1C6\"},\"type\":\"carpet\"}],\"choropleth\":[{\"colorbar\":{\"outlinewidth\":0,\"ticks\":\"\"},\"type\":\"choropleth\"}],\"contourcarpet\":[{\"colorbar\":{\"outlinewidth\":0,\"ticks\":\"\"},\"type\":\"contourcarpet\"}],\"contour\":[{\"colorbar\":{\"outlinewidth\":0,\"ticks\":\"\"},\"colorscale\":[[0.0,\"#0d0887\"],[0.1111111111111111,\"#46039f\"],[0.2222222222222222,\"#7201a8\"],[0.3333333333333333,\"#9c179e\"],[0.4444444444444444,\"#bd3786\"],[0.5555555555555556,\"#d8576b\"],[0.6666666666666666,\"#ed7953\"],[0.7777777777777778,\"#fb9f3a\"],[0.8888888888888888,\"#fdca26\"],[1.0,\"#f0f921\"]],\"type\":\"contour\"}],\"heatmapgl\":[{\"colorbar\":{\"outlinewidth\":0,\"ticks\":\"\"},\"colorscale\":[[0.0,\"#0d0887\"],[0.1111111111111111,\"#46039f\"],[0.2222222222222222,\"#7201a8\"],[0.3333333333333333,\"#9c179e\"],[0.4444444444444444,\"#bd3786\"],[0.5555555555555556,\"#d8576b\"],[0.6666666666666666,\"#ed7953\"],[0.7777777777777778,\"#fb9f3a\"],[0.8888888888888888,\"#fdca26\"],[1.0,\"#f0f921\"]],\"type\":\"heatmapgl\"}],\"heatmap\":[{\"colorbar\":{\"outlinewidth\":0,\"ticks\":\"\"},\"colorscale\":[[0.0,\"#0d0887\"],[0.1111111111111111,\"#46039f\"],[0.2222222222222222,\"#7201a8\"],[0.3333333333333333,\"#9c179e\"],[0.4444444444444444,\"#bd3786\"],[0.5555555555555556,\"#d8576b\"],[0.6666666666666666,\"#ed7953\"],[0.7777777777777778,\"#fb9f3a\"],[0.8888888888888888,\"#fdca26\"],[1.0,\"#f0f921\"]],\"type\":\"heatmap\"}],\"histogram2dcontour\":[{\"colorbar\":{\"outlinewidth\":0,\"ticks\":\"\"},\"colorscale\":[[0.0,\"#0d0887\"],[0.1111111111111111,\"#46039f\"],[0.2222222222222222,\"#7201a8\"],[0.3333333333333333,\"#9c179e\"],[0.4444444444444444,\"#bd3786\"],[0.5555555555555556,\"#d8576b\"],[0.6666666666666666,\"#ed7953\"],[0.7777777777777778,\"#fb9f3a\"],[0.8888888888888888,\"#fdca26\"],[1.0,\"#f0f921\"]],\"type\":\"histogram2dcontour\"}],\"histogram2d\":[{\"colorbar\":{\"outlinewidth\":0,\"ticks\":\"\"},\"colorscale\":[[0.0,\"#0d0887\"],[0.1111111111111111,\"#46039f\"],[0.2222222222222222,\"#7201a8\"],[0.3333333333333333,\"#9c179e\"],[0.4444444444444444,\"#bd3786\"],[0.5555555555555556,\"#d8576b\"],[0.6666666666666666,\"#ed7953\"],[0.7777777777777778,\"#fb9f3a\"],[0.8888888888888888,\"#fdca26\"],[1.0,\"#f0f921\"]],\"type\":\"histogram2d\"}],\"histogram\":[{\"marker\":{\"pattern\":{\"fillmode\":\"overlay\",\"size\":10,\"solidity\":0.2}},\"type\":\"histogram\"}],\"mesh3d\":[{\"colorbar\":{\"outlinewidth\":0,\"ticks\":\"\"},\"type\":\"mesh3d\"}],\"parcoords\":[{\"line\":{\"colorbar\":{\"outlinewidth\":0,\"ticks\":\"\"}},\"type\":\"parcoords\"}],\"pie\":[{\"automargin\":true,\"type\":\"pie\"}],\"scatter3d\":[{\"line\":{\"colorbar\":{\"outlinewidth\":0,\"ticks\":\"\"}},\"marker\":{\"colorbar\":{\"outlinewidth\":0,\"ticks\":\"\"}},\"type\":\"scatter3d\"}],\"scattercarpet\":[{\"marker\":{\"colorbar\":{\"outlinewidth\":0,\"ticks\":\"\"}},\"type\":\"scattercarpet\"}],\"scattergeo\":[{\"marker\":{\"colorbar\":{\"outlinewidth\":0,\"ticks\":\"\"}},\"type\":\"scattergeo\"}],\"scattergl\":[{\"marker\":{\"line\":{\"color\":\"#283442\"}},\"type\":\"scattergl\"}],\"scattermapbox\":[{\"marker\":{\"colorbar\":{\"outlinewidth\":0,\"ticks\":\"\"}},\"type\":\"scattermapbox\"}],\"scatterpolargl\":[{\"marker\":{\"colorbar\":{\"outlinewidth\":0,\"ticks\":\"\"}},\"type\":\"scatterpolargl\"}],\"scatterpolar\":[{\"marker\":{\"colorbar\":{\"outlinewidth\":0,\"ticks\":\"\"}},\"type\":\"scatterpolar\"}],\"scatter\":[{\"marker\":{\"line\":{\"color\":\"#283442\"}},\"type\":\"scatter\"}],\"scatterternary\":[{\"marker\":{\"colorbar\":{\"outlinewidth\":0,\"ticks\":\"\"}},\"type\":\"scatterternary\"}],\"surface\":[{\"colorbar\":{\"outlinewidth\":0,\"ticks\":\"\"},\"colorscale\":[[0.0,\"#0d0887\"],[0.1111111111111111,\"#46039f\"],[0.2222222222222222,\"#7201a8\"],[0.3333333333333333,\"#9c179e\"],[0.4444444444444444,\"#bd3786\"],[0.5555555555555556,\"#d8576b\"],[0.6666666666666666,\"#ed7953\"],[0.7777777777777778,\"#fb9f3a\"],[0.8888888888888888,\"#fdca26\"],[1.0,\"#f0f921\"]],\"type\":\"surface\"}],\"table\":[{\"cells\":{\"fill\":{\"color\":\"#506784\"},\"line\":{\"color\":\"rgb(17,17,17)\"}},\"header\":{\"fill\":{\"color\":\"#2a3f5f\"},\"line\":{\"color\":\"rgb(17,17,17)\"}},\"type\":\"table\"}]},\"layout\":{\"annotationdefaults\":{\"arrowcolor\":\"#f2f5fa\",\"arrowhead\":0,\"arrowwidth\":1},\"autotypenumbers\":\"strict\",\"coloraxis\":{\"colorbar\":{\"outlinewidth\":0,\"ticks\":\"\"}},\"colorscale\":{\"diverging\":[[0,\"#8e0152\"],[0.1,\"#c51b7d\"],[0.2,\"#de77ae\"],[0.3,\"#f1b6da\"],[0.4,\"#fde0ef\"],[0.5,\"#f7f7f7\"],[0.6,\"#e6f5d0\"],[0.7,\"#b8e186\"],[0.8,\"#7fbc41\"],[0.9,\"#4d9221\"],[1,\"#276419\"]],\"sequential\":[[0.0,\"#0d0887\"],[0.1111111111111111,\"#46039f\"],[0.2222222222222222,\"#7201a8\"],[0.3333333333333333,\"#9c179e\"],[0.4444444444444444,\"#bd3786\"],[0.5555555555555556,\"#d8576b\"],[0.6666666666666666,\"#ed7953\"],[0.7777777777777778,\"#fb9f3a\"],[0.8888888888888888,\"#fdca26\"],[1.0,\"#f0f921\"]],\"sequentialminus\":[[0.0,\"#0d0887\"],[0.1111111111111111,\"#46039f\"],[0.2222222222222222,\"#7201a8\"],[0.3333333333333333,\"#9c179e\"],[0.4444444444444444,\"#bd3786\"],[0.5555555555555556,\"#d8576b\"],[0.6666666666666666,\"#ed7953\"],[0.7777777777777778,\"#fb9f3a\"],[0.8888888888888888,\"#fdca26\"],[1.0,\"#f0f921\"]]},\"colorway\":[\"#636efa\",\"#EF553B\",\"#00cc96\",\"#ab63fa\",\"#FFA15A\",\"#19d3f3\",\"#FF6692\",\"#B6E880\",\"#FF97FF\",\"#FECB52\"],\"font\":{\"color\":\"#f2f5fa\"},\"geo\":{\"bgcolor\":\"rgb(17,17,17)\",\"lakecolor\":\"rgb(17,17,17)\",\"landcolor\":\"rgb(17,17,17)\",\"showlakes\":true,\"showland\":true,\"subunitcolor\":\"#506784\"},\"hoverlabel\":{\"align\":\"left\"},\"hovermode\":\"closest\",\"mapbox\":{\"style\":\"dark\"},\"paper_bgcolor\":\"rgb(17,17,17)\",\"plot_bgcolor\":\"rgb(17,17,17)\",\"polar\":{\"angularaxis\":{\"gridcolor\":\"#506784\",\"linecolor\":\"#506784\",\"ticks\":\"\"},\"bgcolor\":\"rgb(17,17,17)\",\"radialaxis\":{\"gridcolor\":\"#506784\",\"linecolor\":\"#506784\",\"ticks\":\"\"}},\"scene\":{\"xaxis\":{\"backgroundcolor\":\"rgb(17,17,17)\",\"gridcolor\":\"#506784\",\"gridwidth\":2,\"linecolor\":\"#506784\",\"showbackground\":true,\"ticks\":\"\",\"zerolinecolor\":\"#C8D4E3\"},\"yaxis\":{\"backgroundcolor\":\"rgb(17,17,17)\",\"gridcolor\":\"#506784\",\"gridwidth\":2,\"linecolor\":\"#506784\",\"showbackground\":true,\"ticks\":\"\",\"zerolinecolor\":\"#C8D4E3\"},\"zaxis\":{\"backgroundcolor\":\"rgb(17,17,17)\",\"gridcolor\":\"#506784\",\"gridwidth\":2,\"linecolor\":\"#506784\",\"showbackground\":true,\"ticks\":\"\",\"zerolinecolor\":\"#C8D4E3\"}},\"shapedefaults\":{\"line\":{\"color\":\"#f2f5fa\"}},\"sliderdefaults\":{\"bgcolor\":\"#C8D4E3\",\"bordercolor\":\"rgb(17,17,17)\",\"borderwidth\":1,\"tickwidth\":0},\"ternary\":{\"aaxis\":{\"gridcolor\":\"#506784\",\"linecolor\":\"#506784\",\"ticks\":\"\"},\"baxis\":{\"gridcolor\":\"#506784\",\"linecolor\":\"#506784\",\"ticks\":\"\"},\"bgcolor\":\"rgb(17,17,17)\",\"caxis\":{\"gridcolor\":\"#506784\",\"linecolor\":\"#506784\",\"ticks\":\"\"}},\"title\":{\"x\":0.05},\"updatemenudefaults\":{\"bgcolor\":\"#506784\",\"borderwidth\":0},\"xaxis\":{\"automargin\":true,\"gridcolor\":\"#283442\",\"linecolor\":\"#506784\",\"ticks\":\"\",\"title\":{\"standoff\":15},\"zerolinecolor\":\"#283442\",\"zerolinewidth\":2},\"yaxis\":{\"automargin\":true,\"gridcolor\":\"#283442\",\"linecolor\":\"#506784\",\"ticks\":\"\",\"title\":{\"standoff\":15},\"zerolinecolor\":\"#283442\",\"zerolinewidth\":2}}},\"xaxis\":{\"anchor\":\"y\",\"domain\":[0.0,1.0],\"title\":{\"text\":\"HOW CONCERNED ABOUT OBTAINING ENERGY INDEPENDENCE\"},\"categoryorder\":\"total ascending\"},\"yaxis\":{\"anchor\":\"x\",\"domain\":[0.0,1.0],\"title\":{\"text\":\"NUMBER OF RESPONSES\"}},\"legend\":{\"title\":{\"text\":\"FAVOR OR OPPOSE EXPANDING NUCLEAR PLANTS\"},\"tracegroupgap\":0},\"margin\":{\"t\":60},\"barmode\":\"group\"},                        {\"responsive\": true}                    ).then(function(){\n",
       "                            \n",
       "var gd = document.getElementById('ed1583c8-52d2-468b-883a-0917cf3a1fa6');\n",
       "var x = new MutationObserver(function (mutations, observer) {{\n",
       "        var display = window.getComputedStyle(gd).display;\n",
       "        if (!display || display === 'none') {{\n",
       "            console.log([gd, 'removed!']);\n",
       "            Plotly.purge(gd);\n",
       "            observer.disconnect();\n",
       "        }}\n",
       "}});\n",
       "\n",
       "// Listen for the removal of the full notebook cells\n",
       "var notebookContainer = gd.closest('#notebook-container');\n",
       "if (notebookContainer) {{\n",
       "    x.observe(notebookContainer, {childList: true});\n",
       "}}\n",
       "\n",
       "// Listen for the clearing of the current output cell\n",
       "var outputEl = gd.closest('.output');\n",
       "if (outputEl) {{\n",
       "    x.observe(outputEl, {childList: true});\n",
       "}}\n",
       "\n",
       "                        })                };                });            </script>        </div>"
      ]
     },
     "metadata": {},
     "output_type": "display_data"
    }
   ],
   "source": [
    "import plotly.express as px\n",
    "# Concern about Energy Indepenence vs Nuclear energy \n",
    "\n",
    "# Q11: HOW CONCERNED ABOUT OBTAINING ENERGY INDEPENDENCE\n",
    "# Q13: FAVOR OR OPPOSE EXPANDING NUCLEAR PLANT IN THE MIDLANDS OF SC\n",
    "\n",
    "fig = px.histogram(df_IC, x=\"Q13\", color=\"Q11\", template='plotly_dark', barmode=\"group\").update_xaxes(categoryorder='total ascending').update_layout(\n",
    "xaxis_title=\"FAVOR OR OPPOSE EXPANDING NUCLEAR PLANTS\", yaxis_title=\"NUMBER OF RESPONSES\", legend_title=\"HOW CONCERNED ABOUT OBTAINING ENERGY INDEPENDENCE\",\n",
    ")\n",
    "fig.show()"
   ]
  },
  {
   "cell_type": "code",
   "execution_count": 27,
   "id": "a847c070-c927-424d-81aa-676ee695563b",
   "metadata": {},
   "outputs": [
    {
     "data": {
      "application/vnd.plotly.v1+json": {
       "config": {
        "plotlyServerURL": "https://plot.ly"
       },
       "data": [
        {
         "alignmentgroup": "True",
         "bingroup": "x",
         "hovertemplate": "Q13=SOMEWHAT FAVOR<br>Q12=%{x}<br>count=%{y}<extra></extra>",
         "legendgroup": "SOMEWHAT FAVOR",
         "marker": {
          "color": "#636efa",
          "pattern": {
           "shape": ""
          }
         },
         "name": "SOMEWHAT FAVOR",
         "offsetgroup": "SOMEWHAT FAVOR",
         "orientation": "v",
         "showlegend": true,
         "type": "histogram",
         "x": [
          "ABOUT THE SAME COST",
          "DO NOT KNOW",
          "ABOUT THE SAME COST",
          "ABOUT THE SAME COST",
          "A LITTLE LESS EXPENSIVE",
          "DO NOT KNOW",
          "ABOUT THE SAME COST",
          "A LITTLE MORE EXPENSIVE",
          "A LITTLE MORE EXPENSIVE",
          "ABOUT THE SAME COST",
          "A LITTLE MORE EXPENSIVE",
          "ABOUT THE SAME COST",
          "A LITTLE MORE EXPENSIVE",
          "A LOT MORE EXPENSIVE",
          "ABOUT THE SAME COST",
          "A LITTLE LESS EXPENSIVE",
          "A LITTLE MORE EXPENSIVE",
          "A LITTLE LESS EXPENSIVE",
          "A LOT LESS EXPENSIVE",
          "A LITTLE MORE EXPENSIVE",
          "ABOUT THE SAME COST",
          "A LITTLE LESS EXPENSIVE",
          "A LITTLE LESS EXPENSIVE",
          "ABOUT THE SAME COST",
          "ABOUT THE SAME COST",
          "A LITTLE MORE EXPENSIVE",
          "A LITTLE MORE EXPENSIVE",
          "A LITTLE LESS EXPENSIVE",
          "A LOT LESS EXPENSIVE",
          "DO NOT KNOW",
          "ABOUT THE SAME COST",
          "A LITTLE LESS EXPENSIVE",
          "A LOT LESS EXPENSIVE",
          "ABOUT THE SAME COST",
          "A LITTLE LESS EXPENSIVE",
          "ABOUT THE SAME COST",
          "A LITTLE LESS EXPENSIVE",
          "A LOT MORE EXPENSIVE",
          "A LITTLE LESS EXPENSIVE",
          "ABOUT THE SAME COST",
          "ABOUT THE SAME COST",
          "A LITTLE LESS EXPENSIVE",
          "A LITTLE MORE EXPENSIVE",
          "ABOUT THE SAME COST",
          "A LITTLE LESS EXPENSIVE",
          "A LITTLE MORE EXPENSIVE",
          "A LITTLE LESS EXPENSIVE",
          "DO NOT KNOW",
          "DO NOT KNOW",
          "A LOT LESS EXPENSIVE",
          "ABOUT THE SAME COST",
          "A LITTLE MORE EXPENSIVE",
          "ABOUT THE SAME COST",
          "A LITTLE MORE EXPENSIVE",
          "A LITTLE MORE EXPENSIVE",
          "A LITTLE LESS EXPENSIVE",
          "ABOUT THE SAME COST",
          "ABOUT THE SAME COST",
          "A LITTLE LESS EXPENSIVE",
          "A LOT MORE EXPENSIVE",
          "A LITTLE LESS EXPENSIVE",
          "ABOUT THE SAME COST",
          "A LITTLE LESS EXPENSIVE",
          "ABOUT THE SAME COST",
          "A LITTLE MORE EXPENSIVE",
          "A LOT MORE EXPENSIVE",
          "A LITTLE LESS EXPENSIVE",
          "A LITTLE MORE EXPENSIVE",
          "A LITTLE MORE EXPENSIVE",
          "A LITTLE MORE EXPENSIVE",
          "ABOUT THE SAME COST",
          "A LITTLE MORE EXPENSIVE",
          "A LITTLE MORE EXPENSIVE",
          "A LOT MORE EXPENSIVE",
          "ABOUT THE SAME COST",
          "ABOUT THE SAME COST",
          "ABOUT THE SAME COST",
          "A LITTLE LESS EXPENSIVE",
          "A LITTLE LESS EXPENSIVE",
          "A LOT MORE EXPENSIVE",
          "A LITTLE LESS EXPENSIVE",
          "A LITTLE LESS EXPENSIVE",
          "A LITTLE MORE EXPENSIVE",
          "A LOT MORE EXPENSIVE",
          "DO NOT KNOW",
          "A LITTLE MORE EXPENSIVE",
          "ABOUT THE SAME COST",
          "ABOUT THE SAME COST",
          "A LITTLE MORE EXPENSIVE",
          "ABOUT THE SAME COST",
          "DO NOT KNOW",
          "A LITTLE MORE EXPENSIVE",
          "A LOT LESS EXPENSIVE",
          "ABOUT THE SAME COST",
          "A LITTLE LESS EXPENSIVE",
          "A LITTLE LESS EXPENSIVE",
          "ABOUT THE SAME COST",
          "A LITTLE LESS EXPENSIVE",
          "ABOUT THE SAME COST",
          "ABOUT THE SAME COST",
          "A LOT MORE EXPENSIVE",
          "DO NOT KNOW",
          "ABOUT THE SAME COST",
          "A LITTLE LESS EXPENSIVE",
          "A LOT LESS EXPENSIVE",
          "A LITTLE MORE EXPENSIVE",
          "A LOT MORE EXPENSIVE",
          "DO NOT KNOW",
          "ABOUT THE SAME COST",
          "ABOUT THE SAME COST",
          "A LITTLE LESS EXPENSIVE",
          "A LITTLE LESS EXPENSIVE",
          "A LOT LESS EXPENSIVE",
          "ABOUT THE SAME COST",
          "ABOUT THE SAME COST",
          "DO NOT KNOW",
          "A LOT MORE EXPENSIVE",
          "A LITTLE MORE EXPENSIVE",
          "A LITTLE MORE EXPENSIVE",
          "ABOUT THE SAME COST",
          "A LITTLE MORE EXPENSIVE",
          "DO NOT KNOW",
          "ABOUT THE SAME COST",
          "DO NOT KNOW",
          "A LITTLE LESS EXPENSIVE",
          "A LITTLE MORE EXPENSIVE",
          "A LITTLE LESS EXPENSIVE",
          "ABOUT THE SAME COST",
          "A LITTLE MORE EXPENSIVE",
          "A LITTLE LESS EXPENSIVE",
          "ABOUT THE SAME COST",
          "ABOUT THE SAME COST",
          "ABOUT THE SAME COST",
          "DO NOT KNOW",
          "ABOUT THE SAME COST",
          "A LITTLE LESS EXPENSIVE",
          "ABOUT THE SAME COST",
          "ABOUT THE SAME COST",
          "ABOUT THE SAME COST",
          "ABOUT THE SAME COST",
          "ABOUT THE SAME COST",
          "A LITTLE LESS EXPENSIVE",
          "A LITTLE MORE EXPENSIVE",
          "ABOUT THE SAME COST",
          "ABOUT THE SAME COST",
          "A LITTLE MORE EXPENSIVE",
          "ABOUT THE SAME COST",
          "A LITTLE LESS EXPENSIVE",
          "A LITTLE MORE EXPENSIVE",
          "ABOUT THE SAME COST",
          "A LITTLE MORE EXPENSIVE",
          "A LOT MORE EXPENSIVE",
          "A LITTLE LESS EXPENSIVE",
          "ABOUT THE SAME COST",
          "A LITTLE LESS EXPENSIVE",
          "A LITTLE MORE EXPENSIVE",
          "A LITTLE MORE EXPENSIVE",
          "A LITTLE LESS EXPENSIVE",
          "A LITTLE MORE EXPENSIVE",
          "A LITTLE MORE EXPENSIVE",
          "A LOT MORE EXPENSIVE",
          "A LOT MORE EXPENSIVE",
          "ABOUT THE SAME COST",
          "A LOT MORE EXPENSIVE",
          "DO NOT KNOW",
          "DO NOT KNOW",
          "A LOT LESS EXPENSIVE",
          "DO NOT KNOW",
          "A LITTLE LESS EXPENSIVE",
          "A LITTLE MORE EXPENSIVE",
          "A LITTLE MORE EXPENSIVE",
          "A LITTLE LESS EXPENSIVE",
          "A LITTLE MORE EXPENSIVE",
          "A LITTLE LESS EXPENSIVE",
          "A LOT LESS EXPENSIVE",
          "A LITTLE LESS EXPENSIVE",
          "A LITTLE LESS EXPENSIVE",
          "ABOUT THE SAME COST",
          "ABOUT THE SAME COST",
          "ABOUT THE SAME COST",
          "A LITTLE LESS EXPENSIVE",
          "ABOUT THE SAME COST",
          "A LITTLE MORE EXPENSIVE",
          "A LOT LESS EXPENSIVE",
          "DO NOT KNOW",
          "ABOUT THE SAME COST",
          "ABOUT THE SAME COST",
          "A LITTLE MORE EXPENSIVE",
          "A LOT MORE EXPENSIVE",
          "A LITTLE LESS EXPENSIVE",
          "A LITTLE LESS EXPENSIVE",
          "A LITTLE MORE EXPENSIVE",
          "A LITTLE LESS EXPENSIVE",
          "A LITTLE MORE EXPENSIVE",
          "A LITTLE LESS EXPENSIVE",
          "A LOT MORE EXPENSIVE",
          "A LOT LESS EXPENSIVE",
          "A LITTLE LESS EXPENSIVE",
          "A LITTLE MORE EXPENSIVE",
          "A LITTLE MORE EXPENSIVE",
          "ABOUT THE SAME COST",
          "A LOT MORE EXPENSIVE",
          "ABOUT THE SAME COST",
          "ABOUT THE SAME COST",
          "A LITTLE LESS EXPENSIVE",
          "A LITTLE MORE EXPENSIVE",
          "A LITTLE MORE EXPENSIVE",
          "ABOUT THE SAME COST",
          "DO NOT KNOW",
          "DO NOT KNOW",
          "A LITTLE LESS EXPENSIVE",
          "A LITTLE MORE EXPENSIVE",
          "A LITTLE LESS EXPENSIVE",
          "ABOUT THE SAME COST",
          "A LOT MORE EXPENSIVE",
          "A LOT MORE EXPENSIVE",
          "A LOT MORE EXPENSIVE",
          "A LOT LESS EXPENSIVE",
          "ABOUT THE SAME COST",
          "A LITTLE LESS EXPENSIVE",
          "A LITTLE MORE EXPENSIVE",
          "A LITTLE MORE EXPENSIVE",
          "DO NOT KNOW",
          "ABOUT THE SAME COST",
          "ABOUT THE SAME COST",
          "A LOT LESS EXPENSIVE",
          "A LITTLE MORE EXPENSIVE",
          "A LITTLE LESS EXPENSIVE",
          "DO NOT KNOW",
          "A LITTLE LESS EXPENSIVE",
          "DO NOT KNOW",
          "A LITTLE MORE EXPENSIVE",
          "A LITTLE MORE EXPENSIVE",
          "ABOUT THE SAME COST",
          "ABOUT THE SAME COST",
          "ABOUT THE SAME COST"
         ],
         "xaxis": "x",
         "yaxis": "y"
        },
        {
         "alignmentgroup": "True",
         "bingroup": "x",
         "hovertemplate": "Q13=SOMEWHAT OPPOSE<br>Q12=%{x}<br>count=%{y}<extra></extra>",
         "legendgroup": "SOMEWHAT OPPOSE",
         "marker": {
          "color": "#EF553B",
          "pattern": {
           "shape": ""
          }
         },
         "name": "SOMEWHAT OPPOSE",
         "offsetgroup": "SOMEWHAT OPPOSE",
         "orientation": "v",
         "showlegend": true,
         "type": "histogram",
         "x": [
          "DO NOT KNOW",
          "A LITTLE LESS EXPENSIVE",
          "A LOT MORE EXPENSIVE",
          "ABOUT THE SAME COST",
          "A LITTLE MORE EXPENSIVE",
          "A LITTLE MORE EXPENSIVE",
          "ABOUT THE SAME COST",
          "A LITTLE LESS EXPENSIVE",
          "A LOT MORE EXPENSIVE",
          "A LITTLE MORE EXPENSIVE",
          "A LITTLE MORE EXPENSIVE",
          "ABOUT THE SAME COST",
          "A LITTLE MORE EXPENSIVE",
          "A LITTLE MORE EXPENSIVE",
          "ABOUT THE SAME COST",
          "ABOUT THE SAME COST",
          "A LOT MORE EXPENSIVE",
          "ABOUT THE SAME COST",
          "ABOUT THE SAME COST",
          "A LITTLE LESS EXPENSIVE",
          "ABOUT THE SAME COST",
          "DO NOT KNOW",
          "A LITTLE MORE EXPENSIVE",
          "A LITTLE MORE EXPENSIVE",
          "A LITTLE MORE EXPENSIVE",
          "A LOT MORE EXPENSIVE",
          "ABOUT THE SAME COST",
          "A LOT MORE EXPENSIVE",
          "A LITTLE MORE EXPENSIVE",
          "A LITTLE MORE EXPENSIVE",
          "A LOT MORE EXPENSIVE",
          "A LOT MORE EXPENSIVE",
          "A LITTLE MORE EXPENSIVE",
          "ABOUT THE SAME COST",
          "A LITTLE MORE EXPENSIVE",
          "A LOT MORE EXPENSIVE",
          "A LOT MORE EXPENSIVE",
          "ABOUT THE SAME COST",
          "A LITTLE MORE EXPENSIVE",
          "ABOUT THE SAME COST",
          "A LOT MORE EXPENSIVE",
          "A LITTLE MORE EXPENSIVE",
          "ABOUT THE SAME COST",
          "A LITTLE LESS EXPENSIVE",
          "A LOT MORE EXPENSIVE",
          "ABOUT THE SAME COST",
          "A LITTLE MORE EXPENSIVE",
          "A LOT LESS EXPENSIVE",
          "A LITTLE LESS EXPENSIVE",
          "DO NOT KNOW",
          "ABOUT THE SAME COST",
          "A LITTLE MORE EXPENSIVE",
          "ABOUT THE SAME COST",
          "ABOUT THE SAME COST",
          "ABOUT THE SAME COST",
          "DO NOT KNOW",
          "A LITTLE MORE EXPENSIVE",
          "A LITTLE LESS EXPENSIVE",
          "ABOUT THE SAME COST",
          "ABOUT THE SAME COST",
          "DO NOT KNOW",
          "DO NOT KNOW",
          "A LITTLE LESS EXPENSIVE",
          "A LITTLE LESS EXPENSIVE",
          "A LOT MORE EXPENSIVE",
          "ABOUT THE SAME COST",
          "A LITTLE MORE EXPENSIVE",
          "A LOT MORE EXPENSIVE",
          "A LITTLE LESS EXPENSIVE",
          "DO NOT KNOW",
          "ABOUT THE SAME COST",
          "ABOUT THE SAME COST",
          "A LITTLE MORE EXPENSIVE",
          "A LITTLE MORE EXPENSIVE",
          "REFUSED/NOT ASCERTAINED",
          "DO NOT KNOW",
          "ABOUT THE SAME COST",
          "A LITTLE LESS EXPENSIVE",
          "A LITTLE MORE EXPENSIVE",
          "A LITTLE LESS EXPENSIVE",
          "DO NOT KNOW",
          "ABOUT THE SAME COST",
          "A LITTLE MORE EXPENSIVE",
          "ABOUT THE SAME COST",
          "ABOUT THE SAME COST",
          "A LITTLE LESS EXPENSIVE",
          "A LITTLE LESS EXPENSIVE",
          "A LOT LESS EXPENSIVE",
          "A LOT MORE EXPENSIVE",
          "ABOUT THE SAME COST",
          "A LITTLE MORE EXPENSIVE",
          "A LITTLE MORE EXPENSIVE",
          "A LITTLE LESS EXPENSIVE",
          "A LITTLE MORE EXPENSIVE",
          "A LITTLE MORE EXPENSIVE",
          "A LITTLE MORE EXPENSIVE",
          "A LITTLE LESS EXPENSIVE",
          "A LOT MORE EXPENSIVE",
          "A LITTLE LESS EXPENSIVE",
          "DO NOT KNOW",
          "A LOT MORE EXPENSIVE",
          "A LOT MORE EXPENSIVE",
          "A LITTLE MORE EXPENSIVE",
          "ABOUT THE SAME COST",
          "ABOUT THE SAME COST",
          "A LITTLE LESS EXPENSIVE",
          "A LITTLE MORE EXPENSIVE",
          "ABOUT THE SAME COST",
          "ABOUT THE SAME COST",
          "A LITTLE LESS EXPENSIVE",
          "ABOUT THE SAME COST",
          "A LITTLE MORE EXPENSIVE",
          "DO NOT KNOW",
          "ABOUT THE SAME COST",
          "A LOT MORE EXPENSIVE",
          "A LITTLE MORE EXPENSIVE"
         ],
         "xaxis": "x",
         "yaxis": "y"
        },
        {
         "alignmentgroup": "True",
         "bingroup": "x",
         "hovertemplate": "Q13=STRONGLY FAVOR<br>Q12=%{x}<br>count=%{y}<extra></extra>",
         "legendgroup": "STRONGLY FAVOR",
         "marker": {
          "color": "#00cc96",
          "pattern": {
           "shape": ""
          }
         },
         "name": "STRONGLY FAVOR",
         "offsetgroup": "STRONGLY FAVOR",
         "orientation": "v",
         "showlegend": true,
         "type": "histogram",
         "x": [
          "A LOT LESS EXPENSIVE",
          "A LITTLE MORE EXPENSIVE",
          "ABOUT THE SAME COST",
          "DO NOT KNOW",
          "A LITTLE MORE EXPENSIVE",
          "ABOUT THE SAME COST",
          "A LOT LESS EXPENSIVE",
          "A LOT LESS EXPENSIVE",
          "A LITTLE LESS EXPENSIVE",
          "A LITTLE LESS EXPENSIVE",
          "ABOUT THE SAME COST",
          "ABOUT THE SAME COST",
          "ABOUT THE SAME COST",
          "A LITTLE LESS EXPENSIVE",
          "A LITTLE LESS EXPENSIVE",
          "A LITTLE MORE EXPENSIVE",
          "A LOT LESS EXPENSIVE",
          "A LITTLE LESS EXPENSIVE",
          "A LITTLE LESS EXPENSIVE",
          "A LITTLE LESS EXPENSIVE",
          "A LOT LESS EXPENSIVE",
          "A LITTLE MORE EXPENSIVE",
          "DO NOT KNOW",
          "ABOUT THE SAME COST",
          "A LOT MORE EXPENSIVE",
          "A LITTLE LESS EXPENSIVE",
          "ABOUT THE SAME COST",
          "A LOT LESS EXPENSIVE",
          "ABOUT THE SAME COST",
          "A LOT LESS EXPENSIVE",
          "A LOT LESS EXPENSIVE",
          "ABOUT THE SAME COST",
          "ABOUT THE SAME COST",
          "DO NOT KNOW",
          "A LITTLE LESS EXPENSIVE",
          "A LOT MORE EXPENSIVE",
          "ABOUT THE SAME COST",
          "A LOT LESS EXPENSIVE",
          "A LITTLE LESS EXPENSIVE",
          "A LITTLE LESS EXPENSIVE",
          "A LITTLE LESS EXPENSIVE",
          "A LOT LESS EXPENSIVE",
          "A LOT LESS EXPENSIVE",
          "A LITTLE LESS EXPENSIVE",
          "A LITTLE MORE EXPENSIVE",
          "A LITTLE LESS EXPENSIVE",
          "A LITTLE LESS EXPENSIVE",
          "A LITTLE LESS EXPENSIVE",
          "A LITTLE LESS EXPENSIVE",
          "A LITTLE MORE EXPENSIVE",
          "A LITTLE LESS EXPENSIVE",
          "A LOT MORE EXPENSIVE",
          "A LOT LESS EXPENSIVE",
          "A LITTLE LESS EXPENSIVE",
          "ABOUT THE SAME COST",
          "A LITTLE LESS EXPENSIVE",
          "A LOT LESS EXPENSIVE",
          "A LITTLE MORE EXPENSIVE",
          "A LITTLE LESS EXPENSIVE",
          "ABOUT THE SAME COST",
          "A LITTLE LESS EXPENSIVE",
          "A LITTLE LESS EXPENSIVE",
          "A LOT LESS EXPENSIVE",
          "A LITTLE MORE EXPENSIVE",
          "A LOT LESS EXPENSIVE",
          "A LITTLE LESS EXPENSIVE",
          "A LITTLE LESS EXPENSIVE",
          "A LITTLE LESS EXPENSIVE",
          "A LOT LESS EXPENSIVE",
          "A LITTLE MORE EXPENSIVE",
          "A LITTLE MORE EXPENSIVE",
          "A LOT LESS EXPENSIVE",
          "A LITTLE MORE EXPENSIVE",
          "A LOT LESS EXPENSIVE",
          "A LOT LESS EXPENSIVE",
          "A LOT LESS EXPENSIVE",
          "ABOUT THE SAME COST",
          "A LITTLE LESS EXPENSIVE",
          "A LITTLE LESS EXPENSIVE",
          "A LITTLE LESS EXPENSIVE",
          "A LOT LESS EXPENSIVE",
          "A LITTLE MORE EXPENSIVE",
          "A LITTLE LESS EXPENSIVE",
          "A LOT LESS EXPENSIVE",
          "A LOT LESS EXPENSIVE",
          "A LITTLE MORE EXPENSIVE",
          "ABOUT THE SAME COST",
          "ABOUT THE SAME COST",
          "A LITTLE LESS EXPENSIVE",
          "ABOUT THE SAME COST",
          "A LITTLE LESS EXPENSIVE",
          "A LOT LESS EXPENSIVE",
          "ABOUT THE SAME COST",
          "A LITTLE LESS EXPENSIVE",
          "A LOT LESS EXPENSIVE",
          "ABOUT THE SAME COST",
          "A LITTLE MORE EXPENSIVE",
          "A LOT LESS EXPENSIVE",
          "A LOT LESS EXPENSIVE",
          "A LOT LESS EXPENSIVE",
          "A LITTLE LESS EXPENSIVE",
          "ABOUT THE SAME COST",
          "DO NOT KNOW",
          "A LOT LESS EXPENSIVE",
          "ABOUT THE SAME COST",
          "ABOUT THE SAME COST",
          "A LITTLE LESS EXPENSIVE",
          "A LITTLE LESS EXPENSIVE",
          "A LITTLE LESS EXPENSIVE",
          "ABOUT THE SAME COST",
          "A LITTLE LESS EXPENSIVE",
          "ABOUT THE SAME COST",
          "A LOT LESS EXPENSIVE",
          "A LOT LESS EXPENSIVE",
          "A LOT MORE EXPENSIVE",
          "ABOUT THE SAME COST",
          "A LOT LESS EXPENSIVE",
          "ABOUT THE SAME COST",
          "ABOUT THE SAME COST",
          "DO NOT KNOW",
          "DO NOT KNOW",
          "ABOUT THE SAME COST",
          "A LOT LESS EXPENSIVE",
          "A LITTLE LESS EXPENSIVE",
          "ABOUT THE SAME COST",
          "ABOUT THE SAME COST",
          "A LOT LESS EXPENSIVE",
          "ABOUT THE SAME COST",
          "A LOT LESS EXPENSIVE",
          "A LITTLE LESS EXPENSIVE",
          "ABOUT THE SAME COST",
          "ABOUT THE SAME COST",
          "A LITTLE MORE EXPENSIVE",
          "ABOUT THE SAME COST",
          "A LITTLE LESS EXPENSIVE",
          "A LITTLE LESS EXPENSIVE",
          "A LITTLE LESS EXPENSIVE",
          "A LITTLE LESS EXPENSIVE",
          "A LITTLE MORE EXPENSIVE",
          "A LITTLE LESS EXPENSIVE",
          "A LOT LESS EXPENSIVE",
          "ABOUT THE SAME COST",
          "A LOT LESS EXPENSIVE",
          "A LOT LESS EXPENSIVE",
          "ABOUT THE SAME COST",
          "A LOT LESS EXPENSIVE",
          "A LITTLE MORE EXPENSIVE",
          "A LITTLE LESS EXPENSIVE",
          "A LITTLE LESS EXPENSIVE",
          "A LOT LESS EXPENSIVE",
          "A LITTLE LESS EXPENSIVE",
          "A LITTLE LESS EXPENSIVE",
          "ABOUT THE SAME COST",
          "ABOUT THE SAME COST",
          "ABOUT THE SAME COST",
          "A LOT LESS EXPENSIVE",
          "A LOT LESS EXPENSIVE",
          "ABOUT THE SAME COST",
          "A LOT LESS EXPENSIVE",
          "A LITTLE MORE EXPENSIVE",
          "A LOT LESS EXPENSIVE",
          "A LOT LESS EXPENSIVE",
          "A LITTLE MORE EXPENSIVE",
          "ABOUT THE SAME COST",
          "ABOUT THE SAME COST",
          "ABOUT THE SAME COST",
          "ABOUT THE SAME COST",
          "A LITTLE LESS EXPENSIVE",
          "ABOUT THE SAME COST",
          "A LITTLE MORE EXPENSIVE",
          "A LITTLE MORE EXPENSIVE",
          "A LOT LESS EXPENSIVE",
          "A LOT LESS EXPENSIVE",
          "ABOUT THE SAME COST",
          "A LOT LESS EXPENSIVE",
          "A LOT LESS EXPENSIVE"
         ],
         "xaxis": "x",
         "yaxis": "y"
        },
        {
         "alignmentgroup": "True",
         "bingroup": "x",
         "hovertemplate": "Q13=DO NOT KNOW<br>Q12=%{x}<br>count=%{y}<extra></extra>",
         "legendgroup": "DO NOT KNOW",
         "marker": {
          "color": "#ab63fa",
          "pattern": {
           "shape": ""
          }
         },
         "name": "DO NOT KNOW",
         "offsetgroup": "DO NOT KNOW",
         "orientation": "v",
         "showlegend": true,
         "type": "histogram",
         "x": [
          "DO NOT KNOW",
          "DO NOT KNOW",
          "DO NOT KNOW",
          "DO NOT KNOW",
          "A LOT MORE EXPENSIVE",
          "ABOUT THE SAME COST",
          "DO NOT KNOW",
          "DO NOT KNOW",
          "A LITTLE MORE EXPENSIVE",
          "ABOUT THE SAME COST",
          "A LOT MORE EXPENSIVE",
          "A LITTLE LESS EXPENSIVE",
          "DO NOT KNOW",
          "A LOT LESS EXPENSIVE",
          "DO NOT KNOW",
          "DO NOT KNOW",
          "ABOUT THE SAME COST"
         ],
         "xaxis": "x",
         "yaxis": "y"
        },
        {
         "alignmentgroup": "True",
         "bingroup": "x",
         "hovertemplate": "Q13=STRONGLY OPPOSE<br>Q12=%{x}<br>count=%{y}<extra></extra>",
         "legendgroup": "STRONGLY OPPOSE",
         "marker": {
          "color": "#FFA15A",
          "pattern": {
           "shape": ""
          }
         },
         "name": "STRONGLY OPPOSE",
         "offsetgroup": "STRONGLY OPPOSE",
         "orientation": "v",
         "showlegend": true,
         "type": "histogram",
         "x": [
          "A LOT MORE EXPENSIVE",
          "A LITTLE MORE EXPENSIVE",
          "ABOUT THE SAME COST",
          "A LOT MORE EXPENSIVE",
          "A LOT MORE EXPENSIVE",
          "A LITTLE LESS EXPENSIVE",
          "A LITTLE LESS EXPENSIVE",
          "A LITTLE MORE EXPENSIVE",
          "DO NOT KNOW",
          "A LITTLE MORE EXPENSIVE",
          "ABOUT THE SAME COST",
          "ABOUT THE SAME COST",
          "A LITTLE MORE EXPENSIVE",
          "A LITTLE LESS EXPENSIVE",
          "A LITTLE LESS EXPENSIVE",
          "A LITTLE MORE EXPENSIVE",
          "A LITTLE MORE EXPENSIVE",
          "A LOT MORE EXPENSIVE",
          "A LOT MORE EXPENSIVE",
          "A LITTLE MORE EXPENSIVE",
          "A LOT MORE EXPENSIVE",
          "A LOT MORE EXPENSIVE",
          "A LOT MORE EXPENSIVE",
          "A LOT MORE EXPENSIVE",
          "A LITTLE LESS EXPENSIVE",
          "A LOT MORE EXPENSIVE",
          "A LOT MORE EXPENSIVE",
          "A LOT MORE EXPENSIVE",
          "ABOUT THE SAME COST",
          "A LOT MORE EXPENSIVE",
          "A LOT MORE EXPENSIVE",
          "A LOT MORE EXPENSIVE",
          "A LITTLE LESS EXPENSIVE",
          "ABOUT THE SAME COST",
          "ABOUT THE SAME COST",
          "A LITTLE MORE EXPENSIVE",
          "A LITTLE LESS EXPENSIVE",
          "A LOT MORE EXPENSIVE",
          "A LOT MORE EXPENSIVE",
          "A LOT LESS EXPENSIVE",
          "A LITTLE LESS EXPENSIVE",
          "A LOT MORE EXPENSIVE",
          "A LITTLE MORE EXPENSIVE",
          "A LOT LESS EXPENSIVE",
          "DO NOT KNOW",
          "DO NOT KNOW",
          "ABOUT THE SAME COST",
          "A LOT MORE EXPENSIVE",
          "ABOUT THE SAME COST",
          "A LOT MORE EXPENSIVE",
          "A LOT MORE EXPENSIVE",
          "ABOUT THE SAME COST",
          "A LOT MORE EXPENSIVE",
          "A LITTLE MORE EXPENSIVE",
          "A LOT MORE EXPENSIVE",
          "A LOT MORE EXPENSIVE",
          "A LITTLE MORE EXPENSIVE",
          "A LOT MORE EXPENSIVE",
          "REFUSED/NOT ASCERTAINED",
          "ABOUT THE SAME COST",
          "ABOUT THE SAME COST"
         ],
         "xaxis": "x",
         "yaxis": "y"
        }
       ],
       "layout": {
        "autosize": true,
        "barmode": "relative",
        "legend": {
         "title": {
          "text": "FAVOR OR OPPOSE EXPANDING NUCLEAR PLANTS"
         },
         "tracegroupgap": 0
        },
        "margin": {
         "t": 60
        },
        "template": {
         "data": {
          "bar": [
           {
            "error_x": {
             "color": "#f2f5fa"
            },
            "error_y": {
             "color": "#f2f5fa"
            },
            "marker": {
             "line": {
              "color": "rgb(17,17,17)",
              "width": 0.5
             },
             "pattern": {
              "fillmode": "overlay",
              "size": 10,
              "solidity": 0.2
             }
            },
            "type": "bar"
           }
          ],
          "barpolar": [
           {
            "marker": {
             "line": {
              "color": "rgb(17,17,17)",
              "width": 0.5
             },
             "pattern": {
              "fillmode": "overlay",
              "size": 10,
              "solidity": 0.2
             }
            },
            "type": "barpolar"
           }
          ],
          "carpet": [
           {
            "aaxis": {
             "endlinecolor": "#A2B1C6",
             "gridcolor": "#506784",
             "linecolor": "#506784",
             "minorgridcolor": "#506784",
             "startlinecolor": "#A2B1C6"
            },
            "baxis": {
             "endlinecolor": "#A2B1C6",
             "gridcolor": "#506784",
             "linecolor": "#506784",
             "minorgridcolor": "#506784",
             "startlinecolor": "#A2B1C6"
            },
            "type": "carpet"
           }
          ],
          "choropleth": [
           {
            "colorbar": {
             "outlinewidth": 0,
             "ticks": ""
            },
            "type": "choropleth"
           }
          ],
          "contour": [
           {
            "colorbar": {
             "outlinewidth": 0,
             "ticks": ""
            },
            "colorscale": [
             [
              0,
              "#0d0887"
             ],
             [
              0.1111111111111111,
              "#46039f"
             ],
             [
              0.2222222222222222,
              "#7201a8"
             ],
             [
              0.3333333333333333,
              "#9c179e"
             ],
             [
              0.4444444444444444,
              "#bd3786"
             ],
             [
              0.5555555555555556,
              "#d8576b"
             ],
             [
              0.6666666666666666,
              "#ed7953"
             ],
             [
              0.7777777777777778,
              "#fb9f3a"
             ],
             [
              0.8888888888888888,
              "#fdca26"
             ],
             [
              1,
              "#f0f921"
             ]
            ],
            "type": "contour"
           }
          ],
          "contourcarpet": [
           {
            "colorbar": {
             "outlinewidth": 0,
             "ticks": ""
            },
            "type": "contourcarpet"
           }
          ],
          "heatmap": [
           {
            "colorbar": {
             "outlinewidth": 0,
             "ticks": ""
            },
            "colorscale": [
             [
              0,
              "#0d0887"
             ],
             [
              0.1111111111111111,
              "#46039f"
             ],
             [
              0.2222222222222222,
              "#7201a8"
             ],
             [
              0.3333333333333333,
              "#9c179e"
             ],
             [
              0.4444444444444444,
              "#bd3786"
             ],
             [
              0.5555555555555556,
              "#d8576b"
             ],
             [
              0.6666666666666666,
              "#ed7953"
             ],
             [
              0.7777777777777778,
              "#fb9f3a"
             ],
             [
              0.8888888888888888,
              "#fdca26"
             ],
             [
              1,
              "#f0f921"
             ]
            ],
            "type": "heatmap"
           }
          ],
          "heatmapgl": [
           {
            "colorbar": {
             "outlinewidth": 0,
             "ticks": ""
            },
            "colorscale": [
             [
              0,
              "#0d0887"
             ],
             [
              0.1111111111111111,
              "#46039f"
             ],
             [
              0.2222222222222222,
              "#7201a8"
             ],
             [
              0.3333333333333333,
              "#9c179e"
             ],
             [
              0.4444444444444444,
              "#bd3786"
             ],
             [
              0.5555555555555556,
              "#d8576b"
             ],
             [
              0.6666666666666666,
              "#ed7953"
             ],
             [
              0.7777777777777778,
              "#fb9f3a"
             ],
             [
              0.8888888888888888,
              "#fdca26"
             ],
             [
              1,
              "#f0f921"
             ]
            ],
            "type": "heatmapgl"
           }
          ],
          "histogram": [
           {
            "marker": {
             "pattern": {
              "fillmode": "overlay",
              "size": 10,
              "solidity": 0.2
             }
            },
            "type": "histogram"
           }
          ],
          "histogram2d": [
           {
            "colorbar": {
             "outlinewidth": 0,
             "ticks": ""
            },
            "colorscale": [
             [
              0,
              "#0d0887"
             ],
             [
              0.1111111111111111,
              "#46039f"
             ],
             [
              0.2222222222222222,
              "#7201a8"
             ],
             [
              0.3333333333333333,
              "#9c179e"
             ],
             [
              0.4444444444444444,
              "#bd3786"
             ],
             [
              0.5555555555555556,
              "#d8576b"
             ],
             [
              0.6666666666666666,
              "#ed7953"
             ],
             [
              0.7777777777777778,
              "#fb9f3a"
             ],
             [
              0.8888888888888888,
              "#fdca26"
             ],
             [
              1,
              "#f0f921"
             ]
            ],
            "type": "histogram2d"
           }
          ],
          "histogram2dcontour": [
           {
            "colorbar": {
             "outlinewidth": 0,
             "ticks": ""
            },
            "colorscale": [
             [
              0,
              "#0d0887"
             ],
             [
              0.1111111111111111,
              "#46039f"
             ],
             [
              0.2222222222222222,
              "#7201a8"
             ],
             [
              0.3333333333333333,
              "#9c179e"
             ],
             [
              0.4444444444444444,
              "#bd3786"
             ],
             [
              0.5555555555555556,
              "#d8576b"
             ],
             [
              0.6666666666666666,
              "#ed7953"
             ],
             [
              0.7777777777777778,
              "#fb9f3a"
             ],
             [
              0.8888888888888888,
              "#fdca26"
             ],
             [
              1,
              "#f0f921"
             ]
            ],
            "type": "histogram2dcontour"
           }
          ],
          "mesh3d": [
           {
            "colorbar": {
             "outlinewidth": 0,
             "ticks": ""
            },
            "type": "mesh3d"
           }
          ],
          "parcoords": [
           {
            "line": {
             "colorbar": {
              "outlinewidth": 0,
              "ticks": ""
             }
            },
            "type": "parcoords"
           }
          ],
          "pie": [
           {
            "automargin": true,
            "type": "pie"
           }
          ],
          "scatter": [
           {
            "marker": {
             "line": {
              "color": "#283442"
             }
            },
            "type": "scatter"
           }
          ],
          "scatter3d": [
           {
            "line": {
             "colorbar": {
              "outlinewidth": 0,
              "ticks": ""
             }
            },
            "marker": {
             "colorbar": {
              "outlinewidth": 0,
              "ticks": ""
             }
            },
            "type": "scatter3d"
           }
          ],
          "scattercarpet": [
           {
            "marker": {
             "colorbar": {
              "outlinewidth": 0,
              "ticks": ""
             }
            },
            "type": "scattercarpet"
           }
          ],
          "scattergeo": [
           {
            "marker": {
             "colorbar": {
              "outlinewidth": 0,
              "ticks": ""
             }
            },
            "type": "scattergeo"
           }
          ],
          "scattergl": [
           {
            "marker": {
             "line": {
              "color": "#283442"
             }
            },
            "type": "scattergl"
           }
          ],
          "scattermapbox": [
           {
            "marker": {
             "colorbar": {
              "outlinewidth": 0,
              "ticks": ""
             }
            },
            "type": "scattermapbox"
           }
          ],
          "scatterpolar": [
           {
            "marker": {
             "colorbar": {
              "outlinewidth": 0,
              "ticks": ""
             }
            },
            "type": "scatterpolar"
           }
          ],
          "scatterpolargl": [
           {
            "marker": {
             "colorbar": {
              "outlinewidth": 0,
              "ticks": ""
             }
            },
            "type": "scatterpolargl"
           }
          ],
          "scatterternary": [
           {
            "marker": {
             "colorbar": {
              "outlinewidth": 0,
              "ticks": ""
             }
            },
            "type": "scatterternary"
           }
          ],
          "surface": [
           {
            "colorbar": {
             "outlinewidth": 0,
             "ticks": ""
            },
            "colorscale": [
             [
              0,
              "#0d0887"
             ],
             [
              0.1111111111111111,
              "#46039f"
             ],
             [
              0.2222222222222222,
              "#7201a8"
             ],
             [
              0.3333333333333333,
              "#9c179e"
             ],
             [
              0.4444444444444444,
              "#bd3786"
             ],
             [
              0.5555555555555556,
              "#d8576b"
             ],
             [
              0.6666666666666666,
              "#ed7953"
             ],
             [
              0.7777777777777778,
              "#fb9f3a"
             ],
             [
              0.8888888888888888,
              "#fdca26"
             ],
             [
              1,
              "#f0f921"
             ]
            ],
            "type": "surface"
           }
          ],
          "table": [
           {
            "cells": {
             "fill": {
              "color": "#506784"
             },
             "line": {
              "color": "rgb(17,17,17)"
             }
            },
            "header": {
             "fill": {
              "color": "#2a3f5f"
             },
             "line": {
              "color": "rgb(17,17,17)"
             }
            },
            "type": "table"
           }
          ]
         },
         "layout": {
          "annotationdefaults": {
           "arrowcolor": "#f2f5fa",
           "arrowhead": 0,
           "arrowwidth": 1
          },
          "autotypenumbers": "strict",
          "coloraxis": {
           "colorbar": {
            "outlinewidth": 0,
            "ticks": ""
           }
          },
          "colorscale": {
           "diverging": [
            [
             0,
             "#8e0152"
            ],
            [
             0.1,
             "#c51b7d"
            ],
            [
             0.2,
             "#de77ae"
            ],
            [
             0.3,
             "#f1b6da"
            ],
            [
             0.4,
             "#fde0ef"
            ],
            [
             0.5,
             "#f7f7f7"
            ],
            [
             0.6,
             "#e6f5d0"
            ],
            [
             0.7,
             "#b8e186"
            ],
            [
             0.8,
             "#7fbc41"
            ],
            [
             0.9,
             "#4d9221"
            ],
            [
             1,
             "#276419"
            ]
           ],
           "sequential": [
            [
             0,
             "#0d0887"
            ],
            [
             0.1111111111111111,
             "#46039f"
            ],
            [
             0.2222222222222222,
             "#7201a8"
            ],
            [
             0.3333333333333333,
             "#9c179e"
            ],
            [
             0.4444444444444444,
             "#bd3786"
            ],
            [
             0.5555555555555556,
             "#d8576b"
            ],
            [
             0.6666666666666666,
             "#ed7953"
            ],
            [
             0.7777777777777778,
             "#fb9f3a"
            ],
            [
             0.8888888888888888,
             "#fdca26"
            ],
            [
             1,
             "#f0f921"
            ]
           ],
           "sequentialminus": [
            [
             0,
             "#0d0887"
            ],
            [
             0.1111111111111111,
             "#46039f"
            ],
            [
             0.2222222222222222,
             "#7201a8"
            ],
            [
             0.3333333333333333,
             "#9c179e"
            ],
            [
             0.4444444444444444,
             "#bd3786"
            ],
            [
             0.5555555555555556,
             "#d8576b"
            ],
            [
             0.6666666666666666,
             "#ed7953"
            ],
            [
             0.7777777777777778,
             "#fb9f3a"
            ],
            [
             0.8888888888888888,
             "#fdca26"
            ],
            [
             1,
             "#f0f921"
            ]
           ]
          },
          "colorway": [
           "#636efa",
           "#EF553B",
           "#00cc96",
           "#ab63fa",
           "#FFA15A",
           "#19d3f3",
           "#FF6692",
           "#B6E880",
           "#FF97FF",
           "#FECB52"
          ],
          "font": {
           "color": "#f2f5fa"
          },
          "geo": {
           "bgcolor": "rgb(17,17,17)",
           "lakecolor": "rgb(17,17,17)",
           "landcolor": "rgb(17,17,17)",
           "showlakes": true,
           "showland": true,
           "subunitcolor": "#506784"
          },
          "hoverlabel": {
           "align": "left"
          },
          "hovermode": "closest",
          "mapbox": {
           "style": "dark"
          },
          "paper_bgcolor": "rgb(17,17,17)",
          "plot_bgcolor": "rgb(17,17,17)",
          "polar": {
           "angularaxis": {
            "gridcolor": "#506784",
            "linecolor": "#506784",
            "ticks": ""
           },
           "bgcolor": "rgb(17,17,17)",
           "radialaxis": {
            "gridcolor": "#506784",
            "linecolor": "#506784",
            "ticks": ""
           }
          },
          "scene": {
           "xaxis": {
            "backgroundcolor": "rgb(17,17,17)",
            "gridcolor": "#506784",
            "gridwidth": 2,
            "linecolor": "#506784",
            "showbackground": true,
            "ticks": "",
            "zerolinecolor": "#C8D4E3"
           },
           "yaxis": {
            "backgroundcolor": "rgb(17,17,17)",
            "gridcolor": "#506784",
            "gridwidth": 2,
            "linecolor": "#506784",
            "showbackground": true,
            "ticks": "",
            "zerolinecolor": "#C8D4E3"
           },
           "zaxis": {
            "backgroundcolor": "rgb(17,17,17)",
            "gridcolor": "#506784",
            "gridwidth": 2,
            "linecolor": "#506784",
            "showbackground": true,
            "ticks": "",
            "zerolinecolor": "#C8D4E3"
           }
          },
          "shapedefaults": {
           "line": {
            "color": "#f2f5fa"
           }
          },
          "sliderdefaults": {
           "bgcolor": "#C8D4E3",
           "bordercolor": "rgb(17,17,17)",
           "borderwidth": 1,
           "tickwidth": 0
          },
          "ternary": {
           "aaxis": {
            "gridcolor": "#506784",
            "linecolor": "#506784",
            "ticks": ""
           },
           "baxis": {
            "gridcolor": "#506784",
            "linecolor": "#506784",
            "ticks": ""
           },
           "bgcolor": "rgb(17,17,17)",
           "caxis": {
            "gridcolor": "#506784",
            "linecolor": "#506784",
            "ticks": ""
           }
          },
          "title": {
           "x": 0.05
          },
          "updatemenudefaults": {
           "bgcolor": "#506784",
           "borderwidth": 0
          },
          "xaxis": {
           "automargin": true,
           "gridcolor": "#283442",
           "linecolor": "#506784",
           "ticks": "",
           "title": {
            "standoff": 15
           },
           "zerolinecolor": "#283442",
           "zerolinewidth": 2
          },
          "yaxis": {
           "automargin": true,
           "gridcolor": "#283442",
           "linecolor": "#506784",
           "ticks": "",
           "title": {
            "standoff": 15
           },
           "zerolinecolor": "#283442",
           "zerolinewidth": 2
          }
         }
        },
        "xaxis": {
         "anchor": "y",
         "autorange": true,
         "categoryorder": "total ascending",
         "domain": [
          0,
          1
         ],
         "range": [
          -0.5,
          6.5
         ],
         "title": {
          "text": "HOW EXPENSIVE NUCLEAR ENERGY FOR ELECTRICITY"
         },
         "type": "category"
        },
        "yaxis": {
         "anchor": "x",
         "autorange": true,
         "domain": [
          0,
          1
         ],
         "range": [
          0,
          175.78947368421052
         ],
         "title": {
          "text": "NUMBER OF RESPONCES"
         }
        }
       }
      },
      "image/png": "[encoded data removed]",
      "text/html": [
       "<div>                            <div id=\"0bd3bf48-0202-46d5-8e43-27023996ddf7\" class=\"plotly-graph-div\" style=\"height:525px; width:100%;\"></div>            <script type=\"text/javascript\">                require([\"plotly\"], function(Plotly) {                    window.PLOTLYENV=window.PLOTLYENV || {};                                    if (document.getElementById(\"0bd3bf48-0202-46d5-8e43-27023996ddf7\")) {                    Plotly.newPlot(                        \"0bd3bf48-0202-46d5-8e43-27023996ddf7\",                        [{\"alignmentgroup\":\"True\",\"bingroup\":\"x\",\"hovertemplate\":\"Q13=SOMEWHAT FAVOR<br>Q12=%{x}<br>count=%{y}<extra></extra>\",\"legendgroup\":\"SOMEWHAT FAVOR\",\"marker\":{\"color\":\"#636efa\",\"pattern\":{\"shape\":\"\"}},\"name\":\"SOMEWHAT FAVOR\",\"offsetgroup\":\"SOMEWHAT FAVOR\",\"orientation\":\"v\",\"showlegend\":true,\"x\":[\"ABOUT THE SAME COST\",\"DO NOT KNOW\",\"ABOUT THE SAME COST\",\"ABOUT THE SAME COST\",\"A LITTLE LESS EXPENSIVE\",\"DO NOT KNOW\",\"ABOUT THE SAME COST\",\"A LITTLE MORE EXPENSIVE\",\"A LITTLE MORE EXPENSIVE\",\"ABOUT THE SAME COST\",\"A LITTLE MORE EXPENSIVE\",\"ABOUT THE SAME COST\",\"A LITTLE MORE EXPENSIVE\",\"A LOT MORE EXPENSIVE\",\"ABOUT THE SAME COST\",\"A LITTLE LESS EXPENSIVE\",\"A LITTLE MORE EXPENSIVE\",\"A LITTLE LESS EXPENSIVE\",\"A LOT LESS EXPENSIVE\",\"A LITTLE MORE EXPENSIVE\",\"ABOUT THE SAME COST\",\"A LITTLE LESS EXPENSIVE\",\"A LITTLE LESS EXPENSIVE\",\"ABOUT THE SAME COST\",\"ABOUT THE SAME COST\",\"A LITTLE MORE EXPENSIVE\",\"A LITTLE MORE EXPENSIVE\",\"A LITTLE LESS EXPENSIVE\",\"A LOT LESS EXPENSIVE\",\"DO NOT KNOW\",\"ABOUT THE SAME COST\",\"A LITTLE LESS EXPENSIVE\",\"A LOT LESS EXPENSIVE\",\"ABOUT THE SAME COST\",\"A LITTLE LESS EXPENSIVE\",\"ABOUT THE SAME COST\",\"A LITTLE LESS EXPENSIVE\",\"A LOT MORE EXPENSIVE\",\"A LITTLE LESS EXPENSIVE\",\"ABOUT THE SAME COST\",\"ABOUT THE SAME COST\",\"A LITTLE LESS EXPENSIVE\",\"A LITTLE MORE EXPENSIVE\",\"ABOUT THE SAME COST\",\"A LITTLE LESS EXPENSIVE\",\"A LITTLE MORE EXPENSIVE\",\"A LITTLE LESS EXPENSIVE\",\"DO NOT KNOW\",\"DO NOT KNOW\",\"A LOT LESS EXPENSIVE\",\"ABOUT THE SAME COST\",\"A LITTLE MORE EXPENSIVE\",\"ABOUT THE SAME COST\",\"A LITTLE MORE EXPENSIVE\",\"A LITTLE MORE EXPENSIVE\",\"A LITTLE LESS EXPENSIVE\",\"ABOUT THE SAME COST\",\"ABOUT THE SAME COST\",\"A LITTLE LESS EXPENSIVE\",\"A LOT MORE EXPENSIVE\",\"A LITTLE LESS EXPENSIVE\",\"ABOUT THE SAME COST\",\"A LITTLE LESS EXPENSIVE\",\"ABOUT THE SAME COST\",\"A LITTLE MORE EXPENSIVE\",\"A LOT MORE EXPENSIVE\",\"A LITTLE LESS EXPENSIVE\",\"A LITTLE MORE EXPENSIVE\",\"A LITTLE MORE EXPENSIVE\",\"A LITTLE MORE EXPENSIVE\",\"ABOUT THE SAME COST\",\"A LITTLE MORE EXPENSIVE\",\"A LITTLE MORE EXPENSIVE\",\"A LOT MORE EXPENSIVE\",\"ABOUT THE SAME COST\",\"ABOUT THE SAME COST\",\"ABOUT THE SAME COST\",\"A LITTLE LESS EXPENSIVE\",\"A LITTLE LESS EXPENSIVE\",\"A LOT MORE EXPENSIVE\",\"A LITTLE LESS EXPENSIVE\",\"A LITTLE LESS EXPENSIVE\",\"A LITTLE MORE EXPENSIVE\",\"A LOT MORE EXPENSIVE\",\"DO NOT KNOW\",\"A LITTLE MORE EXPENSIVE\",\"ABOUT THE SAME COST\",\"ABOUT THE SAME COST\",\"A LITTLE MORE EXPENSIVE\",\"ABOUT THE SAME COST\",\"DO NOT KNOW\",\"A LITTLE MORE EXPENSIVE\",\"A LOT LESS EXPENSIVE\",\"ABOUT THE SAME COST\",\"A LITTLE LESS EXPENSIVE\",\"A LITTLE LESS EXPENSIVE\",\"ABOUT THE SAME COST\",\"A LITTLE LESS EXPENSIVE\",\"ABOUT THE SAME COST\",\"ABOUT THE SAME COST\",\"A LOT MORE EXPENSIVE\",\"DO NOT KNOW\",\"ABOUT THE SAME COST\",\"A LITTLE LESS EXPENSIVE\",\"A LOT LESS EXPENSIVE\",\"A LITTLE MORE EXPENSIVE\",\"A LOT MORE EXPENSIVE\",\"DO NOT KNOW\",\"ABOUT THE SAME COST\",\"ABOUT THE SAME COST\",\"A LITTLE LESS EXPENSIVE\",\"A LITTLE LESS EXPENSIVE\",\"A LOT LESS EXPENSIVE\",\"ABOUT THE SAME COST\",\"ABOUT THE SAME COST\",\"DO NOT KNOW\",\"A LOT MORE EXPENSIVE\",\"A LITTLE MORE EXPENSIVE\",\"A LITTLE MORE EXPENSIVE\",\"ABOUT THE SAME COST\",\"A LITTLE MORE EXPENSIVE\",\"DO NOT KNOW\",\"ABOUT THE SAME COST\",\"DO NOT KNOW\",\"A LITTLE LESS EXPENSIVE\",\"A LITTLE MORE EXPENSIVE\",\"A LITTLE LESS EXPENSIVE\",\"ABOUT THE SAME COST\",\"A LITTLE MORE EXPENSIVE\",\"A LITTLE LESS EXPENSIVE\",\"ABOUT THE SAME COST\",\"ABOUT THE SAME COST\",\"ABOUT THE SAME COST\",\"DO NOT KNOW\",\"ABOUT THE SAME COST\",\"A LITTLE LESS EXPENSIVE\",\"ABOUT THE SAME COST\",\"ABOUT THE SAME COST\",\"ABOUT THE SAME COST\",\"ABOUT THE SAME COST\",\"ABOUT THE SAME COST\",\"A LITTLE LESS EXPENSIVE\",\"A LITTLE MORE EXPENSIVE\",\"ABOUT THE SAME COST\",\"ABOUT THE SAME COST\",\"A LITTLE MORE EXPENSIVE\",\"ABOUT THE SAME COST\",\"A LITTLE LESS EXPENSIVE\",\"A LITTLE MORE EXPENSIVE\",\"ABOUT THE SAME COST\",\"A LITTLE MORE EXPENSIVE\",\"A LOT MORE EXPENSIVE\",\"A LITTLE LESS EXPENSIVE\",\"ABOUT THE SAME COST\",\"A LITTLE LESS EXPENSIVE\",\"A LITTLE MORE EXPENSIVE\",\"A LITTLE MORE EXPENSIVE\",\"A LITTLE LESS EXPENSIVE\",\"A LITTLE MORE EXPENSIVE\",\"A LITTLE MORE EXPENSIVE\",\"A LOT MORE EXPENSIVE\",\"A LOT MORE EXPENSIVE\",\"ABOUT THE SAME COST\",\"A LOT MORE EXPENSIVE\",\"DO NOT KNOW\",\"DO NOT KNOW\",\"A LOT LESS EXPENSIVE\",\"DO NOT KNOW\",\"A LITTLE LESS EXPENSIVE\",\"A LITTLE MORE EXPENSIVE\",\"A LITTLE MORE EXPENSIVE\",\"A LITTLE LESS EXPENSIVE\",\"A LITTLE MORE EXPENSIVE\",\"A LITTLE LESS EXPENSIVE\",\"A LOT LESS EXPENSIVE\",\"A LITTLE LESS EXPENSIVE\",\"A LITTLE LESS EXPENSIVE\",\"ABOUT THE SAME COST\",\"ABOUT THE SAME COST\",\"ABOUT THE SAME COST\",\"A LITTLE LESS EXPENSIVE\",\"ABOUT THE SAME COST\",\"A LITTLE MORE EXPENSIVE\",\"A LOT LESS EXPENSIVE\",\"DO NOT KNOW\",\"ABOUT THE SAME COST\",\"ABOUT THE SAME COST\",\"A LITTLE MORE EXPENSIVE\",\"A LOT MORE EXPENSIVE\",\"A LITTLE LESS EXPENSIVE\",\"A LITTLE LESS EXPENSIVE\",\"A LITTLE MORE EXPENSIVE\",\"A LITTLE LESS EXPENSIVE\",\"A LITTLE MORE EXPENSIVE\",\"A LITTLE LESS EXPENSIVE\",\"A LOT MORE EXPENSIVE\",\"A LOT LESS EXPENSIVE\",\"A LITTLE LESS EXPENSIVE\",\"A LITTLE MORE EXPENSIVE\",\"A LITTLE MORE EXPENSIVE\",\"ABOUT THE SAME COST\",\"A LOT MORE EXPENSIVE\",\"ABOUT THE SAME COST\",\"ABOUT THE SAME COST\",\"A LITTLE LESS EXPENSIVE\",\"A LITTLE MORE EXPENSIVE\",\"A LITTLE MORE EXPENSIVE\",\"ABOUT THE SAME COST\",\"DO NOT KNOW\",\"DO NOT KNOW\",\"A LITTLE LESS EXPENSIVE\",\"A LITTLE MORE EXPENSIVE\",\"A LITTLE LESS EXPENSIVE\",\"ABOUT THE SAME COST\",\"A LOT MORE EXPENSIVE\",\"A LOT MORE EXPENSIVE\",\"A LOT MORE EXPENSIVE\",\"A LOT LESS EXPENSIVE\",\"ABOUT THE SAME COST\",\"A LITTLE LESS EXPENSIVE\",\"A LITTLE MORE EXPENSIVE\",\"A LITTLE MORE EXPENSIVE\",\"DO NOT KNOW\",\"ABOUT THE SAME COST\",\"ABOUT THE SAME COST\",\"A LOT LESS EXPENSIVE\",\"A LITTLE MORE EXPENSIVE\",\"A LITTLE LESS EXPENSIVE\",\"DO NOT KNOW\",\"A LITTLE LESS EXPENSIVE\",\"DO NOT KNOW\",\"A LITTLE MORE EXPENSIVE\",\"A LITTLE MORE EXPENSIVE\",\"ABOUT THE SAME COST\",\"ABOUT THE SAME COST\",\"ABOUT THE SAME COST\"],\"xaxis\":\"x\",\"yaxis\":\"y\",\"type\":\"histogram\"},{\"alignmentgroup\":\"True\",\"bingroup\":\"x\",\"hovertemplate\":\"Q13=SOMEWHAT OPPOSE<br>Q12=%{x}<br>count=%{y}<extra></extra>\",\"legendgroup\":\"SOMEWHAT OPPOSE\",\"marker\":{\"color\":\"#EF553B\",\"pattern\":{\"shape\":\"\"}},\"name\":\"SOMEWHAT OPPOSE\",\"offsetgroup\":\"SOMEWHAT OPPOSE\",\"orientation\":\"v\",\"showlegend\":true,\"x\":[\"DO NOT KNOW\",\"A LITTLE LESS EXPENSIVE\",\"A LOT MORE EXPENSIVE\",\"ABOUT THE SAME COST\",\"A LITTLE MORE EXPENSIVE\",\"A LITTLE MORE EXPENSIVE\",\"ABOUT THE SAME COST\",\"A LITTLE LESS EXPENSIVE\",\"A LOT MORE EXPENSIVE\",\"A LITTLE MORE EXPENSIVE\",\"A LITTLE MORE EXPENSIVE\",\"ABOUT THE SAME COST\",\"A LITTLE MORE EXPENSIVE\",\"A LITTLE MORE EXPENSIVE\",\"ABOUT THE SAME COST\",\"ABOUT THE SAME COST\",\"A LOT MORE EXPENSIVE\",\"ABOUT THE SAME COST\",\"ABOUT THE SAME COST\",\"A LITTLE LESS EXPENSIVE\",\"ABOUT THE SAME COST\",\"DO NOT KNOW\",\"A LITTLE MORE EXPENSIVE\",\"A LITTLE MORE EXPENSIVE\",\"A LITTLE MORE EXPENSIVE\",\"A LOT MORE EXPENSIVE\",\"ABOUT THE SAME COST\",\"A LOT MORE EXPENSIVE\",\"A LITTLE MORE EXPENSIVE\",\"A LITTLE MORE EXPENSIVE\",\"A LOT MORE EXPENSIVE\",\"A LOT MORE EXPENSIVE\",\"A LITTLE MORE EXPENSIVE\",\"ABOUT THE SAME COST\",\"A LITTLE MORE EXPENSIVE\",\"A LOT MORE EXPENSIVE\",\"A LOT MORE EXPENSIVE\",\"ABOUT THE SAME COST\",\"A LITTLE MORE EXPENSIVE\",\"ABOUT THE SAME COST\",\"A LOT MORE EXPENSIVE\",\"A LITTLE MORE EXPENSIVE\",\"ABOUT THE SAME COST\",\"A LITTLE LESS EXPENSIVE\",\"A LOT MORE EXPENSIVE\",\"ABOUT THE SAME COST\",\"A LITTLE MORE EXPENSIVE\",\"A LOT LESS EXPENSIVE\",\"A LITTLE LESS EXPENSIVE\",\"DO NOT KNOW\",\"ABOUT THE SAME COST\",\"A LITTLE MORE EXPENSIVE\",\"ABOUT THE SAME COST\",\"ABOUT THE SAME COST\",\"ABOUT THE SAME COST\",\"DO NOT KNOW\",\"A LITTLE MORE EXPENSIVE\",\"A LITTLE LESS EXPENSIVE\",\"ABOUT THE SAME COST\",\"ABOUT THE SAME COST\",\"DO NOT KNOW\",\"DO NOT KNOW\",\"A LITTLE LESS EXPENSIVE\",\"A LITTLE LESS EXPENSIVE\",\"A LOT MORE EXPENSIVE\",\"ABOUT THE SAME COST\",\"A LITTLE MORE EXPENSIVE\",\"A LOT MORE EXPENSIVE\",\"A LITTLE LESS EXPENSIVE\",\"DO NOT KNOW\",\"ABOUT THE SAME COST\",\"ABOUT THE SAME COST\",\"A LITTLE MORE EXPENSIVE\",\"A LITTLE MORE EXPENSIVE\",\"REFUSED/NOT ASCERTAINED\",\"DO NOT KNOW\",\"ABOUT THE SAME COST\",\"A LITTLE LESS EXPENSIVE\",\"A LITTLE MORE EXPENSIVE\",\"A LITTLE LESS EXPENSIVE\",\"DO NOT KNOW\",\"ABOUT THE SAME COST\",\"A LITTLE MORE EXPENSIVE\",\"ABOUT THE SAME COST\",\"ABOUT THE SAME COST\",\"A LITTLE LESS EXPENSIVE\",\"A LITTLE LESS EXPENSIVE\",\"A LOT LESS EXPENSIVE\",\"A LOT MORE EXPENSIVE\",\"ABOUT THE SAME COST\",\"A LITTLE MORE EXPENSIVE\",\"A LITTLE MORE EXPENSIVE\",\"A LITTLE LESS EXPENSIVE\",\"A LITTLE MORE EXPENSIVE\",\"A LITTLE MORE EXPENSIVE\",\"A LITTLE MORE EXPENSIVE\",\"A LITTLE LESS EXPENSIVE\",\"A LOT MORE EXPENSIVE\",\"A LITTLE LESS EXPENSIVE\",\"DO NOT KNOW\",\"A LOT MORE EXPENSIVE\",\"A LOT MORE EXPENSIVE\",\"A LITTLE MORE EXPENSIVE\",\"ABOUT THE SAME COST\",\"ABOUT THE SAME COST\",\"A LITTLE LESS EXPENSIVE\",\"A LITTLE MORE EXPENSIVE\",\"ABOUT THE SAME COST\",\"ABOUT THE SAME COST\",\"A LITTLE LESS EXPENSIVE\",\"ABOUT THE SAME COST\",\"A LITTLE MORE EXPENSIVE\",\"DO NOT KNOW\",\"ABOUT THE SAME COST\",\"A LOT MORE EXPENSIVE\",\"A LITTLE MORE EXPENSIVE\"],\"xaxis\":\"x\",\"yaxis\":\"y\",\"type\":\"histogram\"},{\"alignmentgroup\":\"True\",\"bingroup\":\"x\",\"hovertemplate\":\"Q13=STRONGLY FAVOR<br>Q12=%{x}<br>count=%{y}<extra></extra>\",\"legendgroup\":\"STRONGLY FAVOR\",\"marker\":{\"color\":\"#00cc96\",\"pattern\":{\"shape\":\"\"}},\"name\":\"STRONGLY FAVOR\",\"offsetgroup\":\"STRONGLY FAVOR\",\"orientation\":\"v\",\"showlegend\":true,\"x\":[\"A LOT LESS EXPENSIVE\",\"A LITTLE MORE EXPENSIVE\",\"ABOUT THE SAME COST\",\"DO NOT KNOW\",\"A LITTLE MORE EXPENSIVE\",\"ABOUT THE SAME COST\",\"A LOT LESS EXPENSIVE\",\"A LOT LESS EXPENSIVE\",\"A LITTLE LESS EXPENSIVE\",\"A LITTLE LESS EXPENSIVE\",\"ABOUT THE SAME COST\",\"ABOUT THE SAME COST\",\"ABOUT THE SAME COST\",\"A LITTLE LESS EXPENSIVE\",\"A LITTLE LESS EXPENSIVE\",\"A LITTLE MORE EXPENSIVE\",\"A LOT LESS EXPENSIVE\",\"A LITTLE LESS EXPENSIVE\",\"A LITTLE LESS EXPENSIVE\",\"A LITTLE LESS EXPENSIVE\",\"A LOT LESS EXPENSIVE\",\"A LITTLE MORE EXPENSIVE\",\"DO NOT KNOW\",\"ABOUT THE SAME COST\",\"A LOT MORE EXPENSIVE\",\"A LITTLE LESS EXPENSIVE\",\"ABOUT THE SAME COST\",\"A LOT LESS EXPENSIVE\",\"ABOUT THE SAME COST\",\"A LOT LESS EXPENSIVE\",\"A LOT LESS EXPENSIVE\",\"ABOUT THE SAME COST\",\"ABOUT THE SAME COST\",\"DO NOT KNOW\",\"A LITTLE LESS EXPENSIVE\",\"A LOT MORE EXPENSIVE\",\"ABOUT THE SAME COST\",\"A LOT LESS EXPENSIVE\",\"A LITTLE LESS EXPENSIVE\",\"A LITTLE LESS EXPENSIVE\",\"A LITTLE LESS EXPENSIVE\",\"A LOT LESS EXPENSIVE\",\"A LOT LESS EXPENSIVE\",\"A LITTLE LESS EXPENSIVE\",\"A LITTLE MORE EXPENSIVE\",\"A LITTLE LESS EXPENSIVE\",\"A LITTLE LESS EXPENSIVE\",\"A LITTLE LESS EXPENSIVE\",\"A LITTLE LESS EXPENSIVE\",\"A LITTLE MORE EXPENSIVE\",\"A LITTLE LESS EXPENSIVE\",\"A LOT MORE EXPENSIVE\",\"A LOT LESS EXPENSIVE\",\"A LITTLE LESS EXPENSIVE\",\"ABOUT THE SAME COST\",\"A LITTLE LESS EXPENSIVE\",\"A LOT LESS EXPENSIVE\",\"A LITTLE MORE EXPENSIVE\",\"A LITTLE LESS EXPENSIVE\",\"ABOUT THE SAME COST\",\"A LITTLE LESS EXPENSIVE\",\"A LITTLE LESS EXPENSIVE\",\"A LOT LESS EXPENSIVE\",\"A LITTLE MORE EXPENSIVE\",\"A LOT LESS EXPENSIVE\",\"A LITTLE LESS EXPENSIVE\",\"A LITTLE LESS EXPENSIVE\",\"A LITTLE LESS EXPENSIVE\",\"A LOT LESS EXPENSIVE\",\"A LITTLE MORE EXPENSIVE\",\"A LITTLE MORE EXPENSIVE\",\"A LOT LESS EXPENSIVE\",\"A LITTLE MORE EXPENSIVE\",\"A LOT LESS EXPENSIVE\",\"A LOT LESS EXPENSIVE\",\"A LOT LESS EXPENSIVE\",\"ABOUT THE SAME COST\",\"A LITTLE LESS EXPENSIVE\",\"A LITTLE LESS EXPENSIVE\",\"A LITTLE LESS EXPENSIVE\",\"A LOT LESS EXPENSIVE\",\"A LITTLE MORE EXPENSIVE\",\"A LITTLE LESS EXPENSIVE\",\"A LOT LESS EXPENSIVE\",\"A LOT LESS EXPENSIVE\",\"A LITTLE MORE EXPENSIVE\",\"ABOUT THE SAME COST\",\"ABOUT THE SAME COST\",\"A LITTLE LESS EXPENSIVE\",\"ABOUT THE SAME COST\",\"A LITTLE LESS EXPENSIVE\",\"A LOT LESS EXPENSIVE\",\"ABOUT THE SAME COST\",\"A LITTLE LESS EXPENSIVE\",\"A LOT LESS EXPENSIVE\",\"ABOUT THE SAME COST\",\"A LITTLE MORE EXPENSIVE\",\"A LOT LESS EXPENSIVE\",\"A LOT LESS EXPENSIVE\",\"A LOT LESS EXPENSIVE\",\"A LITTLE LESS EXPENSIVE\",\"ABOUT THE SAME COST\",\"DO NOT KNOW\",\"A LOT LESS EXPENSIVE\",\"ABOUT THE SAME COST\",\"ABOUT THE SAME COST\",\"A LITTLE LESS EXPENSIVE\",\"A LITTLE LESS EXPENSIVE\",\"A LITTLE LESS EXPENSIVE\",\"ABOUT THE SAME COST\",\"A LITTLE LESS EXPENSIVE\",\"ABOUT THE SAME COST\",\"A LOT LESS EXPENSIVE\",\"A LOT LESS EXPENSIVE\",\"A LOT MORE EXPENSIVE\",\"ABOUT THE SAME COST\",\"A LOT LESS EXPENSIVE\",\"ABOUT THE SAME COST\",\"ABOUT THE SAME COST\",\"DO NOT KNOW\",\"DO NOT KNOW\",\"ABOUT THE SAME COST\",\"A LOT LESS EXPENSIVE\",\"A LITTLE LESS EXPENSIVE\",\"ABOUT THE SAME COST\",\"ABOUT THE SAME COST\",\"A LOT LESS EXPENSIVE\",\"ABOUT THE SAME COST\",\"A LOT LESS EXPENSIVE\",\"A LITTLE LESS EXPENSIVE\",\"ABOUT THE SAME COST\",\"ABOUT THE SAME COST\",\"A LITTLE MORE EXPENSIVE\",\"ABOUT THE SAME COST\",\"A LITTLE LESS EXPENSIVE\",\"A LITTLE LESS EXPENSIVE\",\"A LITTLE LESS EXPENSIVE\",\"A LITTLE LESS EXPENSIVE\",\"A LITTLE MORE EXPENSIVE\",\"A LITTLE LESS EXPENSIVE\",\"A LOT LESS EXPENSIVE\",\"ABOUT THE SAME COST\",\"A LOT LESS EXPENSIVE\",\"A LOT LESS EXPENSIVE\",\"ABOUT THE SAME COST\",\"A LOT LESS EXPENSIVE\",\"A LITTLE MORE EXPENSIVE\",\"A LITTLE LESS EXPENSIVE\",\"A LITTLE LESS EXPENSIVE\",\"A LOT LESS EXPENSIVE\",\"A LITTLE LESS EXPENSIVE\",\"A LITTLE LESS EXPENSIVE\",\"ABOUT THE SAME COST\",\"ABOUT THE SAME COST\",\"ABOUT THE SAME COST\",\"A LOT LESS EXPENSIVE\",\"A LOT LESS EXPENSIVE\",\"ABOUT THE SAME COST\",\"A LOT LESS EXPENSIVE\",\"A LITTLE MORE EXPENSIVE\",\"A LOT LESS EXPENSIVE\",\"A LOT LESS EXPENSIVE\",\"A LITTLE MORE EXPENSIVE\",\"ABOUT THE SAME COST\",\"ABOUT THE SAME COST\",\"ABOUT THE SAME COST\",\"ABOUT THE SAME COST\",\"A LITTLE LESS EXPENSIVE\",\"ABOUT THE SAME COST\",\"A LITTLE MORE EXPENSIVE\",\"A LITTLE MORE EXPENSIVE\",\"A LOT LESS EXPENSIVE\",\"A LOT LESS EXPENSIVE\",\"ABOUT THE SAME COST\",\"A LOT LESS EXPENSIVE\",\"A LOT LESS EXPENSIVE\"],\"xaxis\":\"x\",\"yaxis\":\"y\",\"type\":\"histogram\"},{\"alignmentgroup\":\"True\",\"bingroup\":\"x\",\"hovertemplate\":\"Q13=DO NOT KNOW<br>Q12=%{x}<br>count=%{y}<extra></extra>\",\"legendgroup\":\"DO NOT KNOW\",\"marker\":{\"color\":\"#ab63fa\",\"pattern\":{\"shape\":\"\"}},\"name\":\"DO NOT KNOW\",\"offsetgroup\":\"DO NOT KNOW\",\"orientation\":\"v\",\"showlegend\":true,\"x\":[\"DO NOT KNOW\",\"DO NOT KNOW\",\"DO NOT KNOW\",\"DO NOT KNOW\",\"A LOT MORE EXPENSIVE\",\"ABOUT THE SAME COST\",\"DO NOT KNOW\",\"DO NOT KNOW\",\"A LITTLE MORE EXPENSIVE\",\"ABOUT THE SAME COST\",\"A LOT MORE EXPENSIVE\",\"A LITTLE LESS EXPENSIVE\",\"DO NOT KNOW\",\"A LOT LESS EXPENSIVE\",\"DO NOT KNOW\",\"DO NOT KNOW\",\"ABOUT THE SAME COST\"],\"xaxis\":\"x\",\"yaxis\":\"y\",\"type\":\"histogram\"},{\"alignmentgroup\":\"True\",\"bingroup\":\"x\",\"hovertemplate\":\"Q13=STRONGLY OPPOSE<br>Q12=%{x}<br>count=%{y}<extra></extra>\",\"legendgroup\":\"STRONGLY OPPOSE\",\"marker\":{\"color\":\"#FFA15A\",\"pattern\":{\"shape\":\"\"}},\"name\":\"STRONGLY OPPOSE\",\"offsetgroup\":\"STRONGLY OPPOSE\",\"orientation\":\"v\",\"showlegend\":true,\"x\":[\"A LOT MORE EXPENSIVE\",\"A LITTLE MORE EXPENSIVE\",\"ABOUT THE SAME COST\",\"A LOT MORE EXPENSIVE\",\"A LOT MORE EXPENSIVE\",\"A LITTLE LESS EXPENSIVE\",\"A LITTLE LESS EXPENSIVE\",\"A LITTLE MORE EXPENSIVE\",\"DO NOT KNOW\",\"A LITTLE MORE EXPENSIVE\",\"ABOUT THE SAME COST\",\"ABOUT THE SAME COST\",\"A LITTLE MORE EXPENSIVE\",\"A LITTLE LESS EXPENSIVE\",\"A LITTLE LESS EXPENSIVE\",\"A LITTLE MORE EXPENSIVE\",\"A LITTLE MORE EXPENSIVE\",\"A LOT MORE EXPENSIVE\",\"A LOT MORE EXPENSIVE\",\"A LITTLE MORE EXPENSIVE\",\"A LOT MORE EXPENSIVE\",\"A LOT MORE EXPENSIVE\",\"A LOT MORE EXPENSIVE\",\"A LOT MORE EXPENSIVE\",\"A LITTLE LESS EXPENSIVE\",\"A LOT MORE EXPENSIVE\",\"A LOT MORE EXPENSIVE\",\"A LOT MORE EXPENSIVE\",\"ABOUT THE SAME COST\",\"A LOT MORE EXPENSIVE\",\"A LOT MORE EXPENSIVE\",\"A LOT MORE EXPENSIVE\",\"A LITTLE LESS EXPENSIVE\",\"ABOUT THE SAME COST\",\"ABOUT THE SAME COST\",\"A LITTLE MORE EXPENSIVE\",\"A LITTLE LESS EXPENSIVE\",\"A LOT MORE EXPENSIVE\",\"A LOT MORE EXPENSIVE\",\"A LOT LESS EXPENSIVE\",\"A LITTLE LESS EXPENSIVE\",\"A LOT MORE EXPENSIVE\",\"A LITTLE MORE EXPENSIVE\",\"A LOT LESS EXPENSIVE\",\"DO NOT KNOW\",\"DO NOT KNOW\",\"ABOUT THE SAME COST\",\"A LOT MORE EXPENSIVE\",\"ABOUT THE SAME COST\",\"A LOT MORE EXPENSIVE\",\"A LOT MORE EXPENSIVE\",\"ABOUT THE SAME COST\",\"A LOT MORE EXPENSIVE\",\"A LITTLE MORE EXPENSIVE\",\"A LOT MORE EXPENSIVE\",\"A LOT MORE EXPENSIVE\",\"A LITTLE MORE EXPENSIVE\",\"A LOT MORE EXPENSIVE\",\"REFUSED/NOT ASCERTAINED\",\"ABOUT THE SAME COST\",\"ABOUT THE SAME COST\"],\"xaxis\":\"x\",\"yaxis\":\"y\",\"type\":\"histogram\"}],                        {\"template\":{\"data\":{\"barpolar\":[{\"marker\":{\"line\":{\"color\":\"rgb(17,17,17)\",\"width\":0.5},\"pattern\":{\"fillmode\":\"overlay\",\"size\":10,\"solidity\":0.2}},\"type\":\"barpolar\"}],\"bar\":[{\"error_x\":{\"color\":\"#f2f5fa\"},\"error_y\":{\"color\":\"#f2f5fa\"},\"marker\":{\"line\":{\"color\":\"rgb(17,17,17)\",\"width\":0.5},\"pattern\":{\"fillmode\":\"overlay\",\"size\":10,\"solidity\":0.2}},\"type\":\"bar\"}],\"carpet\":[{\"aaxis\":{\"endlinecolor\":\"#A2B1C6\",\"gridcolor\":\"#506784\",\"linecolor\":\"#506784\",\"minorgridcolor\":\"#506784\",\"startlinecolor\":\"#A2B1C6\"},\"baxis\":{\"endlinecolor\":\"#A2B1C6\",\"gridcolor\":\"#506784\",\"linecolor\":\"#506784\",\"minorgridcolor\":\"#506784\",\"startlinecolor\":\"#A2B1C6\"},\"type\":\"carpet\"}],\"choropleth\":[{\"colorbar\":{\"outlinewidth\":0,\"ticks\":\"\"},\"type\":\"choropleth\"}],\"contourcarpet\":[{\"colorbar\":{\"outlinewidth\":0,\"ticks\":\"\"},\"type\":\"contourcarpet\"}],\"contour\":[{\"colorbar\":{\"outlinewidth\":0,\"ticks\":\"\"},\"colorscale\":[[0.0,\"#0d0887\"],[0.1111111111111111,\"#46039f\"],[0.2222222222222222,\"#7201a8\"],[0.3333333333333333,\"#9c179e\"],[0.4444444444444444,\"#bd3786\"],[0.5555555555555556,\"#d8576b\"],[0.6666666666666666,\"#ed7953\"],[0.7777777777777778,\"#fb9f3a\"],[0.8888888888888888,\"#fdca26\"],[1.0,\"#f0f921\"]],\"type\":\"contour\"}],\"heatmapgl\":[{\"colorbar\":{\"outlinewidth\":0,\"ticks\":\"\"},\"colorscale\":[[0.0,\"#0d0887\"],[0.1111111111111111,\"#46039f\"],[0.2222222222222222,\"#7201a8\"],[0.3333333333333333,\"#9c179e\"],[0.4444444444444444,\"#bd3786\"],[0.5555555555555556,\"#d8576b\"],[0.6666666666666666,\"#ed7953\"],[0.7777777777777778,\"#fb9f3a\"],[0.8888888888888888,\"#fdca26\"],[1.0,\"#f0f921\"]],\"type\":\"heatmapgl\"}],\"heatmap\":[{\"colorbar\":{\"outlinewidth\":0,\"ticks\":\"\"},\"colorscale\":[[0.0,\"#0d0887\"],[0.1111111111111111,\"#46039f\"],[0.2222222222222222,\"#7201a8\"],[0.3333333333333333,\"#9c179e\"],[0.4444444444444444,\"#bd3786\"],[0.5555555555555556,\"#d8576b\"],[0.6666666666666666,\"#ed7953\"],[0.7777777777777778,\"#fb9f3a\"],[0.8888888888888888,\"#fdca26\"],[1.0,\"#f0f921\"]],\"type\":\"heatmap\"}],\"histogram2dcontour\":[{\"colorbar\":{\"outlinewidth\":0,\"ticks\":\"\"},\"colorscale\":[[0.0,\"#0d0887\"],[0.1111111111111111,\"#46039f\"],[0.2222222222222222,\"#7201a8\"],[0.3333333333333333,\"#9c179e\"],[0.4444444444444444,\"#bd3786\"],[0.5555555555555556,\"#d8576b\"],[0.6666666666666666,\"#ed7953\"],[0.7777777777777778,\"#fb9f3a\"],[0.8888888888888888,\"#fdca26\"],[1.0,\"#f0f921\"]],\"type\":\"histogram2dcontour\"}],\"histogram2d\":[{\"colorbar\":{\"outlinewidth\":0,\"ticks\":\"\"},\"colorscale\":[[0.0,\"#0d0887\"],[0.1111111111111111,\"#46039f\"],[0.2222222222222222,\"#7201a8\"],[0.3333333333333333,\"#9c179e\"],[0.4444444444444444,\"#bd3786\"],[0.5555555555555556,\"#d8576b\"],[0.6666666666666666,\"#ed7953\"],[0.7777777777777778,\"#fb9f3a\"],[0.8888888888888888,\"#fdca26\"],[1.0,\"#f0f921\"]],\"type\":\"histogram2d\"}],\"histogram\":[{\"marker\":{\"pattern\":{\"fillmode\":\"overlay\",\"size\":10,\"solidity\":0.2}},\"type\":\"histogram\"}],\"mesh3d\":[{\"colorbar\":{\"outlinewidth\":0,\"ticks\":\"\"},\"type\":\"mesh3d\"}],\"parcoords\":[{\"line\":{\"colorbar\":{\"outlinewidth\":0,\"ticks\":\"\"}},\"type\":\"parcoords\"}],\"pie\":[{\"automargin\":true,\"type\":\"pie\"}],\"scatter3d\":[{\"line\":{\"colorbar\":{\"outlinewidth\":0,\"ticks\":\"\"}},\"marker\":{\"colorbar\":{\"outlinewidth\":0,\"ticks\":\"\"}},\"type\":\"scatter3d\"}],\"scattercarpet\":[{\"marker\":{\"colorbar\":{\"outlinewidth\":0,\"ticks\":\"\"}},\"type\":\"scattercarpet\"}],\"scattergeo\":[{\"marker\":{\"colorbar\":{\"outlinewidth\":0,\"ticks\":\"\"}},\"type\":\"scattergeo\"}],\"scattergl\":[{\"marker\":{\"line\":{\"color\":\"#283442\"}},\"type\":\"scattergl\"}],\"scattermapbox\":[{\"marker\":{\"colorbar\":{\"outlinewidth\":0,\"ticks\":\"\"}},\"type\":\"scattermapbox\"}],\"scatterpolargl\":[{\"marker\":{\"colorbar\":{\"outlinewidth\":0,\"ticks\":\"\"}},\"type\":\"scatterpolargl\"}],\"scatterpolar\":[{\"marker\":{\"colorbar\":{\"outlinewidth\":0,\"ticks\":\"\"}},\"type\":\"scatterpolar\"}],\"scatter\":[{\"marker\":{\"line\":{\"color\":\"#283442\"}},\"type\":\"scatter\"}],\"scatterternary\":[{\"marker\":{\"colorbar\":{\"outlinewidth\":0,\"ticks\":\"\"}},\"type\":\"scatterternary\"}],\"surface\":[{\"colorbar\":{\"outlinewidth\":0,\"ticks\":\"\"},\"colorscale\":[[0.0,\"#0d0887\"],[0.1111111111111111,\"#46039f\"],[0.2222222222222222,\"#7201a8\"],[0.3333333333333333,\"#9c179e\"],[0.4444444444444444,\"#bd3786\"],[0.5555555555555556,\"#d8576b\"],[0.6666666666666666,\"#ed7953\"],[0.7777777777777778,\"#fb9f3a\"],[0.8888888888888888,\"#fdca26\"],[1.0,\"#f0f921\"]],\"type\":\"surface\"}],\"table\":[{\"cells\":{\"fill\":{\"color\":\"#506784\"},\"line\":{\"color\":\"rgb(17,17,17)\"}},\"header\":{\"fill\":{\"color\":\"#2a3f5f\"},\"line\":{\"color\":\"rgb(17,17,17)\"}},\"type\":\"table\"}]},\"layout\":{\"annotationdefaults\":{\"arrowcolor\":\"#f2f5fa\",\"arrowhead\":0,\"arrowwidth\":1},\"autotypenumbers\":\"strict\",\"coloraxis\":{\"colorbar\":{\"outlinewidth\":0,\"ticks\":\"\"}},\"colorscale\":{\"diverging\":[[0,\"#8e0152\"],[0.1,\"#c51b7d\"],[0.2,\"#de77ae\"],[0.3,\"#f1b6da\"],[0.4,\"#fde0ef\"],[0.5,\"#f7f7f7\"],[0.6,\"#e6f5d0\"],[0.7,\"#b8e186\"],[0.8,\"#7fbc41\"],[0.9,\"#4d9221\"],[1,\"#276419\"]],\"sequential\":[[0.0,\"#0d0887\"],[0.1111111111111111,\"#46039f\"],[0.2222222222222222,\"#7201a8\"],[0.3333333333333333,\"#9c179e\"],[0.4444444444444444,\"#bd3786\"],[0.5555555555555556,\"#d8576b\"],[0.6666666666666666,\"#ed7953\"],[0.7777777777777778,\"#fb9f3a\"],[0.8888888888888888,\"#fdca26\"],[1.0,\"#f0f921\"]],\"sequentialminus\":[[0.0,\"#0d0887\"],[0.1111111111111111,\"#46039f\"],[0.2222222222222222,\"#7201a8\"],[0.3333333333333333,\"#9c179e\"],[0.4444444444444444,\"#bd3786\"],[0.5555555555555556,\"#d8576b\"],[0.6666666666666666,\"#ed7953\"],[0.7777777777777778,\"#fb9f3a\"],[0.8888888888888888,\"#fdca26\"],[1.0,\"#f0f921\"]]},\"colorway\":[\"#636efa\",\"#EF553B\",\"#00cc96\",\"#ab63fa\",\"#FFA15A\",\"#19d3f3\",\"#FF6692\",\"#B6E880\",\"#FF97FF\",\"#FECB52\"],\"font\":{\"color\":\"#f2f5fa\"},\"geo\":{\"bgcolor\":\"rgb(17,17,17)\",\"lakecolor\":\"rgb(17,17,17)\",\"landcolor\":\"rgb(17,17,17)\",\"showlakes\":true,\"showland\":true,\"subunitcolor\":\"#506784\"},\"hoverlabel\":{\"align\":\"left\"},\"hovermode\":\"closest\",\"mapbox\":{\"style\":\"dark\"},\"paper_bgcolor\":\"rgb(17,17,17)\",\"plot_bgcolor\":\"rgb(17,17,17)\",\"polar\":{\"angularaxis\":{\"gridcolor\":\"#506784\",\"linecolor\":\"#506784\",\"ticks\":\"\"},\"bgcolor\":\"rgb(17,17,17)\",\"radialaxis\":{\"gridcolor\":\"#506784\",\"linecolor\":\"#506784\",\"ticks\":\"\"}},\"scene\":{\"xaxis\":{\"backgroundcolor\":\"rgb(17,17,17)\",\"gridcolor\":\"#506784\",\"gridwidth\":2,\"linecolor\":\"#506784\",\"showbackground\":true,\"ticks\":\"\",\"zerolinecolor\":\"#C8D4E3\"},\"yaxis\":{\"backgroundcolor\":\"rgb(17,17,17)\",\"gridcolor\":\"#506784\",\"gridwidth\":2,\"linecolor\":\"#506784\",\"showbackground\":true,\"ticks\":\"\",\"zerolinecolor\":\"#C8D4E3\"},\"zaxis\":{\"backgroundcolor\":\"rgb(17,17,17)\",\"gridcolor\":\"#506784\",\"gridwidth\":2,\"linecolor\":\"#506784\",\"showbackground\":true,\"ticks\":\"\",\"zerolinecolor\":\"#C8D4E3\"}},\"shapedefaults\":{\"line\":{\"color\":\"#f2f5fa\"}},\"sliderdefaults\":{\"bgcolor\":\"#C8D4E3\",\"bordercolor\":\"rgb(17,17,17)\",\"borderwidth\":1,\"tickwidth\":0},\"ternary\":{\"aaxis\":{\"gridcolor\":\"#506784\",\"linecolor\":\"#506784\",\"ticks\":\"\"},\"baxis\":{\"gridcolor\":\"#506784\",\"linecolor\":\"#506784\",\"ticks\":\"\"},\"bgcolor\":\"rgb(17,17,17)\",\"caxis\":{\"gridcolor\":\"#506784\",\"linecolor\":\"#506784\",\"ticks\":\"\"}},\"title\":{\"x\":0.05},\"updatemenudefaults\":{\"bgcolor\":\"#506784\",\"borderwidth\":0},\"xaxis\":{\"automargin\":true,\"gridcolor\":\"#283442\",\"linecolor\":\"#506784\",\"ticks\":\"\",\"title\":{\"standoff\":15},\"zerolinecolor\":\"#283442\",\"zerolinewidth\":2},\"yaxis\":{\"automargin\":true,\"gridcolor\":\"#283442\",\"linecolor\":\"#506784\",\"ticks\":\"\",\"title\":{\"standoff\":15},\"zerolinecolor\":\"#283442\",\"zerolinewidth\":2}}},\"xaxis\":{\"anchor\":\"y\",\"domain\":[0.0,1.0],\"title\":{\"text\":\"HOW EXPENSIVE NUCLEAR ENERGY FOR ELECTRICITY\"},\"categoryorder\":\"total ascending\"},\"yaxis\":{\"anchor\":\"x\",\"domain\":[0.0,1.0],\"title\":{\"text\":\"NUMBER OF RESPONCES\"}},\"legend\":{\"title\":{\"text\":\"FAVOR OR OPPOSE EXPANDING NUCLEAR PLANTS\"},\"tracegroupgap\":0},\"margin\":{\"t\":60},\"barmode\":\"relative\"},                        {\"responsive\": true}                    ).then(function(){\n",
       "                            \n",
       "var gd = document.getElementById('0bd3bf48-0202-46d5-8e43-27023996ddf7');\n",
       "var x = new MutationObserver(function (mutations, observer) {{\n",
       "        var display = window.getComputedStyle(gd).display;\n",
       "        if (!display || display === 'none') {{\n",
       "            console.log([gd, 'removed!']);\n",
       "            Plotly.purge(gd);\n",
       "            observer.disconnect();\n",
       "        }}\n",
       "}});\n",
       "\n",
       "// Listen for the removal of the full notebook cells\n",
       "var notebookContainer = gd.closest('#notebook-container');\n",
       "if (notebookContainer) {{\n",
       "    x.observe(notebookContainer, {childList: true});\n",
       "}}\n",
       "\n",
       "// Listen for the clearing of the current output cell\n",
       "var outputEl = gd.closest('.output');\n",
       "if (outputEl) {{\n",
       "    x.observe(outputEl, {childList: true});\n",
       "}}\n",
       "\n",
       "                        })                };                });            </script>        </div>"
      ]
     },
     "metadata": {},
     "output_type": "display_data"
    }
   ],
   "source": [
    "# Q12: HOW EXPENSIVE NUCLEAR ENERGY FOR ELECTRICITY\n",
    "# Q13: FAVOR OR OPPOSE EXPANDING NUCLEAR PLANT IN THE MIDLANDS OF SC\n",
    "\n",
    "fig = px.histogram(df_IC, x=\"Q13\", color=\"Q12\", template='plotly_dark').update_xaxes(categoryorder='total ascending').update_layout(\n",
    "xaxis_title=\"HOW EXPENSIVE NUCLEAR ENERGY FOR ELECTRICITY\", yaxis_title=\"NUMBER OF RESPONCES\", legend_title=\"HOW EXPENSIVE NUCLEAR ENERGY FOR ELECTRICITY\",\n",
    ")\n",
    "fig.show()"
   ]
  },
  {
   "cell_type": "markdown",
   "id": "d4704434-ea56-481a-a31c-5c7d066132e0",
   "metadata": {},
   "source": [
    "**IMPORTANT GRAPH BELOW**"
   ]
  },
  {
   "cell_type": "code",
   "execution_count": 18,
   "id": "2b694c47-d623-4fb8-828d-8a5dd21add71",
   "metadata": {},
   "outputs": [
    {
     "data": {
      "application/vnd.plotly.v1+json": {
       "config": {
        "plotlyServerURL": "https://plot.ly"
       },
       "data": [
        {
         "alignmentgroup": "True",
         "bingroup": "x",
         "hovertemplate": "Q13=SOMEWHAT FAVOR<br>Q10=%{x}<br>count=%{y}<extra></extra>",
         "legendgroup": "SOMEWHAT FAVOR",
         "marker": {
          "color": "#636efa",
          "pattern": {
           "shape": ""
          }
         },
         "name": "SOMEWHAT FAVOR",
         "offsetgroup": "SOMEWHAT FAVOR",
         "orientation": "v",
         "showlegend": true,
         "type": "histogram",
         "x": [
          "VERY CONCERNED",
          "VERY CONCERNED",
          "SOMEWHAT CONCERNED",
          "VERY CONCERNED",
          "VERY CONCERNED",
          "VERY CONCERNED",
          "SOMEWHAT CONCERNED",
          "VERY CONCERNED",
          "VERY CONCERNED",
          "SOMEWHAT CONCERNED",
          "NOT AT ALL CONCERNED",
          "VERY CONCERNED",
          "NOT TOO CONCERNED",
          "VERY CONCERNED",
          "VERY CONCERNED",
          "SOMEWHAT CONCERNED",
          "SOMEWHAT CONCERNED",
          "VERY CONCERNED",
          "VERY CONCERNED",
          "SOMEWHAT CONCERNED",
          "SOMEWHAT CONCERNED",
          "SOMEWHAT CONCERNED",
          "VERY CONCERNED",
          "SOMEWHAT CONCERNED",
          "SOMEWHAT CONCERNED",
          "SOMEWHAT CONCERNED",
          "SOMEWHAT CONCERNED",
          "SOMEWHAT CONCERNED",
          "SOMEWHAT CONCERNED",
          "SOMEWHAT CONCERNED",
          "SOMEWHAT CONCERNED",
          "VERY CONCERNED",
          "SOMEWHAT CONCERNED",
          "VERY CONCERNED",
          "NOT TOO CONCERNED",
          "VERY CONCERNED",
          "VERY CONCERNED",
          "VERY CONCERNED",
          "VERY CONCERNED",
          "VERY CONCERNED",
          "SOMEWHAT CONCERNED",
          "NOT TOO CONCERNED",
          "NOT TOO CONCERNED",
          "NOT TOO CONCERNED",
          "SOMEWHAT CONCERNED",
          "SOMEWHAT CONCERNED",
          "NOT TOO CONCERNED",
          "NOT AT ALL CONCERNED",
          "SOMEWHAT CONCERNED",
          "VERY CONCERNED",
          "VERY CONCERNED",
          "SOMEWHAT CONCERNED",
          "VERY CONCERNED",
          "VERY CONCERNED",
          "SOMEWHAT CONCERNED",
          "VERY CONCERNED",
          "VERY CONCERNED",
          "VERY CONCERNED",
          "SOMEWHAT CONCERNED",
          "NOT TOO CONCERNED",
          "VERY CONCERNED",
          "VERY CONCERNED",
          "SOMEWHAT CONCERNED",
          "VERY CONCERNED",
          "SOMEWHAT CONCERNED",
          "VERY CONCERNED",
          "SOMEWHAT CONCERNED",
          "VERY CONCERNED",
          "VERY CONCERNED",
          "SOMEWHAT CONCERNED",
          "NOT TOO CONCERNED",
          "SOMEWHAT CONCERNED",
          "SOMEWHAT CONCERNED",
          "VERY CONCERNED",
          "VERY CONCERNED",
          "SOMEWHAT CONCERNED",
          "VERY CONCERNED",
          "SOMEWHAT CONCERNED",
          "SOMEWHAT CONCERNED",
          "VERY CONCERNED",
          "NOT TOO CONCERNED",
          "NOT TOO CONCERNED",
          "NOT TOO CONCERNED",
          "VERY CONCERNED",
          "VERY CONCERNED",
          "NOT TOO CONCERNED",
          "VERY CONCERNED",
          "NOT AT ALL CONCERNED",
          "SOMEWHAT CONCERNED",
          "SOMEWHAT CONCERNED",
          "SOMEWHAT CONCERNED",
          "VERY CONCERNED",
          "VERY CONCERNED",
          "VERY CONCERNED",
          "VERY CONCERNED",
          "SOMEWHAT CONCERNED",
          "VERY CONCERNED",
          "SOMEWHAT CONCERNED",
          "NOT TOO CONCERNED",
          "SOMEWHAT CONCERNED",
          "SOMEWHAT CONCERNED",
          "NOT TOO CONCERNED",
          "NOT TOO CONCERNED",
          "SOMEWHAT CONCERNED",
          "VERY CONCERNED",
          "VERY CONCERNED",
          "NOT TOO CONCERNED",
          "VERY CONCERNED",
          "VERY CONCERNED",
          "SOMEWHAT CONCERNED",
          "NOT AT ALL CONCERNED",
          "SOMEWHAT CONCERNED",
          "VERY CONCERNED",
          "SOMEWHAT CONCERNED",
          "NOT AT ALL CONCERNED",
          "VERY CONCERNED",
          "SOMEWHAT CONCERNED",
          "NOT TOO CONCERNED",
          "SOMEWHAT CONCERNED",
          "NOT TOO CONCERNED",
          "SOMEWHAT CONCERNED",
          "NOT TOO CONCERNED",
          "VERY CONCERNED",
          "SOMEWHAT CONCERNED",
          "NOT TOO CONCERNED",
          "SOMEWHAT CONCERNED",
          "NOT AT ALL CONCERNED",
          "SOMEWHAT CONCERNED",
          "VERY CONCERNED",
          "NOT TOO CONCERNED",
          "VERY CONCERNED",
          "SOMEWHAT CONCERNED",
          "VERY CONCERNED",
          "SOMEWHAT CONCERNED",
          "NOT TOO CONCERNED",
          "VERY CONCERNED",
          "VERY CONCERNED",
          "VERY CONCERNED",
          "NOT TOO CONCERNED",
          "VERY CONCERNED",
          "NOT AT ALL CONCERNED",
          "NOT TOO CONCERNED",
          "VERY CONCERNED",
          "SOMEWHAT CONCERNED",
          "SOMEWHAT CONCERNED",
          "SOMEWHAT CONCERNED",
          "SOMEWHAT CONCERNED",
          "SOMEWHAT CONCERNED",
          "VERY CONCERNED",
          "SOMEWHAT CONCERNED",
          "VERY CONCERNED",
          "VERY CONCERNED",
          "VERY CONCERNED",
          "VERY CONCERNED",
          "VERY CONCERNED",
          "SOMEWHAT CONCERNED",
          "NOT TOO CONCERNED",
          "SOMEWHAT CONCERNED",
          "SOMEWHAT CONCERNED",
          "SOMEWHAT CONCERNED",
          "VERY CONCERNED",
          "VERY CONCERNED",
          "VERY CONCERNED",
          "VERY CONCERNED",
          "SOMEWHAT CONCERNED",
          "NOT TOO CONCERNED",
          "NOT TOO CONCERNED",
          "NOT TOO CONCERNED",
          "NOT TOO CONCERNED",
          "VERY CONCERNED",
          "SOMEWHAT CONCERNED",
          "VERY CONCERNED",
          "VERY CONCERNED",
          "VERY CONCERNED",
          "VERY CONCERNED",
          "VERY CONCERNED",
          "SOMEWHAT CONCERNED",
          "VERY CONCERNED",
          "VERY CONCERNED",
          "VERY CONCERNED",
          "VERY CONCERNED",
          "SOMEWHAT CONCERNED",
          "VERY CONCERNED",
          "VERY CONCERNED",
          "VERY CONCERNED",
          "NOT AT ALL CONCERNED",
          "SOMEWHAT CONCERNED",
          "VERY CONCERNED",
          "SOMEWHAT CONCERNED",
          "VERY CONCERNED",
          "NOT AT ALL CONCERNED",
          "VERY CONCERNED",
          "VERY CONCERNED",
          "SOMEWHAT CONCERNED",
          "SOMEWHAT CONCERNED",
          "NOT TOO CONCERNED",
          "VERY CONCERNED",
          "VERY CONCERNED",
          "VERY CONCERNED",
          "VERY CONCERNED",
          "VERY CONCERNED",
          "SOMEWHAT CONCERNED",
          "SOMEWHAT CONCERNED",
          "SOMEWHAT CONCERNED",
          "VERY CONCERNED",
          "VERY CONCERNED",
          "SOMEWHAT CONCERNED",
          "SOMEWHAT CONCERNED",
          "SOMEWHAT CONCERNED",
          "VERY CONCERNED",
          "SOMEWHAT CONCERNED",
          "VERY CONCERNED",
          "SOMEWHAT CONCERNED",
          "SOMEWHAT CONCERNED",
          "VERY CONCERNED",
          "VERY CONCERNED",
          "VERY CONCERNED",
          "SOMEWHAT CONCERNED",
          "SOMEWHAT CONCERNED",
          "NOT AT ALL CONCERNED",
          "VERY CONCERNED",
          "VERY CONCERNED",
          "VERY CONCERNED",
          "SOMEWHAT CONCERNED",
          "NOT TOO CONCERNED",
          "VERY CONCERNED",
          "SOMEWHAT CONCERNED",
          "SOMEWHAT CONCERNED",
          "VERY CONCERNED",
          "SOMEWHAT CONCERNED",
          "SOMEWHAT CONCERNED",
          "SOMEWHAT CONCERNED",
          "NOT TOO CONCERNED",
          "SOMEWHAT CONCERNED",
          "VERY CONCERNED",
          "VERY CONCERNED"
         ],
         "xaxis": "x",
         "yaxis": "y"
        },
        {
         "alignmentgroup": "True",
         "bingroup": "x",
         "hovertemplate": "Q13=SOMEWHAT OPPOSE<br>Q10=%{x}<br>count=%{y}<extra></extra>",
         "legendgroup": "SOMEWHAT OPPOSE",
         "marker": {
          "color": "#EF553B",
          "pattern": {
           "shape": ""
          }
         },
         "name": "SOMEWHAT OPPOSE",
         "offsetgroup": "SOMEWHAT OPPOSE",
         "orientation": "v",
         "showlegend": true,
         "type": "histogram",
         "x": [
          "VERY CONCERNED",
          "VERY CONCERNED",
          "VERY CONCERNED",
          "VERY CONCERNED",
          "VERY CONCERNED",
          "SOMEWHAT CONCERNED",
          "SOMEWHAT CONCERNED",
          "VERY CONCERNED",
          "VERY CONCERNED",
          "VERY CONCERNED",
          "SOMEWHAT CONCERNED",
          "VERY CONCERNED",
          "VERY CONCERNED",
          "VERY CONCERNED",
          "SOMEWHAT CONCERNED",
          "VERY CONCERNED",
          "VERY CONCERNED",
          "VERY CONCERNED",
          "SOMEWHAT CONCERNED",
          "VERY CONCERNED",
          "VERY CONCERNED",
          "VERY CONCERNED",
          "SOMEWHAT CONCERNED",
          "VERY CONCERNED",
          "VERY CONCERNED",
          "SOMEWHAT CONCERNED",
          "SOMEWHAT CONCERNED",
          "VERY CONCERNED",
          "SOMEWHAT CONCERNED",
          "VERY CONCERNED",
          "SOMEWHAT CONCERNED",
          "NOT TOO CONCERNED",
          "SOMEWHAT CONCERNED",
          "VERY CONCERNED",
          "VERY CONCERNED",
          "SOMEWHAT CONCERNED",
          "VERY CONCERNED",
          "SOMEWHAT CONCERNED",
          "VERY CONCERNED",
          "VERY CONCERNED",
          "SOMEWHAT CONCERNED",
          "NOT TOO CONCERNED",
          "VERY CONCERNED",
          "SOMEWHAT CONCERNED",
          "VERY CONCERNED",
          "SOMEWHAT CONCERNED",
          "VERY CONCERNED",
          "SOMEWHAT CONCERNED",
          "VERY CONCERNED",
          "VERY CONCERNED",
          "SOMEWHAT CONCERNED",
          "VERY CONCERNED",
          "VERY CONCERNED",
          "VERY CONCERNED",
          "VERY CONCERNED",
          "VERY CONCERNED",
          "SOMEWHAT CONCERNED",
          "SOMEWHAT CONCERNED",
          "SOMEWHAT CONCERNED",
          "VERY CONCERNED",
          "SOMEWHAT CONCERNED",
          "SOMEWHAT CONCERNED",
          "SOMEWHAT CONCERNED",
          "SOMEWHAT CONCERNED",
          "VERY CONCERNED",
          "VERY CONCERNED",
          "VERY CONCERNED",
          "SOMEWHAT CONCERNED",
          "VERY CONCERNED",
          "VERY CONCERNED",
          "VERY CONCERNED",
          "VERY CONCERNED",
          "VERY CONCERNED",
          "VERY CONCERNED",
          "SOMEWHAT CONCERNED",
          "VERY CONCERNED",
          "NOT TOO CONCERNED",
          "SOMEWHAT CONCERNED",
          "SOMEWHAT CONCERNED",
          "NOT TOO CONCERNED",
          "SOMEWHAT CONCERNED",
          "VERY CONCERNED",
          "VERY CONCERNED",
          "SOMEWHAT CONCERNED",
          "VERY CONCERNED",
          "VERY CONCERNED",
          "SOMEWHAT CONCERNED",
          "VERY CONCERNED",
          "VERY CONCERNED",
          "VERY CONCERNED",
          "NOT TOO CONCERNED",
          "NOT TOO CONCERNED",
          "SOMEWHAT CONCERNED",
          "VERY CONCERNED",
          "VERY CONCERNED",
          "SOMEWHAT CONCERNED",
          "VERY CONCERNED",
          "VERY CONCERNED",
          "SOMEWHAT CONCERNED",
          "VERY CONCERNED",
          "SOMEWHAT CONCERNED",
          "VERY CONCERNED",
          "SOMEWHAT CONCERNED",
          "VERY CONCERNED",
          "VERY CONCERNED",
          "VERY CONCERNED",
          "VERY CONCERNED",
          "NOT TOO CONCERNED",
          "SOMEWHAT CONCERNED",
          "VERY CONCERNED",
          "SOMEWHAT CONCERNED",
          "VERY CONCERNED",
          "SOMEWHAT CONCERNED",
          "VERY CONCERNED",
          "VERY CONCERNED",
          "NOT AT ALL CONCERNED"
         ],
         "xaxis": "x",
         "yaxis": "y"
        },
        {
         "alignmentgroup": "True",
         "bingroup": "x",
         "hovertemplate": "Q13=STRONGLY FAVOR<br>Q10=%{x}<br>count=%{y}<extra></extra>",
         "legendgroup": "STRONGLY FAVOR",
         "marker": {
          "color": "#00cc96",
          "pattern": {
           "shape": ""
          }
         },
         "name": "STRONGLY FAVOR",
         "offsetgroup": "STRONGLY FAVOR",
         "orientation": "v",
         "showlegend": true,
         "type": "histogram",
         "x": [
          "SOMEWHAT CONCERNED",
          "SOMEWHAT CONCERNED",
          "NOT AT ALL CONCERNED",
          "NOT TOO CONCERNED",
          "NOT TOO CONCERNED",
          "NOT TOO CONCERNED",
          "NOT TOO CONCERNED",
          "SOMEWHAT CONCERNED",
          "NOT TOO CONCERNED",
          "VERY CONCERNED",
          "VERY CONCERNED",
          "VERY CONCERNED",
          "NOT TOO CONCERNED",
          "VERY CONCERNED",
          "DO NOT KNOW",
          "VERY CONCERNED",
          "SOMEWHAT CONCERNED",
          "VERY CONCERNED",
          "VERY CONCERNED",
          "NOT AT ALL CONCERNED",
          "NOT AT ALL CONCERNED",
          "VERY CONCERNED",
          "NOT AT ALL CONCERNED",
          "NOT AT ALL CONCERNED",
          "VERY CONCERNED",
          "NOT TOO CONCERNED",
          "VERY CONCERNED",
          "DO NOT KNOW",
          "SOMEWHAT CONCERNED",
          "NOT TOO CONCERNED",
          "VERY CONCERNED",
          "SOMEWHAT CONCERNED",
          "SOMEWHAT CONCERNED",
          "SOMEWHAT CONCERNED",
          "NOT AT ALL CONCERNED",
          "VERY CONCERNED",
          "NOT TOO CONCERNED",
          "VERY CONCERNED",
          "VERY CONCERNED",
          "VERY CONCERNED",
          "VERY CONCERNED",
          "NOT TOO CONCERNED",
          "VERY CONCERNED",
          "SOMEWHAT CONCERNED",
          "NOT TOO CONCERNED",
          "VERY CONCERNED",
          "VERY CONCERNED",
          "VERY CONCERNED",
          "NOT TOO CONCERNED",
          "NOT AT ALL CONCERNED",
          "SOMEWHAT CONCERNED",
          "SOMEWHAT CONCERNED",
          "VERY CONCERNED",
          "VERY CONCERNED",
          "NOT TOO CONCERNED",
          "SOMEWHAT CONCERNED",
          "NOT AT ALL CONCERNED",
          "SOMEWHAT CONCERNED",
          "NOT AT ALL CONCERNED",
          "NOT AT ALL CONCERNED",
          "NOT TOO CONCERNED",
          "VERY CONCERNED",
          "VERY CONCERNED",
          "SOMEWHAT CONCERNED",
          "SOMEWHAT CONCERNED",
          "SOMEWHAT CONCERNED",
          "NOT TOO CONCERNED",
          "NOT TOO CONCERNED",
          "NOT TOO CONCERNED",
          "SOMEWHAT CONCERNED",
          "SOMEWHAT CONCERNED",
          "NOT TOO CONCERNED",
          "NOT AT ALL CONCERNED",
          "SOMEWHAT CONCERNED",
          "VERY CONCERNED",
          "NOT AT ALL CONCERNED",
          "VERY CONCERNED",
          "NOT TOO CONCERNED",
          "NOT AT ALL CONCERNED",
          "NOT TOO CONCERNED",
          "NOT AT ALL CONCERNED",
          "SOMEWHAT CONCERNED",
          "NOT TOO CONCERNED",
          "SOMEWHAT CONCERNED",
          "SOMEWHAT CONCERNED",
          "NOT AT ALL CONCERNED",
          "VERY CONCERNED",
          "VERY CONCERNED",
          "VERY CONCERNED",
          "VERY CONCERNED",
          "SOMEWHAT CONCERNED",
          "VERY CONCERNED",
          "NOT TOO CONCERNED",
          "NOT TOO CONCERNED",
          "NOT TOO CONCERNED",
          "VERY CONCERNED",
          "SOMEWHAT CONCERNED",
          "SOMEWHAT CONCERNED",
          "SOMEWHAT CONCERNED",
          "NOT AT ALL CONCERNED",
          "SOMEWHAT CONCERNED",
          "VERY CONCERNED",
          "NOT AT ALL CONCERNED",
          "VERY CONCERNED",
          "VERY CONCERNED",
          "VERY CONCERNED",
          "VERY CONCERNED",
          "VERY CONCERNED",
          "NOT TOO CONCERNED",
          "SOMEWHAT CONCERNED",
          "SOMEWHAT CONCERNED",
          "NOT TOO CONCERNED",
          "SOMEWHAT CONCERNED",
          "VERY CONCERNED",
          "SOMEWHAT CONCERNED",
          "VERY CONCERNED",
          "SOMEWHAT CONCERNED",
          "NOT AT ALL CONCERNED",
          "SOMEWHAT CONCERNED",
          "NOT TOO CONCERNED",
          "VERY CONCERNED",
          "NOT AT ALL CONCERNED",
          "SOMEWHAT CONCERNED",
          "NOT AT ALL CONCERNED",
          "NOT AT ALL CONCERNED",
          "NOT TOO CONCERNED",
          "NOT AT ALL CONCERNED",
          "NOT TOO CONCERNED",
          "NOT AT ALL CONCERNED",
          "VERY CONCERNED",
          "SOMEWHAT CONCERNED",
          "VERY CONCERNED",
          "VERY CONCERNED",
          "NOT TOO CONCERNED",
          "VERY CONCERNED",
          "VERY CONCERNED",
          "VERY CONCERNED",
          "NOT TOO CONCERNED",
          "VERY CONCERNED",
          "SOMEWHAT CONCERNED",
          "NOT TOO CONCERNED",
          "VERY CONCERNED",
          "VERY CONCERNED",
          "SOMEWHAT CONCERNED",
          "NOT TOO CONCERNED",
          "NOT AT ALL CONCERNED",
          "VERY CONCERNED",
          "NOT TOO CONCERNED",
          "NOT AT ALL CONCERNED",
          "VERY CONCERNED",
          "VERY CONCERNED",
          "NOT TOO CONCERNED",
          "NOT TOO CONCERNED",
          "SOMEWHAT CONCERNED",
          "NOT AT ALL CONCERNED",
          "SOMEWHAT CONCERNED",
          "NOT AT ALL CONCERNED",
          "NOT TOO CONCERNED",
          "NOT AT ALL CONCERNED",
          "NOT AT ALL CONCERNED",
          "NOT AT ALL CONCERNED",
          "SOMEWHAT CONCERNED",
          "SOMEWHAT CONCERNED",
          "SOMEWHAT CONCERNED",
          "SOMEWHAT CONCERNED",
          "NOT AT ALL CONCERNED",
          "SOMEWHAT CONCERNED",
          "NOT AT ALL CONCERNED",
          "SOMEWHAT CONCERNED",
          "VERY CONCERNED",
          "VERY CONCERNED",
          "VERY CONCERNED",
          "NOT AT ALL CONCERNED",
          "NOT AT ALL CONCERNED",
          "SOMEWHAT CONCERNED",
          "VERY CONCERNED"
         ],
         "xaxis": "x",
         "yaxis": "y"
        },
        {
         "alignmentgroup": "True",
         "bingroup": "x",
         "hovertemplate": "Q13=DO NOT KNOW<br>Q10=%{x}<br>count=%{y}<extra></extra>",
         "legendgroup": "DO NOT KNOW",
         "marker": {
          "color": "#ab63fa",
          "pattern": {
           "shape": ""
          }
         },
         "name": "DO NOT KNOW",
         "offsetgroup": "DO NOT KNOW",
         "orientation": "v",
         "showlegend": true,
         "type": "histogram",
         "x": [
          "VERY CONCERNED",
          "VERY CONCERNED",
          "VERY CONCERNED",
          "VERY CONCERNED",
          "VERY CONCERNED",
          "NOT TOO CONCERNED",
          "VERY CONCERNED",
          "SOMEWHAT CONCERNED",
          "VERY CONCERNED",
          "VERY CONCERNED",
          "VERY CONCERNED",
          "VERY CONCERNED",
          "NOT AT ALL CONCERNED",
          "SOMEWHAT CONCERNED",
          "VERY CONCERNED",
          "SOMEWHAT CONCERNED",
          "VERY CONCERNED"
         ],
         "xaxis": "x",
         "yaxis": "y"
        },
        {
         "alignmentgroup": "True",
         "bingroup": "x",
         "hovertemplate": "Q13=STRONGLY OPPOSE<br>Q10=%{x}<br>count=%{y}<extra></extra>",
         "legendgroup": "STRONGLY OPPOSE",
         "marker": {
          "color": "#FFA15A",
          "pattern": {
           "shape": ""
          }
         },
         "name": "STRONGLY OPPOSE",
         "offsetgroup": "STRONGLY OPPOSE",
         "orientation": "v",
         "showlegend": true,
         "type": "histogram",
         "x": [
          "VERY CONCERNED",
          "VERY CONCERNED",
          "SOMEWHAT CONCERNED",
          "SOMEWHAT CONCERNED",
          "VERY CONCERNED",
          "VERY CONCERNED",
          "SOMEWHAT CONCERNED",
          "NOT TOO CONCERNED",
          "NOT TOO CONCERNED",
          "NOT TOO CONCERNED",
          "SOMEWHAT CONCERNED",
          "NOT TOO CONCERNED",
          "SOMEWHAT CONCERNED",
          "SOMEWHAT CONCERNED",
          "NOT AT ALL CONCERNED",
          "VERY CONCERNED",
          "SOMEWHAT CONCERNED",
          "VERY CONCERNED",
          "NOT AT ALL CONCERNED",
          "VERY CONCERNED",
          "VERY CONCERNED",
          "VERY CONCERNED",
          "VERY CONCERNED",
          "NOT TOO CONCERNED",
          "VERY CONCERNED",
          "SOMEWHAT CONCERNED",
          "NOT TOO CONCERNED",
          "SOMEWHAT CONCERNED",
          "VERY CONCERNED",
          "NOT TOO CONCERNED",
          "VERY CONCERNED",
          "VERY CONCERNED",
          "NOT TOO CONCERNED",
          "VERY CONCERNED",
          "SOMEWHAT CONCERNED",
          "VERY CONCERNED",
          "NOT TOO CONCERNED",
          "VERY CONCERNED",
          "VERY CONCERNED",
          "VERY CONCERNED",
          "VERY CONCERNED",
          "SOMEWHAT CONCERNED",
          "SOMEWHAT CONCERNED",
          "SOMEWHAT CONCERNED",
          "VERY CONCERNED",
          "NOT AT ALL CONCERNED",
          "VERY CONCERNED",
          "NOT TOO CONCERNED",
          "SOMEWHAT CONCERNED",
          "NOT AT ALL CONCERNED",
          "SOMEWHAT CONCERNED",
          "VERY CONCERNED",
          "SOMEWHAT CONCERNED",
          "VERY CONCERNED",
          "VERY CONCERNED",
          "SOMEWHAT CONCERNED",
          "NOT TOO CONCERNED",
          "VERY CONCERNED",
          "SOMEWHAT CONCERNED",
          "SOMEWHAT CONCERNED",
          "VERY CONCERNED"
         ],
         "xaxis": "x",
         "yaxis": "y"
        }
       ],
       "layout": {
        "autosize": true,
        "barmode": "relative",
        "legend": {
         "title": {
          "text": "FAVOR OR OPPOSE EXPANDING NUCLEAR PLANTS"
         },
         "tracegroupgap": 0
        },
        "margin": {
         "t": 60
        },
        "template": {
         "data": {
          "bar": [
           {
            "error_x": {
             "color": "#f2f5fa"
            },
            "error_y": {
             "color": "#f2f5fa"
            },
            "marker": {
             "line": {
              "color": "rgb(17,17,17)",
              "width": 0.5
             },
             "pattern": {
              "fillmode": "overlay",
              "size": 10,
              "solidity": 0.2
             }
            },
            "type": "bar"
           }
          ],
          "barpolar": [
           {
            "marker": {
             "line": {
              "color": "rgb(17,17,17)",
              "width": 0.5
             },
             "pattern": {
              "fillmode": "overlay",
              "size": 10,
              "solidity": 0.2
             }
            },
            "type": "barpolar"
           }
          ],
          "carpet": [
           {
            "aaxis": {
             "endlinecolor": "#A2B1C6",
             "gridcolor": "#506784",
             "linecolor": "#506784",
             "minorgridcolor": "#506784",
             "startlinecolor": "#A2B1C6"
            },
            "baxis": {
             "endlinecolor": "#A2B1C6",
             "gridcolor": "#506784",
             "linecolor": "#506784",
             "minorgridcolor": "#506784",
             "startlinecolor": "#A2B1C6"
            },
            "type": "carpet"
           }
          ],
          "choropleth": [
           {
            "colorbar": {
             "outlinewidth": 0,
             "ticks": ""
            },
            "type": "choropleth"
           }
          ],
          "contour": [
           {
            "colorbar": {
             "outlinewidth": 0,
             "ticks": ""
            },
            "colorscale": [
             [
              0,
              "#0d0887"
             ],
             [
              0.1111111111111111,
              "#46039f"
             ],
             [
              0.2222222222222222,
              "#7201a8"
             ],
             [
              0.3333333333333333,
              "#9c179e"
             ],
             [
              0.4444444444444444,
              "#bd3786"
             ],
             [
              0.5555555555555556,
              "#d8576b"
             ],
             [
              0.6666666666666666,
              "#ed7953"
             ],
             [
              0.7777777777777778,
              "#fb9f3a"
             ],
             [
              0.8888888888888888,
              "#fdca26"
             ],
             [
              1,
              "#f0f921"
             ]
            ],
            "type": "contour"
           }
          ],
          "contourcarpet": [
           {
            "colorbar": {
             "outlinewidth": 0,
             "ticks": ""
            },
            "type": "contourcarpet"
           }
          ],
          "heatmap": [
           {
            "colorbar": {
             "outlinewidth": 0,
             "ticks": ""
            },
            "colorscale": [
             [
              0,
              "#0d0887"
             ],
             [
              0.1111111111111111,
              "#46039f"
             ],
             [
              0.2222222222222222,
              "#7201a8"
             ],
             [
              0.3333333333333333,
              "#9c179e"
             ],
             [
              0.4444444444444444,
              "#bd3786"
             ],
             [
              0.5555555555555556,
              "#d8576b"
             ],
             [
              0.6666666666666666,
              "#ed7953"
             ],
             [
              0.7777777777777778,
              "#fb9f3a"
             ],
             [
              0.8888888888888888,
              "#fdca26"
             ],
             [
              1,
              "#f0f921"
             ]
            ],
            "type": "heatmap"
           }
          ],
          "heatmapgl": [
           {
            "colorbar": {
             "outlinewidth": 0,
             "ticks": ""
            },
            "colorscale": [
             [
              0,
              "#0d0887"
             ],
             [
              0.1111111111111111,
              "#46039f"
             ],
             [
              0.2222222222222222,
              "#7201a8"
             ],
             [
              0.3333333333333333,
              "#9c179e"
             ],
             [
              0.4444444444444444,
              "#bd3786"
             ],
             [
              0.5555555555555556,
              "#d8576b"
             ],
             [
              0.6666666666666666,
              "#ed7953"
             ],
             [
              0.7777777777777778,
              "#fb9f3a"
             ],
             [
              0.8888888888888888,
              "#fdca26"
             ],
             [
              1,
              "#f0f921"
             ]
            ],
            "type": "heatmapgl"
           }
          ],
          "histogram": [
           {
            "marker": {
             "pattern": {
              "fillmode": "overlay",
              "size": 10,
              "solidity": 0.2
             }
            },
            "type": "histogram"
           }
          ],
          "histogram2d": [
           {
            "colorbar": {
             "outlinewidth": 0,
             "ticks": ""
            },
            "colorscale": [
             [
              0,
              "#0d0887"
             ],
             [
              0.1111111111111111,
              "#46039f"
             ],
             [
              0.2222222222222222,
              "#7201a8"
             ],
             [
              0.3333333333333333,
              "#9c179e"
             ],
             [
              0.4444444444444444,
              "#bd3786"
             ],
             [
              0.5555555555555556,
              "#d8576b"
             ],
             [
              0.6666666666666666,
              "#ed7953"
             ],
             [
              0.7777777777777778,
              "#fb9f3a"
             ],
             [
              0.8888888888888888,
              "#fdca26"
             ],
             [
              1,
              "#f0f921"
             ]
            ],
            "type": "histogram2d"
           }
          ],
          "histogram2dcontour": [
           {
            "colorbar": {
             "outlinewidth": 0,
             "ticks": ""
            },
            "colorscale": [
             [
              0,
              "#0d0887"
             ],
             [
              0.1111111111111111,
              "#46039f"
             ],
             [
              0.2222222222222222,
              "#7201a8"
             ],
             [
              0.3333333333333333,
              "#9c179e"
             ],
             [
              0.4444444444444444,
              "#bd3786"
             ],
             [
              0.5555555555555556,
              "#d8576b"
             ],
             [
              0.6666666666666666,
              "#ed7953"
             ],
             [
              0.7777777777777778,
              "#fb9f3a"
             ],
             [
              0.8888888888888888,
              "#fdca26"
             ],
             [
              1,
              "#f0f921"
             ]
            ],
            "type": "histogram2dcontour"
           }
          ],
          "mesh3d": [
           {
            "colorbar": {
             "outlinewidth": 0,
             "ticks": ""
            },
            "type": "mesh3d"
           }
          ],
          "parcoords": [
           {
            "line": {
             "colorbar": {
              "outlinewidth": 0,
              "ticks": ""
             }
            },
            "type": "parcoords"
           }
          ],
          "pie": [
           {
            "automargin": true,
            "type": "pie"
           }
          ],
          "scatter": [
           {
            "marker": {
             "line": {
              "color": "#283442"
             }
            },
            "type": "scatter"
           }
          ],
          "scatter3d": [
           {
            "line": {
             "colorbar": {
              "outlinewidth": 0,
              "ticks": ""
             }
            },
            "marker": {
             "colorbar": {
              "outlinewidth": 0,
              "ticks": ""
             }
            },
            "type": "scatter3d"
           }
          ],
          "scattercarpet": [
           {
            "marker": {
             "colorbar": {
              "outlinewidth": 0,
              "ticks": ""
             }
            },
            "type": "scattercarpet"
           }
          ],
          "scattergeo": [
           {
            "marker": {
             "colorbar": {
              "outlinewidth": 0,
              "ticks": ""
             }
            },
            "type": "scattergeo"
           }
          ],
          "scattergl": [
           {
            "marker": {
             "line": {
              "color": "#283442"
             }
            },
            "type": "scattergl"
           }
          ],
          "scattermapbox": [
           {
            "marker": {
             "colorbar": {
              "outlinewidth": 0,
              "ticks": ""
             }
            },
            "type": "scattermapbox"
           }
          ],
          "scatterpolar": [
           {
            "marker": {
             "colorbar": {
              "outlinewidth": 0,
              "ticks": ""
             }
            },
            "type": "scatterpolar"
           }
          ],
          "scatterpolargl": [
           {
            "marker": {
             "colorbar": {
              "outlinewidth": 0,
              "ticks": ""
             }
            },
            "type": "scatterpolargl"
           }
          ],
          "scatterternary": [
           {
            "marker": {
             "colorbar": {
              "outlinewidth": 0,
              "ticks": ""
             }
            },
            "type": "scatterternary"
           }
          ],
          "surface": [
           {
            "colorbar": {
             "outlinewidth": 0,
             "ticks": ""
            },
            "colorscale": [
             [
              0,
              "#0d0887"
             ],
             [
              0.1111111111111111,
              "#46039f"
             ],
             [
              0.2222222222222222,
              "#7201a8"
             ],
             [
              0.3333333333333333,
              "#9c179e"
             ],
             [
              0.4444444444444444,
              "#bd3786"
             ],
             [
              0.5555555555555556,
              "#d8576b"
             ],
             [
              0.6666666666666666,
              "#ed7953"
             ],
             [
              0.7777777777777778,
              "#fb9f3a"
             ],
             [
              0.8888888888888888,
              "#fdca26"
             ],
             [
              1,
              "#f0f921"
             ]
            ],
            "type": "surface"
           }
          ],
          "table": [
           {
            "cells": {
             "fill": {
              "color": "#506784"
             },
             "line": {
              "color": "rgb(17,17,17)"
             }
            },
            "header": {
             "fill": {
              "color": "#2a3f5f"
             },
             "line": {
              "color": "rgb(17,17,17)"
             }
            },
            "type": "table"
           }
          ]
         },
         "layout": {
          "annotationdefaults": {
           "arrowcolor": "#f2f5fa",
           "arrowhead": 0,
           "arrowwidth": 1
          },
          "autotypenumbers": "strict",
          "coloraxis": {
           "colorbar": {
            "outlinewidth": 0,
            "ticks": ""
           }
          },
          "colorscale": {
           "diverging": [
            [
             0,
             "#8e0152"
            ],
            [
             0.1,
             "#c51b7d"
            ],
            [
             0.2,
             "#de77ae"
            ],
            [
             0.3,
             "#f1b6da"
            ],
            [
             0.4,
             "#fde0ef"
            ],
            [
             0.5,
             "#f7f7f7"
            ],
            [
             0.6,
             "#e6f5d0"
            ],
            [
             0.7,
             "#b8e186"
            ],
            [
             0.8,
             "#7fbc41"
            ],
            [
             0.9,
             "#4d9221"
            ],
            [
             1,
             "#276419"
            ]
           ],
           "sequential": [
            [
             0,
             "#0d0887"
            ],
            [
             0.1111111111111111,
             "#46039f"
            ],
            [
             0.2222222222222222,
             "#7201a8"
            ],
            [
             0.3333333333333333,
             "#9c179e"
            ],
            [
             0.4444444444444444,
             "#bd3786"
            ],
            [
             0.5555555555555556,
             "#d8576b"
            ],
            [
             0.6666666666666666,
             "#ed7953"
            ],
            [
             0.7777777777777778,
             "#fb9f3a"
            ],
            [
             0.8888888888888888,
             "#fdca26"
            ],
            [
             1,
             "#f0f921"
            ]
           ],
           "sequentialminus": [
            [
             0,
             "#0d0887"
            ],
            [
             0.1111111111111111,
             "#46039f"
            ],
            [
             0.2222222222222222,
             "#7201a8"
            ],
            [
             0.3333333333333333,
             "#9c179e"
            ],
            [
             0.4444444444444444,
             "#bd3786"
            ],
            [
             0.5555555555555556,
             "#d8576b"
            ],
            [
             0.6666666666666666,
             "#ed7953"
            ],
            [
             0.7777777777777778,
             "#fb9f3a"
            ],
            [
             0.8888888888888888,
             "#fdca26"
            ],
            [
             1,
             "#f0f921"
            ]
           ]
          },
          "colorway": [
           "#636efa",
           "#EF553B",
           "#00cc96",
           "#ab63fa",
           "#FFA15A",
           "#19d3f3",
           "#FF6692",
           "#B6E880",
           "#FF97FF",
           "#FECB52"
          ],
          "font": {
           "color": "#f2f5fa"
          },
          "geo": {
           "bgcolor": "rgb(17,17,17)",
           "lakecolor": "rgb(17,17,17)",
           "landcolor": "rgb(17,17,17)",
           "showlakes": true,
           "showland": true,
           "subunitcolor": "#506784"
          },
          "hoverlabel": {
           "align": "left"
          },
          "hovermode": "closest",
          "mapbox": {
           "style": "dark"
          },
          "paper_bgcolor": "rgb(17,17,17)",
          "plot_bgcolor": "rgb(17,17,17)",
          "polar": {
           "angularaxis": {
            "gridcolor": "#506784",
            "linecolor": "#506784",
            "ticks": ""
           },
           "bgcolor": "rgb(17,17,17)",
           "radialaxis": {
            "gridcolor": "#506784",
            "linecolor": "#506784",
            "ticks": ""
           }
          },
          "scene": {
           "xaxis": {
            "backgroundcolor": "rgb(17,17,17)",
            "gridcolor": "#506784",
            "gridwidth": 2,
            "linecolor": "#506784",
            "showbackground": true,
            "ticks": "",
            "zerolinecolor": "#C8D4E3"
           },
           "yaxis": {
            "backgroundcolor": "rgb(17,17,17)",
            "gridcolor": "#506784",
            "gridwidth": 2,
            "linecolor": "#506784",
            "showbackground": true,
            "ticks": "",
            "zerolinecolor": "#C8D4E3"
           },
           "zaxis": {
            "backgroundcolor": "rgb(17,17,17)",
            "gridcolor": "#506784",
            "gridwidth": 2,
            "linecolor": "#506784",
            "showbackground": true,
            "ticks": "",
            "zerolinecolor": "#C8D4E3"
           }
          },
          "shapedefaults": {
           "line": {
            "color": "#f2f5fa"
           }
          },
          "sliderdefaults": {
           "bgcolor": "#C8D4E3",
           "bordercolor": "rgb(17,17,17)",
           "borderwidth": 1,
           "tickwidth": 0
          },
          "ternary": {
           "aaxis": {
            "gridcolor": "#506784",
            "linecolor": "#506784",
            "ticks": ""
           },
           "baxis": {
            "gridcolor": "#506784",
            "linecolor": "#506784",
            "ticks": ""
           },
           "bgcolor": "rgb(17,17,17)",
           "caxis": {
            "gridcolor": "#506784",
            "linecolor": "#506784",
            "ticks": ""
           }
          },
          "title": {
           "x": 0.05
          },
          "updatemenudefaults": {
           "bgcolor": "#506784",
           "borderwidth": 0
          },
          "xaxis": {
           "automargin": true,
           "gridcolor": "#283442",
           "linecolor": "#506784",
           "ticks": "",
           "title": {
            "standoff": 15
           },
           "zerolinecolor": "#283442",
           "zerolinewidth": 2
          },
          "yaxis": {
           "automargin": true,
           "gridcolor": "#283442",
           "linecolor": "#506784",
           "ticks": "",
           "title": {
            "standoff": 15
           },
           "zerolinecolor": "#283442",
           "zerolinewidth": 2
          }
         }
        },
        "xaxis": {
         "anchor": "y",
         "autorange": true,
         "categoryorder": "total ascending",
         "domain": [
          0,
          1
         ],
         "range": [
          -0.5,
          4.5
         ],
         "title": {
          "text": "FAVOR OR OPPOSE EXPANDING NUCLEAR PLANT IN THE MIDLANDS OF SC"
         },
         "type": "category"
        },
        "yaxis": {
         "anchor": "x",
         "autorange": true,
         "domain": [
          0,
          1
         ],
         "range": [
          0,
          284.2105263157895
         ],
         "title": {
          "text": "NUMBER OF RESPONCES"
         }
        }
       }
      },
      "image/png": "[encoded data removed]",
      "text/html": [
       "<div>                            <div id=\"8511278a-25b1-49ea-bd7a-ed96ff750c4d\" class=\"plotly-graph-div\" style=\"height:525px; width:100%;\"></div>            <script type=\"text/javascript\">                require([\"plotly\"], function(Plotly) {                    window.PLOTLYENV=window.PLOTLYENV || {};                                    if (document.getElementById(\"8511278a-25b1-49ea-bd7a-ed96ff750c4d\")) {                    Plotly.newPlot(                        \"8511278a-25b1-49ea-bd7a-ed96ff750c4d\",                        [{\"alignmentgroup\":\"True\",\"bingroup\":\"x\",\"hovertemplate\":\"Q13=SOMEWHAT FAVOR<br>Q10=%{x}<br>count=%{y}<extra></extra>\",\"legendgroup\":\"SOMEWHAT FAVOR\",\"marker\":{\"color\":\"#636efa\",\"pattern\":{\"shape\":\"\"}},\"name\":\"SOMEWHAT FAVOR\",\"offsetgroup\":\"SOMEWHAT FAVOR\",\"orientation\":\"v\",\"showlegend\":true,\"x\":[\"VERY CONCERNED\",\"VERY CONCERNED\",\"SOMEWHAT CONCERNED\",\"VERY CONCERNED\",\"VERY CONCERNED\",\"VERY CONCERNED\",\"SOMEWHAT CONCERNED\",\"VERY CONCERNED\",\"VERY CONCERNED\",\"SOMEWHAT CONCERNED\",\"NOT AT ALL CONCERNED\",\"VERY CONCERNED\",\"NOT TOO CONCERNED\",\"VERY CONCERNED\",\"VERY CONCERNED\",\"SOMEWHAT CONCERNED\",\"SOMEWHAT CONCERNED\",\"VERY CONCERNED\",\"VERY CONCERNED\",\"SOMEWHAT CONCERNED\",\"SOMEWHAT CONCERNED\",\"SOMEWHAT CONCERNED\",\"VERY CONCERNED\",\"SOMEWHAT CONCERNED\",\"SOMEWHAT CONCERNED\",\"SOMEWHAT CONCERNED\",\"SOMEWHAT CONCERNED\",\"SOMEWHAT CONCERNED\",\"SOMEWHAT CONCERNED\",\"SOMEWHAT CONCERNED\",\"SOMEWHAT CONCERNED\",\"VERY CONCERNED\",\"SOMEWHAT CONCERNED\",\"VERY CONCERNED\",\"NOT TOO CONCERNED\",\"VERY CONCERNED\",\"VERY CONCERNED\",\"VERY CONCERNED\",\"VERY CONCERNED\",\"VERY CONCERNED\",\"SOMEWHAT CONCERNED\",\"NOT TOO CONCERNED\",\"NOT TOO CONCERNED\",\"NOT TOO CONCERNED\",\"SOMEWHAT CONCERNED\",\"SOMEWHAT CONCERNED\",\"NOT TOO CONCERNED\",\"NOT AT ALL CONCERNED\",\"SOMEWHAT CONCERNED\",\"VERY CONCERNED\",\"VERY CONCERNED\",\"SOMEWHAT CONCERNED\",\"VERY CONCERNED\",\"VERY CONCERNED\",\"SOMEWHAT CONCERNED\",\"VERY CONCERNED\",\"VERY CONCERNED\",\"VERY CONCERNED\",\"SOMEWHAT CONCERNED\",\"NOT TOO CONCERNED\",\"VERY CONCERNED\",\"VERY CONCERNED\",\"SOMEWHAT CONCERNED\",\"VERY CONCERNED\",\"SOMEWHAT CONCERNED\",\"VERY CONCERNED\",\"SOMEWHAT CONCERNED\",\"VERY CONCERNED\",\"VERY CONCERNED\",\"SOMEWHAT CONCERNED\",\"NOT TOO CONCERNED\",\"SOMEWHAT CONCERNED\",\"SOMEWHAT CONCERNED\",\"VERY CONCERNED\",\"VERY CONCERNED\",\"SOMEWHAT CONCERNED\",\"VERY CONCERNED\",\"SOMEWHAT CONCERNED\",\"SOMEWHAT CONCERNED\",\"VERY CONCERNED\",\"NOT TOO CONCERNED\",\"NOT TOO CONCERNED\",\"NOT TOO CONCERNED\",\"VERY CONCERNED\",\"VERY CONCERNED\",\"NOT TOO CONCERNED\",\"VERY CONCERNED\",\"NOT AT ALL CONCERNED\",\"SOMEWHAT CONCERNED\",\"SOMEWHAT CONCERNED\",\"SOMEWHAT CONCERNED\",\"VERY CONCERNED\",\"VERY CONCERNED\",\"VERY CONCERNED\",\"VERY CONCERNED\",\"SOMEWHAT CONCERNED\",\"VERY CONCERNED\",\"SOMEWHAT CONCERNED\",\"NOT TOO CONCERNED\",\"SOMEWHAT CONCERNED\",\"SOMEWHAT CONCERNED\",\"NOT TOO CONCERNED\",\"NOT TOO CONCERNED\",\"SOMEWHAT CONCERNED\",\"VERY CONCERNED\",\"VERY CONCERNED\",\"NOT TOO CONCERNED\",\"VERY CONCERNED\",\"VERY CONCERNED\",\"SOMEWHAT CONCERNED\",\"NOT AT ALL CONCERNED\",\"SOMEWHAT CONCERNED\",\"VERY CONCERNED\",\"SOMEWHAT CONCERNED\",\"NOT AT ALL CONCERNED\",\"VERY CONCERNED\",\"SOMEWHAT CONCERNED\",\"NOT TOO CONCERNED\",\"SOMEWHAT CONCERNED\",\"NOT TOO CONCERNED\",\"SOMEWHAT CONCERNED\",\"NOT TOO CONCERNED\",\"VERY CONCERNED\",\"SOMEWHAT CONCERNED\",\"NOT TOO CONCERNED\",\"SOMEWHAT CONCERNED\",\"NOT AT ALL CONCERNED\",\"SOMEWHAT CONCERNED\",\"VERY CONCERNED\",\"NOT TOO CONCERNED\",\"VERY CONCERNED\",\"SOMEWHAT CONCERNED\",\"VERY CONCERNED\",\"SOMEWHAT CONCERNED\",\"NOT TOO CONCERNED\",\"VERY CONCERNED\",\"VERY CONCERNED\",\"VERY CONCERNED\",\"NOT TOO CONCERNED\",\"VERY CONCERNED\",\"NOT AT ALL CONCERNED\",\"NOT TOO CONCERNED\",\"VERY CONCERNED\",\"SOMEWHAT CONCERNED\",\"SOMEWHAT CONCERNED\",\"SOMEWHAT CONCERNED\",\"SOMEWHAT CONCERNED\",\"SOMEWHAT CONCERNED\",\"VERY CONCERNED\",\"SOMEWHAT CONCERNED\",\"VERY CONCERNED\",\"VERY CONCERNED\",\"VERY CONCERNED\",\"VERY CONCERNED\",\"VERY CONCERNED\",\"SOMEWHAT CONCERNED\",\"NOT TOO CONCERNED\",\"SOMEWHAT CONCERNED\",\"SOMEWHAT CONCERNED\",\"SOMEWHAT CONCERNED\",\"VERY CONCERNED\",\"VERY CONCERNED\",\"VERY CONCERNED\",\"VERY CONCERNED\",\"SOMEWHAT CONCERNED\",\"NOT TOO CONCERNED\",\"NOT TOO CONCERNED\",\"NOT TOO CONCERNED\",\"NOT TOO CONCERNED\",\"VERY CONCERNED\",\"SOMEWHAT CONCERNED\",\"VERY CONCERNED\",\"VERY CONCERNED\",\"VERY CONCERNED\",\"VERY CONCERNED\",\"VERY CONCERNED\",\"SOMEWHAT CONCERNED\",\"VERY CONCERNED\",\"VERY CONCERNED\",\"VERY CONCERNED\",\"VERY CONCERNED\",\"SOMEWHAT CONCERNED\",\"VERY CONCERNED\",\"VERY CONCERNED\",\"VERY CONCERNED\",\"NOT AT ALL CONCERNED\",\"SOMEWHAT CONCERNED\",\"VERY CONCERNED\",\"SOMEWHAT CONCERNED\",\"VERY CONCERNED\",\"NOT AT ALL CONCERNED\",\"VERY CONCERNED\",\"VERY CONCERNED\",\"SOMEWHAT CONCERNED\",\"SOMEWHAT CONCERNED\",\"NOT TOO CONCERNED\",\"VERY CONCERNED\",\"VERY CONCERNED\",\"VERY CONCERNED\",\"VERY CONCERNED\",\"VERY CONCERNED\",\"SOMEWHAT CONCERNED\",\"SOMEWHAT CONCERNED\",\"SOMEWHAT CONCERNED\",\"VERY CONCERNED\",\"VERY CONCERNED\",\"SOMEWHAT CONCERNED\",\"SOMEWHAT CONCERNED\",\"SOMEWHAT CONCERNED\",\"VERY CONCERNED\",\"SOMEWHAT CONCERNED\",\"VERY CONCERNED\",\"SOMEWHAT CONCERNED\",\"SOMEWHAT CONCERNED\",\"VERY CONCERNED\",\"VERY CONCERNED\",\"VERY CONCERNED\",\"SOMEWHAT CONCERNED\",\"SOMEWHAT CONCERNED\",\"NOT AT ALL CONCERNED\",\"VERY CONCERNED\",\"VERY CONCERNED\",\"VERY CONCERNED\",\"SOMEWHAT CONCERNED\",\"NOT TOO CONCERNED\",\"VERY CONCERNED\",\"SOMEWHAT CONCERNED\",\"SOMEWHAT CONCERNED\",\"VERY CONCERNED\",\"SOMEWHAT CONCERNED\",\"SOMEWHAT CONCERNED\",\"SOMEWHAT CONCERNED\",\"NOT TOO CONCERNED\",\"SOMEWHAT CONCERNED\",\"VERY CONCERNED\",\"VERY CONCERNED\"],\"xaxis\":\"x\",\"yaxis\":\"y\",\"type\":\"histogram\"},{\"alignmentgroup\":\"True\",\"bingroup\":\"x\",\"hovertemplate\":\"Q13=SOMEWHAT OPPOSE<br>Q10=%{x}<br>count=%{y}<extra></extra>\",\"legendgroup\":\"SOMEWHAT OPPOSE\",\"marker\":{\"color\":\"#EF553B\",\"pattern\":{\"shape\":\"\"}},\"name\":\"SOMEWHAT OPPOSE\",\"offsetgroup\":\"SOMEWHAT OPPOSE\",\"orientation\":\"v\",\"showlegend\":true,\"x\":[\"VERY CONCERNED\",\"VERY CONCERNED\",\"VERY CONCERNED\",\"VERY CONCERNED\",\"VERY CONCERNED\",\"SOMEWHAT CONCERNED\",\"SOMEWHAT CONCERNED\",\"VERY CONCERNED\",\"VERY CONCERNED\",\"VERY CONCERNED\",\"SOMEWHAT CONCERNED\",\"VERY CONCERNED\",\"VERY CONCERNED\",\"VERY CONCERNED\",\"SOMEWHAT CONCERNED\",\"VERY CONCERNED\",\"VERY CONCERNED\",\"VERY CONCERNED\",\"SOMEWHAT CONCERNED\",\"VERY CONCERNED\",\"VERY CONCERNED\",\"VERY CONCERNED\",\"SOMEWHAT CONCERNED\",\"VERY CONCERNED\",\"VERY CONCERNED\",\"SOMEWHAT CONCERNED\",\"SOMEWHAT CONCERNED\",\"VERY CONCERNED\",\"SOMEWHAT CONCERNED\",\"VERY CONCERNED\",\"SOMEWHAT CONCERNED\",\"NOT TOO CONCERNED\",\"SOMEWHAT CONCERNED\",\"VERY CONCERNED\",\"VERY CONCERNED\",\"SOMEWHAT CONCERNED\",\"VERY CONCERNED\",\"SOMEWHAT CONCERNED\",\"VERY CONCERNED\",\"VERY CONCERNED\",\"SOMEWHAT CONCERNED\",\"NOT TOO CONCERNED\",\"VERY CONCERNED\",\"SOMEWHAT CONCERNED\",\"VERY CONCERNED\",\"SOMEWHAT CONCERNED\",\"VERY CONCERNED\",\"SOMEWHAT CONCERNED\",\"VERY CONCERNED\",\"VERY CONCERNED\",\"SOMEWHAT CONCERNED\",\"VERY CONCERNED\",\"VERY CONCERNED\",\"VERY CONCERNED\",\"VERY CONCERNED\",\"VERY CONCERNED\",\"SOMEWHAT CONCERNED\",\"SOMEWHAT CONCERNED\",\"SOMEWHAT CONCERNED\",\"VERY CONCERNED\",\"SOMEWHAT CONCERNED\",\"SOMEWHAT CONCERNED\",\"SOMEWHAT CONCERNED\",\"SOMEWHAT CONCERNED\",\"VERY CONCERNED\",\"VERY CONCERNED\",\"VERY CONCERNED\",\"SOMEWHAT CONCERNED\",\"VERY CONCERNED\",\"VERY CONCERNED\",\"VERY CONCERNED\",\"VERY CONCERNED\",\"VERY CONCERNED\",\"VERY CONCERNED\",\"SOMEWHAT CONCERNED\",\"VERY CONCERNED\",\"NOT TOO CONCERNED\",\"SOMEWHAT CONCERNED\",\"SOMEWHAT CONCERNED\",\"NOT TOO CONCERNED\",\"SOMEWHAT CONCERNED\",\"VERY CONCERNED\",\"VERY CONCERNED\",\"SOMEWHAT CONCERNED\",\"VERY CONCERNED\",\"VERY CONCERNED\",\"SOMEWHAT CONCERNED\",\"VERY CONCERNED\",\"VERY CONCERNED\",\"VERY CONCERNED\",\"NOT TOO CONCERNED\",\"NOT TOO CONCERNED\",\"SOMEWHAT CONCERNED\",\"VERY CONCERNED\",\"VERY CONCERNED\",\"SOMEWHAT CONCERNED\",\"VERY CONCERNED\",\"VERY CONCERNED\",\"SOMEWHAT CONCERNED\",\"VERY CONCERNED\",\"SOMEWHAT CONCERNED\",\"VERY CONCERNED\",\"SOMEWHAT CONCERNED\",\"VERY CONCERNED\",\"VERY CONCERNED\",\"VERY CONCERNED\",\"VERY CONCERNED\",\"NOT TOO CONCERNED\",\"SOMEWHAT CONCERNED\",\"VERY CONCERNED\",\"SOMEWHAT CONCERNED\",\"VERY CONCERNED\",\"SOMEWHAT CONCERNED\",\"VERY CONCERNED\",\"VERY CONCERNED\",\"NOT AT ALL CONCERNED\"],\"xaxis\":\"x\",\"yaxis\":\"y\",\"type\":\"histogram\"},{\"alignmentgroup\":\"True\",\"bingroup\":\"x\",\"hovertemplate\":\"Q13=STRONGLY FAVOR<br>Q10=%{x}<br>count=%{y}<extra></extra>\",\"legendgroup\":\"STRONGLY FAVOR\",\"marker\":{\"color\":\"#00cc96\",\"pattern\":{\"shape\":\"\"}},\"name\":\"STRONGLY FAVOR\",\"offsetgroup\":\"STRONGLY FAVOR\",\"orientation\":\"v\",\"showlegend\":true,\"x\":[\"SOMEWHAT CONCERNED\",\"SOMEWHAT CONCERNED\",\"NOT AT ALL CONCERNED\",\"NOT TOO CONCERNED\",\"NOT TOO CONCERNED\",\"NOT TOO CONCERNED\",\"NOT TOO CONCERNED\",\"SOMEWHAT CONCERNED\",\"NOT TOO CONCERNED\",\"VERY CONCERNED\",\"VERY CONCERNED\",\"VERY CONCERNED\",\"NOT TOO CONCERNED\",\"VERY CONCERNED\",\"DO NOT KNOW\",\"VERY CONCERNED\",\"SOMEWHAT CONCERNED\",\"VERY CONCERNED\",\"VERY CONCERNED\",\"NOT AT ALL CONCERNED\",\"NOT AT ALL CONCERNED\",\"VERY CONCERNED\",\"NOT AT ALL CONCERNED\",\"NOT AT ALL CONCERNED\",\"VERY CONCERNED\",\"NOT TOO CONCERNED\",\"VERY CONCERNED\",\"DO NOT KNOW\",\"SOMEWHAT CONCERNED\",\"NOT TOO CONCERNED\",\"VERY CONCERNED\",\"SOMEWHAT CONCERNED\",\"SOMEWHAT CONCERNED\",\"SOMEWHAT CONCERNED\",\"NOT AT ALL CONCERNED\",\"VERY CONCERNED\",\"NOT TOO CONCERNED\",\"VERY CONCERNED\",\"VERY CONCERNED\",\"VERY CONCERNED\",\"VERY CONCERNED\",\"NOT TOO CONCERNED\",\"VERY CONCERNED\",\"SOMEWHAT CONCERNED\",\"NOT TOO CONCERNED\",\"VERY CONCERNED\",\"VERY CONCERNED\",\"VERY CONCERNED\",\"NOT TOO CONCERNED\",\"NOT AT ALL CONCERNED\",\"SOMEWHAT CONCERNED\",\"SOMEWHAT CONCERNED\",\"VERY CONCERNED\",\"VERY CONCERNED\",\"NOT TOO CONCERNED\",\"SOMEWHAT CONCERNED\",\"NOT AT ALL CONCERNED\",\"SOMEWHAT CONCERNED\",\"NOT AT ALL CONCERNED\",\"NOT AT ALL CONCERNED\",\"NOT TOO CONCERNED\",\"VERY CONCERNED\",\"VERY CONCERNED\",\"SOMEWHAT CONCERNED\",\"SOMEWHAT CONCERNED\",\"SOMEWHAT CONCERNED\",\"NOT TOO CONCERNED\",\"NOT TOO CONCERNED\",\"NOT TOO CONCERNED\",\"SOMEWHAT CONCERNED\",\"SOMEWHAT CONCERNED\",\"NOT TOO CONCERNED\",\"NOT AT ALL CONCERNED\",\"SOMEWHAT CONCERNED\",\"VERY CONCERNED\",\"NOT AT ALL CONCERNED\",\"VERY CONCERNED\",\"NOT TOO CONCERNED\",\"NOT AT ALL CONCERNED\",\"NOT TOO CONCERNED\",\"NOT AT ALL CONCERNED\",\"SOMEWHAT CONCERNED\",\"NOT TOO CONCERNED\",\"SOMEWHAT CONCERNED\",\"SOMEWHAT CONCERNED\",\"NOT AT ALL CONCERNED\",\"VERY CONCERNED\",\"VERY CONCERNED\",\"VERY CONCERNED\",\"VERY CONCERNED\",\"SOMEWHAT CONCERNED\",\"VERY CONCERNED\",\"NOT TOO CONCERNED\",\"NOT TOO CONCERNED\",\"NOT TOO CONCERNED\",\"VERY CONCERNED\",\"SOMEWHAT CONCERNED\",\"SOMEWHAT CONCERNED\",\"SOMEWHAT CONCERNED\",\"NOT AT ALL CONCERNED\",\"SOMEWHAT CONCERNED\",\"VERY CONCERNED\",\"NOT AT ALL CONCERNED\",\"VERY CONCERNED\",\"VERY CONCERNED\",\"VERY CONCERNED\",\"VERY CONCERNED\",\"VERY CONCERNED\",\"NOT TOO CONCERNED\",\"SOMEWHAT CONCERNED\",\"SOMEWHAT CONCERNED\",\"NOT TOO CONCERNED\",\"SOMEWHAT CONCERNED\",\"VERY CONCERNED\",\"SOMEWHAT CONCERNED\",\"VERY CONCERNED\",\"SOMEWHAT CONCERNED\",\"NOT AT ALL CONCERNED\",\"SOMEWHAT CONCERNED\",\"NOT TOO CONCERNED\",\"VERY CONCERNED\",\"NOT AT ALL CONCERNED\",\"SOMEWHAT CONCERNED\",\"NOT AT ALL CONCERNED\",\"NOT AT ALL CONCERNED\",\"NOT TOO CONCERNED\",\"NOT AT ALL CONCERNED\",\"NOT TOO CONCERNED\",\"NOT AT ALL CONCERNED\",\"VERY CONCERNED\",\"SOMEWHAT CONCERNED\",\"VERY CONCERNED\",\"VERY CONCERNED\",\"NOT TOO CONCERNED\",\"VERY CONCERNED\",\"VERY CONCERNED\",\"VERY CONCERNED\",\"NOT TOO CONCERNED\",\"VERY CONCERNED\",\"SOMEWHAT CONCERNED\",\"NOT TOO CONCERNED\",\"VERY CONCERNED\",\"VERY CONCERNED\",\"SOMEWHAT CONCERNED\",\"NOT TOO CONCERNED\",\"NOT AT ALL CONCERNED\",\"VERY CONCERNED\",\"NOT TOO CONCERNED\",\"NOT AT ALL CONCERNED\",\"VERY CONCERNED\",\"VERY CONCERNED\",\"NOT TOO CONCERNED\",\"NOT TOO CONCERNED\",\"SOMEWHAT CONCERNED\",\"NOT AT ALL CONCERNED\",\"SOMEWHAT CONCERNED\",\"NOT AT ALL CONCERNED\",\"NOT TOO CONCERNED\",\"NOT AT ALL CONCERNED\",\"NOT AT ALL CONCERNED\",\"NOT AT ALL CONCERNED\",\"SOMEWHAT CONCERNED\",\"SOMEWHAT CONCERNED\",\"SOMEWHAT CONCERNED\",\"SOMEWHAT CONCERNED\",\"NOT AT ALL CONCERNED\",\"SOMEWHAT CONCERNED\",\"NOT AT ALL CONCERNED\",\"SOMEWHAT CONCERNED\",\"VERY CONCERNED\",\"VERY CONCERNED\",\"VERY CONCERNED\",\"NOT AT ALL CONCERNED\",\"NOT AT ALL CONCERNED\",\"SOMEWHAT CONCERNED\",\"VERY CONCERNED\"],\"xaxis\":\"x\",\"yaxis\":\"y\",\"type\":\"histogram\"},{\"alignmentgroup\":\"True\",\"bingroup\":\"x\",\"hovertemplate\":\"Q13=DO NOT KNOW<br>Q10=%{x}<br>count=%{y}<extra></extra>\",\"legendgroup\":\"DO NOT KNOW\",\"marker\":{\"color\":\"#ab63fa\",\"pattern\":{\"shape\":\"\"}},\"name\":\"DO NOT KNOW\",\"offsetgroup\":\"DO NOT KNOW\",\"orientation\":\"v\",\"showlegend\":true,\"x\":[\"VERY CONCERNED\",\"VERY CONCERNED\",\"VERY CONCERNED\",\"VERY CONCERNED\",\"VERY CONCERNED\",\"NOT TOO CONCERNED\",\"VERY CONCERNED\",\"SOMEWHAT CONCERNED\",\"VERY CONCERNED\",\"VERY CONCERNED\",\"VERY CONCERNED\",\"VERY CONCERNED\",\"NOT AT ALL CONCERNED\",\"SOMEWHAT CONCERNED\",\"VERY CONCERNED\",\"SOMEWHAT CONCERNED\",\"VERY CONCERNED\"],\"xaxis\":\"x\",\"yaxis\":\"y\",\"type\":\"histogram\"},{\"alignmentgroup\":\"True\",\"bingroup\":\"x\",\"hovertemplate\":\"Q13=STRONGLY OPPOSE<br>Q10=%{x}<br>count=%{y}<extra></extra>\",\"legendgroup\":\"STRONGLY OPPOSE\",\"marker\":{\"color\":\"#FFA15A\",\"pattern\":{\"shape\":\"\"}},\"name\":\"STRONGLY OPPOSE\",\"offsetgroup\":\"STRONGLY OPPOSE\",\"orientation\":\"v\",\"showlegend\":true,\"x\":[\"VERY CONCERNED\",\"VERY CONCERNED\",\"SOMEWHAT CONCERNED\",\"SOMEWHAT CONCERNED\",\"VERY CONCERNED\",\"VERY CONCERNED\",\"SOMEWHAT CONCERNED\",\"NOT TOO CONCERNED\",\"NOT TOO CONCERNED\",\"NOT TOO CONCERNED\",\"SOMEWHAT CONCERNED\",\"NOT TOO CONCERNED\",\"SOMEWHAT CONCERNED\",\"SOMEWHAT CONCERNED\",\"NOT AT ALL CONCERNED\",\"VERY CONCERNED\",\"SOMEWHAT CONCERNED\",\"VERY CONCERNED\",\"NOT AT ALL CONCERNED\",\"VERY CONCERNED\",\"VERY CONCERNED\",\"VERY CONCERNED\",\"VERY CONCERNED\",\"NOT TOO CONCERNED\",\"VERY CONCERNED\",\"SOMEWHAT CONCERNED\",\"NOT TOO CONCERNED\",\"SOMEWHAT CONCERNED\",\"VERY CONCERNED\",\"NOT TOO CONCERNED\",\"VERY CONCERNED\",\"VERY CONCERNED\",\"NOT TOO CONCERNED\",\"VERY CONCERNED\",\"SOMEWHAT CONCERNED\",\"VERY CONCERNED\",\"NOT TOO CONCERNED\",\"VERY CONCERNED\",\"VERY CONCERNED\",\"VERY CONCERNED\",\"VERY CONCERNED\",\"SOMEWHAT CONCERNED\",\"SOMEWHAT CONCERNED\",\"SOMEWHAT CONCERNED\",\"VERY CONCERNED\",\"NOT AT ALL CONCERNED\",\"VERY CONCERNED\",\"NOT TOO CONCERNED\",\"SOMEWHAT CONCERNED\",\"NOT AT ALL CONCERNED\",\"SOMEWHAT CONCERNED\",\"VERY CONCERNED\",\"SOMEWHAT CONCERNED\",\"VERY CONCERNED\",\"VERY CONCERNED\",\"SOMEWHAT CONCERNED\",\"NOT TOO CONCERNED\",\"VERY CONCERNED\",\"SOMEWHAT CONCERNED\",\"SOMEWHAT CONCERNED\",\"VERY CONCERNED\"],\"xaxis\":\"x\",\"yaxis\":\"y\",\"type\":\"histogram\"}],                        {\"template\":{\"data\":{\"barpolar\":[{\"marker\":{\"line\":{\"color\":\"rgb(17,17,17)\",\"width\":0.5},\"pattern\":{\"fillmode\":\"overlay\",\"size\":10,\"solidity\":0.2}},\"type\":\"barpolar\"}],\"bar\":[{\"error_x\":{\"color\":\"#f2f5fa\"},\"error_y\":{\"color\":\"#f2f5fa\"},\"marker\":{\"line\":{\"color\":\"rgb(17,17,17)\",\"width\":0.5},\"pattern\":{\"fillmode\":\"overlay\",\"size\":10,\"solidity\":0.2}},\"type\":\"bar\"}],\"carpet\":[{\"aaxis\":{\"endlinecolor\":\"#A2B1C6\",\"gridcolor\":\"#506784\",\"linecolor\":\"#506784\",\"minorgridcolor\":\"#506784\",\"startlinecolor\":\"#A2B1C6\"},\"baxis\":{\"endlinecolor\":\"#A2B1C6\",\"gridcolor\":\"#506784\",\"linecolor\":\"#506784\",\"minorgridcolor\":\"#506784\",\"startlinecolor\":\"#A2B1C6\"},\"type\":\"carpet\"}],\"choropleth\":[{\"colorbar\":{\"outlinewidth\":0,\"ticks\":\"\"},\"type\":\"choropleth\"}],\"contourcarpet\":[{\"colorbar\":{\"outlinewidth\":0,\"ticks\":\"\"},\"type\":\"contourcarpet\"}],\"contour\":[{\"colorbar\":{\"outlinewidth\":0,\"ticks\":\"\"},\"colorscale\":[[0.0,\"#0d0887\"],[0.1111111111111111,\"#46039f\"],[0.2222222222222222,\"#7201a8\"],[0.3333333333333333,\"#9c179e\"],[0.4444444444444444,\"#bd3786\"],[0.5555555555555556,\"#d8576b\"],[0.6666666666666666,\"#ed7953\"],[0.7777777777777778,\"#fb9f3a\"],[0.8888888888888888,\"#fdca26\"],[1.0,\"#f0f921\"]],\"type\":\"contour\"}],\"heatmapgl\":[{\"colorbar\":{\"outlinewidth\":0,\"ticks\":\"\"},\"colorscale\":[[0.0,\"#0d0887\"],[0.1111111111111111,\"#46039f\"],[0.2222222222222222,\"#7201a8\"],[0.3333333333333333,\"#9c179e\"],[0.4444444444444444,\"#bd3786\"],[0.5555555555555556,\"#d8576b\"],[0.6666666666666666,\"#ed7953\"],[0.7777777777777778,\"#fb9f3a\"],[0.8888888888888888,\"#fdca26\"],[1.0,\"#f0f921\"]],\"type\":\"heatmapgl\"}],\"heatmap\":[{\"colorbar\":{\"outlinewidth\":0,\"ticks\":\"\"},\"colorscale\":[[0.0,\"#0d0887\"],[0.1111111111111111,\"#46039f\"],[0.2222222222222222,\"#7201a8\"],[0.3333333333333333,\"#9c179e\"],[0.4444444444444444,\"#bd3786\"],[0.5555555555555556,\"#d8576b\"],[0.6666666666666666,\"#ed7953\"],[0.7777777777777778,\"#fb9f3a\"],[0.8888888888888888,\"#fdca26\"],[1.0,\"#f0f921\"]],\"type\":\"heatmap\"}],\"histogram2dcontour\":[{\"colorbar\":{\"outlinewidth\":0,\"ticks\":\"\"},\"colorscale\":[[0.0,\"#0d0887\"],[0.1111111111111111,\"#46039f\"],[0.2222222222222222,\"#7201a8\"],[0.3333333333333333,\"#9c179e\"],[0.4444444444444444,\"#bd3786\"],[0.5555555555555556,\"#d8576b\"],[0.6666666666666666,\"#ed7953\"],[0.7777777777777778,\"#fb9f3a\"],[0.8888888888888888,\"#fdca26\"],[1.0,\"#f0f921\"]],\"type\":\"histogram2dcontour\"}],\"histogram2d\":[{\"colorbar\":{\"outlinewidth\":0,\"ticks\":\"\"},\"colorscale\":[[0.0,\"#0d0887\"],[0.1111111111111111,\"#46039f\"],[0.2222222222222222,\"#7201a8\"],[0.3333333333333333,\"#9c179e\"],[0.4444444444444444,\"#bd3786\"],[0.5555555555555556,\"#d8576b\"],[0.6666666666666666,\"#ed7953\"],[0.7777777777777778,\"#fb9f3a\"],[0.8888888888888888,\"#fdca26\"],[1.0,\"#f0f921\"]],\"type\":\"histogram2d\"}],\"histogram\":[{\"marker\":{\"pattern\":{\"fillmode\":\"overlay\",\"size\":10,\"solidity\":0.2}},\"type\":\"histogram\"}],\"mesh3d\":[{\"colorbar\":{\"outlinewidth\":0,\"ticks\":\"\"},\"type\":\"mesh3d\"}],\"parcoords\":[{\"line\":{\"colorbar\":{\"outlinewidth\":0,\"ticks\":\"\"}},\"type\":\"parcoords\"}],\"pie\":[{\"automargin\":true,\"type\":\"pie\"}],\"scatter3d\":[{\"line\":{\"colorbar\":{\"outlinewidth\":0,\"ticks\":\"\"}},\"marker\":{\"colorbar\":{\"outlinewidth\":0,\"ticks\":\"\"}},\"type\":\"scatter3d\"}],\"scattercarpet\":[{\"marker\":{\"colorbar\":{\"outlinewidth\":0,\"ticks\":\"\"}},\"type\":\"scattercarpet\"}],\"scattergeo\":[{\"marker\":{\"colorbar\":{\"outlinewidth\":0,\"ticks\":\"\"}},\"type\":\"scattergeo\"}],\"scattergl\":[{\"marker\":{\"line\":{\"color\":\"#283442\"}},\"type\":\"scattergl\"}],\"scattermapbox\":[{\"marker\":{\"colorbar\":{\"outlinewidth\":0,\"ticks\":\"\"}},\"type\":\"scattermapbox\"}],\"scatterpolargl\":[{\"marker\":{\"colorbar\":{\"outlinewidth\":0,\"ticks\":\"\"}},\"type\":\"scatterpolargl\"}],\"scatterpolar\":[{\"marker\":{\"colorbar\":{\"outlinewidth\":0,\"ticks\":\"\"}},\"type\":\"scatterpolar\"}],\"scatter\":[{\"marker\":{\"line\":{\"color\":\"#283442\"}},\"type\":\"scatter\"}],\"scatterternary\":[{\"marker\":{\"colorbar\":{\"outlinewidth\":0,\"ticks\":\"\"}},\"type\":\"scatterternary\"}],\"surface\":[{\"colorbar\":{\"outlinewidth\":0,\"ticks\":\"\"},\"colorscale\":[[0.0,\"#0d0887\"],[0.1111111111111111,\"#46039f\"],[0.2222222222222222,\"#7201a8\"],[0.3333333333333333,\"#9c179e\"],[0.4444444444444444,\"#bd3786\"],[0.5555555555555556,\"#d8576b\"],[0.6666666666666666,\"#ed7953\"],[0.7777777777777778,\"#fb9f3a\"],[0.8888888888888888,\"#fdca26\"],[1.0,\"#f0f921\"]],\"type\":\"surface\"}],\"table\":[{\"cells\":{\"fill\":{\"color\":\"#506784\"},\"line\":{\"color\":\"rgb(17,17,17)\"}},\"header\":{\"fill\":{\"color\":\"#2a3f5f\"},\"line\":{\"color\":\"rgb(17,17,17)\"}},\"type\":\"table\"}]},\"layout\":{\"annotationdefaults\":{\"arrowcolor\":\"#f2f5fa\",\"arrowhead\":0,\"arrowwidth\":1},\"autotypenumbers\":\"strict\",\"coloraxis\":{\"colorbar\":{\"outlinewidth\":0,\"ticks\":\"\"}},\"colorscale\":{\"diverging\":[[0,\"#8e0152\"],[0.1,\"#c51b7d\"],[0.2,\"#de77ae\"],[0.3,\"#f1b6da\"],[0.4,\"#fde0ef\"],[0.5,\"#f7f7f7\"],[0.6,\"#e6f5d0\"],[0.7,\"#b8e186\"],[0.8,\"#7fbc41\"],[0.9,\"#4d9221\"],[1,\"#276419\"]],\"sequential\":[[0.0,\"#0d0887\"],[0.1111111111111111,\"#46039f\"],[0.2222222222222222,\"#7201a8\"],[0.3333333333333333,\"#9c179e\"],[0.4444444444444444,\"#bd3786\"],[0.5555555555555556,\"#d8576b\"],[0.6666666666666666,\"#ed7953\"],[0.7777777777777778,\"#fb9f3a\"],[0.8888888888888888,\"#fdca26\"],[1.0,\"#f0f921\"]],\"sequentialminus\":[[0.0,\"#0d0887\"],[0.1111111111111111,\"#46039f\"],[0.2222222222222222,\"#7201a8\"],[0.3333333333333333,\"#9c179e\"],[0.4444444444444444,\"#bd3786\"],[0.5555555555555556,\"#d8576b\"],[0.6666666666666666,\"#ed7953\"],[0.7777777777777778,\"#fb9f3a\"],[0.8888888888888888,\"#fdca26\"],[1.0,\"#f0f921\"]]},\"colorway\":[\"#636efa\",\"#EF553B\",\"#00cc96\",\"#ab63fa\",\"#FFA15A\",\"#19d3f3\",\"#FF6692\",\"#B6E880\",\"#FF97FF\",\"#FECB52\"],\"font\":{\"color\":\"#f2f5fa\"},\"geo\":{\"bgcolor\":\"rgb(17,17,17)\",\"lakecolor\":\"rgb(17,17,17)\",\"landcolor\":\"rgb(17,17,17)\",\"showlakes\":true,\"showland\":true,\"subunitcolor\":\"#506784\"},\"hoverlabel\":{\"align\":\"left\"},\"hovermode\":\"closest\",\"mapbox\":{\"style\":\"dark\"},\"paper_bgcolor\":\"rgb(17,17,17)\",\"plot_bgcolor\":\"rgb(17,17,17)\",\"polar\":{\"angularaxis\":{\"gridcolor\":\"#506784\",\"linecolor\":\"#506784\",\"ticks\":\"\"},\"bgcolor\":\"rgb(17,17,17)\",\"radialaxis\":{\"gridcolor\":\"#506784\",\"linecolor\":\"#506784\",\"ticks\":\"\"}},\"scene\":{\"xaxis\":{\"backgroundcolor\":\"rgb(17,17,17)\",\"gridcolor\":\"#506784\",\"gridwidth\":2,\"linecolor\":\"#506784\",\"showbackground\":true,\"ticks\":\"\",\"zerolinecolor\":\"#C8D4E3\"},\"yaxis\":{\"backgroundcolor\":\"rgb(17,17,17)\",\"gridcolor\":\"#506784\",\"gridwidth\":2,\"linecolor\":\"#506784\",\"showbackground\":true,\"ticks\":\"\",\"zerolinecolor\":\"#C8D4E3\"},\"zaxis\":{\"backgroundcolor\":\"rgb(17,17,17)\",\"gridcolor\":\"#506784\",\"gridwidth\":2,\"linecolor\":\"#506784\",\"showbackground\":true,\"ticks\":\"\",\"zerolinecolor\":\"#C8D4E3\"}},\"shapedefaults\":{\"line\":{\"color\":\"#f2f5fa\"}},\"sliderdefaults\":{\"bgcolor\":\"#C8D4E3\",\"bordercolor\":\"rgb(17,17,17)\",\"borderwidth\":1,\"tickwidth\":0},\"ternary\":{\"aaxis\":{\"gridcolor\":\"#506784\",\"linecolor\":\"#506784\",\"ticks\":\"\"},\"baxis\":{\"gridcolor\":\"#506784\",\"linecolor\":\"#506784\",\"ticks\":\"\"},\"bgcolor\":\"rgb(17,17,17)\",\"caxis\":{\"gridcolor\":\"#506784\",\"linecolor\":\"#506784\",\"ticks\":\"\"}},\"title\":{\"x\":0.05},\"updatemenudefaults\":{\"bgcolor\":\"#506784\",\"borderwidth\":0},\"xaxis\":{\"automargin\":true,\"gridcolor\":\"#283442\",\"linecolor\":\"#506784\",\"ticks\":\"\",\"title\":{\"standoff\":15},\"zerolinecolor\":\"#283442\",\"zerolinewidth\":2},\"yaxis\":{\"automargin\":true,\"gridcolor\":\"#283442\",\"linecolor\":\"#506784\",\"ticks\":\"\",\"title\":{\"standoff\":15},\"zerolinecolor\":\"#283442\",\"zerolinewidth\":2}}},\"xaxis\":{\"anchor\":\"y\",\"domain\":[0.0,1.0],\"title\":{\"text\":\"FAVOR OR OPPOSE EXPANDING NUCLEAR PLANT IN THE MIDLANDS OF SC\"},\"categoryorder\":\"total ascending\"},\"yaxis\":{\"anchor\":\"x\",\"domain\":[0.0,1.0],\"title\":{\"text\":\"NUMBER OF RESPONCES\"}},\"legend\":{\"title\":{\"text\":\"FAVOR OR OPPOSE EXPANDING NUCLEAR PLANTS\"},\"tracegroupgap\":0},\"margin\":{\"t\":60},\"barmode\":\"relative\"},                        {\"responsive\": true}                    ).then(function(){\n",
       "                            \n",
       "var gd = document.getElementById('8511278a-25b1-49ea-bd7a-ed96ff750c4d');\n",
       "var x = new MutationObserver(function (mutations, observer) {{\n",
       "        var display = window.getComputedStyle(gd).display;\n",
       "        if (!display || display === 'none') {{\n",
       "            console.log([gd, 'removed!']);\n",
       "            Plotly.purge(gd);\n",
       "            observer.disconnect();\n",
       "        }}\n",
       "}});\n",
       "\n",
       "// Listen for the removal of the full notebook cells\n",
       "var notebookContainer = gd.closest('#notebook-container');\n",
       "if (notebookContainer) {{\n",
       "    x.observe(notebookContainer, {childList: true});\n",
       "}}\n",
       "\n",
       "// Listen for the clearing of the current output cell\n",
       "var outputEl = gd.closest('.output');\n",
       "if (outputEl) {{\n",
       "    x.observe(outputEl, {childList: true});\n",
       "}}\n",
       "\n",
       "                        })                };                });            </script>        </div>"
      ]
     },
     "metadata": {},
     "output_type": "display_data"
    }
   ],
   "source": [
    "# Q10: HOW CONCERNED ABOUT CLIMATE CHANGE\n",
    "# Q13: FAVOR OR OPPOSE EXPANDING NUCLEAR PLANT IN THE MIDLANDS OF SC\n",
    "\n",
    "fig = px.histogram(df_IC, x=\"Q13\", color=\"Q10\", template='plotly_dark').update_xaxes(categoryorder='total ascending').update_layout(\n",
    "xaxis_title=\"FAVOR OR OPPOSE EXPANDING NUCLEAR PLANTS\", yaxis_title=\"NUMBER OF RESPONCES\", legend_title=\"FAVOR OR OPPOSE EXPANDING NUCLEAR PLANT IN THE MIDLANDS OF SC\",\n",
    ")\n",
    "fig.show()"
   ]
  },
  {
   "cell_type": "code",
   "execution_count": 15,
   "id": "5d7d29e6-3024-44e6-aa97-867e139177bf",
   "metadata": {},
   "outputs": [
    {
     "data": {
      "application/vnd.plotly.v1+json": {
       "config": {
        "plotlyServerURL": "https://plot.ly"
       },
       "data": [
        {
         "alignmentgroup": "True",
         "bingroup": "x",
         "hovertemplate": "Q13=SOMEWHAT FAVOR<br>D2=%{x}<br>count=%{y}<extra></extra>",
         "legendgroup": "SOMEWHAT FAVOR",
         "marker": {
          "color": "#636efa",
          "pattern": {
           "shape": ""
          }
         },
         "name": "SOMEWHAT FAVOR",
         "offsetgroup": "SOMEWHAT FAVOR",
         "orientation": "v",
         "showlegend": true,
         "type": "histogram",
         "x": [
          66,
          46,
          36,
          61,
          34,
          65,
          51,
          83,
          59,
          84,
          77,
          57,
          56,
          44,
          79,
          78,
          46,
          39,
          56,
          43,
          25,
          58,
          23,
          74,
          50,
          68,
          39,
          51,
          54,
          40,
          59,
          59,
          25,
          67,
          46,
          33,
          51,
          53,
          48,
          19,
          66,
          65,
          34,
          35,
          64,
          62,
          62,
          38,
          65,
          32,
          60,
          44,
          73,
          37,
          22,
          39,
          44,
          22,
          41,
          73,
          43,
          63,
          "REFUSED",
          72,
          52,
          75,
          45,
          46,
          26,
          "REFUSED",
          81,
          25,
          60,
          62,
          21,
          48,
          47,
          53,
          50,
          68,
          38,
          54,
          60,
          56,
          38,
          35,
          35,
          53,
          36,
          51,
          61,
          18,
          50,
          88,
          54,
          76,
          53,
          35,
          66,
          26,
          37,
          71,
          55,
          62,
          29,
          70,
          26,
          74,
          47,
          76,
          46,
          "REFUSED",
          89,
          68,
          70,
          39,
          47,
          89,
          28,
          44,
          72,
          76,
          57,
          63,
          57,
          44,
          45,
          45,
          66,
          53,
          50,
          34,
          46,
          35,
          67,
          54,
          71,
          53,
          46,
          39,
          53,
          40,
          38,
          29,
          50,
          31,
          57,
          80,
          37,
          73,
          46,
          80,
          "REFUSED",
          62,
          49,
          74,
          47,
          67,
          55,
          86,
          78,
          63,
          53,
          28,
          90,
          70,
          79,
          76,
          69,
          77,
          52,
          46,
          45,
          57,
          38,
          28,
          64,
          53,
          83,
          45,
          46,
          62,
          72,
          60,
          76,
          46,
          38,
          77,
          83,
          61,
          56,
          77,
          54,
          73,
          69,
          62,
          50,
          51,
          60,
          30,
          40,
          60,
          54,
          75,
          59,
          60,
          83,
          39,
          82,
          56,
          77,
          60,
          52,
          55,
          54,
          71,
          27,
          67,
          57,
          83,
          42,
          63,
          33,
          36,
          25,
          71,
          33,
          75,
          33,
          56,
          58,
          50,
          29,
          61,
          48,
          53
         ],
         "xaxis": "x",
         "yaxis": "y"
        },
        {
         "alignmentgroup": "True",
         "bingroup": "x",
         "hovertemplate": "Q13=SOMEWHAT OPPOSE<br>D2=%{x}<br>count=%{y}<extra></extra>",
         "legendgroup": "SOMEWHAT OPPOSE",
         "marker": {
          "color": "#EF553B",
          "pattern": {
           "shape": ""
          }
         },
         "name": "SOMEWHAT OPPOSE",
         "offsetgroup": "SOMEWHAT OPPOSE",
         "orientation": "v",
         "showlegend": true,
         "type": "histogram",
         "x": [
          49,
          32,
          36,
          42,
          59,
          37,
          55,
          33,
          54,
          49,
          52,
          60,
          65,
          30,
          33,
          43,
          58,
          34,
          36,
          62,
          32,
          60,
          46,
          35,
          88,
          33,
          35,
          43,
          52,
          32,
          69,
          53,
          83,
          52,
          61,
          32,
          60,
          60,
          65,
          47,
          52,
          61,
          60,
          67,
          45,
          34,
          22,
          60,
          55,
          28,
          33,
          34,
          45,
          50,
          39,
          48,
          65,
          63,
          72,
          75,
          87,
          74,
          81,
          27,
          71,
          44,
          89,
          54,
          74,
          61,
          32,
          52,
          20,
          52,
          73,
          89,
          50,
          21,
          28,
          48,
          82,
          "REFUSED",
          51,
          38,
          42,
          71,
          75,
          63,
          46,
          "REFUSED",
          79,
          25,
          85,
          40,
          58,
          65,
          "REFUSED",
          51,
          55,
          49,
          85,
          54,
          37,
          61,
          55,
          51,
          53,
          60,
          28,
          69,
          56,
          73,
          58,
          74,
          19,
          70
         ],
         "xaxis": "x",
         "yaxis": "y"
        },
        {
         "alignmentgroup": "True",
         "bingroup": "x",
         "hovertemplate": "Q13=STRONGLY FAVOR<br>D2=%{x}<br>count=%{y}<extra></extra>",
         "legendgroup": "STRONGLY FAVOR",
         "marker": {
          "color": "#00cc96",
          "pattern": {
           "shape": ""
          }
         },
         "name": "STRONGLY FAVOR",
         "offsetgroup": "STRONGLY FAVOR",
         "orientation": "v",
         "showlegend": true,
         "type": "histogram",
         "x": [
          47,
          41,
          32,
          63,
          59,
          81,
          63,
          52,
          36,
          50,
          46,
          60,
          65,
          73,
          71,
          73,
          55,
          44,
          67,
          44,
          60,
          20,
          "REFUSED",
          53,
          50,
          77,
          "REFUSED",
          34,
          50,
          44,
          70,
          72,
          46,
          70,
          58,
          37,
          29,
          53,
          51,
          42,
          55,
          35,
          53,
          64,
          66,
          66,
          45,
          64,
          "REFUSED",
          23,
          68,
          34,
          67,
          54,
          44,
          42,
          48,
          81,
          62,
          71,
          70,
          59,
          50,
          71,
          36,
          70,
          55,
          47,
          51,
          82,
          50,
          33,
          75,
          63,
          71,
          67,
          62,
          78,
          75,
          73,
          74,
          76,
          84,
          58,
          73,
          53,
          54,
          47,
          66,
          58,
          55,
          20,
          50,
          72,
          30,
          78,
          74,
          79,
          56,
          71,
          58,
          30,
          63,
          60,
          50,
          43,
          63,
          37,
          50,
          65,
          66,
          65,
          52,
          42,
          "REFUSED",
          45,
          39,
          51,
          48,
          47,
          82,
          "REFUSED",
          51,
          85,
          65,
          39,
          43,
          41,
          58,
          44,
          66,
          66,
          67,
          71,
          47,
          35,
          64,
          48,
          75,
          41,
          69,
          50,
          59,
          27,
          62,
          75,
          56,
          46,
          24,
          65,
          60,
          77,
          64,
          81,
          52,
          51,
          64,
          56,
          24,
          52,
          42,
          70,
          51,
          60,
          62,
          43,
          60,
          62,
          52,
          59,
          81,
          48,
          55,
          58,
          38,
          53
         ],
         "xaxis": "x",
         "yaxis": "y"
        },
        {
         "alignmentgroup": "True",
         "bingroup": "x",
         "hovertemplate": "Q13=DO NOT KNOW<br>D2=%{x}<br>count=%{y}<extra></extra>",
         "legendgroup": "DO NOT KNOW",
         "marker": {
          "color": "#ab63fa",
          "pattern": {
           "shape": ""
          }
         },
         "name": "DO NOT KNOW",
         "offsetgroup": "DO NOT KNOW",
         "orientation": "v",
         "showlegend": true,
         "type": "histogram",
         "x": [
          46,
          47,
          70,
          65,
          45,
          "REFUSED",
          56,
          47,
          88,
          68,
          78,
          80,
          39,
          70,
          29,
          60,
          59
         ],
         "xaxis": "x",
         "yaxis": "y"
        },
        {
         "alignmentgroup": "True",
         "bingroup": "x",
         "hovertemplate": "Q13=STRONGLY OPPOSE<br>D2=%{x}<br>count=%{y}<extra></extra>",
         "legendgroup": "STRONGLY OPPOSE",
         "marker": {
          "color": "#FFA15A",
          "pattern": {
           "shape": ""
          }
         },
         "name": "STRONGLY OPPOSE",
         "offsetgroup": "STRONGLY OPPOSE",
         "orientation": "v",
         "showlegend": true,
         "type": "histogram",
         "x": [
          46,
          55,
          62,
          57,
          60,
          64,
          31,
          38,
          77,
          60,
          48,
          23,
          40,
          36,
          31,
          37,
          46,
          63,
          47,
          71,
          41,
          49,
          60,
          40,
          35,
          60,
          60,
          53,
          68,
          39,
          29,
          64,
          39,
          58,
          72,
          38,
          50,
          59,
          60,
          50,
          52,
          45,
          35,
          57,
          52,
          82,
          62,
          54,
          43,
          64,
          61,
          26,
          25,
          44,
          43,
          42,
          51,
          50,
          38,
          59,
          61
         ],
         "xaxis": "x",
         "yaxis": "y"
        }
       ],
       "layout": {
        "autosize": true,
        "barmode": "relative",
        "legend": {
         "title": {
          "text": "FAVOR OR OPPOSE EXPANDING NUCLEAR PLANTS"
         },
         "tracegroupgap": 0
        },
        "margin": {
         "t": 60
        },
        "template": {
         "data": {
          "bar": [
           {
            "error_x": {
             "color": "#f2f5fa"
            },
            "error_y": {
             "color": "#f2f5fa"
            },
            "marker": {
             "line": {
              "color": "rgb(17,17,17)",
              "width": 0.5
             },
             "pattern": {
              "fillmode": "overlay",
              "size": 10,
              "solidity": 0.2
             }
            },
            "type": "bar"
           }
          ],
          "barpolar": [
           {
            "marker": {
             "line": {
              "color": "rgb(17,17,17)",
              "width": 0.5
             },
             "pattern": {
              "fillmode": "overlay",
              "size": 10,
              "solidity": 0.2
             }
            },
            "type": "barpolar"
           }
          ],
          "carpet": [
           {
            "aaxis": {
             "endlinecolor": "#A2B1C6",
             "gridcolor": "#506784",
             "linecolor": "#506784",
             "minorgridcolor": "#506784",
             "startlinecolor": "#A2B1C6"
            },
            "baxis": {
             "endlinecolor": "#A2B1C6",
             "gridcolor": "#506784",
             "linecolor": "#506784",
             "minorgridcolor": "#506784",
             "startlinecolor": "#A2B1C6"
            },
            "type": "carpet"
           }
          ],
          "choropleth": [
           {
            "colorbar": {
             "outlinewidth": 0,
             "ticks": ""
            },
            "type": "choropleth"
           }
          ],
          "contour": [
           {
            "colorbar": {
             "outlinewidth": 0,
             "ticks": ""
            },
            "colorscale": [
             [
              0,
              "#0d0887"
             ],
             [
              0.1111111111111111,
              "#46039f"
             ],
             [
              0.2222222222222222,
              "#7201a8"
             ],
             [
              0.3333333333333333,
              "#9c179e"
             ],
             [
              0.4444444444444444,
              "#bd3786"
             ],
             [
              0.5555555555555556,
              "#d8576b"
             ],
             [
              0.6666666666666666,
              "#ed7953"
             ],
             [
              0.7777777777777778,
              "#fb9f3a"
             ],
             [
              0.8888888888888888,
              "#fdca26"
             ],
             [
              1,
              "#f0f921"
             ]
            ],
            "type": "contour"
           }
          ],
          "contourcarpet": [
           {
            "colorbar": {
             "outlinewidth": 0,
             "ticks": ""
            },
            "type": "contourcarpet"
           }
          ],
          "heatmap": [
           {
            "colorbar": {
             "outlinewidth": 0,
             "ticks": ""
            },
            "colorscale": [
             [
              0,
              "#0d0887"
             ],
             [
              0.1111111111111111,
              "#46039f"
             ],
             [
              0.2222222222222222,
              "#7201a8"
             ],
             [
              0.3333333333333333,
              "#9c179e"
             ],
             [
              0.4444444444444444,
              "#bd3786"
             ],
             [
              0.5555555555555556,
              "#d8576b"
             ],
             [
              0.6666666666666666,
              "#ed7953"
             ],
             [
              0.7777777777777778,
              "#fb9f3a"
             ],
             [
              0.8888888888888888,
              "#fdca26"
             ],
             [
              1,
              "#f0f921"
             ]
            ],
            "type": "heatmap"
           }
          ],
          "heatmapgl": [
           {
            "colorbar": {
             "outlinewidth": 0,
             "ticks": ""
            },
            "colorscale": [
             [
              0,
              "#0d0887"
             ],
             [
              0.1111111111111111,
              "#46039f"
             ],
             [
              0.2222222222222222,
              "#7201a8"
             ],
             [
              0.3333333333333333,
              "#9c179e"
             ],
             [
              0.4444444444444444,
              "#bd3786"
             ],
             [
              0.5555555555555556,
              "#d8576b"
             ],
             [
              0.6666666666666666,
              "#ed7953"
             ],
             [
              0.7777777777777778,
              "#fb9f3a"
             ],
             [
              0.8888888888888888,
              "#fdca26"
             ],
             [
              1,
              "#f0f921"
             ]
            ],
            "type": "heatmapgl"
           }
          ],
          "histogram": [
           {
            "marker": {
             "pattern": {
              "fillmode": "overlay",
              "size": 10,
              "solidity": 0.2
             }
            },
            "type": "histogram"
           }
          ],
          "histogram2d": [
           {
            "colorbar": {
             "outlinewidth": 0,
             "ticks": ""
            },
            "colorscale": [
             [
              0,
              "#0d0887"
             ],
             [
              0.1111111111111111,
              "#46039f"
             ],
             [
              0.2222222222222222,
              "#7201a8"
             ],
             [
              0.3333333333333333,
              "#9c179e"
             ],
             [
              0.4444444444444444,
              "#bd3786"
             ],
             [
              0.5555555555555556,
              "#d8576b"
             ],
             [
              0.6666666666666666,
              "#ed7953"
             ],
             [
              0.7777777777777778,
              "#fb9f3a"
             ],
             [
              0.8888888888888888,
              "#fdca26"
             ],
             [
              1,
              "#f0f921"
             ]
            ],
            "type": "histogram2d"
           }
          ],
          "histogram2dcontour": [
           {
            "colorbar": {
             "outlinewidth": 0,
             "ticks": ""
            },
            "colorscale": [
             [
              0,
              "#0d0887"
             ],
             [
              0.1111111111111111,
              "#46039f"
             ],
             [
              0.2222222222222222,
              "#7201a8"
             ],
             [
              0.3333333333333333,
              "#9c179e"
             ],
             [
              0.4444444444444444,
              "#bd3786"
             ],
             [
              0.5555555555555556,
              "#d8576b"
             ],
             [
              0.6666666666666666,
              "#ed7953"
             ],
             [
              0.7777777777777778,
              "#fb9f3a"
             ],
             [
              0.8888888888888888,
              "#fdca26"
             ],
             [
              1,
              "#f0f921"
             ]
            ],
            "type": "histogram2dcontour"
           }
          ],
          "mesh3d": [
           {
            "colorbar": {
             "outlinewidth": 0,
             "ticks": ""
            },
            "type": "mesh3d"
           }
          ],
          "parcoords": [
           {
            "line": {
             "colorbar": {
              "outlinewidth": 0,
              "ticks": ""
             }
            },
            "type": "parcoords"
           }
          ],
          "pie": [
           {
            "automargin": true,
            "type": "pie"
           }
          ],
          "scatter": [
           {
            "marker": {
             "line": {
              "color": "#283442"
             }
            },
            "type": "scatter"
           }
          ],
          "scatter3d": [
           {
            "line": {
             "colorbar": {
              "outlinewidth": 0,
              "ticks": ""
             }
            },
            "marker": {
             "colorbar": {
              "outlinewidth": 0,
              "ticks": ""
             }
            },
            "type": "scatter3d"
           }
          ],
          "scattercarpet": [
           {
            "marker": {
             "colorbar": {
              "outlinewidth": 0,
              "ticks": ""
             }
            },
            "type": "scattercarpet"
           }
          ],
          "scattergeo": [
           {
            "marker": {
             "colorbar": {
              "outlinewidth": 0,
              "ticks": ""
             }
            },
            "type": "scattergeo"
           }
          ],
          "scattergl": [
           {
            "marker": {
             "line": {
              "color": "#283442"
             }
            },
            "type": "scattergl"
           }
          ],
          "scattermapbox": [
           {
            "marker": {
             "colorbar": {
              "outlinewidth": 0,
              "ticks": ""
             }
            },
            "type": "scattermapbox"
           }
          ],
          "scatterpolar": [
           {
            "marker": {
             "colorbar": {
              "outlinewidth": 0,
              "ticks": ""
             }
            },
            "type": "scatterpolar"
           }
          ],
          "scatterpolargl": [
           {
            "marker": {
             "colorbar": {
              "outlinewidth": 0,
              "ticks": ""
             }
            },
            "type": "scatterpolargl"
           }
          ],
          "scatterternary": [
           {
            "marker": {
             "colorbar": {
              "outlinewidth": 0,
              "ticks": ""
             }
            },
            "type": "scatterternary"
           }
          ],
          "surface": [
           {
            "colorbar": {
             "outlinewidth": 0,
             "ticks": ""
            },
            "colorscale": [
             [
              0,
              "#0d0887"
             ],
             [
              0.1111111111111111,
              "#46039f"
             ],
             [
              0.2222222222222222,
              "#7201a8"
             ],
             [
              0.3333333333333333,
              "#9c179e"
             ],
             [
              0.4444444444444444,
              "#bd3786"
             ],
             [
              0.5555555555555556,
              "#d8576b"
             ],
             [
              0.6666666666666666,
              "#ed7953"
             ],
             [
              0.7777777777777778,
              "#fb9f3a"
             ],
             [
              0.8888888888888888,
              "#fdca26"
             ],
             [
              1,
              "#f0f921"
             ]
            ],
            "type": "surface"
           }
          ],
          "table": [
           {
            "cells": {
             "fill": {
              "color": "#506784"
             },
             "line": {
              "color": "rgb(17,17,17)"
             }
            },
            "header": {
             "fill": {
              "color": "#2a3f5f"
             },
             "line": {
              "color": "rgb(17,17,17)"
             }
            },
            "type": "table"
           }
          ]
         },
         "layout": {
          "annotationdefaults": {
           "arrowcolor": "#f2f5fa",
           "arrowhead": 0,
           "arrowwidth": 1
          },
          "autotypenumbers": "strict",
          "coloraxis": {
           "colorbar": {
            "outlinewidth": 0,
            "ticks": ""
           }
          },
          "colorscale": {
           "diverging": [
            [
             0,
             "#8e0152"
            ],
            [
             0.1,
             "#c51b7d"
            ],
            [
             0.2,
             "#de77ae"
            ],
            [
             0.3,
             "#f1b6da"
            ],
            [
             0.4,
             "#fde0ef"
            ],
            [
             0.5,
             "#f7f7f7"
            ],
            [
             0.6,
             "#e6f5d0"
            ],
            [
             0.7,
             "#b8e186"
            ],
            [
             0.8,
             "#7fbc41"
            ],
            [
             0.9,
             "#4d9221"
            ],
            [
             1,
             "#276419"
            ]
           ],
           "sequential": [
            [
             0,
             "#0d0887"
            ],
            [
             0.1111111111111111,
             "#46039f"
            ],
            [
             0.2222222222222222,
             "#7201a8"
            ],
            [
             0.3333333333333333,
             "#9c179e"
            ],
            [
             0.4444444444444444,
             "#bd3786"
            ],
            [
             0.5555555555555556,
             "#d8576b"
            ],
            [
             0.6666666666666666,
             "#ed7953"
            ],
            [
             0.7777777777777778,
             "#fb9f3a"
            ],
            [
             0.8888888888888888,
             "#fdca26"
            ],
            [
             1,
             "#f0f921"
            ]
           ],
           "sequentialminus": [
            [
             0,
             "#0d0887"
            ],
            [
             0.1111111111111111,
             "#46039f"
            ],
            [
             0.2222222222222222,
             "#7201a8"
            ],
            [
             0.3333333333333333,
             "#9c179e"
            ],
            [
             0.4444444444444444,
             "#bd3786"
            ],
            [
             0.5555555555555556,
             "#d8576b"
            ],
            [
             0.6666666666666666,
             "#ed7953"
            ],
            [
             0.7777777777777778,
             "#fb9f3a"
            ],
            [
             0.8888888888888888,
             "#fdca26"
            ],
            [
             1,
             "#f0f921"
            ]
           ]
          },
          "colorway": [
           "#636efa",
           "#EF553B",
           "#00cc96",
           "#ab63fa",
           "#FFA15A",
           "#19d3f3",
           "#FF6692",
           "#B6E880",
           "#FF97FF",
           "#FECB52"
          ],
          "font": {
           "color": "#f2f5fa"
          },
          "geo": {
           "bgcolor": "rgb(17,17,17)",
           "lakecolor": "rgb(17,17,17)",
           "landcolor": "rgb(17,17,17)",
           "showlakes": true,
           "showland": true,
           "subunitcolor": "#506784"
          },
          "hoverlabel": {
           "align": "left"
          },
          "hovermode": "closest",
          "mapbox": {
           "style": "dark"
          },
          "paper_bgcolor": "rgb(17,17,17)",
          "plot_bgcolor": "rgb(17,17,17)",
          "polar": {
           "angularaxis": {
            "gridcolor": "#506784",
            "linecolor": "#506784",
            "ticks": ""
           },
           "bgcolor": "rgb(17,17,17)",
           "radialaxis": {
            "gridcolor": "#506784",
            "linecolor": "#506784",
            "ticks": ""
           }
          },
          "scene": {
           "xaxis": {
            "backgroundcolor": "rgb(17,17,17)",
            "gridcolor": "#506784",
            "gridwidth": 2,
            "linecolor": "#506784",
            "showbackground": true,
            "ticks": "",
            "zerolinecolor": "#C8D4E3"
           },
           "yaxis": {
            "backgroundcolor": "rgb(17,17,17)",
            "gridcolor": "#506784",
            "gridwidth": 2,
            "linecolor": "#506784",
            "showbackground": true,
            "ticks": "",
            "zerolinecolor": "#C8D4E3"
           },
           "zaxis": {
            "backgroundcolor": "rgb(17,17,17)",
            "gridcolor": "#506784",
            "gridwidth": 2,
            "linecolor": "#506784",
            "showbackground": true,
            "ticks": "",
            "zerolinecolor": "#C8D4E3"
           }
          },
          "shapedefaults": {
           "line": {
            "color": "#f2f5fa"
           }
          },
          "sliderdefaults": {
           "bgcolor": "#C8D4E3",
           "bordercolor": "rgb(17,17,17)",
           "borderwidth": 1,
           "tickwidth": 0
          },
          "ternary": {
           "aaxis": {
            "gridcolor": "#506784",
            "linecolor": "#506784",
            "ticks": ""
           },
           "baxis": {
            "gridcolor": "#506784",
            "linecolor": "#506784",
            "ticks": ""
           },
           "bgcolor": "rgb(17,17,17)",
           "caxis": {
            "gridcolor": "#506784",
            "linecolor": "#506784",
            "ticks": ""
           }
          },
          "title": {
           "x": 0.05
          },
          "updatemenudefaults": {
           "bgcolor": "#506784",
           "borderwidth": 0
          },
          "xaxis": {
           "automargin": true,
           "gridcolor": "#283442",
           "linecolor": "#506784",
           "ticks": "",
           "title": {
            "standoff": 15
           },
           "zerolinecolor": "#283442",
           "zerolinewidth": 2
          },
          "yaxis": {
           "automargin": true,
           "gridcolor": "#283442",
           "linecolor": "#506784",
           "ticks": "",
           "title": {
            "standoff": 15
           },
           "zerolinecolor": "#283442",
           "zerolinewidth": 2
          }
         }
        },
        "xaxis": {
         "anchor": "y",
         "autorange": true,
         "categoryorder": "total ascending",
         "domain": [
          0,
          1
         ],
         "range": [
          14.5,
          94.5
         ],
         "title": {
          "text": "D2: AGE OF RESPONDENT"
         },
         "type": "linear"
        },
        "yaxis": {
         "anchor": "x",
         "autorange": true,
         "domain": [
          0,
          1
         ],
         "range": [
          0,
          87.36842105263158
         ],
         "title": {
          "text": "NUMBER OF RESPONCES"
         }
        }
       }
      },
      "image/png": "[encoded data removed]",
      "text/html": [
       "<div>                            <div id=\"f7db8ca6-65ad-4033-b420-b569325f2ece\" class=\"plotly-graph-div\" style=\"height:525px; width:100%;\"></div>            <script type=\"text/javascript\">                require([\"plotly\"], function(Plotly) {                    window.PLOTLYENV=window.PLOTLYENV || {};                                    if (document.getElementById(\"f7db8ca6-65ad-4033-b420-b569325f2ece\")) {                    Plotly.newPlot(                        \"f7db8ca6-65ad-4033-b420-b569325f2ece\",                        [{\"alignmentgroup\":\"True\",\"bingroup\":\"x\",\"hovertemplate\":\"Q13=SOMEWHAT FAVOR<br>D2=%{x}<br>count=%{y}<extra></extra>\",\"legendgroup\":\"SOMEWHAT FAVOR\",\"marker\":{\"color\":\"#636efa\",\"pattern\":{\"shape\":\"\"}},\"name\":\"SOMEWHAT FAVOR\",\"offsetgroup\":\"SOMEWHAT FAVOR\",\"orientation\":\"v\",\"showlegend\":true,\"x\":[66.0,46.0,36.0,61.0,34.0,65.0,51.0,83.0,59.0,84.0,77.0,57.0,56.0,44.0,79.0,78.0,46.0,39.0,56.0,43.0,25.0,58.0,23.0,74.0,50.0,68.0,39.0,51.0,54.0,40.0,59.0,59.0,25.0,67.0,46.0,33.0,51.0,53.0,48.0,19.0,66.0,65.0,34.0,35.0,64.0,62.0,62.0,38.0,65.0,32.0,60.0,44.0,73.0,37.0,22.0,39.0,44.0,22.0,41.0,73.0,43.0,63.0,\"REFUSED\",72.0,52.0,75.0,45.0,46.0,26.0,\"REFUSED\",81.0,25.0,60.0,62.0,21.0,48.0,47.0,53.0,50.0,68.0,38.0,54.0,60.0,56.0,38.0,35.0,35.0,53.0,36.0,51.0,61.0,18.0,50.0,88.0,54.0,76.0,53.0,35.0,66.0,26.0,37.0,71.0,55.0,62.0,29.0,70.0,26.0,74.0,47.0,76.0,46.0,\"REFUSED\",89.0,68.0,70.0,39.0,47.0,89.0,28.0,44.0,72.0,76.0,57.0,63.0,57.0,44.0,45.0,45.0,66.0,53.0,50.0,34.0,46.0,35.0,67.0,54.0,71.0,53.0,46.0,39.0,53.0,40.0,38.0,29.0,50.0,31.0,57.0,80.0,37.0,73.0,46.0,80.0,\"REFUSED\",62.0,49.0,74.0,47.0,67.0,55.0,86.0,78.0,63.0,53.0,28.0,90.0,70.0,79.0,76.0,69.0,77.0,52.0,46.0,45.0,57.0,38.0,28.0,64.0,53.0,83.0,45.0,46.0,62.0,72.0,60.0,76.0,46.0,38.0,77.0,83.0,61.0,56.0,77.0,54.0,73.0,69.0,62.0,50.0,51.0,60.0,30.0,40.0,60.0,54.0,75.0,59.0,60.0,83.0,39.0,82.0,56.0,77.0,60.0,52.0,55.0,54.0,71.0,27.0,67.0,57.0,83.0,42.0,63.0,33.0,36.0,25.0,71.0,33.0,75.0,33.0,56.0,58.0,50.0,29.0,61.0,48.0,53.0],\"xaxis\":\"x\",\"yaxis\":\"y\",\"type\":\"histogram\"},{\"alignmentgroup\":\"True\",\"bingroup\":\"x\",\"hovertemplate\":\"Q13=SOMEWHAT OPPOSE<br>D2=%{x}<br>count=%{y}<extra></extra>\",\"legendgroup\":\"SOMEWHAT OPPOSE\",\"marker\":{\"color\":\"#EF553B\",\"pattern\":{\"shape\":\"\"}},\"name\":\"SOMEWHAT OPPOSE\",\"offsetgroup\":\"SOMEWHAT OPPOSE\",\"orientation\":\"v\",\"showlegend\":true,\"x\":[49.0,32.0,36.0,42.0,59.0,37.0,55.0,33.0,54.0,49.0,52.0,60.0,65.0,30.0,33.0,43.0,58.0,34.0,36.0,62.0,32.0,60.0,46.0,35.0,88.0,33.0,35.0,43.0,52.0,32.0,69.0,53.0,83.0,52.0,61.0,32.0,60.0,60.0,65.0,47.0,52.0,61.0,60.0,67.0,45.0,34.0,22.0,60.0,55.0,28.0,33.0,34.0,45.0,50.0,39.0,48.0,65.0,63.0,72.0,75.0,87.0,74.0,81.0,27.0,71.0,44.0,89.0,54.0,74.0,61.0,32.0,52.0,20.0,52.0,73.0,89.0,50.0,21.0,28.0,48.0,82.0,\"REFUSED\",51.0,38.0,42.0,71.0,75.0,63.0,46.0,\"REFUSED\",79.0,25.0,85.0,40.0,58.0,65.0,\"REFUSED\",51.0,55.0,49.0,85.0,54.0,37.0,61.0,55.0,51.0,53.0,60.0,28.0,69.0,56.0,73.0,58.0,74.0,19.0,70.0],\"xaxis\":\"x\",\"yaxis\":\"y\",\"type\":\"histogram\"},{\"alignmentgroup\":\"True\",\"bingroup\":\"x\",\"hovertemplate\":\"Q13=STRONGLY FAVOR<br>D2=%{x}<br>count=%{y}<extra></extra>\",\"legendgroup\":\"STRONGLY FAVOR\",\"marker\":{\"color\":\"#00cc96\",\"pattern\":{\"shape\":\"\"}},\"name\":\"STRONGLY FAVOR\",\"offsetgroup\":\"STRONGLY FAVOR\",\"orientation\":\"v\",\"showlegend\":true,\"x\":[47.0,41.0,32.0,63.0,59.0,81.0,63.0,52.0,36.0,50.0,46.0,60.0,65.0,73.0,71.0,73.0,55.0,44.0,67.0,44.0,60.0,20.0,\"REFUSED\",53.0,50.0,77.0,\"REFUSED\",34.0,50.0,44.0,70.0,72.0,46.0,70.0,58.0,37.0,29.0,53.0,51.0,42.0,55.0,35.0,53.0,64.0,66.0,66.0,45.0,64.0,\"REFUSED\",23.0,68.0,34.0,67.0,54.0,44.0,42.0,48.0,81.0,62.0,71.0,70.0,59.0,50.0,71.0,36.0,70.0,55.0,47.0,51.0,82.0,50.0,33.0,75.0,63.0,71.0,67.0,62.0,78.0,75.0,73.0,74.0,76.0,84.0,58.0,73.0,53.0,54.0,47.0,66.0,58.0,55.0,20.0,50.0,72.0,30.0,78.0,74.0,79.0,56.0,71.0,58.0,30.0,63.0,60.0,50.0,43.0,63.0,37.0,50.0,65.0,66.0,65.0,52.0,42.0,\"REFUSED\",45.0,39.0,51.0,48.0,47.0,82.0,\"REFUSED\",51.0,85.0,65.0,39.0,43.0,41.0,58.0,44.0,66.0,66.0,67.0,71.0,47.0,35.0,64.0,48.0,75.0,41.0,69.0,50.0,59.0,27.0,62.0,75.0,56.0,46.0,24.0,65.0,60.0,77.0,64.0,81.0,52.0,51.0,64.0,56.0,24.0,52.0,42.0,70.0,51.0,60.0,62.0,43.0,60.0,62.0,52.0,59.0,81.0,48.0,55.0,58.0,38.0,53.0],\"xaxis\":\"x\",\"yaxis\":\"y\",\"type\":\"histogram\"},{\"alignmentgroup\":\"True\",\"bingroup\":\"x\",\"hovertemplate\":\"Q13=DO NOT KNOW<br>D2=%{x}<br>count=%{y}<extra></extra>\",\"legendgroup\":\"DO NOT KNOW\",\"marker\":{\"color\":\"#ab63fa\",\"pattern\":{\"shape\":\"\"}},\"name\":\"DO NOT KNOW\",\"offsetgroup\":\"DO NOT KNOW\",\"orientation\":\"v\",\"showlegend\":true,\"x\":[46.0,47.0,70.0,65.0,45.0,\"REFUSED\",56.0,47.0,88.0,68.0,78.0,80.0,39.0,70.0,29.0,60.0,59.0],\"xaxis\":\"x\",\"yaxis\":\"y\",\"type\":\"histogram\"},{\"alignmentgroup\":\"True\",\"bingroup\":\"x\",\"hovertemplate\":\"Q13=STRONGLY OPPOSE<br>D2=%{x}<br>count=%{y}<extra></extra>\",\"legendgroup\":\"STRONGLY OPPOSE\",\"marker\":{\"color\":\"#FFA15A\",\"pattern\":{\"shape\":\"\"}},\"name\":\"STRONGLY OPPOSE\",\"offsetgroup\":\"STRONGLY OPPOSE\",\"orientation\":\"v\",\"showlegend\":true,\"x\":[46.0,55.0,62.0,57.0,60.0,64.0,31.0,38.0,77.0,60.0,48.0,23.0,40.0,36.0,31.0,37.0,46.0,63.0,47.0,71.0,41.0,49.0,60.0,40.0,35.0,60.0,60.0,53.0,68.0,39.0,29.0,64.0,39.0,58.0,72.0,38.0,50.0,59.0,60.0,50.0,52.0,45.0,35.0,57.0,52.0,82.0,62.0,54.0,43.0,64.0,61.0,26.0,25.0,44.0,43.0,42.0,51.0,50.0,38.0,59.0,61.0],\"xaxis\":\"x\",\"yaxis\":\"y\",\"type\":\"histogram\"}],                        {\"template\":{\"data\":{\"barpolar\":[{\"marker\":{\"line\":{\"color\":\"rgb(17,17,17)\",\"width\":0.5},\"pattern\":{\"fillmode\":\"overlay\",\"size\":10,\"solidity\":0.2}},\"type\":\"barpolar\"}],\"bar\":[{\"error_x\":{\"color\":\"#f2f5fa\"},\"error_y\":{\"color\":\"#f2f5fa\"},\"marker\":{\"line\":{\"color\":\"rgb(17,17,17)\",\"width\":0.5},\"pattern\":{\"fillmode\":\"overlay\",\"size\":10,\"solidity\":0.2}},\"type\":\"bar\"}],\"carpet\":[{\"aaxis\":{\"endlinecolor\":\"#A2B1C6\",\"gridcolor\":\"#506784\",\"linecolor\":\"#506784\",\"minorgridcolor\":\"#506784\",\"startlinecolor\":\"#A2B1C6\"},\"baxis\":{\"endlinecolor\":\"#A2B1C6\",\"gridcolor\":\"#506784\",\"linecolor\":\"#506784\",\"minorgridcolor\":\"#506784\",\"startlinecolor\":\"#A2B1C6\"},\"type\":\"carpet\"}],\"choropleth\":[{\"colorbar\":{\"outlinewidth\":0,\"ticks\":\"\"},\"type\":\"choropleth\"}],\"contourcarpet\":[{\"colorbar\":{\"outlinewidth\":0,\"ticks\":\"\"},\"type\":\"contourcarpet\"}],\"contour\":[{\"colorbar\":{\"outlinewidth\":0,\"ticks\":\"\"},\"colorscale\":[[0.0,\"#0d0887\"],[0.1111111111111111,\"#46039f\"],[0.2222222222222222,\"#7201a8\"],[0.3333333333333333,\"#9c179e\"],[0.4444444444444444,\"#bd3786\"],[0.5555555555555556,\"#d8576b\"],[0.6666666666666666,\"#ed7953\"],[0.7777777777777778,\"#fb9f3a\"],[0.8888888888888888,\"#fdca26\"],[1.0,\"#f0f921\"]],\"type\":\"contour\"}],\"heatmapgl\":[{\"colorbar\":{\"outlinewidth\":0,\"ticks\":\"\"},\"colorscale\":[[0.0,\"#0d0887\"],[0.1111111111111111,\"#46039f\"],[0.2222222222222222,\"#7201a8\"],[0.3333333333333333,\"#9c179e\"],[0.4444444444444444,\"#bd3786\"],[0.5555555555555556,\"#d8576b\"],[0.6666666666666666,\"#ed7953\"],[0.7777777777777778,\"#fb9f3a\"],[0.8888888888888888,\"#fdca26\"],[1.0,\"#f0f921\"]],\"type\":\"heatmapgl\"}],\"heatmap\":[{\"colorbar\":{\"outlinewidth\":0,\"ticks\":\"\"},\"colorscale\":[[0.0,\"#0d0887\"],[0.1111111111111111,\"#46039f\"],[0.2222222222222222,\"#7201a8\"],[0.3333333333333333,\"#9c179e\"],[0.4444444444444444,\"#bd3786\"],[0.5555555555555556,\"#d8576b\"],[0.6666666666666666,\"#ed7953\"],[0.7777777777777778,\"#fb9f3a\"],[0.8888888888888888,\"#fdca26\"],[1.0,\"#f0f921\"]],\"type\":\"heatmap\"}],\"histogram2dcontour\":[{\"colorbar\":{\"outlinewidth\":0,\"ticks\":\"\"},\"colorscale\":[[0.0,\"#0d0887\"],[0.1111111111111111,\"#46039f\"],[0.2222222222222222,\"#7201a8\"],[0.3333333333333333,\"#9c179e\"],[0.4444444444444444,\"#bd3786\"],[0.5555555555555556,\"#d8576b\"],[0.6666666666666666,\"#ed7953\"],[0.7777777777777778,\"#fb9f3a\"],[0.8888888888888888,\"#fdca26\"],[1.0,\"#f0f921\"]],\"type\":\"histogram2dcontour\"}],\"histogram2d\":[{\"colorbar\":{\"outlinewidth\":0,\"ticks\":\"\"},\"colorscale\":[[0.0,\"#0d0887\"],[0.1111111111111111,\"#46039f\"],[0.2222222222222222,\"#7201a8\"],[0.3333333333333333,\"#9c179e\"],[0.4444444444444444,\"#bd3786\"],[0.5555555555555556,\"#d8576b\"],[0.6666666666666666,\"#ed7953\"],[0.7777777777777778,\"#fb9f3a\"],[0.8888888888888888,\"#fdca26\"],[1.0,\"#f0f921\"]],\"type\":\"histogram2d\"}],\"histogram\":[{\"marker\":{\"pattern\":{\"fillmode\":\"overlay\",\"size\":10,\"solidity\":0.2}},\"type\":\"histogram\"}],\"mesh3d\":[{\"colorbar\":{\"outlinewidth\":0,\"ticks\":\"\"},\"type\":\"mesh3d\"}],\"parcoords\":[{\"line\":{\"colorbar\":{\"outlinewidth\":0,\"ticks\":\"\"}},\"type\":\"parcoords\"}],\"pie\":[{\"automargin\":true,\"type\":\"pie\"}],\"scatter3d\":[{\"line\":{\"colorbar\":{\"outlinewidth\":0,\"ticks\":\"\"}},\"marker\":{\"colorbar\":{\"outlinewidth\":0,\"ticks\":\"\"}},\"type\":\"scatter3d\"}],\"scattercarpet\":[{\"marker\":{\"colorbar\":{\"outlinewidth\":0,\"ticks\":\"\"}},\"type\":\"scattercarpet\"}],\"scattergeo\":[{\"marker\":{\"colorbar\":{\"outlinewidth\":0,\"ticks\":\"\"}},\"type\":\"scattergeo\"}],\"scattergl\":[{\"marker\":{\"line\":{\"color\":\"#283442\"}},\"type\":\"scattergl\"}],\"scattermapbox\":[{\"marker\":{\"colorbar\":{\"outlinewidth\":0,\"ticks\":\"\"}},\"type\":\"scattermapbox\"}],\"scatterpolargl\":[{\"marker\":{\"colorbar\":{\"outlinewidth\":0,\"ticks\":\"\"}},\"type\":\"scatterpolargl\"}],\"scatterpolar\":[{\"marker\":{\"colorbar\":{\"outlinewidth\":0,\"ticks\":\"\"}},\"type\":\"scatterpolar\"}],\"scatter\":[{\"marker\":{\"line\":{\"color\":\"#283442\"}},\"type\":\"scatter\"}],\"scatterternary\":[{\"marker\":{\"colorbar\":{\"outlinewidth\":0,\"ticks\":\"\"}},\"type\":\"scatterternary\"}],\"surface\":[{\"colorbar\":{\"outlinewidth\":0,\"ticks\":\"\"},\"colorscale\":[[0.0,\"#0d0887\"],[0.1111111111111111,\"#46039f\"],[0.2222222222222222,\"#7201a8\"],[0.3333333333333333,\"#9c179e\"],[0.4444444444444444,\"#bd3786\"],[0.5555555555555556,\"#d8576b\"],[0.6666666666666666,\"#ed7953\"],[0.7777777777777778,\"#fb9f3a\"],[0.8888888888888888,\"#fdca26\"],[1.0,\"#f0f921\"]],\"type\":\"surface\"}],\"table\":[{\"cells\":{\"fill\":{\"color\":\"#506784\"},\"line\":{\"color\":\"rgb(17,17,17)\"}},\"header\":{\"fill\":{\"color\":\"#2a3f5f\"},\"line\":{\"color\":\"rgb(17,17,17)\"}},\"type\":\"table\"}]},\"layout\":{\"annotationdefaults\":{\"arrowcolor\":\"#f2f5fa\",\"arrowhead\":0,\"arrowwidth\":1},\"autotypenumbers\":\"strict\",\"coloraxis\":{\"colorbar\":{\"outlinewidth\":0,\"ticks\":\"\"}},\"colorscale\":{\"diverging\":[[0,\"#8e0152\"],[0.1,\"#c51b7d\"],[0.2,\"#de77ae\"],[0.3,\"#f1b6da\"],[0.4,\"#fde0ef\"],[0.5,\"#f7f7f7\"],[0.6,\"#e6f5d0\"],[0.7,\"#b8e186\"],[0.8,\"#7fbc41\"],[0.9,\"#4d9221\"],[1,\"#276419\"]],\"sequential\":[[0.0,\"#0d0887\"],[0.1111111111111111,\"#46039f\"],[0.2222222222222222,\"#7201a8\"],[0.3333333333333333,\"#9c179e\"],[0.4444444444444444,\"#bd3786\"],[0.5555555555555556,\"#d8576b\"],[0.6666666666666666,\"#ed7953\"],[0.7777777777777778,\"#fb9f3a\"],[0.8888888888888888,\"#fdca26\"],[1.0,\"#f0f921\"]],\"sequentialminus\":[[0.0,\"#0d0887\"],[0.1111111111111111,\"#46039f\"],[0.2222222222222222,\"#7201a8\"],[0.3333333333333333,\"#9c179e\"],[0.4444444444444444,\"#bd3786\"],[0.5555555555555556,\"#d8576b\"],[0.6666666666666666,\"#ed7953\"],[0.7777777777777778,\"#fb9f3a\"],[0.8888888888888888,\"#fdca26\"],[1.0,\"#f0f921\"]]},\"colorway\":[\"#636efa\",\"#EF553B\",\"#00cc96\",\"#ab63fa\",\"#FFA15A\",\"#19d3f3\",\"#FF6692\",\"#B6E880\",\"#FF97FF\",\"#FECB52\"],\"font\":{\"color\":\"#f2f5fa\"},\"geo\":{\"bgcolor\":\"rgb(17,17,17)\",\"lakecolor\":\"rgb(17,17,17)\",\"landcolor\":\"rgb(17,17,17)\",\"showlakes\":true,\"showland\":true,\"subunitcolor\":\"#506784\"},\"hoverlabel\":{\"align\":\"left\"},\"hovermode\":\"closest\",\"mapbox\":{\"style\":\"dark\"},\"paper_bgcolor\":\"rgb(17,17,17)\",\"plot_bgcolor\":\"rgb(17,17,17)\",\"polar\":{\"angularaxis\":{\"gridcolor\":\"#506784\",\"linecolor\":\"#506784\",\"ticks\":\"\"},\"bgcolor\":\"rgb(17,17,17)\",\"radialaxis\":{\"gridcolor\":\"#506784\",\"linecolor\":\"#506784\",\"ticks\":\"\"}},\"scene\":{\"xaxis\":{\"backgroundcolor\":\"rgb(17,17,17)\",\"gridcolor\":\"#506784\",\"gridwidth\":2,\"linecolor\":\"#506784\",\"showbackground\":true,\"ticks\":\"\",\"zerolinecolor\":\"#C8D4E3\"},\"yaxis\":{\"backgroundcolor\":\"rgb(17,17,17)\",\"gridcolor\":\"#506784\",\"gridwidth\":2,\"linecolor\":\"#506784\",\"showbackground\":true,\"ticks\":\"\",\"zerolinecolor\":\"#C8D4E3\"},\"zaxis\":{\"backgroundcolor\":\"rgb(17,17,17)\",\"gridcolor\":\"#506784\",\"gridwidth\":2,\"linecolor\":\"#506784\",\"showbackground\":true,\"ticks\":\"\",\"zerolinecolor\":\"#C8D4E3\"}},\"shapedefaults\":{\"line\":{\"color\":\"#f2f5fa\"}},\"sliderdefaults\":{\"bgcolor\":\"#C8D4E3\",\"bordercolor\":\"rgb(17,17,17)\",\"borderwidth\":1,\"tickwidth\":0},\"ternary\":{\"aaxis\":{\"gridcolor\":\"#506784\",\"linecolor\":\"#506784\",\"ticks\":\"\"},\"baxis\":{\"gridcolor\":\"#506784\",\"linecolor\":\"#506784\",\"ticks\":\"\"},\"bgcolor\":\"rgb(17,17,17)\",\"caxis\":{\"gridcolor\":\"#506784\",\"linecolor\":\"#506784\",\"ticks\":\"\"}},\"title\":{\"x\":0.05},\"updatemenudefaults\":{\"bgcolor\":\"#506784\",\"borderwidth\":0},\"xaxis\":{\"automargin\":true,\"gridcolor\":\"#283442\",\"linecolor\":\"#506784\",\"ticks\":\"\",\"title\":{\"standoff\":15},\"zerolinecolor\":\"#283442\",\"zerolinewidth\":2},\"yaxis\":{\"automargin\":true,\"gridcolor\":\"#283442\",\"linecolor\":\"#506784\",\"ticks\":\"\",\"title\":{\"standoff\":15},\"zerolinecolor\":\"#283442\",\"zerolinewidth\":2}}},\"xaxis\":{\"anchor\":\"y\",\"domain\":[0.0,1.0],\"title\":{\"text\":\"D2: AGE OF RESPONDENT\"},\"categoryorder\":\"total ascending\"},\"yaxis\":{\"anchor\":\"x\",\"domain\":[0.0,1.0],\"title\":{\"text\":\"NUMBER OF RESPONCES\"}},\"legend\":{\"title\":{\"text\":\"FAVOR OR OPPOSE EXPANDING NUCLEAR PLANTS\"},\"tracegroupgap\":0},\"margin\":{\"t\":60},\"barmode\":\"relative\"},                        {\"responsive\": true}                    ).then(function(){\n",
       "                            \n",
       "var gd = document.getElementById('f7db8ca6-65ad-4033-b420-b569325f2ece');\n",
       "var x = new MutationObserver(function (mutations, observer) {{\n",
       "        var display = window.getComputedStyle(gd).display;\n",
       "        if (!display || display === 'none') {{\n",
       "            console.log([gd, 'removed!']);\n",
       "            Plotly.purge(gd);\n",
       "            observer.disconnect();\n",
       "        }}\n",
       "}});\n",
       "\n",
       "// Listen for the removal of the full notebook cells\n",
       "var notebookContainer = gd.closest('#notebook-container');\n",
       "if (notebookContainer) {{\n",
       "    x.observe(notebookContainer, {childList: true});\n",
       "}}\n",
       "\n",
       "// Listen for the clearing of the current output cell\n",
       "var outputEl = gd.closest('.output');\n",
       "if (outputEl) {{\n",
       "    x.observe(outputEl, {childList: true});\n",
       "}}\n",
       "\n",
       "                        })                };                });            </script>        </div>"
      ]
     },
     "metadata": {},
     "output_type": "display_data"
    }
   ],
   "source": [
    "# Q10: HOW CONCERNED ABOUT CLIMATE CHANGE\n",
    "# Q13: FAVOR OR OPPOSE EXPANDING NUCLEAR PLANT IN THE MIDLANDS OF SC\n",
    "\n",
    "fig = px.histogram(df_IC, x=\"Q13\", color=\"D2\", template='plotly_dark').update_xaxes(categoryorder='total ascending').update_layout(\n",
    "xaxis_title=\"FAVOR OR OPPOSE EXPANDING NUCLEAR PLANTS\", yaxis_title=\"NUMBER OF RESPONCES\", legend_title=\"AGE OF RESPONDENT\",\n",
    ")\n",
    "fig.show()"
   ]
  },
  {
   "cell_type": "code",
   "execution_count": 24,
   "id": "84fbb156-e592-4efa-91c8-d601803cf8c2",
   "metadata": {},
   "outputs": [
    {
     "data": {
      "application/vnd.plotly.v1+json": {
       "config": {
        "plotlyServerURL": "https://plot.ly"
       },
       "data": [
        {
         "alignmentgroup": "True",
         "bingroup": "x",
         "hovertemplate": "Q13=SOMEWHAT FAVOR<br>D4=%{x}<br>count=%{y}<extra></extra>",
         "legendgroup": "SOMEWHAT FAVOR",
         "marker": {
          "color": "#636efa",
          "pattern": {
           "shape": ""
          }
         },
         "name": "SOMEWHAT FAVOR",
         "offsetgroup": "SOMEWHAT FAVOR",
         "orientation": "v",
         "showlegend": true,
         "type": "histogram",
         "x": [
          "TWELFTH GRADE",
          "SIX YEARS-COLLEGE",
          "FOUR YEARS-COLLEGE",
          "TWELFTH GRADE",
          "ONE YEAR-COLLEGE",
          "TWO YEARS-COLLEGE",
          "FOUR YEARS-COLLEGE",
          "TWELFTH GRADE",
          "TWELFTH GRADE",
          "EIGHTH GRADE",
          "FOUR YEARS-COLLEGE",
          "TWELFTH GRADE",
          "ONE YEAR-COLLEGE",
          "TWO YEARS-COLLEGE",
          "TWELFTH GRADE",
          "ELEVENTH GRADE",
          "TWELFTH GRADE",
          "FOUR YEARS-COLLEGE",
          "TWELFTH GRADE",
          "TWELFTH GRADE",
          "FOUR YEARS-COLLEGE",
          "TWO YEARS-COLLEGE",
          "TWELFTH GRADE",
          "TWO YEARS-COLLEGE",
          "FOUR YEARS-COLLEGE",
          "TWELFTH GRADE",
          "TWO YEARS-COLLEGE",
          "FOUR YEARS-COLLEGE",
          "FOUR YEARS-COLLEGE",
          "EIGHT YEARS-COLLEGE",
          "TWO YEARS-COLLEGE",
          "TWELFTH GRADE",
          "FOUR YEARS-COLLEGE",
          "TWELFTH GRADE",
          "FOUR YEARS-COLLEGE",
          "TWO YEARS-COLLEGE",
          "SEVEN YEARS-COLLEGE",
          "TWELFTH GRADE",
          "TWO YEARS-COLLEGE",
          "TWELFTH GRADE",
          "ONE YEAR-COLLEGE",
          "FOUR YEARS-COLLEGE",
          "TWO YEARS-COLLEGE",
          "TWELFTH GRADE",
          "TWELFTH GRADE",
          "NINTH GRADE",
          "NINTH GRADE",
          "FOUR YEARS-COLLEGE",
          "ONE YEAR-COLLEGE",
          "TWELFTH GRADE",
          "TWO YEARS-COLLEGE",
          "TWELFTH GRADE",
          "TWELFTH GRADE",
          "SIX YEARS-COLLEGE",
          "TWELFTH GRADE",
          "TWELFTH GRADE",
          "SIX YEARS-COLLEGE",
          "TWELFTH GRADE",
          "SIX YEARS-COLLEGE",
          "SIXTH GRADE",
          "TWELFTH GRADE",
          "TWELFTH GRADE",
          "TWELFTH GRADE",
          "SIX YEARS-COLLEGE",
          "TWELFTH GRADE",
          "TENTH GRADE",
          "FOUR YEARS-COLLEGE",
          "TWO YEARS-COLLEGE",
          "TWO YEARS-COLLEGE",
          "FOUR YEARS-COLLEGE",
          "EIGHT YEARS-COLLEGE",
          "TWELFTH GRADE",
          "TWO YEARS-COLLEGE",
          "EIGHT YEARS-COLLEGE",
          "THREE YEARS-COLLEGE",
          "TWO YEARS-COLLEGE",
          "ONE YEAR-COLLEGE",
          "FOUR YEARS-COLLEGE",
          "TWO YEARS-COLLEGE",
          "TEN OR MORE YEARS-COLLEGE",
          "TWO YEARS-COLLEGE",
          "TWELFTH GRADE",
          "FOUR YEARS-COLLEGE",
          "TWO YEARS-COLLEGE",
          "FOUR YEARS-COLLEGE",
          "SIX YEARS-COLLEGE",
          "TWELFTH GRADE",
          "SEVEN YEARS-COLLEGE",
          "SIX YEARS-COLLEGE",
          "THREE YEARS-COLLEGE",
          "FOUR YEARS-COLLEGE",
          "TWELFTH GRADE",
          "TWELFTH GRADE",
          "ONE YEAR-COLLEGE",
          "TWELFTH GRADE",
          "FIVE YEARS-COLLEGE",
          "TWELFTH GRADE",
          "FOUR YEARS-COLLEGE",
          "ONE YEAR-COLLEGE",
          "TWELFTH GRADE",
          "THREE YEARS-COLLEGE",
          "SIX YEARS-COLLEGE",
          "TWO YEARS-COLLEGE",
          "SIX YEARS-COLLEGE",
          "TWELFTH GRADE",
          "FOUR YEARS-COLLEGE",
          "FOUR YEARS-COLLEGE",
          "TWELFTH GRADE",
          "FOUR YEARS-COLLEGE",
          "TWELFTH GRADE",
          "TWELFTH GRADE",
          "REFUSED",
          "FOUR YEARS-COLLEGE",
          "NINE YEARS-COLLEGE",
          "TWO YEARS-COLLEGE",
          "FOUR YEARS-COLLEGE",
          "TWO YEARS-COLLEGE",
          "FOUR YEARS-COLLEGE",
          "SIX YEARS-COLLEGE",
          "TWO YEARS-COLLEGE",
          "TWELFTH GRADE",
          "TWELFTH GRADE",
          "TENTH GRADE",
          "TWELFTH GRADE",
          "ONE YEAR-COLLEGE",
          "FOUR YEARS-COLLEGE",
          "ELEVENTH GRADE",
          "TWELFTH GRADE",
          "SIXTH GRADE",
          "TWO YEARS-COLLEGE",
          "TWO YEARS-COLLEGE",
          "TWO YEARS-COLLEGE",
          "SEVEN YEARS-COLLEGE",
          "THREE YEARS-COLLEGE",
          "TWO YEARS-COLLEGE",
          "TWO YEARS-COLLEGE",
          "FOUR YEARS-COLLEGE",
          "TWO YEARS-COLLEGE",
          "FOUR YEARS-COLLEGE",
          "FOUR YEARS-COLLEGE",
          "FIVE YEARS-COLLEGE",
          "TWELFTH GRADE",
          "SEVEN YEARS-COLLEGE",
          "FIVE YEARS-COLLEGE",
          "TWELFTH GRADE",
          "TWO YEARS-COLLEGE",
          "SIX YEARS-COLLEGE",
          "TWELFTH GRADE",
          "FOUR YEARS-COLLEGE",
          "TWELFTH GRADE",
          "TEN OR MORE YEARS-COLLEGE",
          "TWELFTH GRADE",
          "ONE YEAR-COLLEGE",
          "TWO YEARS-COLLEGE",
          "FOUR YEARS-COLLEGE",
          "ELEVENTH GRADE",
          "TWELFTH GRADE",
          "TWELFTH GRADE",
          "FOUR YEARS-COLLEGE",
          "TENTH GRADE",
          "TENTH GRADE",
          "ELEVENTH GRADE",
          "TWO YEARS-COLLEGE",
          "ELEVENTH GRADE",
          "TWO YEARS-COLLEGE",
          "TWELFTH GRADE",
          "TWO YEARS-COLLEGE",
          "ONE YEAR-COLLEGE",
          "TWO YEARS-COLLEGE",
          "TWO YEARS-COLLEGE",
          "SIX YEARS-COLLEGE",
          "FOUR YEARS-COLLEGE",
          "FOUR YEARS-COLLEGE",
          "SEVEN YEARS-COLLEGE",
          "SIX YEARS-COLLEGE",
          "SIX YEARS-COLLEGE",
          "TWELFTH GRADE",
          "FOUR YEARS-COLLEGE",
          "TWO YEARS-COLLEGE",
          "TWELFTH GRADE",
          "TWELFTH GRADE",
          "TWELFTH GRADE",
          "FOUR YEARS-COLLEGE",
          "TWELFTH GRADE",
          "SEVENTH GRADE",
          "FOUR YEARS-COLLEGE",
          "ELEVENTH GRADE",
          "FOUR YEARS-COLLEGE",
          "FOUR YEARS-COLLEGE",
          "TWELFTH GRADE",
          "SIX YEARS-COLLEGE",
          "ONE YEAR-COLLEGE",
          "TWO YEARS-COLLEGE",
          "TENTH GRADE",
          "TWELFTH GRADE",
          "TWELFTH GRADE",
          "TWELFTH GRADE",
          "TWO YEARS-COLLEGE",
          "FOUR YEARS-COLLEGE",
          "TWELFTH GRADE",
          "TWO YEARS-COLLEGE",
          "FOUR YEARS-COLLEGE",
          "TWO YEARS-COLLEGE",
          "FOUR YEARS-COLLEGE",
          "FOUR YEARS-COLLEGE",
          "FOUR YEARS-COLLEGE",
          "SIXTH GRADE",
          "FIVE YEARS-COLLEGE",
          "SIXTH GRADE",
          "TWELFTH GRADE",
          "FOUR YEARS-COLLEGE",
          "TWELFTH GRADE",
          "FOUR YEARS-COLLEGE",
          "ONE YEAR-COLLEGE",
          "TWO YEARS-COLLEGE",
          "EIGHTH GRADE",
          "SIX YEARS-COLLEGE",
          "TWELFTH GRADE",
          "TWELFTH GRADE",
          "ONE YEAR-COLLEGE",
          "SIX YEARS-COLLEGE",
          "TWELFTH GRADE",
          "FOUR YEARS-COLLEGE",
          "SIX YEARS-COLLEGE",
          "FOUR YEARS-COLLEGE",
          "SIX YEARS-COLLEGE",
          "EIGHT YEARS-COLLEGE",
          "FOUR YEARS-COLLEGE",
          "TWO YEARS-COLLEGE",
          "ONE YEAR-COLLEGE",
          "THREE YEARS-COLLEGE",
          "FOUR YEARS-COLLEGE",
          "FOUR YEARS-COLLEGE",
          "TWELFTH GRADE",
          "TWO YEARS-COLLEGE",
          "TWELFTH GRADE"
         ],
         "xaxis": "x",
         "yaxis": "y"
        },
        {
         "alignmentgroup": "True",
         "bingroup": "x",
         "hovertemplate": "Q13=SOMEWHAT OPPOSE<br>D4=%{x}<br>count=%{y}<extra></extra>",
         "legendgroup": "SOMEWHAT OPPOSE",
         "marker": {
          "color": "#EF553B",
          "pattern": {
           "shape": ""
          }
         },
         "name": "SOMEWHAT OPPOSE",
         "offsetgroup": "SOMEWHAT OPPOSE",
         "orientation": "v",
         "showlegend": true,
         "type": "histogram",
         "x": [
          "TWELFTH GRADE",
          "TWO YEARS-COLLEGE",
          "TWELFTH GRADE",
          "FOUR YEARS-COLLEGE",
          "TWO YEARS-COLLEGE",
          "TWELFTH GRADE",
          "FOUR YEARS-COLLEGE",
          "FOUR YEARS-COLLEGE",
          "ONE YEAR-COLLEGE",
          "FIVE YEARS-COLLEGE",
          "TWO YEARS-COLLEGE",
          "EIGHT YEARS-COLLEGE",
          "TENTH GRADE",
          "SIX YEARS-COLLEGE",
          "SEVEN YEARS-COLLEGE",
          "FOUR YEARS-COLLEGE",
          "FOUR YEARS-COLLEGE",
          "SIX YEARS-COLLEGE",
          "TWELFTH GRADE",
          "TWELFTH GRADE",
          "TWO YEARS-COLLEGE",
          "FOUR YEARS-COLLEGE",
          "SEVENTH GRADE",
          "THREE YEARS-COLLEGE",
          "FOUR YEARS-COLLEGE",
          "TWELFTH GRADE",
          "TWELFTH GRADE",
          "ELEVENTH GRADE",
          "TWELFTH GRADE",
          "TENTH GRADE",
          "TWELFTH GRADE",
          "TWO YEARS-COLLEGE",
          "TENTH GRADE",
          "TWO YEARS-COLLEGE",
          "TWO YEARS-COLLEGE",
          "TWO YEARS-COLLEGE",
          "TWO YEARS-COLLEGE",
          "FIVE YEARS-COLLEGE",
          "EIGHT YEARS-COLLEGE",
          "SIX YEARS-COLLEGE",
          "TWELFTH GRADE",
          "FOUR YEARS-COLLEGE",
          "TWELFTH GRADE",
          "FIFTH GRADE",
          "TWELFTH GRADE",
          "ONE YEAR-COLLEGE",
          "FOUR YEARS-COLLEGE",
          "TWO YEARS-COLLEGE",
          "TWO YEARS-COLLEGE",
          "TWELFTH GRADE",
          "THREE YEARS-COLLEGE",
          "FOUR YEARS-COLLEGE",
          "SIX YEARS-COLLEGE",
          "TWO YEARS-COLLEGE",
          "TWO YEARS-COLLEGE",
          "FOUR YEARS-COLLEGE",
          "ONE YEAR-COLLEGE",
          "ONE YEAR-COLLEGE",
          "TWELFTH GRADE",
          "SIX YEARS-COLLEGE",
          "THREE YEARS-COLLEGE",
          "TWELFTH GRADE",
          "TWELFTH GRADE",
          "TEN OR MORE YEARS-COLLEGE",
          "TWO YEARS-COLLEGE",
          "EIGHT YEARS-COLLEGE",
          "TWO YEARS-COLLEGE",
          "FOUR YEARS-COLLEGE",
          "TWELFTH GRADE",
          "TWELFTH GRADE",
          "TWO YEARS-COLLEGE",
          "TWELFTH GRADE",
          "ONE YEAR-COLLEGE",
          "TWO YEARS-COLLEGE",
          "TWELFTH GRADE",
          "ONE YEAR-COLLEGE",
          "FOUR YEARS-COLLEGE",
          "TWELFTH GRADE",
          "FOUR YEARS-COLLEGE",
          "THREE YEARS-COLLEGE",
          "TWELFTH GRADE",
          "TWELFTH GRADE",
          "ONE YEAR-COLLEGE",
          "FOUR YEARS-COLLEGE",
          "FOUR YEARS-COLLEGE",
          "ONE YEAR-COLLEGE",
          "TWELFTH GRADE",
          "TWELFTH GRADE",
          "FOUR YEARS-COLLEGE",
          "SIX YEARS-COLLEGE",
          "NINTH GRADE",
          "FOUR YEARS-COLLEGE",
          "TWO YEARS-COLLEGE",
          "SIX YEARS-COLLEGE",
          "SIX YEARS-COLLEGE",
          "TWELFTH GRADE",
          "DO NOT KNOW",
          "TWO YEARS-COLLEGE",
          "GED",
          "FOUR YEARS-COLLEGE",
          "SIX YEARS-COLLEGE",
          "TWELFTH GRADE",
          "TWELFTH GRADE",
          "TWO YEARS-COLLEGE",
          "FOUR YEARS-COLLEGE",
          "THREE YEARS-COLLEGE",
          "SIX YEARS-COLLEGE",
          "TWELFTH GRADE",
          "SIX YEARS-COLLEGE",
          "TWELFTH GRADE",
          "FIVE YEARS-COLLEGE",
          "FOUR YEARS-COLLEGE",
          "SIX YEARS-COLLEGE",
          "TWELFTH GRADE",
          "TWELFTH GRADE",
          "ONE YEAR-COLLEGE"
         ],
         "xaxis": "x",
         "yaxis": "y"
        },
        {
         "alignmentgroup": "True",
         "bingroup": "x",
         "hovertemplate": "Q13=STRONGLY FAVOR<br>D4=%{x}<br>count=%{y}<extra></extra>",
         "legendgroup": "STRONGLY FAVOR",
         "marker": {
          "color": "#00cc96",
          "pattern": {
           "shape": ""
          }
         },
         "name": "STRONGLY FAVOR",
         "offsetgroup": "STRONGLY FAVOR",
         "orientation": "v",
         "showlegend": true,
         "type": "histogram",
         "x": [
          "TWO YEARS-COLLEGE",
          "TWO YEARS-COLLEGE",
          "FOUR YEARS-COLLEGE",
          "TWELFTH GRADE",
          "TWELFTH GRADE",
          "TENTH GRADE",
          "SIX YEARS-COLLEGE",
          "TWELFTH GRADE",
          "TWELFTH GRADE",
          "TWO YEARS-COLLEGE",
          "FOUR YEARS-COLLEGE",
          "EIGHT YEARS-COLLEGE",
          "TWO YEARS-COLLEGE",
          "TWELFTH GRADE",
          "SIX YEARS-COLLEGE",
          "TWELFTH GRADE",
          "TWO YEARS-COLLEGE",
          "FOUR YEARS-COLLEGE",
          "FOUR YEARS-COLLEGE",
          "FOUR YEARS-COLLEGE",
          "FOUR YEARS-COLLEGE",
          "TWELFTH GRADE",
          "FOUR YEARS-COLLEGE",
          "TWELFTH GRADE",
          "TWELFTH GRADE",
          "SIX YEARS-COLLEGE",
          "REFUSED",
          "ELEVENTH GRADE",
          "TWELFTH GRADE",
          "TWO YEARS-COLLEGE",
          "TWO YEARS-COLLEGE",
          "TWELFTH GRADE",
          "FOUR YEARS-COLLEGE",
          "SIX YEARS-COLLEGE",
          "TWO YEARS-COLLEGE",
          "TWELFTH GRADE",
          "FOUR YEARS-COLLEGE",
          "TWELFTH GRADE",
          "SIX YEARS-COLLEGE",
          "TEN OR MORE YEARS-COLLEGE",
          "TWELFTH GRADE",
          "EIGHT YEARS-COLLEGE",
          "SIX YEARS-COLLEGE",
          "FOUR YEARS-COLLEGE",
          "FOUR YEARS-COLLEGE",
          "THREE YEARS-COLLEGE",
          "TWO YEARS-COLLEGE",
          "FOUR YEARS-COLLEGE",
          "FOUR YEARS-COLLEGE",
          "THREE YEARS-COLLEGE",
          "TWO YEARS-COLLEGE",
          "FOUR YEARS-COLLEGE",
          "TWO YEARS-COLLEGE",
          "FOUR YEARS-COLLEGE",
          "TEN OR MORE YEARS-COLLEGE",
          "TWELFTH GRADE",
          "SIX YEARS-COLLEGE",
          "TWELFTH GRADE",
          "SIX YEARS-COLLEGE",
          "SIX YEARS-COLLEGE",
          "ONE YEAR-COLLEGE",
          "FOUR YEARS-COLLEGE",
          "TWO YEARS-COLLEGE",
          "ELEVENTH GRADE",
          "TWO YEARS-COLLEGE",
          "TWELFTH GRADE",
          "SIX YEARS-COLLEGE",
          "SIX YEARS-COLLEGE",
          "TWO YEARS-COLLEGE",
          "TWO YEARS-COLLEGE",
          "THREE YEARS-COLLEGE",
          "FOUR YEARS-COLLEGE",
          "TWELFTH GRADE",
          "TWO YEARS-COLLEGE",
          "ONE YEAR-COLLEGE",
          "FOUR YEARS-COLLEGE",
          "TWELFTH GRADE",
          "FOUR YEARS-COLLEGE",
          "TWELFTH GRADE",
          "ONE YEAR-COLLEGE",
          "TWO YEARS-COLLEGE",
          "TWELFTH GRADE",
          "FOUR YEARS-COLLEGE",
          "THREE YEARS-COLLEGE",
          "TEN OR MORE YEARS-COLLEGE",
          "FOUR YEARS-COLLEGE",
          "FOUR YEARS-COLLEGE",
          "ONE YEAR-COLLEGE",
          "TWO YEARS-COLLEGE",
          "FOUR YEARS-COLLEGE",
          "FOUR YEARS-COLLEGE",
          "TWELFTH GRADE",
          "ONE YEAR-COLLEGE",
          "FOUR YEARS-COLLEGE",
          "FOUR YEARS-COLLEGE",
          "TWELFTH GRADE",
          "NINE YEARS-COLLEGE",
          "TWO YEARS-COLLEGE",
          "FOUR YEARS-COLLEGE",
          "TENTH GRADE",
          "FOUR YEARS-COLLEGE",
          "TEN OR MORE YEARS-COLLEGE",
          "FOUR YEARS-COLLEGE",
          "FOUR YEARS-COLLEGE",
          "FOUR YEARS-COLLEGE",
          "TWO YEARS-COLLEGE",
          "THREE YEARS-COLLEGE",
          "TWELFTH GRADE",
          "TWELFTH GRADE",
          "TWO YEARS-COLLEGE",
          "ONE YEAR-COLLEGE",
          "TWELFTH GRADE",
          "FIVE YEARS-COLLEGE",
          "SIX YEARS-COLLEGE",
          "SIX YEARS-COLLEGE",
          "TWELFTH GRADE",
          "FOUR YEARS-COLLEGE",
          "FOUR YEARS-COLLEGE",
          "TWELFTH GRADE",
          "FOUR YEARS-COLLEGE",
          "TWELFTH GRADE",
          "FIVE YEARS-COLLEGE",
          "FOUR YEARS-COLLEGE",
          "FOUR YEARS-COLLEGE",
          "TWO YEARS-COLLEGE",
          "ONE YEAR-COLLEGE",
          "FOUR YEARS-COLLEGE",
          "TWELFTH GRADE",
          "FOUR YEARS-COLLEGE",
          "ONE YEAR-COLLEGE",
          "TWO YEARS-COLLEGE",
          "SIX YEARS-COLLEGE",
          "SIX YEARS-COLLEGE",
          "TWO YEARS-COLLEGE",
          "TWELFTH GRADE",
          "TWELFTH GRADE",
          "FOUR YEARS-COLLEGE",
          "TWELFTH GRADE",
          "TEN OR MORE YEARS-COLLEGE",
          "SIX YEARS-COLLEGE",
          "THREE YEARS-COLLEGE",
          "TEN OR MORE YEARS-COLLEGE",
          "FOUR YEARS-COLLEGE",
          "FOUR YEARS-COLLEGE",
          "FIVE YEARS-COLLEGE",
          "TWELFTH GRADE",
          "TWELFTH GRADE",
          "ONE YEAR-COLLEGE",
          "FOUR YEARS-COLLEGE",
          "TWO YEARS-COLLEGE",
          "FOUR YEARS-COLLEGE",
          "SIX YEARS-COLLEGE",
          "TWELFTH GRADE",
          "TWELFTH GRADE",
          "TWO YEARS-COLLEGE",
          "TWO YEARS-COLLEGE",
          "ONE YEAR-COLLEGE",
          "FOUR YEARS-COLLEGE",
          "TWO YEARS-COLLEGE",
          "SIX YEARS-COLLEGE",
          "FOUR YEARS-COLLEGE",
          "FOUR YEARS-COLLEGE",
          "TWELFTH GRADE",
          "TWO YEARS-COLLEGE",
          "SIX YEARS-COLLEGE",
          "FOUR YEARS-COLLEGE",
          "FOUR YEARS-COLLEGE",
          "SIX YEARS-COLLEGE",
          "TWO YEARS-COLLEGE",
          "TWELFTH GRADE",
          "TWELFTH GRADE",
          "FOUR YEARS-COLLEGE",
          "SIX YEARS-COLLEGE",
          "EIGHT YEARS-COLLEGE",
          "FOUR YEARS-COLLEGE",
          "TEN OR MORE YEARS-COLLEGE"
         ],
         "xaxis": "x",
         "yaxis": "y"
        },
        {
         "alignmentgroup": "True",
         "bingroup": "x",
         "hovertemplate": "Q13=DO NOT KNOW<br>D4=%{x}<br>count=%{y}<extra></extra>",
         "legendgroup": "DO NOT KNOW",
         "marker": {
          "color": "#ab63fa",
          "pattern": {
           "shape": ""
          }
         },
         "name": "DO NOT KNOW",
         "offsetgroup": "DO NOT KNOW",
         "orientation": "v",
         "showlegend": true,
         "type": "histogram",
         "x": [
          "FOUR YEARS-COLLEGE",
          "TWO YEARS-COLLEGE",
          "TWELFTH GRADE",
          "ONE YEAR-COLLEGE",
          "ONE YEAR-COLLEGE",
          "REFUSED",
          "TWELFTH GRADE",
          "FOUR YEARS-COLLEGE",
          "TWELFTH GRADE",
          "TWELFTH GRADE",
          "ONE YEAR-COLLEGE",
          "TWELFTH GRADE",
          "FOUR YEARS-COLLEGE",
          "TWELFTH GRADE",
          "FIVE YEARS-COLLEGE",
          "TWO YEARS-COLLEGE",
          "SIX YEARS-COLLEGE"
         ],
         "xaxis": "x",
         "yaxis": "y"
        },
        {
         "alignmentgroup": "True",
         "bingroup": "x",
         "hovertemplate": "Q13=STRONGLY OPPOSE<br>D4=%{x}<br>count=%{y}<extra></extra>",
         "legendgroup": "STRONGLY OPPOSE",
         "marker": {
          "color": "#FFA15A",
          "pattern": {
           "shape": ""
          }
         },
         "name": "STRONGLY OPPOSE",
         "offsetgroup": "STRONGLY OPPOSE",
         "orientation": "v",
         "showlegend": true,
         "type": "histogram",
         "x": [
          "TWELFTH GRADE",
          "TWELFTH GRADE",
          "SIX YEARS-COLLEGE",
          "TWELFTH GRADE",
          "THREE YEARS-COLLEGE",
          "ONE YEAR-COLLEGE",
          "ONE YEAR-COLLEGE",
          "FIVE YEARS-COLLEGE",
          "TWELFTH GRADE",
          "FOUR YEARS-COLLEGE",
          "TWO YEARS-COLLEGE",
          "TWELFTH GRADE",
          "TWO YEARS-COLLEGE",
          "SIX YEARS-COLLEGE",
          "NINTH GRADE",
          "FOUR YEARS-COLLEGE",
          "TWO YEARS-COLLEGE",
          "ELEVENTH GRADE",
          "TWO YEARS-COLLEGE",
          "TWELFTH GRADE",
          "TWELFTH GRADE",
          "TWO YEARS-COLLEGE",
          "TWO YEARS-COLLEGE",
          "SIX YEARS-COLLEGE",
          "TWO YEARS-COLLEGE",
          "TWO YEARS-COLLEGE",
          "FOUR YEARS-COLLEGE",
          "FOUR YEARS-COLLEGE",
          "TWELFTH GRADE",
          "TWELFTH GRADE",
          "ONE YEAR-COLLEGE",
          "TWELFTH GRADE",
          "EIGHT YEARS-COLLEGE",
          "TWELFTH GRADE",
          "TWELFTH GRADE",
          "FOUR YEARS-COLLEGE",
          "FOUR YEARS-COLLEGE",
          "EIGHT YEARS-COLLEGE",
          "TWO YEARS-COLLEGE",
          "FIVE YEARS-COLLEGE",
          "FOUR YEARS-COLLEGE",
          "ONE YEAR-COLLEGE",
          "FOUR YEARS-COLLEGE",
          "ELEVENTH GRADE",
          "THREE YEARS-COLLEGE",
          "TWELFTH GRADE",
          "FOUR YEARS-COLLEGE",
          "THREE YEARS-COLLEGE",
          "FOUR YEARS-COLLEGE",
          "FOUR YEARS-COLLEGE",
          "ELEVENTH GRADE",
          "FOUR YEARS-COLLEGE",
          "FOUR YEARS-COLLEGE",
          "TWELFTH GRADE",
          "TWELFTH GRADE",
          "TWELFTH GRADE",
          "NINTH GRADE",
          "FOUR YEARS-COLLEGE",
          "TWELFTH GRADE",
          "TWO YEARS-COLLEGE",
          "TWELFTH GRADE"
         ],
         "xaxis": "x",
         "yaxis": "y"
        }
       ],
       "layout": {
        "autosize": true,
        "barmode": "relative",
        "legend": {
         "title": {
          "text": "FAVOR OR OPPOSE EXPANDING NUCLEAR PLANTS"
         },
         "tracegroupgap": 0
        },
        "margin": {
         "t": 60
        },
        "template": {
         "data": {
          "bar": [
           {
            "error_x": {
             "color": "#f2f5fa"
            },
            "error_y": {
             "color": "#f2f5fa"
            },
            "marker": {
             "line": {
              "color": "rgb(17,17,17)",
              "width": 0.5
             },
             "pattern": {
              "fillmode": "overlay",
              "size": 10,
              "solidity": 0.2
             }
            },
            "type": "bar"
           }
          ],
          "barpolar": [
           {
            "marker": {
             "line": {
              "color": "rgb(17,17,17)",
              "width": 0.5
             },
             "pattern": {
              "fillmode": "overlay",
              "size": 10,
              "solidity": 0.2
             }
            },
            "type": "barpolar"
           }
          ],
          "carpet": [
           {
            "aaxis": {
             "endlinecolor": "#A2B1C6",
             "gridcolor": "#506784",
             "linecolor": "#506784",
             "minorgridcolor": "#506784",
             "startlinecolor": "#A2B1C6"
            },
            "baxis": {
             "endlinecolor": "#A2B1C6",
             "gridcolor": "#506784",
             "linecolor": "#506784",
             "minorgridcolor": "#506784",
             "startlinecolor": "#A2B1C6"
            },
            "type": "carpet"
           }
          ],
          "choropleth": [
           {
            "colorbar": {
             "outlinewidth": 0,
             "ticks": ""
            },
            "type": "choropleth"
           }
          ],
          "contour": [
           {
            "colorbar": {
             "outlinewidth": 0,
             "ticks": ""
            },
            "colorscale": [
             [
              0,
              "#0d0887"
             ],
             [
              0.1111111111111111,
              "#46039f"
             ],
             [
              0.2222222222222222,
              "#7201a8"
             ],
             [
              0.3333333333333333,
              "#9c179e"
             ],
             [
              0.4444444444444444,
              "#bd3786"
             ],
             [
              0.5555555555555556,
              "#d8576b"
             ],
             [
              0.6666666666666666,
              "#ed7953"
             ],
             [
              0.7777777777777778,
              "#fb9f3a"
             ],
             [
              0.8888888888888888,
              "#fdca26"
             ],
             [
              1,
              "#f0f921"
             ]
            ],
            "type": "contour"
           }
          ],
          "contourcarpet": [
           {
            "colorbar": {
             "outlinewidth": 0,
             "ticks": ""
            },
            "type": "contourcarpet"
           }
          ],
          "heatmap": [
           {
            "colorbar": {
             "outlinewidth": 0,
             "ticks": ""
            },
            "colorscale": [
             [
              0,
              "#0d0887"
             ],
             [
              0.1111111111111111,
              "#46039f"
             ],
             [
              0.2222222222222222,
              "#7201a8"
             ],
             [
              0.3333333333333333,
              "#9c179e"
             ],
             [
              0.4444444444444444,
              "#bd3786"
             ],
             [
              0.5555555555555556,
              "#d8576b"
             ],
             [
              0.6666666666666666,
              "#ed7953"
             ],
             [
              0.7777777777777778,
              "#fb9f3a"
             ],
             [
              0.8888888888888888,
              "#fdca26"
             ],
             [
              1,
              "#f0f921"
             ]
            ],
            "type": "heatmap"
           }
          ],
          "heatmapgl": [
           {
            "colorbar": {
             "outlinewidth": 0,
             "ticks": ""
            },
            "colorscale": [
             [
              0,
              "#0d0887"
             ],
             [
              0.1111111111111111,
              "#46039f"
             ],
             [
              0.2222222222222222,
              "#7201a8"
             ],
             [
              0.3333333333333333,
              "#9c179e"
             ],
             [
              0.4444444444444444,
              "#bd3786"
             ],
             [
              0.5555555555555556,
              "#d8576b"
             ],
             [
              0.6666666666666666,
              "#ed7953"
             ],
             [
              0.7777777777777778,
              "#fb9f3a"
             ],
             [
              0.8888888888888888,
              "#fdca26"
             ],
             [
              1,
              "#f0f921"
             ]
            ],
            "type": "heatmapgl"
           }
          ],
          "histogram": [
           {
            "marker": {
             "pattern": {
              "fillmode": "overlay",
              "size": 10,
              "solidity": 0.2
             }
            },
            "type": "histogram"
           }
          ],
          "histogram2d": [
           {
            "colorbar": {
             "outlinewidth": 0,
             "ticks": ""
            },
            "colorscale": [
             [
              0,
              "#0d0887"
             ],
             [
              0.1111111111111111,
              "#46039f"
             ],
             [
              0.2222222222222222,
              "#7201a8"
             ],
             [
              0.3333333333333333,
              "#9c179e"
             ],
             [
              0.4444444444444444,
              "#bd3786"
             ],
             [
              0.5555555555555556,
              "#d8576b"
             ],
             [
              0.6666666666666666,
              "#ed7953"
             ],
             [
              0.7777777777777778,
              "#fb9f3a"
             ],
             [
              0.8888888888888888,
              "#fdca26"
             ],
             [
              1,
              "#f0f921"
             ]
            ],
            "type": "histogram2d"
           }
          ],
          "histogram2dcontour": [
           {
            "colorbar": {
             "outlinewidth": 0,
             "ticks": ""
            },
            "colorscale": [
             [
              0,
              "#0d0887"
             ],
             [
              0.1111111111111111,
              "#46039f"
             ],
             [
              0.2222222222222222,
              "#7201a8"
             ],
             [
              0.3333333333333333,
              "#9c179e"
             ],
             [
              0.4444444444444444,
              "#bd3786"
             ],
             [
              0.5555555555555556,
              "#d8576b"
             ],
             [
              0.6666666666666666,
              "#ed7953"
             ],
             [
              0.7777777777777778,
              "#fb9f3a"
             ],
             [
              0.8888888888888888,
              "#fdca26"
             ],
             [
              1,
              "#f0f921"
             ]
            ],
            "type": "histogram2dcontour"
           }
          ],
          "mesh3d": [
           {
            "colorbar": {
             "outlinewidth": 0,
             "ticks": ""
            },
            "type": "mesh3d"
           }
          ],
          "parcoords": [
           {
            "line": {
             "colorbar": {
              "outlinewidth": 0,
              "ticks": ""
             }
            },
            "type": "parcoords"
           }
          ],
          "pie": [
           {
            "automargin": true,
            "type": "pie"
           }
          ],
          "scatter": [
           {
            "marker": {
             "line": {
              "color": "#283442"
             }
            },
            "type": "scatter"
           }
          ],
          "scatter3d": [
           {
            "line": {
             "colorbar": {
              "outlinewidth": 0,
              "ticks": ""
             }
            },
            "marker": {
             "colorbar": {
              "outlinewidth": 0,
              "ticks": ""
             }
            },
            "type": "scatter3d"
           }
          ],
          "scattercarpet": [
           {
            "marker": {
             "colorbar": {
              "outlinewidth": 0,
              "ticks": ""
             }
            },
            "type": "scattercarpet"
           }
          ],
          "scattergeo": [
           {
            "marker": {
             "colorbar": {
              "outlinewidth": 0,
              "ticks": ""
             }
            },
            "type": "scattergeo"
           }
          ],
          "scattergl": [
           {
            "marker": {
             "line": {
              "color": "#283442"
             }
            },
            "type": "scattergl"
           }
          ],
          "scattermapbox": [
           {
            "marker": {
             "colorbar": {
              "outlinewidth": 0,
              "ticks": ""
             }
            },
            "type": "scattermapbox"
           }
          ],
          "scatterpolar": [
           {
            "marker": {
             "colorbar": {
              "outlinewidth": 0,
              "ticks": ""
             }
            },
            "type": "scatterpolar"
           }
          ],
          "scatterpolargl": [
           {
            "marker": {
             "colorbar": {
              "outlinewidth": 0,
              "ticks": ""
             }
            },
            "type": "scatterpolargl"
           }
          ],
          "scatterternary": [
           {
            "marker": {
             "colorbar": {
              "outlinewidth": 0,
              "ticks": ""
             }
            },
            "type": "scatterternary"
           }
          ],
          "surface": [
           {
            "colorbar": {
             "outlinewidth": 0,
             "ticks": ""
            },
            "colorscale": [
             [
              0,
              "#0d0887"
             ],
             [
              0.1111111111111111,
              "#46039f"
             ],
             [
              0.2222222222222222,
              "#7201a8"
             ],
             [
              0.3333333333333333,
              "#9c179e"
             ],
             [
              0.4444444444444444,
              "#bd3786"
             ],
             [
              0.5555555555555556,
              "#d8576b"
             ],
             [
              0.6666666666666666,
              "#ed7953"
             ],
             [
              0.7777777777777778,
              "#fb9f3a"
             ],
             [
              0.8888888888888888,
              "#fdca26"
             ],
             [
              1,
              "#f0f921"
             ]
            ],
            "type": "surface"
           }
          ],
          "table": [
           {
            "cells": {
             "fill": {
              "color": "#506784"
             },
             "line": {
              "color": "rgb(17,17,17)"
             }
            },
            "header": {
             "fill": {
              "color": "#2a3f5f"
             },
             "line": {
              "color": "rgb(17,17,17)"
             }
            },
            "type": "table"
           }
          ]
         },
         "layout": {
          "annotationdefaults": {
           "arrowcolor": "#f2f5fa",
           "arrowhead": 0,
           "arrowwidth": 1
          },
          "autotypenumbers": "strict",
          "coloraxis": {
           "colorbar": {
            "outlinewidth": 0,
            "ticks": ""
           }
          },
          "colorscale": {
           "diverging": [
            [
             0,
             "#8e0152"
            ],
            [
             0.1,
             "#c51b7d"
            ],
            [
             0.2,
             "#de77ae"
            ],
            [
             0.3,
             "#f1b6da"
            ],
            [
             0.4,
             "#fde0ef"
            ],
            [
             0.5,
             "#f7f7f7"
            ],
            [
             0.6,
             "#e6f5d0"
            ],
            [
             0.7,
             "#b8e186"
            ],
            [
             0.8,
             "#7fbc41"
            ],
            [
             0.9,
             "#4d9221"
            ],
            [
             1,
             "#276419"
            ]
           ],
           "sequential": [
            [
             0,
             "#0d0887"
            ],
            [
             0.1111111111111111,
             "#46039f"
            ],
            [
             0.2222222222222222,
             "#7201a8"
            ],
            [
             0.3333333333333333,
             "#9c179e"
            ],
            [
             0.4444444444444444,
             "#bd3786"
            ],
            [
             0.5555555555555556,
             "#d8576b"
            ],
            [
             0.6666666666666666,
             "#ed7953"
            ],
            [
             0.7777777777777778,
             "#fb9f3a"
            ],
            [
             0.8888888888888888,
             "#fdca26"
            ],
            [
             1,
             "#f0f921"
            ]
           ],
           "sequentialminus": [
            [
             0,
             "#0d0887"
            ],
            [
             0.1111111111111111,
             "#46039f"
            ],
            [
             0.2222222222222222,
             "#7201a8"
            ],
            [
             0.3333333333333333,
             "#9c179e"
            ],
            [
             0.4444444444444444,
             "#bd3786"
            ],
            [
             0.5555555555555556,
             "#d8576b"
            ],
            [
             0.6666666666666666,
             "#ed7953"
            ],
            [
             0.7777777777777778,
             "#fb9f3a"
            ],
            [
             0.8888888888888888,
             "#fdca26"
            ],
            [
             1,
             "#f0f921"
            ]
           ]
          },
          "colorway": [
           "#636efa",
           "#EF553B",
           "#00cc96",
           "#ab63fa",
           "#FFA15A",
           "#19d3f3",
           "#FF6692",
           "#B6E880",
           "#FF97FF",
           "#FECB52"
          ],
          "font": {
           "color": "#f2f5fa"
          },
          "geo": {
           "bgcolor": "rgb(17,17,17)",
           "lakecolor": "rgb(17,17,17)",
           "landcolor": "rgb(17,17,17)",
           "showlakes": true,
           "showland": true,
           "subunitcolor": "#506784"
          },
          "hoverlabel": {
           "align": "left"
          },
          "hovermode": "closest",
          "mapbox": {
           "style": "dark"
          },
          "paper_bgcolor": "rgb(17,17,17)",
          "plot_bgcolor": "rgb(17,17,17)",
          "polar": {
           "angularaxis": {
            "gridcolor": "#506784",
            "linecolor": "#506784",
            "ticks": ""
           },
           "bgcolor": "rgb(17,17,17)",
           "radialaxis": {
            "gridcolor": "#506784",
            "linecolor": "#506784",
            "ticks": ""
           }
          },
          "scene": {
           "xaxis": {
            "backgroundcolor": "rgb(17,17,17)",
            "gridcolor": "#506784",
            "gridwidth": 2,
            "linecolor": "#506784",
            "showbackground": true,
            "ticks": "",
            "zerolinecolor": "#C8D4E3"
           },
           "yaxis": {
            "backgroundcolor": "rgb(17,17,17)",
            "gridcolor": "#506784",
            "gridwidth": 2,
            "linecolor": "#506784",
            "showbackground": true,
            "ticks": "",
            "zerolinecolor": "#C8D4E3"
           },
           "zaxis": {
            "backgroundcolor": "rgb(17,17,17)",
            "gridcolor": "#506784",
            "gridwidth": 2,
            "linecolor": "#506784",
            "showbackground": true,
            "ticks": "",
            "zerolinecolor": "#C8D4E3"
           }
          },
          "shapedefaults": {
           "line": {
            "color": "#f2f5fa"
           }
          },
          "sliderdefaults": {
           "bgcolor": "#C8D4E3",
           "bordercolor": "rgb(17,17,17)",
           "borderwidth": 1,
           "tickwidth": 0
          },
          "ternary": {
           "aaxis": {
            "gridcolor": "#506784",
            "linecolor": "#506784",
            "ticks": ""
           },
           "baxis": {
            "gridcolor": "#506784",
            "linecolor": "#506784",
            "ticks": ""
           },
           "bgcolor": "rgb(17,17,17)",
           "caxis": {
            "gridcolor": "#506784",
            "linecolor": "#506784",
            "ticks": ""
           }
          },
          "title": {
           "x": 0.05
          },
          "updatemenudefaults": {
           "bgcolor": "#506784",
           "borderwidth": 0
          },
          "xaxis": {
           "automargin": true,
           "gridcolor": "#283442",
           "linecolor": "#506784",
           "ticks": "",
           "title": {
            "standoff": 15
           },
           "zerolinecolor": "#283442",
           "zerolinewidth": 2
          },
          "yaxis": {
           "automargin": true,
           "gridcolor": "#283442",
           "linecolor": "#506784",
           "ticks": "",
           "title": {
            "standoff": 15
           },
           "zerolinecolor": "#283442",
           "zerolinewidth": 2
          }
         }
        },
        "xaxis": {
         "anchor": "y",
         "autorange": true,
         "categoryorder": "total ascending",
         "domain": [
          0,
          1
         ],
         "range": [
          -0.5,
          20.5
         ],
         "title": {
          "text": "Level of EDUCATION"
         },
         "type": "category"
        },
        "yaxis": {
         "anchor": "x",
         "autorange": true,
         "domain": [
          0,
          1
         ],
         "range": [
          0,
          172.6315789473684
         ],
         "title": {
          "text": "NUMBER OF RESPONCES"
         }
        }
       }
      },
      "image/png": "[encoded data removed]",
      "text/html": [
       "<div>                            <div id=\"18d200ab-a062-463d-8372-f93f0285d407\" class=\"plotly-graph-div\" style=\"height:525px; width:100%;\"></div>            <script type=\"text/javascript\">                require([\"plotly\"], function(Plotly) {                    window.PLOTLYENV=window.PLOTLYENV || {};                                    if (document.getElementById(\"18d200ab-a062-463d-8372-f93f0285d407\")) {                    Plotly.newPlot(                        \"18d200ab-a062-463d-8372-f93f0285d407\",                        [{\"alignmentgroup\":\"True\",\"bingroup\":\"x\",\"hovertemplate\":\"Q13=SOMEWHAT FAVOR<br>D4=%{x}<br>count=%{y}<extra></extra>\",\"legendgroup\":\"SOMEWHAT FAVOR\",\"marker\":{\"color\":\"#636efa\",\"pattern\":{\"shape\":\"\"}},\"name\":\"SOMEWHAT FAVOR\",\"offsetgroup\":\"SOMEWHAT FAVOR\",\"orientation\":\"v\",\"showlegend\":true,\"x\":[\"TWELFTH GRADE\",\"SIX YEARS-COLLEGE\",\"FOUR YEARS-COLLEGE\",\"TWELFTH GRADE\",\"ONE YEAR-COLLEGE\",\"TWO YEARS-COLLEGE\",\"FOUR YEARS-COLLEGE\",\"TWELFTH GRADE\",\"TWELFTH GRADE\",\"EIGHTH GRADE\",\"FOUR YEARS-COLLEGE\",\"TWELFTH GRADE\",\"ONE YEAR-COLLEGE\",\"TWO YEARS-COLLEGE\",\"TWELFTH GRADE\",\"ELEVENTH GRADE\",\"TWELFTH GRADE\",\"FOUR YEARS-COLLEGE\",\"TWELFTH GRADE\",\"TWELFTH GRADE\",\"FOUR YEARS-COLLEGE\",\"TWO YEARS-COLLEGE\",\"TWELFTH GRADE\",\"TWO YEARS-COLLEGE\",\"FOUR YEARS-COLLEGE\",\"TWELFTH GRADE\",\"TWO YEARS-COLLEGE\",\"FOUR YEARS-COLLEGE\",\"FOUR YEARS-COLLEGE\",\"EIGHT YEARS-COLLEGE\",\"TWO YEARS-COLLEGE\",\"TWELFTH GRADE\",\"FOUR YEARS-COLLEGE\",\"TWELFTH GRADE\",\"FOUR YEARS-COLLEGE\",\"TWO YEARS-COLLEGE\",\"SEVEN YEARS-COLLEGE\",\"TWELFTH GRADE\",\"TWO YEARS-COLLEGE\",\"TWELFTH GRADE\",\"ONE YEAR-COLLEGE\",\"FOUR YEARS-COLLEGE\",\"TWO YEARS-COLLEGE\",\"TWELFTH GRADE\",\"TWELFTH GRADE\",\"NINTH GRADE\",\"NINTH GRADE\",\"FOUR YEARS-COLLEGE\",\"ONE YEAR-COLLEGE\",\"TWELFTH GRADE\",\"TWO YEARS-COLLEGE\",\"TWELFTH GRADE\",\"TWELFTH GRADE\",\"SIX YEARS-COLLEGE\",\"TWELFTH GRADE\",\"TWELFTH GRADE\",\"SIX YEARS-COLLEGE\",\"TWELFTH GRADE\",\"SIX YEARS-COLLEGE\",\"SIXTH GRADE\",\"TWELFTH GRADE\",\"TWELFTH GRADE\",\"TWELFTH GRADE\",\"SIX YEARS-COLLEGE\",\"TWELFTH GRADE\",\"TENTH GRADE\",\"FOUR YEARS-COLLEGE\",\"TWO YEARS-COLLEGE\",\"TWO YEARS-COLLEGE\",\"FOUR YEARS-COLLEGE\",\"EIGHT YEARS-COLLEGE\",\"TWELFTH GRADE\",\"TWO YEARS-COLLEGE\",\"EIGHT YEARS-COLLEGE\",\"THREE YEARS-COLLEGE\",\"TWO YEARS-COLLEGE\",\"ONE YEAR-COLLEGE\",\"FOUR YEARS-COLLEGE\",\"TWO YEARS-COLLEGE\",\"TEN OR MORE YEARS-COLLEGE\",\"TWO YEARS-COLLEGE\",\"TWELFTH GRADE\",\"FOUR YEARS-COLLEGE\",\"TWO YEARS-COLLEGE\",\"FOUR YEARS-COLLEGE\",\"SIX YEARS-COLLEGE\",\"TWELFTH GRADE\",\"SEVEN YEARS-COLLEGE\",\"SIX YEARS-COLLEGE\",\"THREE YEARS-COLLEGE\",\"FOUR YEARS-COLLEGE\",\"TWELFTH GRADE\",\"TWELFTH GRADE\",\"ONE YEAR-COLLEGE\",\"TWELFTH GRADE\",\"FIVE YEARS-COLLEGE\",\"TWELFTH GRADE\",\"FOUR YEARS-COLLEGE\",\"ONE YEAR-COLLEGE\",\"TWELFTH GRADE\",\"THREE YEARS-COLLEGE\",\"SIX YEARS-COLLEGE\",\"TWO YEARS-COLLEGE\",\"SIX YEARS-COLLEGE\",\"TWELFTH GRADE\",\"FOUR YEARS-COLLEGE\",\"FOUR YEARS-COLLEGE\",\"TWELFTH GRADE\",\"FOUR YEARS-COLLEGE\",\"TWELFTH GRADE\",\"TWELFTH GRADE\",\"REFUSED\",\"FOUR YEARS-COLLEGE\",\"NINE YEARS-COLLEGE\",\"TWO YEARS-COLLEGE\",\"FOUR YEARS-COLLEGE\",\"TWO YEARS-COLLEGE\",\"FOUR YEARS-COLLEGE\",\"SIX YEARS-COLLEGE\",\"TWO YEARS-COLLEGE\",\"TWELFTH GRADE\",\"TWELFTH GRADE\",\"TENTH GRADE\",\"TWELFTH GRADE\",\"ONE YEAR-COLLEGE\",\"FOUR YEARS-COLLEGE\",\"ELEVENTH GRADE\",\"TWELFTH GRADE\",\"SIXTH GRADE\",\"TWO YEARS-COLLEGE\",\"TWO YEARS-COLLEGE\",\"TWO YEARS-COLLEGE\",\"SEVEN YEARS-COLLEGE\",\"THREE YEARS-COLLEGE\",\"TWO YEARS-COLLEGE\",\"TWO YEARS-COLLEGE\",\"FOUR YEARS-COLLEGE\",\"TWO YEARS-COLLEGE\",\"FOUR YEARS-COLLEGE\",\"FOUR YEARS-COLLEGE\",\"FIVE YEARS-COLLEGE\",\"TWELFTH GRADE\",\"SEVEN YEARS-COLLEGE\",\"FIVE YEARS-COLLEGE\",\"TWELFTH GRADE\",\"TWO YEARS-COLLEGE\",\"SIX YEARS-COLLEGE\",\"TWELFTH GRADE\",\"FOUR YEARS-COLLEGE\",\"TWELFTH GRADE\",\"TEN OR MORE YEARS-COLLEGE\",\"TWELFTH GRADE\",\"ONE YEAR-COLLEGE\",\"TWO YEARS-COLLEGE\",\"FOUR YEARS-COLLEGE\",\"ELEVENTH GRADE\",\"TWELFTH GRADE\",\"TWELFTH GRADE\",\"FOUR YEARS-COLLEGE\",\"TENTH GRADE\",\"TENTH GRADE\",\"ELEVENTH GRADE\",\"TWO YEARS-COLLEGE\",\"ELEVENTH GRADE\",\"TWO YEARS-COLLEGE\",\"TWELFTH GRADE\",\"TWO YEARS-COLLEGE\",\"ONE YEAR-COLLEGE\",\"TWO YEARS-COLLEGE\",\"TWO YEARS-COLLEGE\",\"SIX YEARS-COLLEGE\",\"FOUR YEARS-COLLEGE\",\"FOUR YEARS-COLLEGE\",\"SEVEN YEARS-COLLEGE\",\"SIX YEARS-COLLEGE\",\"SIX YEARS-COLLEGE\",\"TWELFTH GRADE\",\"FOUR YEARS-COLLEGE\",\"TWO YEARS-COLLEGE\",\"TWELFTH GRADE\",\"TWELFTH GRADE\",\"TWELFTH GRADE\",\"FOUR YEARS-COLLEGE\",\"TWELFTH GRADE\",\"SEVENTH GRADE\",\"FOUR YEARS-COLLEGE\",\"ELEVENTH GRADE\",\"FOUR YEARS-COLLEGE\",\"FOUR YEARS-COLLEGE\",\"TWELFTH GRADE\",\"SIX YEARS-COLLEGE\",\"ONE YEAR-COLLEGE\",\"TWO YEARS-COLLEGE\",\"TENTH GRADE\",\"TWELFTH GRADE\",\"TWELFTH GRADE\",\"TWELFTH GRADE\",\"TWO YEARS-COLLEGE\",\"FOUR YEARS-COLLEGE\",\"TWELFTH GRADE\",\"TWO YEARS-COLLEGE\",\"FOUR YEARS-COLLEGE\",\"TWO YEARS-COLLEGE\",\"FOUR YEARS-COLLEGE\",\"FOUR YEARS-COLLEGE\",\"FOUR YEARS-COLLEGE\",\"SIXTH GRADE\",\"FIVE YEARS-COLLEGE\",\"SIXTH GRADE\",\"TWELFTH GRADE\",\"FOUR YEARS-COLLEGE\",\"TWELFTH GRADE\",\"FOUR YEARS-COLLEGE\",\"ONE YEAR-COLLEGE\",\"TWO YEARS-COLLEGE\",\"EIGHTH GRADE\",\"SIX YEARS-COLLEGE\",\"TWELFTH GRADE\",\"TWELFTH GRADE\",\"ONE YEAR-COLLEGE\",\"SIX YEARS-COLLEGE\",\"TWELFTH GRADE\",\"FOUR YEARS-COLLEGE\",\"SIX YEARS-COLLEGE\",\"FOUR YEARS-COLLEGE\",\"SIX YEARS-COLLEGE\",\"EIGHT YEARS-COLLEGE\",\"FOUR YEARS-COLLEGE\",\"TWO YEARS-COLLEGE\",\"ONE YEAR-COLLEGE\",\"THREE YEARS-COLLEGE\",\"FOUR YEARS-COLLEGE\",\"FOUR YEARS-COLLEGE\",\"TWELFTH GRADE\",\"TWO YEARS-COLLEGE\",\"TWELFTH GRADE\"],\"xaxis\":\"x\",\"yaxis\":\"y\",\"type\":\"histogram\"},{\"alignmentgroup\":\"True\",\"bingroup\":\"x\",\"hovertemplate\":\"Q13=SOMEWHAT OPPOSE<br>D4=%{x}<br>count=%{y}<extra></extra>\",\"legendgroup\":\"SOMEWHAT OPPOSE\",\"marker\":{\"color\":\"#EF553B\",\"pattern\":{\"shape\":\"\"}},\"name\":\"SOMEWHAT OPPOSE\",\"offsetgroup\":\"SOMEWHAT OPPOSE\",\"orientation\":\"v\",\"showlegend\":true,\"x\":[\"TWELFTH GRADE\",\"TWO YEARS-COLLEGE\",\"TWELFTH GRADE\",\"FOUR YEARS-COLLEGE\",\"TWO YEARS-COLLEGE\",\"TWELFTH GRADE\",\"FOUR YEARS-COLLEGE\",\"FOUR YEARS-COLLEGE\",\"ONE YEAR-COLLEGE\",\"FIVE YEARS-COLLEGE\",\"TWO YEARS-COLLEGE\",\"EIGHT YEARS-COLLEGE\",\"TENTH GRADE\",\"SIX YEARS-COLLEGE\",\"SEVEN YEARS-COLLEGE\",\"FOUR YEARS-COLLEGE\",\"FOUR YEARS-COLLEGE\",\"SIX YEARS-COLLEGE\",\"TWELFTH GRADE\",\"TWELFTH GRADE\",\"TWO YEARS-COLLEGE\",\"FOUR YEARS-COLLEGE\",\"SEVENTH GRADE\",\"THREE YEARS-COLLEGE\",\"FOUR YEARS-COLLEGE\",\"TWELFTH GRADE\",\"TWELFTH GRADE\",\"ELEVENTH GRADE\",\"TWELFTH GRADE\",\"TENTH GRADE\",\"TWELFTH GRADE\",\"TWO YEARS-COLLEGE\",\"TENTH GRADE\",\"TWO YEARS-COLLEGE\",\"TWO YEARS-COLLEGE\",\"TWO YEARS-COLLEGE\",\"TWO YEARS-COLLEGE\",\"FIVE YEARS-COLLEGE\",\"EIGHT YEARS-COLLEGE\",\"SIX YEARS-COLLEGE\",\"TWELFTH GRADE\",\"FOUR YEARS-COLLEGE\",\"TWELFTH GRADE\",\"FIFTH GRADE\",\"TWELFTH GRADE\",\"ONE YEAR-COLLEGE\",\"FOUR YEARS-COLLEGE\",\"TWO YEARS-COLLEGE\",\"TWO YEARS-COLLEGE\",\"TWELFTH GRADE\",\"THREE YEARS-COLLEGE\",\"FOUR YEARS-COLLEGE\",\"SIX YEARS-COLLEGE\",\"TWO YEARS-COLLEGE\",\"TWO YEARS-COLLEGE\",\"FOUR YEARS-COLLEGE\",\"ONE YEAR-COLLEGE\",\"ONE YEAR-COLLEGE\",\"TWELFTH GRADE\",\"SIX YEARS-COLLEGE\",\"THREE YEARS-COLLEGE\",\"TWELFTH GRADE\",\"TWELFTH GRADE\",\"TEN OR MORE YEARS-COLLEGE\",\"TWO YEARS-COLLEGE\",\"EIGHT YEARS-COLLEGE\",\"TWO YEARS-COLLEGE\",\"FOUR YEARS-COLLEGE\",\"TWELFTH GRADE\",\"TWELFTH GRADE\",\"TWO YEARS-COLLEGE\",\"TWELFTH GRADE\",\"ONE YEAR-COLLEGE\",\"TWO YEARS-COLLEGE\",\"TWELFTH GRADE\",\"ONE YEAR-COLLEGE\",\"FOUR YEARS-COLLEGE\",\"TWELFTH GRADE\",\"FOUR YEARS-COLLEGE\",\"THREE YEARS-COLLEGE\",\"TWELFTH GRADE\",\"TWELFTH GRADE\",\"ONE YEAR-COLLEGE\",\"FOUR YEARS-COLLEGE\",\"FOUR YEARS-COLLEGE\",\"ONE YEAR-COLLEGE\",\"TWELFTH GRADE\",\"TWELFTH GRADE\",\"FOUR YEARS-COLLEGE\",\"SIX YEARS-COLLEGE\",\"NINTH GRADE\",\"FOUR YEARS-COLLEGE\",\"TWO YEARS-COLLEGE\",\"SIX YEARS-COLLEGE\",\"SIX YEARS-COLLEGE\",\"TWELFTH GRADE\",\"DO NOT KNOW\",\"TWO YEARS-COLLEGE\",\"GED\",\"FOUR YEARS-COLLEGE\",\"SIX YEARS-COLLEGE\",\"TWELFTH GRADE\",\"TWELFTH GRADE\",\"TWO YEARS-COLLEGE\",\"FOUR YEARS-COLLEGE\",\"THREE YEARS-COLLEGE\",\"SIX YEARS-COLLEGE\",\"TWELFTH GRADE\",\"SIX YEARS-COLLEGE\",\"TWELFTH GRADE\",\"FIVE YEARS-COLLEGE\",\"FOUR YEARS-COLLEGE\",\"SIX YEARS-COLLEGE\",\"TWELFTH GRADE\",\"TWELFTH GRADE\",\"ONE YEAR-COLLEGE\"],\"xaxis\":\"x\",\"yaxis\":\"y\",\"type\":\"histogram\"},{\"alignmentgroup\":\"True\",\"bingroup\":\"x\",\"hovertemplate\":\"Q13=STRONGLY FAVOR<br>D4=%{x}<br>count=%{y}<extra></extra>\",\"legendgroup\":\"STRONGLY FAVOR\",\"marker\":{\"color\":\"#00cc96\",\"pattern\":{\"shape\":\"\"}},\"name\":\"STRONGLY FAVOR\",\"offsetgroup\":\"STRONGLY FAVOR\",\"orientation\":\"v\",\"showlegend\":true,\"x\":[\"TWO YEARS-COLLEGE\",\"TWO YEARS-COLLEGE\",\"FOUR YEARS-COLLEGE\",\"TWELFTH GRADE\",\"TWELFTH GRADE\",\"TENTH GRADE\",\"SIX YEARS-COLLEGE\",\"TWELFTH GRADE\",\"TWELFTH GRADE\",\"TWO YEARS-COLLEGE\",\"FOUR YEARS-COLLEGE\",\"EIGHT YEARS-COLLEGE\",\"TWO YEARS-COLLEGE\",\"TWELFTH GRADE\",\"SIX YEARS-COLLEGE\",\"TWELFTH GRADE\",\"TWO YEARS-COLLEGE\",\"FOUR YEARS-COLLEGE\",\"FOUR YEARS-COLLEGE\",\"FOUR YEARS-COLLEGE\",\"FOUR YEARS-COLLEGE\",\"TWELFTH GRADE\",\"FOUR YEARS-COLLEGE\",\"TWELFTH GRADE\",\"TWELFTH GRADE\",\"SIX YEARS-COLLEGE\",\"REFUSED\",\"ELEVENTH GRADE\",\"TWELFTH GRADE\",\"TWO YEARS-COLLEGE\",\"TWO YEARS-COLLEGE\",\"TWELFTH GRADE\",\"FOUR YEARS-COLLEGE\",\"SIX YEARS-COLLEGE\",\"TWO YEARS-COLLEGE\",\"TWELFTH GRADE\",\"FOUR YEARS-COLLEGE\",\"TWELFTH GRADE\",\"SIX YEARS-COLLEGE\",\"TEN OR MORE YEARS-COLLEGE\",\"TWELFTH GRADE\",\"EIGHT YEARS-COLLEGE\",\"SIX YEARS-COLLEGE\",\"FOUR YEARS-COLLEGE\",\"FOUR YEARS-COLLEGE\",\"THREE YEARS-COLLEGE\",\"TWO YEARS-COLLEGE\",\"FOUR YEARS-COLLEGE\",\"FOUR YEARS-COLLEGE\",\"THREE YEARS-COLLEGE\",\"TWO YEARS-COLLEGE\",\"FOUR YEARS-COLLEGE\",\"TWO YEARS-COLLEGE\",\"FOUR YEARS-COLLEGE\",\"TEN OR MORE YEARS-COLLEGE\",\"TWELFTH GRADE\",\"SIX YEARS-COLLEGE\",\"TWELFTH GRADE\",\"SIX YEARS-COLLEGE\",\"SIX YEARS-COLLEGE\",\"ONE YEAR-COLLEGE\",\"FOUR YEARS-COLLEGE\",\"TWO YEARS-COLLEGE\",\"ELEVENTH GRADE\",\"TWO YEARS-COLLEGE\",\"TWELFTH GRADE\",\"SIX YEARS-COLLEGE\",\"SIX YEARS-COLLEGE\",\"TWO YEARS-COLLEGE\",\"TWO YEARS-COLLEGE\",\"THREE YEARS-COLLEGE\",\"FOUR YEARS-COLLEGE\",\"TWELFTH GRADE\",\"TWO YEARS-COLLEGE\",\"ONE YEAR-COLLEGE\",\"FOUR YEARS-COLLEGE\",\"TWELFTH GRADE\",\"FOUR YEARS-COLLEGE\",\"TWELFTH GRADE\",\"ONE YEAR-COLLEGE\",\"TWO YEARS-COLLEGE\",\"TWELFTH GRADE\",\"FOUR YEARS-COLLEGE\",\"THREE YEARS-COLLEGE\",\"TEN OR MORE YEARS-COLLEGE\",\"FOUR YEARS-COLLEGE\",\"FOUR YEARS-COLLEGE\",\"ONE YEAR-COLLEGE\",\"TWO YEARS-COLLEGE\",\"FOUR YEARS-COLLEGE\",\"FOUR YEARS-COLLEGE\",\"TWELFTH GRADE\",\"ONE YEAR-COLLEGE\",\"FOUR YEARS-COLLEGE\",\"FOUR YEARS-COLLEGE\",\"TWELFTH GRADE\",\"NINE YEARS-COLLEGE\",\"TWO YEARS-COLLEGE\",\"FOUR YEARS-COLLEGE\",\"TENTH GRADE\",\"FOUR YEARS-COLLEGE\",\"TEN OR MORE YEARS-COLLEGE\",\"FOUR YEARS-COLLEGE\",\"FOUR YEARS-COLLEGE\",\"FOUR YEARS-COLLEGE\",\"TWO YEARS-COLLEGE\",\"THREE YEARS-COLLEGE\",\"TWELFTH GRADE\",\"TWELFTH GRADE\",\"TWO YEARS-COLLEGE\",\"ONE YEAR-COLLEGE\",\"TWELFTH GRADE\",\"FIVE YEARS-COLLEGE\",\"SIX YEARS-COLLEGE\",\"SIX YEARS-COLLEGE\",\"TWELFTH GRADE\",\"FOUR YEARS-COLLEGE\",\"FOUR YEARS-COLLEGE\",\"TWELFTH GRADE\",\"FOUR YEARS-COLLEGE\",\"TWELFTH GRADE\",\"FIVE YEARS-COLLEGE\",\"FOUR YEARS-COLLEGE\",\"FOUR YEARS-COLLEGE\",\"TWO YEARS-COLLEGE\",\"ONE YEAR-COLLEGE\",\"FOUR YEARS-COLLEGE\",\"TWELFTH GRADE\",\"FOUR YEARS-COLLEGE\",\"ONE YEAR-COLLEGE\",\"TWO YEARS-COLLEGE\",\"SIX YEARS-COLLEGE\",\"SIX YEARS-COLLEGE\",\"TWO YEARS-COLLEGE\",\"TWELFTH GRADE\",\"TWELFTH GRADE\",\"FOUR YEARS-COLLEGE\",\"TWELFTH GRADE\",\"TEN OR MORE YEARS-COLLEGE\",\"SIX YEARS-COLLEGE\",\"THREE YEARS-COLLEGE\",\"TEN OR MORE YEARS-COLLEGE\",\"FOUR YEARS-COLLEGE\",\"FOUR YEARS-COLLEGE\",\"FIVE YEARS-COLLEGE\",\"TWELFTH GRADE\",\"TWELFTH GRADE\",\"ONE YEAR-COLLEGE\",\"FOUR YEARS-COLLEGE\",\"TWO YEARS-COLLEGE\",\"FOUR YEARS-COLLEGE\",\"SIX YEARS-COLLEGE\",\"TWELFTH GRADE\",\"TWELFTH GRADE\",\"TWO YEARS-COLLEGE\",\"TWO YEARS-COLLEGE\",\"ONE YEAR-COLLEGE\",\"FOUR YEARS-COLLEGE\",\"TWO YEARS-COLLEGE\",\"SIX YEARS-COLLEGE\",\"FOUR YEARS-COLLEGE\",\"FOUR YEARS-COLLEGE\",\"TWELFTH GRADE\",\"TWO YEARS-COLLEGE\",\"SIX YEARS-COLLEGE\",\"FOUR YEARS-COLLEGE\",\"FOUR YEARS-COLLEGE\",\"SIX YEARS-COLLEGE\",\"TWO YEARS-COLLEGE\",\"TWELFTH GRADE\",\"TWELFTH GRADE\",\"FOUR YEARS-COLLEGE\",\"SIX YEARS-COLLEGE\",\"EIGHT YEARS-COLLEGE\",\"FOUR YEARS-COLLEGE\",\"TEN OR MORE YEARS-COLLEGE\"],\"xaxis\":\"x\",\"yaxis\":\"y\",\"type\":\"histogram\"},{\"alignmentgroup\":\"True\",\"bingroup\":\"x\",\"hovertemplate\":\"Q13=DO NOT KNOW<br>D4=%{x}<br>count=%{y}<extra></extra>\",\"legendgroup\":\"DO NOT KNOW\",\"marker\":{\"color\":\"#ab63fa\",\"pattern\":{\"shape\":\"\"}},\"name\":\"DO NOT KNOW\",\"offsetgroup\":\"DO NOT KNOW\",\"orientation\":\"v\",\"showlegend\":true,\"x\":[\"FOUR YEARS-COLLEGE\",\"TWO YEARS-COLLEGE\",\"TWELFTH GRADE\",\"ONE YEAR-COLLEGE\",\"ONE YEAR-COLLEGE\",\"REFUSED\",\"TWELFTH GRADE\",\"FOUR YEARS-COLLEGE\",\"TWELFTH GRADE\",\"TWELFTH GRADE\",\"ONE YEAR-COLLEGE\",\"TWELFTH GRADE\",\"FOUR YEARS-COLLEGE\",\"TWELFTH GRADE\",\"FIVE YEARS-COLLEGE\",\"TWO YEARS-COLLEGE\",\"SIX YEARS-COLLEGE\"],\"xaxis\":\"x\",\"yaxis\":\"y\",\"type\":\"histogram\"},{\"alignmentgroup\":\"True\",\"bingroup\":\"x\",\"hovertemplate\":\"Q13=STRONGLY OPPOSE<br>D4=%{x}<br>count=%{y}<extra></extra>\",\"legendgroup\":\"STRONGLY OPPOSE\",\"marker\":{\"color\":\"#FFA15A\",\"pattern\":{\"shape\":\"\"}},\"name\":\"STRONGLY OPPOSE\",\"offsetgroup\":\"STRONGLY OPPOSE\",\"orientation\":\"v\",\"showlegend\":true,\"x\":[\"TWELFTH GRADE\",\"TWELFTH GRADE\",\"SIX YEARS-COLLEGE\",\"TWELFTH GRADE\",\"THREE YEARS-COLLEGE\",\"ONE YEAR-COLLEGE\",\"ONE YEAR-COLLEGE\",\"FIVE YEARS-COLLEGE\",\"TWELFTH GRADE\",\"FOUR YEARS-COLLEGE\",\"TWO YEARS-COLLEGE\",\"TWELFTH GRADE\",\"TWO YEARS-COLLEGE\",\"SIX YEARS-COLLEGE\",\"NINTH GRADE\",\"FOUR YEARS-COLLEGE\",\"TWO YEARS-COLLEGE\",\"ELEVENTH GRADE\",\"TWO YEARS-COLLEGE\",\"TWELFTH GRADE\",\"TWELFTH GRADE\",\"TWO YEARS-COLLEGE\",\"TWO YEARS-COLLEGE\",\"SIX YEARS-COLLEGE\",\"TWO YEARS-COLLEGE\",\"TWO YEARS-COLLEGE\",\"FOUR YEARS-COLLEGE\",\"FOUR YEARS-COLLEGE\",\"TWELFTH GRADE\",\"TWELFTH GRADE\",\"ONE YEAR-COLLEGE\",\"TWELFTH GRADE\",\"EIGHT YEARS-COLLEGE\",\"TWELFTH GRADE\",\"TWELFTH GRADE\",\"FOUR YEARS-COLLEGE\",\"FOUR YEARS-COLLEGE\",\"EIGHT YEARS-COLLEGE\",\"TWO YEARS-COLLEGE\",\"FIVE YEARS-COLLEGE\",\"FOUR YEARS-COLLEGE\",\"ONE YEAR-COLLEGE\",\"FOUR YEARS-COLLEGE\",\"ELEVENTH GRADE\",\"THREE YEARS-COLLEGE\",\"TWELFTH GRADE\",\"FOUR YEARS-COLLEGE\",\"THREE YEARS-COLLEGE\",\"FOUR YEARS-COLLEGE\",\"FOUR YEARS-COLLEGE\",\"ELEVENTH GRADE\",\"FOUR YEARS-COLLEGE\",\"FOUR YEARS-COLLEGE\",\"TWELFTH GRADE\",\"TWELFTH GRADE\",\"TWELFTH GRADE\",\"NINTH GRADE\",\"FOUR YEARS-COLLEGE\",\"TWELFTH GRADE\",\"TWO YEARS-COLLEGE\",\"TWELFTH GRADE\"],\"xaxis\":\"x\",\"yaxis\":\"y\",\"type\":\"histogram\"}],                        {\"template\":{\"data\":{\"barpolar\":[{\"marker\":{\"line\":{\"color\":\"rgb(17,17,17)\",\"width\":0.5},\"pattern\":{\"fillmode\":\"overlay\",\"size\":10,\"solidity\":0.2}},\"type\":\"barpolar\"}],\"bar\":[{\"error_x\":{\"color\":\"#f2f5fa\"},\"error_y\":{\"color\":\"#f2f5fa\"},\"marker\":{\"line\":{\"color\":\"rgb(17,17,17)\",\"width\":0.5},\"pattern\":{\"fillmode\":\"overlay\",\"size\":10,\"solidity\":0.2}},\"type\":\"bar\"}],\"carpet\":[{\"aaxis\":{\"endlinecolor\":\"#A2B1C6\",\"gridcolor\":\"#506784\",\"linecolor\":\"#506784\",\"minorgridcolor\":\"#506784\",\"startlinecolor\":\"#A2B1C6\"},\"baxis\":{\"endlinecolor\":\"#A2B1C6\",\"gridcolor\":\"#506784\",\"linecolor\":\"#506784\",\"minorgridcolor\":\"#506784\",\"startlinecolor\":\"#A2B1C6\"},\"type\":\"carpet\"}],\"choropleth\":[{\"colorbar\":{\"outlinewidth\":0,\"ticks\":\"\"},\"type\":\"choropleth\"}],\"contourcarpet\":[{\"colorbar\":{\"outlinewidth\":0,\"ticks\":\"\"},\"type\":\"contourcarpet\"}],\"contour\":[{\"colorbar\":{\"outlinewidth\":0,\"ticks\":\"\"},\"colorscale\":[[0.0,\"#0d0887\"],[0.1111111111111111,\"#46039f\"],[0.2222222222222222,\"#7201a8\"],[0.3333333333333333,\"#9c179e\"],[0.4444444444444444,\"#bd3786\"],[0.5555555555555556,\"#d8576b\"],[0.6666666666666666,\"#ed7953\"],[0.7777777777777778,\"#fb9f3a\"],[0.8888888888888888,\"#fdca26\"],[1.0,\"#f0f921\"]],\"type\":\"contour\"}],\"heatmapgl\":[{\"colorbar\":{\"outlinewidth\":0,\"ticks\":\"\"},\"colorscale\":[[0.0,\"#0d0887\"],[0.1111111111111111,\"#46039f\"],[0.2222222222222222,\"#7201a8\"],[0.3333333333333333,\"#9c179e\"],[0.4444444444444444,\"#bd3786\"],[0.5555555555555556,\"#d8576b\"],[0.6666666666666666,\"#ed7953\"],[0.7777777777777778,\"#fb9f3a\"],[0.8888888888888888,\"#fdca26\"],[1.0,\"#f0f921\"]],\"type\":\"heatmapgl\"}],\"heatmap\":[{\"colorbar\":{\"outlinewidth\":0,\"ticks\":\"\"},\"colorscale\":[[0.0,\"#0d0887\"],[0.1111111111111111,\"#46039f\"],[0.2222222222222222,\"#7201a8\"],[0.3333333333333333,\"#9c179e\"],[0.4444444444444444,\"#bd3786\"],[0.5555555555555556,\"#d8576b\"],[0.6666666666666666,\"#ed7953\"],[0.7777777777777778,\"#fb9f3a\"],[0.8888888888888888,\"#fdca26\"],[1.0,\"#f0f921\"]],\"type\":\"heatmap\"}],\"histogram2dcontour\":[{\"colorbar\":{\"outlinewidth\":0,\"ticks\":\"\"},\"colorscale\":[[0.0,\"#0d0887\"],[0.1111111111111111,\"#46039f\"],[0.2222222222222222,\"#7201a8\"],[0.3333333333333333,\"#9c179e\"],[0.4444444444444444,\"#bd3786\"],[0.5555555555555556,\"#d8576b\"],[0.6666666666666666,\"#ed7953\"],[0.7777777777777778,\"#fb9f3a\"],[0.8888888888888888,\"#fdca26\"],[1.0,\"#f0f921\"]],\"type\":\"histogram2dcontour\"}],\"histogram2d\":[{\"colorbar\":{\"outlinewidth\":0,\"ticks\":\"\"},\"colorscale\":[[0.0,\"#0d0887\"],[0.1111111111111111,\"#46039f\"],[0.2222222222222222,\"#7201a8\"],[0.3333333333333333,\"#9c179e\"],[0.4444444444444444,\"#bd3786\"],[0.5555555555555556,\"#d8576b\"],[0.6666666666666666,\"#ed7953\"],[0.7777777777777778,\"#fb9f3a\"],[0.8888888888888888,\"#fdca26\"],[1.0,\"#f0f921\"]],\"type\":\"histogram2d\"}],\"histogram\":[{\"marker\":{\"pattern\":{\"fillmode\":\"overlay\",\"size\":10,\"solidity\":0.2}},\"type\":\"histogram\"}],\"mesh3d\":[{\"colorbar\":{\"outlinewidth\":0,\"ticks\":\"\"},\"type\":\"mesh3d\"}],\"parcoords\":[{\"line\":{\"colorbar\":{\"outlinewidth\":0,\"ticks\":\"\"}},\"type\":\"parcoords\"}],\"pie\":[{\"automargin\":true,\"type\":\"pie\"}],\"scatter3d\":[{\"line\":{\"colorbar\":{\"outlinewidth\":0,\"ticks\":\"\"}},\"marker\":{\"colorbar\":{\"outlinewidth\":0,\"ticks\":\"\"}},\"type\":\"scatter3d\"}],\"scattercarpet\":[{\"marker\":{\"colorbar\":{\"outlinewidth\":0,\"ticks\":\"\"}},\"type\":\"scattercarpet\"}],\"scattergeo\":[{\"marker\":{\"colorbar\":{\"outlinewidth\":0,\"ticks\":\"\"}},\"type\":\"scattergeo\"}],\"scattergl\":[{\"marker\":{\"line\":{\"color\":\"#283442\"}},\"type\":\"scattergl\"}],\"scattermapbox\":[{\"marker\":{\"colorbar\":{\"outlinewidth\":0,\"ticks\":\"\"}},\"type\":\"scattermapbox\"}],\"scatterpolargl\":[{\"marker\":{\"colorbar\":{\"outlinewidth\":0,\"ticks\":\"\"}},\"type\":\"scatterpolargl\"}],\"scatterpolar\":[{\"marker\":{\"colorbar\":{\"outlinewidth\":0,\"ticks\":\"\"}},\"type\":\"scatterpolar\"}],\"scatter\":[{\"marker\":{\"line\":{\"color\":\"#283442\"}},\"type\":\"scatter\"}],\"scatterternary\":[{\"marker\":{\"colorbar\":{\"outlinewidth\":0,\"ticks\":\"\"}},\"type\":\"scatterternary\"}],\"surface\":[{\"colorbar\":{\"outlinewidth\":0,\"ticks\":\"\"},\"colorscale\":[[0.0,\"#0d0887\"],[0.1111111111111111,\"#46039f\"],[0.2222222222222222,\"#7201a8\"],[0.3333333333333333,\"#9c179e\"],[0.4444444444444444,\"#bd3786\"],[0.5555555555555556,\"#d8576b\"],[0.6666666666666666,\"#ed7953\"],[0.7777777777777778,\"#fb9f3a\"],[0.8888888888888888,\"#fdca26\"],[1.0,\"#f0f921\"]],\"type\":\"surface\"}],\"table\":[{\"cells\":{\"fill\":{\"color\":\"#506784\"},\"line\":{\"color\":\"rgb(17,17,17)\"}},\"header\":{\"fill\":{\"color\":\"#2a3f5f\"},\"line\":{\"color\":\"rgb(17,17,17)\"}},\"type\":\"table\"}]},\"layout\":{\"annotationdefaults\":{\"arrowcolor\":\"#f2f5fa\",\"arrowhead\":0,\"arrowwidth\":1},\"autotypenumbers\":\"strict\",\"coloraxis\":{\"colorbar\":{\"outlinewidth\":0,\"ticks\":\"\"}},\"colorscale\":{\"diverging\":[[0,\"#8e0152\"],[0.1,\"#c51b7d\"],[0.2,\"#de77ae\"],[0.3,\"#f1b6da\"],[0.4,\"#fde0ef\"],[0.5,\"#f7f7f7\"],[0.6,\"#e6f5d0\"],[0.7,\"#b8e186\"],[0.8,\"#7fbc41\"],[0.9,\"#4d9221\"],[1,\"#276419\"]],\"sequential\":[[0.0,\"#0d0887\"],[0.1111111111111111,\"#46039f\"],[0.2222222222222222,\"#7201a8\"],[0.3333333333333333,\"#9c179e\"],[0.4444444444444444,\"#bd3786\"],[0.5555555555555556,\"#d8576b\"],[0.6666666666666666,\"#ed7953\"],[0.7777777777777778,\"#fb9f3a\"],[0.8888888888888888,\"#fdca26\"],[1.0,\"#f0f921\"]],\"sequentialminus\":[[0.0,\"#0d0887\"],[0.1111111111111111,\"#46039f\"],[0.2222222222222222,\"#7201a8\"],[0.3333333333333333,\"#9c179e\"],[0.4444444444444444,\"#bd3786\"],[0.5555555555555556,\"#d8576b\"],[0.6666666666666666,\"#ed7953\"],[0.7777777777777778,\"#fb9f3a\"],[0.8888888888888888,\"#fdca26\"],[1.0,\"#f0f921\"]]},\"colorway\":[\"#636efa\",\"#EF553B\",\"#00cc96\",\"#ab63fa\",\"#FFA15A\",\"#19d3f3\",\"#FF6692\",\"#B6E880\",\"#FF97FF\",\"#FECB52\"],\"font\":{\"color\":\"#f2f5fa\"},\"geo\":{\"bgcolor\":\"rgb(17,17,17)\",\"lakecolor\":\"rgb(17,17,17)\",\"landcolor\":\"rgb(17,17,17)\",\"showlakes\":true,\"showland\":true,\"subunitcolor\":\"#506784\"},\"hoverlabel\":{\"align\":\"left\"},\"hovermode\":\"closest\",\"mapbox\":{\"style\":\"dark\"},\"paper_bgcolor\":\"rgb(17,17,17)\",\"plot_bgcolor\":\"rgb(17,17,17)\",\"polar\":{\"angularaxis\":{\"gridcolor\":\"#506784\",\"linecolor\":\"#506784\",\"ticks\":\"\"},\"bgcolor\":\"rgb(17,17,17)\",\"radialaxis\":{\"gridcolor\":\"#506784\",\"linecolor\":\"#506784\",\"ticks\":\"\"}},\"scene\":{\"xaxis\":{\"backgroundcolor\":\"rgb(17,17,17)\",\"gridcolor\":\"#506784\",\"gridwidth\":2,\"linecolor\":\"#506784\",\"showbackground\":true,\"ticks\":\"\",\"zerolinecolor\":\"#C8D4E3\"},\"yaxis\":{\"backgroundcolor\":\"rgb(17,17,17)\",\"gridcolor\":\"#506784\",\"gridwidth\":2,\"linecolor\":\"#506784\",\"showbackground\":true,\"ticks\":\"\",\"zerolinecolor\":\"#C8D4E3\"},\"zaxis\":{\"backgroundcolor\":\"rgb(17,17,17)\",\"gridcolor\":\"#506784\",\"gridwidth\":2,\"linecolor\":\"#506784\",\"showbackground\":true,\"ticks\":\"\",\"zerolinecolor\":\"#C8D4E3\"}},\"shapedefaults\":{\"line\":{\"color\":\"#f2f5fa\"}},\"sliderdefaults\":{\"bgcolor\":\"#C8D4E3\",\"bordercolor\":\"rgb(17,17,17)\",\"borderwidth\":1,\"tickwidth\":0},\"ternary\":{\"aaxis\":{\"gridcolor\":\"#506784\",\"linecolor\":\"#506784\",\"ticks\":\"\"},\"baxis\":{\"gridcolor\":\"#506784\",\"linecolor\":\"#506784\",\"ticks\":\"\"},\"bgcolor\":\"rgb(17,17,17)\",\"caxis\":{\"gridcolor\":\"#506784\",\"linecolor\":\"#506784\",\"ticks\":\"\"}},\"title\":{\"x\":0.05},\"updatemenudefaults\":{\"bgcolor\":\"#506784\",\"borderwidth\":0},\"xaxis\":{\"automargin\":true,\"gridcolor\":\"#283442\",\"linecolor\":\"#506784\",\"ticks\":\"\",\"title\":{\"standoff\":15},\"zerolinecolor\":\"#283442\",\"zerolinewidth\":2},\"yaxis\":{\"automargin\":true,\"gridcolor\":\"#283442\",\"linecolor\":\"#506784\",\"ticks\":\"\",\"title\":{\"standoff\":15},\"zerolinecolor\":\"#283442\",\"zerolinewidth\":2}}},\"xaxis\":{\"anchor\":\"y\",\"domain\":[0.0,1.0],\"title\":{\"text\":\"Level of EDUCATION\"},\"categoryorder\":\"total ascending\"},\"yaxis\":{\"anchor\":\"x\",\"domain\":[0.0,1.0],\"title\":{\"text\":\"NUMBER OF RESPONCES\"}},\"legend\":{\"title\":{\"text\":\"FAVOR OR OPPOSE EXPANDING NUCLEAR PLANTS\"},\"tracegroupgap\":0},\"margin\":{\"t\":60},\"barmode\":\"relative\"},                        {\"responsive\": true}                    ).then(function(){\n",
       "                            \n",
       "var gd = document.getElementById('18d200ab-a062-463d-8372-f93f0285d407');\n",
       "var x = new MutationObserver(function (mutations, observer) {{\n",
       "        var display = window.getComputedStyle(gd).display;\n",
       "        if (!display || display === 'none') {{\n",
       "            console.log([gd, 'removed!']);\n",
       "            Plotly.purge(gd);\n",
       "            observer.disconnect();\n",
       "        }}\n",
       "}});\n",
       "\n",
       "// Listen for the removal of the full notebook cells\n",
       "var notebookContainer = gd.closest('#notebook-container');\n",
       "if (notebookContainer) {{\n",
       "    x.observe(notebookContainer, {childList: true});\n",
       "}}\n",
       "\n",
       "// Listen for the clearing of the current output cell\n",
       "var outputEl = gd.closest('.output');\n",
       "if (outputEl) {{\n",
       "    x.observe(outputEl, {childList: true});\n",
       "}}\n",
       "\n",
       "                        })                };                });            </script>        </div>"
      ]
     },
     "metadata": {},
     "output_type": "display_data"
    }
   ],
   "source": [
    "# D4: EDUCATION\n",
    "# Q13: FAVOR OR OPPOSE EXPANDING NUCLEAR PLANT IN THE MIDLANDS OF SC\n",
    "\n",
    "fig = px.histogram(df_IC, x=\"Q13\", color=\"D4\", template='plotly_dark').update_xaxes(categoryorder='total ascending').update_layout(\n",
    "xaxis_title=\"FAVOR OR OPPOSE EXPANDING NUCLEAR PLANTS\", yaxis_title=\"NUMBER OF RESPONCES\", legend_title=\"Level of EDUCATION\",\n",
    ")\n",
    "fig.show()"
   ]
  },
  {
   "cell_type": "code",
   "execution_count": 26,
   "id": "a133c563-b261-42df-8433-6f5a578a89e6",
   "metadata": {},
   "outputs": [
    {
     "data": {
      "application/vnd.plotly.v1+json": {
       "config": {
        "plotlyServerURL": "https://plot.ly"
       },
       "data": [
        {
         "alignmentgroup": "True",
         "bingroup": "x",
         "hovertemplate": "Q13=SOMEWHAT FAVOR<br>D6=%{x}<br>count=%{y}<extra></extra>",
         "legendgroup": "SOMEWHAT FAVOR",
         "marker": {
          "color": "#636efa",
          "pattern": {
           "shape": ""
          }
         },
         "name": "SOMEWHAT FAVOR",
         "offsetgroup": "SOMEWHAT FAVOR",
         "orientation": "v",
         "showlegend": true,
         "type": "histogram",
         "x": [
          "WHITE",
          "WHITE",
          "WHITE",
          "WHITE",
          "WHITE",
          "WHITE",
          "WHITE",
          "WHITE",
          "WHITE",
          "WHITE",
          "WHITE",
          "WHITE",
          "BLACK OR AFRICAN-AMERICAN",
          "WHITE",
          "WHITE",
          "WHITE",
          "BLACK OR AFRICAN-AMERICAN",
          "BLACK OR AFRICAN-AMERICAN",
          "BLACK OR AFRICAN-AMERICAN",
          "BLACK OR AFRICAN-AMERICAN",
          "WHITE",
          "WHITE",
          "WHITE",
          "WHITE",
          "WHITE",
          "WHITE",
          "WHITE",
          "WHITE",
          "WHITE",
          "WHITE",
          "WHITE",
          "BLACK OR AFRICAN-AMERICAN",
          "WHITE",
          "WHITE",
          "WHITE",
          "WHITE",
          "WHITE",
          "WHITE",
          "WHITE",
          "BLACK OR AFRICAN-AMERICAN",
          "WHITE",
          "WHITE",
          "WHITE",
          "WHITE",
          "BLACK OR AFRICAN-AMERICAN",
          "WHITE",
          "WHITE",
          "WHITE",
          "WHITE",
          "WHITE",
          "WHITE",
          "WHITE",
          "BLACK OR AFRICAN-AMERICAN",
          "BLACK OR AFRICAN-AMERICAN",
          "BLACK OR AFRICAN-AMERICAN",
          "WHITE",
          "BLACK OR AFRICAN-AMERICAN",
          "BLACK OR AFRICAN-AMERICAN",
          "WHITE",
          "BLACK OR AFRICAN-AMERICAN",
          "WHITE",
          "WHITE",
          "WHITE",
          "WHITE",
          "BLACK OR AFRICAN-AMERICAN",
          "WHITE",
          "OTHER",
          "WHITE",
          "WHITE",
          "WHITE",
          "WHITE",
          "BLACK OR AFRICAN-AMERICAN",
          "WHITE",
          "WHITE",
          "WHITE",
          "WHITE",
          "BLACK OR AFRICAN-AMERICAN",
          "WHITE",
          "WHITE",
          "WHITE",
          "WHITE",
          "WHITE",
          "WHITE",
          "WHITE",
          "BLACK OR AFRICAN-AMERICAN",
          "WHITE",
          "BLACK OR AFRICAN-AMERICAN",
          "WHITE",
          "WHITE",
          "WHITE",
          "WHITE",
          "BLACK OR AFRICAN-AMERICAN",
          "WHITE",
          "WHITE",
          "WHITE",
          "WHITE",
          "WHITE",
          "BLACK OR AFRICAN-AMERICAN",
          "WHITE",
          "WHITE",
          "WHITE",
          "WHITE",
          "WHITE",
          "WHITE",
          "HISPANIC",
          "BLACK OR AFRICAN-AMERICAN",
          "WHITE",
          "WHITE",
          "WHITE",
          "WHITE",
          "BLACK OR AFRICAN-AMERICAN",
          "NA OR REFUSED",
          "WHITE",
          "WHITE",
          "WHITE",
          "WHITE",
          "WHITE",
          "WHITE",
          "WHITE",
          "WHITE",
          "WHITE",
          "WHITE",
          "BLACK OR AFRICAN-AMERICAN",
          "WHITE",
          "WHITE",
          "WHITE",
          "WHITE",
          "WHITE",
          "WHITE",
          "WHITE",
          "WHITE",
          "BLACK OR AFRICAN-AMERICAN",
          "WHITE",
          "WHITE",
          "WHITE",
          "WHITE",
          "WHITE",
          "WHITE",
          "WHITE",
          "BLACK OR AFRICAN-AMERICAN",
          "WHITE",
          "WHITE",
          "WHITE",
          "WHITE",
          "WHITE",
          "BLACK OR AFRICAN-AMERICAN",
          "WHITE",
          "WHITE",
          "WHITE",
          "WHITE",
          "WHITE",
          "WHITE",
          "WHITE",
          "WHITE",
          "WHITE",
          "WHITE",
          "WHITE",
          "WHITE",
          "WHITE",
          "WHITE",
          "WHITE",
          "WHITE",
          "BLACK OR AFRICAN-AMERICAN",
          "BLACK OR AFRICAN-AMERICAN",
          "WHITE",
          "WHITE",
          "WHITE",
          "BLACK OR AFRICAN-AMERICAN",
          "WHITE",
          "WHITE",
          "WHITE",
          "BLACK OR AFRICAN-AMERICAN",
          "WHITE",
          "WHITE",
          "BLACK OR AFRICAN-AMERICAN",
          "WHITE",
          "WHITE",
          "WHITE",
          "WHITE",
          "WHITE",
          "WHITE",
          "WHITE",
          "WHITE",
          "WHITE",
          "WHITE",
          "WHITE",
          "WHITE",
          "WHITE",
          "WHITE",
          "BLACK OR AFRICAN-AMERICAN",
          "WHITE",
          "WHITE",
          "WHITE",
          "WHITE",
          "WHITE",
          "WHITE",
          "WHITE",
          "WHITE",
          "BLACK OR AFRICAN-AMERICAN",
          "WHITE",
          "BLACK OR AFRICAN-AMERICAN",
          "WHITE",
          "WHITE",
          "WHITE",
          "WHITE",
          "WHITE",
          "WHITE",
          "WHITE",
          "WHITE",
          "WHITE",
          "WHITE",
          "BLACK OR AFRICAN-AMERICAN",
          "WHITE",
          "WHITE",
          "BLACK OR AFRICAN-AMERICAN",
          "WHITE",
          "WHITE",
          "WHITE",
          "WHITE",
          "WHITE",
          "BLACK OR AFRICAN-AMERICAN",
          "ASIAN OR PACIFIC ISLANDER",
          "BLACK OR AFRICAN-AMERICAN",
          "WHITE",
          "BLACK OR AFRICAN-AMERICAN",
          "WHITE",
          "OTHER",
          "WHITE",
          "WHITE",
          "WHITE",
          "WHITE",
          "WHITE",
          "WHITE",
          "WHITE",
          "BLACK OR AFRICAN-AMERICAN",
          "BLACK OR AFRICAN-AMERICAN"
         ],
         "xaxis": "x",
         "yaxis": "y"
        },
        {
         "alignmentgroup": "True",
         "bingroup": "x",
         "hovertemplate": "Q13=SOMEWHAT OPPOSE<br>D6=%{x}<br>count=%{y}<extra></extra>",
         "legendgroup": "SOMEWHAT OPPOSE",
         "marker": {
          "color": "#EF553B",
          "pattern": {
           "shape": ""
          }
         },
         "name": "SOMEWHAT OPPOSE",
         "offsetgroup": "SOMEWHAT OPPOSE",
         "orientation": "v",
         "showlegend": true,
         "type": "histogram",
         "x": [
          "WHITE",
          "BLACK OR AFRICAN-AMERICAN",
          "BLACK OR AFRICAN-AMERICAN",
          "OTHER",
          "WHITE",
          "BLACK OR AFRICAN-AMERICAN",
          "WHITE",
          "BLACK OR AFRICAN-AMERICAN",
          "BLACK OR AFRICAN-AMERICAN",
          "OTHER",
          "WHITE",
          "BLACK OR AFRICAN-AMERICAN",
          "WHITE",
          "BLACK OR AFRICAN-AMERICAN",
          "WHITE",
          "BLACK OR AFRICAN-AMERICAN",
          "WHITE",
          "BLACK OR AFRICAN-AMERICAN",
          "WHITE",
          "WHITE",
          "BLACK OR AFRICAN-AMERICAN",
          "WHITE",
          "BLACK OR AFRICAN-AMERICAN",
          "BLACK OR AFRICAN-AMERICAN",
          "WHITE",
          "BLACK OR AFRICAN-AMERICAN",
          "BLACK OR AFRICAN-AMERICAN",
          "WHITE",
          "BLACK OR AFRICAN-AMERICAN",
          "WHITE",
          "WHITE",
          "BLACK OR AFRICAN-AMERICAN",
          "WHITE",
          "BLACK OR AFRICAN-AMERICAN",
          "BLACK OR AFRICAN-AMERICAN",
          "BLACK OR AFRICAN-AMERICAN",
          "WHITE",
          "WHITE",
          "WHITE",
          "WHITE",
          "WHITE",
          "WHITE",
          "WHITE",
          "WHITE",
          "BLACK OR AFRICAN-AMERICAN",
          "BLACK OR AFRICAN-AMERICAN",
          "BLACK OR AFRICAN-AMERICAN",
          "BLACK OR AFRICAN-AMERICAN",
          "BLACK OR AFRICAN-AMERICAN",
          "WHITE",
          "WHITE",
          "BLACK OR AFRICAN-AMERICAN",
          "WHITE",
          "BLACK OR AFRICAN-AMERICAN",
          "WHITE",
          "WHITE",
          "WHITE",
          "BLACK OR AFRICAN-AMERICAN",
          "WHITE",
          "WHITE",
          "WHITE",
          "WHITE",
          "WHITE",
          "WHITE",
          "WHITE",
          "WHITE",
          "WHITE",
          "WHITE",
          "WHITE",
          "WHITE",
          "WHITE",
          "WHITE",
          "BLACK OR AFRICAN-AMERICAN",
          "BLACK OR AFRICAN-AMERICAN",
          "WHITE",
          "WHITE",
          "WHITE",
          "WHITE",
          "WHITE",
          "WHITE",
          "WHITE",
          "WHITE",
          "BLACK OR AFRICAN-AMERICAN",
          "WHITE",
          "WHITE",
          "BLACK OR AFRICAN-AMERICAN",
          "WHITE",
          "WHITE",
          "WHITE",
          "OTHER",
          "WHITE",
          "WHITE",
          "WHITE",
          "WHITE",
          "WHITE",
          "BLACK OR AFRICAN-AMERICAN",
          "BLACK OR AFRICAN-AMERICAN",
          "BLACK OR AFRICAN-AMERICAN",
          "WHITE",
          "BLACK OR AFRICAN-AMERICAN",
          "WHITE",
          "BLACK OR AFRICAN-AMERICAN",
          "BLACK OR AFRICAN-AMERICAN",
          "WHITE",
          "WHITE",
          "BLACK OR AFRICAN-AMERICAN",
          "WHITE",
          "WHITE",
          "WHITE",
          "WHITE",
          "BLACK OR AFRICAN-AMERICAN",
          "BLACK OR AFRICAN-AMERICAN",
          "WHITE",
          "WHITE",
          "BLACK OR AFRICAN-AMERICAN",
          "WHITE"
         ],
         "xaxis": "x",
         "yaxis": "y"
        },
        {
         "alignmentgroup": "True",
         "bingroup": "x",
         "hovertemplate": "Q13=STRONGLY FAVOR<br>D6=%{x}<br>count=%{y}<extra></extra>",
         "legendgroup": "STRONGLY FAVOR",
         "marker": {
          "color": "#00cc96",
          "pattern": {
           "shape": ""
          }
         },
         "name": "STRONGLY FAVOR",
         "offsetgroup": "STRONGLY FAVOR",
         "orientation": "v",
         "showlegend": true,
         "type": "histogram",
         "x": [
          "WHITE",
          "WHITE",
          "WHITE",
          "WHITE",
          "WHITE",
          "WHITE",
          "WHITE",
          "BLACK OR AFRICAN-AMERICAN",
          "BLACK OR AFRICAN-AMERICAN",
          "HISPANIC",
          "BLACK OR AFRICAN-AMERICAN",
          "WHITE",
          "WHITE",
          "WHITE",
          "WHITE",
          "WHITE",
          "WHITE",
          "WHITE",
          "WHITE",
          "WHITE",
          "WHITE",
          "BLACK OR AFRICAN-AMERICAN",
          "WHITE",
          "WHITE",
          "BLACK OR AFRICAN-AMERICAN",
          "WHITE",
          "NA OR REFUSED",
          "WHITE",
          "WHITE",
          "WHITE",
          "WHITE",
          "WHITE",
          "BLACK OR AFRICAN-AMERICAN",
          "WHITE",
          "WHITE",
          "BLACK OR AFRICAN-AMERICAN",
          "WHITE",
          "WHITE",
          "WHITE",
          "WHITE",
          "WHITE",
          "WHITE",
          "WHITE",
          "WHITE",
          "WHITE",
          "WHITE",
          "BLACK OR AFRICAN-AMERICAN",
          "WHITE",
          "WHITE",
          "WHITE",
          "WHITE",
          "BLACK OR AFRICAN-AMERICAN",
          "WHITE",
          "BLACK OR AFRICAN-AMERICAN",
          "WHITE",
          "WHITE",
          "WHITE",
          "WHITE",
          "WHITE",
          "WHITE",
          "WHITE",
          "WHITE",
          "WHITE",
          "BLACK OR AFRICAN-AMERICAN",
          "BLACK OR AFRICAN-AMERICAN",
          "WHITE",
          "WHITE",
          "WHITE",
          "WHITE",
          "WHITE",
          "WHITE",
          "WHITE",
          "WHITE",
          "WHITE",
          "WHITE",
          "WHITE",
          "WHITE",
          "WHITE",
          "WHITE",
          "WHITE",
          "WHITE",
          "WHITE",
          "WHITE",
          "WHITE",
          "WHITE",
          "WHITE",
          "WHITE",
          "WHITE",
          "WHITE",
          "WHITE",
          "WHITE",
          "WHITE",
          "WHITE",
          "WHITE",
          "WHITE",
          "WHITE",
          "WHITE",
          "WHITE",
          "WHITE",
          "WHITE",
          "WHITE",
          "ASIAN OR PACIFIC ISLANDER",
          "WHITE",
          "OTHER",
          "WHITE",
          "BLACK OR AFRICAN-AMERICAN",
          "WHITE",
          "WHITE",
          "WHITE",
          "WHITE",
          "WHITE",
          "WHITE",
          "WHITE",
          "WHITE",
          "WHITE",
          "BLACK OR AFRICAN-AMERICAN",
          "WHITE",
          "WHITE",
          "WHITE",
          "WHITE",
          "WHITE",
          "WHITE",
          "WHITE",
          "WHITE",
          "WHITE",
          "WHITE",
          "WHITE",
          "WHITE",
          "WHITE",
          "WHITE",
          "WHITE",
          "WHITE",
          "WHITE",
          "WHITE",
          "WHITE",
          "WHITE",
          "WHITE",
          "WHITE",
          "WHITE",
          "WHITE",
          "WHITE",
          "ASIAN OR PACIFIC ISLANDER",
          "BLACK OR AFRICAN-AMERICAN",
          "WHITE",
          "WHITE",
          "WHITE",
          "WHITE",
          "WHITE",
          "WHITE",
          "BLACK OR AFRICAN-AMERICAN",
          "WHITE",
          "WHITE",
          "WHITE",
          "WHITE",
          "WHITE",
          "BLACK OR AFRICAN-AMERICAN",
          "WHITE",
          "WHITE",
          "WHITE",
          "WHITE",
          "OTHER",
          "WHITE",
          "WHITE",
          "WHITE",
          "WHITE",
          "WHITE",
          "WHITE",
          "WHITE",
          "WHITE",
          "BLACK OR AFRICAN-AMERICAN",
          "WHITE",
          "WHITE",
          "WHITE",
          "WHITE",
          "WHITE",
          "WHITE"
         ],
         "xaxis": "x",
         "yaxis": "y"
        },
        {
         "alignmentgroup": "True",
         "bingroup": "x",
         "hovertemplate": "Q13=DO NOT KNOW<br>D6=%{x}<br>count=%{y}<extra></extra>",
         "legendgroup": "DO NOT KNOW",
         "marker": {
          "color": "#ab63fa",
          "pattern": {
           "shape": ""
          }
         },
         "name": "DO NOT KNOW",
         "offsetgroup": "DO NOT KNOW",
         "orientation": "v",
         "showlegend": true,
         "type": "histogram",
         "x": [
          "BLACK OR AFRICAN-AMERICAN",
          "WHITE",
          "BLACK OR AFRICAN-AMERICAN",
          "BLACK OR AFRICAN-AMERICAN",
          "BLACK OR AFRICAN-AMERICAN",
          "WHITE",
          "WHITE",
          "WHITE",
          "WHITE",
          "WHITE",
          "WHITE",
          "WHITE",
          "WHITE",
          "OTHER",
          "BLACK OR AFRICAN-AMERICAN",
          "WHITE",
          "BLACK OR AFRICAN-AMERICAN"
         ],
         "xaxis": "x",
         "yaxis": "y"
        },
        {
         "alignmentgroup": "True",
         "bingroup": "x",
         "hovertemplate": "Q13=STRONGLY OPPOSE<br>D6=%{x}<br>count=%{y}<extra></extra>",
         "legendgroup": "STRONGLY OPPOSE",
         "marker": {
          "color": "#FFA15A",
          "pattern": {
           "shape": ""
          }
         },
         "name": "STRONGLY OPPOSE",
         "offsetgroup": "STRONGLY OPPOSE",
         "orientation": "v",
         "showlegend": true,
         "type": "histogram",
         "x": [
          "WHITE",
          "WHITE",
          "WHITE",
          "WHITE",
          "NA OR REFUSED",
          "BLACK OR AFRICAN-AMERICAN",
          "BLACK OR AFRICAN-AMERICAN",
          "BLACK OR AFRICAN-AMERICAN",
          "WHITE",
          "WHITE",
          "WHITE",
          "BLACK OR AFRICAN-AMERICAN",
          "WHITE",
          "WHITE",
          "WHITE",
          "WHITE",
          "WHITE",
          "WHITE",
          "WHITE",
          "WHITE",
          "WHITE",
          "WHITE",
          "WHITE",
          "BLACK OR AFRICAN-AMERICAN",
          "WHITE",
          "BLACK OR AFRICAN-AMERICAN",
          "OTHER",
          "WHITE",
          "WHITE",
          "WHITE",
          "BLACK OR AFRICAN-AMERICAN",
          "WHITE",
          "OTHER",
          "BLACK OR AFRICAN-AMERICAN",
          "WHITE",
          "WHITE",
          "BLACK OR AFRICAN-AMERICAN",
          "WHITE",
          "BLACK OR AFRICAN-AMERICAN",
          "HISPANIC",
          "WHITE",
          "WHITE",
          "WHITE",
          "BLACK OR AFRICAN-AMERICAN",
          "WHITE",
          "BLACK OR AFRICAN-AMERICAN",
          "WHITE",
          "WHITE",
          "BLACK OR AFRICAN-AMERICAN",
          "WHITE",
          "BLACK OR AFRICAN-AMERICAN",
          "BLACK OR AFRICAN-AMERICAN",
          "WHITE",
          "WHITE",
          "BLACK OR AFRICAN-AMERICAN",
          "WHITE",
          "WHITE",
          "BLACK OR AFRICAN-AMERICAN",
          "BLACK OR AFRICAN-AMERICAN",
          "WHITE",
          "BLACK OR AFRICAN-AMERICAN"
         ],
         "xaxis": "x",
         "yaxis": "y"
        }
       ],
       "layout": {
        "autosize": true,
        "barmode": "group",
        "legend": {
         "title": {
          "text": "FAVOR OR OPPOSE EXPANDING NUCLEAR PLANTS"
         },
         "tracegroupgap": 0
        },
        "margin": {
         "t": 60
        },
        "template": {
         "data": {
          "bar": [
           {
            "error_x": {
             "color": "#f2f5fa"
            },
            "error_y": {
             "color": "#f2f5fa"
            },
            "marker": {
             "line": {
              "color": "rgb(17,17,17)",
              "width": 0.5
             },
             "pattern": {
              "fillmode": "overlay",
              "size": 10,
              "solidity": 0.2
             }
            },
            "type": "bar"
           }
          ],
          "barpolar": [
           {
            "marker": {
             "line": {
              "color": "rgb(17,17,17)",
              "width": 0.5
             },
             "pattern": {
              "fillmode": "overlay",
              "size": 10,
              "solidity": 0.2
             }
            },
            "type": "barpolar"
           }
          ],
          "carpet": [
           {
            "aaxis": {
             "endlinecolor": "#A2B1C6",
             "gridcolor": "#506784",
             "linecolor": "#506784",
             "minorgridcolor": "#506784",
             "startlinecolor": "#A2B1C6"
            },
            "baxis": {
             "endlinecolor": "#A2B1C6",
             "gridcolor": "#506784",
             "linecolor": "#506784",
             "minorgridcolor": "#506784",
             "startlinecolor": "#A2B1C6"
            },
            "type": "carpet"
           }
          ],
          "choropleth": [
           {
            "colorbar": {
             "outlinewidth": 0,
             "ticks": ""
            },
            "type": "choropleth"
           }
          ],
          "contour": [
           {
            "colorbar": {
             "outlinewidth": 0,
             "ticks": ""
            },
            "colorscale": [
             [
              0,
              "#0d0887"
             ],
             [
              0.1111111111111111,
              "#46039f"
             ],
             [
              0.2222222222222222,
              "#7201a8"
             ],
             [
              0.3333333333333333,
              "#9c179e"
             ],
             [
              0.4444444444444444,
              "#bd3786"
             ],
             [
              0.5555555555555556,
              "#d8576b"
             ],
             [
              0.6666666666666666,
              "#ed7953"
             ],
             [
              0.7777777777777778,
              "#fb9f3a"
             ],
             [
              0.8888888888888888,
              "#fdca26"
             ],
             [
              1,
              "#f0f921"
             ]
            ],
            "type": "contour"
           }
          ],
          "contourcarpet": [
           {
            "colorbar": {
             "outlinewidth": 0,
             "ticks": ""
            },
            "type": "contourcarpet"
           }
          ],
          "heatmap": [
           {
            "colorbar": {
             "outlinewidth": 0,
             "ticks": ""
            },
            "colorscale": [
             [
              0,
              "#0d0887"
             ],
             [
              0.1111111111111111,
              "#46039f"
             ],
             [
              0.2222222222222222,
              "#7201a8"
             ],
             [
              0.3333333333333333,
              "#9c179e"
             ],
             [
              0.4444444444444444,
              "#bd3786"
             ],
             [
              0.5555555555555556,
              "#d8576b"
             ],
             [
              0.6666666666666666,
              "#ed7953"
             ],
             [
              0.7777777777777778,
              "#fb9f3a"
             ],
             [
              0.8888888888888888,
              "#fdca26"
             ],
             [
              1,
              "#f0f921"
             ]
            ],
            "type": "heatmap"
           }
          ],
          "heatmapgl": [
           {
            "colorbar": {
             "outlinewidth": 0,
             "ticks": ""
            },
            "colorscale": [
             [
              0,
              "#0d0887"
             ],
             [
              0.1111111111111111,
              "#46039f"
             ],
             [
              0.2222222222222222,
              "#7201a8"
             ],
             [
              0.3333333333333333,
              "#9c179e"
             ],
             [
              0.4444444444444444,
              "#bd3786"
             ],
             [
              0.5555555555555556,
              "#d8576b"
             ],
             [
              0.6666666666666666,
              "#ed7953"
             ],
             [
              0.7777777777777778,
              "#fb9f3a"
             ],
             [
              0.8888888888888888,
              "#fdca26"
             ],
             [
              1,
              "#f0f921"
             ]
            ],
            "type": "heatmapgl"
           }
          ],
          "histogram": [
           {
            "marker": {
             "pattern": {
              "fillmode": "overlay",
              "size": 10,
              "solidity": 0.2
             }
            },
            "type": "histogram"
           }
          ],
          "histogram2d": [
           {
            "colorbar": {
             "outlinewidth": 0,
             "ticks": ""
            },
            "colorscale": [
             [
              0,
              "#0d0887"
             ],
             [
              0.1111111111111111,
              "#46039f"
             ],
             [
              0.2222222222222222,
              "#7201a8"
             ],
             [
              0.3333333333333333,
              "#9c179e"
             ],
             [
              0.4444444444444444,
              "#bd3786"
             ],
             [
              0.5555555555555556,
              "#d8576b"
             ],
             [
              0.6666666666666666,
              "#ed7953"
             ],
             [
              0.7777777777777778,
              "#fb9f3a"
             ],
             [
              0.8888888888888888,
              "#fdca26"
             ],
             [
              1,
              "#f0f921"
             ]
            ],
            "type": "histogram2d"
           }
          ],
          "histogram2dcontour": [
           {
            "colorbar": {
             "outlinewidth": 0,
             "ticks": ""
            },
            "colorscale": [
             [
              0,
              "#0d0887"
             ],
             [
              0.1111111111111111,
              "#46039f"
             ],
             [
              0.2222222222222222,
              "#7201a8"
             ],
             [
              0.3333333333333333,
              "#9c179e"
             ],
             [
              0.4444444444444444,
              "#bd3786"
             ],
             [
              0.5555555555555556,
              "#d8576b"
             ],
             [
              0.6666666666666666,
              "#ed7953"
             ],
             [
              0.7777777777777778,
              "#fb9f3a"
             ],
             [
              0.8888888888888888,
              "#fdca26"
             ],
             [
              1,
              "#f0f921"
             ]
            ],
            "type": "histogram2dcontour"
           }
          ],
          "mesh3d": [
           {
            "colorbar": {
             "outlinewidth": 0,
             "ticks": ""
            },
            "type": "mesh3d"
           }
          ],
          "parcoords": [
           {
            "line": {
             "colorbar": {
              "outlinewidth": 0,
              "ticks": ""
             }
            },
            "type": "parcoords"
           }
          ],
          "pie": [
           {
            "automargin": true,
            "type": "pie"
           }
          ],
          "scatter": [
           {
            "marker": {
             "line": {
              "color": "#283442"
             }
            },
            "type": "scatter"
           }
          ],
          "scatter3d": [
           {
            "line": {
             "colorbar": {
              "outlinewidth": 0,
              "ticks": ""
             }
            },
            "marker": {
             "colorbar": {
              "outlinewidth": 0,
              "ticks": ""
             }
            },
            "type": "scatter3d"
           }
          ],
          "scattercarpet": [
           {
            "marker": {
             "colorbar": {
              "outlinewidth": 0,
              "ticks": ""
             }
            },
            "type": "scattercarpet"
           }
          ],
          "scattergeo": [
           {
            "marker": {
             "colorbar": {
              "outlinewidth": 0,
              "ticks": ""
             }
            },
            "type": "scattergeo"
           }
          ],
          "scattergl": [
           {
            "marker": {
             "line": {
              "color": "#283442"
             }
            },
            "type": "scattergl"
           }
          ],
          "scattermapbox": [
           {
            "marker": {
             "colorbar": {
              "outlinewidth": 0,
              "ticks": ""
             }
            },
            "type": "scattermapbox"
           }
          ],
          "scatterpolar": [
           {
            "marker": {
             "colorbar": {
              "outlinewidth": 0,
              "ticks": ""
             }
            },
            "type": "scatterpolar"
           }
          ],
          "scatterpolargl": [
           {
            "marker": {
             "colorbar": {
              "outlinewidth": 0,
              "ticks": ""
             }
            },
            "type": "scatterpolargl"
           }
          ],
          "scatterternary": [
           {
            "marker": {
             "colorbar": {
              "outlinewidth": 0,
              "ticks": ""
             }
            },
            "type": "scatterternary"
           }
          ],
          "surface": [
           {
            "colorbar": {
             "outlinewidth": 0,
             "ticks": ""
            },
            "colorscale": [
             [
              0,
              "#0d0887"
             ],
             [
              0.1111111111111111,
              "#46039f"
             ],
             [
              0.2222222222222222,
              "#7201a8"
             ],
             [
              0.3333333333333333,
              "#9c179e"
             ],
             [
              0.4444444444444444,
              "#bd3786"
             ],
             [
              0.5555555555555556,
              "#d8576b"
             ],
             [
              0.6666666666666666,
              "#ed7953"
             ],
             [
              0.7777777777777778,
              "#fb9f3a"
             ],
             [
              0.8888888888888888,
              "#fdca26"
             ],
             [
              1,
              "#f0f921"
             ]
            ],
            "type": "surface"
           }
          ],
          "table": [
           {
            "cells": {
             "fill": {
              "color": "#506784"
             },
             "line": {
              "color": "rgb(17,17,17)"
             }
            },
            "header": {
             "fill": {
              "color": "#2a3f5f"
             },
             "line": {
              "color": "rgb(17,17,17)"
             }
            },
            "type": "table"
           }
          ]
         },
         "layout": {
          "annotationdefaults": {
           "arrowcolor": "#f2f5fa",
           "arrowhead": 0,
           "arrowwidth": 1
          },
          "autotypenumbers": "strict",
          "coloraxis": {
           "colorbar": {
            "outlinewidth": 0,
            "ticks": ""
           }
          },
          "colorscale": {
           "diverging": [
            [
             0,
             "#8e0152"
            ],
            [
             0.1,
             "#c51b7d"
            ],
            [
             0.2,
             "#de77ae"
            ],
            [
             0.3,
             "#f1b6da"
            ],
            [
             0.4,
             "#fde0ef"
            ],
            [
             0.5,
             "#f7f7f7"
            ],
            [
             0.6,
             "#e6f5d0"
            ],
            [
             0.7,
             "#b8e186"
            ],
            [
             0.8,
             "#7fbc41"
            ],
            [
             0.9,
             "#4d9221"
            ],
            [
             1,
             "#276419"
            ]
           ],
           "sequential": [
            [
             0,
             "#0d0887"
            ],
            [
             0.1111111111111111,
             "#46039f"
            ],
            [
             0.2222222222222222,
             "#7201a8"
            ],
            [
             0.3333333333333333,
             "#9c179e"
            ],
            [
             0.4444444444444444,
             "#bd3786"
            ],
            [
             0.5555555555555556,
             "#d8576b"
            ],
            [
             0.6666666666666666,
             "#ed7953"
            ],
            [
             0.7777777777777778,
             "#fb9f3a"
            ],
            [
             0.8888888888888888,
             "#fdca26"
            ],
            [
             1,
             "#f0f921"
            ]
           ],
           "sequentialminus": [
            [
             0,
             "#0d0887"
            ],
            [
             0.1111111111111111,
             "#46039f"
            ],
            [
             0.2222222222222222,
             "#7201a8"
            ],
            [
             0.3333333333333333,
             "#9c179e"
            ],
            [
             0.4444444444444444,
             "#bd3786"
            ],
            [
             0.5555555555555556,
             "#d8576b"
            ],
            [
             0.6666666666666666,
             "#ed7953"
            ],
            [
             0.7777777777777778,
             "#fb9f3a"
            ],
            [
             0.8888888888888888,
             "#fdca26"
            ],
            [
             1,
             "#f0f921"
            ]
           ]
          },
          "colorway": [
           "#636efa",
           "#EF553B",
           "#00cc96",
           "#ab63fa",
           "#FFA15A",
           "#19d3f3",
           "#FF6692",
           "#B6E880",
           "#FF97FF",
           "#FECB52"
          ],
          "font": {
           "color": "#f2f5fa"
          },
          "geo": {
           "bgcolor": "rgb(17,17,17)",
           "lakecolor": "rgb(17,17,17)",
           "landcolor": "rgb(17,17,17)",
           "showlakes": true,
           "showland": true,
           "subunitcolor": "#506784"
          },
          "hoverlabel": {
           "align": "left"
          },
          "hovermode": "closest",
          "mapbox": {
           "style": "dark"
          },
          "paper_bgcolor": "rgb(17,17,17)",
          "plot_bgcolor": "rgb(17,17,17)",
          "polar": {
           "angularaxis": {
            "gridcolor": "#506784",
            "linecolor": "#506784",
            "ticks": ""
           },
           "bgcolor": "rgb(17,17,17)",
           "radialaxis": {
            "gridcolor": "#506784",
            "linecolor": "#506784",
            "ticks": ""
           }
          },
          "scene": {
           "xaxis": {
            "backgroundcolor": "rgb(17,17,17)",
            "gridcolor": "#506784",
            "gridwidth": 2,
            "linecolor": "#506784",
            "showbackground": true,
            "ticks": "",
            "zerolinecolor": "#C8D4E3"
           },
           "yaxis": {
            "backgroundcolor": "rgb(17,17,17)",
            "gridcolor": "#506784",
            "gridwidth": 2,
            "linecolor": "#506784",
            "showbackground": true,
            "ticks": "",
            "zerolinecolor": "#C8D4E3"
           },
           "zaxis": {
            "backgroundcolor": "rgb(17,17,17)",
            "gridcolor": "#506784",
            "gridwidth": 2,
            "linecolor": "#506784",
            "showbackground": true,
            "ticks": "",
            "zerolinecolor": "#C8D4E3"
           }
          },
          "shapedefaults": {
           "line": {
            "color": "#f2f5fa"
           }
          },
          "sliderdefaults": {
           "bgcolor": "#C8D4E3",
           "bordercolor": "rgb(17,17,17)",
           "borderwidth": 1,
           "tickwidth": 0
          },
          "ternary": {
           "aaxis": {
            "gridcolor": "#506784",
            "linecolor": "#506784",
            "ticks": ""
           },
           "baxis": {
            "gridcolor": "#506784",
            "linecolor": "#506784",
            "ticks": ""
           },
           "bgcolor": "rgb(17,17,17)",
           "caxis": {
            "gridcolor": "#506784",
            "linecolor": "#506784",
            "ticks": ""
           }
          },
          "title": {
           "x": 0.05
          },
          "updatemenudefaults": {
           "bgcolor": "#506784",
           "borderwidth": 0
          },
          "xaxis": {
           "automargin": true,
           "gridcolor": "#283442",
           "linecolor": "#506784",
           "ticks": "",
           "title": {
            "standoff": 15
           },
           "zerolinecolor": "#283442",
           "zerolinewidth": 2
          },
          "yaxis": {
           "automargin": true,
           "gridcolor": "#283442",
           "linecolor": "#506784",
           "ticks": "",
           "title": {
            "standoff": 15
           },
           "zerolinecolor": "#283442",
           "zerolinewidth": 2
          }
         }
        },
        "xaxis": {
         "anchor": "y",
         "autorange": true,
         "categoryorder": "total ascending",
         "domain": [
          0,
          1
         ],
         "range": [
          -0.5,
          5.5
         ],
         "title": {
          "text": "RACE"
         },
         "type": "category"
        },
        "yaxis": {
         "anchor": "x",
         "autorange": true,
         "domain": [
          0,
          1
         ],
         "range": [
          0,
          198.94736842105263
         ],
         "title": {
          "text": "NUMBER OF RESPONCES"
         }
        }
       }
      },
      "image/png": "[encoded data removed]",
      "text/html": [
       "<div>                            <div id=\"92ae60f2-94a1-485a-b3c0-fe2f4a4393b7\" class=\"plotly-graph-div\" style=\"height:525px; width:100%;\"></div>            <script type=\"text/javascript\">                require([\"plotly\"], function(Plotly) {                    window.PLOTLYENV=window.PLOTLYENV || {};                                    if (document.getElementById(\"92ae60f2-94a1-485a-b3c0-fe2f4a4393b7\")) {                    Plotly.newPlot(                        \"92ae60f2-94a1-485a-b3c0-fe2f4a4393b7\",                        [{\"alignmentgroup\":\"True\",\"bingroup\":\"x\",\"hovertemplate\":\"Q13=SOMEWHAT FAVOR<br>D6=%{x}<br>count=%{y}<extra></extra>\",\"legendgroup\":\"SOMEWHAT FAVOR\",\"marker\":{\"color\":\"#636efa\",\"pattern\":{\"shape\":\"\"}},\"name\":\"SOMEWHAT FAVOR\",\"offsetgroup\":\"SOMEWHAT FAVOR\",\"orientation\":\"v\",\"showlegend\":true,\"x\":[\"WHITE\",\"WHITE\",\"WHITE\",\"WHITE\",\"WHITE\",\"WHITE\",\"WHITE\",\"WHITE\",\"WHITE\",\"WHITE\",\"WHITE\",\"WHITE\",\"BLACK OR AFRICAN-AMERICAN\",\"WHITE\",\"WHITE\",\"WHITE\",\"BLACK OR AFRICAN-AMERICAN\",\"BLACK OR AFRICAN-AMERICAN\",\"BLACK OR AFRICAN-AMERICAN\",\"BLACK OR AFRICAN-AMERICAN\",\"WHITE\",\"WHITE\",\"WHITE\",\"WHITE\",\"WHITE\",\"WHITE\",\"WHITE\",\"WHITE\",\"WHITE\",\"WHITE\",\"WHITE\",\"BLACK OR AFRICAN-AMERICAN\",\"WHITE\",\"WHITE\",\"WHITE\",\"WHITE\",\"WHITE\",\"WHITE\",\"WHITE\",\"BLACK OR AFRICAN-AMERICAN\",\"WHITE\",\"WHITE\",\"WHITE\",\"WHITE\",\"BLACK OR AFRICAN-AMERICAN\",\"WHITE\",\"WHITE\",\"WHITE\",\"WHITE\",\"WHITE\",\"WHITE\",\"WHITE\",\"BLACK OR AFRICAN-AMERICAN\",\"BLACK OR AFRICAN-AMERICAN\",\"BLACK OR AFRICAN-AMERICAN\",\"WHITE\",\"BLACK OR AFRICAN-AMERICAN\",\"BLACK OR AFRICAN-AMERICAN\",\"WHITE\",\"BLACK OR AFRICAN-AMERICAN\",\"WHITE\",\"WHITE\",\"WHITE\",\"WHITE\",\"BLACK OR AFRICAN-AMERICAN\",\"WHITE\",\"OTHER\",\"WHITE\",\"WHITE\",\"WHITE\",\"WHITE\",\"BLACK OR AFRICAN-AMERICAN\",\"WHITE\",\"WHITE\",\"WHITE\",\"WHITE\",\"BLACK OR AFRICAN-AMERICAN\",\"WHITE\",\"WHITE\",\"WHITE\",\"WHITE\",\"WHITE\",\"WHITE\",\"WHITE\",\"BLACK OR AFRICAN-AMERICAN\",\"WHITE\",\"BLACK OR AFRICAN-AMERICAN\",\"WHITE\",\"WHITE\",\"WHITE\",\"WHITE\",\"BLACK OR AFRICAN-AMERICAN\",\"WHITE\",\"WHITE\",\"WHITE\",\"WHITE\",\"WHITE\",\"BLACK OR AFRICAN-AMERICAN\",\"WHITE\",\"WHITE\",\"WHITE\",\"WHITE\",\"WHITE\",\"WHITE\",\"HISPANIC\",\"BLACK OR AFRICAN-AMERICAN\",\"WHITE\",\"WHITE\",\"WHITE\",\"WHITE\",\"BLACK OR AFRICAN-AMERICAN\",\"NA OR REFUSED\",\"WHITE\",\"WHITE\",\"WHITE\",\"WHITE\",\"WHITE\",\"WHITE\",\"WHITE\",\"WHITE\",\"WHITE\",\"WHITE\",\"BLACK OR AFRICAN-AMERICAN\",\"WHITE\",\"WHITE\",\"WHITE\",\"WHITE\",\"WHITE\",\"WHITE\",\"WHITE\",\"WHITE\",\"BLACK OR AFRICAN-AMERICAN\",\"WHITE\",\"WHITE\",\"WHITE\",\"WHITE\",\"WHITE\",\"WHITE\",\"WHITE\",\"BLACK OR AFRICAN-AMERICAN\",\"WHITE\",\"WHITE\",\"WHITE\",\"WHITE\",\"WHITE\",\"BLACK OR AFRICAN-AMERICAN\",\"WHITE\",\"WHITE\",\"WHITE\",\"WHITE\",\"WHITE\",\"WHITE\",\"WHITE\",\"WHITE\",\"WHITE\",\"WHITE\",\"WHITE\",\"WHITE\",\"WHITE\",\"WHITE\",\"WHITE\",\"WHITE\",\"BLACK OR AFRICAN-AMERICAN\",\"BLACK OR AFRICAN-AMERICAN\",\"WHITE\",\"WHITE\",\"WHITE\",\"BLACK OR AFRICAN-AMERICAN\",\"WHITE\",\"WHITE\",\"WHITE\",\"BLACK OR AFRICAN-AMERICAN\",\"WHITE\",\"WHITE\",\"BLACK OR AFRICAN-AMERICAN\",\"WHITE\",\"WHITE\",\"WHITE\",\"WHITE\",\"WHITE\",\"WHITE\",\"WHITE\",\"WHITE\",\"WHITE\",\"WHITE\",\"WHITE\",\"WHITE\",\"WHITE\",\"WHITE\",\"BLACK OR AFRICAN-AMERICAN\",\"WHITE\",\"WHITE\",\"WHITE\",\"WHITE\",\"WHITE\",\"WHITE\",\"WHITE\",\"WHITE\",\"BLACK OR AFRICAN-AMERICAN\",\"WHITE\",\"BLACK OR AFRICAN-AMERICAN\",\"WHITE\",\"WHITE\",\"WHITE\",\"WHITE\",\"WHITE\",\"WHITE\",\"WHITE\",\"WHITE\",\"WHITE\",\"WHITE\",\"BLACK OR AFRICAN-AMERICAN\",\"WHITE\",\"WHITE\",\"BLACK OR AFRICAN-AMERICAN\",\"WHITE\",\"WHITE\",\"WHITE\",\"WHITE\",\"WHITE\",\"BLACK OR AFRICAN-AMERICAN\",\"ASIAN OR PACIFIC ISLANDER\",\"BLACK OR AFRICAN-AMERICAN\",\"WHITE\",\"BLACK OR AFRICAN-AMERICAN\",\"WHITE\",\"OTHER\",\"WHITE\",\"WHITE\",\"WHITE\",\"WHITE\",\"WHITE\",\"WHITE\",\"WHITE\",\"BLACK OR AFRICAN-AMERICAN\",\"BLACK OR AFRICAN-AMERICAN\"],\"xaxis\":\"x\",\"yaxis\":\"y\",\"type\":\"histogram\"},{\"alignmentgroup\":\"True\",\"bingroup\":\"x\",\"hovertemplate\":\"Q13=SOMEWHAT OPPOSE<br>D6=%{x}<br>count=%{y}<extra></extra>\",\"legendgroup\":\"SOMEWHAT OPPOSE\",\"marker\":{\"color\":\"#EF553B\",\"pattern\":{\"shape\":\"\"}},\"name\":\"SOMEWHAT OPPOSE\",\"offsetgroup\":\"SOMEWHAT OPPOSE\",\"orientation\":\"v\",\"showlegend\":true,\"x\":[\"WHITE\",\"BLACK OR AFRICAN-AMERICAN\",\"BLACK OR AFRICAN-AMERICAN\",\"OTHER\",\"WHITE\",\"BLACK OR AFRICAN-AMERICAN\",\"WHITE\",\"BLACK OR AFRICAN-AMERICAN\",\"BLACK OR AFRICAN-AMERICAN\",\"OTHER\",\"WHITE\",\"BLACK OR AFRICAN-AMERICAN\",\"WHITE\",\"BLACK OR AFRICAN-AMERICAN\",\"WHITE\",\"BLACK OR AFRICAN-AMERICAN\",\"WHITE\",\"BLACK OR AFRICAN-AMERICAN\",\"WHITE\",\"WHITE\",\"BLACK OR AFRICAN-AMERICAN\",\"WHITE\",\"BLACK OR AFRICAN-AMERICAN\",\"BLACK OR AFRICAN-AMERICAN\",\"WHITE\",\"BLACK OR AFRICAN-AMERICAN\",\"BLACK OR AFRICAN-AMERICAN\",\"WHITE\",\"BLACK OR AFRICAN-AMERICAN\",\"WHITE\",\"WHITE\",\"BLACK OR AFRICAN-AMERICAN\",\"WHITE\",\"BLACK OR AFRICAN-AMERICAN\",\"BLACK OR AFRICAN-AMERICAN\",\"BLACK OR AFRICAN-AMERICAN\",\"WHITE\",\"WHITE\",\"WHITE\",\"WHITE\",\"WHITE\",\"WHITE\",\"WHITE\",\"WHITE\",\"BLACK OR AFRICAN-AMERICAN\",\"BLACK OR AFRICAN-AMERICAN\",\"BLACK OR AFRICAN-AMERICAN\",\"BLACK OR AFRICAN-AMERICAN\",\"BLACK OR AFRICAN-AMERICAN\",\"WHITE\",\"WHITE\",\"BLACK OR AFRICAN-AMERICAN\",\"WHITE\",\"BLACK OR AFRICAN-AMERICAN\",\"WHITE\",\"WHITE\",\"WHITE\",\"BLACK OR AFRICAN-AMERICAN\",\"WHITE\",\"WHITE\",\"WHITE\",\"WHITE\",\"WHITE\",\"WHITE\",\"WHITE\",\"WHITE\",\"WHITE\",\"WHITE\",\"WHITE\",\"WHITE\",\"WHITE\",\"WHITE\",\"BLACK OR AFRICAN-AMERICAN\",\"BLACK OR AFRICAN-AMERICAN\",\"WHITE\",\"WHITE\",\"WHITE\",\"WHITE\",\"WHITE\",\"WHITE\",\"WHITE\",\"WHITE\",\"BLACK OR AFRICAN-AMERICAN\",\"WHITE\",\"WHITE\",\"BLACK OR AFRICAN-AMERICAN\",\"WHITE\",\"WHITE\",\"WHITE\",\"OTHER\",\"WHITE\",\"WHITE\",\"WHITE\",\"WHITE\",\"WHITE\",\"BLACK OR AFRICAN-AMERICAN\",\"BLACK OR AFRICAN-AMERICAN\",\"BLACK OR AFRICAN-AMERICAN\",\"WHITE\",\"BLACK OR AFRICAN-AMERICAN\",\"WHITE\",\"BLACK OR AFRICAN-AMERICAN\",\"BLACK OR AFRICAN-AMERICAN\",\"WHITE\",\"WHITE\",\"BLACK OR AFRICAN-AMERICAN\",\"WHITE\",\"WHITE\",\"WHITE\",\"WHITE\",\"BLACK OR AFRICAN-AMERICAN\",\"BLACK OR AFRICAN-AMERICAN\",\"WHITE\",\"WHITE\",\"BLACK OR AFRICAN-AMERICAN\",\"WHITE\"],\"xaxis\":\"x\",\"yaxis\":\"y\",\"type\":\"histogram\"},{\"alignmentgroup\":\"True\",\"bingroup\":\"x\",\"hovertemplate\":\"Q13=STRONGLY FAVOR<br>D6=%{x}<br>count=%{y}<extra></extra>\",\"legendgroup\":\"STRONGLY FAVOR\",\"marker\":{\"color\":\"#00cc96\",\"pattern\":{\"shape\":\"\"}},\"name\":\"STRONGLY FAVOR\",\"offsetgroup\":\"STRONGLY FAVOR\",\"orientation\":\"v\",\"showlegend\":true,\"x\":[\"WHITE\",\"WHITE\",\"WHITE\",\"WHITE\",\"WHITE\",\"WHITE\",\"WHITE\",\"BLACK OR AFRICAN-AMERICAN\",\"BLACK OR AFRICAN-AMERICAN\",\"HISPANIC\",\"BLACK OR AFRICAN-AMERICAN\",\"WHITE\",\"WHITE\",\"WHITE\",\"WHITE\",\"WHITE\",\"WHITE\",\"WHITE\",\"WHITE\",\"WHITE\",\"WHITE\",\"BLACK OR AFRICAN-AMERICAN\",\"WHITE\",\"WHITE\",\"BLACK OR AFRICAN-AMERICAN\",\"WHITE\",\"NA OR REFUSED\",\"WHITE\",\"WHITE\",\"WHITE\",\"WHITE\",\"WHITE\",\"BLACK OR AFRICAN-AMERICAN\",\"WHITE\",\"WHITE\",\"BLACK OR AFRICAN-AMERICAN\",\"WHITE\",\"WHITE\",\"WHITE\",\"WHITE\",\"WHITE\",\"WHITE\",\"WHITE\",\"WHITE\",\"WHITE\",\"WHITE\",\"BLACK OR AFRICAN-AMERICAN\",\"WHITE\",\"WHITE\",\"WHITE\",\"WHITE\",\"BLACK OR AFRICAN-AMERICAN\",\"WHITE\",\"BLACK OR AFRICAN-AMERICAN\",\"WHITE\",\"WHITE\",\"WHITE\",\"WHITE\",\"WHITE\",\"WHITE\",\"WHITE\",\"WHITE\",\"WHITE\",\"BLACK OR AFRICAN-AMERICAN\",\"BLACK OR AFRICAN-AMERICAN\",\"WHITE\",\"WHITE\",\"WHITE\",\"WHITE\",\"WHITE\",\"WHITE\",\"WHITE\",\"WHITE\",\"WHITE\",\"WHITE\",\"WHITE\",\"WHITE\",\"WHITE\",\"WHITE\",\"WHITE\",\"WHITE\",\"WHITE\",\"WHITE\",\"WHITE\",\"WHITE\",\"WHITE\",\"WHITE\",\"WHITE\",\"WHITE\",\"WHITE\",\"WHITE\",\"WHITE\",\"WHITE\",\"WHITE\",\"WHITE\",\"WHITE\",\"WHITE\",\"WHITE\",\"WHITE\",\"WHITE\",\"WHITE\",\"ASIAN OR PACIFIC ISLANDER\",\"WHITE\",\"OTHER\",\"WHITE\",\"BLACK OR AFRICAN-AMERICAN\",\"WHITE\",\"WHITE\",\"WHITE\",\"WHITE\",\"WHITE\",\"WHITE\",\"WHITE\",\"WHITE\",\"WHITE\",\"BLACK OR AFRICAN-AMERICAN\",\"WHITE\",\"WHITE\",\"WHITE\",\"WHITE\",\"WHITE\",\"WHITE\",\"WHITE\",\"WHITE\",\"WHITE\",\"WHITE\",\"WHITE\",\"WHITE\",\"WHITE\",\"WHITE\",\"WHITE\",\"WHITE\",\"WHITE\",\"WHITE\",\"WHITE\",\"WHITE\",\"WHITE\",\"WHITE\",\"WHITE\",\"WHITE\",\"WHITE\",\"ASIAN OR PACIFIC ISLANDER\",\"BLACK OR AFRICAN-AMERICAN\",\"WHITE\",\"WHITE\",\"WHITE\",\"WHITE\",\"WHITE\",\"WHITE\",\"BLACK OR AFRICAN-AMERICAN\",\"WHITE\",\"WHITE\",\"WHITE\",\"WHITE\",\"WHITE\",\"BLACK OR AFRICAN-AMERICAN\",\"WHITE\",\"WHITE\",\"WHITE\",\"WHITE\",\"OTHER\",\"WHITE\",\"WHITE\",\"WHITE\",\"WHITE\",\"WHITE\",\"WHITE\",\"WHITE\",\"WHITE\",\"BLACK OR AFRICAN-AMERICAN\",\"WHITE\",\"WHITE\",\"WHITE\",\"WHITE\",\"WHITE\",\"WHITE\"],\"xaxis\":\"x\",\"yaxis\":\"y\",\"type\":\"histogram\"},{\"alignmentgroup\":\"True\",\"bingroup\":\"x\",\"hovertemplate\":\"Q13=DO NOT KNOW<br>D6=%{x}<br>count=%{y}<extra></extra>\",\"legendgroup\":\"DO NOT KNOW\",\"marker\":{\"color\":\"#ab63fa\",\"pattern\":{\"shape\":\"\"}},\"name\":\"DO NOT KNOW\",\"offsetgroup\":\"DO NOT KNOW\",\"orientation\":\"v\",\"showlegend\":true,\"x\":[\"BLACK OR AFRICAN-AMERICAN\",\"WHITE\",\"BLACK OR AFRICAN-AMERICAN\",\"BLACK OR AFRICAN-AMERICAN\",\"BLACK OR AFRICAN-AMERICAN\",\"WHITE\",\"WHITE\",\"WHITE\",\"WHITE\",\"WHITE\",\"WHITE\",\"WHITE\",\"WHITE\",\"OTHER\",\"BLACK OR AFRICAN-AMERICAN\",\"WHITE\",\"BLACK OR AFRICAN-AMERICAN\"],\"xaxis\":\"x\",\"yaxis\":\"y\",\"type\":\"histogram\"},{\"alignmentgroup\":\"True\",\"bingroup\":\"x\",\"hovertemplate\":\"Q13=STRONGLY OPPOSE<br>D6=%{x}<br>count=%{y}<extra></extra>\",\"legendgroup\":\"STRONGLY OPPOSE\",\"marker\":{\"color\":\"#FFA15A\",\"pattern\":{\"shape\":\"\"}},\"name\":\"STRONGLY OPPOSE\",\"offsetgroup\":\"STRONGLY OPPOSE\",\"orientation\":\"v\",\"showlegend\":true,\"x\":[\"WHITE\",\"WHITE\",\"WHITE\",\"WHITE\",\"NA OR REFUSED\",\"BLACK OR AFRICAN-AMERICAN\",\"BLACK OR AFRICAN-AMERICAN\",\"BLACK OR AFRICAN-AMERICAN\",\"WHITE\",\"WHITE\",\"WHITE\",\"BLACK OR AFRICAN-AMERICAN\",\"WHITE\",\"WHITE\",\"WHITE\",\"WHITE\",\"WHITE\",\"WHITE\",\"WHITE\",\"WHITE\",\"WHITE\",\"WHITE\",\"WHITE\",\"BLACK OR AFRICAN-AMERICAN\",\"WHITE\",\"BLACK OR AFRICAN-AMERICAN\",\"OTHER\",\"WHITE\",\"WHITE\",\"WHITE\",\"BLACK OR AFRICAN-AMERICAN\",\"WHITE\",\"OTHER\",\"BLACK OR AFRICAN-AMERICAN\",\"WHITE\",\"WHITE\",\"BLACK OR AFRICAN-AMERICAN\",\"WHITE\",\"BLACK OR AFRICAN-AMERICAN\",\"HISPANIC\",\"WHITE\",\"WHITE\",\"WHITE\",\"BLACK OR AFRICAN-AMERICAN\",\"WHITE\",\"BLACK OR AFRICAN-AMERICAN\",\"WHITE\",\"WHITE\",\"BLACK OR AFRICAN-AMERICAN\",\"WHITE\",\"BLACK OR AFRICAN-AMERICAN\",\"BLACK OR AFRICAN-AMERICAN\",\"WHITE\",\"WHITE\",\"BLACK OR AFRICAN-AMERICAN\",\"WHITE\",\"WHITE\",\"BLACK OR AFRICAN-AMERICAN\",\"BLACK OR AFRICAN-AMERICAN\",\"WHITE\",\"BLACK OR AFRICAN-AMERICAN\"],\"xaxis\":\"x\",\"yaxis\":\"y\",\"type\":\"histogram\"}],                        {\"template\":{\"data\":{\"barpolar\":[{\"marker\":{\"line\":{\"color\":\"rgb(17,17,17)\",\"width\":0.5},\"pattern\":{\"fillmode\":\"overlay\",\"size\":10,\"solidity\":0.2}},\"type\":\"barpolar\"}],\"bar\":[{\"error_x\":{\"color\":\"#f2f5fa\"},\"error_y\":{\"color\":\"#f2f5fa\"},\"marker\":{\"line\":{\"color\":\"rgb(17,17,17)\",\"width\":0.5},\"pattern\":{\"fillmode\":\"overlay\",\"size\":10,\"solidity\":0.2}},\"type\":\"bar\"}],\"carpet\":[{\"aaxis\":{\"endlinecolor\":\"#A2B1C6\",\"gridcolor\":\"#506784\",\"linecolor\":\"#506784\",\"minorgridcolor\":\"#506784\",\"startlinecolor\":\"#A2B1C6\"},\"baxis\":{\"endlinecolor\":\"#A2B1C6\",\"gridcolor\":\"#506784\",\"linecolor\":\"#506784\",\"minorgridcolor\":\"#506784\",\"startlinecolor\":\"#A2B1C6\"},\"type\":\"carpet\"}],\"choropleth\":[{\"colorbar\":{\"outlinewidth\":0,\"ticks\":\"\"},\"type\":\"choropleth\"}],\"contourcarpet\":[{\"colorbar\":{\"outlinewidth\":0,\"ticks\":\"\"},\"type\":\"contourcarpet\"}],\"contour\":[{\"colorbar\":{\"outlinewidth\":0,\"ticks\":\"\"},\"colorscale\":[[0.0,\"#0d0887\"],[0.1111111111111111,\"#46039f\"],[0.2222222222222222,\"#7201a8\"],[0.3333333333333333,\"#9c179e\"],[0.4444444444444444,\"#bd3786\"],[0.5555555555555556,\"#d8576b\"],[0.6666666666666666,\"#ed7953\"],[0.7777777777777778,\"#fb9f3a\"],[0.8888888888888888,\"#fdca26\"],[1.0,\"#f0f921\"]],\"type\":\"contour\"}],\"heatmapgl\":[{\"colorbar\":{\"outlinewidth\":0,\"ticks\":\"\"},\"colorscale\":[[0.0,\"#0d0887\"],[0.1111111111111111,\"#46039f\"],[0.2222222222222222,\"#7201a8\"],[0.3333333333333333,\"#9c179e\"],[0.4444444444444444,\"#bd3786\"],[0.5555555555555556,\"#d8576b\"],[0.6666666666666666,\"#ed7953\"],[0.7777777777777778,\"#fb9f3a\"],[0.8888888888888888,\"#fdca26\"],[1.0,\"#f0f921\"]],\"type\":\"heatmapgl\"}],\"heatmap\":[{\"colorbar\":{\"outlinewidth\":0,\"ticks\":\"\"},\"colorscale\":[[0.0,\"#0d0887\"],[0.1111111111111111,\"#46039f\"],[0.2222222222222222,\"#7201a8\"],[0.3333333333333333,\"#9c179e\"],[0.4444444444444444,\"#bd3786\"],[0.5555555555555556,\"#d8576b\"],[0.6666666666666666,\"#ed7953\"],[0.7777777777777778,\"#fb9f3a\"],[0.8888888888888888,\"#fdca26\"],[1.0,\"#f0f921\"]],\"type\":\"heatmap\"}],\"histogram2dcontour\":[{\"colorbar\":{\"outlinewidth\":0,\"ticks\":\"\"},\"colorscale\":[[0.0,\"#0d0887\"],[0.1111111111111111,\"#46039f\"],[0.2222222222222222,\"#7201a8\"],[0.3333333333333333,\"#9c179e\"],[0.4444444444444444,\"#bd3786\"],[0.5555555555555556,\"#d8576b\"],[0.6666666666666666,\"#ed7953\"],[0.7777777777777778,\"#fb9f3a\"],[0.8888888888888888,\"#fdca26\"],[1.0,\"#f0f921\"]],\"type\":\"histogram2dcontour\"}],\"histogram2d\":[{\"colorbar\":{\"outlinewidth\":0,\"ticks\":\"\"},\"colorscale\":[[0.0,\"#0d0887\"],[0.1111111111111111,\"#46039f\"],[0.2222222222222222,\"#7201a8\"],[0.3333333333333333,\"#9c179e\"],[0.4444444444444444,\"#bd3786\"],[0.5555555555555556,\"#d8576b\"],[0.6666666666666666,\"#ed7953\"],[0.7777777777777778,\"#fb9f3a\"],[0.8888888888888888,\"#fdca26\"],[1.0,\"#f0f921\"]],\"type\":\"histogram2d\"}],\"histogram\":[{\"marker\":{\"pattern\":{\"fillmode\":\"overlay\",\"size\":10,\"solidity\":0.2}},\"type\":\"histogram\"}],\"mesh3d\":[{\"colorbar\":{\"outlinewidth\":0,\"ticks\":\"\"},\"type\":\"mesh3d\"}],\"parcoords\":[{\"line\":{\"colorbar\":{\"outlinewidth\":0,\"ticks\":\"\"}},\"type\":\"parcoords\"}],\"pie\":[{\"automargin\":true,\"type\":\"pie\"}],\"scatter3d\":[{\"line\":{\"colorbar\":{\"outlinewidth\":0,\"ticks\":\"\"}},\"marker\":{\"colorbar\":{\"outlinewidth\":0,\"ticks\":\"\"}},\"type\":\"scatter3d\"}],\"scattercarpet\":[{\"marker\":{\"colorbar\":{\"outlinewidth\":0,\"ticks\":\"\"}},\"type\":\"scattercarpet\"}],\"scattergeo\":[{\"marker\":{\"colorbar\":{\"outlinewidth\":0,\"ticks\":\"\"}},\"type\":\"scattergeo\"}],\"scattergl\":[{\"marker\":{\"line\":{\"color\":\"#283442\"}},\"type\":\"scattergl\"}],\"scattermapbox\":[{\"marker\":{\"colorbar\":{\"outlinewidth\":0,\"ticks\":\"\"}},\"type\":\"scattermapbox\"}],\"scatterpolargl\":[{\"marker\":{\"colorbar\":{\"outlinewidth\":0,\"ticks\":\"\"}},\"type\":\"scatterpolargl\"}],\"scatterpolar\":[{\"marker\":{\"colorbar\":{\"outlinewidth\":0,\"ticks\":\"\"}},\"type\":\"scatterpolar\"}],\"scatter\":[{\"marker\":{\"line\":{\"color\":\"#283442\"}},\"type\":\"scatter\"}],\"scatterternary\":[{\"marker\":{\"colorbar\":{\"outlinewidth\":0,\"ticks\":\"\"}},\"type\":\"scatterternary\"}],\"surface\":[{\"colorbar\":{\"outlinewidth\":0,\"ticks\":\"\"},\"colorscale\":[[0.0,\"#0d0887\"],[0.1111111111111111,\"#46039f\"],[0.2222222222222222,\"#7201a8\"],[0.3333333333333333,\"#9c179e\"],[0.4444444444444444,\"#bd3786\"],[0.5555555555555556,\"#d8576b\"],[0.6666666666666666,\"#ed7953\"],[0.7777777777777778,\"#fb9f3a\"],[0.8888888888888888,\"#fdca26\"],[1.0,\"#f0f921\"]],\"type\":\"surface\"}],\"table\":[{\"cells\":{\"fill\":{\"color\":\"#506784\"},\"line\":{\"color\":\"rgb(17,17,17)\"}},\"header\":{\"fill\":{\"color\":\"#2a3f5f\"},\"line\":{\"color\":\"rgb(17,17,17)\"}},\"type\":\"table\"}]},\"layout\":{\"annotationdefaults\":{\"arrowcolor\":\"#f2f5fa\",\"arrowhead\":0,\"arrowwidth\":1},\"autotypenumbers\":\"strict\",\"coloraxis\":{\"colorbar\":{\"outlinewidth\":0,\"ticks\":\"\"}},\"colorscale\":{\"diverging\":[[0,\"#8e0152\"],[0.1,\"#c51b7d\"],[0.2,\"#de77ae\"],[0.3,\"#f1b6da\"],[0.4,\"#fde0ef\"],[0.5,\"#f7f7f7\"],[0.6,\"#e6f5d0\"],[0.7,\"#b8e186\"],[0.8,\"#7fbc41\"],[0.9,\"#4d9221\"],[1,\"#276419\"]],\"sequential\":[[0.0,\"#0d0887\"],[0.1111111111111111,\"#46039f\"],[0.2222222222222222,\"#7201a8\"],[0.3333333333333333,\"#9c179e\"],[0.4444444444444444,\"#bd3786\"],[0.5555555555555556,\"#d8576b\"],[0.6666666666666666,\"#ed7953\"],[0.7777777777777778,\"#fb9f3a\"],[0.8888888888888888,\"#fdca26\"],[1.0,\"#f0f921\"]],\"sequentialminus\":[[0.0,\"#0d0887\"],[0.1111111111111111,\"#46039f\"],[0.2222222222222222,\"#7201a8\"],[0.3333333333333333,\"#9c179e\"],[0.4444444444444444,\"#bd3786\"],[0.5555555555555556,\"#d8576b\"],[0.6666666666666666,\"#ed7953\"],[0.7777777777777778,\"#fb9f3a\"],[0.8888888888888888,\"#fdca26\"],[1.0,\"#f0f921\"]]},\"colorway\":[\"#636efa\",\"#EF553B\",\"#00cc96\",\"#ab63fa\",\"#FFA15A\",\"#19d3f3\",\"#FF6692\",\"#B6E880\",\"#FF97FF\",\"#FECB52\"],\"font\":{\"color\":\"#f2f5fa\"},\"geo\":{\"bgcolor\":\"rgb(17,17,17)\",\"lakecolor\":\"rgb(17,17,17)\",\"landcolor\":\"rgb(17,17,17)\",\"showlakes\":true,\"showland\":true,\"subunitcolor\":\"#506784\"},\"hoverlabel\":{\"align\":\"left\"},\"hovermode\":\"closest\",\"mapbox\":{\"style\":\"dark\"},\"paper_bgcolor\":\"rgb(17,17,17)\",\"plot_bgcolor\":\"rgb(17,17,17)\",\"polar\":{\"angularaxis\":{\"gridcolor\":\"#506784\",\"linecolor\":\"#506784\",\"ticks\":\"\"},\"bgcolor\":\"rgb(17,17,17)\",\"radialaxis\":{\"gridcolor\":\"#506784\",\"linecolor\":\"#506784\",\"ticks\":\"\"}},\"scene\":{\"xaxis\":{\"backgroundcolor\":\"rgb(17,17,17)\",\"gridcolor\":\"#506784\",\"gridwidth\":2,\"linecolor\":\"#506784\",\"showbackground\":true,\"ticks\":\"\",\"zerolinecolor\":\"#C8D4E3\"},\"yaxis\":{\"backgroundcolor\":\"rgb(17,17,17)\",\"gridcolor\":\"#506784\",\"gridwidth\":2,\"linecolor\":\"#506784\",\"showbackground\":true,\"ticks\":\"\",\"zerolinecolor\":\"#C8D4E3\"},\"zaxis\":{\"backgroundcolor\":\"rgb(17,17,17)\",\"gridcolor\":\"#506784\",\"gridwidth\":2,\"linecolor\":\"#506784\",\"showbackground\":true,\"ticks\":\"\",\"zerolinecolor\":\"#C8D4E3\"}},\"shapedefaults\":{\"line\":{\"color\":\"#f2f5fa\"}},\"sliderdefaults\":{\"bgcolor\":\"#C8D4E3\",\"bordercolor\":\"rgb(17,17,17)\",\"borderwidth\":1,\"tickwidth\":0},\"ternary\":{\"aaxis\":{\"gridcolor\":\"#506784\",\"linecolor\":\"#506784\",\"ticks\":\"\"},\"baxis\":{\"gridcolor\":\"#506784\",\"linecolor\":\"#506784\",\"ticks\":\"\"},\"bgcolor\":\"rgb(17,17,17)\",\"caxis\":{\"gridcolor\":\"#506784\",\"linecolor\":\"#506784\",\"ticks\":\"\"}},\"title\":{\"x\":0.05},\"updatemenudefaults\":{\"bgcolor\":\"#506784\",\"borderwidth\":0},\"xaxis\":{\"automargin\":true,\"gridcolor\":\"#283442\",\"linecolor\":\"#506784\",\"ticks\":\"\",\"title\":{\"standoff\":15},\"zerolinecolor\":\"#283442\",\"zerolinewidth\":2},\"yaxis\":{\"automargin\":true,\"gridcolor\":\"#283442\",\"linecolor\":\"#506784\",\"ticks\":\"\",\"title\":{\"standoff\":15},\"zerolinecolor\":\"#283442\",\"zerolinewidth\":2}}},\"xaxis\":{\"anchor\":\"y\",\"domain\":[0.0,1.0],\"title\":{\"text\":\"RACE\"},\"categoryorder\":\"total ascending\"},\"yaxis\":{\"anchor\":\"x\",\"domain\":[0.0,1.0],\"title\":{\"text\":\"NUMBER OF RESPONCES\"}},\"legend\":{\"title\":{\"text\":\"FAVOR OR OPPOSE EXPANDING NUCLEAR PLANTS\"},\"tracegroupgap\":0},\"margin\":{\"t\":60},\"barmode\":\"group\"},                        {\"responsive\": true}                    ).then(function(){\n",
       "                            \n",
       "var gd = document.getElementById('92ae60f2-94a1-485a-b3c0-fe2f4a4393b7');\n",
       "var x = new MutationObserver(function (mutations, observer) {{\n",
       "        var display = window.getComputedStyle(gd).display;\n",
       "        if (!display || display === 'none') {{\n",
       "            console.log([gd, 'removed!']);\n",
       "            Plotly.purge(gd);\n",
       "            observer.disconnect();\n",
       "        }}\n",
       "}});\n",
       "\n",
       "// Listen for the removal of the full notebook cells\n",
       "var notebookContainer = gd.closest('#notebook-container');\n",
       "if (notebookContainer) {{\n",
       "    x.observe(notebookContainer, {childList: true});\n",
       "}}\n",
       "\n",
       "// Listen for the clearing of the current output cell\n",
       "var outputEl = gd.closest('.output');\n",
       "if (outputEl) {{\n",
       "    x.observe(outputEl, {childList: true});\n",
       "}}\n",
       "\n",
       "                        })                };                });            </script>        </div>"
      ]
     },
     "metadata": {},
     "output_type": "display_data"
    }
   ],
   "source": [
    "# D6: RACE\n",
    "# Q13: FAVOR OR OPPOSE EXPANDING NUCLEAR PLANT IN THE MIDLANDS OF SC\n",
    "\n",
    "fig = px.histogram(df_IC, x=\"Q13\", color=\"D6\", template='plotly_dark', barmode=\"group\").update_xaxes(categoryorder='total ascending').update_layout(\n",
    "xaxis_title=\"FAVOR OR OPPOSE EXPANDING NUCLEAR PLANTS\", yaxis_title=\"NUMBER OF RESPONCES\", legend_title=\"RACE\",\n",
    ")\n",
    "fig.show()"
   ]
  }
 ],
 "metadata": {
  "kernelspec": {
   "display_name": "Python 3 (ipykernel)",
   "language": "python",
   "name": "python3"
  },
  "language_info": {
   "codemirror_mode": {
    "name": "ipython",
    "version": 3
   },
   "file_extension": ".py",
   "mimetype": "text/x-python",
   "name": "python",
   "nbconvert_exporter": "python",
   "pygments_lexer": "ipython3",
   "version": "3.10.7"
  }
 },
 "nbformat": 4,
 "nbformat_minor": 5
}
