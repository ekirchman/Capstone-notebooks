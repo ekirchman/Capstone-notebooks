{
 "cells": [
  {
   "cell_type": "code",
   "execution_count": 35,
   "id": "01e7ecf0-ef41-4b40-bac1-d83e098f3785",
   "metadata": {},
   "outputs": [],
   "source": [
    "import pandas as pd\n",
    "import os\n",
    "os.chdir(\"/home/eric/Nextcloud/Documents/Honors Capstone/nuclear/datasets/Bisconti\")\n",
    "dataframe1 = pd.read_excel(\"2206631 - Final Data excel .xlsx\")"
   ]
  },
  {
   "cell_type": "markdown",
   "id": "5def0ea3-41ba-4beb-84dd-85f0bcd534ae",
   "metadata": {},
   "source": [
    "# Bisconti data set (2022)\n",
    "\n",
    "## Interesting possible comparisons\n",
    "\n",
    "*simple demographic comparisons*\n",
    "\n",
    "Q10 vs Gender (Q1)  \n",
    "Q10 vs Ethnicity (Q3)  \n",
    "Q10 vs Q4 (Education)  \n",
    "Q10 vs Q5a (Political views)  \n",
    "\n",
    "*nuanced comparisons*\n",
    "Q10 vs Q6r1: Q6r1: Affordable electricity - How important to you are the following considerations for the way electricity is produced?  \n",
    "Q10 vs Q6r2: Reliable electricity - How important to you are the following considerations for the way electricity is produced?  \n",
    "Q10 vs Q6r3: Clean air - How important to you are the following considerations for the way electricity is produced?  \n",
    "Q10 vs Q6r4: Preservation of natural resources - How important to you are the following considerations for the way electricity is produced?  \n",
    "Q10 vs Q6r5: Efficiency - How important to you are the following considerations for the way electricity is produced?\n",
    "Q10 vs Q6r7: Economic growth - How important to you are the following considerations for the way electricity is produced?  \n",
    "Q10 vs Q6r8: Job creation - How important to you are the following considerations for the way electricity is produced?  \n",
    "Q10 vs Q6r9: Climate change solution - How important to you are the following considerations for the way electricity is produced?  \n",
    "Q10 vs Q6r10: Resilience - How important to you are the following considerations for the way electricity is produced?  \n",
    "Q10 vs Q6r11: Small footprint (less land use) - How important to you are the following considerations for the way electricity is produced?  \n",
    "\n",
    "*since this is on a scale of important to not important, we need to flatten this structure to create a diagram of importance*\n",
    "\n",
    "#### *We can use the Q7 version of these above questions to create a pie chart to show what Americans want the most in their energy*\n",
    "Q7r1 vs Q7r2 vs Q7r3 vs Q7r4 vs Q7r5 vs Q7r6 vs Q7r7\n",
    "\n",
    "\n",
    "*Glossary*\n",
    "Q10 = Overall, do you strongly favor, somewhat favor, somewhat oppose, or strongly oppose the use of nuclear energy as one of the ways to provide electricity in the United States?'"
   ]
  },
  {
   "cell_type": "code",
   "execution_count": 36,
   "id": "b57ffb5c-3c82-4ef1-b90a-349f3974a258",
   "metadata": {},
   "outputs": [],
   "source": [
    "os.chdir(\"/home/eric/Nextcloud/Documents/Honors Capstone/nuclear/datasets/Bisconti\")\n",
    "df_csv = pd.read_csv(\"output_file.csv\")\n",
    "#df_csv.columns"
   ]
  },
  {
   "cell_type": "code",
   "execution_count": 37,
   "id": "05b808b4-a20b-4c2e-a999-6b81e52a4f05",
   "metadata": {},
   "outputs": [],
   "source": [
    "def plot_bar_or_pie(column, title, pie_flag = True, bar_flag = False):\n",
    "    import plotly.express as px\n",
    "    my_dict = {} # dictionary to hold list of strings of approval\n",
    "    \n",
    "    df2 = dataframe1[[column, \"Q10\"]] # grabs subset of questions\n",
    "    for idx, row in df2.iterrows():\n",
    "        #print(idx, row[\"hAge1\"], row[\"Q10\"])\n",
    "        if(row[column] not in my_dict): #checks if category (ie 18-34, 45-50, 50+) is in dictionary or not.\n",
    "            my_dict[row[column]] = [row[\"Q10\"]]\n",
    "            #print([row[\"Q10\"]])\n",
    "            pass\n",
    "        else:\n",
    "            my_dict[row[column]].append(row[\"Q10\"])\n",
    "\n",
    "            \n",
    "    for key, val in my_dict.items():\n",
    "        print(key)\n",
    "        #print(val)\n",
    "        print('Strongly favor:', val.count('Strongly favor'))\n",
    "        print('Somewhat favor:', val.count('Somewhat favor'))\n",
    "        print('Somewhat oppose:', val.count('Somewhat oppose'))\n",
    "        print('Strongly oppose:', val.count('Strongly oppose'))\n",
    "\n",
    "        att_list = [val.count('Strongly favor'), val.count('Somewhat favor'), val.count('Somewhat oppose'), val.count('Strongly oppose')]\n",
    "        att_list_types = ['Strongly favor', 'Somewhat favor', 'Somewhat oppose', 'Strongly oppose']\n",
    "        fig = px.bar(x = att_list_types, y = att_list, title=title.format(key=key), template='plotly_dark').update_layout(\n",
    "        xaxis_title=\"Attitudes\", yaxis_title=\"Number of responses\"\n",
    "    )\n",
    "        if bar_flag:\n",
    "            fig.show()\n",
    "\n",
    "        #template='plotly_dark' for dark mode\n",
    "        fig = px.pie(values = att_list, names = att_list_types, title=title.format(key=key))\n",
    "        if pie_flag:\n",
    "            fig.show()"
   ]
  },
  {
   "cell_type": "code",
   "execution_count": 38,
   "id": "5a311a21-de82-4292-8224-51716f76a0b2",
   "metadata": {},
   "outputs": [],
   "source": [
    "def plot_whole_population(column, title, pie_flag = True, bar_flag = False):\n",
    "    import plotly.express as px\n",
    "    my_dict = {} # dictionary to hold list of strings of approval\n",
    "    \n",
    "    df_col_list = dataframe1[column].tolist() # grabs subset of questions\n",
    "    \n",
    "    att_list_types = list(set(df_col_list))\n",
    "    att_list = [val.count('Strongly favor'), val.count('Somewhat favor'), val.count('Somewhat oppose'), val.count('Strongly oppose')]\n",
    "    \n",
    "#plot_whole_population(\"Q6r2\", \"Test\")"
   ]
  },
  {
   "cell_type": "code",
   "execution_count": null,
   "id": "04c4be4f-c4f4-4b10-ba13-9c4820d60a93",
   "metadata": {},
   "outputs": [],
   "source": []
  },
  {
   "cell_type": "code",
   "execution_count": 39,
   "id": "a2a895fd-e988-4b8d-90ea-680fda190a9d",
   "metadata": {},
   "outputs": [],
   "source": [
    "#plot_bar_or_pie(\"hAge1\", \"Attitudes towards nuclear energy in {key} year olds\")"
   ]
  },
  {
   "cell_type": "code",
   "execution_count": 40,
   "id": "e750036b-c870-435b-9a61-ec9bac29a565",
   "metadata": {},
   "outputs": [],
   "source": [
    "#plot_bar_or_pie(\"hAge2\", \"Attitudes towards nuclear energy in {key} year olds\")"
   ]
  },
  {
   "cell_type": "code",
   "execution_count": 41,
   "id": "dfec13d0-299f-4afb-8759-b89e45c7cb81",
   "metadata": {},
   "outputs": [],
   "source": [
    "#plot_bar_or_pie(\"Q4\", \"Attitudes towards nuclear energy from people have the following education: {key}\")"
   ]
  },
  {
   "cell_type": "code",
   "execution_count": 42,
   "id": "c6f99b2f-3782-431d-af5c-f3d48bc017fa",
   "metadata": {},
   "outputs": [],
   "source": [
    "#plot_bar_or_pie(\"Q3\", \"Attitudes towards nuclear energy with {key}s\")"
   ]
  },
  {
   "cell_type": "code",
   "execution_count": 43,
   "id": "66aed52d-b177-4227-bd15-ea36441fde88",
   "metadata": {},
   "outputs": [],
   "source": [
    "#plot_bar_or_pie(\"Q5a\", \"Attitudes towards nuclear energy who's political views are generally {key}\")"
   ]
  },
  {
   "cell_type": "markdown",
   "id": "3469a575-69e8-4a50-a090-8fcea0e1a958",
   "metadata": {},
   "source": [
    "### Histograms"
   ]
  },
  {
   "cell_type": "code",
   "execution_count": 59,
   "id": "d7c5f862-0768-4c76-8261-ef87282132d6",
   "metadata": {},
   "outputs": [
    {
     "data": {
      "application/vnd.plotly.v1+json": {
       "config": {
        "plotlyServerURL": "https://plot.ly"
       },
       "data": [
        {
         "alignmentgroup": "True",
         "bingroup": "x",
         "hovertemplate": "Q5a=Moderate<br>Q10=%{x}<br>count=%{y}<extra></extra>",
         "legendgroup": "Moderate",
         "marker": {
          "color": "#636efa",
          "pattern": {
           "shape": ""
          }
         },
         "name": "Moderate",
         "offsetgroup": "Moderate",
         "orientation": "v",
         "showlegend": true,
         "type": "histogram",
         "x": [
          "Somewhat favor",
          "Strongly favor",
          "Somewhat favor",
          "Somewhat favor",
          "Somewhat favor",
          "Somewhat favor",
          "Somewhat favor",
          "Somewhat favor",
          "Somewhat favor",
          "Somewhat favor",
          "Somewhat oppose",
          "Somewhat favor",
          "Strongly favor",
          "Somewhat favor",
          "Strongly favor",
          "Strongly favor",
          "Somewhat favor",
          "Somewhat favor",
          "Somewhat favor",
          "Somewhat favor",
          "Strongly favor",
          "Somewhat favor",
          "Strongly favor",
          "Somewhat favor",
          "Strongly favor",
          "Somewhat oppose",
          "Strongly favor",
          "Strongly oppose",
          "Strongly favor",
          "Somewhat favor",
          "Somewhat favor",
          "Strongly favor",
          "Strongly oppose",
          "Strongly favor",
          "Somewhat oppose",
          "Somewhat favor",
          "Somewhat oppose",
          "Somewhat favor",
          "Somewhat favor",
          "Somewhat favor",
          "Somewhat favor",
          "Strongly favor",
          "Strongly favor",
          "Strongly favor",
          "Somewhat oppose",
          "Somewhat oppose",
          "Strongly favor",
          "Somewhat favor",
          "Strongly favor",
          "Somewhat favor",
          "Somewhat oppose",
          "Somewhat favor",
          "Strongly favor",
          "Somewhat favor",
          "Somewhat favor",
          "Somewhat favor",
          "Somewhat favor",
          "Somewhat oppose",
          "Somewhat oppose",
          "Somewhat oppose",
          "Strongly oppose",
          "Somewhat favor",
          "Somewhat oppose",
          "Somewhat oppose",
          "Strongly favor",
          "Somewhat favor",
          "Strongly favor",
          "Somewhat favor",
          "Somewhat favor",
          "Somewhat favor",
          "Strongly favor",
          "Somewhat oppose",
          "Somewhat favor",
          "Somewhat favor",
          "Somewhat favor",
          "Strongly favor",
          "Somewhat favor",
          "Somewhat favor",
          "Somewhat favor",
          "Strongly oppose",
          "Strongly favor",
          "Somewhat oppose",
          "Somewhat favor",
          "Strongly favor",
          "Somewhat favor",
          "Somewhat favor",
          "Somewhat favor",
          "Somewhat favor",
          "Strongly oppose",
          "Strongly oppose",
          "Strongly favor",
          "Strongly favor",
          "Strongly favor",
          "Somewhat favor",
          "Somewhat favor",
          "Strongly favor",
          "Somewhat favor",
          "Somewhat favor",
          "Somewhat favor",
          "Somewhat favor",
          "Strongly favor",
          "Strongly favor",
          "Somewhat oppose",
          "Somewhat favor",
          "Strongly oppose",
          "Somewhat oppose",
          "Somewhat favor",
          "Somewhat favor",
          "Somewhat favor",
          "Strongly favor",
          "Somewhat favor",
          "Somewhat favor",
          "Somewhat favor",
          "Somewhat oppose",
          "Strongly oppose",
          "Somewhat favor",
          "Somewhat favor",
          "Strongly oppose",
          "Strongly favor",
          "Somewhat favor",
          "Somewhat oppose",
          "Somewhat favor",
          "Somewhat favor",
          "Somewhat oppose",
          "Strongly favor",
          "Somewhat favor",
          "Strongly favor",
          "Somewhat favor",
          "Strongly oppose",
          "Strongly oppose",
          "Somewhat favor",
          "Somewhat oppose",
          "Somewhat oppose",
          "Somewhat oppose",
          "Somewhat favor",
          "Somewhat favor",
          "Somewhat favor",
          "Somewhat favor",
          "Strongly oppose",
          "Somewhat favor",
          "Somewhat favor",
          "Strongly favor",
          "Somewhat favor",
          "Somewhat favor",
          "Strongly favor",
          "Somewhat oppose",
          "Strongly favor",
          "Somewhat favor",
          "Somewhat favor",
          "Somewhat favor",
          "Somewhat favor",
          "Somewhat favor",
          "Somewhat oppose",
          "Strongly oppose",
          "Somewhat favor",
          "Somewhat favor",
          "Somewhat favor",
          "Somewhat favor",
          "Somewhat favor",
          "Strongly favor",
          "Somewhat favor",
          "Somewhat favor",
          "Somewhat favor",
          "Somewhat oppose",
          "Somewhat favor",
          "Somewhat favor",
          "Somewhat favor",
          "Somewhat favor",
          "Strongly favor",
          "Strongly favor",
          "Somewhat oppose",
          "Somewhat favor",
          "Somewhat favor",
          "Strongly favor",
          "Somewhat favor",
          "Somewhat oppose",
          "Somewhat favor",
          "Strongly favor",
          "Somewhat favor",
          "Somewhat favor",
          "Somewhat favor",
          "Somewhat favor",
          "Somewhat oppose",
          "Strongly favor",
          "Somewhat favor",
          "Somewhat favor",
          "Strongly favor",
          "Somewhat favor",
          "Strongly favor",
          "Somewhat favor",
          "Somewhat favor",
          "Somewhat favor",
          "Somewhat favor",
          "Somewhat favor",
          "Strongly oppose",
          "Strongly oppose",
          "Strongly oppose",
          "Somewhat oppose",
          "Strongly favor",
          "Somewhat oppose",
          "Somewhat favor",
          "Somewhat oppose",
          "Strongly favor",
          "Strongly favor",
          "Somewhat oppose",
          "Strongly favor",
          "Somewhat oppose",
          "Somewhat oppose",
          "Somewhat favor",
          "Somewhat favor",
          "Somewhat favor",
          "Somewhat oppose",
          "Somewhat oppose",
          "Somewhat favor",
          "Somewhat favor",
          "Strongly oppose",
          "Somewhat favor",
          "Somewhat favor",
          "Somewhat favor",
          "Somewhat oppose",
          "Somewhat favor",
          "Somewhat favor",
          "Strongly favor",
          "Strongly favor",
          "Somewhat favor",
          "Strongly favor",
          "Somewhat oppose",
          "Somewhat favor",
          "Somewhat favor",
          "Somewhat favor",
          "Somewhat oppose",
          "Strongly oppose",
          "Strongly favor",
          "Somewhat favor",
          "Strongly favor",
          "Somewhat favor",
          "Somewhat favor",
          "Somewhat favor",
          "Strongly favor",
          "Strongly favor",
          "Somewhat favor",
          "Strongly favor",
          "Somewhat favor",
          "Somewhat favor",
          "Somewhat favor",
          "Somewhat favor",
          "Strongly favor",
          "Somewhat oppose",
          "Somewhat favor",
          "Strongly favor",
          "Strongly favor",
          "Somewhat favor",
          "Somewhat favor",
          "Strongly favor",
          "Somewhat favor",
          "Somewhat favor",
          "Somewhat favor",
          "Strongly favor",
          "Somewhat favor",
          "Somewhat oppose",
          "Somewhat favor",
          "Strongly oppose",
          "Somewhat oppose",
          "Strongly favor",
          "Somewhat favor",
          "Strongly oppose",
          "Somewhat favor",
          "Somewhat favor",
          "Somewhat favor",
          "Somewhat oppose",
          "Somewhat favor",
          "Somewhat favor",
          "Somewhat favor",
          "Somewhat favor",
          "Somewhat favor",
          "Somewhat oppose",
          "Somewhat favor",
          "Somewhat favor",
          "Somewhat oppose",
          "Strongly favor",
          "Strongly favor",
          "Somewhat oppose",
          "Strongly favor",
          "Strongly oppose",
          "Somewhat oppose",
          "Strongly favor",
          "Somewhat oppose",
          "Somewhat favor",
          "Somewhat favor",
          "Somewhat favor",
          "Somewhat favor",
          "Strongly favor",
          "Strongly favor",
          "Somewhat oppose",
          "Somewhat favor",
          "Somewhat favor",
          "Strongly oppose",
          "Strongly oppose",
          "Somewhat oppose",
          "Somewhat favor",
          "Somewhat favor",
          "Somewhat oppose",
          "Somewhat oppose",
          "Strongly favor",
          "Somewhat favor",
          "Somewhat oppose",
          "Somewhat favor",
          "Strongly oppose",
          "Strongly favor",
          "Somewhat favor",
          "Somewhat oppose",
          "Somewhat favor",
          "Strongly favor",
          "Strongly favor",
          "Somewhat oppose",
          "Somewhat favor",
          "Somewhat favor",
          "Strongly favor",
          "Somewhat oppose",
          "Somewhat favor",
          "Somewhat oppose",
          "Somewhat favor",
          "Strongly favor",
          "Somewhat favor",
          "Somewhat oppose",
          "Strongly favor",
          "Somewhat favor",
          "Somewhat favor",
          "Somewhat oppose",
          "Somewhat favor",
          "Somewhat favor",
          "Strongly oppose",
          "Strongly oppose",
          "Strongly favor",
          "Strongly favor",
          "Strongly favor",
          "Somewhat oppose",
          "Strongly favor",
          "Strongly favor",
          "Strongly favor",
          "Somewhat favor",
          "Somewhat favor",
          "Somewhat favor",
          "Somewhat favor",
          "Strongly oppose",
          "Somewhat favor",
          "Strongly oppose",
          "Somewhat oppose",
          "Strongly oppose",
          "Strongly favor",
          "Somewhat oppose",
          "Strongly favor",
          "Somewhat favor",
          "Somewhat oppose",
          "Strongly favor",
          "Somewhat favor",
          "Somewhat oppose",
          "Somewhat favor",
          "Strongly favor",
          "Somewhat favor",
          "Strongly favor",
          "Somewhat favor",
          "Strongly oppose",
          "Somewhat favor",
          "Strongly favor",
          "Somewhat oppose",
          "Strongly favor",
          "Somewhat oppose",
          "Strongly favor",
          "Somewhat oppose",
          "Somewhat favor",
          "Somewhat favor",
          "Strongly favor",
          "Somewhat favor",
          "Somewhat favor",
          "Somewhat favor",
          "Strongly favor",
          "Somewhat favor",
          "Strongly favor",
          "Strongly favor",
          "Somewhat favor",
          "Somewhat oppose",
          "Somewhat favor",
          "Somewhat favor",
          "Somewhat favor",
          "Strongly favor",
          "Strongly favor",
          "Strongly favor",
          "Somewhat oppose",
          "Strongly favor",
          "Strongly favor",
          "Strongly favor",
          "Somewhat oppose",
          "Strongly favor"
         ],
         "xaxis": "x",
         "yaxis": "y"
        },
        {
         "alignmentgroup": "True",
         "bingroup": "x",
         "hovertemplate": "Q5a=Very liberal<br>Q10=%{x}<br>count=%{y}<extra></extra>",
         "legendgroup": "Very liberal",
         "marker": {
          "color": "#EF553B",
          "pattern": {
           "shape": ""
          }
         },
         "name": "Very liberal",
         "offsetgroup": "Very liberal",
         "orientation": "v",
         "showlegend": true,
         "type": "histogram",
         "x": [
          "Somewhat favor",
          "Somewhat favor",
          "Somewhat favor",
          "Strongly oppose",
          "Strongly oppose",
          "Somewhat oppose",
          "Somewhat favor",
          "Strongly favor",
          "Somewhat favor",
          "Somewhat oppose",
          "Strongly favor",
          "Strongly favor",
          "Somewhat oppose",
          "Somewhat favor",
          "Somewhat favor",
          "Somewhat oppose",
          "Somewhat favor",
          "Strongly favor",
          "Somewhat favor",
          "Strongly favor",
          "Strongly favor",
          "Strongly favor",
          "Somewhat favor",
          "Strongly favor",
          "Strongly favor",
          "Strongly favor",
          "Strongly favor",
          "Strongly favor",
          "Somewhat oppose",
          "Somewhat oppose",
          "Strongly favor",
          "Strongly favor",
          "Somewhat favor",
          "Strongly favor",
          "Strongly favor",
          "Strongly favor",
          "Strongly oppose",
          "Somewhat favor",
          "Somewhat favor",
          "Somewhat favor",
          "Strongly favor",
          "Strongly favor",
          "Strongly favor",
          "Strongly favor",
          "Somewhat favor",
          "Strongly favor",
          "Strongly favor",
          "Strongly favor",
          "Somewhat oppose",
          "Strongly favor",
          "Somewhat oppose",
          "Strongly oppose",
          "Strongly favor",
          "Somewhat favor",
          "Somewhat favor",
          "Strongly favor",
          "Strongly favor",
          "Strongly favor",
          "Strongly favor",
          "Somewhat favor",
          "Somewhat oppose",
          "Strongly favor",
          "Strongly oppose",
          "Somewhat oppose",
          "Strongly oppose",
          "Strongly favor",
          "Somewhat favor",
          "Somewhat favor",
          "Strongly favor",
          "Somewhat favor",
          "Somewhat favor",
          "Somewhat favor",
          "Somewhat oppose",
          "Strongly favor",
          "Strongly favor",
          "Strongly favor",
          "Strongly favor",
          "Strongly favor",
          "Strongly favor",
          "Somewhat favor",
          "Somewhat favor",
          "Somewhat oppose",
          "Somewhat oppose",
          "Somewhat favor",
          "Somewhat oppose",
          "Somewhat favor",
          "Strongly favor",
          "Strongly favor",
          "Strongly favor",
          "Somewhat oppose",
          "Strongly favor",
          "Strongly oppose",
          "Strongly oppose",
          "Strongly oppose",
          "Somewhat favor",
          "Strongly favor",
          "Somewhat oppose",
          "Strongly favor",
          "Somewhat favor",
          "Strongly oppose",
          "Somewhat favor",
          "Strongly favor",
          "Somewhat oppose",
          "Strongly oppose",
          "Strongly oppose",
          "Somewhat oppose",
          "Somewhat favor",
          "Somewhat favor",
          "Strongly favor",
          "Somewhat favor",
          "Strongly favor"
         ],
         "xaxis": "x",
         "yaxis": "y"
        },
        {
         "alignmentgroup": "True",
         "bingroup": "x",
         "hovertemplate": "Q5a=Somewhat conservative<br>Q10=%{x}<br>count=%{y}<extra></extra>",
         "legendgroup": "Somewhat conservative",
         "marker": {
          "color": "#00cc96",
          "pattern": {
           "shape": ""
          }
         },
         "name": "Somewhat conservative",
         "offsetgroup": "Somewhat conservative",
         "orientation": "v",
         "showlegend": true,
         "type": "histogram",
         "x": [
          "Somewhat oppose",
          "Somewhat favor",
          "Somewhat favor",
          "Somewhat favor",
          "Somewhat favor",
          "Somewhat favor",
          "Strongly favor",
          "Somewhat favor",
          "Somewhat oppose",
          "Somewhat favor",
          "Somewhat favor",
          "Strongly favor",
          "Somewhat favor",
          "Somewhat favor",
          "Somewhat favor",
          "Strongly favor",
          "Somewhat oppose",
          "Somewhat favor",
          "Somewhat favor",
          "Somewhat favor",
          "Somewhat favor",
          "Strongly favor",
          "Somewhat favor",
          "Somewhat favor",
          "Somewhat favor",
          "Strongly favor",
          "Somewhat favor",
          "Somewhat favor",
          "Strongly favor",
          "Somewhat favor",
          "Strongly favor",
          "Somewhat favor",
          "Somewhat oppose",
          "Strongly favor",
          "Somewhat favor",
          "Somewhat favor",
          "Somewhat favor",
          "Strongly favor",
          "Somewhat favor",
          "Somewhat favor",
          "Strongly favor",
          "Somewhat favor",
          "Somewhat favor",
          "Somewhat favor",
          "Somewhat favor",
          "Somewhat favor",
          "Somewhat favor",
          "Somewhat favor",
          "Strongly oppose",
          "Strongly oppose",
          "Somewhat favor",
          "Strongly favor",
          "Somewhat favor",
          "Strongly favor",
          "Somewhat favor",
          "Somewhat favor",
          "Somewhat favor",
          "Somewhat favor",
          "Strongly favor",
          "Strongly favor",
          "Strongly favor",
          "Somewhat favor",
          "Somewhat favor",
          "Somewhat favor",
          "Strongly favor",
          "Somewhat favor",
          "Somewhat oppose",
          "Somewhat favor",
          "Strongly favor",
          "Somewhat favor",
          "Somewhat favor",
          "Strongly favor",
          "Somewhat favor",
          "Somewhat oppose",
          "Strongly favor",
          "Somewhat favor",
          "Strongly oppose",
          "Somewhat oppose",
          "Somewhat favor",
          "Strongly favor",
          "Somewhat favor",
          "Somewhat favor",
          "Somewhat favor",
          "Somewhat favor",
          "Somewhat favor",
          "Strongly favor",
          "Somewhat favor",
          "Somewhat oppose",
          "Strongly favor",
          "Somewhat favor",
          "Somewhat oppose",
          "Somewhat favor",
          "Somewhat favor",
          "Strongly oppose",
          "Strongly favor",
          "Somewhat favor",
          "Somewhat oppose",
          "Strongly favor",
          "Somewhat favor",
          "Strongly favor",
          "Somewhat favor",
          "Somewhat favor",
          "Somewhat favor",
          "Strongly favor",
          "Strongly favor",
          "Somewhat favor",
          "Somewhat oppose",
          "Somewhat favor",
          "Somewhat oppose",
          "Somewhat oppose",
          "Somewhat oppose",
          "Strongly favor",
          "Somewhat favor",
          "Somewhat favor",
          "Strongly favor",
          "Somewhat oppose",
          "Somewhat favor",
          "Somewhat favor",
          "Strongly favor",
          "Strongly favor",
          "Somewhat oppose",
          "Somewhat favor",
          "Somewhat favor",
          "Strongly favor",
          "Somewhat favor",
          "Somewhat favor",
          "Somewhat favor",
          "Somewhat favor",
          "Strongly favor",
          "Strongly favor",
          "Strongly favor",
          "Somewhat favor",
          "Strongly favor",
          "Strongly favor",
          "Strongly favor",
          "Strongly favor",
          "Somewhat oppose",
          "Strongly favor",
          "Somewhat oppose",
          "Strongly favor",
          "Somewhat favor",
          "Somewhat favor",
          "Strongly favor",
          "Somewhat favor",
          "Strongly favor",
          "Strongly favor",
          "Strongly favor",
          "Strongly favor",
          "Somewhat favor",
          "Somewhat favor",
          "Strongly favor",
          "Somewhat favor",
          "Strongly oppose",
          "Somewhat favor",
          "Strongly favor",
          "Somewhat favor",
          "Somewhat favor",
          "Somewhat favor",
          "Somewhat oppose",
          "Strongly favor",
          "Somewhat favor",
          "Somewhat favor",
          "Strongly favor",
          "Strongly favor",
          "Strongly favor",
          "Somewhat oppose",
          "Strongly favor",
          "Strongly oppose",
          "Strongly favor",
          "Strongly favor",
          "Somewhat favor",
          "Strongly oppose",
          "Strongly favor",
          "Strongly favor",
          "Somewhat oppose",
          "Somewhat favor",
          "Strongly favor",
          "Strongly favor",
          "Strongly favor",
          "Strongly favor",
          "Somewhat oppose",
          "Strongly favor",
          "Strongly favor",
          "Somewhat favor",
          "Somewhat favor",
          "Strongly favor",
          "Somewhat favor",
          "Strongly favor",
          "Somewhat favor",
          "Somewhat favor",
          "Somewhat oppose",
          "Strongly favor",
          "Strongly favor",
          "Strongly favor",
          "Somewhat favor"
         ],
         "xaxis": "x",
         "yaxis": "y"
        },
        {
         "alignmentgroup": "True",
         "bingroup": "x",
         "hovertemplate": "Q5a=Very conservative<br>Q10=%{x}<br>count=%{y}<extra></extra>",
         "legendgroup": "Very conservative",
         "marker": {
          "color": "#ab63fa",
          "pattern": {
           "shape": ""
          }
         },
         "name": "Very conservative",
         "offsetgroup": "Very conservative",
         "orientation": "v",
         "showlegend": true,
         "type": "histogram",
         "x": [
          "Strongly favor",
          "Somewhat oppose",
          "Strongly favor",
          "Strongly oppose",
          "Somewhat oppose",
          "Strongly favor",
          "Strongly favor",
          "Somewhat favor",
          "Somewhat favor",
          "Strongly favor",
          "Strongly favor",
          "Somewhat oppose",
          "Somewhat favor",
          "Strongly favor",
          "Strongly favor",
          "Strongly favor",
          "Somewhat favor",
          "Strongly favor",
          "Strongly favor",
          "Strongly favor",
          "Somewhat oppose",
          "Somewhat favor",
          "Somewhat favor",
          "Strongly favor",
          "Strongly favor",
          "Somewhat favor",
          "Strongly favor",
          "Strongly favor",
          "Strongly favor",
          "Somewhat oppose",
          "Somewhat oppose",
          "Strongly oppose",
          "Somewhat favor",
          "Somewhat favor",
          "Strongly favor",
          "Somewhat favor",
          "Somewhat favor",
          "Strongly favor",
          "Somewhat favor",
          "Strongly favor",
          "Somewhat oppose",
          "Somewhat favor",
          "Strongly favor",
          "Somewhat favor",
          "Strongly favor",
          "Strongly favor",
          "Strongly favor",
          "Strongly favor",
          "Strongly favor",
          "Strongly favor",
          "Strongly favor",
          "Strongly favor",
          "Strongly favor",
          "Strongly favor",
          "Somewhat favor",
          "Somewhat favor",
          "Somewhat oppose",
          "Strongly favor",
          "Strongly favor",
          "Strongly favor",
          "Strongly favor",
          "Somewhat oppose",
          "Strongly favor",
          "Strongly favor",
          "Strongly favor",
          "Somewhat favor",
          "Strongly oppose",
          "Somewhat oppose",
          "Somewhat favor",
          "Somewhat favor",
          "Strongly favor",
          "Somewhat favor",
          "Strongly oppose",
          "Somewhat favor",
          "Somewhat favor",
          "Strongly favor",
          "Somewhat favor",
          "Strongly favor",
          "Strongly favor",
          "Somewhat favor",
          "Strongly favor",
          "Somewhat favor",
          "Strongly favor",
          "Strongly favor",
          "Somewhat favor",
          "Somewhat favor",
          "Somewhat oppose",
          "Somewhat favor",
          "Strongly oppose",
          "Somewhat favor",
          "Strongly favor",
          "Strongly favor",
          "Strongly favor",
          "Somewhat oppose",
          "Somewhat oppose",
          "Somewhat favor",
          "Somewhat oppose",
          "Strongly favor",
          "Strongly favor",
          "Strongly favor",
          "Strongly favor",
          "Strongly favor",
          "Strongly favor",
          "Somewhat favor",
          "Strongly favor",
          "Strongly favor",
          "Strongly favor",
          "Somewhat oppose",
          "Strongly favor",
          "Strongly oppose",
          "Strongly favor",
          "Somewhat oppose",
          "Strongly favor",
          "Somewhat oppose",
          "Strongly favor",
          "Somewhat favor",
          "Strongly favor",
          "Strongly favor",
          "Somewhat favor",
          "Strongly favor",
          "Strongly favor",
          "Somewhat favor",
          "Strongly oppose",
          "Strongly favor",
          "Strongly favor",
          "Somewhat favor",
          "Strongly oppose",
          "Strongly favor",
          "Strongly favor",
          "Somewhat favor",
          "Somewhat favor",
          "Strongly favor",
          "Strongly favor",
          "Strongly favor",
          "Strongly favor",
          "Strongly favor",
          "Strongly favor",
          "Somewhat favor",
          "Somewhat favor",
          "Strongly favor",
          "Strongly favor",
          "Strongly favor",
          "Strongly favor",
          "Strongly favor",
          "Strongly favor",
          "Strongly oppose",
          "Strongly favor",
          "Somewhat favor",
          "Somewhat oppose",
          "Strongly favor",
          "Strongly favor",
          "Somewhat favor",
          "Strongly favor",
          "Strongly favor",
          "Strongly favor",
          "Strongly favor",
          "Somewhat favor",
          "Somewhat favor",
          "Strongly favor",
          "Somewhat oppose"
         ],
         "xaxis": "x",
         "yaxis": "y"
        },
        {
         "alignmentgroup": "True",
         "bingroup": "x",
         "hovertemplate": "Q5a=Somewhat liberal<br>Q10=%{x}<br>count=%{y}<extra></extra>",
         "legendgroup": "Somewhat liberal",
         "marker": {
          "color": "#FFA15A",
          "pattern": {
           "shape": ""
          }
         },
         "name": "Somewhat liberal",
         "offsetgroup": "Somewhat liberal",
         "orientation": "v",
         "showlegend": true,
         "type": "histogram",
         "x": [
          "Strongly favor",
          "Strongly favor",
          "Somewhat favor",
          "Somewhat oppose",
          "Somewhat favor",
          "Somewhat oppose",
          "Somewhat oppose",
          "Somewhat favor",
          "Somewhat favor",
          "Strongly oppose",
          "Somewhat oppose",
          "Strongly favor",
          "Somewhat oppose",
          "Somewhat oppose",
          "Somewhat favor",
          "Somewhat oppose",
          "Strongly favor",
          "Strongly favor",
          "Somewhat favor",
          "Strongly oppose",
          "Somewhat favor",
          "Somewhat favor",
          "Somewhat favor",
          "Somewhat oppose",
          "Strongly oppose",
          "Somewhat oppose",
          "Strongly oppose",
          "Strongly favor",
          "Strongly favor",
          "Somewhat favor",
          "Somewhat favor",
          "Somewhat favor",
          "Somewhat oppose",
          "Strongly oppose",
          "Somewhat favor",
          "Somewhat favor",
          "Somewhat favor",
          "Somewhat favor",
          "Somewhat oppose",
          "Strongly oppose",
          "Strongly favor",
          "Somewhat favor",
          "Strongly favor",
          "Somewhat favor",
          "Somewhat favor",
          "Somewhat favor",
          "Somewhat favor",
          "Somewhat oppose",
          "Somewhat favor",
          "Somewhat favor",
          "Somewhat favor",
          "Somewhat oppose",
          "Somewhat favor",
          "Strongly oppose",
          "Somewhat favor",
          "Somewhat favor",
          "Strongly oppose",
          "Somewhat favor",
          "Somewhat oppose",
          "Strongly favor",
          "Somewhat favor",
          "Somewhat favor",
          "Strongly oppose",
          "Somewhat oppose",
          "Somewhat favor",
          "Somewhat favor",
          "Strongly favor",
          "Somewhat oppose",
          "Somewhat favor",
          "Somewhat favor",
          "Somewhat favor",
          "Somewhat favor",
          "Somewhat favor",
          "Somewhat favor",
          "Strongly favor",
          "Somewhat oppose",
          "Somewhat favor",
          "Somewhat favor",
          "Somewhat oppose",
          "Strongly favor",
          "Somewhat favor",
          "Somewhat favor",
          "Strongly oppose",
          "Somewhat oppose",
          "Strongly favor",
          "Somewhat oppose",
          "Somewhat favor",
          "Somewhat favor",
          "Strongly favor",
          "Somewhat oppose",
          "Strongly oppose",
          "Somewhat favor",
          "Somewhat favor",
          "Strongly favor",
          "Somewhat favor",
          "Strongly favor",
          "Somewhat favor",
          "Somewhat favor",
          "Somewhat favor",
          "Strongly favor",
          "Strongly favor",
          "Somewhat favor",
          "Somewhat oppose",
          "Somewhat favor",
          "Somewhat oppose",
          "Somewhat oppose",
          "Somewhat favor",
          "Somewhat favor",
          "Somewhat oppose",
          "Strongly favor",
          "Somewhat favor",
          "Strongly favor",
          "Somewhat favor",
          "Strongly oppose",
          "Somewhat oppose",
          "Strongly favor",
          "Strongly oppose",
          "Somewhat favor",
          "Somewhat oppose",
          "Somewhat favor",
          "Somewhat favor",
          "Somewhat favor",
          "Somewhat favor",
          "Somewhat oppose",
          "Strongly favor",
          "Somewhat favor",
          "Somewhat favor",
          "Somewhat favor",
          "Strongly favor",
          "Somewhat favor",
          "Somewhat favor",
          "Strongly oppose",
          "Strongly favor"
         ],
         "xaxis": "x",
         "yaxis": "y"
        },
        {
         "alignmentgroup": "True",
         "bingroup": "x",
         "hovertemplate": "Q5a=None of above<br>Q10=%{x}<br>count=%{y}<extra></extra>",
         "legendgroup": "None of above",
         "marker": {
          "color": "#19d3f3",
          "pattern": {
           "shape": ""
          }
         },
         "name": "None of above",
         "offsetgroup": "None of above",
         "orientation": "v",
         "showlegend": true,
         "type": "histogram",
         "x": [
          "Strongly favor",
          "Somewhat favor",
          "Somewhat favor",
          "Strongly favor",
          "Somewhat favor",
          "Somewhat oppose",
          "Somewhat favor"
         ],
         "xaxis": "x",
         "yaxis": "y"
        }
       ],
       "layout": {
        "autosize": true,
        "barmode": "group",
        "legend": {
         "title": {
          "text": "Political views"
         },
         "tracegroupgap": 0
        },
        "margin": {
         "t": 60
        },
        "template": {
         "data": {
          "bar": [
           {
            "error_x": {
             "color": "#2a3f5f"
            },
            "error_y": {
             "color": "#2a3f5f"
            },
            "marker": {
             "line": {
              "color": "#E5ECF6",
              "width": 0.5
             },
             "pattern": {
              "fillmode": "overlay",
              "size": 10,
              "solidity": 0.2
             }
            },
            "type": "bar"
           }
          ],
          "barpolar": [
           {
            "marker": {
             "line": {
              "color": "#E5ECF6",
              "width": 0.5
             },
             "pattern": {
              "fillmode": "overlay",
              "size": 10,
              "solidity": 0.2
             }
            },
            "type": "barpolar"
           }
          ],
          "carpet": [
           {
            "aaxis": {
             "endlinecolor": "#2a3f5f",
             "gridcolor": "white",
             "linecolor": "white",
             "minorgridcolor": "white",
             "startlinecolor": "#2a3f5f"
            },
            "baxis": {
             "endlinecolor": "#2a3f5f",
             "gridcolor": "white",
             "linecolor": "white",
             "minorgridcolor": "white",
             "startlinecolor": "#2a3f5f"
            },
            "type": "carpet"
           }
          ],
          "choropleth": [
           {
            "colorbar": {
             "outlinewidth": 0,
             "ticks": ""
            },
            "type": "choropleth"
           }
          ],
          "contour": [
           {
            "colorbar": {
             "outlinewidth": 0,
             "ticks": ""
            },
            "colorscale": [
             [
              0,
              "#0d0887"
             ],
             [
              0.1111111111111111,
              "#46039f"
             ],
             [
              0.2222222222222222,
              "#7201a8"
             ],
             [
              0.3333333333333333,
              "#9c179e"
             ],
             [
              0.4444444444444444,
              "#bd3786"
             ],
             [
              0.5555555555555556,
              "#d8576b"
             ],
             [
              0.6666666666666666,
              "#ed7953"
             ],
             [
              0.7777777777777778,
              "#fb9f3a"
             ],
             [
              0.8888888888888888,
              "#fdca26"
             ],
             [
              1,
              "#f0f921"
             ]
            ],
            "type": "contour"
           }
          ],
          "contourcarpet": [
           {
            "colorbar": {
             "outlinewidth": 0,
             "ticks": ""
            },
            "type": "contourcarpet"
           }
          ],
          "heatmap": [
           {
            "colorbar": {
             "outlinewidth": 0,
             "ticks": ""
            },
            "colorscale": [
             [
              0,
              "#0d0887"
             ],
             [
              0.1111111111111111,
              "#46039f"
             ],
             [
              0.2222222222222222,
              "#7201a8"
             ],
             [
              0.3333333333333333,
              "#9c179e"
             ],
             [
              0.4444444444444444,
              "#bd3786"
             ],
             [
              0.5555555555555556,
              "#d8576b"
             ],
             [
              0.6666666666666666,
              "#ed7953"
             ],
             [
              0.7777777777777778,
              "#fb9f3a"
             ],
             [
              0.8888888888888888,
              "#fdca26"
             ],
             [
              1,
              "#f0f921"
             ]
            ],
            "type": "heatmap"
           }
          ],
          "heatmapgl": [
           {
            "colorbar": {
             "outlinewidth": 0,
             "ticks": ""
            },
            "colorscale": [
             [
              0,
              "#0d0887"
             ],
             [
              0.1111111111111111,
              "#46039f"
             ],
             [
              0.2222222222222222,
              "#7201a8"
             ],
             [
              0.3333333333333333,
              "#9c179e"
             ],
             [
              0.4444444444444444,
              "#bd3786"
             ],
             [
              0.5555555555555556,
              "#d8576b"
             ],
             [
              0.6666666666666666,
              "#ed7953"
             ],
             [
              0.7777777777777778,
              "#fb9f3a"
             ],
             [
              0.8888888888888888,
              "#fdca26"
             ],
             [
              1,
              "#f0f921"
             ]
            ],
            "type": "heatmapgl"
           }
          ],
          "histogram": [
           {
            "marker": {
             "pattern": {
              "fillmode": "overlay",
              "size": 10,
              "solidity": 0.2
             }
            },
            "type": "histogram"
           }
          ],
          "histogram2d": [
           {
            "colorbar": {
             "outlinewidth": 0,
             "ticks": ""
            },
            "colorscale": [
             [
              0,
              "#0d0887"
             ],
             [
              0.1111111111111111,
              "#46039f"
             ],
             [
              0.2222222222222222,
              "#7201a8"
             ],
             [
              0.3333333333333333,
              "#9c179e"
             ],
             [
              0.4444444444444444,
              "#bd3786"
             ],
             [
              0.5555555555555556,
              "#d8576b"
             ],
             [
              0.6666666666666666,
              "#ed7953"
             ],
             [
              0.7777777777777778,
              "#fb9f3a"
             ],
             [
              0.8888888888888888,
              "#fdca26"
             ],
             [
              1,
              "#f0f921"
             ]
            ],
            "type": "histogram2d"
           }
          ],
          "histogram2dcontour": [
           {
            "colorbar": {
             "outlinewidth": 0,
             "ticks": ""
            },
            "colorscale": [
             [
              0,
              "#0d0887"
             ],
             [
              0.1111111111111111,
              "#46039f"
             ],
             [
              0.2222222222222222,
              "#7201a8"
             ],
             [
              0.3333333333333333,
              "#9c179e"
             ],
             [
              0.4444444444444444,
              "#bd3786"
             ],
             [
              0.5555555555555556,
              "#d8576b"
             ],
             [
              0.6666666666666666,
              "#ed7953"
             ],
             [
              0.7777777777777778,
              "#fb9f3a"
             ],
             [
              0.8888888888888888,
              "#fdca26"
             ],
             [
              1,
              "#f0f921"
             ]
            ],
            "type": "histogram2dcontour"
           }
          ],
          "mesh3d": [
           {
            "colorbar": {
             "outlinewidth": 0,
             "ticks": ""
            },
            "type": "mesh3d"
           }
          ],
          "parcoords": [
           {
            "line": {
             "colorbar": {
              "outlinewidth": 0,
              "ticks": ""
             }
            },
            "type": "parcoords"
           }
          ],
          "pie": [
           {
            "automargin": true,
            "type": "pie"
           }
          ],
          "scatter": [
           {
            "fillpattern": {
             "fillmode": "overlay",
             "size": 10,
             "solidity": 0.2
            },
            "type": "scatter"
           }
          ],
          "scatter3d": [
           {
            "line": {
             "colorbar": {
              "outlinewidth": 0,
              "ticks": ""
             }
            },
            "marker": {
             "colorbar": {
              "outlinewidth": 0,
              "ticks": ""
             }
            },
            "type": "scatter3d"
           }
          ],
          "scattercarpet": [
           {
            "marker": {
             "colorbar": {
              "outlinewidth": 0,
              "ticks": ""
             }
            },
            "type": "scattercarpet"
           }
          ],
          "scattergeo": [
           {
            "marker": {
             "colorbar": {
              "outlinewidth": 0,
              "ticks": ""
             }
            },
            "type": "scattergeo"
           }
          ],
          "scattergl": [
           {
            "marker": {
             "colorbar": {
              "outlinewidth": 0,
              "ticks": ""
             }
            },
            "type": "scattergl"
           }
          ],
          "scattermapbox": [
           {
            "marker": {
             "colorbar": {
              "outlinewidth": 0,
              "ticks": ""
             }
            },
            "type": "scattermapbox"
           }
          ],
          "scatterpolar": [
           {
            "marker": {
             "colorbar": {
              "outlinewidth": 0,
              "ticks": ""
             }
            },
            "type": "scatterpolar"
           }
          ],
          "scatterpolargl": [
           {
            "marker": {
             "colorbar": {
              "outlinewidth": 0,
              "ticks": ""
             }
            },
            "type": "scatterpolargl"
           }
          ],
          "scatterternary": [
           {
            "marker": {
             "colorbar": {
              "outlinewidth": 0,
              "ticks": ""
             }
            },
            "type": "scatterternary"
           }
          ],
          "surface": [
           {
            "colorbar": {
             "outlinewidth": 0,
             "ticks": ""
            },
            "colorscale": [
             [
              0,
              "#0d0887"
             ],
             [
              0.1111111111111111,
              "#46039f"
             ],
             [
              0.2222222222222222,
              "#7201a8"
             ],
             [
              0.3333333333333333,
              "#9c179e"
             ],
             [
              0.4444444444444444,
              "#bd3786"
             ],
             [
              0.5555555555555556,
              "#d8576b"
             ],
             [
              0.6666666666666666,
              "#ed7953"
             ],
             [
              0.7777777777777778,
              "#fb9f3a"
             ],
             [
              0.8888888888888888,
              "#fdca26"
             ],
             [
              1,
              "#f0f921"
             ]
            ],
            "type": "surface"
           }
          ],
          "table": [
           {
            "cells": {
             "fill": {
              "color": "#EBF0F8"
             },
             "line": {
              "color": "white"
             }
            },
            "header": {
             "fill": {
              "color": "#C8D4E3"
             },
             "line": {
              "color": "white"
             }
            },
            "type": "table"
           }
          ]
         },
         "layout": {
          "annotationdefaults": {
           "arrowcolor": "#2a3f5f",
           "arrowhead": 0,
           "arrowwidth": 1
          },
          "autotypenumbers": "strict",
          "coloraxis": {
           "colorbar": {
            "outlinewidth": 0,
            "ticks": ""
           }
          },
          "colorscale": {
           "diverging": [
            [
             0,
             "#8e0152"
            ],
            [
             0.1,
             "#c51b7d"
            ],
            [
             0.2,
             "#de77ae"
            ],
            [
             0.3,
             "#f1b6da"
            ],
            [
             0.4,
             "#fde0ef"
            ],
            [
             0.5,
             "#f7f7f7"
            ],
            [
             0.6,
             "#e6f5d0"
            ],
            [
             0.7,
             "#b8e186"
            ],
            [
             0.8,
             "#7fbc41"
            ],
            [
             0.9,
             "#4d9221"
            ],
            [
             1,
             "#276419"
            ]
           ],
           "sequential": [
            [
             0,
             "#0d0887"
            ],
            [
             0.1111111111111111,
             "#46039f"
            ],
            [
             0.2222222222222222,
             "#7201a8"
            ],
            [
             0.3333333333333333,
             "#9c179e"
            ],
            [
             0.4444444444444444,
             "#bd3786"
            ],
            [
             0.5555555555555556,
             "#d8576b"
            ],
            [
             0.6666666666666666,
             "#ed7953"
            ],
            [
             0.7777777777777778,
             "#fb9f3a"
            ],
            [
             0.8888888888888888,
             "#fdca26"
            ],
            [
             1,
             "#f0f921"
            ]
           ],
           "sequentialminus": [
            [
             0,
             "#0d0887"
            ],
            [
             0.1111111111111111,
             "#46039f"
            ],
            [
             0.2222222222222222,
             "#7201a8"
            ],
            [
             0.3333333333333333,
             "#9c179e"
            ],
            [
             0.4444444444444444,
             "#bd3786"
            ],
            [
             0.5555555555555556,
             "#d8576b"
            ],
            [
             0.6666666666666666,
             "#ed7953"
            ],
            [
             0.7777777777777778,
             "#fb9f3a"
            ],
            [
             0.8888888888888888,
             "#fdca26"
            ],
            [
             1,
             "#f0f921"
            ]
           ]
          },
          "colorway": [
           "#636efa",
           "#EF553B",
           "#00cc96",
           "#ab63fa",
           "#FFA15A",
           "#19d3f3",
           "#FF6692",
           "#B6E880",
           "#FF97FF",
           "#FECB52"
          ],
          "font": {
           "color": "#2a3f5f"
          },
          "geo": {
           "bgcolor": "white",
           "lakecolor": "white",
           "landcolor": "#E5ECF6",
           "showlakes": true,
           "showland": true,
           "subunitcolor": "white"
          },
          "hoverlabel": {
           "align": "left"
          },
          "hovermode": "closest",
          "mapbox": {
           "style": "light"
          },
          "paper_bgcolor": "white",
          "plot_bgcolor": "#E5ECF6",
          "polar": {
           "angularaxis": {
            "gridcolor": "white",
            "linecolor": "white",
            "ticks": ""
           },
           "bgcolor": "#E5ECF6",
           "radialaxis": {
            "gridcolor": "white",
            "linecolor": "white",
            "ticks": ""
           }
          },
          "scene": {
           "xaxis": {
            "backgroundcolor": "#E5ECF6",
            "gridcolor": "white",
            "gridwidth": 2,
            "linecolor": "white",
            "showbackground": true,
            "ticks": "",
            "zerolinecolor": "white"
           },
           "yaxis": {
            "backgroundcolor": "#E5ECF6",
            "gridcolor": "white",
            "gridwidth": 2,
            "linecolor": "white",
            "showbackground": true,
            "ticks": "",
            "zerolinecolor": "white"
           },
           "zaxis": {
            "backgroundcolor": "#E5ECF6",
            "gridcolor": "white",
            "gridwidth": 2,
            "linecolor": "white",
            "showbackground": true,
            "ticks": "",
            "zerolinecolor": "white"
           }
          },
          "shapedefaults": {
           "line": {
            "color": "#2a3f5f"
           }
          },
          "ternary": {
           "aaxis": {
            "gridcolor": "white",
            "linecolor": "white",
            "ticks": ""
           },
           "baxis": {
            "gridcolor": "white",
            "linecolor": "white",
            "ticks": ""
           },
           "bgcolor": "#E5ECF6",
           "caxis": {
            "gridcolor": "white",
            "linecolor": "white",
            "ticks": ""
           }
          },
          "title": {
           "x": 0.05
          },
          "xaxis": {
           "automargin": true,
           "gridcolor": "white",
           "linecolor": "white",
           "ticks": "",
           "title": {
            "standoff": 15
           },
           "zerolinecolor": "white",
           "zerolinewidth": 2
          },
          "yaxis": {
           "automargin": true,
           "gridcolor": "white",
           "linecolor": "white",
           "ticks": "",
           "title": {
            "standoff": 15
           },
           "zerolinecolor": "white",
           "zerolinewidth": 2
          }
         }
        },
        "xaxis": {
         "anchor": "y",
         "autorange": true,
         "categoryarray": [
          "Strongly oppose",
          "Somewhat oppose",
          "Somewhat favor",
          "Strongly favor"
         ],
         "categoryorder": "array",
         "domain": [
          0,
          1
         ],
         "range": [
          -0.5,
          3.5
         ],
         "title": {
          "text": "FAVOR OR OPPOSE EXPANDING NUCLEAR PLANTS"
         },
         "type": "category"
        },
        "yaxis": {
         "anchor": "x",
         "autorange": true,
         "domain": [
          0,
          1
         ],
         "range": [
          0,
          204.21052631578948
         ],
         "title": {
          "text": "NUMBER OF RESPONSES"
         }
        }
       }
      },
      "image/png": "[encoded data removed]",
      "text/html": [
       "<div>                            <div id=\"59270799-527d-40d3-99f0-da99275eee07\" class=\"plotly-graph-div\" style=\"height:525px; width:100%;\"></div>            <script type=\"text/javascript\">                require([\"plotly\"], function(Plotly) {                    window.PLOTLYENV=window.PLOTLYENV || {};                                    if (document.getElementById(\"59270799-527d-40d3-99f0-da99275eee07\")) {                    Plotly.newPlot(                        \"59270799-527d-40d3-99f0-da99275eee07\",                        [{\"alignmentgroup\":\"True\",\"bingroup\":\"x\",\"hovertemplate\":\"Q5a=Moderate<br>Q10=%{x}<br>count=%{y}<extra></extra>\",\"legendgroup\":\"Moderate\",\"marker\":{\"color\":\"#636efa\",\"pattern\":{\"shape\":\"\"}},\"name\":\"Moderate\",\"offsetgroup\":\"Moderate\",\"orientation\":\"v\",\"showlegend\":true,\"x\":[\"Somewhat favor\",\"Strongly favor\",\"Somewhat favor\",\"Somewhat favor\",\"Somewhat favor\",\"Somewhat favor\",\"Somewhat favor\",\"Somewhat favor\",\"Somewhat favor\",\"Somewhat favor\",\"Somewhat oppose\",\"Somewhat favor\",\"Strongly favor\",\"Somewhat favor\",\"Strongly favor\",\"Strongly favor\",\"Somewhat favor\",\"Somewhat favor\",\"Somewhat favor\",\"Somewhat favor\",\"Strongly favor\",\"Somewhat favor\",\"Strongly favor\",\"Somewhat favor\",\"Strongly favor\",\"Somewhat oppose\",\"Strongly favor\",\"Strongly oppose\",\"Strongly favor\",\"Somewhat favor\",\"Somewhat favor\",\"Strongly favor\",\"Strongly oppose\",\"Strongly favor\",\"Somewhat oppose\",\"Somewhat favor\",\"Somewhat oppose\",\"Somewhat favor\",\"Somewhat favor\",\"Somewhat favor\",\"Somewhat favor\",\"Strongly favor\",\"Strongly favor\",\"Strongly favor\",\"Somewhat oppose\",\"Somewhat oppose\",\"Strongly favor\",\"Somewhat favor\",\"Strongly favor\",\"Somewhat favor\",\"Somewhat oppose\",\"Somewhat favor\",\"Strongly favor\",\"Somewhat favor\",\"Somewhat favor\",\"Somewhat favor\",\"Somewhat favor\",\"Somewhat oppose\",\"Somewhat oppose\",\"Somewhat oppose\",\"Strongly oppose\",\"Somewhat favor\",\"Somewhat oppose\",\"Somewhat oppose\",\"Strongly favor\",\"Somewhat favor\",\"Strongly favor\",\"Somewhat favor\",\"Somewhat favor\",\"Somewhat favor\",\"Strongly favor\",\"Somewhat oppose\",\"Somewhat favor\",\"Somewhat favor\",\"Somewhat favor\",\"Strongly favor\",\"Somewhat favor\",\"Somewhat favor\",\"Somewhat favor\",\"Strongly oppose\",\"Strongly favor\",\"Somewhat oppose\",\"Somewhat favor\",\"Strongly favor\",\"Somewhat favor\",\"Somewhat favor\",\"Somewhat favor\",\"Somewhat favor\",\"Strongly oppose\",\"Strongly oppose\",\"Strongly favor\",\"Strongly favor\",\"Strongly favor\",\"Somewhat favor\",\"Somewhat favor\",\"Strongly favor\",\"Somewhat favor\",\"Somewhat favor\",\"Somewhat favor\",\"Somewhat favor\",\"Strongly favor\",\"Strongly favor\",\"Somewhat oppose\",\"Somewhat favor\",\"Strongly oppose\",\"Somewhat oppose\",\"Somewhat favor\",\"Somewhat favor\",\"Somewhat favor\",\"Strongly favor\",\"Somewhat favor\",\"Somewhat favor\",\"Somewhat favor\",\"Somewhat oppose\",\"Strongly oppose\",\"Somewhat favor\",\"Somewhat favor\",\"Strongly oppose\",\"Strongly favor\",\"Somewhat favor\",\"Somewhat oppose\",\"Somewhat favor\",\"Somewhat favor\",\"Somewhat oppose\",\"Strongly favor\",\"Somewhat favor\",\"Strongly favor\",\"Somewhat favor\",\"Strongly oppose\",\"Strongly oppose\",\"Somewhat favor\",\"Somewhat oppose\",\"Somewhat oppose\",\"Somewhat oppose\",\"Somewhat favor\",\"Somewhat favor\",\"Somewhat favor\",\"Somewhat favor\",\"Strongly oppose\",\"Somewhat favor\",\"Somewhat favor\",\"Strongly favor\",\"Somewhat favor\",\"Somewhat favor\",\"Strongly favor\",\"Somewhat oppose\",\"Strongly favor\",\"Somewhat favor\",\"Somewhat favor\",\"Somewhat favor\",\"Somewhat favor\",\"Somewhat favor\",\"Somewhat oppose\",\"Strongly oppose\",\"Somewhat favor\",\"Somewhat favor\",\"Somewhat favor\",\"Somewhat favor\",\"Somewhat favor\",\"Strongly favor\",\"Somewhat favor\",\"Somewhat favor\",\"Somewhat favor\",\"Somewhat oppose\",\"Somewhat favor\",\"Somewhat favor\",\"Somewhat favor\",\"Somewhat favor\",\"Strongly favor\",\"Strongly favor\",\"Somewhat oppose\",\"Somewhat favor\",\"Somewhat favor\",\"Strongly favor\",\"Somewhat favor\",\"Somewhat oppose\",\"Somewhat favor\",\"Strongly favor\",\"Somewhat favor\",\"Somewhat favor\",\"Somewhat favor\",\"Somewhat favor\",\"Somewhat oppose\",\"Strongly favor\",\"Somewhat favor\",\"Somewhat favor\",\"Strongly favor\",\"Somewhat favor\",\"Strongly favor\",\"Somewhat favor\",\"Somewhat favor\",\"Somewhat favor\",\"Somewhat favor\",\"Somewhat favor\",\"Strongly oppose\",\"Strongly oppose\",\"Strongly oppose\",\"Somewhat oppose\",\"Strongly favor\",\"Somewhat oppose\",\"Somewhat favor\",\"Somewhat oppose\",\"Strongly favor\",\"Strongly favor\",\"Somewhat oppose\",\"Strongly favor\",\"Somewhat oppose\",\"Somewhat oppose\",\"Somewhat favor\",\"Somewhat favor\",\"Somewhat favor\",\"Somewhat oppose\",\"Somewhat oppose\",\"Somewhat favor\",\"Somewhat favor\",\"Strongly oppose\",\"Somewhat favor\",\"Somewhat favor\",\"Somewhat favor\",\"Somewhat oppose\",\"Somewhat favor\",\"Somewhat favor\",\"Strongly favor\",\"Strongly favor\",\"Somewhat favor\",\"Strongly favor\",\"Somewhat oppose\",\"Somewhat favor\",\"Somewhat favor\",\"Somewhat favor\",\"Somewhat oppose\",\"Strongly oppose\",\"Strongly favor\",\"Somewhat favor\",\"Strongly favor\",\"Somewhat favor\",\"Somewhat favor\",\"Somewhat favor\",\"Strongly favor\",\"Strongly favor\",\"Somewhat favor\",\"Strongly favor\",\"Somewhat favor\",\"Somewhat favor\",\"Somewhat favor\",\"Somewhat favor\",\"Strongly favor\",\"Somewhat oppose\",\"Somewhat favor\",\"Strongly favor\",\"Strongly favor\",\"Somewhat favor\",\"Somewhat favor\",\"Strongly favor\",\"Somewhat favor\",\"Somewhat favor\",\"Somewhat favor\",\"Strongly favor\",\"Somewhat favor\",\"Somewhat oppose\",\"Somewhat favor\",\"Strongly oppose\",\"Somewhat oppose\",\"Strongly favor\",\"Somewhat favor\",\"Strongly oppose\",\"Somewhat favor\",\"Somewhat favor\",\"Somewhat favor\",\"Somewhat oppose\",\"Somewhat favor\",\"Somewhat favor\",\"Somewhat favor\",\"Somewhat favor\",\"Somewhat favor\",\"Somewhat oppose\",\"Somewhat favor\",\"Somewhat favor\",\"Somewhat oppose\",\"Strongly favor\",\"Strongly favor\",\"Somewhat oppose\",\"Strongly favor\",\"Strongly oppose\",\"Somewhat oppose\",\"Strongly favor\",\"Somewhat oppose\",\"Somewhat favor\",\"Somewhat favor\",\"Somewhat favor\",\"Somewhat favor\",\"Strongly favor\",\"Strongly favor\",\"Somewhat oppose\",\"Somewhat favor\",\"Somewhat favor\",\"Strongly oppose\",\"Strongly oppose\",\"Somewhat oppose\",\"Somewhat favor\",\"Somewhat favor\",\"Somewhat oppose\",\"Somewhat oppose\",\"Strongly favor\",\"Somewhat favor\",\"Somewhat oppose\",\"Somewhat favor\",\"Strongly oppose\",\"Strongly favor\",\"Somewhat favor\",\"Somewhat oppose\",\"Somewhat favor\",\"Strongly favor\",\"Strongly favor\",\"Somewhat oppose\",\"Somewhat favor\",\"Somewhat favor\",\"Strongly favor\",\"Somewhat oppose\",\"Somewhat favor\",\"Somewhat oppose\",\"Somewhat favor\",\"Strongly favor\",\"Somewhat favor\",\"Somewhat oppose\",\"Strongly favor\",\"Somewhat favor\",\"Somewhat favor\",\"Somewhat oppose\",\"Somewhat favor\",\"Somewhat favor\",\"Strongly oppose\",\"Strongly oppose\",\"Strongly favor\",\"Strongly favor\",\"Strongly favor\",\"Somewhat oppose\",\"Strongly favor\",\"Strongly favor\",\"Strongly favor\",\"Somewhat favor\",\"Somewhat favor\",\"Somewhat favor\",\"Somewhat favor\",\"Strongly oppose\",\"Somewhat favor\",\"Strongly oppose\",\"Somewhat oppose\",\"Strongly oppose\",\"Strongly favor\",\"Somewhat oppose\",\"Strongly favor\",\"Somewhat favor\",\"Somewhat oppose\",\"Strongly favor\",\"Somewhat favor\",\"Somewhat oppose\",\"Somewhat favor\",\"Strongly favor\",\"Somewhat favor\",\"Strongly favor\",\"Somewhat favor\",\"Strongly oppose\",\"Somewhat favor\",\"Strongly favor\",\"Somewhat oppose\",\"Strongly favor\",\"Somewhat oppose\",\"Strongly favor\",\"Somewhat oppose\",\"Somewhat favor\",\"Somewhat favor\",\"Strongly favor\",\"Somewhat favor\",\"Somewhat favor\",\"Somewhat favor\",\"Strongly favor\",\"Somewhat favor\",\"Strongly favor\",\"Strongly favor\",\"Somewhat favor\",\"Somewhat oppose\",\"Somewhat favor\",\"Somewhat favor\",\"Somewhat favor\",\"Strongly favor\",\"Strongly favor\",\"Strongly favor\",\"Somewhat oppose\",\"Strongly favor\",\"Strongly favor\",\"Strongly favor\",\"Somewhat oppose\",\"Strongly favor\"],\"xaxis\":\"x\",\"yaxis\":\"y\",\"type\":\"histogram\"},{\"alignmentgroup\":\"True\",\"bingroup\":\"x\",\"hovertemplate\":\"Q5a=Very liberal<br>Q10=%{x}<br>count=%{y}<extra></extra>\",\"legendgroup\":\"Very liberal\",\"marker\":{\"color\":\"#EF553B\",\"pattern\":{\"shape\":\"\"}},\"name\":\"Very liberal\",\"offsetgroup\":\"Very liberal\",\"orientation\":\"v\",\"showlegend\":true,\"x\":[\"Somewhat favor\",\"Somewhat favor\",\"Somewhat favor\",\"Strongly oppose\",\"Strongly oppose\",\"Somewhat oppose\",\"Somewhat favor\",\"Strongly favor\",\"Somewhat favor\",\"Somewhat oppose\",\"Strongly favor\",\"Strongly favor\",\"Somewhat oppose\",\"Somewhat favor\",\"Somewhat favor\",\"Somewhat oppose\",\"Somewhat favor\",\"Strongly favor\",\"Somewhat favor\",\"Strongly favor\",\"Strongly favor\",\"Strongly favor\",\"Somewhat favor\",\"Strongly favor\",\"Strongly favor\",\"Strongly favor\",\"Strongly favor\",\"Strongly favor\",\"Somewhat oppose\",\"Somewhat oppose\",\"Strongly favor\",\"Strongly favor\",\"Somewhat favor\",\"Strongly favor\",\"Strongly favor\",\"Strongly favor\",\"Strongly oppose\",\"Somewhat favor\",\"Somewhat favor\",\"Somewhat favor\",\"Strongly favor\",\"Strongly favor\",\"Strongly favor\",\"Strongly favor\",\"Somewhat favor\",\"Strongly favor\",\"Strongly favor\",\"Strongly favor\",\"Somewhat oppose\",\"Strongly favor\",\"Somewhat oppose\",\"Strongly oppose\",\"Strongly favor\",\"Somewhat favor\",\"Somewhat favor\",\"Strongly favor\",\"Strongly favor\",\"Strongly favor\",\"Strongly favor\",\"Somewhat favor\",\"Somewhat oppose\",\"Strongly favor\",\"Strongly oppose\",\"Somewhat oppose\",\"Strongly oppose\",\"Strongly favor\",\"Somewhat favor\",\"Somewhat favor\",\"Strongly favor\",\"Somewhat favor\",\"Somewhat favor\",\"Somewhat favor\",\"Somewhat oppose\",\"Strongly favor\",\"Strongly favor\",\"Strongly favor\",\"Strongly favor\",\"Strongly favor\",\"Strongly favor\",\"Somewhat favor\",\"Somewhat favor\",\"Somewhat oppose\",\"Somewhat oppose\",\"Somewhat favor\",\"Somewhat oppose\",\"Somewhat favor\",\"Strongly favor\",\"Strongly favor\",\"Strongly favor\",\"Somewhat oppose\",\"Strongly favor\",\"Strongly oppose\",\"Strongly oppose\",\"Strongly oppose\",\"Somewhat favor\",\"Strongly favor\",\"Somewhat oppose\",\"Strongly favor\",\"Somewhat favor\",\"Strongly oppose\",\"Somewhat favor\",\"Strongly favor\",\"Somewhat oppose\",\"Strongly oppose\",\"Strongly oppose\",\"Somewhat oppose\",\"Somewhat favor\",\"Somewhat favor\",\"Strongly favor\",\"Somewhat favor\",\"Strongly favor\"],\"xaxis\":\"x\",\"yaxis\":\"y\",\"type\":\"histogram\"},{\"alignmentgroup\":\"True\",\"bingroup\":\"x\",\"hovertemplate\":\"Q5a=Somewhat conservative<br>Q10=%{x}<br>count=%{y}<extra></extra>\",\"legendgroup\":\"Somewhat conservative\",\"marker\":{\"color\":\"#00cc96\",\"pattern\":{\"shape\":\"\"}},\"name\":\"Somewhat conservative\",\"offsetgroup\":\"Somewhat conservative\",\"orientation\":\"v\",\"showlegend\":true,\"x\":[\"Somewhat oppose\",\"Somewhat favor\",\"Somewhat favor\",\"Somewhat favor\",\"Somewhat favor\",\"Somewhat favor\",\"Strongly favor\",\"Somewhat favor\",\"Somewhat oppose\",\"Somewhat favor\",\"Somewhat favor\",\"Strongly favor\",\"Somewhat favor\",\"Somewhat favor\",\"Somewhat favor\",\"Strongly favor\",\"Somewhat oppose\",\"Somewhat favor\",\"Somewhat favor\",\"Somewhat favor\",\"Somewhat favor\",\"Strongly favor\",\"Somewhat favor\",\"Somewhat favor\",\"Somewhat favor\",\"Strongly favor\",\"Somewhat favor\",\"Somewhat favor\",\"Strongly favor\",\"Somewhat favor\",\"Strongly favor\",\"Somewhat favor\",\"Somewhat oppose\",\"Strongly favor\",\"Somewhat favor\",\"Somewhat favor\",\"Somewhat favor\",\"Strongly favor\",\"Somewhat favor\",\"Somewhat favor\",\"Strongly favor\",\"Somewhat favor\",\"Somewhat favor\",\"Somewhat favor\",\"Somewhat favor\",\"Somewhat favor\",\"Somewhat favor\",\"Somewhat favor\",\"Strongly oppose\",\"Strongly oppose\",\"Somewhat favor\",\"Strongly favor\",\"Somewhat favor\",\"Strongly favor\",\"Somewhat favor\",\"Somewhat favor\",\"Somewhat favor\",\"Somewhat favor\",\"Strongly favor\",\"Strongly favor\",\"Strongly favor\",\"Somewhat favor\",\"Somewhat favor\",\"Somewhat favor\",\"Strongly favor\",\"Somewhat favor\",\"Somewhat oppose\",\"Somewhat favor\",\"Strongly favor\",\"Somewhat favor\",\"Somewhat favor\",\"Strongly favor\",\"Somewhat favor\",\"Somewhat oppose\",\"Strongly favor\",\"Somewhat favor\",\"Strongly oppose\",\"Somewhat oppose\",\"Somewhat favor\",\"Strongly favor\",\"Somewhat favor\",\"Somewhat favor\",\"Somewhat favor\",\"Somewhat favor\",\"Somewhat favor\",\"Strongly favor\",\"Somewhat favor\",\"Somewhat oppose\",\"Strongly favor\",\"Somewhat favor\",\"Somewhat oppose\",\"Somewhat favor\",\"Somewhat favor\",\"Strongly oppose\",\"Strongly favor\",\"Somewhat favor\",\"Somewhat oppose\",\"Strongly favor\",\"Somewhat favor\",\"Strongly favor\",\"Somewhat favor\",\"Somewhat favor\",\"Somewhat favor\",\"Strongly favor\",\"Strongly favor\",\"Somewhat favor\",\"Somewhat oppose\",\"Somewhat favor\",\"Somewhat oppose\",\"Somewhat oppose\",\"Somewhat oppose\",\"Strongly favor\",\"Somewhat favor\",\"Somewhat favor\",\"Strongly favor\",\"Somewhat oppose\",\"Somewhat favor\",\"Somewhat favor\",\"Strongly favor\",\"Strongly favor\",\"Somewhat oppose\",\"Somewhat favor\",\"Somewhat favor\",\"Strongly favor\",\"Somewhat favor\",\"Somewhat favor\",\"Somewhat favor\",\"Somewhat favor\",\"Strongly favor\",\"Strongly favor\",\"Strongly favor\",\"Somewhat favor\",\"Strongly favor\",\"Strongly favor\",\"Strongly favor\",\"Strongly favor\",\"Somewhat oppose\",\"Strongly favor\",\"Somewhat oppose\",\"Strongly favor\",\"Somewhat favor\",\"Somewhat favor\",\"Strongly favor\",\"Somewhat favor\",\"Strongly favor\",\"Strongly favor\",\"Strongly favor\",\"Strongly favor\",\"Somewhat favor\",\"Somewhat favor\",\"Strongly favor\",\"Somewhat favor\",\"Strongly oppose\",\"Somewhat favor\",\"Strongly favor\",\"Somewhat favor\",\"Somewhat favor\",\"Somewhat favor\",\"Somewhat oppose\",\"Strongly favor\",\"Somewhat favor\",\"Somewhat favor\",\"Strongly favor\",\"Strongly favor\",\"Strongly favor\",\"Somewhat oppose\",\"Strongly favor\",\"Strongly oppose\",\"Strongly favor\",\"Strongly favor\",\"Somewhat favor\",\"Strongly oppose\",\"Strongly favor\",\"Strongly favor\",\"Somewhat oppose\",\"Somewhat favor\",\"Strongly favor\",\"Strongly favor\",\"Strongly favor\",\"Strongly favor\",\"Somewhat oppose\",\"Strongly favor\",\"Strongly favor\",\"Somewhat favor\",\"Somewhat favor\",\"Strongly favor\",\"Somewhat favor\",\"Strongly favor\",\"Somewhat favor\",\"Somewhat favor\",\"Somewhat oppose\",\"Strongly favor\",\"Strongly favor\",\"Strongly favor\",\"Somewhat favor\"],\"xaxis\":\"x\",\"yaxis\":\"y\",\"type\":\"histogram\"},{\"alignmentgroup\":\"True\",\"bingroup\":\"x\",\"hovertemplate\":\"Q5a=Very conservative<br>Q10=%{x}<br>count=%{y}<extra></extra>\",\"legendgroup\":\"Very conservative\",\"marker\":{\"color\":\"#ab63fa\",\"pattern\":{\"shape\":\"\"}},\"name\":\"Very conservative\",\"offsetgroup\":\"Very conservative\",\"orientation\":\"v\",\"showlegend\":true,\"x\":[\"Strongly favor\",\"Somewhat oppose\",\"Strongly favor\",\"Strongly oppose\",\"Somewhat oppose\",\"Strongly favor\",\"Strongly favor\",\"Somewhat favor\",\"Somewhat favor\",\"Strongly favor\",\"Strongly favor\",\"Somewhat oppose\",\"Somewhat favor\",\"Strongly favor\",\"Strongly favor\",\"Strongly favor\",\"Somewhat favor\",\"Strongly favor\",\"Strongly favor\",\"Strongly favor\",\"Somewhat oppose\",\"Somewhat favor\",\"Somewhat favor\",\"Strongly favor\",\"Strongly favor\",\"Somewhat favor\",\"Strongly favor\",\"Strongly favor\",\"Strongly favor\",\"Somewhat oppose\",\"Somewhat oppose\",\"Strongly oppose\",\"Somewhat favor\",\"Somewhat favor\",\"Strongly favor\",\"Somewhat favor\",\"Somewhat favor\",\"Strongly favor\",\"Somewhat favor\",\"Strongly favor\",\"Somewhat oppose\",\"Somewhat favor\",\"Strongly favor\",\"Somewhat favor\",\"Strongly favor\",\"Strongly favor\",\"Strongly favor\",\"Strongly favor\",\"Strongly favor\",\"Strongly favor\",\"Strongly favor\",\"Strongly favor\",\"Strongly favor\",\"Strongly favor\",\"Somewhat favor\",\"Somewhat favor\",\"Somewhat oppose\",\"Strongly favor\",\"Strongly favor\",\"Strongly favor\",\"Strongly favor\",\"Somewhat oppose\",\"Strongly favor\",\"Strongly favor\",\"Strongly favor\",\"Somewhat favor\",\"Strongly oppose\",\"Somewhat oppose\",\"Somewhat favor\",\"Somewhat favor\",\"Strongly favor\",\"Somewhat favor\",\"Strongly oppose\",\"Somewhat favor\",\"Somewhat favor\",\"Strongly favor\",\"Somewhat favor\",\"Strongly favor\",\"Strongly favor\",\"Somewhat favor\",\"Strongly favor\",\"Somewhat favor\",\"Strongly favor\",\"Strongly favor\",\"Somewhat favor\",\"Somewhat favor\",\"Somewhat oppose\",\"Somewhat favor\",\"Strongly oppose\",\"Somewhat favor\",\"Strongly favor\",\"Strongly favor\",\"Strongly favor\",\"Somewhat oppose\",\"Somewhat oppose\",\"Somewhat favor\",\"Somewhat oppose\",\"Strongly favor\",\"Strongly favor\",\"Strongly favor\",\"Strongly favor\",\"Strongly favor\",\"Strongly favor\",\"Somewhat favor\",\"Strongly favor\",\"Strongly favor\",\"Strongly favor\",\"Somewhat oppose\",\"Strongly favor\",\"Strongly oppose\",\"Strongly favor\",\"Somewhat oppose\",\"Strongly favor\",\"Somewhat oppose\",\"Strongly favor\",\"Somewhat favor\",\"Strongly favor\",\"Strongly favor\",\"Somewhat favor\",\"Strongly favor\",\"Strongly favor\",\"Somewhat favor\",\"Strongly oppose\",\"Strongly favor\",\"Strongly favor\",\"Somewhat favor\",\"Strongly oppose\",\"Strongly favor\",\"Strongly favor\",\"Somewhat favor\",\"Somewhat favor\",\"Strongly favor\",\"Strongly favor\",\"Strongly favor\",\"Strongly favor\",\"Strongly favor\",\"Strongly favor\",\"Somewhat favor\",\"Somewhat favor\",\"Strongly favor\",\"Strongly favor\",\"Strongly favor\",\"Strongly favor\",\"Strongly favor\",\"Strongly favor\",\"Strongly oppose\",\"Strongly favor\",\"Somewhat favor\",\"Somewhat oppose\",\"Strongly favor\",\"Strongly favor\",\"Somewhat favor\",\"Strongly favor\",\"Strongly favor\",\"Strongly favor\",\"Strongly favor\",\"Somewhat favor\",\"Somewhat favor\",\"Strongly favor\",\"Somewhat oppose\"],\"xaxis\":\"x\",\"yaxis\":\"y\",\"type\":\"histogram\"},{\"alignmentgroup\":\"True\",\"bingroup\":\"x\",\"hovertemplate\":\"Q5a=Somewhat liberal<br>Q10=%{x}<br>count=%{y}<extra></extra>\",\"legendgroup\":\"Somewhat liberal\",\"marker\":{\"color\":\"#FFA15A\",\"pattern\":{\"shape\":\"\"}},\"name\":\"Somewhat liberal\",\"offsetgroup\":\"Somewhat liberal\",\"orientation\":\"v\",\"showlegend\":true,\"x\":[\"Strongly favor\",\"Strongly favor\",\"Somewhat favor\",\"Somewhat oppose\",\"Somewhat favor\",\"Somewhat oppose\",\"Somewhat oppose\",\"Somewhat favor\",\"Somewhat favor\",\"Strongly oppose\",\"Somewhat oppose\",\"Strongly favor\",\"Somewhat oppose\",\"Somewhat oppose\",\"Somewhat favor\",\"Somewhat oppose\",\"Strongly favor\",\"Strongly favor\",\"Somewhat favor\",\"Strongly oppose\",\"Somewhat favor\",\"Somewhat favor\",\"Somewhat favor\",\"Somewhat oppose\",\"Strongly oppose\",\"Somewhat oppose\",\"Strongly oppose\",\"Strongly favor\",\"Strongly favor\",\"Somewhat favor\",\"Somewhat favor\",\"Somewhat favor\",\"Somewhat oppose\",\"Strongly oppose\",\"Somewhat favor\",\"Somewhat favor\",\"Somewhat favor\",\"Somewhat favor\",\"Somewhat oppose\",\"Strongly oppose\",\"Strongly favor\",\"Somewhat favor\",\"Strongly favor\",\"Somewhat favor\",\"Somewhat favor\",\"Somewhat favor\",\"Somewhat favor\",\"Somewhat oppose\",\"Somewhat favor\",\"Somewhat favor\",\"Somewhat favor\",\"Somewhat oppose\",\"Somewhat favor\",\"Strongly oppose\",\"Somewhat favor\",\"Somewhat favor\",\"Strongly oppose\",\"Somewhat favor\",\"Somewhat oppose\",\"Strongly favor\",\"Somewhat favor\",\"Somewhat favor\",\"Strongly oppose\",\"Somewhat oppose\",\"Somewhat favor\",\"Somewhat favor\",\"Strongly favor\",\"Somewhat oppose\",\"Somewhat favor\",\"Somewhat favor\",\"Somewhat favor\",\"Somewhat favor\",\"Somewhat favor\",\"Somewhat favor\",\"Strongly favor\",\"Somewhat oppose\",\"Somewhat favor\",\"Somewhat favor\",\"Somewhat oppose\",\"Strongly favor\",\"Somewhat favor\",\"Somewhat favor\",\"Strongly oppose\",\"Somewhat oppose\",\"Strongly favor\",\"Somewhat oppose\",\"Somewhat favor\",\"Somewhat favor\",\"Strongly favor\",\"Somewhat oppose\",\"Strongly oppose\",\"Somewhat favor\",\"Somewhat favor\",\"Strongly favor\",\"Somewhat favor\",\"Strongly favor\",\"Somewhat favor\",\"Somewhat favor\",\"Somewhat favor\",\"Strongly favor\",\"Strongly favor\",\"Somewhat favor\",\"Somewhat oppose\",\"Somewhat favor\",\"Somewhat oppose\",\"Somewhat oppose\",\"Somewhat favor\",\"Somewhat favor\",\"Somewhat oppose\",\"Strongly favor\",\"Somewhat favor\",\"Strongly favor\",\"Somewhat favor\",\"Strongly oppose\",\"Somewhat oppose\",\"Strongly favor\",\"Strongly oppose\",\"Somewhat favor\",\"Somewhat oppose\",\"Somewhat favor\",\"Somewhat favor\",\"Somewhat favor\",\"Somewhat favor\",\"Somewhat oppose\",\"Strongly favor\",\"Somewhat favor\",\"Somewhat favor\",\"Somewhat favor\",\"Strongly favor\",\"Somewhat favor\",\"Somewhat favor\",\"Strongly oppose\",\"Strongly favor\"],\"xaxis\":\"x\",\"yaxis\":\"y\",\"type\":\"histogram\"},{\"alignmentgroup\":\"True\",\"bingroup\":\"x\",\"hovertemplate\":\"Q5a=None of above<br>Q10=%{x}<br>count=%{y}<extra></extra>\",\"legendgroup\":\"None of above\",\"marker\":{\"color\":\"#19d3f3\",\"pattern\":{\"shape\":\"\"}},\"name\":\"None of above\",\"offsetgroup\":\"None of above\",\"orientation\":\"v\",\"showlegend\":true,\"x\":[\"Strongly favor\",\"Somewhat favor\",\"Somewhat favor\",\"Strongly favor\",\"Somewhat favor\",\"Somewhat oppose\",\"Somewhat favor\"],\"xaxis\":\"x\",\"yaxis\":\"y\",\"type\":\"histogram\"}],                        {\"template\":{\"data\":{\"histogram2dcontour\":[{\"type\":\"histogram2dcontour\",\"colorbar\":{\"outlinewidth\":0,\"ticks\":\"\"},\"colorscale\":[[0.0,\"#0d0887\"],[0.1111111111111111,\"#46039f\"],[0.2222222222222222,\"#7201a8\"],[0.3333333333333333,\"#9c179e\"],[0.4444444444444444,\"#bd3786\"],[0.5555555555555556,\"#d8576b\"],[0.6666666666666666,\"#ed7953\"],[0.7777777777777778,\"#fb9f3a\"],[0.8888888888888888,\"#fdca26\"],[1.0,\"#f0f921\"]]}],\"choropleth\":[{\"type\":\"choropleth\",\"colorbar\":{\"outlinewidth\":0,\"ticks\":\"\"}}],\"histogram2d\":[{\"type\":\"histogram2d\",\"colorbar\":{\"outlinewidth\":0,\"ticks\":\"\"},\"colorscale\":[[0.0,\"#0d0887\"],[0.1111111111111111,\"#46039f\"],[0.2222222222222222,\"#7201a8\"],[0.3333333333333333,\"#9c179e\"],[0.4444444444444444,\"#bd3786\"],[0.5555555555555556,\"#d8576b\"],[0.6666666666666666,\"#ed7953\"],[0.7777777777777778,\"#fb9f3a\"],[0.8888888888888888,\"#fdca26\"],[1.0,\"#f0f921\"]]}],\"heatmap\":[{\"type\":\"heatmap\",\"colorbar\":{\"outlinewidth\":0,\"ticks\":\"\"},\"colorscale\":[[0.0,\"#0d0887\"],[0.1111111111111111,\"#46039f\"],[0.2222222222222222,\"#7201a8\"],[0.3333333333333333,\"#9c179e\"],[0.4444444444444444,\"#bd3786\"],[0.5555555555555556,\"#d8576b\"],[0.6666666666666666,\"#ed7953\"],[0.7777777777777778,\"#fb9f3a\"],[0.8888888888888888,\"#fdca26\"],[1.0,\"#f0f921\"]]}],\"heatmapgl\":[{\"type\":\"heatmapgl\",\"colorbar\":{\"outlinewidth\":0,\"ticks\":\"\"},\"colorscale\":[[0.0,\"#0d0887\"],[0.1111111111111111,\"#46039f\"],[0.2222222222222222,\"#7201a8\"],[0.3333333333333333,\"#9c179e\"],[0.4444444444444444,\"#bd3786\"],[0.5555555555555556,\"#d8576b\"],[0.6666666666666666,\"#ed7953\"],[0.7777777777777778,\"#fb9f3a\"],[0.8888888888888888,\"#fdca26\"],[1.0,\"#f0f921\"]]}],\"contourcarpet\":[{\"type\":\"contourcarpet\",\"colorbar\":{\"outlinewidth\":0,\"ticks\":\"\"}}],\"contour\":[{\"type\":\"contour\",\"colorbar\":{\"outlinewidth\":0,\"ticks\":\"\"},\"colorscale\":[[0.0,\"#0d0887\"],[0.1111111111111111,\"#46039f\"],[0.2222222222222222,\"#7201a8\"],[0.3333333333333333,\"#9c179e\"],[0.4444444444444444,\"#bd3786\"],[0.5555555555555556,\"#d8576b\"],[0.6666666666666666,\"#ed7953\"],[0.7777777777777778,\"#fb9f3a\"],[0.8888888888888888,\"#fdca26\"],[1.0,\"#f0f921\"]]}],\"surface\":[{\"type\":\"surface\",\"colorbar\":{\"outlinewidth\":0,\"ticks\":\"\"},\"colorscale\":[[0.0,\"#0d0887\"],[0.1111111111111111,\"#46039f\"],[0.2222222222222222,\"#7201a8\"],[0.3333333333333333,\"#9c179e\"],[0.4444444444444444,\"#bd3786\"],[0.5555555555555556,\"#d8576b\"],[0.6666666666666666,\"#ed7953\"],[0.7777777777777778,\"#fb9f3a\"],[0.8888888888888888,\"#fdca26\"],[1.0,\"#f0f921\"]]}],\"mesh3d\":[{\"type\":\"mesh3d\",\"colorbar\":{\"outlinewidth\":0,\"ticks\":\"\"}}],\"scatter\":[{\"fillpattern\":{\"fillmode\":\"overlay\",\"size\":10,\"solidity\":0.2},\"type\":\"scatter\"}],\"parcoords\":[{\"type\":\"parcoords\",\"line\":{\"colorbar\":{\"outlinewidth\":0,\"ticks\":\"\"}}}],\"scatterpolargl\":[{\"type\":\"scatterpolargl\",\"marker\":{\"colorbar\":{\"outlinewidth\":0,\"ticks\":\"\"}}}],\"bar\":[{\"error_x\":{\"color\":\"#2a3f5f\"},\"error_y\":{\"color\":\"#2a3f5f\"},\"marker\":{\"line\":{\"color\":\"#E5ECF6\",\"width\":0.5},\"pattern\":{\"fillmode\":\"overlay\",\"size\":10,\"solidity\":0.2}},\"type\":\"bar\"}],\"scattergeo\":[{\"type\":\"scattergeo\",\"marker\":{\"colorbar\":{\"outlinewidth\":0,\"ticks\":\"\"}}}],\"scatterpolar\":[{\"type\":\"scatterpolar\",\"marker\":{\"colorbar\":{\"outlinewidth\":0,\"ticks\":\"\"}}}],\"histogram\":[{\"marker\":{\"pattern\":{\"fillmode\":\"overlay\",\"size\":10,\"solidity\":0.2}},\"type\":\"histogram\"}],\"scattergl\":[{\"type\":\"scattergl\",\"marker\":{\"colorbar\":{\"outlinewidth\":0,\"ticks\":\"\"}}}],\"scatter3d\":[{\"type\":\"scatter3d\",\"line\":{\"colorbar\":{\"outlinewidth\":0,\"ticks\":\"\"}},\"marker\":{\"colorbar\":{\"outlinewidth\":0,\"ticks\":\"\"}}}],\"scattermapbox\":[{\"type\":\"scattermapbox\",\"marker\":{\"colorbar\":{\"outlinewidth\":0,\"ticks\":\"\"}}}],\"scatterternary\":[{\"type\":\"scatterternary\",\"marker\":{\"colorbar\":{\"outlinewidth\":0,\"ticks\":\"\"}}}],\"scattercarpet\":[{\"type\":\"scattercarpet\",\"marker\":{\"colorbar\":{\"outlinewidth\":0,\"ticks\":\"\"}}}],\"carpet\":[{\"aaxis\":{\"endlinecolor\":\"#2a3f5f\",\"gridcolor\":\"white\",\"linecolor\":\"white\",\"minorgridcolor\":\"white\",\"startlinecolor\":\"#2a3f5f\"},\"baxis\":{\"endlinecolor\":\"#2a3f5f\",\"gridcolor\":\"white\",\"linecolor\":\"white\",\"minorgridcolor\":\"white\",\"startlinecolor\":\"#2a3f5f\"},\"type\":\"carpet\"}],\"table\":[{\"cells\":{\"fill\":{\"color\":\"#EBF0F8\"},\"line\":{\"color\":\"white\"}},\"header\":{\"fill\":{\"color\":\"#C8D4E3\"},\"line\":{\"color\":\"white\"}},\"type\":\"table\"}],\"barpolar\":[{\"marker\":{\"line\":{\"color\":\"#E5ECF6\",\"width\":0.5},\"pattern\":{\"fillmode\":\"overlay\",\"size\":10,\"solidity\":0.2}},\"type\":\"barpolar\"}],\"pie\":[{\"automargin\":true,\"type\":\"pie\"}]},\"layout\":{\"autotypenumbers\":\"strict\",\"colorway\":[\"#636efa\",\"#EF553B\",\"#00cc96\",\"#ab63fa\",\"#FFA15A\",\"#19d3f3\",\"#FF6692\",\"#B6E880\",\"#FF97FF\",\"#FECB52\"],\"font\":{\"color\":\"#2a3f5f\"},\"hovermode\":\"closest\",\"hoverlabel\":{\"align\":\"left\"},\"paper_bgcolor\":\"white\",\"plot_bgcolor\":\"#E5ECF6\",\"polar\":{\"bgcolor\":\"#E5ECF6\",\"angularaxis\":{\"gridcolor\":\"white\",\"linecolor\":\"white\",\"ticks\":\"\"},\"radialaxis\":{\"gridcolor\":\"white\",\"linecolor\":\"white\",\"ticks\":\"\"}},\"ternary\":{\"bgcolor\":\"#E5ECF6\",\"aaxis\":{\"gridcolor\":\"white\",\"linecolor\":\"white\",\"ticks\":\"\"},\"baxis\":{\"gridcolor\":\"white\",\"linecolor\":\"white\",\"ticks\":\"\"},\"caxis\":{\"gridcolor\":\"white\",\"linecolor\":\"white\",\"ticks\":\"\"}},\"coloraxis\":{\"colorbar\":{\"outlinewidth\":0,\"ticks\":\"\"}},\"colorscale\":{\"sequential\":[[0.0,\"#0d0887\"],[0.1111111111111111,\"#46039f\"],[0.2222222222222222,\"#7201a8\"],[0.3333333333333333,\"#9c179e\"],[0.4444444444444444,\"#bd3786\"],[0.5555555555555556,\"#d8576b\"],[0.6666666666666666,\"#ed7953\"],[0.7777777777777778,\"#fb9f3a\"],[0.8888888888888888,\"#fdca26\"],[1.0,\"#f0f921\"]],\"sequentialminus\":[[0.0,\"#0d0887\"],[0.1111111111111111,\"#46039f\"],[0.2222222222222222,\"#7201a8\"],[0.3333333333333333,\"#9c179e\"],[0.4444444444444444,\"#bd3786\"],[0.5555555555555556,\"#d8576b\"],[0.6666666666666666,\"#ed7953\"],[0.7777777777777778,\"#fb9f3a\"],[0.8888888888888888,\"#fdca26\"],[1.0,\"#f0f921\"]],\"diverging\":[[0,\"#8e0152\"],[0.1,\"#c51b7d\"],[0.2,\"#de77ae\"],[0.3,\"#f1b6da\"],[0.4,\"#fde0ef\"],[0.5,\"#f7f7f7\"],[0.6,\"#e6f5d0\"],[0.7,\"#b8e186\"],[0.8,\"#7fbc41\"],[0.9,\"#4d9221\"],[1,\"#276419\"]]},\"xaxis\":{\"gridcolor\":\"white\",\"linecolor\":\"white\",\"ticks\":\"\",\"title\":{\"standoff\":15},\"zerolinecolor\":\"white\",\"automargin\":true,\"zerolinewidth\":2},\"yaxis\":{\"gridcolor\":\"white\",\"linecolor\":\"white\",\"ticks\":\"\",\"title\":{\"standoff\":15},\"zerolinecolor\":\"white\",\"automargin\":true,\"zerolinewidth\":2},\"scene\":{\"xaxis\":{\"backgroundcolor\":\"#E5ECF6\",\"gridcolor\":\"white\",\"linecolor\":\"white\",\"showbackground\":true,\"ticks\":\"\",\"zerolinecolor\":\"white\",\"gridwidth\":2},\"yaxis\":{\"backgroundcolor\":\"#E5ECF6\",\"gridcolor\":\"white\",\"linecolor\":\"white\",\"showbackground\":true,\"ticks\":\"\",\"zerolinecolor\":\"white\",\"gridwidth\":2},\"zaxis\":{\"backgroundcolor\":\"#E5ECF6\",\"gridcolor\":\"white\",\"linecolor\":\"white\",\"showbackground\":true,\"ticks\":\"\",\"zerolinecolor\":\"white\",\"gridwidth\":2}},\"shapedefaults\":{\"line\":{\"color\":\"#2a3f5f\"}},\"annotationdefaults\":{\"arrowcolor\":\"#2a3f5f\",\"arrowhead\":0,\"arrowwidth\":1},\"geo\":{\"bgcolor\":\"white\",\"landcolor\":\"#E5ECF6\",\"subunitcolor\":\"white\",\"showland\":true,\"showlakes\":true,\"lakecolor\":\"white\"},\"title\":{\"x\":0.05},\"mapbox\":{\"style\":\"light\"}}},\"xaxis\":{\"anchor\":\"y\",\"domain\":[0.0,1.0],\"title\":{\"text\":\"FAVOR OR OPPOSE EXPANDING NUCLEAR PLANTS\"},\"categoryorder\":\"array\",\"categoryarray\":[\"Strongly oppose\",\"Somewhat oppose\",\"Somewhat favor\",\"Strongly favor\"]},\"yaxis\":{\"anchor\":\"x\",\"domain\":[0.0,1.0],\"title\":{\"text\":\"NUMBER OF RESPONSES\"}},\"legend\":{\"title\":{\"text\":\"Political views\"},\"tracegroupgap\":0},\"margin\":{\"t\":60},\"barmode\":\"group\"},                        {\"responsive\": true}                    ).then(function(){\n",
       "                            \n",
       "var gd = document.getElementById('59270799-527d-40d3-99f0-da99275eee07');\n",
       "var x = new MutationObserver(function (mutations, observer) {{\n",
       "        var display = window.getComputedStyle(gd).display;\n",
       "        if (!display || display === 'none') {{\n",
       "            console.log([gd, 'removed!']);\n",
       "            Plotly.purge(gd);\n",
       "            observer.disconnect();\n",
       "        }}\n",
       "}});\n",
       "\n",
       "// Listen for the removal of the full notebook cells\n",
       "var notebookContainer = gd.closest('#notebook-container');\n",
       "if (notebookContainer) {{\n",
       "    x.observe(notebookContainer, {childList: true});\n",
       "}}\n",
       "\n",
       "// Listen for the clearing of the current output cell\n",
       "var outputEl = gd.closest('.output');\n",
       "if (outputEl) {{\n",
       "    x.observe(outputEl, {childList: true});\n",
       "}}\n",
       "\n",
       "                        })                };                });            </script>        </div>"
      ]
     },
     "metadata": {},
     "output_type": "display_data"
    }
   ],
   "source": [
    "import plotly.express as px\n",
    "fig = px.histogram(dataframe1, x=\"Q10\", color=\"Q5a\", barmode=\"group\").update_xaxes(categoryorder='array', categoryarray=[\"Strongly oppose\", \"Somewhat oppose\", \"Somewhat favor\", \"Strongly favor\"]).update_layout(\n",
    "xaxis_title=\"FAVOR OR OPPOSE EXPANDING NUCLEAR PLANTS\", yaxis_title=\"NUMBER OF RESPONSES\", legend_title=\"Political views\",\n",
    ")\n",
    "fig.show()"
   ]
  },
  {
   "cell_type": "code",
   "execution_count": 60,
   "id": "06c9c404-7b44-4602-87d9-e3bd8d9fcc3c",
   "metadata": {},
   "outputs": [
    {
     "data": {
      "application/vnd.plotly.v1+json": {
       "config": {
        "plotlyServerURL": "https://plot.ly"
       },
       "data": [
        {
         "alignmentgroup": "True",
         "bingroup": "x",
         "hovertemplate": "hAge1=18-34<br>Q10=%{x}<br>count=%{y}<extra></extra>",
         "legendgroup": "18-34",
         "marker": {
          "color": "#636efa",
          "pattern": {
           "shape": ""
          }
         },
         "name": "18-34",
         "offsetgroup": "18-34",
         "orientation": "v",
         "showlegend": true,
         "type": "histogram",
         "x": [
          "Somewhat favor",
          "Somewhat oppose",
          "Strongly favor",
          "Strongly favor",
          "Somewhat favor",
          "Somewhat favor",
          "Somewhat favor",
          "Strongly favor",
          "Somewhat favor",
          "Strongly favor",
          "Strongly favor",
          "Somewhat favor",
          "Somewhat favor",
          "Somewhat favor",
          "Somewhat favor",
          "Strongly favor",
          "Somewhat favor",
          "Somewhat oppose",
          "Somewhat favor",
          "Somewhat favor",
          "Strongly favor",
          "Strongly favor",
          "Somewhat favor",
          "Somewhat favor",
          "Somewhat favor",
          "Somewhat oppose",
          "Somewhat oppose",
          "Strongly favor",
          "Somewhat oppose",
          "Strongly favor",
          "Somewhat favor",
          "Somewhat favor",
          "Strongly favor",
          "Somewhat favor",
          "Strongly favor",
          "Strongly favor",
          "Strongly favor",
          "Somewhat favor",
          "Strongly favor",
          "Strongly favor",
          "Somewhat favor",
          "Somewhat oppose",
          "Somewhat oppose",
          "Somewhat oppose",
          "Strongly favor",
          "Somewhat favor",
          "Somewhat oppose",
          "Strongly favor",
          "Strongly favor",
          "Strongly favor",
          "Strongly favor",
          "Somewhat favor",
          "Somewhat favor",
          "Somewhat favor",
          "Somewhat favor",
          "Somewhat favor",
          "Somewhat favor",
          "Somewhat favor",
          "Strongly favor",
          "Strongly favor",
          "Somewhat favor",
          "Strongly oppose",
          "Somewhat oppose",
          "Strongly oppose",
          "Somewhat oppose",
          "Somewhat favor",
          "Strongly favor",
          "Strongly favor",
          "Somewhat oppose",
          "Somewhat favor",
          "Strongly favor",
          "Somewhat favor",
          "Somewhat oppose",
          "Somewhat favor",
          "Strongly favor",
          "Strongly favor",
          "Strongly favor",
          "Somewhat favor",
          "Somewhat favor",
          "Strongly favor",
          "Strongly favor",
          "Somewhat oppose",
          "Somewhat favor",
          "Somewhat favor",
          "Strongly favor",
          "Somewhat favor",
          "Somewhat favor",
          "Somewhat oppose",
          "Somewhat favor",
          "Strongly favor",
          "Strongly favor",
          "Strongly favor",
          "Somewhat favor",
          "Somewhat favor",
          "Strongly favor",
          "Somewhat favor",
          "Somewhat favor",
          "Somewhat favor",
          "Strongly favor",
          "Somewhat favor",
          "Somewhat favor",
          "Strongly oppose",
          "Strongly favor",
          "Somewhat favor",
          "Strongly favor",
          "Strongly favor",
          "Strongly favor",
          "Somewhat favor",
          "Somewhat favor",
          "Strongly oppose",
          "Strongly favor",
          "Somewhat favor",
          "Somewhat favor",
          "Somewhat favor",
          "Strongly favor",
          "Strongly favor",
          "Strongly favor",
          "Somewhat favor",
          "Strongly favor",
          "Strongly favor",
          "Somewhat favor",
          "Strongly favor",
          "Somewhat favor",
          "Strongly favor",
          "Strongly favor",
          "Strongly favor",
          "Somewhat favor",
          "Somewhat favor",
          "Somewhat favor",
          "Somewhat favor",
          "Somewhat favor",
          "Strongly favor",
          "Somewhat favor",
          "Somewhat oppose",
          "Somewhat favor",
          "Strongly favor",
          "Somewhat oppose",
          "Somewhat favor",
          "Somewhat favor",
          "Somewhat favor",
          "Somewhat oppose",
          "Somewhat favor",
          "Somewhat oppose",
          "Somewhat oppose",
          "Strongly favor",
          "Somewhat favor",
          "Strongly oppose",
          "Somewhat favor",
          "Strongly favor",
          "Strongly favor",
          "Somewhat favor",
          "Somewhat oppose",
          "Strongly favor",
          "Somewhat favor",
          "Somewhat oppose",
          "Strongly favor",
          "Somewhat favor",
          "Somewhat favor",
          "Somewhat favor",
          "Somewhat oppose",
          "Somewhat favor",
          "Somewhat favor",
          "Strongly favor",
          "Somewhat favor",
          "Somewhat oppose",
          "Somewhat favor",
          "Somewhat oppose",
          "Somewhat favor",
          "Strongly oppose",
          "Somewhat favor",
          "Somewhat oppose",
          "Somewhat oppose",
          "Somewhat favor",
          "Strongly favor",
          "Strongly favor",
          "Strongly oppose",
          "Somewhat favor",
          "Somewhat favor",
          "Somewhat favor",
          "Somewhat oppose",
          "Somewhat favor",
          "Somewhat oppose",
          "Strongly favor",
          "Somewhat favor",
          "Somewhat favor",
          "Somewhat favor",
          "Somewhat favor",
          "Strongly favor",
          "Strongly favor",
          "Somewhat favor",
          "Somewhat favor",
          "Somewhat favor",
          "Somewhat favor",
          "Strongly favor",
          "Strongly favor",
          "Somewhat favor",
          "Somewhat favor",
          "Strongly favor",
          "Somewhat favor",
          "Strongly favor",
          "Strongly favor",
          "Somewhat favor",
          "Strongly favor",
          "Somewhat favor",
          "Strongly favor",
          "Somewhat favor",
          "Strongly favor",
          "Strongly favor",
          "Strongly favor",
          "Somewhat favor",
          "Somewhat favor",
          "Strongly favor",
          "Somewhat favor",
          "Somewhat favor",
          "Somewhat oppose",
          "Strongly oppose",
          "Somewhat oppose",
          "Strongly favor",
          "Somewhat favor",
          "Somewhat favor",
          "Somewhat favor",
          "Strongly favor",
          "Somewhat favor",
          "Somewhat oppose",
          "Somewhat oppose",
          "Somewhat favor",
          "Strongly oppose",
          "Somewhat favor",
          "Strongly favor",
          "Strongly favor",
          "Strongly oppose",
          "Strongly oppose",
          "Strongly oppose",
          "Strongly favor",
          "Somewhat oppose",
          "Somewhat favor",
          "Somewhat oppose",
          "Strongly favor",
          "Somewhat oppose",
          "Somewhat favor",
          "Somewhat favor",
          "Somewhat favor",
          "Somewhat favor",
          "Somewhat favor",
          "Strongly favor",
          "Somewhat favor",
          "Strongly favor",
          "Strongly favor",
          "Strongly favor",
          "Strongly favor",
          "Somewhat favor",
          "Somewhat oppose",
          "Strongly favor",
          "Somewhat favor",
          "Somewhat favor",
          "Strongly favor",
          "Strongly favor",
          "Strongly oppose",
          "Somewhat favor",
          "Somewhat favor",
          "Somewhat favor",
          "Somewhat favor",
          "Strongly favor",
          "Strongly favor",
          "Somewhat oppose",
          "Somewhat favor",
          "Strongly favor",
          "Somewhat oppose",
          "Somewhat favor",
          "Strongly favor",
          "Strongly favor",
          "Strongly favor",
          "Somewhat favor",
          "Somewhat favor",
          "Somewhat favor",
          "Somewhat oppose",
          "Strongly favor",
          "Somewhat oppose",
          "Somewhat favor",
          "Somewhat favor",
          "Somewhat favor",
          "Somewhat oppose"
         ],
         "xaxis": "x",
         "yaxis": "y"
        },
        {
         "alignmentgroup": "True",
         "bingroup": "x",
         "hovertemplate": "hAge1=35-49<br>Q10=%{x}<br>count=%{y}<extra></extra>",
         "legendgroup": "35-49",
         "marker": {
          "color": "#EF553B",
          "pattern": {
           "shape": ""
          }
         },
         "name": "35-49",
         "offsetgroup": "35-49",
         "orientation": "v",
         "showlegend": true,
         "type": "histogram",
         "x": [
          "Somewhat favor",
          "Somewhat favor",
          "Somewhat favor",
          "Somewhat favor",
          "Somewhat favor",
          "Somewhat favor",
          "Somewhat favor",
          "Strongly oppose",
          "Somewhat oppose",
          "Strongly favor",
          "Strongly favor",
          "Somewhat favor",
          "Somewhat favor",
          "Strongly favor",
          "Somewhat favor",
          "Somewhat favor",
          "Somewhat favor",
          "Strongly oppose",
          "Strongly oppose",
          "Somewhat favor",
          "Strongly favor",
          "Strongly favor",
          "Strongly favor",
          "Somewhat oppose",
          "Somewhat oppose",
          "Somewhat favor",
          "Somewhat favor",
          "Strongly oppose",
          "Somewhat oppose",
          "Somewhat oppose",
          "Somewhat oppose",
          "Strongly favor",
          "Somewhat favor",
          "Somewhat favor",
          "Somewhat oppose",
          "Somewhat favor",
          "Strongly favor",
          "Somewhat favor",
          "Somewhat favor",
          "Somewhat favor",
          "Somewhat favor",
          "Somewhat favor",
          "Strongly favor",
          "Strongly favor",
          "Somewhat favor",
          "Strongly favor",
          "Somewhat oppose",
          "Somewhat favor",
          "Strongly favor",
          "Strongly favor",
          "Somewhat favor",
          "Strongly favor",
          "Somewhat favor",
          "Strongly favor",
          "Strongly favor",
          "Somewhat favor",
          "Somewhat oppose",
          "Strongly favor",
          "Somewhat favor",
          "Somewhat favor",
          "Somewhat oppose",
          "Somewhat oppose",
          "Somewhat oppose",
          "Somewhat oppose",
          "Somewhat favor",
          "Strongly favor",
          "Strongly oppose",
          "Somewhat oppose",
          "Somewhat favor",
          "Somewhat oppose",
          "Strongly favor",
          "Strongly favor",
          "Somewhat favor",
          "Somewhat favor",
          "Somewhat oppose",
          "Strongly favor",
          "Somewhat favor",
          "Somewhat favor",
          "Strongly favor",
          "Somewhat favor",
          "Strongly favor",
          "Strongly favor",
          "Strongly favor",
          "Strongly oppose",
          "Somewhat favor",
          "Strongly favor",
          "Somewhat favor",
          "Strongly oppose",
          "Somewhat favor",
          "Strongly favor",
          "Somewhat favor",
          "Somewhat favor",
          "Somewhat favor",
          "Somewhat favor",
          "Strongly favor",
          "Somewhat favor",
          "Somewhat favor",
          "Somewhat favor",
          "Strongly favor",
          "Strongly oppose",
          "Strongly favor",
          "Somewhat favor",
          "Strongly favor",
          "Strongly favor",
          "Strongly favor",
          "Strongly favor",
          "Somewhat favor",
          "Strongly favor",
          "Somewhat favor",
          "Somewhat favor",
          "Strongly favor",
          "Strongly favor",
          "Somewhat favor",
          "Strongly favor",
          "Strongly favor",
          "Somewhat oppose",
          "Strongly oppose",
          "Somewhat oppose",
          "Somewhat favor",
          "Somewhat favor",
          "Somewhat oppose",
          "Somewhat favor",
          "Somewhat favor",
          "Somewhat oppose",
          "Somewhat favor",
          "Somewhat favor",
          "Strongly oppose",
          "Somewhat favor",
          "Somewhat oppose",
          "Somewhat oppose",
          "Somewhat oppose",
          "Strongly favor",
          "Strongly favor",
          "Somewhat favor",
          "Strongly favor",
          "Strongly favor",
          "Strongly oppose",
          "Strongly oppose",
          "Strongly favor",
          "Somewhat favor",
          "Somewhat favor",
          "Somewhat favor",
          "Somewhat favor",
          "Somewhat favor",
          "Somewhat favor",
          "Strongly favor",
          "Somewhat favor",
          "Somewhat favor",
          "Strongly favor",
          "Somewhat favor",
          "Strongly favor",
          "Somewhat favor",
          "Strongly favor",
          "Strongly favor",
          "Somewhat favor",
          "Somewhat favor",
          "Strongly favor",
          "Strongly oppose",
          "Somewhat favor",
          "Somewhat favor",
          "Somewhat oppose",
          "Somewhat favor",
          "Somewhat favor",
          "Strongly oppose",
          "Somewhat favor",
          "Strongly oppose",
          "Somewhat favor",
          "Somewhat favor",
          "Strongly favor",
          "Somewhat favor",
          "Strongly favor",
          "Strongly favor",
          "Somewhat favor",
          "Somewhat favor",
          "Strongly favor",
          "Somewhat favor",
          "Strongly favor",
          "Strongly favor",
          "Somewhat favor",
          "Somewhat oppose",
          "Somewhat favor",
          "Somewhat favor",
          "Strongly oppose",
          "Strongly favor",
          "Somewhat oppose",
          "Somewhat favor",
          "Somewhat favor",
          "Somewhat favor",
          "Strongly favor",
          "Somewhat favor",
          "Strongly favor",
          "Somewhat favor",
          "Somewhat favor",
          "Somewhat favor",
          "Somewhat favor",
          "Somewhat oppose",
          "Strongly favor",
          "Strongly favor",
          "Somewhat favor",
          "Somewhat favor",
          "Somewhat favor",
          "Somewhat oppose",
          "Somewhat favor",
          "Strongly favor",
          "Somewhat oppose",
          "Somewhat favor",
          "Strongly oppose",
          "Strongly oppose",
          "Somewhat favor",
          "Somewhat favor",
          "Somewhat oppose",
          "Strongly favor",
          "Somewhat oppose",
          "Somewhat favor",
          "Somewhat oppose",
          "Somewhat favor",
          "Somewhat favor",
          "Somewhat favor",
          "Somewhat oppose",
          "Somewhat favor",
          "Somewhat favor",
          "Somewhat oppose",
          "Strongly favor",
          "Somewhat favor",
          "Somewhat oppose",
          "Somewhat favor",
          "Somewhat oppose",
          "Somewhat favor",
          "Somewhat favor",
          "Somewhat favor",
          "Somewhat favor",
          "Somewhat favor",
          "Strongly favor",
          "Somewhat oppose",
          "Somewhat favor",
          "Somewhat favor",
          "Somewhat oppose",
          "Somewhat favor",
          "Somewhat oppose",
          "Somewhat favor",
          "Somewhat favor",
          "Strongly favor",
          "Somewhat favor",
          "Somewhat favor",
          "Strongly favor",
          "Strongly favor",
          "Somewhat favor",
          "Strongly favor",
          "Strongly favor",
          "Somewhat favor",
          "Somewhat favor",
          "Somewhat oppose",
          "Strongly oppose",
          "Strongly favor",
          "Somewhat oppose",
          "Strongly favor",
          "Somewhat favor",
          "Somewhat oppose",
          "Strongly favor",
          "Strongly favor",
          "Strongly favor",
          "Somewhat favor",
          "Strongly oppose",
          "Somewhat favor",
          "Somewhat favor",
          "Strongly favor",
          "Somewhat favor",
          "Somewhat favor",
          "Somewhat favor",
          "Somewhat favor",
          "Somewhat favor",
          "Strongly favor"
         ],
         "xaxis": "x",
         "yaxis": "y"
        },
        {
         "alignmentgroup": "True",
         "bingroup": "x",
         "hovertemplate": "hAge1=50+<br>Q10=%{x}<br>count=%{y}<extra></extra>",
         "legendgroup": "50+",
         "marker": {
          "color": "#00cc96",
          "pattern": {
           "shape": ""
          }
         },
         "name": "50+",
         "offsetgroup": "50+",
         "orientation": "v",
         "showlegend": true,
         "type": "histogram",
         "x": [
          "Somewhat favor",
          "Strongly favor",
          "Somewhat oppose",
          "Strongly favor",
          "Somewhat favor",
          "Somewhat oppose",
          "Somewhat favor",
          "Strongly favor",
          "Somewhat oppose",
          "Somewhat favor",
          "Somewhat oppose",
          "Strongly oppose",
          "Strongly favor",
          "Somewhat favor",
          "Somewhat favor",
          "Strongly favor",
          "Strongly favor",
          "Strongly oppose",
          "Strongly favor",
          "Somewhat favor",
          "Somewhat favor",
          "Somewhat favor",
          "Strongly favor",
          "Somewhat favor",
          "Somewhat oppose",
          "Somewhat oppose",
          "Somewhat favor",
          "Strongly favor",
          "Strongly favor",
          "Strongly favor",
          "Somewhat oppose",
          "Somewhat favor",
          "Somewhat favor",
          "Strongly oppose",
          "Strongly favor",
          "Somewhat favor",
          "Somewhat favor",
          "Somewhat favor",
          "Somewhat favor",
          "Strongly favor",
          "Strongly favor",
          "Strongly oppose",
          "Somewhat oppose",
          "Somewhat favor",
          "Somewhat favor",
          "Somewhat favor",
          "Somewhat favor",
          "Somewhat favor",
          "Somewhat favor",
          "Somewhat favor",
          "Somewhat favor",
          "Strongly oppose",
          "Somewhat oppose",
          "Somewhat favor",
          "Somewhat oppose",
          "Somewhat favor",
          "Somewhat favor",
          "Somewhat oppose",
          "Strongly oppose",
          "Strongly favor",
          "Somewhat favor",
          "Strongly favor",
          "Strongly oppose",
          "Somewhat favor",
          "Strongly favor",
          "Strongly oppose",
          "Somewhat favor",
          "Strongly oppose",
          "Strongly favor",
          "Strongly favor",
          "Strongly favor",
          "Somewhat favor",
          "Somewhat favor",
          "Somewhat favor",
          "Somewhat favor",
          "Somewhat favor",
          "Strongly favor",
          "Somewhat favor",
          "Strongly oppose",
          "Strongly favor",
          "Somewhat oppose",
          "Somewhat oppose",
          "Somewhat favor",
          "Somewhat favor",
          "Somewhat oppose",
          "Somewhat favor",
          "Strongly oppose",
          "Somewhat favor",
          "Strongly oppose",
          "Somewhat favor",
          "Somewhat favor",
          "Somewhat favor",
          "Somewhat favor",
          "Somewhat oppose",
          "Somewhat favor",
          "Somewhat oppose",
          "Strongly favor",
          "Somewhat favor",
          "Somewhat favor",
          "Somewhat favor",
          "Somewhat favor",
          "Strongly favor",
          "Strongly favor",
          "Strongly oppose",
          "Somewhat oppose",
          "Strongly favor",
          "Strongly favor",
          "Somewhat oppose",
          "Strongly favor",
          "Strongly oppose",
          "Strongly favor",
          "Somewhat favor",
          "Strongly favor",
          "Strongly favor",
          "Strongly favor",
          "Strongly favor",
          "Strongly favor",
          "Strongly favor",
          "Somewhat oppose",
          "Somewhat oppose",
          "Somewhat favor",
          "Strongly favor",
          "Somewhat favor",
          "Somewhat oppose",
          "Somewhat favor",
          "Somewhat favor",
          "Strongly favor",
          "Strongly oppose",
          "Somewhat oppose",
          "Somewhat favor",
          "Somewhat oppose",
          "Somewhat oppose",
          "Somewhat favor",
          "Somewhat oppose",
          "Somewhat favor",
          "Somewhat oppose",
          "Strongly favor",
          "Somewhat favor",
          "Somewhat favor",
          "Strongly oppose",
          "Somewhat favor",
          "Strongly favor",
          "Somewhat favor",
          "Somewhat favor",
          "Somewhat favor",
          "Somewhat oppose",
          "Somewhat favor",
          "Somewhat favor",
          "Strongly favor",
          "Somewhat favor",
          "Strongly favor",
          "Strongly favor",
          "Strongly favor",
          "Somewhat favor",
          "Somewhat oppose",
          "Somewhat favor",
          "Somewhat favor",
          "Somewhat favor",
          "Strongly oppose",
          "Somewhat oppose",
          "Somewhat oppose",
          "Strongly favor",
          "Strongly oppose",
          "Strongly favor",
          "Strongly favor",
          "Somewhat oppose",
          "Strongly oppose",
          "Strongly favor",
          "Somewhat favor",
          "Strongly favor",
          "Strongly favor",
          "Somewhat favor",
          "Somewhat favor",
          "Somewhat oppose",
          "Strongly favor",
          "Strongly favor",
          "Strongly favor",
          "Somewhat favor",
          "Strongly favor",
          "Somewhat favor",
          "Somewhat favor",
          "Somewhat favor",
          "Strongly favor",
          "Somewhat favor",
          "Somewhat favor",
          "Strongly favor",
          "Somewhat oppose",
          "Strongly favor",
          "Strongly favor",
          "Somewhat favor",
          "Somewhat oppose",
          "Strongly oppose",
          "Somewhat favor",
          "Strongly favor",
          "Somewhat favor",
          "Strongly favor",
          "Strongly favor",
          "Somewhat favor",
          "Somewhat favor",
          "Somewhat favor",
          "Somewhat oppose",
          "Somewhat oppose",
          "Strongly favor",
          "Strongly favor",
          "Strongly oppose",
          "Strongly favor",
          "Strongly favor",
          "Strongly favor",
          "Strongly favor",
          "Somewhat favor",
          "Somewhat favor",
          "Somewhat oppose",
          "Strongly favor",
          "Strongly oppose",
          "Somewhat oppose",
          "Strongly favor",
          "Strongly favor",
          "Strongly favor",
          "Strongly favor",
          "Somewhat oppose",
          "Strongly favor",
          "Strongly favor",
          "Somewhat oppose",
          "Somewhat oppose",
          "Strongly favor",
          "Somewhat favor",
          "Somewhat favor",
          "Strongly favor",
          "Somewhat favor",
          "Somewhat favor",
          "Somewhat favor",
          "Somewhat oppose",
          "Strongly favor",
          "Strongly favor",
          "Strongly favor",
          "Strongly favor",
          "Somewhat favor",
          "Somewhat oppose",
          "Strongly favor",
          "Strongly favor",
          "Somewhat favor",
          "Strongly favor",
          "Somewhat favor",
          "Somewhat favor",
          "Somewhat favor",
          "Somewhat favor",
          "Strongly favor",
          "Strongly favor",
          "Somewhat oppose",
          "Somewhat favor",
          "Somewhat favor",
          "Somewhat favor",
          "Strongly oppose",
          "Strongly oppose",
          "Somewhat oppose",
          "Somewhat favor",
          "Somewhat favor",
          "Somewhat oppose",
          "Strongly oppose",
          "Somewhat oppose",
          "Strongly favor",
          "Somewhat favor",
          "Somewhat favor",
          "Strongly favor",
          "Somewhat favor",
          "Strongly oppose",
          "Somewhat favor",
          "Strongly favor",
          "Strongly oppose",
          "Somewhat favor",
          "Somewhat oppose",
          "Somewhat favor",
          "Somewhat favor",
          "Somewhat favor",
          "Strongly oppose",
          "Strongly favor",
          "Somewhat favor",
          "Somewhat oppose",
          "Somewhat oppose",
          "Strongly favor",
          "Somewhat oppose",
          "Somewhat favor",
          "Strongly favor",
          "Somewhat favor",
          "Somewhat favor",
          "Strongly favor",
          "Strongly favor",
          "Somewhat favor",
          "Somewhat favor",
          "Strongly favor",
          "Strongly favor",
          "Strongly oppose",
          "Strongly favor",
          "Strongly favor",
          "Strongly favor",
          "Strongly favor",
          "Strongly favor",
          "Somewhat oppose",
          "Strongly favor",
          "Strongly favor",
          "Somewhat oppose",
          "Strongly favor",
          "Strongly favor",
          "Strongly oppose",
          "Somewhat favor",
          "Strongly favor",
          "Somewhat favor",
          "Somewhat favor",
          "Strongly favor",
          "Somewhat oppose",
          "Somewhat favor",
          "Somewhat oppose",
          "Somewhat favor",
          "Strongly favor",
          "Somewhat oppose",
          "Somewhat favor",
          "Somewhat favor",
          "Somewhat oppose",
          "Strongly favor",
          "Somewhat favor",
          "Somewhat favor",
          "Somewhat oppose",
          "Somewhat favor",
          "Somewhat oppose",
          "Somewhat favor",
          "Somewhat favor",
          "Strongly oppose",
          "Strongly favor",
          "Strongly oppose",
          "Somewhat favor",
          "Strongly favor",
          "Somewhat favor",
          "Somewhat favor",
          "Strongly oppose",
          "Strongly favor",
          "Strongly favor",
          "Strongly favor",
          "Strongly favor",
          "Strongly oppose",
          "Strongly favor",
          "Somewhat oppose",
          "Strongly favor",
          "Strongly favor",
          "Somewhat oppose",
          "Somewhat favor",
          "Somewhat oppose",
          "Strongly favor",
          "Strongly favor",
          "Strongly favor",
          "Strongly favor",
          "Strongly favor",
          "Somewhat favor",
          "Somewhat favor",
          "Somewhat favor",
          "Strongly favor",
          "Somewhat favor",
          "Somewhat favor",
          "Strongly favor",
          "Strongly oppose",
          "Somewhat oppose",
          "Somewhat favor",
          "Somewhat favor",
          "Strongly oppose",
          "Strongly favor",
          "Somewhat oppose",
          "Strongly favor",
          "Strongly favor",
          "Strongly oppose",
          "Strongly favor",
          "Strongly favor",
          "Somewhat favor",
          "Strongly favor",
          "Somewhat favor",
          "Strongly favor",
          "Somewhat oppose",
          "Somewhat favor",
          "Strongly favor",
          "Somewhat oppose",
          "Strongly favor",
          "Somewhat favor",
          "Strongly favor",
          "Somewhat oppose",
          "Strongly favor",
          "Strongly favor",
          "Somewhat favor",
          "Somewhat favor",
          "Somewhat oppose",
          "Somewhat favor",
          "Somewhat favor",
          "Strongly favor",
          "Somewhat favor",
          "Strongly favor",
          "Somewhat favor",
          "Somewhat favor",
          "Somewhat favor",
          "Strongly favor",
          "Strongly oppose",
          "Somewhat favor",
          "Somewhat favor",
          "Strongly favor",
          "Somewhat favor",
          "Somewhat oppose",
          "Somewhat favor",
          "Strongly favor",
          "Somewhat oppose",
          "Somewhat favor",
          "Strongly favor",
          "Strongly favor",
          "Somewhat oppose",
          "Somewhat favor",
          "Somewhat favor",
          "Somewhat favor",
          "Strongly favor",
          "Somewhat favor",
          "Somewhat favor",
          "Somewhat favor",
          "Somewhat favor",
          "Strongly favor",
          "Strongly oppose",
          "Somewhat favor",
          "Somewhat favor",
          "Strongly favor",
          "Strongly favor",
          "Strongly favor",
          "Somewhat oppose",
          "Somewhat favor",
          "Somewhat oppose",
          "Strongly favor",
          "Somewhat favor",
          "Somewhat favor",
          "Somewhat favor",
          "Strongly favor",
          "Strongly favor",
          "Strongly favor",
          "Strongly favor",
          "Strongly favor",
          "Somewhat oppose",
          "Strongly favor",
          "Somewhat favor",
          "Strongly favor",
          "Strongly favor",
          "Strongly favor",
          "Strongly favor",
          "Somewhat oppose",
          "Strongly favor",
          "Somewhat favor"
         ],
         "xaxis": "x",
         "yaxis": "y"
        }
       ],
       "layout": {
        "autosize": true,
        "barmode": "group",
        "legend": {
         "title": {
          "text": "AGE"
         },
         "tracegroupgap": 0
        },
        "margin": {
         "t": 60
        },
        "template": {
         "data": {
          "bar": [
           {
            "error_x": {
             "color": "#2a3f5f"
            },
            "error_y": {
             "color": "#2a3f5f"
            },
            "marker": {
             "line": {
              "color": "#E5ECF6",
              "width": 0.5
             },
             "pattern": {
              "fillmode": "overlay",
              "size": 10,
              "solidity": 0.2
             }
            },
            "type": "bar"
           }
          ],
          "barpolar": [
           {
            "marker": {
             "line": {
              "color": "#E5ECF6",
              "width": 0.5
             },
             "pattern": {
              "fillmode": "overlay",
              "size": 10,
              "solidity": 0.2
             }
            },
            "type": "barpolar"
           }
          ],
          "carpet": [
           {
            "aaxis": {
             "endlinecolor": "#2a3f5f",
             "gridcolor": "white",
             "linecolor": "white",
             "minorgridcolor": "white",
             "startlinecolor": "#2a3f5f"
            },
            "baxis": {
             "endlinecolor": "#2a3f5f",
             "gridcolor": "white",
             "linecolor": "white",
             "minorgridcolor": "white",
             "startlinecolor": "#2a3f5f"
            },
            "type": "carpet"
           }
          ],
          "choropleth": [
           {
            "colorbar": {
             "outlinewidth": 0,
             "ticks": ""
            },
            "type": "choropleth"
           }
          ],
          "contour": [
           {
            "colorbar": {
             "outlinewidth": 0,
             "ticks": ""
            },
            "colorscale": [
             [
              0,
              "#0d0887"
             ],
             [
              0.1111111111111111,
              "#46039f"
             ],
             [
              0.2222222222222222,
              "#7201a8"
             ],
             [
              0.3333333333333333,
              "#9c179e"
             ],
             [
              0.4444444444444444,
              "#bd3786"
             ],
             [
              0.5555555555555556,
              "#d8576b"
             ],
             [
              0.6666666666666666,
              "#ed7953"
             ],
             [
              0.7777777777777778,
              "#fb9f3a"
             ],
             [
              0.8888888888888888,
              "#fdca26"
             ],
             [
              1,
              "#f0f921"
             ]
            ],
            "type": "contour"
           }
          ],
          "contourcarpet": [
           {
            "colorbar": {
             "outlinewidth": 0,
             "ticks": ""
            },
            "type": "contourcarpet"
           }
          ],
          "heatmap": [
           {
            "colorbar": {
             "outlinewidth": 0,
             "ticks": ""
            },
            "colorscale": [
             [
              0,
              "#0d0887"
             ],
             [
              0.1111111111111111,
              "#46039f"
             ],
             [
              0.2222222222222222,
              "#7201a8"
             ],
             [
              0.3333333333333333,
              "#9c179e"
             ],
             [
              0.4444444444444444,
              "#bd3786"
             ],
             [
              0.5555555555555556,
              "#d8576b"
             ],
             [
              0.6666666666666666,
              "#ed7953"
             ],
             [
              0.7777777777777778,
              "#fb9f3a"
             ],
             [
              0.8888888888888888,
              "#fdca26"
             ],
             [
              1,
              "#f0f921"
             ]
            ],
            "type": "heatmap"
           }
          ],
          "heatmapgl": [
           {
            "colorbar": {
             "outlinewidth": 0,
             "ticks": ""
            },
            "colorscale": [
             [
              0,
              "#0d0887"
             ],
             [
              0.1111111111111111,
              "#46039f"
             ],
             [
              0.2222222222222222,
              "#7201a8"
             ],
             [
              0.3333333333333333,
              "#9c179e"
             ],
             [
              0.4444444444444444,
              "#bd3786"
             ],
             [
              0.5555555555555556,
              "#d8576b"
             ],
             [
              0.6666666666666666,
              "#ed7953"
             ],
             [
              0.7777777777777778,
              "#fb9f3a"
             ],
             [
              0.8888888888888888,
              "#fdca26"
             ],
             [
              1,
              "#f0f921"
             ]
            ],
            "type": "heatmapgl"
           }
          ],
          "histogram": [
           {
            "marker": {
             "pattern": {
              "fillmode": "overlay",
              "size": 10,
              "solidity": 0.2
             }
            },
            "type": "histogram"
           }
          ],
          "histogram2d": [
           {
            "colorbar": {
             "outlinewidth": 0,
             "ticks": ""
            },
            "colorscale": [
             [
              0,
              "#0d0887"
             ],
             [
              0.1111111111111111,
              "#46039f"
             ],
             [
              0.2222222222222222,
              "#7201a8"
             ],
             [
              0.3333333333333333,
              "#9c179e"
             ],
             [
              0.4444444444444444,
              "#bd3786"
             ],
             [
              0.5555555555555556,
              "#d8576b"
             ],
             [
              0.6666666666666666,
              "#ed7953"
             ],
             [
              0.7777777777777778,
              "#fb9f3a"
             ],
             [
              0.8888888888888888,
              "#fdca26"
             ],
             [
              1,
              "#f0f921"
             ]
            ],
            "type": "histogram2d"
           }
          ],
          "histogram2dcontour": [
           {
            "colorbar": {
             "outlinewidth": 0,
             "ticks": ""
            },
            "colorscale": [
             [
              0,
              "#0d0887"
             ],
             [
              0.1111111111111111,
              "#46039f"
             ],
             [
              0.2222222222222222,
              "#7201a8"
             ],
             [
              0.3333333333333333,
              "#9c179e"
             ],
             [
              0.4444444444444444,
              "#bd3786"
             ],
             [
              0.5555555555555556,
              "#d8576b"
             ],
             [
              0.6666666666666666,
              "#ed7953"
             ],
             [
              0.7777777777777778,
              "#fb9f3a"
             ],
             [
              0.8888888888888888,
              "#fdca26"
             ],
             [
              1,
              "#f0f921"
             ]
            ],
            "type": "histogram2dcontour"
           }
          ],
          "mesh3d": [
           {
            "colorbar": {
             "outlinewidth": 0,
             "ticks": ""
            },
            "type": "mesh3d"
           }
          ],
          "parcoords": [
           {
            "line": {
             "colorbar": {
              "outlinewidth": 0,
              "ticks": ""
             }
            },
            "type": "parcoords"
           }
          ],
          "pie": [
           {
            "automargin": true,
            "type": "pie"
           }
          ],
          "scatter": [
           {
            "fillpattern": {
             "fillmode": "overlay",
             "size": 10,
             "solidity": 0.2
            },
            "type": "scatter"
           }
          ],
          "scatter3d": [
           {
            "line": {
             "colorbar": {
              "outlinewidth": 0,
              "ticks": ""
             }
            },
            "marker": {
             "colorbar": {
              "outlinewidth": 0,
              "ticks": ""
             }
            },
            "type": "scatter3d"
           }
          ],
          "scattercarpet": [
           {
            "marker": {
             "colorbar": {
              "outlinewidth": 0,
              "ticks": ""
             }
            },
            "type": "scattercarpet"
           }
          ],
          "scattergeo": [
           {
            "marker": {
             "colorbar": {
              "outlinewidth": 0,
              "ticks": ""
             }
            },
            "type": "scattergeo"
           }
          ],
          "scattergl": [
           {
            "marker": {
             "colorbar": {
              "outlinewidth": 0,
              "ticks": ""
             }
            },
            "type": "scattergl"
           }
          ],
          "scattermapbox": [
           {
            "marker": {
             "colorbar": {
              "outlinewidth": 0,
              "ticks": ""
             }
            },
            "type": "scattermapbox"
           }
          ],
          "scatterpolar": [
           {
            "marker": {
             "colorbar": {
              "outlinewidth": 0,
              "ticks": ""
             }
            },
            "type": "scatterpolar"
           }
          ],
          "scatterpolargl": [
           {
            "marker": {
             "colorbar": {
              "outlinewidth": 0,
              "ticks": ""
             }
            },
            "type": "scatterpolargl"
           }
          ],
          "scatterternary": [
           {
            "marker": {
             "colorbar": {
              "outlinewidth": 0,
              "ticks": ""
             }
            },
            "type": "scatterternary"
           }
          ],
          "surface": [
           {
            "colorbar": {
             "outlinewidth": 0,
             "ticks": ""
            },
            "colorscale": [
             [
              0,
              "#0d0887"
             ],
             [
              0.1111111111111111,
              "#46039f"
             ],
             [
              0.2222222222222222,
              "#7201a8"
             ],
             [
              0.3333333333333333,
              "#9c179e"
             ],
             [
              0.4444444444444444,
              "#bd3786"
             ],
             [
              0.5555555555555556,
              "#d8576b"
             ],
             [
              0.6666666666666666,
              "#ed7953"
             ],
             [
              0.7777777777777778,
              "#fb9f3a"
             ],
             [
              0.8888888888888888,
              "#fdca26"
             ],
             [
              1,
              "#f0f921"
             ]
            ],
            "type": "surface"
           }
          ],
          "table": [
           {
            "cells": {
             "fill": {
              "color": "#EBF0F8"
             },
             "line": {
              "color": "white"
             }
            },
            "header": {
             "fill": {
              "color": "#C8D4E3"
             },
             "line": {
              "color": "white"
             }
            },
            "type": "table"
           }
          ]
         },
         "layout": {
          "annotationdefaults": {
           "arrowcolor": "#2a3f5f",
           "arrowhead": 0,
           "arrowwidth": 1
          },
          "autotypenumbers": "strict",
          "coloraxis": {
           "colorbar": {
            "outlinewidth": 0,
            "ticks": ""
           }
          },
          "colorscale": {
           "diverging": [
            [
             0,
             "#8e0152"
            ],
            [
             0.1,
             "#c51b7d"
            ],
            [
             0.2,
             "#de77ae"
            ],
            [
             0.3,
             "#f1b6da"
            ],
            [
             0.4,
             "#fde0ef"
            ],
            [
             0.5,
             "#f7f7f7"
            ],
            [
             0.6,
             "#e6f5d0"
            ],
            [
             0.7,
             "#b8e186"
            ],
            [
             0.8,
             "#7fbc41"
            ],
            [
             0.9,
             "#4d9221"
            ],
            [
             1,
             "#276419"
            ]
           ],
           "sequential": [
            [
             0,
             "#0d0887"
            ],
            [
             0.1111111111111111,
             "#46039f"
            ],
            [
             0.2222222222222222,
             "#7201a8"
            ],
            [
             0.3333333333333333,
             "#9c179e"
            ],
            [
             0.4444444444444444,
             "#bd3786"
            ],
            [
             0.5555555555555556,
             "#d8576b"
            ],
            [
             0.6666666666666666,
             "#ed7953"
            ],
            [
             0.7777777777777778,
             "#fb9f3a"
            ],
            [
             0.8888888888888888,
             "#fdca26"
            ],
            [
             1,
             "#f0f921"
            ]
           ],
           "sequentialminus": [
            [
             0,
             "#0d0887"
            ],
            [
             0.1111111111111111,
             "#46039f"
            ],
            [
             0.2222222222222222,
             "#7201a8"
            ],
            [
             0.3333333333333333,
             "#9c179e"
            ],
            [
             0.4444444444444444,
             "#bd3786"
            ],
            [
             0.5555555555555556,
             "#d8576b"
            ],
            [
             0.6666666666666666,
             "#ed7953"
            ],
            [
             0.7777777777777778,
             "#fb9f3a"
            ],
            [
             0.8888888888888888,
             "#fdca26"
            ],
            [
             1,
             "#f0f921"
            ]
           ]
          },
          "colorway": [
           "#636efa",
           "#EF553B",
           "#00cc96",
           "#ab63fa",
           "#FFA15A",
           "#19d3f3",
           "#FF6692",
           "#B6E880",
           "#FF97FF",
           "#FECB52"
          ],
          "font": {
           "color": "#2a3f5f"
          },
          "geo": {
           "bgcolor": "white",
           "lakecolor": "white",
           "landcolor": "#E5ECF6",
           "showlakes": true,
           "showland": true,
           "subunitcolor": "white"
          },
          "hoverlabel": {
           "align": "left"
          },
          "hovermode": "closest",
          "mapbox": {
           "style": "light"
          },
          "paper_bgcolor": "white",
          "plot_bgcolor": "#E5ECF6",
          "polar": {
           "angularaxis": {
            "gridcolor": "white",
            "linecolor": "white",
            "ticks": ""
           },
           "bgcolor": "#E5ECF6",
           "radialaxis": {
            "gridcolor": "white",
            "linecolor": "white",
            "ticks": ""
           }
          },
          "scene": {
           "xaxis": {
            "backgroundcolor": "#E5ECF6",
            "gridcolor": "white",
            "gridwidth": 2,
            "linecolor": "white",
            "showbackground": true,
            "ticks": "",
            "zerolinecolor": "white"
           },
           "yaxis": {
            "backgroundcolor": "#E5ECF6",
            "gridcolor": "white",
            "gridwidth": 2,
            "linecolor": "white",
            "showbackground": true,
            "ticks": "",
            "zerolinecolor": "white"
           },
           "zaxis": {
            "backgroundcolor": "#E5ECF6",
            "gridcolor": "white",
            "gridwidth": 2,
            "linecolor": "white",
            "showbackground": true,
            "ticks": "",
            "zerolinecolor": "white"
           }
          },
          "shapedefaults": {
           "line": {
            "color": "#2a3f5f"
           }
          },
          "ternary": {
           "aaxis": {
            "gridcolor": "white",
            "linecolor": "white",
            "ticks": ""
           },
           "baxis": {
            "gridcolor": "white",
            "linecolor": "white",
            "ticks": ""
           },
           "bgcolor": "#E5ECF6",
           "caxis": {
            "gridcolor": "white",
            "linecolor": "white",
            "ticks": ""
           }
          },
          "title": {
           "x": 0.05
          },
          "xaxis": {
           "automargin": true,
           "gridcolor": "white",
           "linecolor": "white",
           "ticks": "",
           "title": {
            "standoff": 15
           },
           "zerolinecolor": "white",
           "zerolinewidth": 2
          },
          "yaxis": {
           "automargin": true,
           "gridcolor": "white",
           "linecolor": "white",
           "ticks": "",
           "title": {
            "standoff": 15
           },
           "zerolinecolor": "white",
           "zerolinewidth": 2
          }
         }
        },
        "xaxis": {
         "anchor": "y",
         "autorange": true,
         "categoryarray": [
          "Strongly oppose",
          "Somewhat oppose",
          "Somewhat favor",
          "Strongly favor"
         ],
         "categoryorder": "array",
         "domain": [
          0,
          1
         ],
         "range": [
          -0.5,
          3.5
         ],
         "title": {
          "text": "FAVOR OR OPPOSE EXPANDING NUCLEAR PLANTS"
         },
         "type": "category"
        },
        "yaxis": {
         "anchor": "x",
         "autorange": true,
         "domain": [
          0,
          1
         ],
         "range": [
          0,
          182.10526315789474
         ],
         "title": {
          "text": "NUMBER OF RESPONSES"
         }
        }
       }
      },
      "image/png": "[encoded data removed]",
      "text/html": [
       "<div>                            <div id=\"aa1ff36c-ca40-40a5-8756-ef440fa9280b\" class=\"plotly-graph-div\" style=\"height:525px; width:100%;\"></div>            <script type=\"text/javascript\">                require([\"plotly\"], function(Plotly) {                    window.PLOTLYENV=window.PLOTLYENV || {};                                    if (document.getElementById(\"aa1ff36c-ca40-40a5-8756-ef440fa9280b\")) {                    Plotly.newPlot(                        \"aa1ff36c-ca40-40a5-8756-ef440fa9280b\",                        [{\"alignmentgroup\":\"True\",\"bingroup\":\"x\",\"hovertemplate\":\"hAge1=18-34<br>Q10=%{x}<br>count=%{y}<extra></extra>\",\"legendgroup\":\"18-34\",\"marker\":{\"color\":\"#636efa\",\"pattern\":{\"shape\":\"\"}},\"name\":\"18-34\",\"offsetgroup\":\"18-34\",\"orientation\":\"v\",\"showlegend\":true,\"x\":[\"Somewhat favor\",\"Somewhat oppose\",\"Strongly favor\",\"Strongly favor\",\"Somewhat favor\",\"Somewhat favor\",\"Somewhat favor\",\"Strongly favor\",\"Somewhat favor\",\"Strongly favor\",\"Strongly favor\",\"Somewhat favor\",\"Somewhat favor\",\"Somewhat favor\",\"Somewhat favor\",\"Strongly favor\",\"Somewhat favor\",\"Somewhat oppose\",\"Somewhat favor\",\"Somewhat favor\",\"Strongly favor\",\"Strongly favor\",\"Somewhat favor\",\"Somewhat favor\",\"Somewhat favor\",\"Somewhat oppose\",\"Somewhat oppose\",\"Strongly favor\",\"Somewhat oppose\",\"Strongly favor\",\"Somewhat favor\",\"Somewhat favor\",\"Strongly favor\",\"Somewhat favor\",\"Strongly favor\",\"Strongly favor\",\"Strongly favor\",\"Somewhat favor\",\"Strongly favor\",\"Strongly favor\",\"Somewhat favor\",\"Somewhat oppose\",\"Somewhat oppose\",\"Somewhat oppose\",\"Strongly favor\",\"Somewhat favor\",\"Somewhat oppose\",\"Strongly favor\",\"Strongly favor\",\"Strongly favor\",\"Strongly favor\",\"Somewhat favor\",\"Somewhat favor\",\"Somewhat favor\",\"Somewhat favor\",\"Somewhat favor\",\"Somewhat favor\",\"Somewhat favor\",\"Strongly favor\",\"Strongly favor\",\"Somewhat favor\",\"Strongly oppose\",\"Somewhat oppose\",\"Strongly oppose\",\"Somewhat oppose\",\"Somewhat favor\",\"Strongly favor\",\"Strongly favor\",\"Somewhat oppose\",\"Somewhat favor\",\"Strongly favor\",\"Somewhat favor\",\"Somewhat oppose\",\"Somewhat favor\",\"Strongly favor\",\"Strongly favor\",\"Strongly favor\",\"Somewhat favor\",\"Somewhat favor\",\"Strongly favor\",\"Strongly favor\",\"Somewhat oppose\",\"Somewhat favor\",\"Somewhat favor\",\"Strongly favor\",\"Somewhat favor\",\"Somewhat favor\",\"Somewhat oppose\",\"Somewhat favor\",\"Strongly favor\",\"Strongly favor\",\"Strongly favor\",\"Somewhat favor\",\"Somewhat favor\",\"Strongly favor\",\"Somewhat favor\",\"Somewhat favor\",\"Somewhat favor\",\"Strongly favor\",\"Somewhat favor\",\"Somewhat favor\",\"Strongly oppose\",\"Strongly favor\",\"Somewhat favor\",\"Strongly favor\",\"Strongly favor\",\"Strongly favor\",\"Somewhat favor\",\"Somewhat favor\",\"Strongly oppose\",\"Strongly favor\",\"Somewhat favor\",\"Somewhat favor\",\"Somewhat favor\",\"Strongly favor\",\"Strongly favor\",\"Strongly favor\",\"Somewhat favor\",\"Strongly favor\",\"Strongly favor\",\"Somewhat favor\",\"Strongly favor\",\"Somewhat favor\",\"Strongly favor\",\"Strongly favor\",\"Strongly favor\",\"Somewhat favor\",\"Somewhat favor\",\"Somewhat favor\",\"Somewhat favor\",\"Somewhat favor\",\"Strongly favor\",\"Somewhat favor\",\"Somewhat oppose\",\"Somewhat favor\",\"Strongly favor\",\"Somewhat oppose\",\"Somewhat favor\",\"Somewhat favor\",\"Somewhat favor\",\"Somewhat oppose\",\"Somewhat favor\",\"Somewhat oppose\",\"Somewhat oppose\",\"Strongly favor\",\"Somewhat favor\",\"Strongly oppose\",\"Somewhat favor\",\"Strongly favor\",\"Strongly favor\",\"Somewhat favor\",\"Somewhat oppose\",\"Strongly favor\",\"Somewhat favor\",\"Somewhat oppose\",\"Strongly favor\",\"Somewhat favor\",\"Somewhat favor\",\"Somewhat favor\",\"Somewhat oppose\",\"Somewhat favor\",\"Somewhat favor\",\"Strongly favor\",\"Somewhat favor\",\"Somewhat oppose\",\"Somewhat favor\",\"Somewhat oppose\",\"Somewhat favor\",\"Strongly oppose\",\"Somewhat favor\",\"Somewhat oppose\",\"Somewhat oppose\",\"Somewhat favor\",\"Strongly favor\",\"Strongly favor\",\"Strongly oppose\",\"Somewhat favor\",\"Somewhat favor\",\"Somewhat favor\",\"Somewhat oppose\",\"Somewhat favor\",\"Somewhat oppose\",\"Strongly favor\",\"Somewhat favor\",\"Somewhat favor\",\"Somewhat favor\",\"Somewhat favor\",\"Strongly favor\",\"Strongly favor\",\"Somewhat favor\",\"Somewhat favor\",\"Somewhat favor\",\"Somewhat favor\",\"Strongly favor\",\"Strongly favor\",\"Somewhat favor\",\"Somewhat favor\",\"Strongly favor\",\"Somewhat favor\",\"Strongly favor\",\"Strongly favor\",\"Somewhat favor\",\"Strongly favor\",\"Somewhat favor\",\"Strongly favor\",\"Somewhat favor\",\"Strongly favor\",\"Strongly favor\",\"Strongly favor\",\"Somewhat favor\",\"Somewhat favor\",\"Strongly favor\",\"Somewhat favor\",\"Somewhat favor\",\"Somewhat oppose\",\"Strongly oppose\",\"Somewhat oppose\",\"Strongly favor\",\"Somewhat favor\",\"Somewhat favor\",\"Somewhat favor\",\"Strongly favor\",\"Somewhat favor\",\"Somewhat oppose\",\"Somewhat oppose\",\"Somewhat favor\",\"Strongly oppose\",\"Somewhat favor\",\"Strongly favor\",\"Strongly favor\",\"Strongly oppose\",\"Strongly oppose\",\"Strongly oppose\",\"Strongly favor\",\"Somewhat oppose\",\"Somewhat favor\",\"Somewhat oppose\",\"Strongly favor\",\"Somewhat oppose\",\"Somewhat favor\",\"Somewhat favor\",\"Somewhat favor\",\"Somewhat favor\",\"Somewhat favor\",\"Strongly favor\",\"Somewhat favor\",\"Strongly favor\",\"Strongly favor\",\"Strongly favor\",\"Strongly favor\",\"Somewhat favor\",\"Somewhat oppose\",\"Strongly favor\",\"Somewhat favor\",\"Somewhat favor\",\"Strongly favor\",\"Strongly favor\",\"Strongly oppose\",\"Somewhat favor\",\"Somewhat favor\",\"Somewhat favor\",\"Somewhat favor\",\"Strongly favor\",\"Strongly favor\",\"Somewhat oppose\",\"Somewhat favor\",\"Strongly favor\",\"Somewhat oppose\",\"Somewhat favor\",\"Strongly favor\",\"Strongly favor\",\"Strongly favor\",\"Somewhat favor\",\"Somewhat favor\",\"Somewhat favor\",\"Somewhat oppose\",\"Strongly favor\",\"Somewhat oppose\",\"Somewhat favor\",\"Somewhat favor\",\"Somewhat favor\",\"Somewhat oppose\"],\"xaxis\":\"x\",\"yaxis\":\"y\",\"type\":\"histogram\"},{\"alignmentgroup\":\"True\",\"bingroup\":\"x\",\"hovertemplate\":\"hAge1=35-49<br>Q10=%{x}<br>count=%{y}<extra></extra>\",\"legendgroup\":\"35-49\",\"marker\":{\"color\":\"#EF553B\",\"pattern\":{\"shape\":\"\"}},\"name\":\"35-49\",\"offsetgroup\":\"35-49\",\"orientation\":\"v\",\"showlegend\":true,\"x\":[\"Somewhat favor\",\"Somewhat favor\",\"Somewhat favor\",\"Somewhat favor\",\"Somewhat favor\",\"Somewhat favor\",\"Somewhat favor\",\"Strongly oppose\",\"Somewhat oppose\",\"Strongly favor\",\"Strongly favor\",\"Somewhat favor\",\"Somewhat favor\",\"Strongly favor\",\"Somewhat favor\",\"Somewhat favor\",\"Somewhat favor\",\"Strongly oppose\",\"Strongly oppose\",\"Somewhat favor\",\"Strongly favor\",\"Strongly favor\",\"Strongly favor\",\"Somewhat oppose\",\"Somewhat oppose\",\"Somewhat favor\",\"Somewhat favor\",\"Strongly oppose\",\"Somewhat oppose\",\"Somewhat oppose\",\"Somewhat oppose\",\"Strongly favor\",\"Somewhat favor\",\"Somewhat favor\",\"Somewhat oppose\",\"Somewhat favor\",\"Strongly favor\",\"Somewhat favor\",\"Somewhat favor\",\"Somewhat favor\",\"Somewhat favor\",\"Somewhat favor\",\"Strongly favor\",\"Strongly favor\",\"Somewhat favor\",\"Strongly favor\",\"Somewhat oppose\",\"Somewhat favor\",\"Strongly favor\",\"Strongly favor\",\"Somewhat favor\",\"Strongly favor\",\"Somewhat favor\",\"Strongly favor\",\"Strongly favor\",\"Somewhat favor\",\"Somewhat oppose\",\"Strongly favor\",\"Somewhat favor\",\"Somewhat favor\",\"Somewhat oppose\",\"Somewhat oppose\",\"Somewhat oppose\",\"Somewhat oppose\",\"Somewhat favor\",\"Strongly favor\",\"Strongly oppose\",\"Somewhat oppose\",\"Somewhat favor\",\"Somewhat oppose\",\"Strongly favor\",\"Strongly favor\",\"Somewhat favor\",\"Somewhat favor\",\"Somewhat oppose\",\"Strongly favor\",\"Somewhat favor\",\"Somewhat favor\",\"Strongly favor\",\"Somewhat favor\",\"Strongly favor\",\"Strongly favor\",\"Strongly favor\",\"Strongly oppose\",\"Somewhat favor\",\"Strongly favor\",\"Somewhat favor\",\"Strongly oppose\",\"Somewhat favor\",\"Strongly favor\",\"Somewhat favor\",\"Somewhat favor\",\"Somewhat favor\",\"Somewhat favor\",\"Strongly favor\",\"Somewhat favor\",\"Somewhat favor\",\"Somewhat favor\",\"Strongly favor\",\"Strongly oppose\",\"Strongly favor\",\"Somewhat favor\",\"Strongly favor\",\"Strongly favor\",\"Strongly favor\",\"Strongly favor\",\"Somewhat favor\",\"Strongly favor\",\"Somewhat favor\",\"Somewhat favor\",\"Strongly favor\",\"Strongly favor\",\"Somewhat favor\",\"Strongly favor\",\"Strongly favor\",\"Somewhat oppose\",\"Strongly oppose\",\"Somewhat oppose\",\"Somewhat favor\",\"Somewhat favor\",\"Somewhat oppose\",\"Somewhat favor\",\"Somewhat favor\",\"Somewhat oppose\",\"Somewhat favor\",\"Somewhat favor\",\"Strongly oppose\",\"Somewhat favor\",\"Somewhat oppose\",\"Somewhat oppose\",\"Somewhat oppose\",\"Strongly favor\",\"Strongly favor\",\"Somewhat favor\",\"Strongly favor\",\"Strongly favor\",\"Strongly oppose\",\"Strongly oppose\",\"Strongly favor\",\"Somewhat favor\",\"Somewhat favor\",\"Somewhat favor\",\"Somewhat favor\",\"Somewhat favor\",\"Somewhat favor\",\"Strongly favor\",\"Somewhat favor\",\"Somewhat favor\",\"Strongly favor\",\"Somewhat favor\",\"Strongly favor\",\"Somewhat favor\",\"Strongly favor\",\"Strongly favor\",\"Somewhat favor\",\"Somewhat favor\",\"Strongly favor\",\"Strongly oppose\",\"Somewhat favor\",\"Somewhat favor\",\"Somewhat oppose\",\"Somewhat favor\",\"Somewhat favor\",\"Strongly oppose\",\"Somewhat favor\",\"Strongly oppose\",\"Somewhat favor\",\"Somewhat favor\",\"Strongly favor\",\"Somewhat favor\",\"Strongly favor\",\"Strongly favor\",\"Somewhat favor\",\"Somewhat favor\",\"Strongly favor\",\"Somewhat favor\",\"Strongly favor\",\"Strongly favor\",\"Somewhat favor\",\"Somewhat oppose\",\"Somewhat favor\",\"Somewhat favor\",\"Strongly oppose\",\"Strongly favor\",\"Somewhat oppose\",\"Somewhat favor\",\"Somewhat favor\",\"Somewhat favor\",\"Strongly favor\",\"Somewhat favor\",\"Strongly favor\",\"Somewhat favor\",\"Somewhat favor\",\"Somewhat favor\",\"Somewhat favor\",\"Somewhat oppose\",\"Strongly favor\",\"Strongly favor\",\"Somewhat favor\",\"Somewhat favor\",\"Somewhat favor\",\"Somewhat oppose\",\"Somewhat favor\",\"Strongly favor\",\"Somewhat oppose\",\"Somewhat favor\",\"Strongly oppose\",\"Strongly oppose\",\"Somewhat favor\",\"Somewhat favor\",\"Somewhat oppose\",\"Strongly favor\",\"Somewhat oppose\",\"Somewhat favor\",\"Somewhat oppose\",\"Somewhat favor\",\"Somewhat favor\",\"Somewhat favor\",\"Somewhat oppose\",\"Somewhat favor\",\"Somewhat favor\",\"Somewhat oppose\",\"Strongly favor\",\"Somewhat favor\",\"Somewhat oppose\",\"Somewhat favor\",\"Somewhat oppose\",\"Somewhat favor\",\"Somewhat favor\",\"Somewhat favor\",\"Somewhat favor\",\"Somewhat favor\",\"Strongly favor\",\"Somewhat oppose\",\"Somewhat favor\",\"Somewhat favor\",\"Somewhat oppose\",\"Somewhat favor\",\"Somewhat oppose\",\"Somewhat favor\",\"Somewhat favor\",\"Strongly favor\",\"Somewhat favor\",\"Somewhat favor\",\"Strongly favor\",\"Strongly favor\",\"Somewhat favor\",\"Strongly favor\",\"Strongly favor\",\"Somewhat favor\",\"Somewhat favor\",\"Somewhat oppose\",\"Strongly oppose\",\"Strongly favor\",\"Somewhat oppose\",\"Strongly favor\",\"Somewhat favor\",\"Somewhat oppose\",\"Strongly favor\",\"Strongly favor\",\"Strongly favor\",\"Somewhat favor\",\"Strongly oppose\",\"Somewhat favor\",\"Somewhat favor\",\"Strongly favor\",\"Somewhat favor\",\"Somewhat favor\",\"Somewhat favor\",\"Somewhat favor\",\"Somewhat favor\",\"Strongly favor\"],\"xaxis\":\"x\",\"yaxis\":\"y\",\"type\":\"histogram\"},{\"alignmentgroup\":\"True\",\"bingroup\":\"x\",\"hovertemplate\":\"hAge1=50+<br>Q10=%{x}<br>count=%{y}<extra></extra>\",\"legendgroup\":\"50+\",\"marker\":{\"color\":\"#00cc96\",\"pattern\":{\"shape\":\"\"}},\"name\":\"50+\",\"offsetgroup\":\"50+\",\"orientation\":\"v\",\"showlegend\":true,\"x\":[\"Somewhat favor\",\"Strongly favor\",\"Somewhat oppose\",\"Strongly favor\",\"Somewhat favor\",\"Somewhat oppose\",\"Somewhat favor\",\"Strongly favor\",\"Somewhat oppose\",\"Somewhat favor\",\"Somewhat oppose\",\"Strongly oppose\",\"Strongly favor\",\"Somewhat favor\",\"Somewhat favor\",\"Strongly favor\",\"Strongly favor\",\"Strongly oppose\",\"Strongly favor\",\"Somewhat favor\",\"Somewhat favor\",\"Somewhat favor\",\"Strongly favor\",\"Somewhat favor\",\"Somewhat oppose\",\"Somewhat oppose\",\"Somewhat favor\",\"Strongly favor\",\"Strongly favor\",\"Strongly favor\",\"Somewhat oppose\",\"Somewhat favor\",\"Somewhat favor\",\"Strongly oppose\",\"Strongly favor\",\"Somewhat favor\",\"Somewhat favor\",\"Somewhat favor\",\"Somewhat favor\",\"Strongly favor\",\"Strongly favor\",\"Strongly oppose\",\"Somewhat oppose\",\"Somewhat favor\",\"Somewhat favor\",\"Somewhat favor\",\"Somewhat favor\",\"Somewhat favor\",\"Somewhat favor\",\"Somewhat favor\",\"Somewhat favor\",\"Strongly oppose\",\"Somewhat oppose\",\"Somewhat favor\",\"Somewhat oppose\",\"Somewhat favor\",\"Somewhat favor\",\"Somewhat oppose\",\"Strongly oppose\",\"Strongly favor\",\"Somewhat favor\",\"Strongly favor\",\"Strongly oppose\",\"Somewhat favor\",\"Strongly favor\",\"Strongly oppose\",\"Somewhat favor\",\"Strongly oppose\",\"Strongly favor\",\"Strongly favor\",\"Strongly favor\",\"Somewhat favor\",\"Somewhat favor\",\"Somewhat favor\",\"Somewhat favor\",\"Somewhat favor\",\"Strongly favor\",\"Somewhat favor\",\"Strongly oppose\",\"Strongly favor\",\"Somewhat oppose\",\"Somewhat oppose\",\"Somewhat favor\",\"Somewhat favor\",\"Somewhat oppose\",\"Somewhat favor\",\"Strongly oppose\",\"Somewhat favor\",\"Strongly oppose\",\"Somewhat favor\",\"Somewhat favor\",\"Somewhat favor\",\"Somewhat favor\",\"Somewhat oppose\",\"Somewhat favor\",\"Somewhat oppose\",\"Strongly favor\",\"Somewhat favor\",\"Somewhat favor\",\"Somewhat favor\",\"Somewhat favor\",\"Strongly favor\",\"Strongly favor\",\"Strongly oppose\",\"Somewhat oppose\",\"Strongly favor\",\"Strongly favor\",\"Somewhat oppose\",\"Strongly favor\",\"Strongly oppose\",\"Strongly favor\",\"Somewhat favor\",\"Strongly favor\",\"Strongly favor\",\"Strongly favor\",\"Strongly favor\",\"Strongly favor\",\"Strongly favor\",\"Somewhat oppose\",\"Somewhat oppose\",\"Somewhat favor\",\"Strongly favor\",\"Somewhat favor\",\"Somewhat oppose\",\"Somewhat favor\",\"Somewhat favor\",\"Strongly favor\",\"Strongly oppose\",\"Somewhat oppose\",\"Somewhat favor\",\"Somewhat oppose\",\"Somewhat oppose\",\"Somewhat favor\",\"Somewhat oppose\",\"Somewhat favor\",\"Somewhat oppose\",\"Strongly favor\",\"Somewhat favor\",\"Somewhat favor\",\"Strongly oppose\",\"Somewhat favor\",\"Strongly favor\",\"Somewhat favor\",\"Somewhat favor\",\"Somewhat favor\",\"Somewhat oppose\",\"Somewhat favor\",\"Somewhat favor\",\"Strongly favor\",\"Somewhat favor\",\"Strongly favor\",\"Strongly favor\",\"Strongly favor\",\"Somewhat favor\",\"Somewhat oppose\",\"Somewhat favor\",\"Somewhat favor\",\"Somewhat favor\",\"Strongly oppose\",\"Somewhat oppose\",\"Somewhat oppose\",\"Strongly favor\",\"Strongly oppose\",\"Strongly favor\",\"Strongly favor\",\"Somewhat oppose\",\"Strongly oppose\",\"Strongly favor\",\"Somewhat favor\",\"Strongly favor\",\"Strongly favor\",\"Somewhat favor\",\"Somewhat favor\",\"Somewhat oppose\",\"Strongly favor\",\"Strongly favor\",\"Strongly favor\",\"Somewhat favor\",\"Strongly favor\",\"Somewhat favor\",\"Somewhat favor\",\"Somewhat favor\",\"Strongly favor\",\"Somewhat favor\",\"Somewhat favor\",\"Strongly favor\",\"Somewhat oppose\",\"Strongly favor\",\"Strongly favor\",\"Somewhat favor\",\"Somewhat oppose\",\"Strongly oppose\",\"Somewhat favor\",\"Strongly favor\",\"Somewhat favor\",\"Strongly favor\",\"Strongly favor\",\"Somewhat favor\",\"Somewhat favor\",\"Somewhat favor\",\"Somewhat oppose\",\"Somewhat oppose\",\"Strongly favor\",\"Strongly favor\",\"Strongly oppose\",\"Strongly favor\",\"Strongly favor\",\"Strongly favor\",\"Strongly favor\",\"Somewhat favor\",\"Somewhat favor\",\"Somewhat oppose\",\"Strongly favor\",\"Strongly oppose\",\"Somewhat oppose\",\"Strongly favor\",\"Strongly favor\",\"Strongly favor\",\"Strongly favor\",\"Somewhat oppose\",\"Strongly favor\",\"Strongly favor\",\"Somewhat oppose\",\"Somewhat oppose\",\"Strongly favor\",\"Somewhat favor\",\"Somewhat favor\",\"Strongly favor\",\"Somewhat favor\",\"Somewhat favor\",\"Somewhat favor\",\"Somewhat oppose\",\"Strongly favor\",\"Strongly favor\",\"Strongly favor\",\"Strongly favor\",\"Somewhat favor\",\"Somewhat oppose\",\"Strongly favor\",\"Strongly favor\",\"Somewhat favor\",\"Strongly favor\",\"Somewhat favor\",\"Somewhat favor\",\"Somewhat favor\",\"Somewhat favor\",\"Strongly favor\",\"Strongly favor\",\"Somewhat oppose\",\"Somewhat favor\",\"Somewhat favor\",\"Somewhat favor\",\"Strongly oppose\",\"Strongly oppose\",\"Somewhat oppose\",\"Somewhat favor\",\"Somewhat favor\",\"Somewhat oppose\",\"Strongly oppose\",\"Somewhat oppose\",\"Strongly favor\",\"Somewhat favor\",\"Somewhat favor\",\"Strongly favor\",\"Somewhat favor\",\"Strongly oppose\",\"Somewhat favor\",\"Strongly favor\",\"Strongly oppose\",\"Somewhat favor\",\"Somewhat oppose\",\"Somewhat favor\",\"Somewhat favor\",\"Somewhat favor\",\"Strongly oppose\",\"Strongly favor\",\"Somewhat favor\",\"Somewhat oppose\",\"Somewhat oppose\",\"Strongly favor\",\"Somewhat oppose\",\"Somewhat favor\",\"Strongly favor\",\"Somewhat favor\",\"Somewhat favor\",\"Strongly favor\",\"Strongly favor\",\"Somewhat favor\",\"Somewhat favor\",\"Strongly favor\",\"Strongly favor\",\"Strongly oppose\",\"Strongly favor\",\"Strongly favor\",\"Strongly favor\",\"Strongly favor\",\"Strongly favor\",\"Somewhat oppose\",\"Strongly favor\",\"Strongly favor\",\"Somewhat oppose\",\"Strongly favor\",\"Strongly favor\",\"Strongly oppose\",\"Somewhat favor\",\"Strongly favor\",\"Somewhat favor\",\"Somewhat favor\",\"Strongly favor\",\"Somewhat oppose\",\"Somewhat favor\",\"Somewhat oppose\",\"Somewhat favor\",\"Strongly favor\",\"Somewhat oppose\",\"Somewhat favor\",\"Somewhat favor\",\"Somewhat oppose\",\"Strongly favor\",\"Somewhat favor\",\"Somewhat favor\",\"Somewhat oppose\",\"Somewhat favor\",\"Somewhat oppose\",\"Somewhat favor\",\"Somewhat favor\",\"Strongly oppose\",\"Strongly favor\",\"Strongly oppose\",\"Somewhat favor\",\"Strongly favor\",\"Somewhat favor\",\"Somewhat favor\",\"Strongly oppose\",\"Strongly favor\",\"Strongly favor\",\"Strongly favor\",\"Strongly favor\",\"Strongly oppose\",\"Strongly favor\",\"Somewhat oppose\",\"Strongly favor\",\"Strongly favor\",\"Somewhat oppose\",\"Somewhat favor\",\"Somewhat oppose\",\"Strongly favor\",\"Strongly favor\",\"Strongly favor\",\"Strongly favor\",\"Strongly favor\",\"Somewhat favor\",\"Somewhat favor\",\"Somewhat favor\",\"Strongly favor\",\"Somewhat favor\",\"Somewhat favor\",\"Strongly favor\",\"Strongly oppose\",\"Somewhat oppose\",\"Somewhat favor\",\"Somewhat favor\",\"Strongly oppose\",\"Strongly favor\",\"Somewhat oppose\",\"Strongly favor\",\"Strongly favor\",\"Strongly oppose\",\"Strongly favor\",\"Strongly favor\",\"Somewhat favor\",\"Strongly favor\",\"Somewhat favor\",\"Strongly favor\",\"Somewhat oppose\",\"Somewhat favor\",\"Strongly favor\",\"Somewhat oppose\",\"Strongly favor\",\"Somewhat favor\",\"Strongly favor\",\"Somewhat oppose\",\"Strongly favor\",\"Strongly favor\",\"Somewhat favor\",\"Somewhat favor\",\"Somewhat oppose\",\"Somewhat favor\",\"Somewhat favor\",\"Strongly favor\",\"Somewhat favor\",\"Strongly favor\",\"Somewhat favor\",\"Somewhat favor\",\"Somewhat favor\",\"Strongly favor\",\"Strongly oppose\",\"Somewhat favor\",\"Somewhat favor\",\"Strongly favor\",\"Somewhat favor\",\"Somewhat oppose\",\"Somewhat favor\",\"Strongly favor\",\"Somewhat oppose\",\"Somewhat favor\",\"Strongly favor\",\"Strongly favor\",\"Somewhat oppose\",\"Somewhat favor\",\"Somewhat favor\",\"Somewhat favor\",\"Strongly favor\",\"Somewhat favor\",\"Somewhat favor\",\"Somewhat favor\",\"Somewhat favor\",\"Strongly favor\",\"Strongly oppose\",\"Somewhat favor\",\"Somewhat favor\",\"Strongly favor\",\"Strongly favor\",\"Strongly favor\",\"Somewhat oppose\",\"Somewhat favor\",\"Somewhat oppose\",\"Strongly favor\",\"Somewhat favor\",\"Somewhat favor\",\"Somewhat favor\",\"Strongly favor\",\"Strongly favor\",\"Strongly favor\",\"Strongly favor\",\"Strongly favor\",\"Somewhat oppose\",\"Strongly favor\",\"Somewhat favor\",\"Strongly favor\",\"Strongly favor\",\"Strongly favor\",\"Strongly favor\",\"Somewhat oppose\",\"Strongly favor\",\"Somewhat favor\"],\"xaxis\":\"x\",\"yaxis\":\"y\",\"type\":\"histogram\"}],                        {\"template\":{\"data\":{\"histogram2dcontour\":[{\"type\":\"histogram2dcontour\",\"colorbar\":{\"outlinewidth\":0,\"ticks\":\"\"},\"colorscale\":[[0.0,\"#0d0887\"],[0.1111111111111111,\"#46039f\"],[0.2222222222222222,\"#7201a8\"],[0.3333333333333333,\"#9c179e\"],[0.4444444444444444,\"#bd3786\"],[0.5555555555555556,\"#d8576b\"],[0.6666666666666666,\"#ed7953\"],[0.7777777777777778,\"#fb9f3a\"],[0.8888888888888888,\"#fdca26\"],[1.0,\"#f0f921\"]]}],\"choropleth\":[{\"type\":\"choropleth\",\"colorbar\":{\"outlinewidth\":0,\"ticks\":\"\"}}],\"histogram2d\":[{\"type\":\"histogram2d\",\"colorbar\":{\"outlinewidth\":0,\"ticks\":\"\"},\"colorscale\":[[0.0,\"#0d0887\"],[0.1111111111111111,\"#46039f\"],[0.2222222222222222,\"#7201a8\"],[0.3333333333333333,\"#9c179e\"],[0.4444444444444444,\"#bd3786\"],[0.5555555555555556,\"#d8576b\"],[0.6666666666666666,\"#ed7953\"],[0.7777777777777778,\"#fb9f3a\"],[0.8888888888888888,\"#fdca26\"],[1.0,\"#f0f921\"]]}],\"heatmap\":[{\"type\":\"heatmap\",\"colorbar\":{\"outlinewidth\":0,\"ticks\":\"\"},\"colorscale\":[[0.0,\"#0d0887\"],[0.1111111111111111,\"#46039f\"],[0.2222222222222222,\"#7201a8\"],[0.3333333333333333,\"#9c179e\"],[0.4444444444444444,\"#bd3786\"],[0.5555555555555556,\"#d8576b\"],[0.6666666666666666,\"#ed7953\"],[0.7777777777777778,\"#fb9f3a\"],[0.8888888888888888,\"#fdca26\"],[1.0,\"#f0f921\"]]}],\"heatmapgl\":[{\"type\":\"heatmapgl\",\"colorbar\":{\"outlinewidth\":0,\"ticks\":\"\"},\"colorscale\":[[0.0,\"#0d0887\"],[0.1111111111111111,\"#46039f\"],[0.2222222222222222,\"#7201a8\"],[0.3333333333333333,\"#9c179e\"],[0.4444444444444444,\"#bd3786\"],[0.5555555555555556,\"#d8576b\"],[0.6666666666666666,\"#ed7953\"],[0.7777777777777778,\"#fb9f3a\"],[0.8888888888888888,\"#fdca26\"],[1.0,\"#f0f921\"]]}],\"contourcarpet\":[{\"type\":\"contourcarpet\",\"colorbar\":{\"outlinewidth\":0,\"ticks\":\"\"}}],\"contour\":[{\"type\":\"contour\",\"colorbar\":{\"outlinewidth\":0,\"ticks\":\"\"},\"colorscale\":[[0.0,\"#0d0887\"],[0.1111111111111111,\"#46039f\"],[0.2222222222222222,\"#7201a8\"],[0.3333333333333333,\"#9c179e\"],[0.4444444444444444,\"#bd3786\"],[0.5555555555555556,\"#d8576b\"],[0.6666666666666666,\"#ed7953\"],[0.7777777777777778,\"#fb9f3a\"],[0.8888888888888888,\"#fdca26\"],[1.0,\"#f0f921\"]]}],\"surface\":[{\"type\":\"surface\",\"colorbar\":{\"outlinewidth\":0,\"ticks\":\"\"},\"colorscale\":[[0.0,\"#0d0887\"],[0.1111111111111111,\"#46039f\"],[0.2222222222222222,\"#7201a8\"],[0.3333333333333333,\"#9c179e\"],[0.4444444444444444,\"#bd3786\"],[0.5555555555555556,\"#d8576b\"],[0.6666666666666666,\"#ed7953\"],[0.7777777777777778,\"#fb9f3a\"],[0.8888888888888888,\"#fdca26\"],[1.0,\"#f0f921\"]]}],\"mesh3d\":[{\"type\":\"mesh3d\",\"colorbar\":{\"outlinewidth\":0,\"ticks\":\"\"}}],\"scatter\":[{\"fillpattern\":{\"fillmode\":\"overlay\",\"size\":10,\"solidity\":0.2},\"type\":\"scatter\"}],\"parcoords\":[{\"type\":\"parcoords\",\"line\":{\"colorbar\":{\"outlinewidth\":0,\"ticks\":\"\"}}}],\"scatterpolargl\":[{\"type\":\"scatterpolargl\",\"marker\":{\"colorbar\":{\"outlinewidth\":0,\"ticks\":\"\"}}}],\"bar\":[{\"error_x\":{\"color\":\"#2a3f5f\"},\"error_y\":{\"color\":\"#2a3f5f\"},\"marker\":{\"line\":{\"color\":\"#E5ECF6\",\"width\":0.5},\"pattern\":{\"fillmode\":\"overlay\",\"size\":10,\"solidity\":0.2}},\"type\":\"bar\"}],\"scattergeo\":[{\"type\":\"scattergeo\",\"marker\":{\"colorbar\":{\"outlinewidth\":0,\"ticks\":\"\"}}}],\"scatterpolar\":[{\"type\":\"scatterpolar\",\"marker\":{\"colorbar\":{\"outlinewidth\":0,\"ticks\":\"\"}}}],\"histogram\":[{\"marker\":{\"pattern\":{\"fillmode\":\"overlay\",\"size\":10,\"solidity\":0.2}},\"type\":\"histogram\"}],\"scattergl\":[{\"type\":\"scattergl\",\"marker\":{\"colorbar\":{\"outlinewidth\":0,\"ticks\":\"\"}}}],\"scatter3d\":[{\"type\":\"scatter3d\",\"line\":{\"colorbar\":{\"outlinewidth\":0,\"ticks\":\"\"}},\"marker\":{\"colorbar\":{\"outlinewidth\":0,\"ticks\":\"\"}}}],\"scattermapbox\":[{\"type\":\"scattermapbox\",\"marker\":{\"colorbar\":{\"outlinewidth\":0,\"ticks\":\"\"}}}],\"scatterternary\":[{\"type\":\"scatterternary\",\"marker\":{\"colorbar\":{\"outlinewidth\":0,\"ticks\":\"\"}}}],\"scattercarpet\":[{\"type\":\"scattercarpet\",\"marker\":{\"colorbar\":{\"outlinewidth\":0,\"ticks\":\"\"}}}],\"carpet\":[{\"aaxis\":{\"endlinecolor\":\"#2a3f5f\",\"gridcolor\":\"white\",\"linecolor\":\"white\",\"minorgridcolor\":\"white\",\"startlinecolor\":\"#2a3f5f\"},\"baxis\":{\"endlinecolor\":\"#2a3f5f\",\"gridcolor\":\"white\",\"linecolor\":\"white\",\"minorgridcolor\":\"white\",\"startlinecolor\":\"#2a3f5f\"},\"type\":\"carpet\"}],\"table\":[{\"cells\":{\"fill\":{\"color\":\"#EBF0F8\"},\"line\":{\"color\":\"white\"}},\"header\":{\"fill\":{\"color\":\"#C8D4E3\"},\"line\":{\"color\":\"white\"}},\"type\":\"table\"}],\"barpolar\":[{\"marker\":{\"line\":{\"color\":\"#E5ECF6\",\"width\":0.5},\"pattern\":{\"fillmode\":\"overlay\",\"size\":10,\"solidity\":0.2}},\"type\":\"barpolar\"}],\"pie\":[{\"automargin\":true,\"type\":\"pie\"}]},\"layout\":{\"autotypenumbers\":\"strict\",\"colorway\":[\"#636efa\",\"#EF553B\",\"#00cc96\",\"#ab63fa\",\"#FFA15A\",\"#19d3f3\",\"#FF6692\",\"#B6E880\",\"#FF97FF\",\"#FECB52\"],\"font\":{\"color\":\"#2a3f5f\"},\"hovermode\":\"closest\",\"hoverlabel\":{\"align\":\"left\"},\"paper_bgcolor\":\"white\",\"plot_bgcolor\":\"#E5ECF6\",\"polar\":{\"bgcolor\":\"#E5ECF6\",\"angularaxis\":{\"gridcolor\":\"white\",\"linecolor\":\"white\",\"ticks\":\"\"},\"radialaxis\":{\"gridcolor\":\"white\",\"linecolor\":\"white\",\"ticks\":\"\"}},\"ternary\":{\"bgcolor\":\"#E5ECF6\",\"aaxis\":{\"gridcolor\":\"white\",\"linecolor\":\"white\",\"ticks\":\"\"},\"baxis\":{\"gridcolor\":\"white\",\"linecolor\":\"white\",\"ticks\":\"\"},\"caxis\":{\"gridcolor\":\"white\",\"linecolor\":\"white\",\"ticks\":\"\"}},\"coloraxis\":{\"colorbar\":{\"outlinewidth\":0,\"ticks\":\"\"}},\"colorscale\":{\"sequential\":[[0.0,\"#0d0887\"],[0.1111111111111111,\"#46039f\"],[0.2222222222222222,\"#7201a8\"],[0.3333333333333333,\"#9c179e\"],[0.4444444444444444,\"#bd3786\"],[0.5555555555555556,\"#d8576b\"],[0.6666666666666666,\"#ed7953\"],[0.7777777777777778,\"#fb9f3a\"],[0.8888888888888888,\"#fdca26\"],[1.0,\"#f0f921\"]],\"sequentialminus\":[[0.0,\"#0d0887\"],[0.1111111111111111,\"#46039f\"],[0.2222222222222222,\"#7201a8\"],[0.3333333333333333,\"#9c179e\"],[0.4444444444444444,\"#bd3786\"],[0.5555555555555556,\"#d8576b\"],[0.6666666666666666,\"#ed7953\"],[0.7777777777777778,\"#fb9f3a\"],[0.8888888888888888,\"#fdca26\"],[1.0,\"#f0f921\"]],\"diverging\":[[0,\"#8e0152\"],[0.1,\"#c51b7d\"],[0.2,\"#de77ae\"],[0.3,\"#f1b6da\"],[0.4,\"#fde0ef\"],[0.5,\"#f7f7f7\"],[0.6,\"#e6f5d0\"],[0.7,\"#b8e186\"],[0.8,\"#7fbc41\"],[0.9,\"#4d9221\"],[1,\"#276419\"]]},\"xaxis\":{\"gridcolor\":\"white\",\"linecolor\":\"white\",\"ticks\":\"\",\"title\":{\"standoff\":15},\"zerolinecolor\":\"white\",\"automargin\":true,\"zerolinewidth\":2},\"yaxis\":{\"gridcolor\":\"white\",\"linecolor\":\"white\",\"ticks\":\"\",\"title\":{\"standoff\":15},\"zerolinecolor\":\"white\",\"automargin\":true,\"zerolinewidth\":2},\"scene\":{\"xaxis\":{\"backgroundcolor\":\"#E5ECF6\",\"gridcolor\":\"white\",\"linecolor\":\"white\",\"showbackground\":true,\"ticks\":\"\",\"zerolinecolor\":\"white\",\"gridwidth\":2},\"yaxis\":{\"backgroundcolor\":\"#E5ECF6\",\"gridcolor\":\"white\",\"linecolor\":\"white\",\"showbackground\":true,\"ticks\":\"\",\"zerolinecolor\":\"white\",\"gridwidth\":2},\"zaxis\":{\"backgroundcolor\":\"#E5ECF6\",\"gridcolor\":\"white\",\"linecolor\":\"white\",\"showbackground\":true,\"ticks\":\"\",\"zerolinecolor\":\"white\",\"gridwidth\":2}},\"shapedefaults\":{\"line\":{\"color\":\"#2a3f5f\"}},\"annotationdefaults\":{\"arrowcolor\":\"#2a3f5f\",\"arrowhead\":0,\"arrowwidth\":1},\"geo\":{\"bgcolor\":\"white\",\"landcolor\":\"#E5ECF6\",\"subunitcolor\":\"white\",\"showland\":true,\"showlakes\":true,\"lakecolor\":\"white\"},\"title\":{\"x\":0.05},\"mapbox\":{\"style\":\"light\"}}},\"xaxis\":{\"anchor\":\"y\",\"domain\":[0.0,1.0],\"title\":{\"text\":\"FAVOR OR OPPOSE EXPANDING NUCLEAR PLANTS\"},\"categoryorder\":\"array\",\"categoryarray\":[\"Strongly oppose\",\"Somewhat oppose\",\"Somewhat favor\",\"Strongly favor\"]},\"yaxis\":{\"anchor\":\"x\",\"domain\":[0.0,1.0],\"title\":{\"text\":\"NUMBER OF RESPONSES\"}},\"legend\":{\"title\":{\"text\":\"AGE\"},\"tracegroupgap\":0},\"margin\":{\"t\":60},\"barmode\":\"group\"},                        {\"responsive\": true}                    ).then(function(){\n",
       "                            \n",
       "var gd = document.getElementById('aa1ff36c-ca40-40a5-8756-ef440fa9280b');\n",
       "var x = new MutationObserver(function (mutations, observer) {{\n",
       "        var display = window.getComputedStyle(gd).display;\n",
       "        if (!display || display === 'none') {{\n",
       "            console.log([gd, 'removed!']);\n",
       "            Plotly.purge(gd);\n",
       "            observer.disconnect();\n",
       "        }}\n",
       "}});\n",
       "\n",
       "// Listen for the removal of the full notebook cells\n",
       "var notebookContainer = gd.closest('#notebook-container');\n",
       "if (notebookContainer) {{\n",
       "    x.observe(notebookContainer, {childList: true});\n",
       "}}\n",
       "\n",
       "// Listen for the clearing of the current output cell\n",
       "var outputEl = gd.closest('.output');\n",
       "if (outputEl) {{\n",
       "    x.observe(outputEl, {childList: true});\n",
       "}}\n",
       "\n",
       "                        })                };                });            </script>        </div>"
      ]
     },
     "metadata": {},
     "output_type": "display_data"
    }
   ],
   "source": [
    "# Update this one to use Q2 instead of hAge1. Find the mean or something\n",
    "# Maybe use a percentage or something \n",
    "fig = px.histogram(dataframe1, x=\"Q10\", color=\"hAge1\", barmode=\"group\").update_xaxes(categoryorder='array', categoryarray=[\"Strongly oppose\", \"Somewhat oppose\", \"Somewhat favor\", \"Strongly favor\"]).update_layout(\n",
    "xaxis_title=\"FAVOR OR OPPOSE EXPANDING NUCLEAR PLANTS\", yaxis_title=\"NUMBER OF RESPONSES\", legend_title=\"AGE\",\n",
    ")\n",
    "fig.show()"
   ]
  },
  {
   "cell_type": "code",
   "execution_count": 61,
   "id": "41f60f27-f0e5-4d05-b21b-79083fecdb44",
   "metadata": {},
   "outputs": [
    {
     "data": {
      "application/vnd.plotly.v1+json": {
       "config": {
        "plotlyServerURL": "https://plot.ly"
       },
       "data": [
        {
         "alignmentgroup": "True",
         "bingroup": "x",
         "hovertemplate": "hAge2=Gen Z (<26)<br>Q10=%{x}<br>count=%{y}<extra></extra>",
         "legendgroup": "Gen Z (<26)",
         "marker": {
          "color": "#636efa",
          "pattern": {
           "shape": ""
          }
         },
         "name": "Gen Z (<26)",
         "offsetgroup": "Gen Z (<26)",
         "orientation": "v",
         "showlegend": true,
         "type": "histogram",
         "x": [
          "Somewhat favor",
          "Somewhat favor",
          "Somewhat favor",
          "Somewhat favor",
          "Somewhat favor",
          "Strongly favor",
          "Strongly favor",
          "Somewhat favor",
          "Strongly favor",
          "Somewhat favor",
          "Strongly favor",
          "Somewhat oppose",
          "Somewhat favor",
          "Somewhat favor",
          "Somewhat favor",
          "Somewhat favor",
          "Strongly favor",
          "Somewhat favor",
          "Strongly favor",
          "Somewhat favor",
          "Strongly favor",
          "Somewhat favor",
          "Somewhat favor",
          "Strongly favor",
          "Strongly oppose",
          "Strongly favor",
          "Somewhat favor",
          "Strongly oppose",
          "Strongly favor",
          "Strongly favor",
          "Somewhat favor",
          "Somewhat favor",
          "Somewhat favor",
          "Somewhat favor",
          "Somewhat favor",
          "Somewhat oppose",
          "Somewhat oppose",
          "Strongly favor",
          "Somewhat favor",
          "Strongly favor",
          "Strongly favor",
          "Somewhat oppose",
          "Strongly favor",
          "Somewhat oppose",
          "Strongly favor",
          "Somewhat favor",
          "Somewhat favor",
          "Somewhat favor",
          "Somewhat favor",
          "Somewhat oppose",
          "Somewhat oppose",
          "Somewhat oppose",
          "Strongly favor",
          "Strongly favor",
          "Strongly oppose",
          "Somewhat favor",
          "Somewhat oppose",
          "Somewhat favor",
          "Strongly favor",
          "Somewhat favor",
          "Somewhat favor",
          "Strongly favor",
          "Strongly favor",
          "Somewhat favor",
          "Strongly favor",
          "Strongly favor",
          "Strongly favor",
          "Somewhat favor",
          "Somewhat favor",
          "Somewhat favor",
          "Strongly favor",
          "Strongly favor",
          "Somewhat oppose",
          "Somewhat oppose",
          "Somewhat favor",
          "Strongly oppose",
          "Somewhat oppose",
          "Strongly favor",
          "Somewhat favor",
          "Somewhat favor",
          "Strongly favor",
          "Strongly favor",
          "Somewhat oppose",
          "Somewhat favor",
          "Somewhat favor",
          "Somewhat favor",
          "Somewhat oppose",
          "Somewhat favor",
          "Somewhat favor",
          "Somewhat oppose",
          "Strongly favor"
         ],
         "xaxis": "x",
         "yaxis": "y"
        },
        {
         "alignmentgroup": "True",
         "bingroup": "x",
         "hovertemplate": "hAge2=Millennial (26-41)<br>Q10=%{x}<br>count=%{y}<extra></extra>",
         "legendgroup": "Millennial (26-41)",
         "marker": {
          "color": "#EF553B",
          "pattern": {
           "shape": ""
          }
         },
         "name": "Millennial (26-41)",
         "offsetgroup": "Millennial (26-41)",
         "orientation": "v",
         "showlegend": true,
         "type": "histogram",
         "x": [
          "Somewhat favor",
          "Somewhat oppose",
          "Strongly favor",
          "Strongly favor",
          "Somewhat favor",
          "Somewhat favor",
          "Somewhat favor",
          "Somewhat favor",
          "Somewhat favor",
          "Somewhat oppose",
          "Strongly favor",
          "Strongly favor",
          "Somewhat favor",
          "Somewhat favor",
          "Somewhat favor",
          "Strongly favor",
          "Somewhat favor",
          "Strongly favor",
          "Strongly favor",
          "Strongly favor",
          "Somewhat favor",
          "Somewhat favor",
          "Strongly favor",
          "Somewhat favor",
          "Strongly oppose",
          "Strongly oppose",
          "Somewhat favor",
          "Somewhat favor",
          "Strongly favor",
          "Somewhat oppose",
          "Somewhat favor",
          "Strongly favor",
          "Somewhat favor",
          "Somewhat favor",
          "Somewhat favor",
          "Strongly favor",
          "Somewhat oppose",
          "Strongly favor",
          "Somewhat oppose",
          "Somewhat oppose",
          "Somewhat oppose",
          "Somewhat oppose",
          "Strongly favor",
          "Somewhat favor",
          "Somewhat favor",
          "Strongly favor",
          "Strongly favor",
          "Strongly favor",
          "Strongly oppose",
          "Somewhat oppose",
          "Somewhat oppose",
          "Somewhat oppose",
          "Somewhat favor",
          "Strongly favor",
          "Strongly favor",
          "Somewhat favor",
          "Strongly favor",
          "Somewhat favor",
          "Strongly favor",
          "Somewhat oppose",
          "Somewhat favor",
          "Somewhat oppose",
          "Somewhat favor",
          "Somewhat oppose",
          "Strongly favor",
          "Somewhat favor",
          "Somewhat favor",
          "Strongly favor",
          "Somewhat oppose",
          "Strongly favor",
          "Strongly favor",
          "Strongly favor",
          "Strongly favor",
          "Strongly favor",
          "Strongly favor",
          "Somewhat favor",
          "Somewhat oppose",
          "Somewhat favor",
          "Somewhat favor",
          "Somewhat favor",
          "Somewhat favor",
          "Somewhat favor",
          "Somewhat favor",
          "Somewhat favor",
          "Somewhat oppose",
          "Strongly favor",
          "Somewhat oppose",
          "Somewhat favor",
          "Strongly oppose",
          "Strongly favor",
          "Strongly oppose",
          "Strongly oppose",
          "Somewhat oppose",
          "Strongly favor",
          "Strongly favor",
          "Somewhat oppose",
          "Somewhat favor",
          "Strongly favor",
          "Somewhat favor",
          "Somewhat oppose",
          "Somewhat favor",
          "Strongly favor",
          "Somewhat oppose",
          "Strongly favor",
          "Somewhat favor",
          "Strongly favor",
          "Strongly favor",
          "Strongly favor",
          "Somewhat favor",
          "Somewhat favor",
          "Somewhat oppose",
          "Strongly favor",
          "Strongly favor",
          "Strongly favor",
          "Somewhat oppose",
          "Strongly favor",
          "Somewhat favor",
          "Somewhat favor",
          "Strongly favor",
          "Somewhat oppose",
          "Somewhat favor",
          "Strongly favor",
          "Strongly favor",
          "Strongly favor",
          "Somewhat favor",
          "Strongly favor",
          "Somewhat favor",
          "Strongly oppose",
          "Somewhat favor",
          "Somewhat favor",
          "Strongly favor",
          "Somewhat favor",
          "Somewhat favor",
          "Somewhat favor",
          "Strongly favor",
          "Somewhat favor",
          "Somewhat favor",
          "Somewhat favor",
          "Strongly favor",
          "Somewhat favor",
          "Strongly favor",
          "Strongly favor",
          "Strongly favor",
          "Somewhat favor",
          "Strongly favor",
          "Somewhat favor",
          "Strongly favor",
          "Strongly favor",
          "Somewhat favor",
          "Somewhat favor",
          "Somewhat favor",
          "Somewhat favor",
          "Strongly favor",
          "Strongly favor",
          "Somewhat favor",
          "Somewhat favor",
          "Strongly favor",
          "Strongly favor",
          "Strongly favor",
          "Strongly favor",
          "Somewhat favor",
          "Strongly favor",
          "Somewhat favor",
          "Strongly favor",
          "Somewhat oppose",
          "Somewhat favor",
          "Strongly favor",
          "Somewhat favor",
          "Strongly favor",
          "Somewhat favor",
          "Somewhat favor",
          "Somewhat favor",
          "Somewhat favor",
          "Somewhat favor",
          "Somewhat favor",
          "Strongly favor",
          "Somewhat favor",
          "Somewhat oppose",
          "Strongly favor",
          "Somewhat oppose",
          "Somewhat oppose",
          "Somewhat oppose",
          "Somewhat oppose",
          "Strongly favor",
          "Strongly favor",
          "Strongly oppose",
          "Strongly oppose",
          "Somewhat favor",
          "Somewhat favor",
          "Somewhat favor",
          "Somewhat favor",
          "Somewhat oppose",
          "Somewhat favor",
          "Strongly favor",
          "Somewhat favor",
          "Somewhat favor",
          "Strongly oppose",
          "Somewhat favor",
          "Somewhat favor",
          "Somewhat favor",
          "Somewhat favor",
          "Somewhat favor",
          "Strongly favor",
          "Strongly oppose",
          "Somewhat favor",
          "Somewhat oppose",
          "Somewhat oppose",
          "Somewhat favor",
          "Somewhat favor",
          "Strongly favor",
          "Somewhat favor",
          "Somewhat favor",
          "Somewhat favor",
          "Strongly oppose",
          "Somewhat favor",
          "Somewhat favor",
          "Somewhat oppose",
          "Strongly favor",
          "Somewhat favor",
          "Strongly oppose",
          "Somewhat favor",
          "Somewhat favor",
          "Somewhat favor",
          "Somewhat favor",
          "Strongly favor",
          "Somewhat favor",
          "Strongly favor",
          "Somewhat favor",
          "Somewhat oppose",
          "Strongly favor",
          "Somewhat oppose",
          "Somewhat favor",
          "Somewhat favor",
          "Somewhat favor",
          "Strongly favor",
          "Somewhat favor",
          "Strongly oppose",
          "Somewhat favor",
          "Somewhat oppose",
          "Somewhat favor",
          "Somewhat favor",
          "Somewhat favor",
          "Strongly favor",
          "Somewhat favor",
          "Somewhat favor",
          "Somewhat favor",
          "Somewhat favor",
          "Somewhat favor",
          "Somewhat favor",
          "Strongly favor",
          "Somewhat favor",
          "Somewhat favor",
          "Somewhat oppose",
          "Strongly favor",
          "Strongly favor",
          "Somewhat favor",
          "Strongly favor",
          "Strongly favor",
          "Strongly favor",
          "Strongly favor",
          "Somewhat favor",
          "Somewhat favor",
          "Somewhat favor",
          "Somewhat favor",
          "Strongly favor",
          "Somewhat favor",
          "Strongly oppose",
          "Strongly favor",
          "Somewhat favor",
          "Somewhat favor",
          "Somewhat oppose",
          "Strongly favor",
          "Somewhat oppose",
          "Somewhat favor",
          "Somewhat oppose",
          "Strongly oppose",
          "Somewhat oppose",
          "Somewhat favor",
          "Somewhat favor",
          "Somewhat oppose",
          "Somewhat favor",
          "Somewhat favor",
          "Strongly favor",
          "Somewhat favor",
          "Somewhat favor",
          "Somewhat favor",
          "Somewhat favor",
          "Somewhat favor",
          "Somewhat oppose",
          "Somewhat favor",
          "Strongly oppose",
          "Somewhat favor",
          "Strongly favor",
          "Strongly favor",
          "Strongly oppose",
          "Somewhat favor",
          "Somewhat favor",
          "Somewhat favor",
          "Strongly oppose",
          "Strongly favor",
          "Somewhat favor",
          "Strongly favor",
          "Somewhat favor",
          "Somewhat favor",
          "Strongly favor",
          "Somewhat oppose",
          "Somewhat oppose",
          "Somewhat favor",
          "Somewhat favor",
          "Somewhat oppose",
          "Somewhat favor",
          "Somewhat favor",
          "Somewhat oppose",
          "Strongly favor",
          "Somewhat oppose",
          "Somewhat favor",
          "Strongly favor",
          "Strongly favor",
          "Strongly favor",
          "Strongly favor",
          "Somewhat favor",
          "Strongly favor",
          "Somewhat favor",
          "Strongly favor",
          "Strongly favor",
          "Strongly oppose",
          "Somewhat favor",
          "Somewhat favor",
          "Somewhat favor",
          "Strongly favor",
          "Strongly favor",
          "Somewhat oppose",
          "Strongly favor",
          "Strongly oppose",
          "Somewhat favor",
          "Strongly favor",
          "Strongly favor",
          "Strongly favor",
          "Somewhat favor",
          "Somewhat favor",
          "Strongly favor",
          "Somewhat oppose",
          "Somewhat favor",
          "Somewhat favor",
          "Somewhat favor",
          "Somewhat favor",
          "Somewhat favor",
          "Somewhat oppose"
         ],
         "xaxis": "x",
         "yaxis": "y"
        },
        {
         "alignmentgroup": "True",
         "bingroup": "x",
         "hovertemplate": "hAge2=Gen X (42-57)<br>Q10=%{x}<br>count=%{y}<extra></extra>",
         "legendgroup": "Gen X (42-57)",
         "marker": {
          "color": "#00cc96",
          "pattern": {
           "shape": ""
          }
         },
         "name": "Gen X (42-57)",
         "offsetgroup": "Gen X (42-57)",
         "orientation": "v",
         "showlegend": true,
         "type": "histogram",
         "x": [
          "Somewhat favor",
          "Somewhat favor",
          "Strongly favor",
          "Somewhat favor",
          "Somewhat favor",
          "Strongly oppose",
          "Somewhat oppose",
          "Somewhat favor",
          "Somewhat favor",
          "Somewhat oppose",
          "Somewhat favor",
          "Somewhat oppose",
          "Strongly oppose",
          "Strongly favor",
          "Somewhat favor",
          "Somewhat favor",
          "Somewhat favor",
          "Somewhat favor",
          "Strongly favor",
          "Strongly oppose",
          "Strongly favor",
          "Somewhat favor",
          "Somewhat favor",
          "Strongly favor",
          "Somewhat favor",
          "Somewhat oppose",
          "Somewhat favor",
          "Somewhat favor",
          "Somewhat favor",
          "Strongly favor",
          "Strongly favor",
          "Somewhat favor",
          "Somewhat favor",
          "Strongly favor",
          "Strongly favor",
          "Strongly favor",
          "Somewhat oppose",
          "Somewhat favor",
          "Strongly favor",
          "Strongly favor",
          "Somewhat favor",
          "Somewhat favor",
          "Somewhat favor",
          "Strongly oppose",
          "Somewhat favor",
          "Strongly favor",
          "Strongly favor",
          "Somewhat favor",
          "Somewhat favor",
          "Somewhat favor",
          "Somewhat favor",
          "Somewhat favor",
          "Strongly favor",
          "Somewhat oppose",
          "Somewhat oppose",
          "Strongly favor",
          "Somewhat favor",
          "Somewhat favor",
          "Somewhat oppose",
          "Somewhat favor",
          "Somewhat favor",
          "Somewhat favor",
          "Somewhat favor",
          "Somewhat favor",
          "Strongly favor",
          "Somewhat favor",
          "Somewhat favor",
          "Somewhat oppose",
          "Strongly oppose",
          "Somewhat favor",
          "Somewhat favor",
          "Somewhat oppose",
          "Somewhat favor",
          "Somewhat favor",
          "Somewhat favor",
          "Somewhat favor",
          "Strongly oppose",
          "Somewhat oppose",
          "Strongly favor",
          "Somewhat favor",
          "Strongly favor",
          "Strongly favor",
          "Strongly favor",
          "Strongly favor",
          "Strongly favor",
          "Somewhat oppose",
          "Strongly oppose",
          "Strongly favor",
          "Somewhat favor",
          "Somewhat oppose",
          "Somewhat favor",
          "Somewhat oppose",
          "Strongly oppose",
          "Strongly oppose",
          "Somewhat favor",
          "Strongly oppose",
          "Strongly favor",
          "Somewhat favor",
          "Strongly favor",
          "Strongly favor",
          "Somewhat favor",
          "Somewhat favor",
          "Somewhat favor",
          "Strongly favor",
          "Somewhat favor",
          "Strongly favor",
          "Somewhat favor",
          "Strongly favor",
          "Somewhat favor",
          "Somewhat favor",
          "Somewhat favor",
          "Strongly favor",
          "Strongly favor",
          "Strongly favor",
          "Strongly oppose",
          "Strongly favor",
          "Somewhat favor",
          "Somewhat oppose",
          "Somewhat favor",
          "Somewhat favor",
          "Somewhat oppose",
          "Strongly oppose",
          "Somewhat favor",
          "Strongly favor",
          "Strongly favor",
          "Somewhat favor",
          "Somewhat favor",
          "Somewhat favor",
          "Strongly oppose",
          "Strongly favor",
          "Somewhat favor",
          "Somewhat favor",
          "Somewhat favor",
          "Somewhat favor",
          "Strongly favor",
          "Somewhat favor",
          "Strongly favor",
          "Somewhat favor",
          "Somewhat oppose",
          "Somewhat favor",
          "Somewhat favor",
          "Somewhat favor",
          "Somewhat oppose",
          "Somewhat favor",
          "Somewhat oppose",
          "Strongly favor",
          "Strongly oppose",
          "Somewhat favor",
          "Somewhat oppose",
          "Somewhat oppose",
          "Somewhat favor",
          "Somewhat favor",
          "Somewhat favor",
          "Somewhat oppose",
          "Somewhat oppose",
          "Somewhat oppose",
          "Strongly favor",
          "Somewhat favor",
          "Somewhat oppose",
          "Strongly oppose",
          "Strongly favor",
          "Somewhat favor",
          "Somewhat favor",
          "Strongly favor",
          "Somewhat favor",
          "Strongly favor",
          "Strongly favor",
          "Strongly favor",
          "Strongly favor",
          "Somewhat oppose",
          "Strongly favor",
          "Somewhat favor",
          "Somewhat oppose",
          "Somewhat oppose",
          "Somewhat favor",
          "Somewhat oppose",
          "Strongly favor",
          "Strongly favor",
          "Somewhat favor",
          "Strongly favor",
          "Somewhat favor",
          "Strongly oppose",
          "Strongly favor",
          "Somewhat favor",
          "Somewhat oppose",
          "Somewhat oppose",
          "Somewhat favor",
          "Somewhat favor",
          "Somewhat oppose",
          "Somewhat favor",
          "Strongly favor",
          "Somewhat oppose",
          "Somewhat favor",
          "Strongly oppose",
          "Somewhat favor",
          "Somewhat favor",
          "Somewhat favor",
          "Somewhat favor",
          "Strongly favor",
          "Somewhat favor",
          "Strongly favor",
          "Somewhat oppose",
          "Somewhat favor",
          "Somewhat favor",
          "Strongly oppose",
          "Somewhat oppose",
          "Somewhat oppose",
          "Strongly oppose",
          "Somewhat oppose",
          "Somewhat favor",
          "Strongly favor",
          "Strongly favor",
          "Strongly favor",
          "Somewhat favor",
          "Somewhat favor",
          "Somewhat favor",
          "Somewhat favor",
          "Somewhat oppose",
          "Strongly favor",
          "Somewhat oppose",
          "Strongly oppose",
          "Somewhat favor",
          "Strongly favor",
          "Strongly favor",
          "Somewhat favor",
          "Strongly favor",
          "Strongly favor",
          "Somewhat oppose",
          "Strongly favor",
          "Somewhat oppose",
          "Strongly favor",
          "Strongly favor",
          "Somewhat oppose",
          "Strongly favor",
          "Somewhat oppose",
          "Somewhat favor",
          "Somewhat favor",
          "Strongly oppose",
          "Strongly oppose",
          "Somewhat favor",
          "Somewhat favor",
          "Somewhat favor",
          "Strongly favor",
          "Strongly favor",
          "Somewhat oppose",
          "Strongly oppose",
          "Somewhat oppose",
          "Somewhat oppose",
          "Somewhat favor",
          "Somewhat oppose",
          "Somewhat favor",
          "Somewhat oppose",
          "Strongly favor",
          "Somewhat favor",
          "Somewhat oppose",
          "Somewhat favor",
          "Strongly favor",
          "Strongly favor",
          "Strongly favor",
          "Somewhat favor",
          "Somewhat favor",
          "Strongly favor",
          "Strongly favor",
          "Somewhat favor",
          "Strongly favor",
          "Somewhat favor",
          "Somewhat favor",
          "Strongly favor",
          "Strongly oppose",
          "Somewhat favor",
          "Strongly favor",
          "Somewhat favor",
          "Somewhat favor",
          "Strongly favor",
          "Strongly favor",
          "Strongly favor"
         ],
         "xaxis": "x",
         "yaxis": "y"
        },
        {
         "alignmentgroup": "True",
         "bingroup": "x",
         "hovertemplate": "hAge2=Boomers (58-76)<br>Q10=%{x}<br>count=%{y}<extra></extra>",
         "legendgroup": "Boomers (58-76)",
         "marker": {
          "color": "#ab63fa",
          "pattern": {
           "shape": ""
          }
         },
         "name": "Boomers (58-76)",
         "offsetgroup": "Boomers (58-76)",
         "orientation": "v",
         "showlegend": true,
         "type": "histogram",
         "x": [
          "Strongly favor",
          "Somewhat oppose",
          "Somewhat favor",
          "Strongly favor",
          "Somewhat favor",
          "Somewhat favor",
          "Somewhat oppose",
          "Somewhat oppose",
          "Strongly favor",
          "Somewhat oppose",
          "Strongly oppose",
          "Somewhat oppose",
          "Somewhat favor",
          "Somewhat favor",
          "Somewhat favor",
          "Strongly oppose",
          "Somewhat favor",
          "Strongly oppose",
          "Strongly favor",
          "Somewhat favor",
          "Strongly oppose",
          "Somewhat favor",
          "Somewhat favor",
          "Strongly favor",
          "Strongly favor",
          "Somewhat favor",
          "Somewhat favor",
          "Somewhat favor",
          "Somewhat favor",
          "Somewhat oppose",
          "Somewhat favor",
          "Strongly oppose",
          "Somewhat favor",
          "Somewhat favor",
          "Somewhat oppose",
          "Strongly favor",
          "Somewhat favor",
          "Strongly favor",
          "Strongly oppose",
          "Strongly favor",
          "Somewhat favor",
          "Strongly favor",
          "Strongly favor",
          "Somewhat oppose",
          "Somewhat favor",
          "Somewhat favor",
          "Somewhat favor",
          "Strongly favor",
          "Strongly oppose",
          "Somewhat oppose",
          "Strongly favor",
          "Somewhat favor",
          "Strongly favor",
          "Somewhat oppose",
          "Somewhat favor",
          "Somewhat favor",
          "Somewhat favor",
          "Strongly favor",
          "Strongly favor",
          "Strongly favor",
          "Somewhat favor",
          "Somewhat favor",
          "Somewhat favor",
          "Strongly favor",
          "Strongly oppose",
          "Strongly favor",
          "Somewhat favor",
          "Strongly favor",
          "Strongly favor",
          "Somewhat favor",
          "Somewhat favor",
          "Somewhat oppose",
          "Strongly favor",
          "Somewhat favor",
          "Somewhat favor",
          "Strongly favor",
          "Somewhat favor",
          "Somewhat favor",
          "Strongly favor",
          "Strongly favor",
          "Somewhat favor",
          "Strongly favor",
          "Somewhat favor",
          "Strongly favor",
          "Somewhat favor",
          "Somewhat favor",
          "Somewhat oppose",
          "Somewhat oppose",
          "Strongly favor",
          "Strongly oppose",
          "Strongly favor",
          "Strongly favor",
          "Strongly favor",
          "Somewhat favor",
          "Somewhat favor",
          "Somewhat oppose",
          "Strongly favor",
          "Strongly oppose",
          "Strongly favor",
          "Strongly favor",
          "Strongly favor",
          "Somewhat oppose",
          "Strongly favor",
          "Strongly favor",
          "Somewhat oppose",
          "Somewhat favor",
          "Somewhat favor",
          "Strongly favor",
          "Somewhat favor",
          "Somewhat favor",
          "Somewhat favor",
          "Somewhat oppose",
          "Strongly favor",
          "Strongly favor",
          "Somewhat favor",
          "Strongly favor",
          "Somewhat favor",
          "Strongly favor",
          "Somewhat favor",
          "Somewhat favor",
          "Somewhat favor",
          "Somewhat favor",
          "Somewhat favor",
          "Somewhat favor",
          "Strongly oppose",
          "Strongly oppose",
          "Somewhat oppose",
          "Somewhat oppose",
          "Somewhat oppose",
          "Strongly favor",
          "Somewhat favor",
          "Somewhat favor",
          "Strongly favor",
          "Somewhat favor",
          "Somewhat favor",
          "Strongly favor",
          "Strongly oppose",
          "Somewhat favor",
          "Somewhat oppose",
          "Somewhat favor",
          "Somewhat favor",
          "Strongly oppose",
          "Strongly favor",
          "Somewhat favor",
          "Somewhat oppose",
          "Strongly favor",
          "Somewhat oppose",
          "Somewhat favor",
          "Strongly favor",
          "Strongly favor",
          "Somewhat favor",
          "Strongly favor",
          "Strongly oppose",
          "Strongly favor",
          "Strongly favor",
          "Strongly favor",
          "Strongly favor",
          "Strongly favor",
          "Somewhat oppose",
          "Somewhat favor",
          "Strongly favor",
          "Somewhat favor",
          "Strongly favor",
          "Somewhat oppose",
          "Somewhat favor",
          "Somewhat favor",
          "Strongly favor",
          "Somewhat favor",
          "Somewhat favor",
          "Somewhat oppose",
          "Strongly favor",
          "Somewhat favor",
          "Somewhat favor",
          "Somewhat oppose",
          "Somewhat favor",
          "Strongly oppose",
          "Somewhat favor",
          "Strongly favor",
          "Somewhat favor",
          "Strongly favor",
          "Strongly favor",
          "Strongly favor",
          "Strongly favor",
          "Strongly oppose",
          "Strongly favor",
          "Somewhat oppose",
          "Strongly favor",
          "Strongly favor",
          "Somewhat favor",
          "Somewhat oppose",
          "Strongly favor",
          "Strongly favor",
          "Strongly favor",
          "Strongly favor",
          "Somewhat favor",
          "Somewhat favor",
          "Somewhat favor",
          "Somewhat favor",
          "Strongly favor",
          "Strongly oppose",
          "Somewhat favor",
          "Strongly oppose",
          "Strongly favor",
          "Somewhat oppose",
          "Strongly favor",
          "Strongly oppose",
          "Somewhat favor",
          "Strongly favor",
          "Somewhat oppose",
          "Somewhat oppose",
          "Somewhat favor",
          "Somewhat oppose",
          "Strongly favor",
          "Strongly favor",
          "Somewhat favor",
          "Somewhat favor",
          "Somewhat oppose",
          "Somewhat favor",
          "Strongly favor",
          "Somewhat favor",
          "Somewhat favor",
          "Somewhat favor",
          "Somewhat favor",
          "Strongly favor",
          "Somewhat oppose",
          "Somewhat favor",
          "Strongly favor",
          "Somewhat oppose",
          "Somewhat favor",
          "Strongly favor",
          "Somewhat oppose",
          "Somewhat favor",
          "Somewhat favor",
          "Strongly favor",
          "Somewhat favor",
          "Somewhat favor",
          "Somewhat favor",
          "Strongly favor",
          "Strongly oppose",
          "Somewhat favor",
          "Somewhat favor",
          "Strongly favor",
          "Strongly favor",
          "Somewhat oppose",
          "Somewhat favor",
          "Somewhat oppose",
          "Strongly favor",
          "Somewhat favor",
          "Somewhat favor",
          "Somewhat favor",
          "Strongly favor",
          "Strongly favor",
          "Strongly favor",
          "Strongly favor",
          "Strongly favor",
          "Somewhat oppose",
          "Somewhat favor",
          "Strongly favor",
          "Strongly favor",
          "Somewhat oppose",
          "Strongly favor",
          "Somewhat favor"
         ],
         "xaxis": "x",
         "yaxis": "y"
        },
        {
         "alignmentgroup": "True",
         "bingroup": "x",
         "hovertemplate": "hAge2=Silent generation (>76)<br>Q10=%{x}<br>count=%{y}<extra></extra>",
         "legendgroup": "Silent generation (>76)",
         "marker": {
          "color": "#FFA15A",
          "pattern": {
           "shape": ""
          }
         },
         "name": "Silent generation (>76)",
         "offsetgroup": "Silent generation (>76)",
         "orientation": "v",
         "showlegend": true,
         "type": "histogram",
         "x": [
          "Strongly favor",
          "Strongly favor",
          "Strongly favor",
          "Strongly favor",
          "Strongly favor",
          "Strongly favor",
          "Somewhat favor",
          "Strongly favor",
          "Somewhat oppose",
          "Somewhat favor",
          "Strongly favor",
          "Strongly favor",
          "Strongly favor",
          "Strongly favor",
          "Somewhat favor",
          "Strongly favor",
          "Strongly oppose",
          "Somewhat favor",
          "Strongly oppose",
          "Strongly favor",
          "Strongly favor",
          "Strongly favor",
          "Strongly favor"
         ],
         "xaxis": "x",
         "yaxis": "y"
        }
       ],
       "layout": {
        "autosize": true,
        "barmode": "group",
        "legend": {
         "title": {
          "text": "Generation"
         },
         "tracegroupgap": 0
        },
        "margin": {
         "t": 60
        },
        "template": {
         "data": {
          "bar": [
           {
            "error_x": {
             "color": "#2a3f5f"
            },
            "error_y": {
             "color": "#2a3f5f"
            },
            "marker": {
             "line": {
              "color": "#E5ECF6",
              "width": 0.5
             },
             "pattern": {
              "fillmode": "overlay",
              "size": 10,
              "solidity": 0.2
             }
            },
            "type": "bar"
           }
          ],
          "barpolar": [
           {
            "marker": {
             "line": {
              "color": "#E5ECF6",
              "width": 0.5
             },
             "pattern": {
              "fillmode": "overlay",
              "size": 10,
              "solidity": 0.2
             }
            },
            "type": "barpolar"
           }
          ],
          "carpet": [
           {
            "aaxis": {
             "endlinecolor": "#2a3f5f",
             "gridcolor": "white",
             "linecolor": "white",
             "minorgridcolor": "white",
             "startlinecolor": "#2a3f5f"
            },
            "baxis": {
             "endlinecolor": "#2a3f5f",
             "gridcolor": "white",
             "linecolor": "white",
             "minorgridcolor": "white",
             "startlinecolor": "#2a3f5f"
            },
            "type": "carpet"
           }
          ],
          "choropleth": [
           {
            "colorbar": {
             "outlinewidth": 0,
             "ticks": ""
            },
            "type": "choropleth"
           }
          ],
          "contour": [
           {
            "colorbar": {
             "outlinewidth": 0,
             "ticks": ""
            },
            "colorscale": [
             [
              0,
              "#0d0887"
             ],
             [
              0.1111111111111111,
              "#46039f"
             ],
             [
              0.2222222222222222,
              "#7201a8"
             ],
             [
              0.3333333333333333,
              "#9c179e"
             ],
             [
              0.4444444444444444,
              "#bd3786"
             ],
             [
              0.5555555555555556,
              "#d8576b"
             ],
             [
              0.6666666666666666,
              "#ed7953"
             ],
             [
              0.7777777777777778,
              "#fb9f3a"
             ],
             [
              0.8888888888888888,
              "#fdca26"
             ],
             [
              1,
              "#f0f921"
             ]
            ],
            "type": "contour"
           }
          ],
          "contourcarpet": [
           {
            "colorbar": {
             "outlinewidth": 0,
             "ticks": ""
            },
            "type": "contourcarpet"
           }
          ],
          "heatmap": [
           {
            "colorbar": {
             "outlinewidth": 0,
             "ticks": ""
            },
            "colorscale": [
             [
              0,
              "#0d0887"
             ],
             [
              0.1111111111111111,
              "#46039f"
             ],
             [
              0.2222222222222222,
              "#7201a8"
             ],
             [
              0.3333333333333333,
              "#9c179e"
             ],
             [
              0.4444444444444444,
              "#bd3786"
             ],
             [
              0.5555555555555556,
              "#d8576b"
             ],
             [
              0.6666666666666666,
              "#ed7953"
             ],
             [
              0.7777777777777778,
              "#fb9f3a"
             ],
             [
              0.8888888888888888,
              "#fdca26"
             ],
             [
              1,
              "#f0f921"
             ]
            ],
            "type": "heatmap"
           }
          ],
          "heatmapgl": [
           {
            "colorbar": {
             "outlinewidth": 0,
             "ticks": ""
            },
            "colorscale": [
             [
              0,
              "#0d0887"
             ],
             [
              0.1111111111111111,
              "#46039f"
             ],
             [
              0.2222222222222222,
              "#7201a8"
             ],
             [
              0.3333333333333333,
              "#9c179e"
             ],
             [
              0.4444444444444444,
              "#bd3786"
             ],
             [
              0.5555555555555556,
              "#d8576b"
             ],
             [
              0.6666666666666666,
              "#ed7953"
             ],
             [
              0.7777777777777778,
              "#fb9f3a"
             ],
             [
              0.8888888888888888,
              "#fdca26"
             ],
             [
              1,
              "#f0f921"
             ]
            ],
            "type": "heatmapgl"
           }
          ],
          "histogram": [
           {
            "marker": {
             "pattern": {
              "fillmode": "overlay",
              "size": 10,
              "solidity": 0.2
             }
            },
            "type": "histogram"
           }
          ],
          "histogram2d": [
           {
            "colorbar": {
             "outlinewidth": 0,
             "ticks": ""
            },
            "colorscale": [
             [
              0,
              "#0d0887"
             ],
             [
              0.1111111111111111,
              "#46039f"
             ],
             [
              0.2222222222222222,
              "#7201a8"
             ],
             [
              0.3333333333333333,
              "#9c179e"
             ],
             [
              0.4444444444444444,
              "#bd3786"
             ],
             [
              0.5555555555555556,
              "#d8576b"
             ],
             [
              0.6666666666666666,
              "#ed7953"
             ],
             [
              0.7777777777777778,
              "#fb9f3a"
             ],
             [
              0.8888888888888888,
              "#fdca26"
             ],
             [
              1,
              "#f0f921"
             ]
            ],
            "type": "histogram2d"
           }
          ],
          "histogram2dcontour": [
           {
            "colorbar": {
             "outlinewidth": 0,
             "ticks": ""
            },
            "colorscale": [
             [
              0,
              "#0d0887"
             ],
             [
              0.1111111111111111,
              "#46039f"
             ],
             [
              0.2222222222222222,
              "#7201a8"
             ],
             [
              0.3333333333333333,
              "#9c179e"
             ],
             [
              0.4444444444444444,
              "#bd3786"
             ],
             [
              0.5555555555555556,
              "#d8576b"
             ],
             [
              0.6666666666666666,
              "#ed7953"
             ],
             [
              0.7777777777777778,
              "#fb9f3a"
             ],
             [
              0.8888888888888888,
              "#fdca26"
             ],
             [
              1,
              "#f0f921"
             ]
            ],
            "type": "histogram2dcontour"
           }
          ],
          "mesh3d": [
           {
            "colorbar": {
             "outlinewidth": 0,
             "ticks": ""
            },
            "type": "mesh3d"
           }
          ],
          "parcoords": [
           {
            "line": {
             "colorbar": {
              "outlinewidth": 0,
              "ticks": ""
             }
            },
            "type": "parcoords"
           }
          ],
          "pie": [
           {
            "automargin": true,
            "type": "pie"
           }
          ],
          "scatter": [
           {
            "fillpattern": {
             "fillmode": "overlay",
             "size": 10,
             "solidity": 0.2
            },
            "type": "scatter"
           }
          ],
          "scatter3d": [
           {
            "line": {
             "colorbar": {
              "outlinewidth": 0,
              "ticks": ""
             }
            },
            "marker": {
             "colorbar": {
              "outlinewidth": 0,
              "ticks": ""
             }
            },
            "type": "scatter3d"
           }
          ],
          "scattercarpet": [
           {
            "marker": {
             "colorbar": {
              "outlinewidth": 0,
              "ticks": ""
             }
            },
            "type": "scattercarpet"
           }
          ],
          "scattergeo": [
           {
            "marker": {
             "colorbar": {
              "outlinewidth": 0,
              "ticks": ""
             }
            },
            "type": "scattergeo"
           }
          ],
          "scattergl": [
           {
            "marker": {
             "colorbar": {
              "outlinewidth": 0,
              "ticks": ""
             }
            },
            "type": "scattergl"
           }
          ],
          "scattermapbox": [
           {
            "marker": {
             "colorbar": {
              "outlinewidth": 0,
              "ticks": ""
             }
            },
            "type": "scattermapbox"
           }
          ],
          "scatterpolar": [
           {
            "marker": {
             "colorbar": {
              "outlinewidth": 0,
              "ticks": ""
             }
            },
            "type": "scatterpolar"
           }
          ],
          "scatterpolargl": [
           {
            "marker": {
             "colorbar": {
              "outlinewidth": 0,
              "ticks": ""
             }
            },
            "type": "scatterpolargl"
           }
          ],
          "scatterternary": [
           {
            "marker": {
             "colorbar": {
              "outlinewidth": 0,
              "ticks": ""
             }
            },
            "type": "scatterternary"
           }
          ],
          "surface": [
           {
            "colorbar": {
             "outlinewidth": 0,
             "ticks": ""
            },
            "colorscale": [
             [
              0,
              "#0d0887"
             ],
             [
              0.1111111111111111,
              "#46039f"
             ],
             [
              0.2222222222222222,
              "#7201a8"
             ],
             [
              0.3333333333333333,
              "#9c179e"
             ],
             [
              0.4444444444444444,
              "#bd3786"
             ],
             [
              0.5555555555555556,
              "#d8576b"
             ],
             [
              0.6666666666666666,
              "#ed7953"
             ],
             [
              0.7777777777777778,
              "#fb9f3a"
             ],
             [
              0.8888888888888888,
              "#fdca26"
             ],
             [
              1,
              "#f0f921"
             ]
            ],
            "type": "surface"
           }
          ],
          "table": [
           {
            "cells": {
             "fill": {
              "color": "#EBF0F8"
             },
             "line": {
              "color": "white"
             }
            },
            "header": {
             "fill": {
              "color": "#C8D4E3"
             },
             "line": {
              "color": "white"
             }
            },
            "type": "table"
           }
          ]
         },
         "layout": {
          "annotationdefaults": {
           "arrowcolor": "#2a3f5f",
           "arrowhead": 0,
           "arrowwidth": 1
          },
          "autotypenumbers": "strict",
          "coloraxis": {
           "colorbar": {
            "outlinewidth": 0,
            "ticks": ""
           }
          },
          "colorscale": {
           "diverging": [
            [
             0,
             "#8e0152"
            ],
            [
             0.1,
             "#c51b7d"
            ],
            [
             0.2,
             "#de77ae"
            ],
            [
             0.3,
             "#f1b6da"
            ],
            [
             0.4,
             "#fde0ef"
            ],
            [
             0.5,
             "#f7f7f7"
            ],
            [
             0.6,
             "#e6f5d0"
            ],
            [
             0.7,
             "#b8e186"
            ],
            [
             0.8,
             "#7fbc41"
            ],
            [
             0.9,
             "#4d9221"
            ],
            [
             1,
             "#276419"
            ]
           ],
           "sequential": [
            [
             0,
             "#0d0887"
            ],
            [
             0.1111111111111111,
             "#46039f"
            ],
            [
             0.2222222222222222,
             "#7201a8"
            ],
            [
             0.3333333333333333,
             "#9c179e"
            ],
            [
             0.4444444444444444,
             "#bd3786"
            ],
            [
             0.5555555555555556,
             "#d8576b"
            ],
            [
             0.6666666666666666,
             "#ed7953"
            ],
            [
             0.7777777777777778,
             "#fb9f3a"
            ],
            [
             0.8888888888888888,
             "#fdca26"
            ],
            [
             1,
             "#f0f921"
            ]
           ],
           "sequentialminus": [
            [
             0,
             "#0d0887"
            ],
            [
             0.1111111111111111,
             "#46039f"
            ],
            [
             0.2222222222222222,
             "#7201a8"
            ],
            [
             0.3333333333333333,
             "#9c179e"
            ],
            [
             0.4444444444444444,
             "#bd3786"
            ],
            [
             0.5555555555555556,
             "#d8576b"
            ],
            [
             0.6666666666666666,
             "#ed7953"
            ],
            [
             0.7777777777777778,
             "#fb9f3a"
            ],
            [
             0.8888888888888888,
             "#fdca26"
            ],
            [
             1,
             "#f0f921"
            ]
           ]
          },
          "colorway": [
           "#636efa",
           "#EF553B",
           "#00cc96",
           "#ab63fa",
           "#FFA15A",
           "#19d3f3",
           "#FF6692",
           "#B6E880",
           "#FF97FF",
           "#FECB52"
          ],
          "font": {
           "color": "#2a3f5f"
          },
          "geo": {
           "bgcolor": "white",
           "lakecolor": "white",
           "landcolor": "#E5ECF6",
           "showlakes": true,
           "showland": true,
           "subunitcolor": "white"
          },
          "hoverlabel": {
           "align": "left"
          },
          "hovermode": "closest",
          "mapbox": {
           "style": "light"
          },
          "paper_bgcolor": "white",
          "plot_bgcolor": "#E5ECF6",
          "polar": {
           "angularaxis": {
            "gridcolor": "white",
            "linecolor": "white",
            "ticks": ""
           },
           "bgcolor": "#E5ECF6",
           "radialaxis": {
            "gridcolor": "white",
            "linecolor": "white",
            "ticks": ""
           }
          },
          "scene": {
           "xaxis": {
            "backgroundcolor": "#E5ECF6",
            "gridcolor": "white",
            "gridwidth": 2,
            "linecolor": "white",
            "showbackground": true,
            "ticks": "",
            "zerolinecolor": "white"
           },
           "yaxis": {
            "backgroundcolor": "#E5ECF6",
            "gridcolor": "white",
            "gridwidth": 2,
            "linecolor": "white",
            "showbackground": true,
            "ticks": "",
            "zerolinecolor": "white"
           },
           "zaxis": {
            "backgroundcolor": "#E5ECF6",
            "gridcolor": "white",
            "gridwidth": 2,
            "linecolor": "white",
            "showbackground": true,
            "ticks": "",
            "zerolinecolor": "white"
           }
          },
          "shapedefaults": {
           "line": {
            "color": "#2a3f5f"
           }
          },
          "ternary": {
           "aaxis": {
            "gridcolor": "white",
            "linecolor": "white",
            "ticks": ""
           },
           "baxis": {
            "gridcolor": "white",
            "linecolor": "white",
            "ticks": ""
           },
           "bgcolor": "#E5ECF6",
           "caxis": {
            "gridcolor": "white",
            "linecolor": "white",
            "ticks": ""
           }
          },
          "title": {
           "x": 0.05
          },
          "xaxis": {
           "automargin": true,
           "gridcolor": "white",
           "linecolor": "white",
           "ticks": "",
           "title": {
            "standoff": 15
           },
           "zerolinecolor": "white",
           "zerolinewidth": 2
          },
          "yaxis": {
           "automargin": true,
           "gridcolor": "white",
           "linecolor": "white",
           "ticks": "",
           "title": {
            "standoff": 15
           },
           "zerolinecolor": "white",
           "zerolinewidth": 2
          }
         }
        },
        "xaxis": {
         "anchor": "y",
         "autorange": true,
         "categoryarray": [
          "Strongly oppose",
          "Somewhat oppose",
          "Somewhat favor",
          "Strongly favor"
         ],
         "categoryorder": "array",
         "domain": [
          0,
          1
         ],
         "range": [
          -0.5,
          3.5
         ],
         "title": {
          "text": "FAVOR OR OPPOSE EXPANDING NUCLEAR PLANTS"
         },
         "type": "category"
        },
        "yaxis": {
         "anchor": "x",
         "autorange": true,
         "domain": [
          0,
          1
         ],
         "range": [
          0,
          171.57894736842104
         ],
         "title": {
          "text": "NUMBER OF RESPONSES"
         }
        }
       }
      },
      "image/png": "[encoded data removed]",
      "text/html": [
       "<div>                            <div id=\"d32d863d-d3d5-48af-aa0a-c1521e786b9b\" class=\"plotly-graph-div\" style=\"height:525px; width:100%;\"></div>            <script type=\"text/javascript\">                require([\"plotly\"], function(Plotly) {                    window.PLOTLYENV=window.PLOTLYENV || {};                                    if (document.getElementById(\"d32d863d-d3d5-48af-aa0a-c1521e786b9b\")) {                    Plotly.newPlot(                        \"d32d863d-d3d5-48af-aa0a-c1521e786b9b\",                        [{\"alignmentgroup\":\"True\",\"bingroup\":\"x\",\"hovertemplate\":\"hAge2=Gen Z (<26)<br>Q10=%{x}<br>count=%{y}<extra></extra>\",\"legendgroup\":\"Gen Z (<26)\",\"marker\":{\"color\":\"#636efa\",\"pattern\":{\"shape\":\"\"}},\"name\":\"Gen Z (<26)\",\"offsetgroup\":\"Gen Z (<26)\",\"orientation\":\"v\",\"showlegend\":true,\"x\":[\"Somewhat favor\",\"Somewhat favor\",\"Somewhat favor\",\"Somewhat favor\",\"Somewhat favor\",\"Strongly favor\",\"Strongly favor\",\"Somewhat favor\",\"Strongly favor\",\"Somewhat favor\",\"Strongly favor\",\"Somewhat oppose\",\"Somewhat favor\",\"Somewhat favor\",\"Somewhat favor\",\"Somewhat favor\",\"Strongly favor\",\"Somewhat favor\",\"Strongly favor\",\"Somewhat favor\",\"Strongly favor\",\"Somewhat favor\",\"Somewhat favor\",\"Strongly favor\",\"Strongly oppose\",\"Strongly favor\",\"Somewhat favor\",\"Strongly oppose\",\"Strongly favor\",\"Strongly favor\",\"Somewhat favor\",\"Somewhat favor\",\"Somewhat favor\",\"Somewhat favor\",\"Somewhat favor\",\"Somewhat oppose\",\"Somewhat oppose\",\"Strongly favor\",\"Somewhat favor\",\"Strongly favor\",\"Strongly favor\",\"Somewhat oppose\",\"Strongly favor\",\"Somewhat oppose\",\"Strongly favor\",\"Somewhat favor\",\"Somewhat favor\",\"Somewhat favor\",\"Somewhat favor\",\"Somewhat oppose\",\"Somewhat oppose\",\"Somewhat oppose\",\"Strongly favor\",\"Strongly favor\",\"Strongly oppose\",\"Somewhat favor\",\"Somewhat oppose\",\"Somewhat favor\",\"Strongly favor\",\"Somewhat favor\",\"Somewhat favor\",\"Strongly favor\",\"Strongly favor\",\"Somewhat favor\",\"Strongly favor\",\"Strongly favor\",\"Strongly favor\",\"Somewhat favor\",\"Somewhat favor\",\"Somewhat favor\",\"Strongly favor\",\"Strongly favor\",\"Somewhat oppose\",\"Somewhat oppose\",\"Somewhat favor\",\"Strongly oppose\",\"Somewhat oppose\",\"Strongly favor\",\"Somewhat favor\",\"Somewhat favor\",\"Strongly favor\",\"Strongly favor\",\"Somewhat oppose\",\"Somewhat favor\",\"Somewhat favor\",\"Somewhat favor\",\"Somewhat oppose\",\"Somewhat favor\",\"Somewhat favor\",\"Somewhat oppose\",\"Strongly favor\"],\"xaxis\":\"x\",\"yaxis\":\"y\",\"type\":\"histogram\"},{\"alignmentgroup\":\"True\",\"bingroup\":\"x\",\"hovertemplate\":\"hAge2=Millennial (26-41)<br>Q10=%{x}<br>count=%{y}<extra></extra>\",\"legendgroup\":\"Millennial (26-41)\",\"marker\":{\"color\":\"#EF553B\",\"pattern\":{\"shape\":\"\"}},\"name\":\"Millennial (26-41)\",\"offsetgroup\":\"Millennial (26-41)\",\"orientation\":\"v\",\"showlegend\":true,\"x\":[\"Somewhat favor\",\"Somewhat oppose\",\"Strongly favor\",\"Strongly favor\",\"Somewhat favor\",\"Somewhat favor\",\"Somewhat favor\",\"Somewhat favor\",\"Somewhat favor\",\"Somewhat oppose\",\"Strongly favor\",\"Strongly favor\",\"Somewhat favor\",\"Somewhat favor\",\"Somewhat favor\",\"Strongly favor\",\"Somewhat favor\",\"Strongly favor\",\"Strongly favor\",\"Strongly favor\",\"Somewhat favor\",\"Somewhat favor\",\"Strongly favor\",\"Somewhat favor\",\"Strongly oppose\",\"Strongly oppose\",\"Somewhat favor\",\"Somewhat favor\",\"Strongly favor\",\"Somewhat oppose\",\"Somewhat favor\",\"Strongly favor\",\"Somewhat favor\",\"Somewhat favor\",\"Somewhat favor\",\"Strongly favor\",\"Somewhat oppose\",\"Strongly favor\",\"Somewhat oppose\",\"Somewhat oppose\",\"Somewhat oppose\",\"Somewhat oppose\",\"Strongly favor\",\"Somewhat favor\",\"Somewhat favor\",\"Strongly favor\",\"Strongly favor\",\"Strongly favor\",\"Strongly oppose\",\"Somewhat oppose\",\"Somewhat oppose\",\"Somewhat oppose\",\"Somewhat favor\",\"Strongly favor\",\"Strongly favor\",\"Somewhat favor\",\"Strongly favor\",\"Somewhat favor\",\"Strongly favor\",\"Somewhat oppose\",\"Somewhat favor\",\"Somewhat oppose\",\"Somewhat favor\",\"Somewhat oppose\",\"Strongly favor\",\"Somewhat favor\",\"Somewhat favor\",\"Strongly favor\",\"Somewhat oppose\",\"Strongly favor\",\"Strongly favor\",\"Strongly favor\",\"Strongly favor\",\"Strongly favor\",\"Strongly favor\",\"Somewhat favor\",\"Somewhat oppose\",\"Somewhat favor\",\"Somewhat favor\",\"Somewhat favor\",\"Somewhat favor\",\"Somewhat favor\",\"Somewhat favor\",\"Somewhat favor\",\"Somewhat oppose\",\"Strongly favor\",\"Somewhat oppose\",\"Somewhat favor\",\"Strongly oppose\",\"Strongly favor\",\"Strongly oppose\",\"Strongly oppose\",\"Somewhat oppose\",\"Strongly favor\",\"Strongly favor\",\"Somewhat oppose\",\"Somewhat favor\",\"Strongly favor\",\"Somewhat favor\",\"Somewhat oppose\",\"Somewhat favor\",\"Strongly favor\",\"Somewhat oppose\",\"Strongly favor\",\"Somewhat favor\",\"Strongly favor\",\"Strongly favor\",\"Strongly favor\",\"Somewhat favor\",\"Somewhat favor\",\"Somewhat oppose\",\"Strongly favor\",\"Strongly favor\",\"Strongly favor\",\"Somewhat oppose\",\"Strongly favor\",\"Somewhat favor\",\"Somewhat favor\",\"Strongly favor\",\"Somewhat oppose\",\"Somewhat favor\",\"Strongly favor\",\"Strongly favor\",\"Strongly favor\",\"Somewhat favor\",\"Strongly favor\",\"Somewhat favor\",\"Strongly oppose\",\"Somewhat favor\",\"Somewhat favor\",\"Strongly favor\",\"Somewhat favor\",\"Somewhat favor\",\"Somewhat favor\",\"Strongly favor\",\"Somewhat favor\",\"Somewhat favor\",\"Somewhat favor\",\"Strongly favor\",\"Somewhat favor\",\"Strongly favor\",\"Strongly favor\",\"Strongly favor\",\"Somewhat favor\",\"Strongly favor\",\"Somewhat favor\",\"Strongly favor\",\"Strongly favor\",\"Somewhat favor\",\"Somewhat favor\",\"Somewhat favor\",\"Somewhat favor\",\"Strongly favor\",\"Strongly favor\",\"Somewhat favor\",\"Somewhat favor\",\"Strongly favor\",\"Strongly favor\",\"Strongly favor\",\"Strongly favor\",\"Somewhat favor\",\"Strongly favor\",\"Somewhat favor\",\"Strongly favor\",\"Somewhat oppose\",\"Somewhat favor\",\"Strongly favor\",\"Somewhat favor\",\"Strongly favor\",\"Somewhat favor\",\"Somewhat favor\",\"Somewhat favor\",\"Somewhat favor\",\"Somewhat favor\",\"Somewhat favor\",\"Strongly favor\",\"Somewhat favor\",\"Somewhat oppose\",\"Strongly favor\",\"Somewhat oppose\",\"Somewhat oppose\",\"Somewhat oppose\",\"Somewhat oppose\",\"Strongly favor\",\"Strongly favor\",\"Strongly oppose\",\"Strongly oppose\",\"Somewhat favor\",\"Somewhat favor\",\"Somewhat favor\",\"Somewhat favor\",\"Somewhat oppose\",\"Somewhat favor\",\"Strongly favor\",\"Somewhat favor\",\"Somewhat favor\",\"Strongly oppose\",\"Somewhat favor\",\"Somewhat favor\",\"Somewhat favor\",\"Somewhat favor\",\"Somewhat favor\",\"Strongly favor\",\"Strongly oppose\",\"Somewhat favor\",\"Somewhat oppose\",\"Somewhat oppose\",\"Somewhat favor\",\"Somewhat favor\",\"Strongly favor\",\"Somewhat favor\",\"Somewhat favor\",\"Somewhat favor\",\"Strongly oppose\",\"Somewhat favor\",\"Somewhat favor\",\"Somewhat oppose\",\"Strongly favor\",\"Somewhat favor\",\"Strongly oppose\",\"Somewhat favor\",\"Somewhat favor\",\"Somewhat favor\",\"Somewhat favor\",\"Strongly favor\",\"Somewhat favor\",\"Strongly favor\",\"Somewhat favor\",\"Somewhat oppose\",\"Strongly favor\",\"Somewhat oppose\",\"Somewhat favor\",\"Somewhat favor\",\"Somewhat favor\",\"Strongly favor\",\"Somewhat favor\",\"Strongly oppose\",\"Somewhat favor\",\"Somewhat oppose\",\"Somewhat favor\",\"Somewhat favor\",\"Somewhat favor\",\"Strongly favor\",\"Somewhat favor\",\"Somewhat favor\",\"Somewhat favor\",\"Somewhat favor\",\"Somewhat favor\",\"Somewhat favor\",\"Strongly favor\",\"Somewhat favor\",\"Somewhat favor\",\"Somewhat oppose\",\"Strongly favor\",\"Strongly favor\",\"Somewhat favor\",\"Strongly favor\",\"Strongly favor\",\"Strongly favor\",\"Strongly favor\",\"Somewhat favor\",\"Somewhat favor\",\"Somewhat favor\",\"Somewhat favor\",\"Strongly favor\",\"Somewhat favor\",\"Strongly oppose\",\"Strongly favor\",\"Somewhat favor\",\"Somewhat favor\",\"Somewhat oppose\",\"Strongly favor\",\"Somewhat oppose\",\"Somewhat favor\",\"Somewhat oppose\",\"Strongly oppose\",\"Somewhat oppose\",\"Somewhat favor\",\"Somewhat favor\",\"Somewhat oppose\",\"Somewhat favor\",\"Somewhat favor\",\"Strongly favor\",\"Somewhat favor\",\"Somewhat favor\",\"Somewhat favor\",\"Somewhat favor\",\"Somewhat favor\",\"Somewhat oppose\",\"Somewhat favor\",\"Strongly oppose\",\"Somewhat favor\",\"Strongly favor\",\"Strongly favor\",\"Strongly oppose\",\"Somewhat favor\",\"Somewhat favor\",\"Somewhat favor\",\"Strongly oppose\",\"Strongly favor\",\"Somewhat favor\",\"Strongly favor\",\"Somewhat favor\",\"Somewhat favor\",\"Strongly favor\",\"Somewhat oppose\",\"Somewhat oppose\",\"Somewhat favor\",\"Somewhat favor\",\"Somewhat oppose\",\"Somewhat favor\",\"Somewhat favor\",\"Somewhat oppose\",\"Strongly favor\",\"Somewhat oppose\",\"Somewhat favor\",\"Strongly favor\",\"Strongly favor\",\"Strongly favor\",\"Strongly favor\",\"Somewhat favor\",\"Strongly favor\",\"Somewhat favor\",\"Strongly favor\",\"Strongly favor\",\"Strongly oppose\",\"Somewhat favor\",\"Somewhat favor\",\"Somewhat favor\",\"Strongly favor\",\"Strongly favor\",\"Somewhat oppose\",\"Strongly favor\",\"Strongly oppose\",\"Somewhat favor\",\"Strongly favor\",\"Strongly favor\",\"Strongly favor\",\"Somewhat favor\",\"Somewhat favor\",\"Strongly favor\",\"Somewhat oppose\",\"Somewhat favor\",\"Somewhat favor\",\"Somewhat favor\",\"Somewhat favor\",\"Somewhat favor\",\"Somewhat oppose\"],\"xaxis\":\"x\",\"yaxis\":\"y\",\"type\":\"histogram\"},{\"alignmentgroup\":\"True\",\"bingroup\":\"x\",\"hovertemplate\":\"hAge2=Gen X (42-57)<br>Q10=%{x}<br>count=%{y}<extra></extra>\",\"legendgroup\":\"Gen X (42-57)\",\"marker\":{\"color\":\"#00cc96\",\"pattern\":{\"shape\":\"\"}},\"name\":\"Gen X (42-57)\",\"offsetgroup\":\"Gen X (42-57)\",\"orientation\":\"v\",\"showlegend\":true,\"x\":[\"Somewhat favor\",\"Somewhat favor\",\"Strongly favor\",\"Somewhat favor\",\"Somewhat favor\",\"Strongly oppose\",\"Somewhat oppose\",\"Somewhat favor\",\"Somewhat favor\",\"Somewhat oppose\",\"Somewhat favor\",\"Somewhat oppose\",\"Strongly oppose\",\"Strongly favor\",\"Somewhat favor\",\"Somewhat favor\",\"Somewhat favor\",\"Somewhat favor\",\"Strongly favor\",\"Strongly oppose\",\"Strongly favor\",\"Somewhat favor\",\"Somewhat favor\",\"Strongly favor\",\"Somewhat favor\",\"Somewhat oppose\",\"Somewhat favor\",\"Somewhat favor\",\"Somewhat favor\",\"Strongly favor\",\"Strongly favor\",\"Somewhat favor\",\"Somewhat favor\",\"Strongly favor\",\"Strongly favor\",\"Strongly favor\",\"Somewhat oppose\",\"Somewhat favor\",\"Strongly favor\",\"Strongly favor\",\"Somewhat favor\",\"Somewhat favor\",\"Somewhat favor\",\"Strongly oppose\",\"Somewhat favor\",\"Strongly favor\",\"Strongly favor\",\"Somewhat favor\",\"Somewhat favor\",\"Somewhat favor\",\"Somewhat favor\",\"Somewhat favor\",\"Strongly favor\",\"Somewhat oppose\",\"Somewhat oppose\",\"Strongly favor\",\"Somewhat favor\",\"Somewhat favor\",\"Somewhat oppose\",\"Somewhat favor\",\"Somewhat favor\",\"Somewhat favor\",\"Somewhat favor\",\"Somewhat favor\",\"Strongly favor\",\"Somewhat favor\",\"Somewhat favor\",\"Somewhat oppose\",\"Strongly oppose\",\"Somewhat favor\",\"Somewhat favor\",\"Somewhat oppose\",\"Somewhat favor\",\"Somewhat favor\",\"Somewhat favor\",\"Somewhat favor\",\"Strongly oppose\",\"Somewhat oppose\",\"Strongly favor\",\"Somewhat favor\",\"Strongly favor\",\"Strongly favor\",\"Strongly favor\",\"Strongly favor\",\"Strongly favor\",\"Somewhat oppose\",\"Strongly oppose\",\"Strongly favor\",\"Somewhat favor\",\"Somewhat oppose\",\"Somewhat favor\",\"Somewhat oppose\",\"Strongly oppose\",\"Strongly oppose\",\"Somewhat favor\",\"Strongly oppose\",\"Strongly favor\",\"Somewhat favor\",\"Strongly favor\",\"Strongly favor\",\"Somewhat favor\",\"Somewhat favor\",\"Somewhat favor\",\"Strongly favor\",\"Somewhat favor\",\"Strongly favor\",\"Somewhat favor\",\"Strongly favor\",\"Somewhat favor\",\"Somewhat favor\",\"Somewhat favor\",\"Strongly favor\",\"Strongly favor\",\"Strongly favor\",\"Strongly oppose\",\"Strongly favor\",\"Somewhat favor\",\"Somewhat oppose\",\"Somewhat favor\",\"Somewhat favor\",\"Somewhat oppose\",\"Strongly oppose\",\"Somewhat favor\",\"Strongly favor\",\"Strongly favor\",\"Somewhat favor\",\"Somewhat favor\",\"Somewhat favor\",\"Strongly oppose\",\"Strongly favor\",\"Somewhat favor\",\"Somewhat favor\",\"Somewhat favor\",\"Somewhat favor\",\"Strongly favor\",\"Somewhat favor\",\"Strongly favor\",\"Somewhat favor\",\"Somewhat oppose\",\"Somewhat favor\",\"Somewhat favor\",\"Somewhat favor\",\"Somewhat oppose\",\"Somewhat favor\",\"Somewhat oppose\",\"Strongly favor\",\"Strongly oppose\",\"Somewhat favor\",\"Somewhat oppose\",\"Somewhat oppose\",\"Somewhat favor\",\"Somewhat favor\",\"Somewhat favor\",\"Somewhat oppose\",\"Somewhat oppose\",\"Somewhat oppose\",\"Strongly favor\",\"Somewhat favor\",\"Somewhat oppose\",\"Strongly oppose\",\"Strongly favor\",\"Somewhat favor\",\"Somewhat favor\",\"Strongly favor\",\"Somewhat favor\",\"Strongly favor\",\"Strongly favor\",\"Strongly favor\",\"Strongly favor\",\"Somewhat oppose\",\"Strongly favor\",\"Somewhat favor\",\"Somewhat oppose\",\"Somewhat oppose\",\"Somewhat favor\",\"Somewhat oppose\",\"Strongly favor\",\"Strongly favor\",\"Somewhat favor\",\"Strongly favor\",\"Somewhat favor\",\"Strongly oppose\",\"Strongly favor\",\"Somewhat favor\",\"Somewhat oppose\",\"Somewhat oppose\",\"Somewhat favor\",\"Somewhat favor\",\"Somewhat oppose\",\"Somewhat favor\",\"Strongly favor\",\"Somewhat oppose\",\"Somewhat favor\",\"Strongly oppose\",\"Somewhat favor\",\"Somewhat favor\",\"Somewhat favor\",\"Somewhat favor\",\"Strongly favor\",\"Somewhat favor\",\"Strongly favor\",\"Somewhat oppose\",\"Somewhat favor\",\"Somewhat favor\",\"Strongly oppose\",\"Somewhat oppose\",\"Somewhat oppose\",\"Strongly oppose\",\"Somewhat oppose\",\"Somewhat favor\",\"Strongly favor\",\"Strongly favor\",\"Strongly favor\",\"Somewhat favor\",\"Somewhat favor\",\"Somewhat favor\",\"Somewhat favor\",\"Somewhat oppose\",\"Strongly favor\",\"Somewhat oppose\",\"Strongly oppose\",\"Somewhat favor\",\"Strongly favor\",\"Strongly favor\",\"Somewhat favor\",\"Strongly favor\",\"Strongly favor\",\"Somewhat oppose\",\"Strongly favor\",\"Somewhat oppose\",\"Strongly favor\",\"Strongly favor\",\"Somewhat oppose\",\"Strongly favor\",\"Somewhat oppose\",\"Somewhat favor\",\"Somewhat favor\",\"Strongly oppose\",\"Strongly oppose\",\"Somewhat favor\",\"Somewhat favor\",\"Somewhat favor\",\"Strongly favor\",\"Strongly favor\",\"Somewhat oppose\",\"Strongly oppose\",\"Somewhat oppose\",\"Somewhat oppose\",\"Somewhat favor\",\"Somewhat oppose\",\"Somewhat favor\",\"Somewhat oppose\",\"Strongly favor\",\"Somewhat favor\",\"Somewhat oppose\",\"Somewhat favor\",\"Strongly favor\",\"Strongly favor\",\"Strongly favor\",\"Somewhat favor\",\"Somewhat favor\",\"Strongly favor\",\"Strongly favor\",\"Somewhat favor\",\"Strongly favor\",\"Somewhat favor\",\"Somewhat favor\",\"Strongly favor\",\"Strongly oppose\",\"Somewhat favor\",\"Strongly favor\",\"Somewhat favor\",\"Somewhat favor\",\"Strongly favor\",\"Strongly favor\",\"Strongly favor\"],\"xaxis\":\"x\",\"yaxis\":\"y\",\"type\":\"histogram\"},{\"alignmentgroup\":\"True\",\"bingroup\":\"x\",\"hovertemplate\":\"hAge2=Boomers (58-76)<br>Q10=%{x}<br>count=%{y}<extra></extra>\",\"legendgroup\":\"Boomers (58-76)\",\"marker\":{\"color\":\"#ab63fa\",\"pattern\":{\"shape\":\"\"}},\"name\":\"Boomers (58-76)\",\"offsetgroup\":\"Boomers (58-76)\",\"orientation\":\"v\",\"showlegend\":true,\"x\":[\"Strongly favor\",\"Somewhat oppose\",\"Somewhat favor\",\"Strongly favor\",\"Somewhat favor\",\"Somewhat favor\",\"Somewhat oppose\",\"Somewhat oppose\",\"Strongly favor\",\"Somewhat oppose\",\"Strongly oppose\",\"Somewhat oppose\",\"Somewhat favor\",\"Somewhat favor\",\"Somewhat favor\",\"Strongly oppose\",\"Somewhat favor\",\"Strongly oppose\",\"Strongly favor\",\"Somewhat favor\",\"Strongly oppose\",\"Somewhat favor\",\"Somewhat favor\",\"Strongly favor\",\"Strongly favor\",\"Somewhat favor\",\"Somewhat favor\",\"Somewhat favor\",\"Somewhat favor\",\"Somewhat oppose\",\"Somewhat favor\",\"Strongly oppose\",\"Somewhat favor\",\"Somewhat favor\",\"Somewhat oppose\",\"Strongly favor\",\"Somewhat favor\",\"Strongly favor\",\"Strongly oppose\",\"Strongly favor\",\"Somewhat favor\",\"Strongly favor\",\"Strongly favor\",\"Somewhat oppose\",\"Somewhat favor\",\"Somewhat favor\",\"Somewhat favor\",\"Strongly favor\",\"Strongly oppose\",\"Somewhat oppose\",\"Strongly favor\",\"Somewhat favor\",\"Strongly favor\",\"Somewhat oppose\",\"Somewhat favor\",\"Somewhat favor\",\"Somewhat favor\",\"Strongly favor\",\"Strongly favor\",\"Strongly favor\",\"Somewhat favor\",\"Somewhat favor\",\"Somewhat favor\",\"Strongly favor\",\"Strongly oppose\",\"Strongly favor\",\"Somewhat favor\",\"Strongly favor\",\"Strongly favor\",\"Somewhat favor\",\"Somewhat favor\",\"Somewhat oppose\",\"Strongly favor\",\"Somewhat favor\",\"Somewhat favor\",\"Strongly favor\",\"Somewhat favor\",\"Somewhat favor\",\"Strongly favor\",\"Strongly favor\",\"Somewhat favor\",\"Strongly favor\",\"Somewhat favor\",\"Strongly favor\",\"Somewhat favor\",\"Somewhat favor\",\"Somewhat oppose\",\"Somewhat oppose\",\"Strongly favor\",\"Strongly oppose\",\"Strongly favor\",\"Strongly favor\",\"Strongly favor\",\"Somewhat favor\",\"Somewhat favor\",\"Somewhat oppose\",\"Strongly favor\",\"Strongly oppose\",\"Strongly favor\",\"Strongly favor\",\"Strongly favor\",\"Somewhat oppose\",\"Strongly favor\",\"Strongly favor\",\"Somewhat oppose\",\"Somewhat favor\",\"Somewhat favor\",\"Strongly favor\",\"Somewhat favor\",\"Somewhat favor\",\"Somewhat favor\",\"Somewhat oppose\",\"Strongly favor\",\"Strongly favor\",\"Somewhat favor\",\"Strongly favor\",\"Somewhat favor\",\"Strongly favor\",\"Somewhat favor\",\"Somewhat favor\",\"Somewhat favor\",\"Somewhat favor\",\"Somewhat favor\",\"Somewhat favor\",\"Strongly oppose\",\"Strongly oppose\",\"Somewhat oppose\",\"Somewhat oppose\",\"Somewhat oppose\",\"Strongly favor\",\"Somewhat favor\",\"Somewhat favor\",\"Strongly favor\",\"Somewhat favor\",\"Somewhat favor\",\"Strongly favor\",\"Strongly oppose\",\"Somewhat favor\",\"Somewhat oppose\",\"Somewhat favor\",\"Somewhat favor\",\"Strongly oppose\",\"Strongly favor\",\"Somewhat favor\",\"Somewhat oppose\",\"Strongly favor\",\"Somewhat oppose\",\"Somewhat favor\",\"Strongly favor\",\"Strongly favor\",\"Somewhat favor\",\"Strongly favor\",\"Strongly oppose\",\"Strongly favor\",\"Strongly favor\",\"Strongly favor\",\"Strongly favor\",\"Strongly favor\",\"Somewhat oppose\",\"Somewhat favor\",\"Strongly favor\",\"Somewhat favor\",\"Strongly favor\",\"Somewhat oppose\",\"Somewhat favor\",\"Somewhat favor\",\"Strongly favor\",\"Somewhat favor\",\"Somewhat favor\",\"Somewhat oppose\",\"Strongly favor\",\"Somewhat favor\",\"Somewhat favor\",\"Somewhat oppose\",\"Somewhat favor\",\"Strongly oppose\",\"Somewhat favor\",\"Strongly favor\",\"Somewhat favor\",\"Strongly favor\",\"Strongly favor\",\"Strongly favor\",\"Strongly favor\",\"Strongly oppose\",\"Strongly favor\",\"Somewhat oppose\",\"Strongly favor\",\"Strongly favor\",\"Somewhat favor\",\"Somewhat oppose\",\"Strongly favor\",\"Strongly favor\",\"Strongly favor\",\"Strongly favor\",\"Somewhat favor\",\"Somewhat favor\",\"Somewhat favor\",\"Somewhat favor\",\"Strongly favor\",\"Strongly oppose\",\"Somewhat favor\",\"Strongly oppose\",\"Strongly favor\",\"Somewhat oppose\",\"Strongly favor\",\"Strongly oppose\",\"Somewhat favor\",\"Strongly favor\",\"Somewhat oppose\",\"Somewhat oppose\",\"Somewhat favor\",\"Somewhat oppose\",\"Strongly favor\",\"Strongly favor\",\"Somewhat favor\",\"Somewhat favor\",\"Somewhat oppose\",\"Somewhat favor\",\"Strongly favor\",\"Somewhat favor\",\"Somewhat favor\",\"Somewhat favor\",\"Somewhat favor\",\"Strongly favor\",\"Somewhat oppose\",\"Somewhat favor\",\"Strongly favor\",\"Somewhat oppose\",\"Somewhat favor\",\"Strongly favor\",\"Somewhat oppose\",\"Somewhat favor\",\"Somewhat favor\",\"Strongly favor\",\"Somewhat favor\",\"Somewhat favor\",\"Somewhat favor\",\"Strongly favor\",\"Strongly oppose\",\"Somewhat favor\",\"Somewhat favor\",\"Strongly favor\",\"Strongly favor\",\"Somewhat oppose\",\"Somewhat favor\",\"Somewhat oppose\",\"Strongly favor\",\"Somewhat favor\",\"Somewhat favor\",\"Somewhat favor\",\"Strongly favor\",\"Strongly favor\",\"Strongly favor\",\"Strongly favor\",\"Strongly favor\",\"Somewhat oppose\",\"Somewhat favor\",\"Strongly favor\",\"Strongly favor\",\"Somewhat oppose\",\"Strongly favor\",\"Somewhat favor\"],\"xaxis\":\"x\",\"yaxis\":\"y\",\"type\":\"histogram\"},{\"alignmentgroup\":\"True\",\"bingroup\":\"x\",\"hovertemplate\":\"hAge2=Silent generation (>76)<br>Q10=%{x}<br>count=%{y}<extra></extra>\",\"legendgroup\":\"Silent generation (>76)\",\"marker\":{\"color\":\"#FFA15A\",\"pattern\":{\"shape\":\"\"}},\"name\":\"Silent generation (>76)\",\"offsetgroup\":\"Silent generation (>76)\",\"orientation\":\"v\",\"showlegend\":true,\"x\":[\"Strongly favor\",\"Strongly favor\",\"Strongly favor\",\"Strongly favor\",\"Strongly favor\",\"Strongly favor\",\"Somewhat favor\",\"Strongly favor\",\"Somewhat oppose\",\"Somewhat favor\",\"Strongly favor\",\"Strongly favor\",\"Strongly favor\",\"Strongly favor\",\"Somewhat favor\",\"Strongly favor\",\"Strongly oppose\",\"Somewhat favor\",\"Strongly oppose\",\"Strongly favor\",\"Strongly favor\",\"Strongly favor\",\"Strongly favor\"],\"xaxis\":\"x\",\"yaxis\":\"y\",\"type\":\"histogram\"}],                        {\"template\":{\"data\":{\"histogram2dcontour\":[{\"type\":\"histogram2dcontour\",\"colorbar\":{\"outlinewidth\":0,\"ticks\":\"\"},\"colorscale\":[[0.0,\"#0d0887\"],[0.1111111111111111,\"#46039f\"],[0.2222222222222222,\"#7201a8\"],[0.3333333333333333,\"#9c179e\"],[0.4444444444444444,\"#bd3786\"],[0.5555555555555556,\"#d8576b\"],[0.6666666666666666,\"#ed7953\"],[0.7777777777777778,\"#fb9f3a\"],[0.8888888888888888,\"#fdca26\"],[1.0,\"#f0f921\"]]}],\"choropleth\":[{\"type\":\"choropleth\",\"colorbar\":{\"outlinewidth\":0,\"ticks\":\"\"}}],\"histogram2d\":[{\"type\":\"histogram2d\",\"colorbar\":{\"outlinewidth\":0,\"ticks\":\"\"},\"colorscale\":[[0.0,\"#0d0887\"],[0.1111111111111111,\"#46039f\"],[0.2222222222222222,\"#7201a8\"],[0.3333333333333333,\"#9c179e\"],[0.4444444444444444,\"#bd3786\"],[0.5555555555555556,\"#d8576b\"],[0.6666666666666666,\"#ed7953\"],[0.7777777777777778,\"#fb9f3a\"],[0.8888888888888888,\"#fdca26\"],[1.0,\"#f0f921\"]]}],\"heatmap\":[{\"type\":\"heatmap\",\"colorbar\":{\"outlinewidth\":0,\"ticks\":\"\"},\"colorscale\":[[0.0,\"#0d0887\"],[0.1111111111111111,\"#46039f\"],[0.2222222222222222,\"#7201a8\"],[0.3333333333333333,\"#9c179e\"],[0.4444444444444444,\"#bd3786\"],[0.5555555555555556,\"#d8576b\"],[0.6666666666666666,\"#ed7953\"],[0.7777777777777778,\"#fb9f3a\"],[0.8888888888888888,\"#fdca26\"],[1.0,\"#f0f921\"]]}],\"heatmapgl\":[{\"type\":\"heatmapgl\",\"colorbar\":{\"outlinewidth\":0,\"ticks\":\"\"},\"colorscale\":[[0.0,\"#0d0887\"],[0.1111111111111111,\"#46039f\"],[0.2222222222222222,\"#7201a8\"],[0.3333333333333333,\"#9c179e\"],[0.4444444444444444,\"#bd3786\"],[0.5555555555555556,\"#d8576b\"],[0.6666666666666666,\"#ed7953\"],[0.7777777777777778,\"#fb9f3a\"],[0.8888888888888888,\"#fdca26\"],[1.0,\"#f0f921\"]]}],\"contourcarpet\":[{\"type\":\"contourcarpet\",\"colorbar\":{\"outlinewidth\":0,\"ticks\":\"\"}}],\"contour\":[{\"type\":\"contour\",\"colorbar\":{\"outlinewidth\":0,\"ticks\":\"\"},\"colorscale\":[[0.0,\"#0d0887\"],[0.1111111111111111,\"#46039f\"],[0.2222222222222222,\"#7201a8\"],[0.3333333333333333,\"#9c179e\"],[0.4444444444444444,\"#bd3786\"],[0.5555555555555556,\"#d8576b\"],[0.6666666666666666,\"#ed7953\"],[0.7777777777777778,\"#fb9f3a\"],[0.8888888888888888,\"#fdca26\"],[1.0,\"#f0f921\"]]}],\"surface\":[{\"type\":\"surface\",\"colorbar\":{\"outlinewidth\":0,\"ticks\":\"\"},\"colorscale\":[[0.0,\"#0d0887\"],[0.1111111111111111,\"#46039f\"],[0.2222222222222222,\"#7201a8\"],[0.3333333333333333,\"#9c179e\"],[0.4444444444444444,\"#bd3786\"],[0.5555555555555556,\"#d8576b\"],[0.6666666666666666,\"#ed7953\"],[0.7777777777777778,\"#fb9f3a\"],[0.8888888888888888,\"#fdca26\"],[1.0,\"#f0f921\"]]}],\"mesh3d\":[{\"type\":\"mesh3d\",\"colorbar\":{\"outlinewidth\":0,\"ticks\":\"\"}}],\"scatter\":[{\"fillpattern\":{\"fillmode\":\"overlay\",\"size\":10,\"solidity\":0.2},\"type\":\"scatter\"}],\"parcoords\":[{\"type\":\"parcoords\",\"line\":{\"colorbar\":{\"outlinewidth\":0,\"ticks\":\"\"}}}],\"scatterpolargl\":[{\"type\":\"scatterpolargl\",\"marker\":{\"colorbar\":{\"outlinewidth\":0,\"ticks\":\"\"}}}],\"bar\":[{\"error_x\":{\"color\":\"#2a3f5f\"},\"error_y\":{\"color\":\"#2a3f5f\"},\"marker\":{\"line\":{\"color\":\"#E5ECF6\",\"width\":0.5},\"pattern\":{\"fillmode\":\"overlay\",\"size\":10,\"solidity\":0.2}},\"type\":\"bar\"}],\"scattergeo\":[{\"type\":\"scattergeo\",\"marker\":{\"colorbar\":{\"outlinewidth\":0,\"ticks\":\"\"}}}],\"scatterpolar\":[{\"type\":\"scatterpolar\",\"marker\":{\"colorbar\":{\"outlinewidth\":0,\"ticks\":\"\"}}}],\"histogram\":[{\"marker\":{\"pattern\":{\"fillmode\":\"overlay\",\"size\":10,\"solidity\":0.2}},\"type\":\"histogram\"}],\"scattergl\":[{\"type\":\"scattergl\",\"marker\":{\"colorbar\":{\"outlinewidth\":0,\"ticks\":\"\"}}}],\"scatter3d\":[{\"type\":\"scatter3d\",\"line\":{\"colorbar\":{\"outlinewidth\":0,\"ticks\":\"\"}},\"marker\":{\"colorbar\":{\"outlinewidth\":0,\"ticks\":\"\"}}}],\"scattermapbox\":[{\"type\":\"scattermapbox\",\"marker\":{\"colorbar\":{\"outlinewidth\":0,\"ticks\":\"\"}}}],\"scatterternary\":[{\"type\":\"scatterternary\",\"marker\":{\"colorbar\":{\"outlinewidth\":0,\"ticks\":\"\"}}}],\"scattercarpet\":[{\"type\":\"scattercarpet\",\"marker\":{\"colorbar\":{\"outlinewidth\":0,\"ticks\":\"\"}}}],\"carpet\":[{\"aaxis\":{\"endlinecolor\":\"#2a3f5f\",\"gridcolor\":\"white\",\"linecolor\":\"white\",\"minorgridcolor\":\"white\",\"startlinecolor\":\"#2a3f5f\"},\"baxis\":{\"endlinecolor\":\"#2a3f5f\",\"gridcolor\":\"white\",\"linecolor\":\"white\",\"minorgridcolor\":\"white\",\"startlinecolor\":\"#2a3f5f\"},\"type\":\"carpet\"}],\"table\":[{\"cells\":{\"fill\":{\"color\":\"#EBF0F8\"},\"line\":{\"color\":\"white\"}},\"header\":{\"fill\":{\"color\":\"#C8D4E3\"},\"line\":{\"color\":\"white\"}},\"type\":\"table\"}],\"barpolar\":[{\"marker\":{\"line\":{\"color\":\"#E5ECF6\",\"width\":0.5},\"pattern\":{\"fillmode\":\"overlay\",\"size\":10,\"solidity\":0.2}},\"type\":\"barpolar\"}],\"pie\":[{\"automargin\":true,\"type\":\"pie\"}]},\"layout\":{\"autotypenumbers\":\"strict\",\"colorway\":[\"#636efa\",\"#EF553B\",\"#00cc96\",\"#ab63fa\",\"#FFA15A\",\"#19d3f3\",\"#FF6692\",\"#B6E880\",\"#FF97FF\",\"#FECB52\"],\"font\":{\"color\":\"#2a3f5f\"},\"hovermode\":\"closest\",\"hoverlabel\":{\"align\":\"left\"},\"paper_bgcolor\":\"white\",\"plot_bgcolor\":\"#E5ECF6\",\"polar\":{\"bgcolor\":\"#E5ECF6\",\"angularaxis\":{\"gridcolor\":\"white\",\"linecolor\":\"white\",\"ticks\":\"\"},\"radialaxis\":{\"gridcolor\":\"white\",\"linecolor\":\"white\",\"ticks\":\"\"}},\"ternary\":{\"bgcolor\":\"#E5ECF6\",\"aaxis\":{\"gridcolor\":\"white\",\"linecolor\":\"white\",\"ticks\":\"\"},\"baxis\":{\"gridcolor\":\"white\",\"linecolor\":\"white\",\"ticks\":\"\"},\"caxis\":{\"gridcolor\":\"white\",\"linecolor\":\"white\",\"ticks\":\"\"}},\"coloraxis\":{\"colorbar\":{\"outlinewidth\":0,\"ticks\":\"\"}},\"colorscale\":{\"sequential\":[[0.0,\"#0d0887\"],[0.1111111111111111,\"#46039f\"],[0.2222222222222222,\"#7201a8\"],[0.3333333333333333,\"#9c179e\"],[0.4444444444444444,\"#bd3786\"],[0.5555555555555556,\"#d8576b\"],[0.6666666666666666,\"#ed7953\"],[0.7777777777777778,\"#fb9f3a\"],[0.8888888888888888,\"#fdca26\"],[1.0,\"#f0f921\"]],\"sequentialminus\":[[0.0,\"#0d0887\"],[0.1111111111111111,\"#46039f\"],[0.2222222222222222,\"#7201a8\"],[0.3333333333333333,\"#9c179e\"],[0.4444444444444444,\"#bd3786\"],[0.5555555555555556,\"#d8576b\"],[0.6666666666666666,\"#ed7953\"],[0.7777777777777778,\"#fb9f3a\"],[0.8888888888888888,\"#fdca26\"],[1.0,\"#f0f921\"]],\"diverging\":[[0,\"#8e0152\"],[0.1,\"#c51b7d\"],[0.2,\"#de77ae\"],[0.3,\"#f1b6da\"],[0.4,\"#fde0ef\"],[0.5,\"#f7f7f7\"],[0.6,\"#e6f5d0\"],[0.7,\"#b8e186\"],[0.8,\"#7fbc41\"],[0.9,\"#4d9221\"],[1,\"#276419\"]]},\"xaxis\":{\"gridcolor\":\"white\",\"linecolor\":\"white\",\"ticks\":\"\",\"title\":{\"standoff\":15},\"zerolinecolor\":\"white\",\"automargin\":true,\"zerolinewidth\":2},\"yaxis\":{\"gridcolor\":\"white\",\"linecolor\":\"white\",\"ticks\":\"\",\"title\":{\"standoff\":15},\"zerolinecolor\":\"white\",\"automargin\":true,\"zerolinewidth\":2},\"scene\":{\"xaxis\":{\"backgroundcolor\":\"#E5ECF6\",\"gridcolor\":\"white\",\"linecolor\":\"white\",\"showbackground\":true,\"ticks\":\"\",\"zerolinecolor\":\"white\",\"gridwidth\":2},\"yaxis\":{\"backgroundcolor\":\"#E5ECF6\",\"gridcolor\":\"white\",\"linecolor\":\"white\",\"showbackground\":true,\"ticks\":\"\",\"zerolinecolor\":\"white\",\"gridwidth\":2},\"zaxis\":{\"backgroundcolor\":\"#E5ECF6\",\"gridcolor\":\"white\",\"linecolor\":\"white\",\"showbackground\":true,\"ticks\":\"\",\"zerolinecolor\":\"white\",\"gridwidth\":2}},\"shapedefaults\":{\"line\":{\"color\":\"#2a3f5f\"}},\"annotationdefaults\":{\"arrowcolor\":\"#2a3f5f\",\"arrowhead\":0,\"arrowwidth\":1},\"geo\":{\"bgcolor\":\"white\",\"landcolor\":\"#E5ECF6\",\"subunitcolor\":\"white\",\"showland\":true,\"showlakes\":true,\"lakecolor\":\"white\"},\"title\":{\"x\":0.05},\"mapbox\":{\"style\":\"light\"}}},\"xaxis\":{\"anchor\":\"y\",\"domain\":[0.0,1.0],\"title\":{\"text\":\"FAVOR OR OPPOSE EXPANDING NUCLEAR PLANTS\"},\"categoryorder\":\"array\",\"categoryarray\":[\"Strongly oppose\",\"Somewhat oppose\",\"Somewhat favor\",\"Strongly favor\"]},\"yaxis\":{\"anchor\":\"x\",\"domain\":[0.0,1.0],\"title\":{\"text\":\"NUMBER OF RESPONSES\"}},\"legend\":{\"title\":{\"text\":\"Generation\"},\"tracegroupgap\":0},\"margin\":{\"t\":60},\"barmode\":\"group\"},                        {\"responsive\": true}                    ).then(function(){\n",
       "                            \n",
       "var gd = document.getElementById('d32d863d-d3d5-48af-aa0a-c1521e786b9b');\n",
       "var x = new MutationObserver(function (mutations, observer) {{\n",
       "        var display = window.getComputedStyle(gd).display;\n",
       "        if (!display || display === 'none') {{\n",
       "            console.log([gd, 'removed!']);\n",
       "            Plotly.purge(gd);\n",
       "            observer.disconnect();\n",
       "        }}\n",
       "}});\n",
       "\n",
       "// Listen for the removal of the full notebook cells\n",
       "var notebookContainer = gd.closest('#notebook-container');\n",
       "if (notebookContainer) {{\n",
       "    x.observe(notebookContainer, {childList: true});\n",
       "}}\n",
       "\n",
       "// Listen for the clearing of the current output cell\n",
       "var outputEl = gd.closest('.output');\n",
       "if (outputEl) {{\n",
       "    x.observe(outputEl, {childList: true});\n",
       "}}\n",
       "\n",
       "                        })                };                });            </script>        </div>"
      ]
     },
     "metadata": {},
     "output_type": "display_data"
    }
   ],
   "source": [
    "fig = px.histogram(dataframe1, x=\"Q10\", color=\"hAge2\", barmode=\"group\").update_xaxes(categoryorder='array', categoryarray=[\"Strongly oppose\", \"Somewhat oppose\", \"Somewhat favor\", \"Strongly favor\"]).update_layout(\n",
    "xaxis_title=\"FAVOR OR OPPOSE EXPANDING NUCLEAR PLANTS\", yaxis_title=\"NUMBER OF RESPONSES\", legend_title=\"Generation\",\n",
    ")\n",
    "fig.show()"
   ]
  },
  {
   "cell_type": "code",
   "execution_count": 62,
   "id": "3dc91809-7d51-422b-bc0f-88d960dc1c0f",
   "metadata": {},
   "outputs": [
    {
     "data": {
      "application/vnd.plotly.v1+json": {
       "config": {
        "plotlyServerURL": "https://plot.ly"
       },
       "data": [
        {
         "alignmentgroup": "True",
         "bingroup": "x",
         "hovertemplate": "Q3=Asian<br>Q10=%{x}<br>count=%{y}<extra></extra>",
         "legendgroup": "Asian",
         "marker": {
          "color": "#636efa",
          "pattern": {
           "shape": ""
          }
         },
         "name": "Asian",
         "offsetgroup": "Asian",
         "orientation": "v",
         "showlegend": true,
         "type": "histogram",
         "x": [
          "Somewhat favor",
          "Strongly favor",
          "Somewhat oppose",
          "Strongly favor",
          "Strongly favor",
          "Somewhat oppose",
          "Strongly favor",
          "Somewhat oppose",
          "Strongly favor",
          "Somewhat oppose",
          "Somewhat favor",
          "Strongly favor",
          "Somewhat favor",
          "Strongly favor",
          "Somewhat favor",
          "Somewhat favor",
          "Strongly favor",
          "Strongly oppose",
          "Somewhat favor",
          "Somewhat favor",
          "Strongly favor",
          "Strongly favor",
          "Somewhat favor",
          "Strongly favor",
          "Somewhat favor",
          "Strongly favor",
          "Somewhat favor",
          "Somewhat oppose",
          "Strongly favor",
          "Strongly favor",
          "Somewhat favor",
          "Strongly favor",
          "Strongly favor",
          "Strongly favor",
          "Somewhat favor",
          "Somewhat favor",
          "Strongly favor",
          "Somewhat favor",
          "Somewhat favor",
          "Somewhat oppose",
          "Strongly favor",
          "Strongly favor"
         ],
         "xaxis": "x",
         "yaxis": "y"
        },
        {
         "alignmentgroup": "True",
         "bingroup": "x",
         "hovertemplate": "Q3=African American or Black<br>Q10=%{x}<br>count=%{y}<extra></extra>",
         "legendgroup": "African American or Black",
         "marker": {
          "color": "#EF553B",
          "pattern": {
           "shape": ""
          }
         },
         "name": "African American or Black",
         "offsetgroup": "African American or Black",
         "orientation": "v",
         "showlegend": true,
         "type": "histogram",
         "x": [
          "Somewhat favor",
          "Somewhat favor",
          "Strongly favor",
          "Somewhat favor",
          "Strongly favor",
          "Somewhat favor",
          "Somewhat favor",
          "Strongly favor",
          "Strongly favor",
          "Strongly favor",
          "Somewhat oppose",
          "Strongly favor",
          "Somewhat favor",
          "Somewhat favor",
          "Strongly favor",
          "Somewhat oppose",
          "Somewhat favor",
          "Strongly favor",
          "Somewhat oppose",
          "Somewhat oppose",
          "Strongly favor",
          "Somewhat favor",
          "Strongly favor",
          "Strongly favor",
          "Strongly favor",
          "Somewhat favor",
          "Somewhat favor",
          "Somewhat favor",
          "Somewhat favor",
          "Somewhat favor",
          "Somewhat favor",
          "Strongly favor",
          "Strongly oppose",
          "Somewhat favor",
          "Strongly favor",
          "Somewhat favor",
          "Somewhat favor",
          "Somewhat favor",
          "Somewhat favor",
          "Strongly favor",
          "Somewhat favor",
          "Strongly favor",
          "Strongly favor",
          "Somewhat favor",
          "Somewhat favor",
          "Strongly favor",
          "Somewhat favor",
          "Strongly favor",
          "Somewhat oppose",
          "Strongly favor",
          "Somewhat favor",
          "Strongly oppose",
          "Strongly favor",
          "Somewhat favor",
          "Somewhat favor",
          "Somewhat favor",
          "Strongly favor",
          "Strongly favor",
          "Somewhat favor",
          "Strongly favor",
          "Somewhat favor",
          "Somewhat oppose",
          "Somewhat favor",
          "Somewhat favor",
          "Somewhat favor",
          "Somewhat oppose",
          "Somewhat oppose",
          "Somewhat oppose",
          "Somewhat oppose",
          "Somewhat oppose",
          "Strongly favor",
          "Somewhat favor",
          "Strongly favor",
          "Somewhat favor",
          "Somewhat favor",
          "Somewhat favor",
          "Strongly favor",
          "Somewhat favor",
          "Somewhat favor",
          "Somewhat favor",
          "Somewhat oppose",
          "Strongly favor",
          "Strongly favor",
          "Somewhat oppose",
          "Strongly favor",
          "Somewhat favor",
          "Strongly favor",
          "Somewhat favor",
          "Somewhat favor",
          "Somewhat oppose",
          "Somewhat favor",
          "Somewhat favor",
          "Strongly favor",
          "Somewhat favor",
          "Somewhat oppose",
          "Somewhat favor",
          "Strongly favor",
          "Somewhat favor",
          "Strongly favor",
          "Strongly favor",
          "Strongly favor",
          "Strongly favor",
          "Somewhat favor",
          "Strongly favor",
          "Strongly favor",
          "Somewhat favor",
          "Strongly oppose",
          "Somewhat oppose",
          "Strongly favor",
          "Somewhat favor",
          "Strongly oppose",
          "Somewhat favor",
          "Strongly favor",
          "Strongly favor",
          "Strongly favor",
          "Somewhat oppose",
          "Strongly favor",
          "Strongly oppose",
          "Somewhat oppose",
          "Somewhat oppose",
          "Somewhat oppose",
          "Strongly favor",
          "Somewhat favor",
          "Somewhat favor",
          "Strongly favor",
          "Somewhat oppose",
          "Somewhat oppose",
          "Somewhat favor",
          "Strongly favor",
          "Strongly favor",
          "Somewhat favor",
          "Strongly favor",
          "Somewhat favor",
          "Somewhat oppose",
          "Strongly favor",
          "Somewhat favor",
          "Somewhat favor",
          "Somewhat oppose",
          "Somewhat favor",
          "Somewhat oppose",
          "Strongly favor",
          "Strongly oppose",
          "Strongly favor",
          "Somewhat favor"
         ],
         "xaxis": "x",
         "yaxis": "y"
        },
        {
         "alignmentgroup": "True",
         "bingroup": "x",
         "hovertemplate": "Q3=Caucasian or White<br>Q10=%{x}<br>count=%{y}<extra></extra>",
         "legendgroup": "Caucasian or White",
         "marker": {
          "color": "#00cc96",
          "pattern": {
           "shape": ""
          }
         },
         "name": "Caucasian or White",
         "offsetgroup": "Caucasian or White",
         "orientation": "v",
         "showlegend": true,
         "type": "histogram",
         "x": [
          "Somewhat oppose",
          "Somewhat favor",
          "Strongly favor",
          "Somewhat favor",
          "Somewhat favor",
          "Strongly favor",
          "Somewhat oppose",
          "Somewhat favor",
          "Somewhat favor",
          "Strongly favor",
          "Somewhat favor",
          "Somewhat favor",
          "Strongly oppose",
          "Somewhat favor",
          "Somewhat oppose",
          "Somewhat favor",
          "Strongly favor",
          "Somewhat favor",
          "Strongly favor",
          "Strongly favor",
          "Somewhat favor",
          "Somewhat favor",
          "Somewhat favor",
          "Somewhat favor",
          "Strongly oppose",
          "Strongly oppose",
          "Somewhat favor",
          "Strongly favor",
          "Somewhat favor",
          "Somewhat oppose",
          "Strongly favor",
          "Somewhat favor",
          "Somewhat favor",
          "Somewhat favor",
          "Somewhat favor",
          "Somewhat favor",
          "Somewhat oppose",
          "Somewhat oppose",
          "Strongly favor",
          "Somewhat oppose",
          "Somewhat oppose",
          "Somewhat oppose",
          "Strongly oppose",
          "Strongly favor",
          "Somewhat favor",
          "Somewhat favor",
          "Somewhat favor",
          "Somewhat favor",
          "Strongly favor",
          "Strongly favor",
          "Somewhat favor",
          "Strongly oppose",
          "Strongly favor",
          "Strongly favor",
          "Strongly favor",
          "Somewhat favor",
          "Strongly oppose",
          "Strongly favor",
          "Somewhat oppose",
          "Somewhat oppose",
          "Somewhat favor",
          "Somewhat favor",
          "Somewhat favor",
          "Strongly favor",
          "Somewhat favor",
          "Strongly favor",
          "Somewhat favor",
          "Somewhat oppose",
          "Somewhat favor",
          "Somewhat oppose",
          "Somewhat favor",
          "Somewhat oppose",
          "Somewhat oppose",
          "Somewhat favor",
          "Somewhat favor",
          "Strongly favor",
          "Strongly favor",
          "Somewhat favor",
          "Somewhat favor",
          "Strongly favor",
          "Strongly favor",
          "Strongly favor",
          "Somewhat oppose",
          "Somewhat favor",
          "Strongly favor",
          "Somewhat favor",
          "Somewhat oppose",
          "Somewhat favor",
          "Strongly favor",
          "Strongly favor",
          "Strongly favor",
          "Somewhat favor",
          "Strongly favor",
          "Somewhat favor",
          "Somewhat oppose",
          "Somewhat favor",
          "Strongly favor",
          "Strongly favor",
          "Somewhat favor",
          "Somewhat favor",
          "Somewhat favor",
          "Somewhat favor",
          "Strongly favor",
          "Somewhat oppose",
          "Somewhat oppose",
          "Somewhat oppose",
          "Somewhat oppose",
          "Somewhat favor",
          "Somewhat favor",
          "Strongly oppose",
          "Strongly favor",
          "Somewhat oppose",
          "Strongly oppose",
          "Somewhat oppose",
          "Strongly favor",
          "Somewhat oppose",
          "Somewhat favor",
          "Strongly oppose",
          "Strongly favor",
          "Somewhat favor",
          "Somewhat oppose",
          "Somewhat favor",
          "Somewhat favor",
          "Strongly favor",
          "Somewhat oppose",
          "Strongly favor",
          "Somewhat favor",
          "Strongly favor",
          "Somewhat oppose",
          "Strongly favor",
          "Somewhat favor",
          "Somewhat favor",
          "Somewhat favor",
          "Somewhat oppose",
          "Somewhat favor",
          "Strongly favor",
          "Strongly favor",
          "Strongly favor",
          "Somewhat favor",
          "Somewhat favor",
          "Somewhat favor",
          "Strongly favor",
          "Somewhat favor",
          "Somewhat favor",
          "Somewhat favor",
          "Strongly favor",
          "Somewhat oppose",
          "Somewhat favor",
          "Somewhat favor",
          "Strongly favor",
          "Strongly favor",
          "Somewhat favor",
          "Somewhat favor",
          "Strongly oppose",
          "Somewhat oppose",
          "Somewhat favor",
          "Somewhat favor",
          "Somewhat favor",
          "Strongly favor",
          "Strongly oppose",
          "Somewhat favor",
          "Strongly favor",
          "Somewhat favor",
          "Somewhat favor",
          "Somewhat favor",
          "Somewhat favor",
          "Somewhat oppose",
          "Somewhat favor",
          "Somewhat favor",
          "Strongly favor",
          "Somewhat favor",
          "Somewhat favor",
          "Somewhat favor",
          "Somewhat favor",
          "Strongly oppose",
          "Strongly oppose",
          "Strongly oppose",
          "Strongly favor",
          "Strongly favor",
          "Strongly favor",
          "Strongly favor",
          "Somewhat favor",
          "Somewhat favor",
          "Strongly favor",
          "Strongly favor",
          "Somewhat favor",
          "Strongly favor",
          "Somewhat favor",
          "Strongly favor",
          "Somewhat favor",
          "Strongly oppose",
          "Somewhat favor",
          "Strongly favor",
          "Strongly favor",
          "Somewhat favor",
          "Somewhat oppose",
          "Strongly favor",
          "Strongly oppose",
          "Strongly favor",
          "Somewhat favor",
          "Strongly favor",
          "Strongly favor",
          "Somewhat oppose",
          "Somewhat favor",
          "Strongly favor",
          "Somewhat favor",
          "Somewhat favor",
          "Somewhat favor",
          "Somewhat favor",
          "Somewhat favor",
          "Somewhat oppose",
          "Strongly oppose",
          "Somewhat favor",
          "Strongly oppose",
          "Strongly favor",
          "Somewhat favor",
          "Somewhat favor",
          "Strongly favor",
          "Somewhat oppose",
          "Somewhat favor",
          "Somewhat oppose",
          "Strongly oppose",
          "Strongly favor",
          "Strongly favor",
          "Somewhat favor",
          "Strongly favor",
          "Strongly favor",
          "Somewhat favor",
          "Strongly favor",
          "Strongly oppose",
          "Strongly oppose",
          "Strongly favor",
          "Somewhat favor",
          "Somewhat favor",
          "Somewhat favor",
          "Somewhat favor",
          "Somewhat favor",
          "Strongly favor",
          "Somewhat favor",
          "Strongly favor",
          "Strongly favor",
          "Somewhat favor",
          "Strongly oppose",
          "Somewhat favor",
          "Somewhat favor",
          "Somewhat favor",
          "Somewhat favor",
          "Strongly favor",
          "Strongly favor",
          "Somewhat oppose",
          "Strongly favor",
          "Somewhat favor",
          "Somewhat favor",
          "Strongly favor",
          "Somewhat oppose",
          "Somewhat favor",
          "Strongly favor",
          "Somewhat favor",
          "Strongly favor",
          "Somewhat favor",
          "Strongly favor",
          "Somewhat favor",
          "Strongly oppose",
          "Somewhat favor",
          "Somewhat oppose",
          "Somewhat oppose",
          "Somewhat favor",
          "Somewhat favor",
          "Somewhat favor",
          "Somewhat oppose",
          "Strongly oppose",
          "Somewhat favor",
          "Somewhat favor",
          "Strongly oppose",
          "Somewhat favor",
          "Somewhat favor",
          "Somewhat favor",
          "Strongly favor",
          "Strongly oppose",
          "Somewhat favor",
          "Somewhat oppose",
          "Somewhat oppose",
          "Somewhat oppose",
          "Somewhat favor",
          "Strongly oppose",
          "Strongly favor",
          "Somewhat favor",
          "Somewhat favor",
          "Strongly favor",
          "Strongly oppose",
          "Somewhat favor",
          "Strongly favor",
          "Somewhat oppose",
          "Somewhat favor",
          "Somewhat oppose",
          "Somewhat favor",
          "Strongly favor",
          "Strongly favor",
          "Somewhat favor",
          "Strongly oppose",
          "Somewhat favor",
          "Somewhat favor",
          "Strongly favor",
          "Somewhat favor",
          "Somewhat favor",
          "Somewhat favor",
          "Somewhat favor",
          "Strongly favor",
          "Somewhat favor",
          "Somewhat favor",
          "Somewhat favor",
          "Somewhat favor",
          "Somewhat oppose",
          "Somewhat favor",
          "Somewhat favor",
          "Strongly favor",
          "Strongly favor",
          "Strongly favor",
          "Somewhat favor",
          "Somewhat oppose",
          "Somewhat favor",
          "Strongly favor",
          "Somewhat favor",
          "Strongly favor",
          "Strongly favor",
          "Somewhat favor",
          "Somewhat favor",
          "Somewhat oppose",
          "Somewhat favor",
          "Somewhat favor",
          "Somewhat oppose",
          "Strongly favor",
          "Strongly oppose",
          "Strongly favor",
          "Strongly oppose",
          "Strongly oppose",
          "Somewhat oppose",
          "Somewhat favor",
          "Somewhat oppose",
          "Somewhat oppose",
          "Strongly favor",
          "Somewhat favor",
          "Somewhat favor",
          "Somewhat oppose",
          "Somewhat favor",
          "Somewhat oppose",
          "Somewhat oppose",
          "Somewhat favor",
          "Strongly favor",
          "Somewhat favor",
          "Somewhat oppose",
          "Strongly favor",
          "Somewhat oppose",
          "Somewhat favor",
          "Somewhat favor",
          "Somewhat favor",
          "Strongly favor",
          "Somewhat favor",
          "Somewhat favor",
          "Somewhat favor",
          "Strongly favor",
          "Somewhat favor",
          "Strongly favor",
          "Somewhat oppose",
          "Strongly favor",
          "Somewhat favor",
          "Somewhat oppose",
          "Somewhat favor",
          "Strongly favor",
          "Somewhat favor",
          "Somewhat favor",
          "Strongly favor",
          "Somewhat favor",
          "Strongly favor",
          "Somewhat favor",
          "Somewhat favor",
          "Somewhat oppose",
          "Strongly oppose",
          "Strongly favor",
          "Strongly favor",
          "Somewhat favor",
          "Strongly favor",
          "Somewhat favor",
          "Somewhat oppose",
          "Somewhat favor",
          "Somewhat favor",
          "Strongly favor",
          "Somewhat oppose",
          "Somewhat favor",
          "Somewhat favor",
          "Somewhat favor",
          "Somewhat oppose",
          "Strongly oppose",
          "Strongly favor",
          "Somewhat favor",
          "Somewhat favor",
          "Strongly favor",
          "Strongly oppose",
          "Somewhat oppose",
          "Somewhat favor",
          "Somewhat oppose",
          "Somewhat favor",
          "Somewhat favor",
          "Somewhat oppose",
          "Somewhat favor",
          "Strongly favor",
          "Somewhat oppose",
          "Strongly favor",
          "Somewhat favor",
          "Strongly favor",
          "Somewhat favor",
          "Strongly oppose",
          "Somewhat favor",
          "Somewhat favor",
          "Somewhat oppose",
          "Somewhat favor",
          "Somewhat favor",
          "Strongly favor",
          "Somewhat favor",
          "Somewhat oppose",
          "Somewhat favor",
          "Somewhat favor",
          "Somewhat favor",
          "Somewhat favor",
          "Strongly favor",
          "Strongly favor",
          "Strongly oppose",
          "Somewhat favor",
          "Strongly favor",
          "Somewhat favor",
          "Somewhat favor",
          "Strongly favor",
          "Strongly favor",
          "Strongly favor",
          "Somewhat favor",
          "Somewhat favor",
          "Somewhat oppose",
          "Somewhat favor",
          "Strongly oppose",
          "Somewhat favor",
          "Somewhat favor",
          "Somewhat favor",
          "Strongly favor",
          "Strongly oppose",
          "Somewhat oppose",
          "Strongly favor",
          "Somewhat oppose",
          "Strongly favor",
          "Somewhat favor",
          "Strongly oppose",
          "Strongly favor",
          "Somewhat oppose",
          "Strongly favor",
          "Somewhat oppose",
          "Strongly oppose",
          "Strongly favor",
          "Strongly favor",
          "Somewhat favor",
          "Somewhat favor",
          "Strongly favor",
          "Somewhat oppose",
          "Somewhat favor",
          "Strongly favor",
          "Somewhat favor",
          "Somewhat favor",
          "Somewhat oppose",
          "Strongly favor",
          "Strongly favor",
          "Strongly favor",
          "Somewhat favor",
          "Somewhat favor",
          "Somewhat favor",
          "Somewhat favor",
          "Strongly favor",
          "Somewhat favor",
          "Somewhat favor",
          "Somewhat favor",
          "Strongly favor",
          "Somewhat favor",
          "Somewhat favor",
          "Somewhat favor",
          "Strongly favor",
          "Somewhat oppose",
          "Strongly favor",
          "Strongly favor",
          "Somewhat favor",
          "Somewhat favor",
          "Somewhat oppose",
          "Strongly favor",
          "Strongly favor",
          "Strongly favor",
          "Somewhat favor",
          "Somewhat favor",
          "Somewhat favor",
          "Somewhat oppose",
          "Somewhat oppose",
          "Strongly favor",
          "Strongly oppose",
          "Strongly favor",
          "Strongly favor",
          "Strongly favor",
          "Somewhat favor",
          "Somewhat favor",
          "Somewhat oppose",
          "Strongly favor",
          "Strongly oppose",
          "Somewhat oppose",
          "Strongly favor",
          "Strongly favor",
          "Strongly favor",
          "Strongly favor",
          "Strongly favor",
          "Strongly favor",
          "Somewhat oppose",
          "Somewhat oppose",
          "Strongly favor",
          "Somewhat favor",
          "Somewhat favor",
          "Strongly favor",
          "Somewhat favor",
          "Somewhat favor",
          "Somewhat favor",
          "Somewhat oppose",
          "Strongly favor",
          "Strongly favor",
          "Strongly favor",
          "Strongly favor",
          "Somewhat favor",
          "Somewhat oppose",
          "Strongly favor",
          "Strongly favor",
          "Somewhat favor",
          "Strongly favor",
          "Somewhat favor",
          "Somewhat favor",
          "Somewhat favor",
          "Somewhat favor",
          "Strongly favor",
          "Somewhat oppose",
          "Somewhat favor",
          "Somewhat favor",
          "Strongly oppose",
          "Strongly oppose",
          "Somewhat oppose",
          "Somewhat favor",
          "Somewhat oppose",
          "Strongly oppose",
          "Somewhat oppose",
          "Strongly favor",
          "Somewhat favor",
          "Somewhat favor",
          "Strongly favor",
          "Somewhat favor",
          "Strongly oppose",
          "Somewhat favor",
          "Strongly favor",
          "Strongly oppose",
          "Somewhat favor",
          "Somewhat oppose",
          "Somewhat favor",
          "Somewhat favor",
          "Somewhat favor",
          "Strongly oppose",
          "Strongly favor",
          "Somewhat favor",
          "Somewhat oppose",
          "Somewhat oppose",
          "Strongly favor",
          "Somewhat oppose",
          "Somewhat favor",
          "Strongly favor",
          "Somewhat favor",
          "Somewhat favor",
          "Strongly favor",
          "Strongly favor",
          "Somewhat favor",
          "Somewhat favor",
          "Strongly favor",
          "Strongly favor",
          "Strongly oppose",
          "Strongly favor",
          "Strongly favor",
          "Strongly favor",
          "Strongly favor",
          "Strongly favor",
          "Strongly favor",
          "Strongly favor",
          "Somewhat oppose",
          "Strongly favor",
          "Somewhat favor",
          "Strongly favor",
          "Somewhat favor",
          "Somewhat favor",
          "Strongly favor",
          "Somewhat oppose",
          "Somewhat favor",
          "Somewhat oppose",
          "Strongly favor",
          "Somewhat oppose",
          "Somewhat favor",
          "Somewhat favor",
          "Somewhat oppose",
          "Strongly favor",
          "Somewhat favor",
          "Somewhat favor",
          "Somewhat oppose",
          "Somewhat favor",
          "Strongly oppose",
          "Strongly favor",
          "Somewhat favor",
          "Strongly favor",
          "Somewhat favor",
          "Somewhat favor",
          "Strongly oppose",
          "Strongly favor",
          "Strongly favor",
          "Strongly favor",
          "Strongly oppose",
          "Strongly favor",
          "Somewhat oppose",
          "Strongly favor",
          "Strongly favor",
          "Somewhat oppose",
          "Somewhat favor",
          "Somewhat oppose",
          "Strongly favor",
          "Strongly favor",
          "Strongly favor",
          "Strongly favor",
          "Somewhat favor",
          "Somewhat favor",
          "Somewhat favor",
          "Strongly favor",
          "Somewhat favor",
          "Strongly favor",
          "Strongly oppose",
          "Somewhat oppose",
          "Somewhat favor",
          "Strongly oppose",
          "Strongly favor",
          "Somewhat oppose",
          "Strongly favor",
          "Strongly favor",
          "Strongly favor",
          "Strongly favor",
          "Somewhat favor",
          "Strongly favor",
          "Somewhat favor",
          "Strongly favor",
          "Somewhat favor",
          "Strongly favor",
          "Somewhat oppose",
          "Strongly favor",
          "Somewhat oppose",
          "Strongly favor",
          "Strongly favor",
          "Somewhat favor",
          "Somewhat favor",
          "Somewhat favor",
          "Somewhat favor",
          "Strongly favor",
          "Somewhat favor",
          "Strongly favor",
          "Somewhat favor",
          "Somewhat favor",
          "Somewhat favor",
          "Strongly favor",
          "Strongly oppose",
          "Somewhat favor",
          "Somewhat favor",
          "Strongly favor",
          "Somewhat favor",
          "Somewhat oppose",
          "Somewhat favor",
          "Somewhat oppose",
          "Somewhat favor",
          "Strongly favor",
          "Strongly favor",
          "Somewhat oppose",
          "Somewhat favor",
          "Somewhat favor",
          "Somewhat favor",
          "Strongly favor",
          "Somewhat favor",
          "Somewhat favor",
          "Somewhat favor",
          "Somewhat favor",
          "Strongly oppose",
          "Somewhat favor",
          "Strongly favor",
          "Strongly favor",
          "Somewhat oppose",
          "Somewhat favor",
          "Somewhat oppose",
          "Strongly favor",
          "Somewhat favor",
          "Somewhat favor",
          "Somewhat favor",
          "Strongly favor",
          "Strongly favor",
          "Strongly favor",
          "Strongly favor",
          "Strongly favor",
          "Somewhat oppose",
          "Strongly favor",
          "Strongly favor",
          "Strongly favor",
          "Strongly favor",
          "Strongly favor",
          "Somewhat favor",
          "Somewhat oppose"
         ],
         "xaxis": "x",
         "yaxis": "y"
        },
        {
         "alignmentgroup": "True",
         "bingroup": "x",
         "hovertemplate": "Q3=Native American or Indigenous<br>Q10=%{x}<br>count=%{y}<extra></extra>",
         "legendgroup": "Native American or Indigenous",
         "marker": {
          "color": "#ab63fa",
          "pattern": {
           "shape": ""
          }
         },
         "name": "Native American or Indigenous",
         "offsetgroup": "Native American or Indigenous",
         "orientation": "v",
         "showlegend": true,
         "type": "histogram",
         "x": [
          "Somewhat favor",
          "Somewhat favor",
          "Somewhat favor",
          "Somewhat favor",
          "Somewhat favor",
          "Somewhat favor",
          "Somewhat favor",
          "Strongly favor"
         ],
         "xaxis": "x",
         "yaxis": "y"
        },
        {
         "alignmentgroup": "True",
         "bingroup": "x",
         "hovertemplate": "Q3=Hispanic, Latino, or Latinx<br>Q10=%{x}<br>count=%{y}<extra></extra>",
         "legendgroup": "Hispanic, Latino, or Latinx",
         "marker": {
          "color": "#FFA15A",
          "pattern": {
           "shape": ""
          }
         },
         "name": "Hispanic, Latino, or Latinx",
         "offsetgroup": "Hispanic, Latino, or Latinx",
         "orientation": "v",
         "showlegend": true,
         "type": "histogram",
         "x": [
          "Strongly favor",
          "Somewhat favor",
          "Strongly favor",
          "Somewhat oppose",
          "Somewhat favor",
          "Strongly favor",
          "Somewhat favor",
          "Somewhat favor",
          "Somewhat favor",
          "Strongly favor",
          "Somewhat favor",
          "Strongly oppose",
          "Somewhat favor",
          "Somewhat favor",
          "Strongly favor",
          "Strongly favor",
          "Strongly favor",
          "Strongly oppose",
          "Strongly favor",
          "Somewhat favor",
          "Strongly favor",
          "Strongly favor",
          "Strongly favor",
          "Strongly favor",
          "Somewhat favor",
          "Somewhat oppose",
          "Somewhat favor",
          "Somewhat favor",
          "Somewhat favor",
          "Somewhat oppose",
          "Strongly favor",
          "Somewhat favor",
          "Somewhat favor",
          "Somewhat favor",
          "Strongly favor",
          "Somewhat favor",
          "Somewhat favor",
          "Strongly oppose",
          "Somewhat favor",
          "Somewhat favor",
          "Somewhat favor",
          "Somewhat favor",
          "Strongly favor",
          "Somewhat favor",
          "Strongly favor",
          "Somewhat favor",
          "Somewhat favor",
          "Somewhat favor",
          "Somewhat favor",
          "Somewhat favor",
          "Somewhat favor",
          "Somewhat favor",
          "Somewhat oppose",
          "Somewhat oppose",
          "Somewhat favor",
          "Strongly oppose",
          "Somewhat favor",
          "Strongly favor",
          "Strongly favor",
          "Strongly favor",
          "Somewhat favor",
          "Strongly favor",
          "Somewhat oppose",
          "Somewhat favor",
          "Strongly favor",
          "Somewhat favor",
          "Strongly oppose",
          "Strongly favor",
          "Somewhat favor",
          "Somewhat favor",
          "Strongly favor",
          "Strongly oppose",
          "Somewhat favor",
          "Somewhat favor",
          "Strongly favor",
          "Somewhat favor"
         ],
         "xaxis": "x",
         "yaxis": "y"
        },
        {
         "alignmentgroup": "True",
         "bingroup": "x",
         "hovertemplate": "Q3=Mixed Race<br>Q10=%{x}<br>count=%{y}<extra></extra>",
         "legendgroup": "Mixed Race",
         "marker": {
          "color": "#19d3f3",
          "pattern": {
           "shape": ""
          }
         },
         "name": "Mixed Race",
         "offsetgroup": "Mixed Race",
         "orientation": "v",
         "showlegend": true,
         "type": "histogram",
         "x": [
          "Somewhat favor",
          "Somewhat favor",
          "Strongly favor",
          "Somewhat favor",
          "Somewhat favor",
          "Somewhat favor",
          "Somewhat oppose",
          "Somewhat favor",
          "Somewhat oppose",
          "Somewhat oppose",
          "Strongly favor",
          "Somewhat oppose",
          "Strongly oppose",
          "Somewhat oppose",
          "Strongly favor"
         ],
         "xaxis": "x",
         "yaxis": "y"
        },
        {
         "alignmentgroup": "True",
         "bingroup": "x",
         "hovertemplate": "Q3=No answer<br>Q10=%{x}<br>count=%{y}<extra></extra>",
         "legendgroup": "No answer",
         "marker": {
          "color": "#FF6692",
          "pattern": {
           "shape": ""
          }
         },
         "name": "No answer",
         "offsetgroup": "No answer",
         "orientation": "v",
         "showlegend": true,
         "type": "histogram",
         "x": [
          "Strongly favor"
         ],
         "xaxis": "x",
         "yaxis": "y"
        },
        {
         "alignmentgroup": "True",
         "bingroup": "x",
         "hovertemplate": "Q3=Other<br>Q10=%{x}<br>count=%{y}<extra></extra>",
         "legendgroup": "Other",
         "marker": {
          "color": "#B6E880",
          "pattern": {
           "shape": ""
          }
         },
         "name": "Other",
         "offsetgroup": "Other",
         "orientation": "v",
         "showlegend": true,
         "type": "histogram",
         "x": [
          "Strongly oppose",
          "Somewhat favor",
          "Somewhat oppose"
         ],
         "xaxis": "x",
         "yaxis": "y"
        }
       ],
       "layout": {
        "autosize": true,
        "barmode": "relative",
        "legend": {
         "title": {
          "text": "RACE"
         },
         "tracegroupgap": 0
        },
        "margin": {
         "t": 60
        },
        "template": {
         "data": {
          "bar": [
           {
            "error_x": {
             "color": "#2a3f5f"
            },
            "error_y": {
             "color": "#2a3f5f"
            },
            "marker": {
             "line": {
              "color": "#E5ECF6",
              "width": 0.5
             },
             "pattern": {
              "fillmode": "overlay",
              "size": 10,
              "solidity": 0.2
             }
            },
            "type": "bar"
           }
          ],
          "barpolar": [
           {
            "marker": {
             "line": {
              "color": "#E5ECF6",
              "width": 0.5
             },
             "pattern": {
              "fillmode": "overlay",
              "size": 10,
              "solidity": 0.2
             }
            },
            "type": "barpolar"
           }
          ],
          "carpet": [
           {
            "aaxis": {
             "endlinecolor": "#2a3f5f",
             "gridcolor": "white",
             "linecolor": "white",
             "minorgridcolor": "white",
             "startlinecolor": "#2a3f5f"
            },
            "baxis": {
             "endlinecolor": "#2a3f5f",
             "gridcolor": "white",
             "linecolor": "white",
             "minorgridcolor": "white",
             "startlinecolor": "#2a3f5f"
            },
            "type": "carpet"
           }
          ],
          "choropleth": [
           {
            "colorbar": {
             "outlinewidth": 0,
             "ticks": ""
            },
            "type": "choropleth"
           }
          ],
          "contour": [
           {
            "colorbar": {
             "outlinewidth": 0,
             "ticks": ""
            },
            "colorscale": [
             [
              0,
              "#0d0887"
             ],
             [
              0.1111111111111111,
              "#46039f"
             ],
             [
              0.2222222222222222,
              "#7201a8"
             ],
             [
              0.3333333333333333,
              "#9c179e"
             ],
             [
              0.4444444444444444,
              "#bd3786"
             ],
             [
              0.5555555555555556,
              "#d8576b"
             ],
             [
              0.6666666666666666,
              "#ed7953"
             ],
             [
              0.7777777777777778,
              "#fb9f3a"
             ],
             [
              0.8888888888888888,
              "#fdca26"
             ],
             [
              1,
              "#f0f921"
             ]
            ],
            "type": "contour"
           }
          ],
          "contourcarpet": [
           {
            "colorbar": {
             "outlinewidth": 0,
             "ticks": ""
            },
            "type": "contourcarpet"
           }
          ],
          "heatmap": [
           {
            "colorbar": {
             "outlinewidth": 0,
             "ticks": ""
            },
            "colorscale": [
             [
              0,
              "#0d0887"
             ],
             [
              0.1111111111111111,
              "#46039f"
             ],
             [
              0.2222222222222222,
              "#7201a8"
             ],
             [
              0.3333333333333333,
              "#9c179e"
             ],
             [
              0.4444444444444444,
              "#bd3786"
             ],
             [
              0.5555555555555556,
              "#d8576b"
             ],
             [
              0.6666666666666666,
              "#ed7953"
             ],
             [
              0.7777777777777778,
              "#fb9f3a"
             ],
             [
              0.8888888888888888,
              "#fdca26"
             ],
             [
              1,
              "#f0f921"
             ]
            ],
            "type": "heatmap"
           }
          ],
          "heatmapgl": [
           {
            "colorbar": {
             "outlinewidth": 0,
             "ticks": ""
            },
            "colorscale": [
             [
              0,
              "#0d0887"
             ],
             [
              0.1111111111111111,
              "#46039f"
             ],
             [
              0.2222222222222222,
              "#7201a8"
             ],
             [
              0.3333333333333333,
              "#9c179e"
             ],
             [
              0.4444444444444444,
              "#bd3786"
             ],
             [
              0.5555555555555556,
              "#d8576b"
             ],
             [
              0.6666666666666666,
              "#ed7953"
             ],
             [
              0.7777777777777778,
              "#fb9f3a"
             ],
             [
              0.8888888888888888,
              "#fdca26"
             ],
             [
              1,
              "#f0f921"
             ]
            ],
            "type": "heatmapgl"
           }
          ],
          "histogram": [
           {
            "marker": {
             "pattern": {
              "fillmode": "overlay",
              "size": 10,
              "solidity": 0.2
             }
            },
            "type": "histogram"
           }
          ],
          "histogram2d": [
           {
            "colorbar": {
             "outlinewidth": 0,
             "ticks": ""
            },
            "colorscale": [
             [
              0,
              "#0d0887"
             ],
             [
              0.1111111111111111,
              "#46039f"
             ],
             [
              0.2222222222222222,
              "#7201a8"
             ],
             [
              0.3333333333333333,
              "#9c179e"
             ],
             [
              0.4444444444444444,
              "#bd3786"
             ],
             [
              0.5555555555555556,
              "#d8576b"
             ],
             [
              0.6666666666666666,
              "#ed7953"
             ],
             [
              0.7777777777777778,
              "#fb9f3a"
             ],
             [
              0.8888888888888888,
              "#fdca26"
             ],
             [
              1,
              "#f0f921"
             ]
            ],
            "type": "histogram2d"
           }
          ],
          "histogram2dcontour": [
           {
            "colorbar": {
             "outlinewidth": 0,
             "ticks": ""
            },
            "colorscale": [
             [
              0,
              "#0d0887"
             ],
             [
              0.1111111111111111,
              "#46039f"
             ],
             [
              0.2222222222222222,
              "#7201a8"
             ],
             [
              0.3333333333333333,
              "#9c179e"
             ],
             [
              0.4444444444444444,
              "#bd3786"
             ],
             [
              0.5555555555555556,
              "#d8576b"
             ],
             [
              0.6666666666666666,
              "#ed7953"
             ],
             [
              0.7777777777777778,
              "#fb9f3a"
             ],
             [
              0.8888888888888888,
              "#fdca26"
             ],
             [
              1,
              "#f0f921"
             ]
            ],
            "type": "histogram2dcontour"
           }
          ],
          "mesh3d": [
           {
            "colorbar": {
             "outlinewidth": 0,
             "ticks": ""
            },
            "type": "mesh3d"
           }
          ],
          "parcoords": [
           {
            "line": {
             "colorbar": {
              "outlinewidth": 0,
              "ticks": ""
             }
            },
            "type": "parcoords"
           }
          ],
          "pie": [
           {
            "automargin": true,
            "type": "pie"
           }
          ],
          "scatter": [
           {
            "fillpattern": {
             "fillmode": "overlay",
             "size": 10,
             "solidity": 0.2
            },
            "type": "scatter"
           }
          ],
          "scatter3d": [
           {
            "line": {
             "colorbar": {
              "outlinewidth": 0,
              "ticks": ""
             }
            },
            "marker": {
             "colorbar": {
              "outlinewidth": 0,
              "ticks": ""
             }
            },
            "type": "scatter3d"
           }
          ],
          "scattercarpet": [
           {
            "marker": {
             "colorbar": {
              "outlinewidth": 0,
              "ticks": ""
             }
            },
            "type": "scattercarpet"
           }
          ],
          "scattergeo": [
           {
            "marker": {
             "colorbar": {
              "outlinewidth": 0,
              "ticks": ""
             }
            },
            "type": "scattergeo"
           }
          ],
          "scattergl": [
           {
            "marker": {
             "colorbar": {
              "outlinewidth": 0,
              "ticks": ""
             }
            },
            "type": "scattergl"
           }
          ],
          "scattermapbox": [
           {
            "marker": {
             "colorbar": {
              "outlinewidth": 0,
              "ticks": ""
             }
            },
            "type": "scattermapbox"
           }
          ],
          "scatterpolar": [
           {
            "marker": {
             "colorbar": {
              "outlinewidth": 0,
              "ticks": ""
             }
            },
            "type": "scatterpolar"
           }
          ],
          "scatterpolargl": [
           {
            "marker": {
             "colorbar": {
              "outlinewidth": 0,
              "ticks": ""
             }
            },
            "type": "scatterpolargl"
           }
          ],
          "scatterternary": [
           {
            "marker": {
             "colorbar": {
              "outlinewidth": 0,
              "ticks": ""
             }
            },
            "type": "scatterternary"
           }
          ],
          "surface": [
           {
            "colorbar": {
             "outlinewidth": 0,
             "ticks": ""
            },
            "colorscale": [
             [
              0,
              "#0d0887"
             ],
             [
              0.1111111111111111,
              "#46039f"
             ],
             [
              0.2222222222222222,
              "#7201a8"
             ],
             [
              0.3333333333333333,
              "#9c179e"
             ],
             [
              0.4444444444444444,
              "#bd3786"
             ],
             [
              0.5555555555555556,
              "#d8576b"
             ],
             [
              0.6666666666666666,
              "#ed7953"
             ],
             [
              0.7777777777777778,
              "#fb9f3a"
             ],
             [
              0.8888888888888888,
              "#fdca26"
             ],
             [
              1,
              "#f0f921"
             ]
            ],
            "type": "surface"
           }
          ],
          "table": [
           {
            "cells": {
             "fill": {
              "color": "#EBF0F8"
             },
             "line": {
              "color": "white"
             }
            },
            "header": {
             "fill": {
              "color": "#C8D4E3"
             },
             "line": {
              "color": "white"
             }
            },
            "type": "table"
           }
          ]
         },
         "layout": {
          "annotationdefaults": {
           "arrowcolor": "#2a3f5f",
           "arrowhead": 0,
           "arrowwidth": 1
          },
          "autotypenumbers": "strict",
          "coloraxis": {
           "colorbar": {
            "outlinewidth": 0,
            "ticks": ""
           }
          },
          "colorscale": {
           "diverging": [
            [
             0,
             "#8e0152"
            ],
            [
             0.1,
             "#c51b7d"
            ],
            [
             0.2,
             "#de77ae"
            ],
            [
             0.3,
             "#f1b6da"
            ],
            [
             0.4,
             "#fde0ef"
            ],
            [
             0.5,
             "#f7f7f7"
            ],
            [
             0.6,
             "#e6f5d0"
            ],
            [
             0.7,
             "#b8e186"
            ],
            [
             0.8,
             "#7fbc41"
            ],
            [
             0.9,
             "#4d9221"
            ],
            [
             1,
             "#276419"
            ]
           ],
           "sequential": [
            [
             0,
             "#0d0887"
            ],
            [
             0.1111111111111111,
             "#46039f"
            ],
            [
             0.2222222222222222,
             "#7201a8"
            ],
            [
             0.3333333333333333,
             "#9c179e"
            ],
            [
             0.4444444444444444,
             "#bd3786"
            ],
            [
             0.5555555555555556,
             "#d8576b"
            ],
            [
             0.6666666666666666,
             "#ed7953"
            ],
            [
             0.7777777777777778,
             "#fb9f3a"
            ],
            [
             0.8888888888888888,
             "#fdca26"
            ],
            [
             1,
             "#f0f921"
            ]
           ],
           "sequentialminus": [
            [
             0,
             "#0d0887"
            ],
            [
             0.1111111111111111,
             "#46039f"
            ],
            [
             0.2222222222222222,
             "#7201a8"
            ],
            [
             0.3333333333333333,
             "#9c179e"
            ],
            [
             0.4444444444444444,
             "#bd3786"
            ],
            [
             0.5555555555555556,
             "#d8576b"
            ],
            [
             0.6666666666666666,
             "#ed7953"
            ],
            [
             0.7777777777777778,
             "#fb9f3a"
            ],
            [
             0.8888888888888888,
             "#fdca26"
            ],
            [
             1,
             "#f0f921"
            ]
           ]
          },
          "colorway": [
           "#636efa",
           "#EF553B",
           "#00cc96",
           "#ab63fa",
           "#FFA15A",
           "#19d3f3",
           "#FF6692",
           "#B6E880",
           "#FF97FF",
           "#FECB52"
          ],
          "font": {
           "color": "#2a3f5f"
          },
          "geo": {
           "bgcolor": "white",
           "lakecolor": "white",
           "landcolor": "#E5ECF6",
           "showlakes": true,
           "showland": true,
           "subunitcolor": "white"
          },
          "hoverlabel": {
           "align": "left"
          },
          "hovermode": "closest",
          "mapbox": {
           "style": "light"
          },
          "paper_bgcolor": "white",
          "plot_bgcolor": "#E5ECF6",
          "polar": {
           "angularaxis": {
            "gridcolor": "white",
            "linecolor": "white",
            "ticks": ""
           },
           "bgcolor": "#E5ECF6",
           "radialaxis": {
            "gridcolor": "white",
            "linecolor": "white",
            "ticks": ""
           }
          },
          "scene": {
           "xaxis": {
            "backgroundcolor": "#E5ECF6",
            "gridcolor": "white",
            "gridwidth": 2,
            "linecolor": "white",
            "showbackground": true,
            "ticks": "",
            "zerolinecolor": "white"
           },
           "yaxis": {
            "backgroundcolor": "#E5ECF6",
            "gridcolor": "white",
            "gridwidth": 2,
            "linecolor": "white",
            "showbackground": true,
            "ticks": "",
            "zerolinecolor": "white"
           },
           "zaxis": {
            "backgroundcolor": "#E5ECF6",
            "gridcolor": "white",
            "gridwidth": 2,
            "linecolor": "white",
            "showbackground": true,
            "ticks": "",
            "zerolinecolor": "white"
           }
          },
          "shapedefaults": {
           "line": {
            "color": "#2a3f5f"
           }
          },
          "ternary": {
           "aaxis": {
            "gridcolor": "white",
            "linecolor": "white",
            "ticks": ""
           },
           "baxis": {
            "gridcolor": "white",
            "linecolor": "white",
            "ticks": ""
           },
           "bgcolor": "#E5ECF6",
           "caxis": {
            "gridcolor": "white",
            "linecolor": "white",
            "ticks": ""
           }
          },
          "title": {
           "x": 0.05
          },
          "xaxis": {
           "automargin": true,
           "gridcolor": "white",
           "linecolor": "white",
           "ticks": "",
           "title": {
            "standoff": 15
           },
           "zerolinecolor": "white",
           "zerolinewidth": 2
          },
          "yaxis": {
           "automargin": true,
           "gridcolor": "white",
           "linecolor": "white",
           "ticks": "",
           "title": {
            "standoff": 15
           },
           "zerolinecolor": "white",
           "zerolinewidth": 2
          }
         }
        },
        "xaxis": {
         "anchor": "y",
         "autorange": true,
         "categoryarray": [
          "Strongly oppose",
          "Somewhat oppose",
          "Somewhat favor",
          "Strongly favor"
         ],
         "categoryorder": "total ascending",
         "domain": [
          0,
          1
         ],
         "range": [
          -0.5,
          3.5
         ],
         "title": {
          "text": "FAVOR OR OPPOSE EXPANDING NUCLEAR PLANTS"
         },
         "type": "category"
        },
        "yaxis": {
         "anchor": "x",
         "autorange": true,
         "domain": [
          0,
          1
         ],
         "range": [
          0,
          460
         ],
         "title": {
          "text": "NUMBER OF RESPONSES"
         }
        }
       }
      },
      "image/png": "[encoded data removed]",
      "text/html": [
       "<div>                            <div id=\"8694af3b-a075-4647-abbc-9c8d0e176108\" class=\"plotly-graph-div\" style=\"height:525px; width:100%;\"></div>            <script type=\"text/javascript\">                require([\"plotly\"], function(Plotly) {                    window.PLOTLYENV=window.PLOTLYENV || {};                                    if (document.getElementById(\"8694af3b-a075-4647-abbc-9c8d0e176108\")) {                    Plotly.newPlot(                        \"8694af3b-a075-4647-abbc-9c8d0e176108\",                        [{\"alignmentgroup\":\"True\",\"bingroup\":\"x\",\"hovertemplate\":\"Q3=Asian<br>Q10=%{x}<br>count=%{y}<extra></extra>\",\"legendgroup\":\"Asian\",\"marker\":{\"color\":\"#636efa\",\"pattern\":{\"shape\":\"\"}},\"name\":\"Asian\",\"offsetgroup\":\"Asian\",\"orientation\":\"v\",\"showlegend\":true,\"x\":[\"Somewhat favor\",\"Strongly favor\",\"Somewhat oppose\",\"Strongly favor\",\"Strongly favor\",\"Somewhat oppose\",\"Strongly favor\",\"Somewhat oppose\",\"Strongly favor\",\"Somewhat oppose\",\"Somewhat favor\",\"Strongly favor\",\"Somewhat favor\",\"Strongly favor\",\"Somewhat favor\",\"Somewhat favor\",\"Strongly favor\",\"Strongly oppose\",\"Somewhat favor\",\"Somewhat favor\",\"Strongly favor\",\"Strongly favor\",\"Somewhat favor\",\"Strongly favor\",\"Somewhat favor\",\"Strongly favor\",\"Somewhat favor\",\"Somewhat oppose\",\"Strongly favor\",\"Strongly favor\",\"Somewhat favor\",\"Strongly favor\",\"Strongly favor\",\"Strongly favor\",\"Somewhat favor\",\"Somewhat favor\",\"Strongly favor\",\"Somewhat favor\",\"Somewhat favor\",\"Somewhat oppose\",\"Strongly favor\",\"Strongly favor\"],\"xaxis\":\"x\",\"yaxis\":\"y\",\"type\":\"histogram\"},{\"alignmentgroup\":\"True\",\"bingroup\":\"x\",\"hovertemplate\":\"Q3=African American or Black<br>Q10=%{x}<br>count=%{y}<extra></extra>\",\"legendgroup\":\"African American or Black\",\"marker\":{\"color\":\"#EF553B\",\"pattern\":{\"shape\":\"\"}},\"name\":\"African American or Black\",\"offsetgroup\":\"African American or Black\",\"orientation\":\"v\",\"showlegend\":true,\"x\":[\"Somewhat favor\",\"Somewhat favor\",\"Strongly favor\",\"Somewhat favor\",\"Strongly favor\",\"Somewhat favor\",\"Somewhat favor\",\"Strongly favor\",\"Strongly favor\",\"Strongly favor\",\"Somewhat oppose\",\"Strongly favor\",\"Somewhat favor\",\"Somewhat favor\",\"Strongly favor\",\"Somewhat oppose\",\"Somewhat favor\",\"Strongly favor\",\"Somewhat oppose\",\"Somewhat oppose\",\"Strongly favor\",\"Somewhat favor\",\"Strongly favor\",\"Strongly favor\",\"Strongly favor\",\"Somewhat favor\",\"Somewhat favor\",\"Somewhat favor\",\"Somewhat favor\",\"Somewhat favor\",\"Somewhat favor\",\"Strongly favor\",\"Strongly oppose\",\"Somewhat favor\",\"Strongly favor\",\"Somewhat favor\",\"Somewhat favor\",\"Somewhat favor\",\"Somewhat favor\",\"Strongly favor\",\"Somewhat favor\",\"Strongly favor\",\"Strongly favor\",\"Somewhat favor\",\"Somewhat favor\",\"Strongly favor\",\"Somewhat favor\",\"Strongly favor\",\"Somewhat oppose\",\"Strongly favor\",\"Somewhat favor\",\"Strongly oppose\",\"Strongly favor\",\"Somewhat favor\",\"Somewhat favor\",\"Somewhat favor\",\"Strongly favor\",\"Strongly favor\",\"Somewhat favor\",\"Strongly favor\",\"Somewhat favor\",\"Somewhat oppose\",\"Somewhat favor\",\"Somewhat favor\",\"Somewhat favor\",\"Somewhat oppose\",\"Somewhat oppose\",\"Somewhat oppose\",\"Somewhat oppose\",\"Somewhat oppose\",\"Strongly favor\",\"Somewhat favor\",\"Strongly favor\",\"Somewhat favor\",\"Somewhat favor\",\"Somewhat favor\",\"Strongly favor\",\"Somewhat favor\",\"Somewhat favor\",\"Somewhat favor\",\"Somewhat oppose\",\"Strongly favor\",\"Strongly favor\",\"Somewhat oppose\",\"Strongly favor\",\"Somewhat favor\",\"Strongly favor\",\"Somewhat favor\",\"Somewhat favor\",\"Somewhat oppose\",\"Somewhat favor\",\"Somewhat favor\",\"Strongly favor\",\"Somewhat favor\",\"Somewhat oppose\",\"Somewhat favor\",\"Strongly favor\",\"Somewhat favor\",\"Strongly favor\",\"Strongly favor\",\"Strongly favor\",\"Strongly favor\",\"Somewhat favor\",\"Strongly favor\",\"Strongly favor\",\"Somewhat favor\",\"Strongly oppose\",\"Somewhat oppose\",\"Strongly favor\",\"Somewhat favor\",\"Strongly oppose\",\"Somewhat favor\",\"Strongly favor\",\"Strongly favor\",\"Strongly favor\",\"Somewhat oppose\",\"Strongly favor\",\"Strongly oppose\",\"Somewhat oppose\",\"Somewhat oppose\",\"Somewhat oppose\",\"Strongly favor\",\"Somewhat favor\",\"Somewhat favor\",\"Strongly favor\",\"Somewhat oppose\",\"Somewhat oppose\",\"Somewhat favor\",\"Strongly favor\",\"Strongly favor\",\"Somewhat favor\",\"Strongly favor\",\"Somewhat favor\",\"Somewhat oppose\",\"Strongly favor\",\"Somewhat favor\",\"Somewhat favor\",\"Somewhat oppose\",\"Somewhat favor\",\"Somewhat oppose\",\"Strongly favor\",\"Strongly oppose\",\"Strongly favor\",\"Somewhat favor\"],\"xaxis\":\"x\",\"yaxis\":\"y\",\"type\":\"histogram\"},{\"alignmentgroup\":\"True\",\"bingroup\":\"x\",\"hovertemplate\":\"Q3=Caucasian or White<br>Q10=%{x}<br>count=%{y}<extra></extra>\",\"legendgroup\":\"Caucasian or White\",\"marker\":{\"color\":\"#00cc96\",\"pattern\":{\"shape\":\"\"}},\"name\":\"Caucasian or White\",\"offsetgroup\":\"Caucasian or White\",\"orientation\":\"v\",\"showlegend\":true,\"x\":[\"Somewhat oppose\",\"Somewhat favor\",\"Strongly favor\",\"Somewhat favor\",\"Somewhat favor\",\"Strongly favor\",\"Somewhat oppose\",\"Somewhat favor\",\"Somewhat favor\",\"Strongly favor\",\"Somewhat favor\",\"Somewhat favor\",\"Strongly oppose\",\"Somewhat favor\",\"Somewhat oppose\",\"Somewhat favor\",\"Strongly favor\",\"Somewhat favor\",\"Strongly favor\",\"Strongly favor\",\"Somewhat favor\",\"Somewhat favor\",\"Somewhat favor\",\"Somewhat favor\",\"Strongly oppose\",\"Strongly oppose\",\"Somewhat favor\",\"Strongly favor\",\"Somewhat favor\",\"Somewhat oppose\",\"Strongly favor\",\"Somewhat favor\",\"Somewhat favor\",\"Somewhat favor\",\"Somewhat favor\",\"Somewhat favor\",\"Somewhat oppose\",\"Somewhat oppose\",\"Strongly favor\",\"Somewhat oppose\",\"Somewhat oppose\",\"Somewhat oppose\",\"Strongly oppose\",\"Strongly favor\",\"Somewhat favor\",\"Somewhat favor\",\"Somewhat favor\",\"Somewhat favor\",\"Strongly favor\",\"Strongly favor\",\"Somewhat favor\",\"Strongly oppose\",\"Strongly favor\",\"Strongly favor\",\"Strongly favor\",\"Somewhat favor\",\"Strongly oppose\",\"Strongly favor\",\"Somewhat oppose\",\"Somewhat oppose\",\"Somewhat favor\",\"Somewhat favor\",\"Somewhat favor\",\"Strongly favor\",\"Somewhat favor\",\"Strongly favor\",\"Somewhat favor\",\"Somewhat oppose\",\"Somewhat favor\",\"Somewhat oppose\",\"Somewhat favor\",\"Somewhat oppose\",\"Somewhat oppose\",\"Somewhat favor\",\"Somewhat favor\",\"Strongly favor\",\"Strongly favor\",\"Somewhat favor\",\"Somewhat favor\",\"Strongly favor\",\"Strongly favor\",\"Strongly favor\",\"Somewhat oppose\",\"Somewhat favor\",\"Strongly favor\",\"Somewhat favor\",\"Somewhat oppose\",\"Somewhat favor\",\"Strongly favor\",\"Strongly favor\",\"Strongly favor\",\"Somewhat favor\",\"Strongly favor\",\"Somewhat favor\",\"Somewhat oppose\",\"Somewhat favor\",\"Strongly favor\",\"Strongly favor\",\"Somewhat favor\",\"Somewhat favor\",\"Somewhat favor\",\"Somewhat favor\",\"Strongly favor\",\"Somewhat oppose\",\"Somewhat oppose\",\"Somewhat oppose\",\"Somewhat oppose\",\"Somewhat favor\",\"Somewhat favor\",\"Strongly oppose\",\"Strongly favor\",\"Somewhat oppose\",\"Strongly oppose\",\"Somewhat oppose\",\"Strongly favor\",\"Somewhat oppose\",\"Somewhat favor\",\"Strongly oppose\",\"Strongly favor\",\"Somewhat favor\",\"Somewhat oppose\",\"Somewhat favor\",\"Somewhat favor\",\"Strongly favor\",\"Somewhat oppose\",\"Strongly favor\",\"Somewhat favor\",\"Strongly favor\",\"Somewhat oppose\",\"Strongly favor\",\"Somewhat favor\",\"Somewhat favor\",\"Somewhat favor\",\"Somewhat oppose\",\"Somewhat favor\",\"Strongly favor\",\"Strongly favor\",\"Strongly favor\",\"Somewhat favor\",\"Somewhat favor\",\"Somewhat favor\",\"Strongly favor\",\"Somewhat favor\",\"Somewhat favor\",\"Somewhat favor\",\"Strongly favor\",\"Somewhat oppose\",\"Somewhat favor\",\"Somewhat favor\",\"Strongly favor\",\"Strongly favor\",\"Somewhat favor\",\"Somewhat favor\",\"Strongly oppose\",\"Somewhat oppose\",\"Somewhat favor\",\"Somewhat favor\",\"Somewhat favor\",\"Strongly favor\",\"Strongly oppose\",\"Somewhat favor\",\"Strongly favor\",\"Somewhat favor\",\"Somewhat favor\",\"Somewhat favor\",\"Somewhat favor\",\"Somewhat oppose\",\"Somewhat favor\",\"Somewhat favor\",\"Strongly favor\",\"Somewhat favor\",\"Somewhat favor\",\"Somewhat favor\",\"Somewhat favor\",\"Strongly oppose\",\"Strongly oppose\",\"Strongly oppose\",\"Strongly favor\",\"Strongly favor\",\"Strongly favor\",\"Strongly favor\",\"Somewhat favor\",\"Somewhat favor\",\"Strongly favor\",\"Strongly favor\",\"Somewhat favor\",\"Strongly favor\",\"Somewhat favor\",\"Strongly favor\",\"Somewhat favor\",\"Strongly oppose\",\"Somewhat favor\",\"Strongly favor\",\"Strongly favor\",\"Somewhat favor\",\"Somewhat oppose\",\"Strongly favor\",\"Strongly oppose\",\"Strongly favor\",\"Somewhat favor\",\"Strongly favor\",\"Strongly favor\",\"Somewhat oppose\",\"Somewhat favor\",\"Strongly favor\",\"Somewhat favor\",\"Somewhat favor\",\"Somewhat favor\",\"Somewhat favor\",\"Somewhat favor\",\"Somewhat oppose\",\"Strongly oppose\",\"Somewhat favor\",\"Strongly oppose\",\"Strongly favor\",\"Somewhat favor\",\"Somewhat favor\",\"Strongly favor\",\"Somewhat oppose\",\"Somewhat favor\",\"Somewhat oppose\",\"Strongly oppose\",\"Strongly favor\",\"Strongly favor\",\"Somewhat favor\",\"Strongly favor\",\"Strongly favor\",\"Somewhat favor\",\"Strongly favor\",\"Strongly oppose\",\"Strongly oppose\",\"Strongly favor\",\"Somewhat favor\",\"Somewhat favor\",\"Somewhat favor\",\"Somewhat favor\",\"Somewhat favor\",\"Strongly favor\",\"Somewhat favor\",\"Strongly favor\",\"Strongly favor\",\"Somewhat favor\",\"Strongly oppose\",\"Somewhat favor\",\"Somewhat favor\",\"Somewhat favor\",\"Somewhat favor\",\"Strongly favor\",\"Strongly favor\",\"Somewhat oppose\",\"Strongly favor\",\"Somewhat favor\",\"Somewhat favor\",\"Strongly favor\",\"Somewhat oppose\",\"Somewhat favor\",\"Strongly favor\",\"Somewhat favor\",\"Strongly favor\",\"Somewhat favor\",\"Strongly favor\",\"Somewhat favor\",\"Strongly oppose\",\"Somewhat favor\",\"Somewhat oppose\",\"Somewhat oppose\",\"Somewhat favor\",\"Somewhat favor\",\"Somewhat favor\",\"Somewhat oppose\",\"Strongly oppose\",\"Somewhat favor\",\"Somewhat favor\",\"Strongly oppose\",\"Somewhat favor\",\"Somewhat favor\",\"Somewhat favor\",\"Strongly favor\",\"Strongly oppose\",\"Somewhat favor\",\"Somewhat oppose\",\"Somewhat oppose\",\"Somewhat oppose\",\"Somewhat favor\",\"Strongly oppose\",\"Strongly favor\",\"Somewhat favor\",\"Somewhat favor\",\"Strongly favor\",\"Strongly oppose\",\"Somewhat favor\",\"Strongly favor\",\"Somewhat oppose\",\"Somewhat favor\",\"Somewhat oppose\",\"Somewhat favor\",\"Strongly favor\",\"Strongly favor\",\"Somewhat favor\",\"Strongly oppose\",\"Somewhat favor\",\"Somewhat favor\",\"Strongly favor\",\"Somewhat favor\",\"Somewhat favor\",\"Somewhat favor\",\"Somewhat favor\",\"Strongly favor\",\"Somewhat favor\",\"Somewhat favor\",\"Somewhat favor\",\"Somewhat favor\",\"Somewhat oppose\",\"Somewhat favor\",\"Somewhat favor\",\"Strongly favor\",\"Strongly favor\",\"Strongly favor\",\"Somewhat favor\",\"Somewhat oppose\",\"Somewhat favor\",\"Strongly favor\",\"Somewhat favor\",\"Strongly favor\",\"Strongly favor\",\"Somewhat favor\",\"Somewhat favor\",\"Somewhat oppose\",\"Somewhat favor\",\"Somewhat favor\",\"Somewhat oppose\",\"Strongly favor\",\"Strongly oppose\",\"Strongly favor\",\"Strongly oppose\",\"Strongly oppose\",\"Somewhat oppose\",\"Somewhat favor\",\"Somewhat oppose\",\"Somewhat oppose\",\"Strongly favor\",\"Somewhat favor\",\"Somewhat favor\",\"Somewhat oppose\",\"Somewhat favor\",\"Somewhat oppose\",\"Somewhat oppose\",\"Somewhat favor\",\"Strongly favor\",\"Somewhat favor\",\"Somewhat oppose\",\"Strongly favor\",\"Somewhat oppose\",\"Somewhat favor\",\"Somewhat favor\",\"Somewhat favor\",\"Strongly favor\",\"Somewhat favor\",\"Somewhat favor\",\"Somewhat favor\",\"Strongly favor\",\"Somewhat favor\",\"Strongly favor\",\"Somewhat oppose\",\"Strongly favor\",\"Somewhat favor\",\"Somewhat oppose\",\"Somewhat favor\",\"Strongly favor\",\"Somewhat favor\",\"Somewhat favor\",\"Strongly favor\",\"Somewhat favor\",\"Strongly favor\",\"Somewhat favor\",\"Somewhat favor\",\"Somewhat oppose\",\"Strongly oppose\",\"Strongly favor\",\"Strongly favor\",\"Somewhat favor\",\"Strongly favor\",\"Somewhat favor\",\"Somewhat oppose\",\"Somewhat favor\",\"Somewhat favor\",\"Strongly favor\",\"Somewhat oppose\",\"Somewhat favor\",\"Somewhat favor\",\"Somewhat favor\",\"Somewhat oppose\",\"Strongly oppose\",\"Strongly favor\",\"Somewhat favor\",\"Somewhat favor\",\"Strongly favor\",\"Strongly oppose\",\"Somewhat oppose\",\"Somewhat favor\",\"Somewhat oppose\",\"Somewhat favor\",\"Somewhat favor\",\"Somewhat oppose\",\"Somewhat favor\",\"Strongly favor\",\"Somewhat oppose\",\"Strongly favor\",\"Somewhat favor\",\"Strongly favor\",\"Somewhat favor\",\"Strongly oppose\",\"Somewhat favor\",\"Somewhat favor\",\"Somewhat oppose\",\"Somewhat favor\",\"Somewhat favor\",\"Strongly favor\",\"Somewhat favor\",\"Somewhat oppose\",\"Somewhat favor\",\"Somewhat favor\",\"Somewhat favor\",\"Somewhat favor\",\"Strongly favor\",\"Strongly favor\",\"Strongly oppose\",\"Somewhat favor\",\"Strongly favor\",\"Somewhat favor\",\"Somewhat favor\",\"Strongly favor\",\"Strongly favor\",\"Strongly favor\",\"Somewhat favor\",\"Somewhat favor\",\"Somewhat oppose\",\"Somewhat favor\",\"Strongly oppose\",\"Somewhat favor\",\"Somewhat favor\",\"Somewhat favor\",\"Strongly favor\",\"Strongly oppose\",\"Somewhat oppose\",\"Strongly favor\",\"Somewhat oppose\",\"Strongly favor\",\"Somewhat favor\",\"Strongly oppose\",\"Strongly favor\",\"Somewhat oppose\",\"Strongly favor\",\"Somewhat oppose\",\"Strongly oppose\",\"Strongly favor\",\"Strongly favor\",\"Somewhat favor\",\"Somewhat favor\",\"Strongly favor\",\"Somewhat oppose\",\"Somewhat favor\",\"Strongly favor\",\"Somewhat favor\",\"Somewhat favor\",\"Somewhat oppose\",\"Strongly favor\",\"Strongly favor\",\"Strongly favor\",\"Somewhat favor\",\"Somewhat favor\",\"Somewhat favor\",\"Somewhat favor\",\"Strongly favor\",\"Somewhat favor\",\"Somewhat favor\",\"Somewhat favor\",\"Strongly favor\",\"Somewhat favor\",\"Somewhat favor\",\"Somewhat favor\",\"Strongly favor\",\"Somewhat oppose\",\"Strongly favor\",\"Strongly favor\",\"Somewhat favor\",\"Somewhat favor\",\"Somewhat oppose\",\"Strongly favor\",\"Strongly favor\",\"Strongly favor\",\"Somewhat favor\",\"Somewhat favor\",\"Somewhat favor\",\"Somewhat oppose\",\"Somewhat oppose\",\"Strongly favor\",\"Strongly oppose\",\"Strongly favor\",\"Strongly favor\",\"Strongly favor\",\"Somewhat favor\",\"Somewhat favor\",\"Somewhat oppose\",\"Strongly favor\",\"Strongly oppose\",\"Somewhat oppose\",\"Strongly favor\",\"Strongly favor\",\"Strongly favor\",\"Strongly favor\",\"Strongly favor\",\"Strongly favor\",\"Somewhat oppose\",\"Somewhat oppose\",\"Strongly favor\",\"Somewhat favor\",\"Somewhat favor\",\"Strongly favor\",\"Somewhat favor\",\"Somewhat favor\",\"Somewhat favor\",\"Somewhat oppose\",\"Strongly favor\",\"Strongly favor\",\"Strongly favor\",\"Strongly favor\",\"Somewhat favor\",\"Somewhat oppose\",\"Strongly favor\",\"Strongly favor\",\"Somewhat favor\",\"Strongly favor\",\"Somewhat favor\",\"Somewhat favor\",\"Somewhat favor\",\"Somewhat favor\",\"Strongly favor\",\"Somewhat oppose\",\"Somewhat favor\",\"Somewhat favor\",\"Strongly oppose\",\"Strongly oppose\",\"Somewhat oppose\",\"Somewhat favor\",\"Somewhat oppose\",\"Strongly oppose\",\"Somewhat oppose\",\"Strongly favor\",\"Somewhat favor\",\"Somewhat favor\",\"Strongly favor\",\"Somewhat favor\",\"Strongly oppose\",\"Somewhat favor\",\"Strongly favor\",\"Strongly oppose\",\"Somewhat favor\",\"Somewhat oppose\",\"Somewhat favor\",\"Somewhat favor\",\"Somewhat favor\",\"Strongly oppose\",\"Strongly favor\",\"Somewhat favor\",\"Somewhat oppose\",\"Somewhat oppose\",\"Strongly favor\",\"Somewhat oppose\",\"Somewhat favor\",\"Strongly favor\",\"Somewhat favor\",\"Somewhat favor\",\"Strongly favor\",\"Strongly favor\",\"Somewhat favor\",\"Somewhat favor\",\"Strongly favor\",\"Strongly favor\",\"Strongly oppose\",\"Strongly favor\",\"Strongly favor\",\"Strongly favor\",\"Strongly favor\",\"Strongly favor\",\"Strongly favor\",\"Strongly favor\",\"Somewhat oppose\",\"Strongly favor\",\"Somewhat favor\",\"Strongly favor\",\"Somewhat favor\",\"Somewhat favor\",\"Strongly favor\",\"Somewhat oppose\",\"Somewhat favor\",\"Somewhat oppose\",\"Strongly favor\",\"Somewhat oppose\",\"Somewhat favor\",\"Somewhat favor\",\"Somewhat oppose\",\"Strongly favor\",\"Somewhat favor\",\"Somewhat favor\",\"Somewhat oppose\",\"Somewhat favor\",\"Strongly oppose\",\"Strongly favor\",\"Somewhat favor\",\"Strongly favor\",\"Somewhat favor\",\"Somewhat favor\",\"Strongly oppose\",\"Strongly favor\",\"Strongly favor\",\"Strongly favor\",\"Strongly oppose\",\"Strongly favor\",\"Somewhat oppose\",\"Strongly favor\",\"Strongly favor\",\"Somewhat oppose\",\"Somewhat favor\",\"Somewhat oppose\",\"Strongly favor\",\"Strongly favor\",\"Strongly favor\",\"Strongly favor\",\"Somewhat favor\",\"Somewhat favor\",\"Somewhat favor\",\"Strongly favor\",\"Somewhat favor\",\"Strongly favor\",\"Strongly oppose\",\"Somewhat oppose\",\"Somewhat favor\",\"Strongly oppose\",\"Strongly favor\",\"Somewhat oppose\",\"Strongly favor\",\"Strongly favor\",\"Strongly favor\",\"Strongly favor\",\"Somewhat favor\",\"Strongly favor\",\"Somewhat favor\",\"Strongly favor\",\"Somewhat favor\",\"Strongly favor\",\"Somewhat oppose\",\"Strongly favor\",\"Somewhat oppose\",\"Strongly favor\",\"Strongly favor\",\"Somewhat favor\",\"Somewhat favor\",\"Somewhat favor\",\"Somewhat favor\",\"Strongly favor\",\"Somewhat favor\",\"Strongly favor\",\"Somewhat favor\",\"Somewhat favor\",\"Somewhat favor\",\"Strongly favor\",\"Strongly oppose\",\"Somewhat favor\",\"Somewhat favor\",\"Strongly favor\",\"Somewhat favor\",\"Somewhat oppose\",\"Somewhat favor\",\"Somewhat oppose\",\"Somewhat favor\",\"Strongly favor\",\"Strongly favor\",\"Somewhat oppose\",\"Somewhat favor\",\"Somewhat favor\",\"Somewhat favor\",\"Strongly favor\",\"Somewhat favor\",\"Somewhat favor\",\"Somewhat favor\",\"Somewhat favor\",\"Strongly oppose\",\"Somewhat favor\",\"Strongly favor\",\"Strongly favor\",\"Somewhat oppose\",\"Somewhat favor\",\"Somewhat oppose\",\"Strongly favor\",\"Somewhat favor\",\"Somewhat favor\",\"Somewhat favor\",\"Strongly favor\",\"Strongly favor\",\"Strongly favor\",\"Strongly favor\",\"Strongly favor\",\"Somewhat oppose\",\"Strongly favor\",\"Strongly favor\",\"Strongly favor\",\"Strongly favor\",\"Strongly favor\",\"Somewhat favor\",\"Somewhat oppose\"],\"xaxis\":\"x\",\"yaxis\":\"y\",\"type\":\"histogram\"},{\"alignmentgroup\":\"True\",\"bingroup\":\"x\",\"hovertemplate\":\"Q3=Native American or Indigenous<br>Q10=%{x}<br>count=%{y}<extra></extra>\",\"legendgroup\":\"Native American or Indigenous\",\"marker\":{\"color\":\"#ab63fa\",\"pattern\":{\"shape\":\"\"}},\"name\":\"Native American or Indigenous\",\"offsetgroup\":\"Native American or Indigenous\",\"orientation\":\"v\",\"showlegend\":true,\"x\":[\"Somewhat favor\",\"Somewhat favor\",\"Somewhat favor\",\"Somewhat favor\",\"Somewhat favor\",\"Somewhat favor\",\"Somewhat favor\",\"Strongly favor\"],\"xaxis\":\"x\",\"yaxis\":\"y\",\"type\":\"histogram\"},{\"alignmentgroup\":\"True\",\"bingroup\":\"x\",\"hovertemplate\":\"Q3=Hispanic, Latino, or Latinx<br>Q10=%{x}<br>count=%{y}<extra></extra>\",\"legendgroup\":\"Hispanic, Latino, or Latinx\",\"marker\":{\"color\":\"#FFA15A\",\"pattern\":{\"shape\":\"\"}},\"name\":\"Hispanic, Latino, or Latinx\",\"offsetgroup\":\"Hispanic, Latino, or Latinx\",\"orientation\":\"v\",\"showlegend\":true,\"x\":[\"Strongly favor\",\"Somewhat favor\",\"Strongly favor\",\"Somewhat oppose\",\"Somewhat favor\",\"Strongly favor\",\"Somewhat favor\",\"Somewhat favor\",\"Somewhat favor\",\"Strongly favor\",\"Somewhat favor\",\"Strongly oppose\",\"Somewhat favor\",\"Somewhat favor\",\"Strongly favor\",\"Strongly favor\",\"Strongly favor\",\"Strongly oppose\",\"Strongly favor\",\"Somewhat favor\",\"Strongly favor\",\"Strongly favor\",\"Strongly favor\",\"Strongly favor\",\"Somewhat favor\",\"Somewhat oppose\",\"Somewhat favor\",\"Somewhat favor\",\"Somewhat favor\",\"Somewhat oppose\",\"Strongly favor\",\"Somewhat favor\",\"Somewhat favor\",\"Somewhat favor\",\"Strongly favor\",\"Somewhat favor\",\"Somewhat favor\",\"Strongly oppose\",\"Somewhat favor\",\"Somewhat favor\",\"Somewhat favor\",\"Somewhat favor\",\"Strongly favor\",\"Somewhat favor\",\"Strongly favor\",\"Somewhat favor\",\"Somewhat favor\",\"Somewhat favor\",\"Somewhat favor\",\"Somewhat favor\",\"Somewhat favor\",\"Somewhat favor\",\"Somewhat oppose\",\"Somewhat oppose\",\"Somewhat favor\",\"Strongly oppose\",\"Somewhat favor\",\"Strongly favor\",\"Strongly favor\",\"Strongly favor\",\"Somewhat favor\",\"Strongly favor\",\"Somewhat oppose\",\"Somewhat favor\",\"Strongly favor\",\"Somewhat favor\",\"Strongly oppose\",\"Strongly favor\",\"Somewhat favor\",\"Somewhat favor\",\"Strongly favor\",\"Strongly oppose\",\"Somewhat favor\",\"Somewhat favor\",\"Strongly favor\",\"Somewhat favor\"],\"xaxis\":\"x\",\"yaxis\":\"y\",\"type\":\"histogram\"},{\"alignmentgroup\":\"True\",\"bingroup\":\"x\",\"hovertemplate\":\"Q3=Mixed Race<br>Q10=%{x}<br>count=%{y}<extra></extra>\",\"legendgroup\":\"Mixed Race\",\"marker\":{\"color\":\"#19d3f3\",\"pattern\":{\"shape\":\"\"}},\"name\":\"Mixed Race\",\"offsetgroup\":\"Mixed Race\",\"orientation\":\"v\",\"showlegend\":true,\"x\":[\"Somewhat favor\",\"Somewhat favor\",\"Strongly favor\",\"Somewhat favor\",\"Somewhat favor\",\"Somewhat favor\",\"Somewhat oppose\",\"Somewhat favor\",\"Somewhat oppose\",\"Somewhat oppose\",\"Strongly favor\",\"Somewhat oppose\",\"Strongly oppose\",\"Somewhat oppose\",\"Strongly favor\"],\"xaxis\":\"x\",\"yaxis\":\"y\",\"type\":\"histogram\"},{\"alignmentgroup\":\"True\",\"bingroup\":\"x\",\"hovertemplate\":\"Q3=No answer<br>Q10=%{x}<br>count=%{y}<extra></extra>\",\"legendgroup\":\"No answer\",\"marker\":{\"color\":\"#FF6692\",\"pattern\":{\"shape\":\"\"}},\"name\":\"No answer\",\"offsetgroup\":\"No answer\",\"orientation\":\"v\",\"showlegend\":true,\"x\":[\"Strongly favor\"],\"xaxis\":\"x\",\"yaxis\":\"y\",\"type\":\"histogram\"},{\"alignmentgroup\":\"True\",\"bingroup\":\"x\",\"hovertemplate\":\"Q3=Other<br>Q10=%{x}<br>count=%{y}<extra></extra>\",\"legendgroup\":\"Other\",\"marker\":{\"color\":\"#B6E880\",\"pattern\":{\"shape\":\"\"}},\"name\":\"Other\",\"offsetgroup\":\"Other\",\"orientation\":\"v\",\"showlegend\":true,\"x\":[\"Strongly oppose\",\"Somewhat favor\",\"Somewhat oppose\"],\"xaxis\":\"x\",\"yaxis\":\"y\",\"type\":\"histogram\"}],                        {\"template\":{\"data\":{\"histogram2dcontour\":[{\"type\":\"histogram2dcontour\",\"colorbar\":{\"outlinewidth\":0,\"ticks\":\"\"},\"colorscale\":[[0.0,\"#0d0887\"],[0.1111111111111111,\"#46039f\"],[0.2222222222222222,\"#7201a8\"],[0.3333333333333333,\"#9c179e\"],[0.4444444444444444,\"#bd3786\"],[0.5555555555555556,\"#d8576b\"],[0.6666666666666666,\"#ed7953\"],[0.7777777777777778,\"#fb9f3a\"],[0.8888888888888888,\"#fdca26\"],[1.0,\"#f0f921\"]]}],\"choropleth\":[{\"type\":\"choropleth\",\"colorbar\":{\"outlinewidth\":0,\"ticks\":\"\"}}],\"histogram2d\":[{\"type\":\"histogram2d\",\"colorbar\":{\"outlinewidth\":0,\"ticks\":\"\"},\"colorscale\":[[0.0,\"#0d0887\"],[0.1111111111111111,\"#46039f\"],[0.2222222222222222,\"#7201a8\"],[0.3333333333333333,\"#9c179e\"],[0.4444444444444444,\"#bd3786\"],[0.5555555555555556,\"#d8576b\"],[0.6666666666666666,\"#ed7953\"],[0.7777777777777778,\"#fb9f3a\"],[0.8888888888888888,\"#fdca26\"],[1.0,\"#f0f921\"]]}],\"heatmap\":[{\"type\":\"heatmap\",\"colorbar\":{\"outlinewidth\":0,\"ticks\":\"\"},\"colorscale\":[[0.0,\"#0d0887\"],[0.1111111111111111,\"#46039f\"],[0.2222222222222222,\"#7201a8\"],[0.3333333333333333,\"#9c179e\"],[0.4444444444444444,\"#bd3786\"],[0.5555555555555556,\"#d8576b\"],[0.6666666666666666,\"#ed7953\"],[0.7777777777777778,\"#fb9f3a\"],[0.8888888888888888,\"#fdca26\"],[1.0,\"#f0f921\"]]}],\"heatmapgl\":[{\"type\":\"heatmapgl\",\"colorbar\":{\"outlinewidth\":0,\"ticks\":\"\"},\"colorscale\":[[0.0,\"#0d0887\"],[0.1111111111111111,\"#46039f\"],[0.2222222222222222,\"#7201a8\"],[0.3333333333333333,\"#9c179e\"],[0.4444444444444444,\"#bd3786\"],[0.5555555555555556,\"#d8576b\"],[0.6666666666666666,\"#ed7953\"],[0.7777777777777778,\"#fb9f3a\"],[0.8888888888888888,\"#fdca26\"],[1.0,\"#f0f921\"]]}],\"contourcarpet\":[{\"type\":\"contourcarpet\",\"colorbar\":{\"outlinewidth\":0,\"ticks\":\"\"}}],\"contour\":[{\"type\":\"contour\",\"colorbar\":{\"outlinewidth\":0,\"ticks\":\"\"},\"colorscale\":[[0.0,\"#0d0887\"],[0.1111111111111111,\"#46039f\"],[0.2222222222222222,\"#7201a8\"],[0.3333333333333333,\"#9c179e\"],[0.4444444444444444,\"#bd3786\"],[0.5555555555555556,\"#d8576b\"],[0.6666666666666666,\"#ed7953\"],[0.7777777777777778,\"#fb9f3a\"],[0.8888888888888888,\"#fdca26\"],[1.0,\"#f0f921\"]]}],\"surface\":[{\"type\":\"surface\",\"colorbar\":{\"outlinewidth\":0,\"ticks\":\"\"},\"colorscale\":[[0.0,\"#0d0887\"],[0.1111111111111111,\"#46039f\"],[0.2222222222222222,\"#7201a8\"],[0.3333333333333333,\"#9c179e\"],[0.4444444444444444,\"#bd3786\"],[0.5555555555555556,\"#d8576b\"],[0.6666666666666666,\"#ed7953\"],[0.7777777777777778,\"#fb9f3a\"],[0.8888888888888888,\"#fdca26\"],[1.0,\"#f0f921\"]]}],\"mesh3d\":[{\"type\":\"mesh3d\",\"colorbar\":{\"outlinewidth\":0,\"ticks\":\"\"}}],\"scatter\":[{\"fillpattern\":{\"fillmode\":\"overlay\",\"size\":10,\"solidity\":0.2},\"type\":\"scatter\"}],\"parcoords\":[{\"type\":\"parcoords\",\"line\":{\"colorbar\":{\"outlinewidth\":0,\"ticks\":\"\"}}}],\"scatterpolargl\":[{\"type\":\"scatterpolargl\",\"marker\":{\"colorbar\":{\"outlinewidth\":0,\"ticks\":\"\"}}}],\"bar\":[{\"error_x\":{\"color\":\"#2a3f5f\"},\"error_y\":{\"color\":\"#2a3f5f\"},\"marker\":{\"line\":{\"color\":\"#E5ECF6\",\"width\":0.5},\"pattern\":{\"fillmode\":\"overlay\",\"size\":10,\"solidity\":0.2}},\"type\":\"bar\"}],\"scattergeo\":[{\"type\":\"scattergeo\",\"marker\":{\"colorbar\":{\"outlinewidth\":0,\"ticks\":\"\"}}}],\"scatterpolar\":[{\"type\":\"scatterpolar\",\"marker\":{\"colorbar\":{\"outlinewidth\":0,\"ticks\":\"\"}}}],\"histogram\":[{\"marker\":{\"pattern\":{\"fillmode\":\"overlay\",\"size\":10,\"solidity\":0.2}},\"type\":\"histogram\"}],\"scattergl\":[{\"type\":\"scattergl\",\"marker\":{\"colorbar\":{\"outlinewidth\":0,\"ticks\":\"\"}}}],\"scatter3d\":[{\"type\":\"scatter3d\",\"line\":{\"colorbar\":{\"outlinewidth\":0,\"ticks\":\"\"}},\"marker\":{\"colorbar\":{\"outlinewidth\":0,\"ticks\":\"\"}}}],\"scattermapbox\":[{\"type\":\"scattermapbox\",\"marker\":{\"colorbar\":{\"outlinewidth\":0,\"ticks\":\"\"}}}],\"scatterternary\":[{\"type\":\"scatterternary\",\"marker\":{\"colorbar\":{\"outlinewidth\":0,\"ticks\":\"\"}}}],\"scattercarpet\":[{\"type\":\"scattercarpet\",\"marker\":{\"colorbar\":{\"outlinewidth\":0,\"ticks\":\"\"}}}],\"carpet\":[{\"aaxis\":{\"endlinecolor\":\"#2a3f5f\",\"gridcolor\":\"white\",\"linecolor\":\"white\",\"minorgridcolor\":\"white\",\"startlinecolor\":\"#2a3f5f\"},\"baxis\":{\"endlinecolor\":\"#2a3f5f\",\"gridcolor\":\"white\",\"linecolor\":\"white\",\"minorgridcolor\":\"white\",\"startlinecolor\":\"#2a3f5f\"},\"type\":\"carpet\"}],\"table\":[{\"cells\":{\"fill\":{\"color\":\"#EBF0F8\"},\"line\":{\"color\":\"white\"}},\"header\":{\"fill\":{\"color\":\"#C8D4E3\"},\"line\":{\"color\":\"white\"}},\"type\":\"table\"}],\"barpolar\":[{\"marker\":{\"line\":{\"color\":\"#E5ECF6\",\"width\":0.5},\"pattern\":{\"fillmode\":\"overlay\",\"size\":10,\"solidity\":0.2}},\"type\":\"barpolar\"}],\"pie\":[{\"automargin\":true,\"type\":\"pie\"}]},\"layout\":{\"autotypenumbers\":\"strict\",\"colorway\":[\"#636efa\",\"#EF553B\",\"#00cc96\",\"#ab63fa\",\"#FFA15A\",\"#19d3f3\",\"#FF6692\",\"#B6E880\",\"#FF97FF\",\"#FECB52\"],\"font\":{\"color\":\"#2a3f5f\"},\"hovermode\":\"closest\",\"hoverlabel\":{\"align\":\"left\"},\"paper_bgcolor\":\"white\",\"plot_bgcolor\":\"#E5ECF6\",\"polar\":{\"bgcolor\":\"#E5ECF6\",\"angularaxis\":{\"gridcolor\":\"white\",\"linecolor\":\"white\",\"ticks\":\"\"},\"radialaxis\":{\"gridcolor\":\"white\",\"linecolor\":\"white\",\"ticks\":\"\"}},\"ternary\":{\"bgcolor\":\"#E5ECF6\",\"aaxis\":{\"gridcolor\":\"white\",\"linecolor\":\"white\",\"ticks\":\"\"},\"baxis\":{\"gridcolor\":\"white\",\"linecolor\":\"white\",\"ticks\":\"\"},\"caxis\":{\"gridcolor\":\"white\",\"linecolor\":\"white\",\"ticks\":\"\"}},\"coloraxis\":{\"colorbar\":{\"outlinewidth\":0,\"ticks\":\"\"}},\"colorscale\":{\"sequential\":[[0.0,\"#0d0887\"],[0.1111111111111111,\"#46039f\"],[0.2222222222222222,\"#7201a8\"],[0.3333333333333333,\"#9c179e\"],[0.4444444444444444,\"#bd3786\"],[0.5555555555555556,\"#d8576b\"],[0.6666666666666666,\"#ed7953\"],[0.7777777777777778,\"#fb9f3a\"],[0.8888888888888888,\"#fdca26\"],[1.0,\"#f0f921\"]],\"sequentialminus\":[[0.0,\"#0d0887\"],[0.1111111111111111,\"#46039f\"],[0.2222222222222222,\"#7201a8\"],[0.3333333333333333,\"#9c179e\"],[0.4444444444444444,\"#bd3786\"],[0.5555555555555556,\"#d8576b\"],[0.6666666666666666,\"#ed7953\"],[0.7777777777777778,\"#fb9f3a\"],[0.8888888888888888,\"#fdca26\"],[1.0,\"#f0f921\"]],\"diverging\":[[0,\"#8e0152\"],[0.1,\"#c51b7d\"],[0.2,\"#de77ae\"],[0.3,\"#f1b6da\"],[0.4,\"#fde0ef\"],[0.5,\"#f7f7f7\"],[0.6,\"#e6f5d0\"],[0.7,\"#b8e186\"],[0.8,\"#7fbc41\"],[0.9,\"#4d9221\"],[1,\"#276419\"]]},\"xaxis\":{\"gridcolor\":\"white\",\"linecolor\":\"white\",\"ticks\":\"\",\"title\":{\"standoff\":15},\"zerolinecolor\":\"white\",\"automargin\":true,\"zerolinewidth\":2},\"yaxis\":{\"gridcolor\":\"white\",\"linecolor\":\"white\",\"ticks\":\"\",\"title\":{\"standoff\":15},\"zerolinecolor\":\"white\",\"automargin\":true,\"zerolinewidth\":2},\"scene\":{\"xaxis\":{\"backgroundcolor\":\"#E5ECF6\",\"gridcolor\":\"white\",\"linecolor\":\"white\",\"showbackground\":true,\"ticks\":\"\",\"zerolinecolor\":\"white\",\"gridwidth\":2},\"yaxis\":{\"backgroundcolor\":\"#E5ECF6\",\"gridcolor\":\"white\",\"linecolor\":\"white\",\"showbackground\":true,\"ticks\":\"\",\"zerolinecolor\":\"white\",\"gridwidth\":2},\"zaxis\":{\"backgroundcolor\":\"#E5ECF6\",\"gridcolor\":\"white\",\"linecolor\":\"white\",\"showbackground\":true,\"ticks\":\"\",\"zerolinecolor\":\"white\",\"gridwidth\":2}},\"shapedefaults\":{\"line\":{\"color\":\"#2a3f5f\"}},\"annotationdefaults\":{\"arrowcolor\":\"#2a3f5f\",\"arrowhead\":0,\"arrowwidth\":1},\"geo\":{\"bgcolor\":\"white\",\"landcolor\":\"#E5ECF6\",\"subunitcolor\":\"white\",\"showland\":true,\"showlakes\":true,\"lakecolor\":\"white\"},\"title\":{\"x\":0.05},\"mapbox\":{\"style\":\"light\"}}},\"xaxis\":{\"anchor\":\"y\",\"domain\":[0.0,1.0],\"title\":{\"text\":\"FAVOR OR OPPOSE EXPANDING NUCLEAR PLANTS\"},\"categoryorder\":\"total ascending\",\"categoryarray\":[\"Strongly oppose\",\"Somewhat oppose\",\"Somewhat favor\",\"Strongly favor\"]},\"yaxis\":{\"anchor\":\"x\",\"domain\":[0.0,1.0],\"title\":{\"text\":\"NUMBER OF RESPONSES\"}},\"legend\":{\"title\":{\"text\":\"RACE\"},\"tracegroupgap\":0},\"margin\":{\"t\":60},\"barmode\":\"relative\"},                        {\"responsive\": true}                    ).then(function(){\n",
       "                            \n",
       "var gd = document.getElementById('8694af3b-a075-4647-abbc-9c8d0e176108');\n",
       "var x = new MutationObserver(function (mutations, observer) {{\n",
       "        var display = window.getComputedStyle(gd).display;\n",
       "        if (!display || display === 'none') {{\n",
       "            console.log([gd, 'removed!']);\n",
       "            Plotly.purge(gd);\n",
       "            observer.disconnect();\n",
       "        }}\n",
       "}});\n",
       "\n",
       "// Listen for the removal of the full notebook cells\n",
       "var notebookContainer = gd.closest('#notebook-container');\n",
       "if (notebookContainer) {{\n",
       "    x.observe(notebookContainer, {childList: true});\n",
       "}}\n",
       "\n",
       "// Listen for the clearing of the current output cell\n",
       "var outputEl = gd.closest('.output');\n",
       "if (outputEl) {{\n",
       "    x.observe(outputEl, {childList: true});\n",
       "}}\n",
       "\n",
       "                        })                };                });            </script>        </div>"
      ]
     },
     "metadata": {},
     "output_type": "display_data"
    }
   ],
   "source": [
    "fig = px.histogram(dataframe1, x=\"Q10\", color=\"Q3\").update_xaxes(categoryorder='array', categoryarray=[\"Strongly oppose\", \"Somewhat oppose\", \"Somewhat favor\", \"Strongly favor\"]).update_xaxes(categoryorder='total ascending').update_layout(\n",
    "xaxis_title=\"FAVOR OR OPPOSE EXPANDING NUCLEAR PLANTS\", yaxis_title=\"NUMBER OF RESPONSES\", legend_title=\"RACE\",\n",
    ")\n",
    "fig.show()"
   ]
  },
  {
   "cell_type": "code",
   "execution_count": 63,
   "id": "ce17418c-ff07-4eba-8495-47144d360114",
   "metadata": {},
   "outputs": [
    {
     "data": {
      "application/vnd.plotly.v1+json": {
       "config": {
        "plotlyServerURL": "https://plot.ly"
       },
       "data": [
        {
         "alignmentgroup": "True",
         "bingroup": "x",
         "hovertemplate": "Q4=Graduated college, bachelor's degree<br>Q10=%{x}<br>count=%{y}<extra></extra>",
         "legendgroup": "Graduated college, bachelor's degree",
         "marker": {
          "color": "#636efa",
          "pattern": {
           "shape": ""
          }
         },
         "name": "Graduated college, bachelor's degree",
         "offsetgroup": "Graduated college, bachelor's degree",
         "orientation": "v",
         "showlegend": true,
         "type": "histogram",
         "x": [
          "Somewhat favor",
          "Somewhat favor",
          "Somewhat favor",
          "Somewhat favor",
          "Somewhat favor",
          "Strongly favor",
          "Strongly favor",
          "Somewhat favor",
          "Somewhat oppose",
          "Somewhat favor",
          "Somewhat oppose",
          "Strongly favor",
          "Somewhat favor",
          "Somewhat favor",
          "Somewhat oppose",
          "Somewhat favor",
          "Strongly favor",
          "Strongly favor",
          "Strongly favor",
          "Somewhat oppose",
          "Somewhat favor",
          "Somewhat oppose",
          "Somewhat favor",
          "Somewhat favor",
          "Strongly favor",
          "Somewhat oppose",
          "Somewhat favor",
          "Strongly favor",
          "Strongly favor",
          "Strongly favor",
          "Strongly favor",
          "Strongly favor",
          "Somewhat favor",
          "Strongly favor",
          "Somewhat favor",
          "Somewhat favor",
          "Somewhat favor",
          "Strongly favor",
          "Somewhat favor",
          "Strongly oppose",
          "Strongly oppose",
          "Somewhat favor",
          "Somewhat oppose",
          "Somewhat oppose",
          "Strongly favor",
          "Somewhat oppose",
          "Strongly favor",
          "Somewhat oppose",
          "Strongly favor",
          "Somewhat oppose",
          "Strongly favor",
          "Somewhat favor",
          "Somewhat favor",
          "Strongly favor",
          "Somewhat favor",
          "Somewhat favor",
          "Strongly favor",
          "Strongly oppose",
          "Strongly favor",
          "Somewhat favor",
          "Somewhat favor",
          "Strongly oppose",
          "Strongly oppose",
          "Somewhat favor",
          "Strongly favor",
          "Somewhat favor",
          "Somewhat favor",
          "Somewhat favor",
          "Somewhat favor",
          "Somewhat favor",
          "Strongly favor",
          "Somewhat oppose",
          "Strongly oppose",
          "Strongly oppose",
          "Somewhat favor",
          "Somewhat oppose",
          "Somewhat favor",
          "Somewhat favor",
          "Somewhat favor",
          "Strongly favor",
          "Strongly favor",
          "Strongly favor",
          "Somewhat oppose",
          "Strongly oppose",
          "Somewhat oppose",
          "Somewhat oppose",
          "Somewhat favor",
          "Strongly oppose",
          "Strongly favor",
          "Somewhat favor",
          "Somewhat favor",
          "Somewhat favor",
          "Somewhat favor",
          "Somewhat favor",
          "Strongly oppose",
          "Strongly favor",
          "Somewhat oppose",
          "Strongly favor",
          "Strongly favor",
          "Somewhat favor",
          "Somewhat oppose",
          "Strongly favor",
          "Strongly favor",
          "Strongly favor",
          "Somewhat favor",
          "Strongly favor",
          "Somewhat favor",
          "Somewhat favor",
          "Somewhat favor",
          "Somewhat favor",
          "Strongly favor",
          "Strongly favor",
          "Strongly oppose",
          "Somewhat favor",
          "Strongly oppose",
          "Somewhat oppose",
          "Somewhat favor",
          "Somewhat oppose",
          "Strongly favor",
          "Somewhat favor",
          "Strongly favor",
          "Strongly oppose",
          "Somewhat favor",
          "Somewhat favor",
          "Somewhat oppose",
          "Somewhat favor",
          "Somewhat favor",
          "Somewhat favor",
          "Somewhat favor",
          "Somewhat favor",
          "Strongly favor",
          "Strongly oppose",
          "Somewhat oppose",
          "Somewhat oppose",
          "Somewhat oppose",
          "Strongly favor",
          "Somewhat favor",
          "Strongly favor",
          "Strongly favor",
          "Somewhat favor",
          "Somewhat oppose",
          "Strongly favor",
          "Strongly favor",
          "Somewhat favor",
          "Strongly favor",
          "Strongly favor",
          "Somewhat favor",
          "Somewhat favor",
          "Somewhat favor",
          "Strongly oppose",
          "Somewhat favor",
          "Strongly favor",
          "Strongly favor",
          "Strongly favor",
          "Strongly favor",
          "Strongly favor",
          "Strongly favor",
          "Somewhat favor",
          "Somewhat favor",
          "Somewhat oppose",
          "Somewhat favor",
          "Strongly favor",
          "Somewhat favor",
          "Somewhat favor",
          "Strongly favor",
          "Somewhat favor",
          "Somewhat favor",
          "Somewhat favor",
          "Strongly favor",
          "Somewhat favor",
          "Somewhat favor",
          "Somewhat favor",
          "Strongly favor",
          "Somewhat favor",
          "Somewhat favor",
          "Somewhat favor",
          "Strongly favor",
          "Strongly favor",
          "Strongly favor",
          "Somewhat favor",
          "Somewhat favor",
          "Somewhat oppose",
          "Strongly oppose",
          "Somewhat favor",
          "Strongly favor",
          "Somewhat favor",
          "Strongly favor",
          "Strongly favor",
          "Strongly favor",
          "Somewhat favor",
          "Somewhat favor",
          "Somewhat favor",
          "Somewhat oppose",
          "Somewhat oppose",
          "Strongly favor",
          "Strongly oppose",
          "Strongly favor",
          "Strongly favor",
          "Strongly favor",
          "Strongly favor",
          "Somewhat favor",
          "Somewhat favor",
          "Somewhat oppose",
          "Strongly favor",
          "Strongly oppose",
          "Somewhat oppose",
          "Strongly favor",
          "Strongly favor",
          "Strongly favor",
          "Strongly favor",
          "Somewhat oppose",
          "Strongly favor",
          "Strongly favor",
          "Somewhat oppose",
          "Somewhat oppose",
          "Strongly favor",
          "Somewhat favor",
          "Somewhat favor",
          "Strongly favor",
          "Somewhat favor",
          "Somewhat favor",
          "Somewhat favor",
          "Somewhat oppose",
          "Strongly favor",
          "Strongly favor",
          "Strongly favor",
          "Strongly favor",
          "Somewhat favor",
          "Somewhat oppose",
          "Strongly favor",
          "Strongly favor",
          "Somewhat favor",
          "Strongly favor",
          "Somewhat favor",
          "Somewhat favor",
          "Somewhat favor",
          "Somewhat favor",
          "Strongly favor",
          "Strongly favor",
          "Somewhat oppose",
          "Somewhat favor",
          "Somewhat favor",
          "Somewhat favor",
          "Strongly oppose",
          "Strongly oppose",
          "Somewhat oppose",
          "Somewhat favor",
          "Somewhat favor",
          "Somewhat oppose",
          "Strongly oppose",
          "Somewhat oppose",
          "Strongly favor",
          "Somewhat favor",
          "Somewhat favor",
          "Strongly favor",
          "Somewhat favor",
          "Strongly oppose",
          "Somewhat favor",
          "Strongly favor",
          "Strongly oppose",
          "Somewhat favor",
          "Somewhat oppose",
          "Somewhat favor",
          "Somewhat favor",
          "Somewhat favor",
          "Strongly oppose",
          "Strongly favor",
          "Somewhat favor",
          "Somewhat oppose",
          "Somewhat oppose",
          "Strongly favor",
          "Somewhat oppose",
          "Somewhat favor",
          "Strongly favor",
          "Somewhat favor",
          "Somewhat favor",
          "Strongly favor",
          "Strongly favor",
          "Somewhat favor",
          "Somewhat favor",
          "Strongly favor",
          "Strongly favor",
          "Strongly oppose",
          "Strongly favor",
          "Strongly favor",
          "Strongly favor",
          "Strongly favor",
          "Strongly favor",
          "Somewhat oppose",
          "Strongly favor",
          "Strongly favor",
          "Somewhat oppose",
          "Strongly favor",
          "Strongly favor",
          "Strongly oppose",
          "Somewhat favor",
          "Strongly favor",
          "Somewhat favor",
          "Somewhat favor",
          "Strongly favor",
          "Somewhat oppose",
          "Somewhat favor",
          "Somewhat oppose",
          "Somewhat favor",
          "Strongly favor",
          "Somewhat oppose",
          "Somewhat favor",
          "Somewhat favor",
          "Somewhat oppose",
          "Strongly favor",
          "Somewhat favor",
          "Somewhat favor",
          "Somewhat oppose",
          "Somewhat favor",
          "Somewhat oppose",
          "Somewhat favor",
          "Somewhat favor",
          "Strongly oppose",
          "Strongly favor",
          "Strongly oppose",
          "Somewhat favor",
          "Strongly favor",
          "Somewhat favor",
          "Somewhat favor",
          "Strongly oppose",
          "Strongly favor",
          "Strongly favor",
          "Strongly favor",
          "Strongly favor",
          "Strongly oppose",
          "Strongly favor",
          "Somewhat oppose",
          "Strongly favor",
          "Strongly favor",
          "Somewhat oppose",
          "Somewhat favor",
          "Somewhat oppose",
          "Strongly favor",
          "Strongly favor",
          "Strongly favor",
          "Strongly favor",
          "Strongly favor",
          "Somewhat favor",
          "Somewhat favor",
          "Somewhat favor",
          "Strongly favor",
          "Somewhat favor",
          "Somewhat favor",
          "Strongly favor",
          "Strongly oppose",
          "Somewhat oppose",
          "Somewhat favor",
          "Somewhat favor",
          "Strongly oppose",
          "Strongly favor",
          "Somewhat oppose",
          "Strongly favor",
          "Strongly favor",
          "Strongly oppose",
          "Strongly favor",
          "Strongly favor",
          "Somewhat favor",
          "Strongly favor",
          "Somewhat favor",
          "Strongly favor",
          "Somewhat oppose",
          "Somewhat favor",
          "Strongly favor",
          "Somewhat oppose",
          "Strongly favor",
          "Somewhat favor",
          "Strongly favor",
          "Somewhat oppose",
          "Strongly favor",
          "Strongly favor",
          "Somewhat favor",
          "Somewhat favor",
          "Somewhat oppose",
          "Somewhat favor",
          "Somewhat favor",
          "Strongly favor",
          "Somewhat favor",
          "Strongly favor",
          "Somewhat favor",
          "Somewhat favor",
          "Somewhat favor",
          "Strongly favor",
          "Strongly oppose",
          "Somewhat favor",
          "Somewhat favor",
          "Strongly favor",
          "Somewhat favor",
          "Somewhat oppose",
          "Somewhat favor",
          "Strongly favor",
          "Somewhat oppose",
          "Somewhat favor",
          "Strongly favor",
          "Strongly favor",
          "Somewhat oppose",
          "Somewhat favor",
          "Somewhat favor",
          "Somewhat favor",
          "Strongly favor",
          "Somewhat favor",
          "Somewhat favor",
          "Somewhat favor",
          "Somewhat favor",
          "Strongly favor",
          "Strongly oppose",
          "Somewhat favor",
          "Somewhat favor",
          "Strongly favor",
          "Strongly favor",
          "Strongly favor",
          "Somewhat oppose",
          "Somewhat favor",
          "Somewhat oppose",
          "Strongly favor",
          "Somewhat favor",
          "Somewhat favor",
          "Somewhat favor",
          "Strongly favor",
          "Strongly favor",
          "Strongly favor",
          "Strongly favor",
          "Strongly favor",
          "Somewhat oppose",
          "Strongly favor",
          "Somewhat favor",
          "Strongly favor",
          "Strongly favor",
          "Strongly favor",
          "Strongly favor",
          "Somewhat oppose",
          "Strongly favor",
          "Somewhat favor"
         ],
         "xaxis": "x",
         "yaxis": "y"
        },
        {
         "alignmentgroup": "True",
         "bingroup": "x",
         "hovertemplate": "Q4=Some high school or less<br>Q10=%{x}<br>count=%{y}<extra></extra>",
         "legendgroup": "Some high school or less",
         "marker": {
          "color": "#EF553B",
          "pattern": {
           "shape": ""
          }
         },
         "name": "Some high school or less",
         "offsetgroup": "Some high school or less",
         "orientation": "v",
         "showlegend": true,
         "type": "histogram",
         "x": [
          "Somewhat oppose",
          "Strongly oppose",
          "Somewhat oppose",
          "Strongly favor",
          "Somewhat favor",
          "Somewhat favor",
          "Strongly favor",
          "Somewhat favor",
          "Somewhat oppose",
          "Somewhat favor",
          "Somewhat oppose",
          "Somewhat favor",
          "Somewhat oppose",
          "Somewhat favor",
          "Somewhat oppose",
          "Strongly favor",
          "Somewhat favor",
          "Somewhat oppose",
          "Somewhat favor",
          "Somewhat favor",
          "Somewhat favor",
          "Strongly oppose",
          "Strongly favor",
          "Somewhat favor"
         ],
         "xaxis": "x",
         "yaxis": "y"
        },
        {
         "alignmentgroup": "True",
         "bingroup": "x",
         "hovertemplate": "Q4=Graduate school<br>Q10=%{x}<br>count=%{y}<extra></extra>",
         "legendgroup": "Graduate school",
         "marker": {
          "color": "#00cc96",
          "pattern": {
           "shape": ""
          }
         },
         "name": "Graduate school",
         "offsetgroup": "Graduate school",
         "orientation": "v",
         "showlegend": true,
         "type": "histogram",
         "x": [
          "Strongly favor",
          "Somewhat favor",
          "Somewhat favor",
          "Somewhat favor",
          "Strongly oppose",
          "Strongly oppose",
          "Strongly favor",
          "Somewhat favor",
          "Strongly favor",
          "Somewhat favor",
          "Somewhat oppose",
          "Somewhat favor",
          "Somewhat favor",
          "Strongly favor",
          "Strongly favor",
          "Strongly favor",
          "Strongly favor",
          "Somewhat oppose",
          "Strongly favor",
          "Somewhat favor",
          "Strongly favor",
          "Somewhat favor",
          "Somewhat favor",
          "Strongly favor",
          "Somewhat favor",
          "Strongly oppose",
          "Somewhat favor",
          "Somewhat oppose",
          "Somewhat favor",
          "Strongly favor",
          "Somewhat oppose",
          "Somewhat favor",
          "Somewhat favor",
          "Somewhat oppose",
          "Somewhat favor",
          "Strongly favor",
          "Strongly favor",
          "Somewhat favor",
          "Somewhat favor",
          "Strongly favor",
          "Somewhat oppose",
          "Strongly favor",
          "Somewhat favor"
         ],
         "xaxis": "x",
         "yaxis": "y"
        },
        {
         "alignmentgroup": "True",
         "bingroup": "x",
         "hovertemplate": "Q4=Graduated high school<br>Q10=%{x}<br>count=%{y}<extra></extra>",
         "legendgroup": "Graduated high school",
         "marker": {
          "color": "#ab63fa",
          "pattern": {
           "shape": ""
          }
         },
         "name": "Graduated high school",
         "offsetgroup": "Graduated high school",
         "orientation": "v",
         "showlegend": true,
         "type": "histogram",
         "x": [
          "Somewhat favor",
          "Strongly favor",
          "Somewhat favor",
          "Somewhat favor",
          "Somewhat favor",
          "Strongly favor",
          "Somewhat favor",
          "Somewhat favor",
          "Somewhat favor",
          "Somewhat favor",
          "Strongly oppose",
          "Somewhat favor",
          "Strongly favor",
          "Somewhat favor",
          "Somewhat favor",
          "Somewhat favor",
          "Somewhat oppose",
          "Strongly favor",
          "Strongly oppose",
          "Strongly favor",
          "Somewhat favor",
          "Somewhat favor",
          "Strongly favor",
          "Strongly oppose",
          "Strongly favor",
          "Strongly favor",
          "Somewhat oppose",
          "Somewhat favor",
          "Strongly favor",
          "Strongly favor",
          "Somewhat favor",
          "Somewhat oppose",
          "Strongly favor",
          "Strongly favor",
          "Somewhat oppose",
          "Somewhat oppose",
          "Somewhat favor",
          "Strongly favor",
          "Somewhat favor",
          "Strongly oppose",
          "Somewhat oppose",
          "Somewhat favor",
          "Somewhat favor",
          "Somewhat favor",
          "Strongly favor",
          "Somewhat oppose",
          "Strongly favor",
          "Somewhat oppose",
          "Somewhat oppose",
          "Somewhat favor",
          "Strongly favor",
          "Somewhat oppose",
          "Strongly favor",
          "Somewhat favor",
          "Somewhat favor",
          "Strongly favor",
          "Somewhat oppose",
          "Somewhat favor",
          "Somewhat favor",
          "Strongly favor",
          "Strongly favor",
          "Somewhat oppose",
          "Somewhat favor",
          "Strongly favor",
          "Strongly favor",
          "Somewhat favor",
          "Strongly favor",
          "Somewhat favor",
          "Somewhat favor",
          "Somewhat favor",
          "Somewhat oppose",
          "Strongly favor",
          "Somewhat favor",
          "Somewhat favor",
          "Somewhat favor",
          "Somewhat favor",
          "Strongly oppose",
          "Somewhat oppose",
          "Strongly favor",
          "Strongly favor",
          "Strongly favor",
          "Strongly favor",
          "Somewhat favor",
          "Strongly favor",
          "Somewhat favor",
          "Somewhat favor",
          "Strongly oppose",
          "Somewhat favor",
          "Strongly favor",
          "Somewhat favor",
          "Strongly favor",
          "Strongly oppose",
          "Strongly oppose",
          "Somewhat favor",
          "Somewhat favor",
          "Somewhat oppose",
          "Strongly favor",
          "Somewhat favor",
          "Somewhat favor",
          "Strongly oppose",
          "Strongly favor",
          "Somewhat favor",
          "Somewhat favor",
          "Strongly favor",
          "Strongly favor",
          "Strongly favor",
          "Somewhat oppose",
          "Somewhat favor",
          "Somewhat favor",
          "Somewhat favor",
          "Somewhat favor",
          "Somewhat favor",
          "Somewhat favor",
          "Somewhat favor",
          "Somewhat favor",
          "Somewhat oppose",
          "Somewhat favor",
          "Strongly favor",
          "Somewhat oppose",
          "Somewhat oppose",
          "Somewhat favor",
          "Strongly oppose",
          "Somewhat favor",
          "Somewhat oppose",
          "Somewhat favor",
          "Strongly favor",
          "Strongly oppose",
          "Somewhat favor",
          "Somewhat favor",
          "Strongly oppose",
          "Somewhat favor",
          "Somewhat favor",
          "Somewhat favor",
          "Somewhat favor",
          "Somewhat favor",
          "Somewhat favor",
          "Somewhat favor",
          "Somewhat favor",
          "Somewhat favor",
          "Somewhat favor",
          "Somewhat favor",
          "Somewhat favor",
          "Strongly favor",
          "Strongly favor",
          "Somewhat favor",
          "Somewhat favor",
          "Somewhat oppose",
          "Somewhat oppose",
          "Somewhat favor",
          "Somewhat favor",
          "Strongly favor",
          "Somewhat favor",
          "Somewhat favor",
          "Somewhat oppose",
          "Somewhat oppose",
          "Somewhat favor",
          "Somewhat favor",
          "Strongly favor",
          "Somewhat favor",
          "Strongly favor",
          "Somewhat oppose",
          "Strongly favor",
          "Somewhat oppose",
          "Strongly favor",
          "Somewhat oppose",
          "Somewhat favor",
          "Somewhat favor",
          "Strongly favor",
          "Somewhat favor",
          "Strongly favor",
          "Strongly oppose",
          "Somewhat favor",
          "Strongly favor",
          "Strongly favor",
          "Strongly favor",
          "Somewhat favor",
          "Somewhat oppose",
          "Strongly oppose",
          "Strongly favor",
          "Somewhat favor",
          "Somewhat favor",
          "Somewhat oppose",
          "Somewhat favor",
          "Strongly favor",
          "Somewhat favor",
          "Somewhat favor",
          "Somewhat favor",
          "Strongly favor",
          "Somewhat favor",
          "Strongly oppose",
          "Somewhat favor",
          "Somewhat favor",
          "Strongly favor",
          "Strongly oppose",
          "Somewhat oppose",
          "Strongly favor",
          "Strongly favor",
          "Somewhat favor",
          "Strongly oppose",
          "Somewhat oppose",
          "Somewhat oppose",
          "Strongly oppose",
          "Strongly favor",
          "Somewhat favor",
          "Somewhat oppose"
         ],
         "xaxis": "x",
         "yaxis": "y"
        },
        {
         "alignmentgroup": "True",
         "bingroup": "x",
         "hovertemplate": "Q4=Some college, associate degree<br>Q10=%{x}<br>count=%{y}<extra></extra>",
         "legendgroup": "Some college, associate degree",
         "marker": {
          "color": "#FFA15A",
          "pattern": {
           "shape": ""
          }
         },
         "name": "Some college, associate degree",
         "offsetgroup": "Some college, associate degree",
         "orientation": "v",
         "showlegend": true,
         "type": "histogram",
         "x": [
          "Somewhat favor",
          "Strongly favor",
          "Somewhat oppose",
          "Somewhat favor",
          "Strongly favor",
          "Somewhat favor",
          "Somewhat oppose",
          "Strongly favor",
          "Somewhat favor",
          "Somewhat oppose",
          "Strongly favor",
          "Strongly favor",
          "Somewhat favor",
          "Somewhat favor",
          "Somewhat favor",
          "Strongly favor",
          "Somewhat favor",
          "Strongly oppose",
          "Somewhat favor",
          "Strongly favor",
          "Somewhat favor",
          "Strongly favor",
          "Somewhat oppose",
          "Somewhat oppose",
          "Somewhat oppose",
          "Somewhat favor",
          "Somewhat favor",
          "Strongly favor",
          "Somewhat favor",
          "Strongly favor",
          "Strongly favor",
          "Strongly favor",
          "Strongly favor",
          "Somewhat oppose",
          "Somewhat favor",
          "Somewhat favor",
          "Somewhat favor",
          "Somewhat favor",
          "Somewhat oppose",
          "Somewhat favor",
          "Somewhat favor",
          "Somewhat oppose",
          "Somewhat favor",
          "Strongly favor",
          "Strongly favor",
          "Somewhat oppose",
          "Somewhat favor",
          "Strongly favor",
          "Somewhat favor",
          "Somewhat favor",
          "Strongly favor",
          "Strongly favor",
          "Somewhat favor",
          "Strongly favor",
          "Somewhat favor",
          "Somewhat favor",
          "Somewhat favor",
          "Somewhat favor",
          "Somewhat favor",
          "Somewhat oppose",
          "Strongly favor",
          "Strongly favor",
          "Somewhat favor",
          "Strongly oppose",
          "Somewhat favor",
          "Strongly favor",
          "Somewhat favor",
          "Somewhat favor",
          "Somewhat favor",
          "Somewhat favor",
          "Somewhat favor",
          "Somewhat favor",
          "Somewhat favor",
          "Somewhat favor",
          "Somewhat favor",
          "Strongly favor",
          "Somewhat favor",
          "Strongly favor",
          "Somewhat favor",
          "Strongly oppose",
          "Somewhat favor",
          "Somewhat favor",
          "Strongly oppose",
          "Somewhat favor",
          "Somewhat favor",
          "Strongly favor",
          "Somewhat favor",
          "Somewhat favor",
          "Strongly favor",
          "Somewhat favor",
          "Strongly favor",
          "Somewhat favor",
          "Strongly favor",
          "Somewhat favor",
          "Somewhat favor",
          "Strongly favor",
          "Somewhat favor",
          "Strongly oppose",
          "Strongly favor",
          "Strongly favor",
          "Somewhat favor",
          "Somewhat favor",
          "Somewhat favor",
          "Strongly favor",
          "Strongly favor",
          "Strongly favor",
          "Strongly favor",
          "Strongly favor",
          "Somewhat favor",
          "Strongly oppose",
          "Strongly favor",
          "Strongly favor",
          "Somewhat oppose",
          "Strongly favor",
          "Somewhat favor",
          "Somewhat favor",
          "Strongly favor",
          "Somewhat oppose",
          "Somewhat favor",
          "Somewhat favor",
          "Somewhat favor",
          "Somewhat oppose",
          "Somewhat favor",
          "Strongly favor",
          "Somewhat oppose",
          "Strongly favor",
          "Strongly favor",
          "Strongly favor",
          "Somewhat favor",
          "Somewhat favor",
          "Somewhat favor",
          "Somewhat oppose",
          "Somewhat oppose",
          "Somewhat favor",
          "Somewhat favor",
          "Somewhat favor",
          "Somewhat favor",
          "Strongly oppose",
          "Somewhat favor",
          "Strongly favor",
          "Somewhat favor",
          "Somewhat favor",
          "Strongly favor",
          "Strongly favor",
          "Strongly favor",
          "Strongly favor",
          "Somewhat favor",
          "Strongly favor",
          "Somewhat favor",
          "Somewhat favor",
          "Somewhat favor",
          "Somewhat favor",
          "Somewhat favor",
          "Strongly favor",
          "Somewhat favor",
          "Strongly favor",
          "Somewhat oppose",
          "Strongly favor",
          "Somewhat favor",
          "Somewhat favor",
          "Somewhat oppose",
          "Somewhat oppose",
          "Somewhat favor",
          "Strongly favor",
          "Somewhat favor",
          "Strongly oppose",
          "Strongly favor",
          "Somewhat oppose",
          "Somewhat favor",
          "Somewhat favor",
          "Strongly favor",
          "Somewhat favor",
          "Somewhat favor",
          "Somewhat favor",
          "Somewhat favor",
          "Somewhat favor",
          "Somewhat favor",
          "Strongly favor",
          "Somewhat favor",
          "Somewhat favor",
          "Somewhat oppose",
          "Strongly favor",
          "Somewhat favor",
          "Strongly favor",
          "Strongly favor",
          "Somewhat favor",
          "Strongly favor",
          "Strongly favor",
          "Somewhat favor",
          "Somewhat favor",
          "Strongly favor",
          "Strongly oppose",
          "Somewhat favor",
          "Somewhat oppose",
          "Strongly favor",
          "Strongly oppose",
          "Somewhat oppose",
          "Somewhat favor",
          "Strongly favor",
          "Somewhat oppose",
          "Somewhat favor",
          "Somewhat oppose",
          "Somewhat oppose",
          "Somewhat favor",
          "Strongly favor",
          "Somewhat favor",
          "Strongly favor",
          "Somewhat favor",
          "Strongly favor",
          "Strongly favor",
          "Strongly favor",
          "Strongly favor",
          "Somewhat oppose",
          "Somewhat favor",
          "Strongly favor",
          "Strongly oppose",
          "Somewhat favor",
          "Somewhat oppose",
          "Somewhat favor",
          "Somewhat oppose",
          "Strongly oppose",
          "Strongly favor",
          "Somewhat favor",
          "Strongly favor",
          "Strongly favor",
          "Somewhat favor",
          "Somewhat oppose",
          "Somewhat favor",
          "Somewhat oppose",
          "Somewhat oppose",
          "Strongly favor",
          "Somewhat oppose",
          "Somewhat favor",
          "Strongly favor",
          "Strongly favor",
          "Somewhat favor",
          "Strongly favor",
          "Strongly oppose",
          "Somewhat favor",
          "Strongly favor",
          "Somewhat oppose",
          "Somewhat favor",
          "Somewhat favor",
          "Somewhat favor",
          "Somewhat favor",
          "Strongly favor",
          "Strongly favor",
          "Somewhat favor",
          "Somewhat favor",
          "Somewhat oppose",
          "Somewhat oppose",
          "Somewhat favor",
          "Strongly favor",
          "Somewhat oppose",
          "Somewhat favor",
          "Somewhat favor",
          "Somewhat favor",
          "Strongly favor",
          "Strongly favor",
          "Somewhat oppose"
         ],
         "xaxis": "x",
         "yaxis": "y"
        },
        {
         "alignmentgroup": "True",
         "bingroup": "x",
         "hovertemplate": "Q4=Technical/vocational school<br>Q10=%{x}<br>count=%{y}<extra></extra>",
         "legendgroup": "Technical/vocational school",
         "marker": {
          "color": "#19d3f3",
          "pattern": {
           "shape": ""
          }
         },
         "name": "Technical/vocational school",
         "offsetgroup": "Technical/vocational school",
         "orientation": "v",
         "showlegend": true,
         "type": "histogram",
         "x": [
          "Strongly favor",
          "Somewhat oppose",
          "Strongly favor",
          "Somewhat favor",
          "Somewhat oppose",
          "Strongly favor",
          "Strongly favor",
          "Somewhat favor",
          "Somewhat favor",
          "Strongly favor",
          "Somewhat favor",
          "Strongly favor",
          "Somewhat favor",
          "Strongly oppose",
          "Somewhat favor",
          "Strongly favor",
          "Somewhat favor",
          "Strongly favor",
          "Somewhat favor",
          "Somewhat favor",
          "Somewhat oppose",
          "Somewhat favor",
          "Strongly favor",
          "Somewhat favor",
          "Somewhat favor",
          "Somewhat oppose",
          "Somewhat favor",
          "Somewhat oppose",
          "Strongly favor",
          "Somewhat favor",
          "Somewhat oppose"
         ],
         "xaxis": "x",
         "yaxis": "y"
        }
       ],
       "layout": {
        "autosize": true,
        "barmode": "relative",
        "legend": {
         "title": {
          "text": "LEVEL OF EDUCATION"
         },
         "tracegroupgap": 0
        },
        "margin": {
         "t": 60
        },
        "template": {
         "data": {
          "bar": [
           {
            "error_x": {
             "color": "#2a3f5f"
            },
            "error_y": {
             "color": "#2a3f5f"
            },
            "marker": {
             "line": {
              "color": "#E5ECF6",
              "width": 0.5
             },
             "pattern": {
              "fillmode": "overlay",
              "size": 10,
              "solidity": 0.2
             }
            },
            "type": "bar"
           }
          ],
          "barpolar": [
           {
            "marker": {
             "line": {
              "color": "#E5ECF6",
              "width": 0.5
             },
             "pattern": {
              "fillmode": "overlay",
              "size": 10,
              "solidity": 0.2
             }
            },
            "type": "barpolar"
           }
          ],
          "carpet": [
           {
            "aaxis": {
             "endlinecolor": "#2a3f5f",
             "gridcolor": "white",
             "linecolor": "white",
             "minorgridcolor": "white",
             "startlinecolor": "#2a3f5f"
            },
            "baxis": {
             "endlinecolor": "#2a3f5f",
             "gridcolor": "white",
             "linecolor": "white",
             "minorgridcolor": "white",
             "startlinecolor": "#2a3f5f"
            },
            "type": "carpet"
           }
          ],
          "choropleth": [
           {
            "colorbar": {
             "outlinewidth": 0,
             "ticks": ""
            },
            "type": "choropleth"
           }
          ],
          "contour": [
           {
            "colorbar": {
             "outlinewidth": 0,
             "ticks": ""
            },
            "colorscale": [
             [
              0,
              "#0d0887"
             ],
             [
              0.1111111111111111,
              "#46039f"
             ],
             [
              0.2222222222222222,
              "#7201a8"
             ],
             [
              0.3333333333333333,
              "#9c179e"
             ],
             [
              0.4444444444444444,
              "#bd3786"
             ],
             [
              0.5555555555555556,
              "#d8576b"
             ],
             [
              0.6666666666666666,
              "#ed7953"
             ],
             [
              0.7777777777777778,
              "#fb9f3a"
             ],
             [
              0.8888888888888888,
              "#fdca26"
             ],
             [
              1,
              "#f0f921"
             ]
            ],
            "type": "contour"
           }
          ],
          "contourcarpet": [
           {
            "colorbar": {
             "outlinewidth": 0,
             "ticks": ""
            },
            "type": "contourcarpet"
           }
          ],
          "heatmap": [
           {
            "colorbar": {
             "outlinewidth": 0,
             "ticks": ""
            },
            "colorscale": [
             [
              0,
              "#0d0887"
             ],
             [
              0.1111111111111111,
              "#46039f"
             ],
             [
              0.2222222222222222,
              "#7201a8"
             ],
             [
              0.3333333333333333,
              "#9c179e"
             ],
             [
              0.4444444444444444,
              "#bd3786"
             ],
             [
              0.5555555555555556,
              "#d8576b"
             ],
             [
              0.6666666666666666,
              "#ed7953"
             ],
             [
              0.7777777777777778,
              "#fb9f3a"
             ],
             [
              0.8888888888888888,
              "#fdca26"
             ],
             [
              1,
              "#f0f921"
             ]
            ],
            "type": "heatmap"
           }
          ],
          "heatmapgl": [
           {
            "colorbar": {
             "outlinewidth": 0,
             "ticks": ""
            },
            "colorscale": [
             [
              0,
              "#0d0887"
             ],
             [
              0.1111111111111111,
              "#46039f"
             ],
             [
              0.2222222222222222,
              "#7201a8"
             ],
             [
              0.3333333333333333,
              "#9c179e"
             ],
             [
              0.4444444444444444,
              "#bd3786"
             ],
             [
              0.5555555555555556,
              "#d8576b"
             ],
             [
              0.6666666666666666,
              "#ed7953"
             ],
             [
              0.7777777777777778,
              "#fb9f3a"
             ],
             [
              0.8888888888888888,
              "#fdca26"
             ],
             [
              1,
              "#f0f921"
             ]
            ],
            "type": "heatmapgl"
           }
          ],
          "histogram": [
           {
            "marker": {
             "pattern": {
              "fillmode": "overlay",
              "size": 10,
              "solidity": 0.2
             }
            },
            "type": "histogram"
           }
          ],
          "histogram2d": [
           {
            "colorbar": {
             "outlinewidth": 0,
             "ticks": ""
            },
            "colorscale": [
             [
              0,
              "#0d0887"
             ],
             [
              0.1111111111111111,
              "#46039f"
             ],
             [
              0.2222222222222222,
              "#7201a8"
             ],
             [
              0.3333333333333333,
              "#9c179e"
             ],
             [
              0.4444444444444444,
              "#bd3786"
             ],
             [
              0.5555555555555556,
              "#d8576b"
             ],
             [
              0.6666666666666666,
              "#ed7953"
             ],
             [
              0.7777777777777778,
              "#fb9f3a"
             ],
             [
              0.8888888888888888,
              "#fdca26"
             ],
             [
              1,
              "#f0f921"
             ]
            ],
            "type": "histogram2d"
           }
          ],
          "histogram2dcontour": [
           {
            "colorbar": {
             "outlinewidth": 0,
             "ticks": ""
            },
            "colorscale": [
             [
              0,
              "#0d0887"
             ],
             [
              0.1111111111111111,
              "#46039f"
             ],
             [
              0.2222222222222222,
              "#7201a8"
             ],
             [
              0.3333333333333333,
              "#9c179e"
             ],
             [
              0.4444444444444444,
              "#bd3786"
             ],
             [
              0.5555555555555556,
              "#d8576b"
             ],
             [
              0.6666666666666666,
              "#ed7953"
             ],
             [
              0.7777777777777778,
              "#fb9f3a"
             ],
             [
              0.8888888888888888,
              "#fdca26"
             ],
             [
              1,
              "#f0f921"
             ]
            ],
            "type": "histogram2dcontour"
           }
          ],
          "mesh3d": [
           {
            "colorbar": {
             "outlinewidth": 0,
             "ticks": ""
            },
            "type": "mesh3d"
           }
          ],
          "parcoords": [
           {
            "line": {
             "colorbar": {
              "outlinewidth": 0,
              "ticks": ""
             }
            },
            "type": "parcoords"
           }
          ],
          "pie": [
           {
            "automargin": true,
            "type": "pie"
           }
          ],
          "scatter": [
           {
            "fillpattern": {
             "fillmode": "overlay",
             "size": 10,
             "solidity": 0.2
            },
            "type": "scatter"
           }
          ],
          "scatter3d": [
           {
            "line": {
             "colorbar": {
              "outlinewidth": 0,
              "ticks": ""
             }
            },
            "marker": {
             "colorbar": {
              "outlinewidth": 0,
              "ticks": ""
             }
            },
            "type": "scatter3d"
           }
          ],
          "scattercarpet": [
           {
            "marker": {
             "colorbar": {
              "outlinewidth": 0,
              "ticks": ""
             }
            },
            "type": "scattercarpet"
           }
          ],
          "scattergeo": [
           {
            "marker": {
             "colorbar": {
              "outlinewidth": 0,
              "ticks": ""
             }
            },
            "type": "scattergeo"
           }
          ],
          "scattergl": [
           {
            "marker": {
             "colorbar": {
              "outlinewidth": 0,
              "ticks": ""
             }
            },
            "type": "scattergl"
           }
          ],
          "scattermapbox": [
           {
            "marker": {
             "colorbar": {
              "outlinewidth": 0,
              "ticks": ""
             }
            },
            "type": "scattermapbox"
           }
          ],
          "scatterpolar": [
           {
            "marker": {
             "colorbar": {
              "outlinewidth": 0,
              "ticks": ""
             }
            },
            "type": "scatterpolar"
           }
          ],
          "scatterpolargl": [
           {
            "marker": {
             "colorbar": {
              "outlinewidth": 0,
              "ticks": ""
             }
            },
            "type": "scatterpolargl"
           }
          ],
          "scatterternary": [
           {
            "marker": {
             "colorbar": {
              "outlinewidth": 0,
              "ticks": ""
             }
            },
            "type": "scatterternary"
           }
          ],
          "surface": [
           {
            "colorbar": {
             "outlinewidth": 0,
             "ticks": ""
            },
            "colorscale": [
             [
              0,
              "#0d0887"
             ],
             [
              0.1111111111111111,
              "#46039f"
             ],
             [
              0.2222222222222222,
              "#7201a8"
             ],
             [
              0.3333333333333333,
              "#9c179e"
             ],
             [
              0.4444444444444444,
              "#bd3786"
             ],
             [
              0.5555555555555556,
              "#d8576b"
             ],
             [
              0.6666666666666666,
              "#ed7953"
             ],
             [
              0.7777777777777778,
              "#fb9f3a"
             ],
             [
              0.8888888888888888,
              "#fdca26"
             ],
             [
              1,
              "#f0f921"
             ]
            ],
            "type": "surface"
           }
          ],
          "table": [
           {
            "cells": {
             "fill": {
              "color": "#EBF0F8"
             },
             "line": {
              "color": "white"
             }
            },
            "header": {
             "fill": {
              "color": "#C8D4E3"
             },
             "line": {
              "color": "white"
             }
            },
            "type": "table"
           }
          ]
         },
         "layout": {
          "annotationdefaults": {
           "arrowcolor": "#2a3f5f",
           "arrowhead": 0,
           "arrowwidth": 1
          },
          "autotypenumbers": "strict",
          "coloraxis": {
           "colorbar": {
            "outlinewidth": 0,
            "ticks": ""
           }
          },
          "colorscale": {
           "diverging": [
            [
             0,
             "#8e0152"
            ],
            [
             0.1,
             "#c51b7d"
            ],
            [
             0.2,
             "#de77ae"
            ],
            [
             0.3,
             "#f1b6da"
            ],
            [
             0.4,
             "#fde0ef"
            ],
            [
             0.5,
             "#f7f7f7"
            ],
            [
             0.6,
             "#e6f5d0"
            ],
            [
             0.7,
             "#b8e186"
            ],
            [
             0.8,
             "#7fbc41"
            ],
            [
             0.9,
             "#4d9221"
            ],
            [
             1,
             "#276419"
            ]
           ],
           "sequential": [
            [
             0,
             "#0d0887"
            ],
            [
             0.1111111111111111,
             "#46039f"
            ],
            [
             0.2222222222222222,
             "#7201a8"
            ],
            [
             0.3333333333333333,
             "#9c179e"
            ],
            [
             0.4444444444444444,
             "#bd3786"
            ],
            [
             0.5555555555555556,
             "#d8576b"
            ],
            [
             0.6666666666666666,
             "#ed7953"
            ],
            [
             0.7777777777777778,
             "#fb9f3a"
            ],
            [
             0.8888888888888888,
             "#fdca26"
            ],
            [
             1,
             "#f0f921"
            ]
           ],
           "sequentialminus": [
            [
             0,
             "#0d0887"
            ],
            [
             0.1111111111111111,
             "#46039f"
            ],
            [
             0.2222222222222222,
             "#7201a8"
            ],
            [
             0.3333333333333333,
             "#9c179e"
            ],
            [
             0.4444444444444444,
             "#bd3786"
            ],
            [
             0.5555555555555556,
             "#d8576b"
            ],
            [
             0.6666666666666666,
             "#ed7953"
            ],
            [
             0.7777777777777778,
             "#fb9f3a"
            ],
            [
             0.8888888888888888,
             "#fdca26"
            ],
            [
             1,
             "#f0f921"
            ]
           ]
          },
          "colorway": [
           "#636efa",
           "#EF553B",
           "#00cc96",
           "#ab63fa",
           "#FFA15A",
           "#19d3f3",
           "#FF6692",
           "#B6E880",
           "#FF97FF",
           "#FECB52"
          ],
          "font": {
           "color": "#2a3f5f"
          },
          "geo": {
           "bgcolor": "white",
           "lakecolor": "white",
           "landcolor": "#E5ECF6",
           "showlakes": true,
           "showland": true,
           "subunitcolor": "white"
          },
          "hoverlabel": {
           "align": "left"
          },
          "hovermode": "closest",
          "mapbox": {
           "style": "light"
          },
          "paper_bgcolor": "white",
          "plot_bgcolor": "#E5ECF6",
          "polar": {
           "angularaxis": {
            "gridcolor": "white",
            "linecolor": "white",
            "ticks": ""
           },
           "bgcolor": "#E5ECF6",
           "radialaxis": {
            "gridcolor": "white",
            "linecolor": "white",
            "ticks": ""
           }
          },
          "scene": {
           "xaxis": {
            "backgroundcolor": "#E5ECF6",
            "gridcolor": "white",
            "gridwidth": 2,
            "linecolor": "white",
            "showbackground": true,
            "ticks": "",
            "zerolinecolor": "white"
           },
           "yaxis": {
            "backgroundcolor": "#E5ECF6",
            "gridcolor": "white",
            "gridwidth": 2,
            "linecolor": "white",
            "showbackground": true,
            "ticks": "",
            "zerolinecolor": "white"
           },
           "zaxis": {
            "backgroundcolor": "#E5ECF6",
            "gridcolor": "white",
            "gridwidth": 2,
            "linecolor": "white",
            "showbackground": true,
            "ticks": "",
            "zerolinecolor": "white"
           }
          },
          "shapedefaults": {
           "line": {
            "color": "#2a3f5f"
           }
          },
          "ternary": {
           "aaxis": {
            "gridcolor": "white",
            "linecolor": "white",
            "ticks": ""
           },
           "baxis": {
            "gridcolor": "white",
            "linecolor": "white",
            "ticks": ""
           },
           "bgcolor": "#E5ECF6",
           "caxis": {
            "gridcolor": "white",
            "linecolor": "white",
            "ticks": ""
           }
          },
          "title": {
           "x": 0.05
          },
          "xaxis": {
           "automargin": true,
           "gridcolor": "white",
           "linecolor": "white",
           "ticks": "",
           "title": {
            "standoff": 15
           },
           "zerolinecolor": "white",
           "zerolinewidth": 2
          },
          "yaxis": {
           "automargin": true,
           "gridcolor": "white",
           "linecolor": "white",
           "ticks": "",
           "title": {
            "standoff": 15
           },
           "zerolinecolor": "white",
           "zerolinewidth": 2
          }
         }
        },
        "xaxis": {
         "anchor": "y",
         "autorange": true,
         "categoryarray": [
          "Strongly oppose",
          "Somewhat oppose",
          "Somewhat favor",
          "Strongly favor"
         ],
         "categoryorder": "total ascending",
         "domain": [
          0,
          1
         ],
         "range": [
          -0.5,
          3.5
         ],
         "title": {
          "text": "FAVOR OR OPPOSE EXPANDING NUCLEAR PLANTS"
         },
         "type": "category"
        },
        "yaxis": {
         "anchor": "x",
         "autorange": true,
         "domain": [
          0,
          1
         ],
         "range": [
          0,
          460
         ],
         "title": {
          "text": "NUMBER OF RESPONSES"
         }
        }
       }
      },
      "image/png": "[encoded data removed]",
      "text/html": [
       "<div>                            <div id=\"7be336dc-80dd-48e3-b39f-37a716a2c77d\" class=\"plotly-graph-div\" style=\"height:525px; width:100%;\"></div>            <script type=\"text/javascript\">                require([\"plotly\"], function(Plotly) {                    window.PLOTLYENV=window.PLOTLYENV || {};                                    if (document.getElementById(\"7be336dc-80dd-48e3-b39f-37a716a2c77d\")) {                    Plotly.newPlot(                        \"7be336dc-80dd-48e3-b39f-37a716a2c77d\",                        [{\"alignmentgroup\":\"True\",\"bingroup\":\"x\",\"hovertemplate\":\"Q4=Graduated college, bachelor's degree<br>Q10=%{x}<br>count=%{y}<extra></extra>\",\"legendgroup\":\"Graduated college, bachelor's degree\",\"marker\":{\"color\":\"#636efa\",\"pattern\":{\"shape\":\"\"}},\"name\":\"Graduated college, bachelor's degree\",\"offsetgroup\":\"Graduated college, bachelor's degree\",\"orientation\":\"v\",\"showlegend\":true,\"x\":[\"Somewhat favor\",\"Somewhat favor\",\"Somewhat favor\",\"Somewhat favor\",\"Somewhat favor\",\"Strongly favor\",\"Strongly favor\",\"Somewhat favor\",\"Somewhat oppose\",\"Somewhat favor\",\"Somewhat oppose\",\"Strongly favor\",\"Somewhat favor\",\"Somewhat favor\",\"Somewhat oppose\",\"Somewhat favor\",\"Strongly favor\",\"Strongly favor\",\"Strongly favor\",\"Somewhat oppose\",\"Somewhat favor\",\"Somewhat oppose\",\"Somewhat favor\",\"Somewhat favor\",\"Strongly favor\",\"Somewhat oppose\",\"Somewhat favor\",\"Strongly favor\",\"Strongly favor\",\"Strongly favor\",\"Strongly favor\",\"Strongly favor\",\"Somewhat favor\",\"Strongly favor\",\"Somewhat favor\",\"Somewhat favor\",\"Somewhat favor\",\"Strongly favor\",\"Somewhat favor\",\"Strongly oppose\",\"Strongly oppose\",\"Somewhat favor\",\"Somewhat oppose\",\"Somewhat oppose\",\"Strongly favor\",\"Somewhat oppose\",\"Strongly favor\",\"Somewhat oppose\",\"Strongly favor\",\"Somewhat oppose\",\"Strongly favor\",\"Somewhat favor\",\"Somewhat favor\",\"Strongly favor\",\"Somewhat favor\",\"Somewhat favor\",\"Strongly favor\",\"Strongly oppose\",\"Strongly favor\",\"Somewhat favor\",\"Somewhat favor\",\"Strongly oppose\",\"Strongly oppose\",\"Somewhat favor\",\"Strongly favor\",\"Somewhat favor\",\"Somewhat favor\",\"Somewhat favor\",\"Somewhat favor\",\"Somewhat favor\",\"Strongly favor\",\"Somewhat oppose\",\"Strongly oppose\",\"Strongly oppose\",\"Somewhat favor\",\"Somewhat oppose\",\"Somewhat favor\",\"Somewhat favor\",\"Somewhat favor\",\"Strongly favor\",\"Strongly favor\",\"Strongly favor\",\"Somewhat oppose\",\"Strongly oppose\",\"Somewhat oppose\",\"Somewhat oppose\",\"Somewhat favor\",\"Strongly oppose\",\"Strongly favor\",\"Somewhat favor\",\"Somewhat favor\",\"Somewhat favor\",\"Somewhat favor\",\"Somewhat favor\",\"Strongly oppose\",\"Strongly favor\",\"Somewhat oppose\",\"Strongly favor\",\"Strongly favor\",\"Somewhat favor\",\"Somewhat oppose\",\"Strongly favor\",\"Strongly favor\",\"Strongly favor\",\"Somewhat favor\",\"Strongly favor\",\"Somewhat favor\",\"Somewhat favor\",\"Somewhat favor\",\"Somewhat favor\",\"Strongly favor\",\"Strongly favor\",\"Strongly oppose\",\"Somewhat favor\",\"Strongly oppose\",\"Somewhat oppose\",\"Somewhat favor\",\"Somewhat oppose\",\"Strongly favor\",\"Somewhat favor\",\"Strongly favor\",\"Strongly oppose\",\"Somewhat favor\",\"Somewhat favor\",\"Somewhat oppose\",\"Somewhat favor\",\"Somewhat favor\",\"Somewhat favor\",\"Somewhat favor\",\"Somewhat favor\",\"Strongly favor\",\"Strongly oppose\",\"Somewhat oppose\",\"Somewhat oppose\",\"Somewhat oppose\",\"Strongly favor\",\"Somewhat favor\",\"Strongly favor\",\"Strongly favor\",\"Somewhat favor\",\"Somewhat oppose\",\"Strongly favor\",\"Strongly favor\",\"Somewhat favor\",\"Strongly favor\",\"Strongly favor\",\"Somewhat favor\",\"Somewhat favor\",\"Somewhat favor\",\"Strongly oppose\",\"Somewhat favor\",\"Strongly favor\",\"Strongly favor\",\"Strongly favor\",\"Strongly favor\",\"Strongly favor\",\"Strongly favor\",\"Somewhat favor\",\"Somewhat favor\",\"Somewhat oppose\",\"Somewhat favor\",\"Strongly favor\",\"Somewhat favor\",\"Somewhat favor\",\"Strongly favor\",\"Somewhat favor\",\"Somewhat favor\",\"Somewhat favor\",\"Strongly favor\",\"Somewhat favor\",\"Somewhat favor\",\"Somewhat favor\",\"Strongly favor\",\"Somewhat favor\",\"Somewhat favor\",\"Somewhat favor\",\"Strongly favor\",\"Strongly favor\",\"Strongly favor\",\"Somewhat favor\",\"Somewhat favor\",\"Somewhat oppose\",\"Strongly oppose\",\"Somewhat favor\",\"Strongly favor\",\"Somewhat favor\",\"Strongly favor\",\"Strongly favor\",\"Strongly favor\",\"Somewhat favor\",\"Somewhat favor\",\"Somewhat favor\",\"Somewhat oppose\",\"Somewhat oppose\",\"Strongly favor\",\"Strongly oppose\",\"Strongly favor\",\"Strongly favor\",\"Strongly favor\",\"Strongly favor\",\"Somewhat favor\",\"Somewhat favor\",\"Somewhat oppose\",\"Strongly favor\",\"Strongly oppose\",\"Somewhat oppose\",\"Strongly favor\",\"Strongly favor\",\"Strongly favor\",\"Strongly favor\",\"Somewhat oppose\",\"Strongly favor\",\"Strongly favor\",\"Somewhat oppose\",\"Somewhat oppose\",\"Strongly favor\",\"Somewhat favor\",\"Somewhat favor\",\"Strongly favor\",\"Somewhat favor\",\"Somewhat favor\",\"Somewhat favor\",\"Somewhat oppose\",\"Strongly favor\",\"Strongly favor\",\"Strongly favor\",\"Strongly favor\",\"Somewhat favor\",\"Somewhat oppose\",\"Strongly favor\",\"Strongly favor\",\"Somewhat favor\",\"Strongly favor\",\"Somewhat favor\",\"Somewhat favor\",\"Somewhat favor\",\"Somewhat favor\",\"Strongly favor\",\"Strongly favor\",\"Somewhat oppose\",\"Somewhat favor\",\"Somewhat favor\",\"Somewhat favor\",\"Strongly oppose\",\"Strongly oppose\",\"Somewhat oppose\",\"Somewhat favor\",\"Somewhat favor\",\"Somewhat oppose\",\"Strongly oppose\",\"Somewhat oppose\",\"Strongly favor\",\"Somewhat favor\",\"Somewhat favor\",\"Strongly favor\",\"Somewhat favor\",\"Strongly oppose\",\"Somewhat favor\",\"Strongly favor\",\"Strongly oppose\",\"Somewhat favor\",\"Somewhat oppose\",\"Somewhat favor\",\"Somewhat favor\",\"Somewhat favor\",\"Strongly oppose\",\"Strongly favor\",\"Somewhat favor\",\"Somewhat oppose\",\"Somewhat oppose\",\"Strongly favor\",\"Somewhat oppose\",\"Somewhat favor\",\"Strongly favor\",\"Somewhat favor\",\"Somewhat favor\",\"Strongly favor\",\"Strongly favor\",\"Somewhat favor\",\"Somewhat favor\",\"Strongly favor\",\"Strongly favor\",\"Strongly oppose\",\"Strongly favor\",\"Strongly favor\",\"Strongly favor\",\"Strongly favor\",\"Strongly favor\",\"Somewhat oppose\",\"Strongly favor\",\"Strongly favor\",\"Somewhat oppose\",\"Strongly favor\",\"Strongly favor\",\"Strongly oppose\",\"Somewhat favor\",\"Strongly favor\",\"Somewhat favor\",\"Somewhat favor\",\"Strongly favor\",\"Somewhat oppose\",\"Somewhat favor\",\"Somewhat oppose\",\"Somewhat favor\",\"Strongly favor\",\"Somewhat oppose\",\"Somewhat favor\",\"Somewhat favor\",\"Somewhat oppose\",\"Strongly favor\",\"Somewhat favor\",\"Somewhat favor\",\"Somewhat oppose\",\"Somewhat favor\",\"Somewhat oppose\",\"Somewhat favor\",\"Somewhat favor\",\"Strongly oppose\",\"Strongly favor\",\"Strongly oppose\",\"Somewhat favor\",\"Strongly favor\",\"Somewhat favor\",\"Somewhat favor\",\"Strongly oppose\",\"Strongly favor\",\"Strongly favor\",\"Strongly favor\",\"Strongly favor\",\"Strongly oppose\",\"Strongly favor\",\"Somewhat oppose\",\"Strongly favor\",\"Strongly favor\",\"Somewhat oppose\",\"Somewhat favor\",\"Somewhat oppose\",\"Strongly favor\",\"Strongly favor\",\"Strongly favor\",\"Strongly favor\",\"Strongly favor\",\"Somewhat favor\",\"Somewhat favor\",\"Somewhat favor\",\"Strongly favor\",\"Somewhat favor\",\"Somewhat favor\",\"Strongly favor\",\"Strongly oppose\",\"Somewhat oppose\",\"Somewhat favor\",\"Somewhat favor\",\"Strongly oppose\",\"Strongly favor\",\"Somewhat oppose\",\"Strongly favor\",\"Strongly favor\",\"Strongly oppose\",\"Strongly favor\",\"Strongly favor\",\"Somewhat favor\",\"Strongly favor\",\"Somewhat favor\",\"Strongly favor\",\"Somewhat oppose\",\"Somewhat favor\",\"Strongly favor\",\"Somewhat oppose\",\"Strongly favor\",\"Somewhat favor\",\"Strongly favor\",\"Somewhat oppose\",\"Strongly favor\",\"Strongly favor\",\"Somewhat favor\",\"Somewhat favor\",\"Somewhat oppose\",\"Somewhat favor\",\"Somewhat favor\",\"Strongly favor\",\"Somewhat favor\",\"Strongly favor\",\"Somewhat favor\",\"Somewhat favor\",\"Somewhat favor\",\"Strongly favor\",\"Strongly oppose\",\"Somewhat favor\",\"Somewhat favor\",\"Strongly favor\",\"Somewhat favor\",\"Somewhat oppose\",\"Somewhat favor\",\"Strongly favor\",\"Somewhat oppose\",\"Somewhat favor\",\"Strongly favor\",\"Strongly favor\",\"Somewhat oppose\",\"Somewhat favor\",\"Somewhat favor\",\"Somewhat favor\",\"Strongly favor\",\"Somewhat favor\",\"Somewhat favor\",\"Somewhat favor\",\"Somewhat favor\",\"Strongly favor\",\"Strongly oppose\",\"Somewhat favor\",\"Somewhat favor\",\"Strongly favor\",\"Strongly favor\",\"Strongly favor\",\"Somewhat oppose\",\"Somewhat favor\",\"Somewhat oppose\",\"Strongly favor\",\"Somewhat favor\",\"Somewhat favor\",\"Somewhat favor\",\"Strongly favor\",\"Strongly favor\",\"Strongly favor\",\"Strongly favor\",\"Strongly favor\",\"Somewhat oppose\",\"Strongly favor\",\"Somewhat favor\",\"Strongly favor\",\"Strongly favor\",\"Strongly favor\",\"Strongly favor\",\"Somewhat oppose\",\"Strongly favor\",\"Somewhat favor\"],\"xaxis\":\"x\",\"yaxis\":\"y\",\"type\":\"histogram\"},{\"alignmentgroup\":\"True\",\"bingroup\":\"x\",\"hovertemplate\":\"Q4=Some high school or less<br>Q10=%{x}<br>count=%{y}<extra></extra>\",\"legendgroup\":\"Some high school or less\",\"marker\":{\"color\":\"#EF553B\",\"pattern\":{\"shape\":\"\"}},\"name\":\"Some high school or less\",\"offsetgroup\":\"Some high school or less\",\"orientation\":\"v\",\"showlegend\":true,\"x\":[\"Somewhat oppose\",\"Strongly oppose\",\"Somewhat oppose\",\"Strongly favor\",\"Somewhat favor\",\"Somewhat favor\",\"Strongly favor\",\"Somewhat favor\",\"Somewhat oppose\",\"Somewhat favor\",\"Somewhat oppose\",\"Somewhat favor\",\"Somewhat oppose\",\"Somewhat favor\",\"Somewhat oppose\",\"Strongly favor\",\"Somewhat favor\",\"Somewhat oppose\",\"Somewhat favor\",\"Somewhat favor\",\"Somewhat favor\",\"Strongly oppose\",\"Strongly favor\",\"Somewhat favor\"],\"xaxis\":\"x\",\"yaxis\":\"y\",\"type\":\"histogram\"},{\"alignmentgroup\":\"True\",\"bingroup\":\"x\",\"hovertemplate\":\"Q4=Graduate school<br>Q10=%{x}<br>count=%{y}<extra></extra>\",\"legendgroup\":\"Graduate school\",\"marker\":{\"color\":\"#00cc96\",\"pattern\":{\"shape\":\"\"}},\"name\":\"Graduate school\",\"offsetgroup\":\"Graduate school\",\"orientation\":\"v\",\"showlegend\":true,\"x\":[\"Strongly favor\",\"Somewhat favor\",\"Somewhat favor\",\"Somewhat favor\",\"Strongly oppose\",\"Strongly oppose\",\"Strongly favor\",\"Somewhat favor\",\"Strongly favor\",\"Somewhat favor\",\"Somewhat oppose\",\"Somewhat favor\",\"Somewhat favor\",\"Strongly favor\",\"Strongly favor\",\"Strongly favor\",\"Strongly favor\",\"Somewhat oppose\",\"Strongly favor\",\"Somewhat favor\",\"Strongly favor\",\"Somewhat favor\",\"Somewhat favor\",\"Strongly favor\",\"Somewhat favor\",\"Strongly oppose\",\"Somewhat favor\",\"Somewhat oppose\",\"Somewhat favor\",\"Strongly favor\",\"Somewhat oppose\",\"Somewhat favor\",\"Somewhat favor\",\"Somewhat oppose\",\"Somewhat favor\",\"Strongly favor\",\"Strongly favor\",\"Somewhat favor\",\"Somewhat favor\",\"Strongly favor\",\"Somewhat oppose\",\"Strongly favor\",\"Somewhat favor\"],\"xaxis\":\"x\",\"yaxis\":\"y\",\"type\":\"histogram\"},{\"alignmentgroup\":\"True\",\"bingroup\":\"x\",\"hovertemplate\":\"Q4=Graduated high school<br>Q10=%{x}<br>count=%{y}<extra></extra>\",\"legendgroup\":\"Graduated high school\",\"marker\":{\"color\":\"#ab63fa\",\"pattern\":{\"shape\":\"\"}},\"name\":\"Graduated high school\",\"offsetgroup\":\"Graduated high school\",\"orientation\":\"v\",\"showlegend\":true,\"x\":[\"Somewhat favor\",\"Strongly favor\",\"Somewhat favor\",\"Somewhat favor\",\"Somewhat favor\",\"Strongly favor\",\"Somewhat favor\",\"Somewhat favor\",\"Somewhat favor\",\"Somewhat favor\",\"Strongly oppose\",\"Somewhat favor\",\"Strongly favor\",\"Somewhat favor\",\"Somewhat favor\",\"Somewhat favor\",\"Somewhat oppose\",\"Strongly favor\",\"Strongly oppose\",\"Strongly favor\",\"Somewhat favor\",\"Somewhat favor\",\"Strongly favor\",\"Strongly oppose\",\"Strongly favor\",\"Strongly favor\",\"Somewhat oppose\",\"Somewhat favor\",\"Strongly favor\",\"Strongly favor\",\"Somewhat favor\",\"Somewhat oppose\",\"Strongly favor\",\"Strongly favor\",\"Somewhat oppose\",\"Somewhat oppose\",\"Somewhat favor\",\"Strongly favor\",\"Somewhat favor\",\"Strongly oppose\",\"Somewhat oppose\",\"Somewhat favor\",\"Somewhat favor\",\"Somewhat favor\",\"Strongly favor\",\"Somewhat oppose\",\"Strongly favor\",\"Somewhat oppose\",\"Somewhat oppose\",\"Somewhat favor\",\"Strongly favor\",\"Somewhat oppose\",\"Strongly favor\",\"Somewhat favor\",\"Somewhat favor\",\"Strongly favor\",\"Somewhat oppose\",\"Somewhat favor\",\"Somewhat favor\",\"Strongly favor\",\"Strongly favor\",\"Somewhat oppose\",\"Somewhat favor\",\"Strongly favor\",\"Strongly favor\",\"Somewhat favor\",\"Strongly favor\",\"Somewhat favor\",\"Somewhat favor\",\"Somewhat favor\",\"Somewhat oppose\",\"Strongly favor\",\"Somewhat favor\",\"Somewhat favor\",\"Somewhat favor\",\"Somewhat favor\",\"Strongly oppose\",\"Somewhat oppose\",\"Strongly favor\",\"Strongly favor\",\"Strongly favor\",\"Strongly favor\",\"Somewhat favor\",\"Strongly favor\",\"Somewhat favor\",\"Somewhat favor\",\"Strongly oppose\",\"Somewhat favor\",\"Strongly favor\",\"Somewhat favor\",\"Strongly favor\",\"Strongly oppose\",\"Strongly oppose\",\"Somewhat favor\",\"Somewhat favor\",\"Somewhat oppose\",\"Strongly favor\",\"Somewhat favor\",\"Somewhat favor\",\"Strongly oppose\",\"Strongly favor\",\"Somewhat favor\",\"Somewhat favor\",\"Strongly favor\",\"Strongly favor\",\"Strongly favor\",\"Somewhat oppose\",\"Somewhat favor\",\"Somewhat favor\",\"Somewhat favor\",\"Somewhat favor\",\"Somewhat favor\",\"Somewhat favor\",\"Somewhat favor\",\"Somewhat favor\",\"Somewhat oppose\",\"Somewhat favor\",\"Strongly favor\",\"Somewhat oppose\",\"Somewhat oppose\",\"Somewhat favor\",\"Strongly oppose\",\"Somewhat favor\",\"Somewhat oppose\",\"Somewhat favor\",\"Strongly favor\",\"Strongly oppose\",\"Somewhat favor\",\"Somewhat favor\",\"Strongly oppose\",\"Somewhat favor\",\"Somewhat favor\",\"Somewhat favor\",\"Somewhat favor\",\"Somewhat favor\",\"Somewhat favor\",\"Somewhat favor\",\"Somewhat favor\",\"Somewhat favor\",\"Somewhat favor\",\"Somewhat favor\",\"Somewhat favor\",\"Strongly favor\",\"Strongly favor\",\"Somewhat favor\",\"Somewhat favor\",\"Somewhat oppose\",\"Somewhat oppose\",\"Somewhat favor\",\"Somewhat favor\",\"Strongly favor\",\"Somewhat favor\",\"Somewhat favor\",\"Somewhat oppose\",\"Somewhat oppose\",\"Somewhat favor\",\"Somewhat favor\",\"Strongly favor\",\"Somewhat favor\",\"Strongly favor\",\"Somewhat oppose\",\"Strongly favor\",\"Somewhat oppose\",\"Strongly favor\",\"Somewhat oppose\",\"Somewhat favor\",\"Somewhat favor\",\"Strongly favor\",\"Somewhat favor\",\"Strongly favor\",\"Strongly oppose\",\"Somewhat favor\",\"Strongly favor\",\"Strongly favor\",\"Strongly favor\",\"Somewhat favor\",\"Somewhat oppose\",\"Strongly oppose\",\"Strongly favor\",\"Somewhat favor\",\"Somewhat favor\",\"Somewhat oppose\",\"Somewhat favor\",\"Strongly favor\",\"Somewhat favor\",\"Somewhat favor\",\"Somewhat favor\",\"Strongly favor\",\"Somewhat favor\",\"Strongly oppose\",\"Somewhat favor\",\"Somewhat favor\",\"Strongly favor\",\"Strongly oppose\",\"Somewhat oppose\",\"Strongly favor\",\"Strongly favor\",\"Somewhat favor\",\"Strongly oppose\",\"Somewhat oppose\",\"Somewhat oppose\",\"Strongly oppose\",\"Strongly favor\",\"Somewhat favor\",\"Somewhat oppose\"],\"xaxis\":\"x\",\"yaxis\":\"y\",\"type\":\"histogram\"},{\"alignmentgroup\":\"True\",\"bingroup\":\"x\",\"hovertemplate\":\"Q4=Some college, associate degree<br>Q10=%{x}<br>count=%{y}<extra></extra>\",\"legendgroup\":\"Some college, associate degree\",\"marker\":{\"color\":\"#FFA15A\",\"pattern\":{\"shape\":\"\"}},\"name\":\"Some college, associate degree\",\"offsetgroup\":\"Some college, associate degree\",\"orientation\":\"v\",\"showlegend\":true,\"x\":[\"Somewhat favor\",\"Strongly favor\",\"Somewhat oppose\",\"Somewhat favor\",\"Strongly favor\",\"Somewhat favor\",\"Somewhat oppose\",\"Strongly favor\",\"Somewhat favor\",\"Somewhat oppose\",\"Strongly favor\",\"Strongly favor\",\"Somewhat favor\",\"Somewhat favor\",\"Somewhat favor\",\"Strongly favor\",\"Somewhat favor\",\"Strongly oppose\",\"Somewhat favor\",\"Strongly favor\",\"Somewhat favor\",\"Strongly favor\",\"Somewhat oppose\",\"Somewhat oppose\",\"Somewhat oppose\",\"Somewhat favor\",\"Somewhat favor\",\"Strongly favor\",\"Somewhat favor\",\"Strongly favor\",\"Strongly favor\",\"Strongly favor\",\"Strongly favor\",\"Somewhat oppose\",\"Somewhat favor\",\"Somewhat favor\",\"Somewhat favor\",\"Somewhat favor\",\"Somewhat oppose\",\"Somewhat favor\",\"Somewhat favor\",\"Somewhat oppose\",\"Somewhat favor\",\"Strongly favor\",\"Strongly favor\",\"Somewhat oppose\",\"Somewhat favor\",\"Strongly favor\",\"Somewhat favor\",\"Somewhat favor\",\"Strongly favor\",\"Strongly favor\",\"Somewhat favor\",\"Strongly favor\",\"Somewhat favor\",\"Somewhat favor\",\"Somewhat favor\",\"Somewhat favor\",\"Somewhat favor\",\"Somewhat oppose\",\"Strongly favor\",\"Strongly favor\",\"Somewhat favor\",\"Strongly oppose\",\"Somewhat favor\",\"Strongly favor\",\"Somewhat favor\",\"Somewhat favor\",\"Somewhat favor\",\"Somewhat favor\",\"Somewhat favor\",\"Somewhat favor\",\"Somewhat favor\",\"Somewhat favor\",\"Somewhat favor\",\"Strongly favor\",\"Somewhat favor\",\"Strongly favor\",\"Somewhat favor\",\"Strongly oppose\",\"Somewhat favor\",\"Somewhat favor\",\"Strongly oppose\",\"Somewhat favor\",\"Somewhat favor\",\"Strongly favor\",\"Somewhat favor\",\"Somewhat favor\",\"Strongly favor\",\"Somewhat favor\",\"Strongly favor\",\"Somewhat favor\",\"Strongly favor\",\"Somewhat favor\",\"Somewhat favor\",\"Strongly favor\",\"Somewhat favor\",\"Strongly oppose\",\"Strongly favor\",\"Strongly favor\",\"Somewhat favor\",\"Somewhat favor\",\"Somewhat favor\",\"Strongly favor\",\"Strongly favor\",\"Strongly favor\",\"Strongly favor\",\"Strongly favor\",\"Somewhat favor\",\"Strongly oppose\",\"Strongly favor\",\"Strongly favor\",\"Somewhat oppose\",\"Strongly favor\",\"Somewhat favor\",\"Somewhat favor\",\"Strongly favor\",\"Somewhat oppose\",\"Somewhat favor\",\"Somewhat favor\",\"Somewhat favor\",\"Somewhat oppose\",\"Somewhat favor\",\"Strongly favor\",\"Somewhat oppose\",\"Strongly favor\",\"Strongly favor\",\"Strongly favor\",\"Somewhat favor\",\"Somewhat favor\",\"Somewhat favor\",\"Somewhat oppose\",\"Somewhat oppose\",\"Somewhat favor\",\"Somewhat favor\",\"Somewhat favor\",\"Somewhat favor\",\"Strongly oppose\",\"Somewhat favor\",\"Strongly favor\",\"Somewhat favor\",\"Somewhat favor\",\"Strongly favor\",\"Strongly favor\",\"Strongly favor\",\"Strongly favor\",\"Somewhat favor\",\"Strongly favor\",\"Somewhat favor\",\"Somewhat favor\",\"Somewhat favor\",\"Somewhat favor\",\"Somewhat favor\",\"Strongly favor\",\"Somewhat favor\",\"Strongly favor\",\"Somewhat oppose\",\"Strongly favor\",\"Somewhat favor\",\"Somewhat favor\",\"Somewhat oppose\",\"Somewhat oppose\",\"Somewhat favor\",\"Strongly favor\",\"Somewhat favor\",\"Strongly oppose\",\"Strongly favor\",\"Somewhat oppose\",\"Somewhat favor\",\"Somewhat favor\",\"Strongly favor\",\"Somewhat favor\",\"Somewhat favor\",\"Somewhat favor\",\"Somewhat favor\",\"Somewhat favor\",\"Somewhat favor\",\"Strongly favor\",\"Somewhat favor\",\"Somewhat favor\",\"Somewhat oppose\",\"Strongly favor\",\"Somewhat favor\",\"Strongly favor\",\"Strongly favor\",\"Somewhat favor\",\"Strongly favor\",\"Strongly favor\",\"Somewhat favor\",\"Somewhat favor\",\"Strongly favor\",\"Strongly oppose\",\"Somewhat favor\",\"Somewhat oppose\",\"Strongly favor\",\"Strongly oppose\",\"Somewhat oppose\",\"Somewhat favor\",\"Strongly favor\",\"Somewhat oppose\",\"Somewhat favor\",\"Somewhat oppose\",\"Somewhat oppose\",\"Somewhat favor\",\"Strongly favor\",\"Somewhat favor\",\"Strongly favor\",\"Somewhat favor\",\"Strongly favor\",\"Strongly favor\",\"Strongly favor\",\"Strongly favor\",\"Somewhat oppose\",\"Somewhat favor\",\"Strongly favor\",\"Strongly oppose\",\"Somewhat favor\",\"Somewhat oppose\",\"Somewhat favor\",\"Somewhat oppose\",\"Strongly oppose\",\"Strongly favor\",\"Somewhat favor\",\"Strongly favor\",\"Strongly favor\",\"Somewhat favor\",\"Somewhat oppose\",\"Somewhat favor\",\"Somewhat oppose\",\"Somewhat oppose\",\"Strongly favor\",\"Somewhat oppose\",\"Somewhat favor\",\"Strongly favor\",\"Strongly favor\",\"Somewhat favor\",\"Strongly favor\",\"Strongly oppose\",\"Somewhat favor\",\"Strongly favor\",\"Somewhat oppose\",\"Somewhat favor\",\"Somewhat favor\",\"Somewhat favor\",\"Somewhat favor\",\"Strongly favor\",\"Strongly favor\",\"Somewhat favor\",\"Somewhat favor\",\"Somewhat oppose\",\"Somewhat oppose\",\"Somewhat favor\",\"Strongly favor\",\"Somewhat oppose\",\"Somewhat favor\",\"Somewhat favor\",\"Somewhat favor\",\"Strongly favor\",\"Strongly favor\",\"Somewhat oppose\"],\"xaxis\":\"x\",\"yaxis\":\"y\",\"type\":\"histogram\"},{\"alignmentgroup\":\"True\",\"bingroup\":\"x\",\"hovertemplate\":\"Q4=Technical/vocational school<br>Q10=%{x}<br>count=%{y}<extra></extra>\",\"legendgroup\":\"Technical/vocational school\",\"marker\":{\"color\":\"#19d3f3\",\"pattern\":{\"shape\":\"\"}},\"name\":\"Technical/vocational school\",\"offsetgroup\":\"Technical/vocational school\",\"orientation\":\"v\",\"showlegend\":true,\"x\":[\"Strongly favor\",\"Somewhat oppose\",\"Strongly favor\",\"Somewhat favor\",\"Somewhat oppose\",\"Strongly favor\",\"Strongly favor\",\"Somewhat favor\",\"Somewhat favor\",\"Strongly favor\",\"Somewhat favor\",\"Strongly favor\",\"Somewhat favor\",\"Strongly oppose\",\"Somewhat favor\",\"Strongly favor\",\"Somewhat favor\",\"Strongly favor\",\"Somewhat favor\",\"Somewhat favor\",\"Somewhat oppose\",\"Somewhat favor\",\"Strongly favor\",\"Somewhat favor\",\"Somewhat favor\",\"Somewhat oppose\",\"Somewhat favor\",\"Somewhat oppose\",\"Strongly favor\",\"Somewhat favor\",\"Somewhat oppose\"],\"xaxis\":\"x\",\"yaxis\":\"y\",\"type\":\"histogram\"}],                        {\"template\":{\"data\":{\"histogram2dcontour\":[{\"type\":\"histogram2dcontour\",\"colorbar\":{\"outlinewidth\":0,\"ticks\":\"\"},\"colorscale\":[[0.0,\"#0d0887\"],[0.1111111111111111,\"#46039f\"],[0.2222222222222222,\"#7201a8\"],[0.3333333333333333,\"#9c179e\"],[0.4444444444444444,\"#bd3786\"],[0.5555555555555556,\"#d8576b\"],[0.6666666666666666,\"#ed7953\"],[0.7777777777777778,\"#fb9f3a\"],[0.8888888888888888,\"#fdca26\"],[1.0,\"#f0f921\"]]}],\"choropleth\":[{\"type\":\"choropleth\",\"colorbar\":{\"outlinewidth\":0,\"ticks\":\"\"}}],\"histogram2d\":[{\"type\":\"histogram2d\",\"colorbar\":{\"outlinewidth\":0,\"ticks\":\"\"},\"colorscale\":[[0.0,\"#0d0887\"],[0.1111111111111111,\"#46039f\"],[0.2222222222222222,\"#7201a8\"],[0.3333333333333333,\"#9c179e\"],[0.4444444444444444,\"#bd3786\"],[0.5555555555555556,\"#d8576b\"],[0.6666666666666666,\"#ed7953\"],[0.7777777777777778,\"#fb9f3a\"],[0.8888888888888888,\"#fdca26\"],[1.0,\"#f0f921\"]]}],\"heatmap\":[{\"type\":\"heatmap\",\"colorbar\":{\"outlinewidth\":0,\"ticks\":\"\"},\"colorscale\":[[0.0,\"#0d0887\"],[0.1111111111111111,\"#46039f\"],[0.2222222222222222,\"#7201a8\"],[0.3333333333333333,\"#9c179e\"],[0.4444444444444444,\"#bd3786\"],[0.5555555555555556,\"#d8576b\"],[0.6666666666666666,\"#ed7953\"],[0.7777777777777778,\"#fb9f3a\"],[0.8888888888888888,\"#fdca26\"],[1.0,\"#f0f921\"]]}],\"heatmapgl\":[{\"type\":\"heatmapgl\",\"colorbar\":{\"outlinewidth\":0,\"ticks\":\"\"},\"colorscale\":[[0.0,\"#0d0887\"],[0.1111111111111111,\"#46039f\"],[0.2222222222222222,\"#7201a8\"],[0.3333333333333333,\"#9c179e\"],[0.4444444444444444,\"#bd3786\"],[0.5555555555555556,\"#d8576b\"],[0.6666666666666666,\"#ed7953\"],[0.7777777777777778,\"#fb9f3a\"],[0.8888888888888888,\"#fdca26\"],[1.0,\"#f0f921\"]]}],\"contourcarpet\":[{\"type\":\"contourcarpet\",\"colorbar\":{\"outlinewidth\":0,\"ticks\":\"\"}}],\"contour\":[{\"type\":\"contour\",\"colorbar\":{\"outlinewidth\":0,\"ticks\":\"\"},\"colorscale\":[[0.0,\"#0d0887\"],[0.1111111111111111,\"#46039f\"],[0.2222222222222222,\"#7201a8\"],[0.3333333333333333,\"#9c179e\"],[0.4444444444444444,\"#bd3786\"],[0.5555555555555556,\"#d8576b\"],[0.6666666666666666,\"#ed7953\"],[0.7777777777777778,\"#fb9f3a\"],[0.8888888888888888,\"#fdca26\"],[1.0,\"#f0f921\"]]}],\"surface\":[{\"type\":\"surface\",\"colorbar\":{\"outlinewidth\":0,\"ticks\":\"\"},\"colorscale\":[[0.0,\"#0d0887\"],[0.1111111111111111,\"#46039f\"],[0.2222222222222222,\"#7201a8\"],[0.3333333333333333,\"#9c179e\"],[0.4444444444444444,\"#bd3786\"],[0.5555555555555556,\"#d8576b\"],[0.6666666666666666,\"#ed7953\"],[0.7777777777777778,\"#fb9f3a\"],[0.8888888888888888,\"#fdca26\"],[1.0,\"#f0f921\"]]}],\"mesh3d\":[{\"type\":\"mesh3d\",\"colorbar\":{\"outlinewidth\":0,\"ticks\":\"\"}}],\"scatter\":[{\"fillpattern\":{\"fillmode\":\"overlay\",\"size\":10,\"solidity\":0.2},\"type\":\"scatter\"}],\"parcoords\":[{\"type\":\"parcoords\",\"line\":{\"colorbar\":{\"outlinewidth\":0,\"ticks\":\"\"}}}],\"scatterpolargl\":[{\"type\":\"scatterpolargl\",\"marker\":{\"colorbar\":{\"outlinewidth\":0,\"ticks\":\"\"}}}],\"bar\":[{\"error_x\":{\"color\":\"#2a3f5f\"},\"error_y\":{\"color\":\"#2a3f5f\"},\"marker\":{\"line\":{\"color\":\"#E5ECF6\",\"width\":0.5},\"pattern\":{\"fillmode\":\"overlay\",\"size\":10,\"solidity\":0.2}},\"type\":\"bar\"}],\"scattergeo\":[{\"type\":\"scattergeo\",\"marker\":{\"colorbar\":{\"outlinewidth\":0,\"ticks\":\"\"}}}],\"scatterpolar\":[{\"type\":\"scatterpolar\",\"marker\":{\"colorbar\":{\"outlinewidth\":0,\"ticks\":\"\"}}}],\"histogram\":[{\"marker\":{\"pattern\":{\"fillmode\":\"overlay\",\"size\":10,\"solidity\":0.2}},\"type\":\"histogram\"}],\"scattergl\":[{\"type\":\"scattergl\",\"marker\":{\"colorbar\":{\"outlinewidth\":0,\"ticks\":\"\"}}}],\"scatter3d\":[{\"type\":\"scatter3d\",\"line\":{\"colorbar\":{\"outlinewidth\":0,\"ticks\":\"\"}},\"marker\":{\"colorbar\":{\"outlinewidth\":0,\"ticks\":\"\"}}}],\"scattermapbox\":[{\"type\":\"scattermapbox\",\"marker\":{\"colorbar\":{\"outlinewidth\":0,\"ticks\":\"\"}}}],\"scatterternary\":[{\"type\":\"scatterternary\",\"marker\":{\"colorbar\":{\"outlinewidth\":0,\"ticks\":\"\"}}}],\"scattercarpet\":[{\"type\":\"scattercarpet\",\"marker\":{\"colorbar\":{\"outlinewidth\":0,\"ticks\":\"\"}}}],\"carpet\":[{\"aaxis\":{\"endlinecolor\":\"#2a3f5f\",\"gridcolor\":\"white\",\"linecolor\":\"white\",\"minorgridcolor\":\"white\",\"startlinecolor\":\"#2a3f5f\"},\"baxis\":{\"endlinecolor\":\"#2a3f5f\",\"gridcolor\":\"white\",\"linecolor\":\"white\",\"minorgridcolor\":\"white\",\"startlinecolor\":\"#2a3f5f\"},\"type\":\"carpet\"}],\"table\":[{\"cells\":{\"fill\":{\"color\":\"#EBF0F8\"},\"line\":{\"color\":\"white\"}},\"header\":{\"fill\":{\"color\":\"#C8D4E3\"},\"line\":{\"color\":\"white\"}},\"type\":\"table\"}],\"barpolar\":[{\"marker\":{\"line\":{\"color\":\"#E5ECF6\",\"width\":0.5},\"pattern\":{\"fillmode\":\"overlay\",\"size\":10,\"solidity\":0.2}},\"type\":\"barpolar\"}],\"pie\":[{\"automargin\":true,\"type\":\"pie\"}]},\"layout\":{\"autotypenumbers\":\"strict\",\"colorway\":[\"#636efa\",\"#EF553B\",\"#00cc96\",\"#ab63fa\",\"#FFA15A\",\"#19d3f3\",\"#FF6692\",\"#B6E880\",\"#FF97FF\",\"#FECB52\"],\"font\":{\"color\":\"#2a3f5f\"},\"hovermode\":\"closest\",\"hoverlabel\":{\"align\":\"left\"},\"paper_bgcolor\":\"white\",\"plot_bgcolor\":\"#E5ECF6\",\"polar\":{\"bgcolor\":\"#E5ECF6\",\"angularaxis\":{\"gridcolor\":\"white\",\"linecolor\":\"white\",\"ticks\":\"\"},\"radialaxis\":{\"gridcolor\":\"white\",\"linecolor\":\"white\",\"ticks\":\"\"}},\"ternary\":{\"bgcolor\":\"#E5ECF6\",\"aaxis\":{\"gridcolor\":\"white\",\"linecolor\":\"white\",\"ticks\":\"\"},\"baxis\":{\"gridcolor\":\"white\",\"linecolor\":\"white\",\"ticks\":\"\"},\"caxis\":{\"gridcolor\":\"white\",\"linecolor\":\"white\",\"ticks\":\"\"}},\"coloraxis\":{\"colorbar\":{\"outlinewidth\":0,\"ticks\":\"\"}},\"colorscale\":{\"sequential\":[[0.0,\"#0d0887\"],[0.1111111111111111,\"#46039f\"],[0.2222222222222222,\"#7201a8\"],[0.3333333333333333,\"#9c179e\"],[0.4444444444444444,\"#bd3786\"],[0.5555555555555556,\"#d8576b\"],[0.6666666666666666,\"#ed7953\"],[0.7777777777777778,\"#fb9f3a\"],[0.8888888888888888,\"#fdca26\"],[1.0,\"#f0f921\"]],\"sequentialminus\":[[0.0,\"#0d0887\"],[0.1111111111111111,\"#46039f\"],[0.2222222222222222,\"#7201a8\"],[0.3333333333333333,\"#9c179e\"],[0.4444444444444444,\"#bd3786\"],[0.5555555555555556,\"#d8576b\"],[0.6666666666666666,\"#ed7953\"],[0.7777777777777778,\"#fb9f3a\"],[0.8888888888888888,\"#fdca26\"],[1.0,\"#f0f921\"]],\"diverging\":[[0,\"#8e0152\"],[0.1,\"#c51b7d\"],[0.2,\"#de77ae\"],[0.3,\"#f1b6da\"],[0.4,\"#fde0ef\"],[0.5,\"#f7f7f7\"],[0.6,\"#e6f5d0\"],[0.7,\"#b8e186\"],[0.8,\"#7fbc41\"],[0.9,\"#4d9221\"],[1,\"#276419\"]]},\"xaxis\":{\"gridcolor\":\"white\",\"linecolor\":\"white\",\"ticks\":\"\",\"title\":{\"standoff\":15},\"zerolinecolor\":\"white\",\"automargin\":true,\"zerolinewidth\":2},\"yaxis\":{\"gridcolor\":\"white\",\"linecolor\":\"white\",\"ticks\":\"\",\"title\":{\"standoff\":15},\"zerolinecolor\":\"white\",\"automargin\":true,\"zerolinewidth\":2},\"scene\":{\"xaxis\":{\"backgroundcolor\":\"#E5ECF6\",\"gridcolor\":\"white\",\"linecolor\":\"white\",\"showbackground\":true,\"ticks\":\"\",\"zerolinecolor\":\"white\",\"gridwidth\":2},\"yaxis\":{\"backgroundcolor\":\"#E5ECF6\",\"gridcolor\":\"white\",\"linecolor\":\"white\",\"showbackground\":true,\"ticks\":\"\",\"zerolinecolor\":\"white\",\"gridwidth\":2},\"zaxis\":{\"backgroundcolor\":\"#E5ECF6\",\"gridcolor\":\"white\",\"linecolor\":\"white\",\"showbackground\":true,\"ticks\":\"\",\"zerolinecolor\":\"white\",\"gridwidth\":2}},\"shapedefaults\":{\"line\":{\"color\":\"#2a3f5f\"}},\"annotationdefaults\":{\"arrowcolor\":\"#2a3f5f\",\"arrowhead\":0,\"arrowwidth\":1},\"geo\":{\"bgcolor\":\"white\",\"landcolor\":\"#E5ECF6\",\"subunitcolor\":\"white\",\"showland\":true,\"showlakes\":true,\"lakecolor\":\"white\"},\"title\":{\"x\":0.05},\"mapbox\":{\"style\":\"light\"}}},\"xaxis\":{\"anchor\":\"y\",\"domain\":[0.0,1.0],\"title\":{\"text\":\"FAVOR OR OPPOSE EXPANDING NUCLEAR PLANTS\"},\"categoryorder\":\"total ascending\",\"categoryarray\":[\"Strongly oppose\",\"Somewhat oppose\",\"Somewhat favor\",\"Strongly favor\"]},\"yaxis\":{\"anchor\":\"x\",\"domain\":[0.0,1.0],\"title\":{\"text\":\"NUMBER OF RESPONSES\"}},\"legend\":{\"title\":{\"text\":\"LEVEL OF EDUCATION\"},\"tracegroupgap\":0},\"margin\":{\"t\":60},\"barmode\":\"relative\"},                        {\"responsive\": true}                    ).then(function(){\n",
       "                            \n",
       "var gd = document.getElementById('7be336dc-80dd-48e3-b39f-37a716a2c77d');\n",
       "var x = new MutationObserver(function (mutations, observer) {{\n",
       "        var display = window.getComputedStyle(gd).display;\n",
       "        if (!display || display === 'none') {{\n",
       "            console.log([gd, 'removed!']);\n",
       "            Plotly.purge(gd);\n",
       "            observer.disconnect();\n",
       "        }}\n",
       "}});\n",
       "\n",
       "// Listen for the removal of the full notebook cells\n",
       "var notebookContainer = gd.closest('#notebook-container');\n",
       "if (notebookContainer) {{\n",
       "    x.observe(notebookContainer, {childList: true});\n",
       "}}\n",
       "\n",
       "// Listen for the clearing of the current output cell\n",
       "var outputEl = gd.closest('.output');\n",
       "if (outputEl) {{\n",
       "    x.observe(outputEl, {childList: true});\n",
       "}}\n",
       "\n",
       "                        })                };                });            </script>        </div>"
      ]
     },
     "metadata": {},
     "output_type": "display_data"
    }
   ],
   "source": [
    "fig = px.histogram(dataframe1, x=\"Q10\", color=\"Q4\").update_xaxes(categoryorder='array', categoryarray=[\"Strongly oppose\", \"Somewhat oppose\", \"Somewhat favor\", \"Strongly favor\"]).update_xaxes(categoryorder='total ascending').update_layout(\n",
    "xaxis_title=\"FAVOR OR OPPOSE EXPANDING NUCLEAR PLANTS\", yaxis_title=\"NUMBER OF RESPONSES\", legend_title=\"LEVEL OF EDUCATION\",\n",
    ")\n",
    "fig.show()"
   ]
  }
 ],
 "metadata": {
  "kernelspec": {
   "display_name": "Python 3 (ipykernel)",
   "language": "python",
   "name": "python3"
  },
  "language_info": {
   "codemirror_mode": {
    "name": "ipython",
    "version": 3
   },
   "file_extension": ".py",
   "mimetype": "text/x-python",
   "name": "python",
   "nbconvert_exporter": "python",
   "pygments_lexer": "ipython3",
   "version": "3.10.7"
  }
 },
 "nbformat": 4,
 "nbformat_minor": 5
}
