{
 "cells": [
  {
   "cell_type": "code",
   "execution_count": 7,
   "id": "34e72753-2cb6-4e4e-aa89-d31942d4e6c3",
   "metadata": {},
   "outputs": [],
   "source": [
    "import datetime\n",
    "\n",
    "from tweetkit.auth import BearerTokenAuth\n",
    "from tweetkit.client import TwitterClient"
   ]
  },
  {
   "cell_type": "code",
   "execution_count": 8,
   "id": "9aaf092d-395b-4ab9-801a-d45e254362c4",
   "metadata": {},
   "outputs": [],
   "source": [
    "with open('secrets/bearer_token.txt', 'r', encoding='utf-8') as fp:\n",
    "        auth = BearerTokenAuth(fp.read())\n",
    "        assert len(auth.bearer_token) > 0, 'Unable to load the bearer token.'\n"
   ]
  },
  {
   "cell_type": "code",
   "execution_count": 9,
   "id": "2def1e54-6038-429b-85d8-243b8071b80d",
   "metadata": {},
   "outputs": [],
   "source": [
    "client = TwitterClient(auth=auth)\n",
    "\n",
    "start_time = '2022-09-30T00:00:01Z'\n",
    "end_time = '2022-09-30T12:00:00Z'\n",
    "\n",
    "paginator = client.tweets.tweets_fullarchive_search(\n",
    "        '(#Ian OR \"Hurricane Ian\" OR #HurricaneIan) -is:retweet has:videos',\n",
    "        start_time=start_time,\n",
    "        end_time=end_time,\n",
    "        max_results=100,\n",
    "        paginate=True,\n",
    ")\n",
    "\n",
    "tweets = []\n"
   ]
  },
  {
   "cell_type": "code",
   "execution_count": 10,
   "id": "af3aced9-994f-49b8-932b-ab92ce49c00d",
   "metadata": {},
   "outputs": [],
   "source": [
    "start_time = datetime.datetime.strptime(start_time, '%Y-%m-%dT%H:%M:%SZ')\n",
    "end_time = datetime.datetime.strptime(end_time, '%Y-%m-%dT%H:%M:%SZ')\n",
    "percentage_remaining = 0.0\n",
    "total_period = (end_time - start_time).total_seconds()"
   ]
  },
  {
   "cell_type": "code",
   "execution_count": 11,
   "id": "1546dca9-a3a8-4073-9688-ec8cdc2786f3",
   "metadata": {},
   "outputs": [
    {
     "ename": "TwitterProblem",
     "evalue": "When authenticating requests to the Twitter API v2 endpoints, you must use keys and tokens from a Twitter developer App that is attached to a Project. You can create a project via the developer portal.",
     "output_type": "error",
     "traceback": [
      "\u001b[0;31m---------------------------------------------------------------------------\u001b[0m",
      "\u001b[0;31mTwitterProblem\u001b[0m                            Traceback (most recent call last)",
      "Input \u001b[0;32mIn [11]\u001b[0m, in \u001b[0;36m<cell line: 1>\u001b[0;34m()\u001b[0m\n\u001b[0;32m----> 1\u001b[0m \u001b[38;5;28;01mfor\u001b[39;00m tweet \u001b[38;5;129;01min\u001b[39;00m paginator\u001b[38;5;241m.\u001b[39mcontent:\n\u001b[1;32m      2\u001b[0m         created_at \u001b[38;5;241m=\u001b[39m datetime\u001b[38;5;241m.\u001b[39mdatetime\u001b[38;5;241m.\u001b[39mstrptime(tweet[\u001b[38;5;124m'\u001b[39m\u001b[38;5;124mdata\u001b[39m\u001b[38;5;124m'\u001b[39m][\u001b[38;5;124m'\u001b[39m\u001b[38;5;124mcreated_at\u001b[39m\u001b[38;5;124m'\u001b[39m], \u001b[38;5;124m'\u001b[39m\u001b[38;5;124m%\u001b[39m\u001b[38;5;124mY-\u001b[39m\u001b[38;5;124m%\u001b[39m\u001b[38;5;124mm-\u001b[39m\u001b[38;5;132;01m%d\u001b[39;00m\u001b[38;5;124mT\u001b[39m\u001b[38;5;124m%\u001b[39m\u001b[38;5;124mH:\u001b[39m\u001b[38;5;124m%\u001b[39m\u001b[38;5;124mM:\u001b[39m\u001b[38;5;124m%\u001b[39m\u001b[38;5;124mS.\u001b[39m\u001b[38;5;132;01m%f\u001b[39;00m\u001b[38;5;124mZ\u001b[39m\u001b[38;5;124m'\u001b[39m)\n\u001b[1;32m      3\u001b[0m         tweets\u001b[38;5;241m.\u001b[39mappend(tweet)\n",
      "File \u001b[0;32m~/.local/lib/python3.10/site-packages/tweetkit/models/paginator.py:42\u001b[0m, in \u001b[0;36mPaginator.content\u001b[0;34m(self)\u001b[0m\n\u001b[1;32m     39\u001b[0m \u001b[38;5;129m@property\u001b[39m\n\u001b[1;32m     40\u001b[0m \u001b[38;5;28;01mdef\u001b[39;00m \u001b[38;5;21mcontent\u001b[39m(\u001b[38;5;28mself\u001b[39m):\n\u001b[1;32m     41\u001b[0m     \u001b[38;5;124;03m\"\"\"Iterator of objects.\"\"\"\u001b[39;00m\n\u001b[0;32m---> 42\u001b[0m     \u001b[38;5;28;01mfor\u001b[39;00m response \u001b[38;5;129;01min\u001b[39;00m \u001b[38;5;28mself\u001b[39m:\n\u001b[1;32m     43\u001b[0m         content \u001b[38;5;241m=\u001b[39m response\u001b[38;5;241m.\u001b[39mcontent\n\u001b[1;32m     44\u001b[0m         \u001b[38;5;28;01mif\u001b[39;00m \u001b[38;5;28misinstance\u001b[39m(content, collections\u001b[38;5;241m.\u001b[39mMapping):\n",
      "File \u001b[0;32m~/.local/lib/python3.10/site-packages/tweetkit/models/paginator.py:25\u001b[0m, in \u001b[0;36mPaginator.__next__\u001b[0;34m(self)\u001b[0m\n\u001b[1;32m     23\u001b[0m     resp \u001b[38;5;241m=\u001b[39m \u001b[38;5;28mself\u001b[39m\u001b[38;5;241m.\u001b[39mrequest\u001b[38;5;241m.\u001b[39msend()\n\u001b[1;32m     24\u001b[0m \u001b[38;5;28;01mexcept\u001b[39;00m \u001b[38;5;167;01mException\u001b[39;00m \u001b[38;5;28;01mas\u001b[39;00m ex:\n\u001b[0;32m---> 25\u001b[0m     \u001b[38;5;28;01mraise\u001b[39;00m ex\n\u001b[1;32m     26\u001b[0m \u001b[38;5;28;01melse\u001b[39;00m:\n\u001b[1;32m     27\u001b[0m     \u001b[38;5;28mself\u001b[39m\u001b[38;5;241m.\u001b[39mnext_token \u001b[38;5;241m=\u001b[39m resp\u001b[38;5;241m.\u001b[39mmeta\u001b[38;5;241m.\u001b[39mget(\u001b[38;5;124m'\u001b[39m\u001b[38;5;124mnext_token\u001b[39m\u001b[38;5;124m'\u001b[39m)\n",
      "File \u001b[0;32m~/.local/lib/python3.10/site-packages/tweetkit/models/paginator.py:23\u001b[0m, in \u001b[0;36mPaginator.__next__\u001b[0;34m(self)\u001b[0m\n\u001b[1;32m     21\u001b[0m \u001b[38;5;28;01mtry\u001b[39;00m:\n\u001b[1;32m     22\u001b[0m     \u001b[38;5;28mself\u001b[39m\u001b[38;5;241m.\u001b[39mrequest\u001b[38;5;241m.\u001b[39mquery[\u001b[38;5;124m'\u001b[39m\u001b[38;5;124mnext_token\u001b[39m\u001b[38;5;124m'\u001b[39m] \u001b[38;5;241m=\u001b[39m \u001b[38;5;28mself\u001b[39m\u001b[38;5;241m.\u001b[39mnext_token\n\u001b[0;32m---> 23\u001b[0m     resp \u001b[38;5;241m=\u001b[39m \u001b[38;5;28;43mself\u001b[39;49m\u001b[38;5;241;43m.\u001b[39;49m\u001b[43mrequest\u001b[49m\u001b[38;5;241;43m.\u001b[39;49m\u001b[43msend\u001b[49m\u001b[43m(\u001b[49m\u001b[43m)\u001b[49m\n\u001b[1;32m     24\u001b[0m \u001b[38;5;28;01mexcept\u001b[39;00m \u001b[38;5;167;01mException\u001b[39;00m \u001b[38;5;28;01mas\u001b[39;00m ex:\n\u001b[1;32m     25\u001b[0m     \u001b[38;5;28;01mraise\u001b[39;00m ex\n",
      "File \u001b[0;32m~/.local/lib/python3.10/site-packages/tweetkit/models/request.py:149\u001b[0m, in \u001b[0;36mTwitterRequest.send\u001b[0;34m(self, paginate)\u001b[0m\n\u001b[1;32m    147\u001b[0m         error \u001b[38;5;241m=\u001b[39m ProblemOrError(r)\n\u001b[1;32m    148\u001b[0m     \u001b[38;5;28;01mif\u001b[39;00m error \u001b[38;5;129;01mis\u001b[39;00m \u001b[38;5;129;01mnot\u001b[39;00m \u001b[38;5;28;01mNone\u001b[39;00m:\n\u001b[0;32m--> 149\u001b[0m         \u001b[38;5;28;01mraise\u001b[39;00m error\n\u001b[1;32m    150\u001b[0m \u001b[38;5;28;01mraise\u001b[39;00m TwitterRequestException(r)\n",
      "\u001b[0;31mTwitterProblem\u001b[0m: When authenticating requests to the Twitter API v2 endpoints, you must use keys and tokens from a Twitter developer App that is attached to a Project. You can create a project via the developer portal."
     ]
    }
   ],
   "source": [
    "\n",
    "for tweet in paginator.content:\n",
    "        created_at = datetime.datetime.strptime(tweet['data']['created_at'], '%Y-%m-%dT%H:%M:%S.%fZ')\n",
    "        tweets.append(tweet)\n",
    "        remaining_period = (end_time - created_at).total_seconds()\n",
    "        percentage_remaining = round(remaining_period * 100 / total_period, 2)\n",
    "        print('\\rTweet Count: {:3.0f}%, {}'.format(percentage_remaining, len(tweets)), end='')\n",
    "if percentage_remaining != 100.00:\n",
    "        print('\\rTweet Count: {:3.0f}%, {}'.format(100.00, len(tweets)), end='')\n"
   ]
  },
  {
   "cell_type": "code",
   "execution_count": null,
   "id": "d4d6e45b-e51e-423a-8112-9ea1af9f7444",
   "metadata": {},
   "outputs": [],
   "source": [
    "print(tweets)"
   ]
  },
  {
   "cell_type": "code",
   "execution_count": null,
   "id": "74fff592-1afa-47c2-ac70-8109e51e364b",
   "metadata": {},
   "outputs": [],
   "source": [
    "import datetime\n",
    "\n",
    "from tweetkit.auth import BearerTokenAuth\n",
    "from tweetkit.client import TwitterClient\n",
    "\n",
    "with open('secrets/bearer_token.txt', 'r', encoding='utf-8') as fp:\n",
    "    auth = BearerTokenAuth(fp.read())\n",
    "    assert len(auth.bearer_token) > 0, 'Unable to load the bearer token.'\n",
    "\n",
    "client = TwitterClient(auth=auth)\n",
    "\n",
    "start_time = '2022-09-30T00:00:01Z'\n",
    "end_time = '2022-09-30T12:00:00Z'\n",
    "\n",
    "paginator = client.tweets.tweets_fullarchive_search(\n",
    "    '(#Ian OR \"Hurricane Ian\" OR #HurricaneIan) -is:retweet has:videos',\n",
    "    start_time=start_time,\n",
    "    end_time=end_time,\n",
    "    max_results=100,\n",
    "    paginate=True,\n",
    ")\n",
    "\n",
    "tweets = []\n",
    "\n",
    "start_time = datetime.datetime.strptime(start_time, '%Y-%m-%dT%H:%M:%SZ')\n",
    "end_time = datetime.datetime.strptime(end_time, '%Y-%m-%dT%H:%M:%SZ')\n",
    "percentage_remaining = 0.0\n",
    "total_period = (end_time - start_time).total_seconds()\n",
    "for tweet in paginator.content:\n",
    "    created_at = datetime.datetime.strptime(tweet['data']['created_at'], '%Y-%m-%dT%H:%M:%S.%fZ')\n",
    "    tweets.append(tweet)\n",
    "    remaining_period = (end_time - created_at).total_seconds()\n",
    "    percentage_remaining = round(remaining_period * 100 / total_period, 2)\n",
    "    print('\\rTweet Count: {:3.0f}%, {}'.format(percentage_remaining, len(tweets)), end='')\n",
    "if percentage_remaining != 100.00:\n",
    "    print('\\rTweet Count: {:3.0f}%, {}'.format(100.00, len(tweets)), end='')\n",
    "\n",
    "print(tweets)\n",
    "Footer\n"
   ]
  }
 ],
 "metadata": {
  "kernelspec": {
   "display_name": "Python 3 (ipykernel)",
   "language": "python",
   "name": "python3"
  },
  "language_info": {
   "codemirror_mode": {
    "name": "ipython",
    "version": 3
   },
   "file_extension": ".py",
   "mimetype": "text/x-python",
   "name": "python",
   "nbconvert_exporter": "python",
   "pygments_lexer": "ipython3",
   "version": "3.10.7"
  }
 },
 "nbformat": 4,
 "nbformat_minor": 5
}
